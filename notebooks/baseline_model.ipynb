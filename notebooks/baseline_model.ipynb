{
 "cells": [
  {
   "cell_type": "code",
   "id": "initial_id",
   "metadata": {
    "collapsed": true,
    "ExecuteTime": {
     "end_time": "2025-06-03T10:22:43.176421Z",
     "start_time": "2025-06-03T10:22:43.173394Z"
    }
   },
   "source": [
    "import pandas as pd\n",
    "import tensorflow as tf\n",
    "from tensorflow.keras import layers, models, regularizers\n",
    "from tensorflow.keras.callbacks import EarlyStopping\n",
    "import matplotlib.pyplot as plt"
   ],
   "outputs": [],
   "execution_count": 71
  },
  {
   "metadata": {
    "ExecuteTime": {
     "end_time": "2025-06-03T09:21:53.119566Z",
     "start_time": "2025-06-03T09:21:52.105463Z"
    }
   },
   "cell_type": "code",
   "source": "df = pd.read_csv('../raw_data/archive/hmnist_28_28_RGB.csv')",
   "id": "6945d4d0140a5d76",
   "outputs": [],
   "execution_count": 2
  },
  {
   "metadata": {
    "ExecuteTime": {
     "end_time": "2025-06-03T09:27:33.101709Z",
     "start_time": "2025-06-03T09:27:33.098227Z"
    }
   },
   "cell_type": "code",
   "source": "df.columns",
   "id": "32533d415ca47cbf",
   "outputs": [
    {
     "data": {
      "text/plain": [
       "Index(['pixel0000', 'pixel0001', 'pixel0002', 'pixel0003', 'pixel0004',\n",
       "       'pixel0005', 'pixel0006', 'pixel0007', 'pixel0008', 'pixel0009',\n",
       "       ...\n",
       "       'pixel2343', 'pixel2344', 'pixel2345', 'pixel2346', 'pixel2347',\n",
       "       'pixel2348', 'pixel2349', 'pixel2350', 'pixel2351', 'label'],\n",
       "      dtype='object', length=2353)"
      ]
     },
     "execution_count": 6,
     "metadata": {},
     "output_type": "execute_result"
    }
   ],
   "execution_count": 6
  },
  {
   "metadata": {
    "ExecuteTime": {
     "end_time": "2025-06-03T09:28:14.146462Z",
     "start_time": "2025-06-03T09:28:14.116536Z"
    }
   },
   "cell_type": "code",
   "source": [
    "X_val =\n",
    "y_val =\n",
    "\n",
    "X = df.drop(columns=['label'])\n",
    "y = df['label']"
   ],
   "id": "d284b7e3d098d81f",
   "outputs": [],
   "execution_count": 8
  },
  {
   "metadata": {
    "ExecuteTime": {
     "end_time": "2025-06-03T09:57:49.753609Z",
     "start_time": "2025-06-03T09:57:49.745368Z"
    }
   },
   "cell_type": "code",
   "source": "X.shape",
   "id": "5f83c4d1de3bcfe9",
   "outputs": [
    {
     "data": {
      "text/plain": [
       "(10015, 2352)"
      ]
     },
     "execution_count": 41,
     "metadata": {},
     "output_type": "execute_result"
    }
   ],
   "execution_count": 41
  },
  {
   "metadata": {
    "ExecuteTime": {
     "end_time": "2025-06-03T09:28:45.491616Z",
     "start_time": "2025-06-03T09:28:45.427979Z"
    }
   },
   "cell_type": "code",
   "source": "X = X/255.0",
   "id": "9fdbdf4279516fcb",
   "outputs": [],
   "execution_count": 11
  },
  {
   "metadata": {
    "ExecuteTime": {
     "end_time": "2025-06-03T10:39:53.262443Z",
     "start_time": "2025-06-03T10:39:53.214004Z"
    }
   },
   "cell_type": "code",
   "source": [
    "#Model Architecture ---\n",
    "model = models.Sequential()\n",
    "\n",
    "# Input Layer\n",
    "model.add(layers.Input(shape=(28, 28, 3)))\n",
    "\n",
    "# Conv Block 1\n",
    "model.add(layers.Conv2D(32, (3, 3), activation='relu', padding='same'))\n",
    "model.add(layers.BatchNormalization())\n",
    "model.add(layers.MaxPooling2D((2, 2)))\n",
    "\n",
    "# Conv Block 2\n",
    "# model.add(layers.Conv2D(64, (3, 3), activation='relu', padding='same'))\n",
    "# model.add(layers.BatchNormalization())\n",
    "# model.add(layers.MaxPooling2D((2, 2)))\n",
    "\n",
    "# # Conv Block 3\n",
    "model.add(layers.Conv2D(64, (3, 3), activation='relu', padding='same'))\n",
    "model.add(layers.BatchNormalization())\n",
    "model.add(layers.MaxPooling2D((2, 2)))\n",
    "model.add(layers.Dropout(0.3))  # Regularization\n",
    "\n",
    "# Flatten & Dense\n",
    "model.add(layers.Flatten())\n",
    "model.add(layers.Dense(128, activation='relu',\n",
    "                       kernel_regularizer=regularizers.l2(0.001)))\n",
    "model.add(layers.BatchNormalization())\n",
    "model.add(layers.Dropout(0.5))  # Prevent overfitting\n",
    "\n",
    "# Output Layer\n",
    "model.add(layers.Dense(7, activation='softmax'))"
   ],
   "id": "83d912433d1ec49a",
   "outputs": [],
   "execution_count": 79
  },
  {
   "metadata": {
    "ExecuteTime": {
     "end_time": "2025-06-03T10:39:55.457019Z",
     "start_time": "2025-06-03T10:39:55.451442Z"
    }
   },
   "cell_type": "code",
   "source": [
    "model.compile(optimizer='adam',\n",
    "              loss='sparse_categorical_crossentropy',\n",
    "              metrics=['accuracy']) # maybe recall"
   ],
   "id": "85dd3d42d5b26711",
   "outputs": [],
   "execution_count": 80
  },
  {
   "metadata": {
    "ExecuteTime": {
     "end_time": "2025-06-03T10:21:06.176003Z",
     "start_time": "2025-06-03T10:21:06.172453Z"
    }
   },
   "cell_type": "code",
   "source": "X_reshaped = X.values.reshape(-1, 28, 28, 3)",
   "id": "f0f05f18e65132da",
   "outputs": [],
   "execution_count": 65
  },
  {
   "metadata": {
    "ExecuteTime": {
     "end_time": "2025-06-03T10:40:31.516120Z",
     "start_time": "2025-06-03T10:39:57.548950Z"
    }
   },
   "cell_type": "code",
   "source": [
    "es = EarlyStopping(patience=5, restore_best_weights=True)\n",
    "history = model.fit(X_reshaped, y, epochs=50, batch_size=32, validation_split=0.2, callbacks=[es])"
   ],
   "id": "f96b3dc17956433",
   "outputs": [
    {
     "name": "stdout",
     "output_type": "stream",
     "text": [
      "Epoch 1/50\n",
      "\u001B[1m251/251\u001B[0m \u001B[32m━━━━━━━━━━━━━━━━━━━━\u001B[0m\u001B[37m\u001B[0m \u001B[1m5s\u001B[0m 17ms/step - accuracy: 0.4984 - loss: 2.0158 - val_accuracy: 0.1063 - val_loss: 1.7467\n",
      "Epoch 2/50\n",
      "\u001B[1m251/251\u001B[0m \u001B[32m━━━━━━━━━━━━━━━━━━━━\u001B[0m\u001B[37m\u001B[0m \u001B[1m4s\u001B[0m 18ms/step - accuracy: 0.7023 - loss: 1.0777 - val_accuracy: 0.8337 - val_loss: 1.4447\n",
      "Epoch 3/50\n",
      "\u001B[1m251/251\u001B[0m \u001B[32m━━━━━━━━━━━━━━━━━━━━\u001B[0m\u001B[37m\u001B[0m \u001B[1m5s\u001B[0m 19ms/step - accuracy: 0.7220 - loss: 0.9324 - val_accuracy: 0.0015 - val_loss: 15.4293\n",
      "Epoch 4/50\n",
      "\u001B[1m251/251\u001B[0m \u001B[32m━━━━━━━━━━━━━━━━━━━━\u001B[0m\u001B[37m\u001B[0m \u001B[1m5s\u001B[0m 20ms/step - accuracy: 0.7351 - loss: 0.8592 - val_accuracy: 0.0015 - val_loss: 14.8957\n",
      "Epoch 5/50\n",
      "\u001B[1m251/251\u001B[0m \u001B[32m━━━━━━━━━━━━━━━━━━━━\u001B[0m\u001B[37m\u001B[0m \u001B[1m5s\u001B[0m 20ms/step - accuracy: 0.7417 - loss: 0.8088 - val_accuracy: 0.0015 - val_loss: 5.9396\n",
      "Epoch 6/50\n",
      "\u001B[1m251/251\u001B[0m \u001B[32m━━━━━━━━━━━━━━━━━━━━\u001B[0m\u001B[37m\u001B[0m \u001B[1m5s\u001B[0m 19ms/step - accuracy: 0.7468 - loss: 0.7914 - val_accuracy: 0.8218 - val_loss: 2.9046\n",
      "Epoch 7/50\n",
      "\u001B[1m251/251\u001B[0m \u001B[32m━━━━━━━━━━━━━━━━━━━━\u001B[0m\u001B[37m\u001B[0m \u001B[1m5s\u001B[0m 19ms/step - accuracy: 0.7510 - loss: 0.7676 - val_accuracy: 0.2896 - val_loss: 9.9811\n"
     ]
    }
   ],
   "execution_count": 81
  },
  {
   "metadata": {
    "ExecuteTime": {
     "end_time": "2025-06-03T10:41:20.115024Z",
     "start_time": "2025-06-03T10:41:20.060169Z"
    }
   },
   "cell_type": "code",
   "source": [
    "plt.plot(history.history['accuracy'], label='train acc')\n",
    "plt.plot(history.history['val_accuracy'], label='val acc')\n",
    "plt.legend()\n",
    "plt.show()"
   ],
   "id": "a28f133937d30637",
   "outputs": [
    {
     "data": {
      "text/plain": [
       "<Figure size 640x480 with 1 Axes>"
      ],
      "image/png": "[encoded data removed]"
     },
     "metadata": {},
     "output_type": "display_data"
    }
   ],
   "execution_count": 82
  },
  {
   "metadata": {
    "ExecuteTime": {
     "end_time": "2025-06-03T10:26:11.554723Z",
     "start_time": "2025-06-03T10:26:11.549944Z"
    }
   },
   "cell_type": "code",
   "source": "history.history['accuracy']",
   "id": "b9b5e98e573dc4e5",
   "outputs": [
    {
     "data": {
      "text/plain": [
       "[0.5745132565498352,\n",
       " 0.6905891299247742,\n",
       " 0.7118073105812073,\n",
       " 0.7357713580131531,\n",
       " 0.7395157217979431,\n",
       " 0.750748872756958,\n",
       " 0.7579880356788635,\n",
       " 0.7599850296974182,\n",
       " 0.7669745087623596,\n",
       " 0.7666000723838806,\n",
       " 0.7699700593948364,\n",
       " 0.7782076597213745,\n",
       " 0.7807039618492126,\n",
       " 0.7789565920829773,\n",
       " 0.7769595384597778]"
      ]
     },
     "execution_count": 76,
     "metadata": {},
     "output_type": "execute_result"
    }
   ],
   "execution_count": 76
  }
 ],
 "metadata": {
  "kernelspec": {
   "display_name": "Python 3",
   "language": "python",
   "name": "python3"
  },
  "language_info": {
   "codemirror_mode": {
    "name": "ipython",
    "version": 2
   },
   "file_extension": ".py",
   "mimetype": "text/x-python",
   "name": "python",
   "nbconvert_exporter": "python",
   "pygments_lexer": "ipython2",
   "version": "2.7.6"
  }
 },
 "nbformat": 4,
 "nbformat_minor": 5
}

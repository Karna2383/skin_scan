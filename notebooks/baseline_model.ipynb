{
 "cells": [
  {
   "cell_type": "code",
   "id": "initial_id",
   "metadata": {
    "collapsed": true,
    "ExecuteTime": {
     "end_time": "2025-06-03T15:52:38.165629Z",
     "start_time": "2025-06-03T15:52:33.194430Z"
    }
   },
   "source": [
    "import pandas as pd\n",
    "import numpy as np\n",
    "import tensorflow as tf\n",
    "from tensorflow.keras import layers, models, regularizers\n",
    "from tensorflow.keras.callbacks import EarlyStopping\n",
    "from tensorflow.keras.utils import to_categorical\n",
    "from tensorflow.keras.models import Sequential\n",
    "from tensorflow.keras.layers import Input, Conv2D, MaxPooling2D, Flatten, Dense, Dropout\n",
    "import matplotlib.pyplot as plt\n",
    "from sklearn.model_selection import train_test_split\n",
    "from google.cloud import bigquery"
   ],
   "outputs": [
    {
     "ename": "AttributeError",
     "evalue": "'MessageFactory' object has no attribute 'GetPrototype'",
     "output_type": "error",
     "traceback": [
      "\u001B[31m---------------------------------------------------------------------------\u001B[39m",
      "\u001B[31mAttributeError\u001B[39m                            Traceback (most recent call last)",
      "\u001B[31mAttributeError\u001B[39m: 'MessageFactory' object has no attribute 'GetPrototype'"
     ]
    },
    {
     "ename": "AttributeError",
     "evalue": "'MessageFactory' object has no attribute 'GetPrototype'",
     "output_type": "error",
     "traceback": [
      "\u001B[31m---------------------------------------------------------------------------\u001B[39m",
      "\u001B[31mAttributeError\u001B[39m                            Traceback (most recent call last)",
      "\u001B[31mAttributeError\u001B[39m: 'MessageFactory' object has no attribute 'GetPrototype'"
     ]
    },
    {
     "ename": "AttributeError",
     "evalue": "'MessageFactory' object has no attribute 'GetPrototype'",
     "output_type": "error",
     "traceback": [
      "\u001B[31m---------------------------------------------------------------------------\u001B[39m",
      "\u001B[31mAttributeError\u001B[39m                            Traceback (most recent call last)",
      "\u001B[31mAttributeError\u001B[39m: 'MessageFactory' object has no attribute 'GetPrototype'"
     ]
    },
    {
     "ename": "AttributeError",
     "evalue": "'MessageFactory' object has no attribute 'GetPrototype'",
     "output_type": "error",
     "traceback": [
      "\u001B[31m---------------------------------------------------------------------------\u001B[39m",
      "\u001B[31mAttributeError\u001B[39m                            Traceback (most recent call last)",
      "\u001B[31mAttributeError\u001B[39m: 'MessageFactory' object has no attribute 'GetPrototype'"
     ]
    },
    {
     "ename": "AttributeError",
     "evalue": "'MessageFactory' object has no attribute 'GetPrototype'",
     "output_type": "error",
     "traceback": [
      "\u001B[31m---------------------------------------------------------------------------\u001B[39m",
      "\u001B[31mAttributeError\u001B[39m                            Traceback (most recent call last)",
      "\u001B[31mAttributeError\u001B[39m: 'MessageFactory' object has no attribute 'GetPrototype'"
     ]
    }
   ],
   "execution_count": 1
  },
  {
   "metadata": {
    "ExecuteTime": {
     "end_time": "2025-06-03T15:52:38.253257Z",
     "start_time": "2025-06-03T15:52:38.250095Z"
    }
   },
   "cell_type": "code",
   "source": [
    "def plot_loss_accuracy(history, title=None):\n",
    "\n",
    "    fig, ax = plt.subplots(1,2, figsize=(20,7))\n",
    "\n",
    "    # --- LOSS ---\n",
    "\n",
    "    ax[0].plot(history.history['loss'])\n",
    "    ax[0].plot(history.history['val_loss'])\n",
    "    ax[0].set_title('Model loss')\n",
    "    ax[0].set_ylabel('Loss')\n",
    "    ax[0].set_xlabel('Epoch')\n",
    "    ax[0].set_ylim((0,3))\n",
    "    ax[0].legend(['Train', 'Test'], loc='best')\n",
    "    ax[0].grid(axis=\"x\",linewidth=0.5)\n",
    "    ax[0].grid(axis=\"y\",linewidth=0.5)\n",
    "\n",
    "    # --- ACCURACY\n",
    "\n",
    "    ax[1].plot(history.history['accuracy'])\n",
    "    ax[1].plot(history.history['val_accuracy'])\n",
    "    ax[1].set_title('Model Accuracy')\n",
    "    ax[1].set_ylabel('Accuracy')\n",
    "    ax[1].set_xlabel('Epoch')\n",
    "    ax[1].legend(['Train', 'Test'], loc='best')\n",
    "    ax[1].set_ylim((0,1))\n",
    "    ax[1].grid(axis=\"x\",linewidth=0.5)\n",
    "    ax[1].grid(axis=\"y\",linewidth=0.5)\n",
    "\n",
    "    if title:\n",
    "        fig.suptitle(title)"
   ],
   "id": "af926c62c613b551",
   "outputs": [],
   "execution_count": 2
  },
  {
   "metadata": {
    "ExecuteTime": {
     "end_time": "2025-06-03T15:52:38.264777Z",
     "start_time": "2025-06-03T15:52:38.260623Z"
    }
   },
   "cell_type": "code",
   "source": [
    "def plot_loss_accuracy_recall(history, title=None):\n",
    "\n",
    "    fig, ax = plt.subplots(1,3, figsize=(20,7))\n",
    "\n",
    "    # --- LOSS ---\n",
    "\n",
    "    ax[0].plot(history.history['loss'])\n",
    "    ax[0].plot(history.history['val_loss'])\n",
    "    ax[0].set_title('Model loss')\n",
    "    ax[0].set_ylabel('Loss')\n",
    "    ax[0].set_xlabel('Epoch')\n",
    "    ax[0].set_ylim((0,3))\n",
    "    ax[0].legend(['Train', 'Test'], loc='best')\n",
    "    ax[0].grid(axis=\"x\",linewidth=0.5)\n",
    "    ax[0].grid(axis=\"y\",linewidth=0.5)\n",
    "\n",
    "    # --- ACCURACY\n",
    "\n",
    "    ax[1].plot(history.history['accuracy'])\n",
    "    ax[1].plot(history.history['val_accuracy'])\n",
    "    ax[1].set_title('Model Accuracy')\n",
    "    ax[1].set_ylabel('Accuracy')\n",
    "    ax[1].set_xlabel('Epoch')\n",
    "    ax[1].legend(['Train', 'Test'], loc='best')\n",
    "    ax[1].set_ylim((0,1))\n",
    "    ax[1].grid(axis=\"x\",linewidth=0.5)\n",
    "    ax[1].grid(axis=\"y\",linewidth=0.5)\n",
    "\n",
    "    # --- RECALL\n",
    "\n",
    "    ax[2].plot(history.history['recall'])\n",
    "    ax[2].plot(history.history['val_recall'])\n",
    "    ax[2].set_title('Model Recall')\n",
    "    ax[2].set_ylabel('Recall')\n",
    "    ax[2].set_xlabel('Epoch')\n",
    "    ax[2].legend(['Train', 'Test'], loc='best')\n",
    "    ax[2].set_ylim((0,1))\n",
    "    ax[2].grid(axis=\"x\",linewidth=0.5)\n",
    "    ax[2].grid(axis=\"y\",linewidth=0.5)\n",
    "\n",
    "    if title:\n",
    "        fig.suptitle(title)"
   ],
   "id": "7f41471cf44ec197",
   "outputs": [],
   "execution_count": 3
  },
  {
   "metadata": {
    "ExecuteTime": {
     "end_time": "2025-06-03T15:52:38.277147Z",
     "start_time": "2025-06-03T15:52:38.274432Z"
    }
   },
   "cell_type": "code",
   "source": "# df = pd.read_csv('../raw_data/archive/hmnist_28_28_RGB.csv')",
   "id": "6945d4d0140a5d76",
   "outputs": [],
   "execution_count": 4
  },
  {
   "metadata": {
    "ExecuteTime": {
     "end_time": "2025-06-03T15:52:53.131800Z",
     "start_time": "2025-06-03T15:52:38.283930Z"
    }
   },
   "cell_type": "code",
   "source": [
    "def get_data_from_bq(\n",
    "        gcp_project:str,\n",
    "        query:str,\n",
    "        data_has_header=True\n",
    "    ) -> pd.DataFrame:\n",
    "    \"\"\"\n",
    "    Retrieve `query` data from BigQuery\n",
    "    \"\"\"\n",
    "    client = bigquery.Client(project=gcp_project)\n",
    "    query_job = client.query(query)\n",
    "    result = query_job.result()\n",
    "    df = result.to_dataframe()\n",
    "    df = df.astype(\"float64\")\n",
    "    return df\n",
    "\n",
    "GCP_PROJECT = \"skin-scan-461716\"\n",
    "BQ_DATASET = \"skin_scan\"\n",
    "\n",
    "query = f\"\"\"\n",
    "        SELECT *\n",
    "        FROM `{GCP_PROJECT}`.{BQ_DATASET}.train_28x28\n",
    "    \"\"\"\n",
    "\n",
    "df = get_data_from_bq(f\"{GCP_PROJECT}\", query)"
   ],
   "id": "6c23f88ae9369e17",
   "outputs": [],
   "execution_count": 5
  },
  {
   "metadata": {
    "ExecuteTime": {
     "end_time": "2025-06-03T15:52:53.159245Z",
     "start_time": "2025-06-03T15:52:53.155707Z"
    }
   },
   "cell_type": "code",
   "source": "df.columns",
   "id": "32533d415ca47cbf",
   "outputs": [
    {
     "data": {
      "text/plain": [
       "Index(['pixel0000', 'pixel0001', 'pixel0002', 'pixel0003', 'pixel0004',\n",
       "       'pixel0005', 'pixel0006', 'pixel0007', 'pixel0008', 'pixel0009',\n",
       "       ...\n",
       "       'pixel2343', 'pixel2344', 'pixel2345', 'pixel2346', 'pixel2347',\n",
       "       'pixel2348', 'pixel2349', 'pixel2350', 'pixel2351', 'label'],\n",
       "      dtype='object', length=2353)"
      ]
     },
     "execution_count": 6,
     "metadata": {},
     "output_type": "execute_result"
    }
   ],
   "execution_count": 6
  },
  {
   "metadata": {
    "ExecuteTime": {
     "end_time": "2025-06-03T15:52:53.321088Z",
     "start_time": "2025-06-03T15:52:53.241312Z"
    }
   },
   "cell_type": "code",
   "source": [
    "X = df.drop(columns=['label'])\n",
    "y = df['label']"
   ],
   "id": "d284b7e3d098d81f",
   "outputs": [],
   "execution_count": 7
  },
  {
   "metadata": {
    "ExecuteTime": {
     "end_time": "2025-06-03T15:52:53.395724Z",
     "start_time": "2025-06-03T15:52:53.351848Z"
    }
   },
   "cell_type": "code",
   "source": "X_reshaped = X.values.reshape(-1, 28, 28, 3)",
   "id": "20537a2862920c1a",
   "outputs": [],
   "execution_count": 8
  },
  {
   "metadata": {
    "ExecuteTime": {
     "end_time": "2025-06-03T15:52:53.427938Z",
     "start_time": "2025-06-03T15:52:53.424582Z"
    }
   },
   "cell_type": "code",
   "source": [
    "# Convert y to one-hot encoding\n",
    "y_cat = to_categorical(y)\n",
    "y_cat"
   ],
   "id": "a820ed98a9da8124",
   "outputs": [
    {
     "data": {
      "text/plain": [
       "array([[0., 0., 0., ..., 1., 0., 0.],\n",
       "       [0., 0., 0., ..., 1., 0., 0.],\n",
       "       [0., 0., 0., ..., 1., 0., 0.],\n",
       "       ...,\n",
       "       [0., 0., 0., ..., 1., 0., 0.],\n",
       "       [0., 0., 0., ..., 1., 0., 0.],\n",
       "       [0., 0., 0., ..., 0., 0., 1.]])"
      ]
     },
     "execution_count": 9,
     "metadata": {},
     "output_type": "execute_result"
    }
   ],
   "execution_count": 9
  },
  {
   "metadata": {
    "ExecuteTime": {
     "end_time": "2025-06-03T15:52:53.547406Z",
     "start_time": "2025-06-03T15:52:53.502794Z"
    }
   },
   "cell_type": "code",
   "source": "X = X/255.0",
   "id": "9fdbdf4279516fcb",
   "outputs": [],
   "execution_count": 10
  },
  {
   "metadata": {
    "ExecuteTime": {
     "end_time": "2025-06-03T15:58:57.674903Z",
     "start_time": "2025-06-03T15:58:57.542794Z"
    }
   },
   "cell_type": "code",
   "source": "X_train, X_test,y_train, y_test = train_test_split(X_reshaped, y_cat, test_size=0.3, random_state=42)",
   "id": "c41ffa6a8b14572c",
   "outputs": [],
   "execution_count": 27
  },
  {
   "metadata": {},
   "cell_type": "markdown",
   "source": "# Model Architecture",
   "id": "241e3083c73c4589"
  },
  {
   "metadata": {
    "ExecuteTime": {
     "end_time": "2025-06-03T15:58:57.982858Z",
     "start_time": "2025-06-03T15:58:57.951291Z"
    }
   },
   "cell_type": "code",
   "source": [
    "#Model Architecture ---\n",
    "\n",
    "model = Sequential([\n",
    "    Input(shape=(28, 28, 3)),  # or (28, 28, 3) for RGB\n",
    "    Conv2D(16, (3,3), activation='relu'),\n",
    "    MaxPooling2D(2,2),\n",
    "    Conv2D(32, (3,3), activation='relu'),\n",
    "    MaxPooling2D(2,2),\n",
    "    Flatten(),\n",
    "    Dense(64, activation='relu'),\n",
    "    Dropout(0.6),\n",
    "    Dense(7, activation='softmax')\n",
    "])"
   ],
   "id": "83d912433d1ec49a",
   "outputs": [],
   "execution_count": 28
  },
  {
   "metadata": {
    "ExecuteTime": {
     "end_time": "2025-06-03T15:58:58.167182Z",
     "start_time": "2025-06-03T15:58:58.153786Z"
    }
   },
   "cell_type": "code",
   "source": "model.summary()",
   "id": "193cb8cbf9c2701e",
   "outputs": [
    {
     "data": {
      "text/plain": [
       "\u001B[1mModel: \"sequential_1\"\u001B[0m\n"
      ],
      "text/html": [
       "<pre style=\"white-space:pre;overflow-x:auto;line-height:normal;font-family:Menlo,'DejaVu Sans Mono',consolas,'Courier New',monospace\"><span style=\"font-weight: bold\">Model: \"sequential_1\"</span>\n",
       "</pre>\n"
      ]
     },
     "metadata": {},
     "output_type": "display_data"
    },
    {
     "data": {
      "text/plain": [
       "┏━━━━━━━━━━━━━━━━━━━━━━━━━━━━━━━━━┳━━━━━━━━━━━━━━━━━━━━━━━━┳━━━━━━━━━━━━━━━┓\n",
       "┃\u001B[1m \u001B[0m\u001B[1mLayer (type)                   \u001B[0m\u001B[1m \u001B[0m┃\u001B[1m \u001B[0m\u001B[1mOutput Shape          \u001B[0m\u001B[1m \u001B[0m┃\u001B[1m \u001B[0m\u001B[1m      Param #\u001B[0m\u001B[1m \u001B[0m┃\n",
       "┡━━━━━━━━━━━━━━━━━━━━━━━━━━━━━━━━━╇━━━━━━━━━━━━━━━━━━━━━━━━╇━━━━━━━━━━━━━━━┩\n",
       "│ conv2d_2 (\u001B[38;5;33mConv2D\u001B[0m)               │ (\u001B[38;5;45mNone\u001B[0m, \u001B[38;5;34m26\u001B[0m, \u001B[38;5;34m26\u001B[0m, \u001B[38;5;34m16\u001B[0m)     │           \u001B[38;5;34m448\u001B[0m │\n",
       "├─────────────────────────────────┼────────────────────────┼───────────────┤\n",
       "│ max_pooling2d_2 (\u001B[38;5;33mMaxPooling2D\u001B[0m)  │ (\u001B[38;5;45mNone\u001B[0m, \u001B[38;5;34m13\u001B[0m, \u001B[38;5;34m13\u001B[0m, \u001B[38;5;34m16\u001B[0m)     │             \u001B[38;5;34m0\u001B[0m │\n",
       "├─────────────────────────────────┼────────────────────────┼───────────────┤\n",
       "│ conv2d_3 (\u001B[38;5;33mConv2D\u001B[0m)               │ (\u001B[38;5;45mNone\u001B[0m, \u001B[38;5;34m11\u001B[0m, \u001B[38;5;34m11\u001B[0m, \u001B[38;5;34m32\u001B[0m)     │         \u001B[38;5;34m4,640\u001B[0m │\n",
       "├─────────────────────────────────┼────────────────────────┼───────────────┤\n",
       "│ max_pooling2d_3 (\u001B[38;5;33mMaxPooling2D\u001B[0m)  │ (\u001B[38;5;45mNone\u001B[0m, \u001B[38;5;34m5\u001B[0m, \u001B[38;5;34m5\u001B[0m, \u001B[38;5;34m32\u001B[0m)       │             \u001B[38;5;34m0\u001B[0m │\n",
       "├─────────────────────────────────┼────────────────────────┼───────────────┤\n",
       "│ flatten_1 (\u001B[38;5;33mFlatten\u001B[0m)             │ (\u001B[38;5;45mNone\u001B[0m, \u001B[38;5;34m800\u001B[0m)            │             \u001B[38;5;34m0\u001B[0m │\n",
       "├─────────────────────────────────┼────────────────────────┼───────────────┤\n",
       "│ dense_2 (\u001B[38;5;33mDense\u001B[0m)                 │ (\u001B[38;5;45mNone\u001B[0m, \u001B[38;5;34m64\u001B[0m)             │        \u001B[38;5;34m51,264\u001B[0m │\n",
       "├─────────────────────────────────┼────────────────────────┼───────────────┤\n",
       "│ dropout_1 (\u001B[38;5;33mDropout\u001B[0m)             │ (\u001B[38;5;45mNone\u001B[0m, \u001B[38;5;34m64\u001B[0m)             │             \u001B[38;5;34m0\u001B[0m │\n",
       "├─────────────────────────────────┼────────────────────────┼───────────────┤\n",
       "│ dense_3 (\u001B[38;5;33mDense\u001B[0m)                 │ (\u001B[38;5;45mNone\u001B[0m, \u001B[38;5;34m7\u001B[0m)              │           \u001B[38;5;34m455\u001B[0m │\n",
       "└─────────────────────────────────┴────────────────────────┴───────────────┘\n"
      ],
      "text/html": [
       "<pre style=\"white-space:pre;overflow-x:auto;line-height:normal;font-family:Menlo,'DejaVu Sans Mono',consolas,'Courier New',monospace\">┏━━━━━━━━━━━━━━━━━━━━━━━━━━━━━━━━━┳━━━━━━━━━━━━━━━━━━━━━━━━┳━━━━━━━━━━━━━━━┓\n",
       "┃<span style=\"font-weight: bold\"> Layer (type)                    </span>┃<span style=\"font-weight: bold\"> Output Shape           </span>┃<span style=\"font-weight: bold\">       Param # </span>┃\n",
       "┡━━━━━━━━━━━━━━━━━━━━━━━━━━━━━━━━━╇━━━━━━━━━━━━━━━━━━━━━━━━╇━━━━━━━━━━━━━━━┩\n",
       "│ conv2d_2 (<span style=\"color: #0087ff; text-decoration-color: #0087ff\">Conv2D</span>)               │ (<span style=\"color: #00d7ff; text-decoration-color: #00d7ff\">None</span>, <span style=\"color: #00af00; text-decoration-color: #00af00\">26</span>, <span style=\"color: #00af00; text-decoration-color: #00af00\">26</span>, <span style=\"color: #00af00; text-decoration-color: #00af00\">16</span>)     │           <span style=\"color: #00af00; text-decoration-color: #00af00\">448</span> │\n",
       "├─────────────────────────────────┼────────────────────────┼───────────────┤\n",
       "│ max_pooling2d_2 (<span style=\"color: #0087ff; text-decoration-color: #0087ff\">MaxPooling2D</span>)  │ (<span style=\"color: #00d7ff; text-decoration-color: #00d7ff\">None</span>, <span style=\"color: #00af00; text-decoration-color: #00af00\">13</span>, <span style=\"color: #00af00; text-decoration-color: #00af00\">13</span>, <span style=\"color: #00af00; text-decoration-color: #00af00\">16</span>)     │             <span style=\"color: #00af00; text-decoration-color: #00af00\">0</span> │\n",
       "├─────────────────────────────────┼────────────────────────┼───────────────┤\n",
       "│ conv2d_3 (<span style=\"color: #0087ff; text-decoration-color: #0087ff\">Conv2D</span>)               │ (<span style=\"color: #00d7ff; text-decoration-color: #00d7ff\">None</span>, <span style=\"color: #00af00; text-decoration-color: #00af00\">11</span>, <span style=\"color: #00af00; text-decoration-color: #00af00\">11</span>, <span style=\"color: #00af00; text-decoration-color: #00af00\">32</span>)     │         <span style=\"color: #00af00; text-decoration-color: #00af00\">4,640</span> │\n",
       "├─────────────────────────────────┼────────────────────────┼───────────────┤\n",
       "│ max_pooling2d_3 (<span style=\"color: #0087ff; text-decoration-color: #0087ff\">MaxPooling2D</span>)  │ (<span style=\"color: #00d7ff; text-decoration-color: #00d7ff\">None</span>, <span style=\"color: #00af00; text-decoration-color: #00af00\">5</span>, <span style=\"color: #00af00; text-decoration-color: #00af00\">5</span>, <span style=\"color: #00af00; text-decoration-color: #00af00\">32</span>)       │             <span style=\"color: #00af00; text-decoration-color: #00af00\">0</span> │\n",
       "├─────────────────────────────────┼────────────────────────┼───────────────┤\n",
       "│ flatten_1 (<span style=\"color: #0087ff; text-decoration-color: #0087ff\">Flatten</span>)             │ (<span style=\"color: #00d7ff; text-decoration-color: #00d7ff\">None</span>, <span style=\"color: #00af00; text-decoration-color: #00af00\">800</span>)            │             <span style=\"color: #00af00; text-decoration-color: #00af00\">0</span> │\n",
       "├─────────────────────────────────┼────────────────────────┼───────────────┤\n",
       "│ dense_2 (<span style=\"color: #0087ff; text-decoration-color: #0087ff\">Dense</span>)                 │ (<span style=\"color: #00d7ff; text-decoration-color: #00d7ff\">None</span>, <span style=\"color: #00af00; text-decoration-color: #00af00\">64</span>)             │        <span style=\"color: #00af00; text-decoration-color: #00af00\">51,264</span> │\n",
       "├─────────────────────────────────┼────────────────────────┼───────────────┤\n",
       "│ dropout_1 (<span style=\"color: #0087ff; text-decoration-color: #0087ff\">Dropout</span>)             │ (<span style=\"color: #00d7ff; text-decoration-color: #00d7ff\">None</span>, <span style=\"color: #00af00; text-decoration-color: #00af00\">64</span>)             │             <span style=\"color: #00af00; text-decoration-color: #00af00\">0</span> │\n",
       "├─────────────────────────────────┼────────────────────────┼───────────────┤\n",
       "│ dense_3 (<span style=\"color: #0087ff; text-decoration-color: #0087ff\">Dense</span>)                 │ (<span style=\"color: #00d7ff; text-decoration-color: #00d7ff\">None</span>, <span style=\"color: #00af00; text-decoration-color: #00af00\">7</span>)              │           <span style=\"color: #00af00; text-decoration-color: #00af00\">455</span> │\n",
       "└─────────────────────────────────┴────────────────────────┴───────────────┘\n",
       "</pre>\n"
      ]
     },
     "metadata": {},
     "output_type": "display_data"
    },
    {
     "data": {
      "text/plain": [
       "\u001B[1m Total params: \u001B[0m\u001B[38;5;34m56,807\u001B[0m (221.90 KB)\n"
      ],
      "text/html": [
       "<pre style=\"white-space:pre;overflow-x:auto;line-height:normal;font-family:Menlo,'DejaVu Sans Mono',consolas,'Courier New',monospace\"><span style=\"font-weight: bold\"> Total params: </span><span style=\"color: #00af00; text-decoration-color: #00af00\">56,807</span> (221.90 KB)\n",
       "</pre>\n"
      ]
     },
     "metadata": {},
     "output_type": "display_data"
    },
    {
     "data": {
      "text/plain": [
       "\u001B[1m Trainable params: \u001B[0m\u001B[38;5;34m56,807\u001B[0m (221.90 KB)\n"
      ],
      "text/html": [
       "<pre style=\"white-space:pre;overflow-x:auto;line-height:normal;font-family:Menlo,'DejaVu Sans Mono',consolas,'Courier New',monospace\"><span style=\"font-weight: bold\"> Trainable params: </span><span style=\"color: #00af00; text-decoration-color: #00af00\">56,807</span> (221.90 KB)\n",
       "</pre>\n"
      ]
     },
     "metadata": {},
     "output_type": "display_data"
    },
    {
     "data": {
      "text/plain": [
       "\u001B[1m Non-trainable params: \u001B[0m\u001B[38;5;34m0\u001B[0m (0.00 B)\n"
      ],
      "text/html": [
       "<pre style=\"white-space:pre;overflow-x:auto;line-height:normal;font-family:Menlo,'DejaVu Sans Mono',consolas,'Courier New',monospace\"><span style=\"font-weight: bold\"> Non-trainable params: </span><span style=\"color: #00af00; text-decoration-color: #00af00\">0</span> (0.00 B)\n",
       "</pre>\n"
      ]
     },
     "metadata": {},
     "output_type": "display_data"
    }
   ],
   "execution_count": 29
  },
  {
   "metadata": {
    "ExecuteTime": {
     "end_time": "2025-06-03T15:58:59.941412Z",
     "start_time": "2025-06-03T15:58:59.936718Z"
    }
   },
   "cell_type": "code",
   "source": [
    "model.compile(optimizer='adam',\n",
    "              loss='categorical_crossentropy',\n",
    "              metrics=['accuracy','recall']) # maybe recall"
   ],
   "id": "85dd3d42d5b26711",
   "outputs": [],
   "execution_count": 30
  },
  {
   "metadata": {
    "ExecuteTime": {
     "end_time": "2025-06-03T15:59:00.728028Z",
     "start_time": "2025-06-03T15:59:00.724672Z"
    }
   },
   "cell_type": "code",
   "source": "y_train.shape",
   "id": "6b865b457842493c",
   "outputs": [
    {
     "data": {
      "text/plain": [
       "(7010, 7)"
      ]
     },
     "execution_count": 31,
     "metadata": {},
     "output_type": "execute_result"
    }
   ],
   "execution_count": 31
  },
  {
   "metadata": {
    "ExecuteTime": {
     "end_time": "2025-06-03T16:00:20.030818Z",
     "start_time": "2025-06-03T16:00:04.387704Z"
    }
   },
   "cell_type": "code",
   "source": [
    "es = EarlyStopping(patience=20, restore_best_weights=True)\n",
    "history = model.fit(X_train, y_train, epochs=100, batch_size=32,verbose=2, validation_split=0.2, callbacks=[es])"
   ],
   "id": "f96b3dc17956433",
   "outputs": [
    {
     "name": "stdout",
     "output_type": "stream",
     "text": [
      "Epoch 1/100\n",
      "176/176 - 1s - 4ms/step - accuracy: 0.7181 - loss: 0.7587 - recall: 0.6266 - val_accuracy: 0.7197 - val_loss: 0.8100 - val_recall: 0.6184\n",
      "Epoch 2/100\n",
      "176/176 - 1s - 4ms/step - accuracy: 0.7211 - loss: 0.7305 - recall: 0.6309 - val_accuracy: 0.7068 - val_loss: 0.8223 - val_recall: 0.6113\n",
      "Epoch 3/100\n",
      "176/176 - 1s - 4ms/step - accuracy: 0.7227 - loss: 0.7246 - recall: 0.6298 - val_accuracy: 0.7076 - val_loss: 0.8325 - val_recall: 0.6491\n",
      "Epoch 4/100\n",
      "176/176 - 1s - 4ms/step - accuracy: 0.7318 - loss: 0.7134 - recall: 0.6434 - val_accuracy: 0.7140 - val_loss: 0.8015 - val_recall: 0.6405\n",
      "Epoch 5/100\n",
      "176/176 - 1s - 4ms/step - accuracy: 0.7366 - loss: 0.7020 - recall: 0.6476 - val_accuracy: 0.7026 - val_loss: 0.8654 - val_recall: 0.6455\n",
      "Epoch 6/100\n",
      "176/176 - 1s - 4ms/step - accuracy: 0.7307 - loss: 0.7066 - recall: 0.6369 - val_accuracy: 0.6961 - val_loss: 0.8472 - val_recall: 0.6348\n",
      "Epoch 7/100\n",
      "176/176 - 1s - 4ms/step - accuracy: 0.7338 - loss: 0.6877 - recall: 0.6489 - val_accuracy: 0.7318 - val_loss: 0.8222 - val_recall: 0.6277\n",
      "Epoch 8/100\n",
      "176/176 - 1s - 4ms/step - accuracy: 0.7395 - loss: 0.6991 - recall: 0.6459 - val_accuracy: 0.7061 - val_loss: 0.8427 - val_recall: 0.6362\n",
      "Epoch 9/100\n",
      "176/176 - 1s - 4ms/step - accuracy: 0.7459 - loss: 0.6795 - recall: 0.6537 - val_accuracy: 0.7111 - val_loss: 0.8776 - val_recall: 0.6391\n",
      "Epoch 10/100\n",
      "176/176 - 1s - 3ms/step - accuracy: 0.7445 - loss: 0.6788 - recall: 0.6605 - val_accuracy: 0.7290 - val_loss: 0.8518 - val_recall: 0.6369\n",
      "Epoch 11/100\n",
      "176/176 - 1s - 4ms/step - accuracy: 0.7461 - loss: 0.6654 - recall: 0.6665 - val_accuracy: 0.7097 - val_loss: 0.8183 - val_recall: 0.6355\n",
      "Epoch 12/100\n",
      "176/176 - 1s - 4ms/step - accuracy: 0.7405 - loss: 0.6802 - recall: 0.6512 - val_accuracy: 0.7204 - val_loss: 0.8391 - val_recall: 0.6434\n",
      "Epoch 13/100\n",
      "176/176 - 1s - 3ms/step - accuracy: 0.7482 - loss: 0.6563 - recall: 0.6635 - val_accuracy: 0.7104 - val_loss: 0.9068 - val_recall: 0.6419\n",
      "Epoch 14/100\n",
      "176/176 - 1s - 3ms/step - accuracy: 0.7523 - loss: 0.6643 - recall: 0.6673 - val_accuracy: 0.7111 - val_loss: 0.8116 - val_recall: 0.6227\n",
      "Epoch 15/100\n",
      "176/176 - 1s - 4ms/step - accuracy: 0.7423 - loss: 0.6601 - recall: 0.6662 - val_accuracy: 0.7147 - val_loss: 0.8466 - val_recall: 0.6141\n",
      "Epoch 16/100\n",
      "176/176 - 1s - 4ms/step - accuracy: 0.7502 - loss: 0.6509 - recall: 0.6648 - val_accuracy: 0.7175 - val_loss: 0.8824 - val_recall: 0.6448\n",
      "Epoch 17/100\n",
      "176/176 - 1s - 4ms/step - accuracy: 0.7491 - loss: 0.6569 - recall: 0.6723 - val_accuracy: 0.7104 - val_loss: 0.8200 - val_recall: 0.6334\n",
      "Epoch 18/100\n",
      "176/176 - 1s - 4ms/step - accuracy: 0.7593 - loss: 0.6303 - recall: 0.6774 - val_accuracy: 0.7218 - val_loss: 0.8526 - val_recall: 0.6534\n",
      "Epoch 19/100\n",
      "176/176 - 1s - 3ms/step - accuracy: 0.7557 - loss: 0.6293 - recall: 0.6764 - val_accuracy: 0.7254 - val_loss: 0.8330 - val_recall: 0.6591\n",
      "Epoch 20/100\n",
      "176/176 - 1s - 4ms/step - accuracy: 0.7602 - loss: 0.6239 - recall: 0.6849 - val_accuracy: 0.7247 - val_loss: 0.8724 - val_recall: 0.6662\n",
      "Epoch 21/100\n",
      "176/176 - 1s - 4ms/step - accuracy: 0.7537 - loss: 0.6410 - recall: 0.6751 - val_accuracy: 0.7225 - val_loss: 0.9162 - val_recall: 0.6498\n",
      "Epoch 22/100\n",
      "176/176 - 1s - 4ms/step - accuracy: 0.7587 - loss: 0.6234 - recall: 0.6879 - val_accuracy: 0.7247 - val_loss: 0.9024 - val_recall: 0.6633\n",
      "Epoch 23/100\n",
      "176/176 - 1s - 3ms/step - accuracy: 0.7568 - loss: 0.6314 - recall: 0.6822 - val_accuracy: 0.7211 - val_loss: 0.8573 - val_recall: 0.6170\n",
      "Epoch 24/100\n",
      "176/176 - 1s - 4ms/step - accuracy: 0.7618 - loss: 0.6163 - recall: 0.6897 - val_accuracy: 0.7154 - val_loss: 0.9028 - val_recall: 0.6541\n"
     ]
    }
   ],
   "execution_count": 36
  },
  {
   "metadata": {
    "ExecuteTime": {
     "end_time": "2025-06-03T16:00:40.006922Z",
     "start_time": "2025-06-03T16:00:39.834097Z"
    }
   },
   "cell_type": "code",
   "source": [
    "# plt.plot(history.history['accuracy'], label='train acc')\n",
    "# plt.plot(history.history['val_accuracy'], label='val acc')\n",
    "# plt.legend()\n",
    "# plt.show()\n",
    "\n",
    "plot_loss_accuracy_recall(history, title=None)"
   ],
   "id": "a28f133937d30637",
   "outputs": [
    {
     "data": {
      "text/plain": [
       "<Figure size 2000x700 with 3 Axes>"
      ],
      "image/png": "[encoded data removed]"
     },
     "metadata": {},
     "output_type": "display_data"
    }
   ],
   "execution_count": 37
  },
  {
   "metadata": {
    "ExecuteTime": {
     "end_time": "2025-06-03T16:03:25.788323Z",
     "start_time": "2025-06-03T16:03:25.779760Z"
    }
   },
   "cell_type": "code",
   "source": "pd.DataFrame(history.history)",
   "id": "b9b5e98e573dc4e5",
   "outputs": [
    {
     "data": {
      "text/plain": [
       "    accuracy      loss    recall  val_accuracy  val_loss  val_recall\n",
       "0   0.718081  0.758736  0.626605      0.719686  0.810001    0.618402\n",
       "1   0.721113  0.730544  0.630884      0.706847  0.822350    0.611270\n",
       "2   0.722718  0.724589  0.629815      0.707561  0.832529    0.649073\n",
       "3   0.731812  0.713420  0.643367      0.713980  0.801470    0.640514\n",
       "4   0.736626  0.701980  0.647646      0.702568  0.865381    0.645506\n",
       "5   0.730742  0.706637  0.636947      0.696148  0.847192    0.634807\n",
       "6   0.733773  0.687656  0.648894      0.731812  0.822245    0.627675\n",
       "7   0.739479  0.699078  0.645863      0.706134  0.842742    0.636234\n",
       "8   0.745899  0.679544  0.653709      0.711127  0.877572    0.639087\n",
       "9   0.744472  0.678783  0.660485      0.728959  0.851842    0.636947\n",
       "10  0.746077  0.665412  0.666548      0.709700  0.818256    0.635521\n",
       "11  0.740549  0.680242  0.651213      0.720399  0.839058    0.643367\n",
       "12  0.748217  0.656338  0.663516      0.710414  0.906812    0.641940\n",
       "13  0.752318  0.664327  0.667261      0.711127  0.811597    0.622682\n",
       "14  0.742332  0.660126  0.666191      0.714693  0.846552    0.614123\n",
       "15  0.750178  0.650880  0.664765      0.717546  0.882382    0.644793\n",
       "16  0.749108  0.656882  0.672254      0.710414  0.819983    0.633381\n",
       "17  0.759272  0.630269  0.677425      0.721826  0.852611    0.653352\n",
       "18  0.755706  0.629283  0.676355      0.725392  0.833022    0.659059\n",
       "19  0.760164  0.623920  0.684914      0.724679  0.872358    0.666191\n",
       "20  0.753745  0.641036  0.675107      0.722539  0.916229    0.649786\n",
       "21  0.758738  0.623409  0.687946      0.724679  0.902354    0.663338\n",
       "22  0.756776  0.631435  0.682240      0.721113  0.857259    0.616976\n",
       "23  0.761769  0.616348  0.689729      0.715407  0.902821    0.654066"
      ],
      "text/html": [
       "<div>\n",
       "<style scoped>\n",
       "    .dataframe tbody tr th:only-of-type {\n",
       "        vertical-align: middle;\n",
       "    }\n",
       "\n",
       "    .dataframe tbody tr th {\n",
       "        vertical-align: top;\n",
       "    }\n",
       "\n",
       "    .dataframe thead th {\n",
       "        text-align: right;\n",
       "    }\n",
       "</style>\n",
       "<table border=\"1\" class=\"dataframe\">\n",
       "  <thead>\n",
       "    <tr style=\"text-align: right;\">\n",
       "      <th></th>\n",
       "      <th>accuracy</th>\n",
       "      <th>loss</th>\n",
       "      <th>recall</th>\n",
       "      <th>val_accuracy</th>\n",
       "      <th>val_loss</th>\n",
       "      <th>val_recall</th>\n",
       "    </tr>\n",
       "  </thead>\n",
       "  <tbody>\n",
       "    <tr>\n",
       "      <th>0</th>\n",
       "      <td>0.718081</td>\n",
       "      <td>0.758736</td>\n",
       "      <td>0.626605</td>\n",
       "      <td>0.719686</td>\n",
       "      <td>0.810001</td>\n",
       "      <td>0.618402</td>\n",
       "    </tr>\n",
       "    <tr>\n",
       "      <th>1</th>\n",
       "      <td>0.721113</td>\n",
       "      <td>0.730544</td>\n",
       "      <td>0.630884</td>\n",
       "      <td>0.706847</td>\n",
       "      <td>0.822350</td>\n",
       "      <td>0.611270</td>\n",
       "    </tr>\n",
       "    <tr>\n",
       "      <th>2</th>\n",
       "      <td>0.722718</td>\n",
       "      <td>0.724589</td>\n",
       "      <td>0.629815</td>\n",
       "      <td>0.707561</td>\n",
       "      <td>0.832529</td>\n",
       "      <td>0.649073</td>\n",
       "    </tr>\n",
       "    <tr>\n",
       "      <th>3</th>\n",
       "      <td>0.731812</td>\n",
       "      <td>0.713420</td>\n",
       "      <td>0.643367</td>\n",
       "      <td>0.713980</td>\n",
       "      <td>0.801470</td>\n",
       "      <td>0.640514</td>\n",
       "    </tr>\n",
       "    <tr>\n",
       "      <th>4</th>\n",
       "      <td>0.736626</td>\n",
       "      <td>0.701980</td>\n",
       "      <td>0.647646</td>\n",
       "      <td>0.702568</td>\n",
       "      <td>0.865381</td>\n",
       "      <td>0.645506</td>\n",
       "    </tr>\n",
       "    <tr>\n",
       "      <th>5</th>\n",
       "      <td>0.730742</td>\n",
       "      <td>0.706637</td>\n",
       "      <td>0.636947</td>\n",
       "      <td>0.696148</td>\n",
       "      <td>0.847192</td>\n",
       "      <td>0.634807</td>\n",
       "    </tr>\n",
       "    <tr>\n",
       "      <th>6</th>\n",
       "      <td>0.733773</td>\n",
       "      <td>0.687656</td>\n",
       "      <td>0.648894</td>\n",
       "      <td>0.731812</td>\n",
       "      <td>0.822245</td>\n",
       "      <td>0.627675</td>\n",
       "    </tr>\n",
       "    <tr>\n",
       "      <th>7</th>\n",
       "      <td>0.739479</td>\n",
       "      <td>0.699078</td>\n",
       "      <td>0.645863</td>\n",
       "      <td>0.706134</td>\n",
       "      <td>0.842742</td>\n",
       "      <td>0.636234</td>\n",
       "    </tr>\n",
       "    <tr>\n",
       "      <th>8</th>\n",
       "      <td>0.745899</td>\n",
       "      <td>0.679544</td>\n",
       "      <td>0.653709</td>\n",
       "      <td>0.711127</td>\n",
       "      <td>0.877572</td>\n",
       "      <td>0.639087</td>\n",
       "    </tr>\n",
       "    <tr>\n",
       "      <th>9</th>\n",
       "      <td>0.744472</td>\n",
       "      <td>0.678783</td>\n",
       "      <td>0.660485</td>\n",
       "      <td>0.728959</td>\n",
       "      <td>0.851842</td>\n",
       "      <td>0.636947</td>\n",
       "    </tr>\n",
       "    <tr>\n",
       "      <th>10</th>\n",
       "      <td>0.746077</td>\n",
       "      <td>0.665412</td>\n",
       "      <td>0.666548</td>\n",
       "      <td>0.709700</td>\n",
       "      <td>0.818256</td>\n",
       "      <td>0.635521</td>\n",
       "    </tr>\n",
       "    <tr>\n",
       "      <th>11</th>\n",
       "      <td>0.740549</td>\n",
       "      <td>0.680242</td>\n",
       "      <td>0.651213</td>\n",
       "      <td>0.720399</td>\n",
       "      <td>0.839058</td>\n",
       "      <td>0.643367</td>\n",
       "    </tr>\n",
       "    <tr>\n",
       "      <th>12</th>\n",
       "      <td>0.748217</td>\n",
       "      <td>0.656338</td>\n",
       "      <td>0.663516</td>\n",
       "      <td>0.710414</td>\n",
       "      <td>0.906812</td>\n",
       "      <td>0.641940</td>\n",
       "    </tr>\n",
       "    <tr>\n",
       "      <th>13</th>\n",
       "      <td>0.752318</td>\n",
       "      <td>0.664327</td>\n",
       "      <td>0.667261</td>\n",
       "      <td>0.711127</td>\n",
       "      <td>0.811597</td>\n",
       "      <td>0.622682</td>\n",
       "    </tr>\n",
       "    <tr>\n",
       "      <th>14</th>\n",
       "      <td>0.742332</td>\n",
       "      <td>0.660126</td>\n",
       "      <td>0.666191</td>\n",
       "      <td>0.714693</td>\n",
       "      <td>0.846552</td>\n",
       "      <td>0.614123</td>\n",
       "    </tr>\n",
       "    <tr>\n",
       "      <th>15</th>\n",
       "      <td>0.750178</td>\n",
       "      <td>0.650880</td>\n",
       "      <td>0.664765</td>\n",
       "      <td>0.717546</td>\n",
       "      <td>0.882382</td>\n",
       "      <td>0.644793</td>\n",
       "    </tr>\n",
       "    <tr>\n",
       "      <th>16</th>\n",
       "      <td>0.749108</td>\n",
       "      <td>0.656882</td>\n",
       "      <td>0.672254</td>\n",
       "      <td>0.710414</td>\n",
       "      <td>0.819983</td>\n",
       "      <td>0.633381</td>\n",
       "    </tr>\n",
       "    <tr>\n",
       "      <th>17</th>\n",
       "      <td>0.759272</td>\n",
       "      <td>0.630269</td>\n",
       "      <td>0.677425</td>\n",
       "      <td>0.721826</td>\n",
       "      <td>0.852611</td>\n",
       "      <td>0.653352</td>\n",
       "    </tr>\n",
       "    <tr>\n",
       "      <th>18</th>\n",
       "      <td>0.755706</td>\n",
       "      <td>0.629283</td>\n",
       "      <td>0.676355</td>\n",
       "      <td>0.725392</td>\n",
       "      <td>0.833022</td>\n",
       "      <td>0.659059</td>\n",
       "    </tr>\n",
       "    <tr>\n",
       "      <th>19</th>\n",
       "      <td>0.760164</td>\n",
       "      <td>0.623920</td>\n",
       "      <td>0.684914</td>\n",
       "      <td>0.724679</td>\n",
       "      <td>0.872358</td>\n",
       "      <td>0.666191</td>\n",
       "    </tr>\n",
       "    <tr>\n",
       "      <th>20</th>\n",
       "      <td>0.753745</td>\n",
       "      <td>0.641036</td>\n",
       "      <td>0.675107</td>\n",
       "      <td>0.722539</td>\n",
       "      <td>0.916229</td>\n",
       "      <td>0.649786</td>\n",
       "    </tr>\n",
       "    <tr>\n",
       "      <th>21</th>\n",
       "      <td>0.758738</td>\n",
       "      <td>0.623409</td>\n",
       "      <td>0.687946</td>\n",
       "      <td>0.724679</td>\n",
       "      <td>0.902354</td>\n",
       "      <td>0.663338</td>\n",
       "    </tr>\n",
       "    <tr>\n",
       "      <th>22</th>\n",
       "      <td>0.756776</td>\n",
       "      <td>0.631435</td>\n",
       "      <td>0.682240</td>\n",
       "      <td>0.721113</td>\n",
       "      <td>0.857259</td>\n",
       "      <td>0.616976</td>\n",
       "    </tr>\n",
       "    <tr>\n",
       "      <th>23</th>\n",
       "      <td>0.761769</td>\n",
       "      <td>0.616348</td>\n",
       "      <td>0.689729</td>\n",
       "      <td>0.715407</td>\n",
       "      <td>0.902821</td>\n",
       "      <td>0.654066</td>\n",
       "    </tr>\n",
       "  </tbody>\n",
       "</table>\n",
       "</div>"
      ]
     },
     "execution_count": 44,
     "metadata": {},
     "output_type": "execute_result"
    }
   ],
   "execution_count": 44
  },
  {
   "metadata": {
    "ExecuteTime": {
     "end_time": "2025-06-03T16:04:11.683609Z",
     "start_time": "2025-06-03T16:04:11.680705Z"
    }
   },
   "cell_type": "code",
   "source": "np.max(history.history[\"val_accuracy\"])",
   "id": "254f5db7938b2edf",
   "outputs": [
    {
     "data": {
      "text/plain": [
       "np.float64(0.7318117022514343)"
      ]
     },
     "execution_count": 48,
     "metadata": {},
     "output_type": "execute_result"
    }
   ],
   "execution_count": 48
  },
  {
   "metadata": {
    "ExecuteTime": {
     "end_time": "2025-06-03T16:01:49.078779Z",
     "start_time": "2025-06-03T16:01:48.479901Z"
    }
   },
   "cell_type": "code",
   "source": [
    "print(\"Loss,    Accuracy,   Recall\")\n",
    "model.evaluate(X_test, y_test)"
   ],
   "id": "e1dce092abe796fd",
   "outputs": [
    {
     "name": "stdout",
     "output_type": "stream",
     "text": [
      "Loss,    Accuracy,   Recall\n",
      "\u001B[1m94/94\u001B[0m \u001B[32m━━━━━━━━━━━━━━━━━━━━\u001B[0m\u001B[37m\u001B[0m \u001B[1m1s\u001B[0m 5ms/step - accuracy: 0.6993 - loss: 0.8483 - recall: 0.6254\n"
     ]
    },
    {
     "data": {
      "text/plain": [
       "[0.8531654477119446, 0.6971713900566101, 0.6229617595672607]"
      ]
     },
     "execution_count": 41,
     "metadata": {},
     "output_type": "execute_result"
    }
   ],
   "execution_count": 41
  },
  {
   "metadata": {},
   "cell_type": "code",
   "outputs": [],
   "execution_count": null,
   "source": "",
   "id": "ea736ad2f6377786"
  }
 ],
 "metadata": {
  "kernelspec": {
   "display_name": "Python 3",
   "language": "python",
   "name": "python3"
  },
  "language_info": {
   "codemirror_mode": {
    "name": "ipython",
    "version": 2
   },
   "file_extension": ".py",
   "mimetype": "text/x-python",
   "name": "python",
   "nbconvert_exporter": "python",
   "pygments_lexer": "ipython2",
   "version": "2.7.6"
  }
 },
 "nbformat": 4,
 "nbformat_minor": 5
}

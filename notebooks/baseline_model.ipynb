{
 "cells": [
  {
   "cell_type": "code",
   "id": "initial_id",
   "metadata": {
    "collapsed": true,
    "ExecuteTime": {
     "end_time": "2025-06-04T10:44:32.020770Z",
     "start_time": "2025-06-04T10:44:32.010999Z"
    }
   },
   "source": [
    "import pandas as pd\n",
    "import numpy as np\n",
    "import tensorflow as tf\n",
    "from tensorflow.keras import layers, models, regularizers\n",
    "from tensorflow.keras.callbacks import EarlyStopping\n",
    "from tensorflow.keras.utils import to_categorical\n",
    "from tensorflow.keras.models import Sequential\n",
    "from tensorflow.keras.layers import Input, Conv2D, MaxPooling2D, Flatten, Dense, Dropout\n",
    "import matplotlib.pyplot as plt\n",
    "from google.cloud import bigquery\n",
    "\n"
   ],
   "outputs": [],
   "execution_count": 2
  },
  {
   "metadata": {
    "ExecuteTime": {
     "end_time": "2025-06-04T10:44:32.044036Z",
     "start_time": "2025-06-04T10:44:32.037546Z"
    }
   },
   "cell_type": "code",
   "source": [
    "def plot_loss_accuracy(history, title=None):\n",
    "\n",
    "    fig, ax = plt.subplots(1,2, figsize=(20,7))\n",
    "\n",
    "    # --- LOSS ---\n",
    "\n",
    "    ax[0].plot(history.history['loss'])\n",
    "    ax[0].plot(history.history['val_loss'])\n",
    "    ax[0].set_title('Model loss')\n",
    "    ax[0].set_ylabel('Loss')\n",
    "    ax[0].set_xlabel('Epoch')\n",
    "    ax[0].set_ylim((0,3))\n",
    "    ax[0].legend(['Train', 'Test'], loc='best')\n",
    "    ax[0].grid(axis=\"x\",linewidth=0.5)\n",
    "    ax[0].grid(axis=\"y\",linewidth=0.5)\n",
    "\n",
    "    # --- ACCURACY\n",
    "\n",
    "    ax[1].plot(history.history['accuracy'])\n",
    "    ax[1].plot(history.history['val_accuracy'])\n",
    "    ax[1].set_title('Model Accuracy')\n",
    "    ax[1].set_ylabel('Accuracy')\n",
    "    ax[1].set_xlabel('Epoch')\n",
    "    ax[1].legend(['Train', 'Test'], loc='best')\n",
    "    ax[1].set_ylim((0,1))\n",
    "    ax[1].grid(axis=\"x\",linewidth=0.5)\n",
    "    ax[1].grid(axis=\"y\",linewidth=0.5)\n",
    "\n",
    "    if title:\n",
    "        fig.suptitle(title)"
   ],
   "id": "af926c62c613b551",
   "outputs": [],
   "execution_count": 3
  },
  {
   "metadata": {
    "ExecuteTime": {
     "end_time": "2025-06-04T10:44:32.055699Z",
     "start_time": "2025-06-04T10:44:32.050838Z"
    }
   },
   "cell_type": "code",
   "source": [
    "def plot_loss_accuracy_recall(history, title=None):\n",
    "\n",
    "    fig, ax = plt.subplots(1,3, figsize=(20,7))\n",
    "\n",
    "    # --- LOSS ---\n",
    "\n",
    "    ax[0].plot(history.history['loss'])\n",
    "    ax[0].plot(history.history['val_loss'])\n",
    "    ax[0].set_title('Model loss')\n",
    "    ax[0].set_ylabel('Loss')\n",
    "    ax[0].set_xlabel('Epoch')\n",
    "    ax[0].set_ylim((0,3))\n",
    "    ax[0].legend(['Train', 'Test'], loc='best')\n",
    "    ax[0].grid(axis=\"x\",linewidth=0.5)\n",
    "    ax[0].grid(axis=\"y\",linewidth=0.5)\n",
    "\n",
    "    # --- ACCURACY\n",
    "\n",
    "    ax[1].plot(history.history['accuracy'])\n",
    "    ax[1].plot(history.history['val_accuracy'])\n",
    "    ax[1].set_title('Model Accuracy')\n",
    "    ax[1].set_ylabel('Accuracy')\n",
    "    ax[1].set_xlabel('Epoch')\n",
    "    ax[1].legend(['Train', 'Test'], loc='best')\n",
    "    ax[1].set_ylim((0,1))\n",
    "    ax[1].grid(axis=\"x\",linewidth=0.5)\n",
    "    ax[1].grid(axis=\"y\",linewidth=0.5)\n",
    "\n",
    "    # --- RECALL\n",
    "\n",
    "    ax[2].plot(history.history['recall'])\n",
    "    ax[2].plot(history.history['val_recall'])\n",
    "    ax[2].set_title('Model Recall')\n",
    "    ax[2].set_ylabel('Recall')\n",
    "    ax[2].set_xlabel('Epoch')\n",
    "    ax[2].legend(['Train', 'Test'], loc='best')\n",
    "    ax[2].set_ylim((0,1))\n",
    "    ax[2].grid(axis=\"x\",linewidth=0.5)\n",
    "    ax[2].grid(axis=\"y\",linewidth=0.5)\n",
    "\n",
    "    if title:\n",
    "        fig.suptitle(title)"
   ],
   "id": "7f41471cf44ec197",
   "outputs": [],
   "execution_count": 4
  },
  {
   "metadata": {
    "ExecuteTime": {
     "end_time": "2025-06-04T10:44:32.064323Z",
     "start_time": "2025-06-04T10:44:32.062041Z"
    }
   },
   "cell_type": "code",
   "source": "# df = pd.read_csv('../raw_data/archive/hmnist_28_28_RGB.csv')",
   "id": "6945d4d0140a5d76",
   "outputs": [],
   "execution_count": 5
  },
  {
   "metadata": {
    "ExecuteTime": {
     "end_time": "2025-06-04T10:44:41.077373Z",
     "start_time": "2025-06-04T10:44:32.070751Z"
    }
   },
   "cell_type": "code",
   "source": [
    "def get_data_from_bq(\n",
    "        gcp_project:str,\n",
    "        query:str,\n",
    "        data_has_header=True\n",
    "    ) -> pd.DataFrame:\n",
    "    \"\"\"\n",
    "    Retrieve `query` data from BigQuery\n",
    "    \"\"\"\n",
    "    client = bigquery.Client(project=gcp_project)\n",
    "    query_job = client.query(query)\n",
    "    result = query_job.result()\n",
    "    df = result.to_dataframe()\n",
    "    df = df.astype(\"float64\")\n",
    "    return df\n",
    "\n",
    "GCP_PROJECT = \"skin-scan-461716\"\n",
    "BQ_DATASET = \"skin_scan\"\n",
    "\n",
    "query = f\"\"\"\n",
    "        SELECT *\n",
    "        FROM `{GCP_PROJECT}`.{BQ_DATASET}.train_28x28\n",
    "    \"\"\"\n",
    "\n",
    "df = get_data_from_bq(f\"{GCP_PROJECT}\", query)"
   ],
   "id": "6c23f88ae9369e17",
   "outputs": [],
   "execution_count": 6
  },
  {
   "metadata": {
    "ExecuteTime": {
     "end_time": "2025-06-04T10:44:41.101539Z",
     "start_time": "2025-06-04T10:44:41.098058Z"
    }
   },
   "cell_type": "code",
   "source": "df.columns",
   "id": "32533d415ca47cbf",
   "outputs": [
    {
     "data": {
      "text/plain": [
       "Index(['pixel0000', 'pixel0001', 'pixel0002', 'pixel0003', 'pixel0004',\n",
       "       'pixel0005', 'pixel0006', 'pixel0007', 'pixel0008', 'pixel0009',\n",
       "       ...\n",
       "       'pixel2343', 'pixel2344', 'pixel2345', 'pixel2346', 'pixel2347',\n",
       "       'pixel2348', 'pixel2349', 'pixel2350', 'pixel2351', 'label'],\n",
       "      dtype='object', length=2353)"
      ]
     },
     "execution_count": 7,
     "metadata": {},
     "output_type": "execute_result"
    }
   ],
   "execution_count": 7
  },
  {
   "metadata": {
    "ExecuteTime": {
     "end_time": "2025-06-04T10:44:41.189386Z",
     "start_time": "2025-06-04T10:44:41.118973Z"
    }
   },
   "cell_type": "code",
   "source": [
    "X = df.drop(columns=['label'])\n",
    "y = df['label']"
   ],
   "id": "d284b7e3d098d81f",
   "outputs": [],
   "execution_count": 8
  },
  {
   "metadata": {
    "ExecuteTime": {
     "end_time": "2025-06-04T10:44:41.253050Z",
     "start_time": "2025-06-04T10:44:41.214067Z"
    }
   },
   "cell_type": "code",
   "source": "X_reshaped = X.values.reshape(-1, 28, 28, 3)",
   "id": "20537a2862920c1a",
   "outputs": [],
   "execution_count": 9
  },
  {
   "metadata": {
    "ExecuteTime": {
     "end_time": "2025-06-04T10:44:41.288426Z",
     "start_time": "2025-06-04T10:44:41.284475Z"
    }
   },
   "cell_type": "code",
   "source": [
    "# Convert y to one-hot encoding\n",
    "y_cat = to_categorical(y)\n",
    "y_cat"
   ],
   "id": "a820ed98a9da8124",
   "outputs": [
    {
     "data": {
      "text/plain": [
       "array([[0., 0., 0., ..., 1., 0., 0.],\n",
       "       [0., 0., 0., ..., 1., 0., 0.],\n",
       "       [0., 0., 0., ..., 1., 0., 0.],\n",
       "       ...,\n",
       "       [0., 0., 0., ..., 1., 0., 0.],\n",
       "       [0., 0., 0., ..., 1., 0., 0.],\n",
       "       [0., 0., 0., ..., 0., 0., 1.]])"
      ]
     },
     "execution_count": 10,
     "metadata": {},
     "output_type": "execute_result"
    }
   ],
   "execution_count": 10
  },
  {
   "metadata": {
    "ExecuteTime": {
     "end_time": "2025-06-04T10:44:41.416294Z",
     "start_time": "2025-06-04T10:44:41.344390Z"
    }
   },
   "cell_type": "code",
   "source": "X = X/255.0",
   "id": "9fdbdf4279516fcb",
   "outputs": [],
   "execution_count": 11
  },
  {
   "metadata": {
    "ExecuteTime": {
     "end_time": "2025-06-04T10:44:41.714951Z",
     "start_time": "2025-06-04T10:44:41.566408Z"
    }
   },
   "cell_type": "code",
   "source": "X_train, X_test,y_train, y_test = train_test_split(X_reshaped, y_cat, test_size=0.3, random_state=42)",
   "id": "c41ffa6a8b14572c",
   "outputs": [],
   "execution_count": 12
  },
  {
   "metadata": {},
   "cell_type": "markdown",
   "source": "# Model Architecture",
   "id": "241e3083c73c4589"
  },
  {
   "metadata": {
    "ExecuteTime": {
     "end_time": "2025-06-04T10:44:41.833740Z",
     "start_time": "2025-06-04T10:44:41.768794Z"
    }
   },
   "cell_type": "code",
   "source": [
    "#Model Architecture ---\n",
    "\n",
    "model = Sequential([\n",
    "    Input(shape=(28, 28, 3)),  # or (28, 28, 3) for RGB\n",
    "    Conv2D(16, (3,3), activation='relu'),\n",
    "    MaxPooling2D(2,2),\n",
    "    Conv2D(32, (3,3), activation='relu'),\n",
    "    MaxPooling2D(2,2),\n",
    "    Flatten(),\n",
    "    Dense(64, activation='relu'),\n",
    "    Dropout(0.6),\n",
    "    Dense(7, activation='softmax')\n",
    "])"
   ],
   "id": "83d912433d1ec49a",
   "outputs": [],
   "execution_count": 13
  },
  {
   "metadata": {
    "ExecuteTime": {
     "end_time": "2025-06-04T10:44:41.879157Z",
     "start_time": "2025-06-04T10:44:41.871600Z"
    }
   },
   "cell_type": "code",
   "source": "model.summary()",
   "id": "193cb8cbf9c2701e",
   "outputs": [
    {
     "data": {
      "text/plain": [
       "\u001B[1mModel: \"sequential\"\u001B[0m\n"
      ],
      "text/html": [
       "<pre style=\"white-space:pre;overflow-x:auto;line-height:normal;font-family:Menlo,'DejaVu Sans Mono',consolas,'Courier New',monospace\"><span style=\"font-weight: bold\">Model: \"sequential\"</span>\n",
       "</pre>\n"
      ]
     },
     "metadata": {},
     "output_type": "display_data"
    },
    {
     "data": {
      "text/plain": [
       "┏━━━━━━━━━━━━━━━━━━━━━━━━━━━━━━━━━┳━━━━━━━━━━━━━━━━━━━━━━━━┳━━━━━━━━━━━━━━━┓\n",
       "┃\u001B[1m \u001B[0m\u001B[1mLayer (type)                   \u001B[0m\u001B[1m \u001B[0m┃\u001B[1m \u001B[0m\u001B[1mOutput Shape          \u001B[0m\u001B[1m \u001B[0m┃\u001B[1m \u001B[0m\u001B[1m      Param #\u001B[0m\u001B[1m \u001B[0m┃\n",
       "┡━━━━━━━━━━━━━━━━━━━━━━━━━━━━━━━━━╇━━━━━━━━━━━━━━━━━━━━━━━━╇━━━━━━━━━━━━━━━┩\n",
       "│ conv2d (\u001B[38;5;33mConv2D\u001B[0m)                 │ (\u001B[38;5;45mNone\u001B[0m, \u001B[38;5;34m26\u001B[0m, \u001B[38;5;34m26\u001B[0m, \u001B[38;5;34m16\u001B[0m)     │           \u001B[38;5;34m448\u001B[0m │\n",
       "├─────────────────────────────────┼────────────────────────┼───────────────┤\n",
       "│ max_pooling2d (\u001B[38;5;33mMaxPooling2D\u001B[0m)    │ (\u001B[38;5;45mNone\u001B[0m, \u001B[38;5;34m13\u001B[0m, \u001B[38;5;34m13\u001B[0m, \u001B[38;5;34m16\u001B[0m)     │             \u001B[38;5;34m0\u001B[0m │\n",
       "├─────────────────────────────────┼────────────────────────┼───────────────┤\n",
       "│ conv2d_1 (\u001B[38;5;33mConv2D\u001B[0m)               │ (\u001B[38;5;45mNone\u001B[0m, \u001B[38;5;34m11\u001B[0m, \u001B[38;5;34m11\u001B[0m, \u001B[38;5;34m32\u001B[0m)     │         \u001B[38;5;34m4,640\u001B[0m │\n",
       "├─────────────────────────────────┼────────────────────────┼───────────────┤\n",
       "│ max_pooling2d_1 (\u001B[38;5;33mMaxPooling2D\u001B[0m)  │ (\u001B[38;5;45mNone\u001B[0m, \u001B[38;5;34m5\u001B[0m, \u001B[38;5;34m5\u001B[0m, \u001B[38;5;34m32\u001B[0m)       │             \u001B[38;5;34m0\u001B[0m │\n",
       "├─────────────────────────────────┼────────────────────────┼───────────────┤\n",
       "│ flatten (\u001B[38;5;33mFlatten\u001B[0m)               │ (\u001B[38;5;45mNone\u001B[0m, \u001B[38;5;34m800\u001B[0m)            │             \u001B[38;5;34m0\u001B[0m │\n",
       "├─────────────────────────────────┼────────────────────────┼───────────────┤\n",
       "│ dense (\u001B[38;5;33mDense\u001B[0m)                   │ (\u001B[38;5;45mNone\u001B[0m, \u001B[38;5;34m64\u001B[0m)             │        \u001B[38;5;34m51,264\u001B[0m │\n",
       "├─────────────────────────────────┼────────────────────────┼───────────────┤\n",
       "│ dropout (\u001B[38;5;33mDropout\u001B[0m)               │ (\u001B[38;5;45mNone\u001B[0m, \u001B[38;5;34m64\u001B[0m)             │             \u001B[38;5;34m0\u001B[0m │\n",
       "├─────────────────────────────────┼────────────────────────┼───────────────┤\n",
       "│ dense_1 (\u001B[38;5;33mDense\u001B[0m)                 │ (\u001B[38;5;45mNone\u001B[0m, \u001B[38;5;34m7\u001B[0m)              │           \u001B[38;5;34m455\u001B[0m │\n",
       "└─────────────────────────────────┴────────────────────────┴───────────────┘\n"
      ],
      "text/html": [
       "<pre style=\"white-space:pre;overflow-x:auto;line-height:normal;font-family:Menlo,'DejaVu Sans Mono',consolas,'Courier New',monospace\">┏━━━━━━━━━━━━━━━━━━━━━━━━━━━━━━━━━┳━━━━━━━━━━━━━━━━━━━━━━━━┳━━━━━━━━━━━━━━━┓\n",
       "┃<span style=\"font-weight: bold\"> Layer (type)                    </span>┃<span style=\"font-weight: bold\"> Output Shape           </span>┃<span style=\"font-weight: bold\">       Param # </span>┃\n",
       "┡━━━━━━━━━━━━━━━━━━━━━━━━━━━━━━━━━╇━━━━━━━━━━━━━━━━━━━━━━━━╇━━━━━━━━━━━━━━━┩\n",
       "│ conv2d (<span style=\"color: #0087ff; text-decoration-color: #0087ff\">Conv2D</span>)                 │ (<span style=\"color: #00d7ff; text-decoration-color: #00d7ff\">None</span>, <span style=\"color: #00af00; text-decoration-color: #00af00\">26</span>, <span style=\"color: #00af00; text-decoration-color: #00af00\">26</span>, <span style=\"color: #00af00; text-decoration-color: #00af00\">16</span>)     │           <span style=\"color: #00af00; text-decoration-color: #00af00\">448</span> │\n",
       "├─────────────────────────────────┼────────────────────────┼───────────────┤\n",
       "│ max_pooling2d (<span style=\"color: #0087ff; text-decoration-color: #0087ff\">MaxPooling2D</span>)    │ (<span style=\"color: #00d7ff; text-decoration-color: #00d7ff\">None</span>, <span style=\"color: #00af00; text-decoration-color: #00af00\">13</span>, <span style=\"color: #00af00; text-decoration-color: #00af00\">13</span>, <span style=\"color: #00af00; text-decoration-color: #00af00\">16</span>)     │             <span style=\"color: #00af00; text-decoration-color: #00af00\">0</span> │\n",
       "├─────────────────────────────────┼────────────────────────┼───────────────┤\n",
       "│ conv2d_1 (<span style=\"color: #0087ff; text-decoration-color: #0087ff\">Conv2D</span>)               │ (<span style=\"color: #00d7ff; text-decoration-color: #00d7ff\">None</span>, <span style=\"color: #00af00; text-decoration-color: #00af00\">11</span>, <span style=\"color: #00af00; text-decoration-color: #00af00\">11</span>, <span style=\"color: #00af00; text-decoration-color: #00af00\">32</span>)     │         <span style=\"color: #00af00; text-decoration-color: #00af00\">4,640</span> │\n",
       "├─────────────────────────────────┼────────────────────────┼───────────────┤\n",
       "│ max_pooling2d_1 (<span style=\"color: #0087ff; text-decoration-color: #0087ff\">MaxPooling2D</span>)  │ (<span style=\"color: #00d7ff; text-decoration-color: #00d7ff\">None</span>, <span style=\"color: #00af00; text-decoration-color: #00af00\">5</span>, <span style=\"color: #00af00; text-decoration-color: #00af00\">5</span>, <span style=\"color: #00af00; text-decoration-color: #00af00\">32</span>)       │             <span style=\"color: #00af00; text-decoration-color: #00af00\">0</span> │\n",
       "├─────────────────────────────────┼────────────────────────┼───────────────┤\n",
       "│ flatten (<span style=\"color: #0087ff; text-decoration-color: #0087ff\">Flatten</span>)               │ (<span style=\"color: #00d7ff; text-decoration-color: #00d7ff\">None</span>, <span style=\"color: #00af00; text-decoration-color: #00af00\">800</span>)            │             <span style=\"color: #00af00; text-decoration-color: #00af00\">0</span> │\n",
       "├─────────────────────────────────┼────────────────────────┼───────────────┤\n",
       "│ dense (<span style=\"color: #0087ff; text-decoration-color: #0087ff\">Dense</span>)                   │ (<span style=\"color: #00d7ff; text-decoration-color: #00d7ff\">None</span>, <span style=\"color: #00af00; text-decoration-color: #00af00\">64</span>)             │        <span style=\"color: #00af00; text-decoration-color: #00af00\">51,264</span> │\n",
       "├─────────────────────────────────┼────────────────────────┼───────────────┤\n",
       "│ dropout (<span style=\"color: #0087ff; text-decoration-color: #0087ff\">Dropout</span>)               │ (<span style=\"color: #00d7ff; text-decoration-color: #00d7ff\">None</span>, <span style=\"color: #00af00; text-decoration-color: #00af00\">64</span>)             │             <span style=\"color: #00af00; text-decoration-color: #00af00\">0</span> │\n",
       "├─────────────────────────────────┼────────────────────────┼───────────────┤\n",
       "│ dense_1 (<span style=\"color: #0087ff; text-decoration-color: #0087ff\">Dense</span>)                 │ (<span style=\"color: #00d7ff; text-decoration-color: #00d7ff\">None</span>, <span style=\"color: #00af00; text-decoration-color: #00af00\">7</span>)              │           <span style=\"color: #00af00; text-decoration-color: #00af00\">455</span> │\n",
       "└─────────────────────────────────┴────────────────────────┴───────────────┘\n",
       "</pre>\n"
      ]
     },
     "metadata": {},
     "output_type": "display_data"
    },
    {
     "data": {
      "text/plain": [
       "\u001B[1m Total params: \u001B[0m\u001B[38;5;34m56,807\u001B[0m (221.90 KB)\n"
      ],
      "text/html": [
       "<pre style=\"white-space:pre;overflow-x:auto;line-height:normal;font-family:Menlo,'DejaVu Sans Mono',consolas,'Courier New',monospace\"><span style=\"font-weight: bold\"> Total params: </span><span style=\"color: #00af00; text-decoration-color: #00af00\">56,807</span> (221.90 KB)\n",
       "</pre>\n"
      ]
     },
     "metadata": {},
     "output_type": "display_data"
    },
    {
     "data": {
      "text/plain": [
       "\u001B[1m Trainable params: \u001B[0m\u001B[38;5;34m56,807\u001B[0m (221.90 KB)\n"
      ],
      "text/html": [
       "<pre style=\"white-space:pre;overflow-x:auto;line-height:normal;font-family:Menlo,'DejaVu Sans Mono',consolas,'Courier New',monospace\"><span style=\"font-weight: bold\"> Trainable params: </span><span style=\"color: #00af00; text-decoration-color: #00af00\">56,807</span> (221.90 KB)\n",
       "</pre>\n"
      ]
     },
     "metadata": {},
     "output_type": "display_data"
    },
    {
     "data": {
      "text/plain": [
       "\u001B[1m Non-trainable params: \u001B[0m\u001B[38;5;34m0\u001B[0m (0.00 B)\n"
      ],
      "text/html": [
       "<pre style=\"white-space:pre;overflow-x:auto;line-height:normal;font-family:Menlo,'DejaVu Sans Mono',consolas,'Courier New',monospace\"><span style=\"font-weight: bold\"> Non-trainable params: </span><span style=\"color: #00af00; text-decoration-color: #00af00\">0</span> (0.00 B)\n",
       "</pre>\n"
      ]
     },
     "metadata": {},
     "output_type": "display_data"
    }
   ],
   "execution_count": 14
  },
  {
   "metadata": {
    "ExecuteTime": {
     "end_time": "2025-06-04T10:44:41.926509Z",
     "start_time": "2025-06-04T10:44:41.921213Z"
    }
   },
   "cell_type": "code",
   "source": [
    "model.compile(optimizer='adam',\n",
    "              loss='categorical_crossentropy',\n",
    "              metrics=['accuracy','recall']) # maybe recall"
   ],
   "id": "85dd3d42d5b26711",
   "outputs": [],
   "execution_count": 15
  },
  {
   "metadata": {
    "ExecuteTime": {
     "end_time": "2025-06-04T10:44:41.958757Z",
     "start_time": "2025-06-04T10:44:41.956393Z"
    }
   },
   "cell_type": "code",
   "source": "y_train.shape",
   "id": "6b865b457842493c",
   "outputs": [
    {
     "data": {
      "text/plain": [
       "(7010, 7)"
      ]
     },
     "execution_count": 16,
     "metadata": {},
     "output_type": "execute_result"
    }
   ],
   "execution_count": 16
  },
  {
   "metadata": {
    "ExecuteTime": {
     "end_time": "2025-06-04T10:45:47.432578Z",
     "start_time": "2025-06-04T10:44:41.995830Z"
    }
   },
   "cell_type": "code",
   "source": [
    "es = EarlyStopping(patience=20, restore_best_weights=True)\n",
    "history = model.fit(X_train, y_train, epochs=100, batch_size=32,verbose=2, validation_split=0.2, callbacks=[es])"
   ],
   "id": "f96b3dc17956433",
   "outputs": [
    {
     "name": "stdout",
     "output_type": "stream",
     "text": [
      "Epoch 1/100\n",
      "176/176 - 1s - 7ms/step - accuracy: 0.6435 - loss: 3.8387 - recall: 0.0214 - val_accuracy: 0.6705 - val_loss: 1.7813 - val_recall: 0.0000e+00\n",
      "Epoch 2/100\n",
      "176/176 - 1s - 4ms/step - accuracy: 0.6723 - loss: 1.7056 - recall: 0.0000e+00 - val_accuracy: 0.6712 - val_loss: 1.6362 - val_recall: 0.0000e+00\n",
      "Epoch 3/100\n",
      "176/176 - 1s - 4ms/step - accuracy: 0.6724 - loss: 1.5718 - recall: 0.0000e+00 - val_accuracy: 0.6712 - val_loss: 1.5160 - val_recall: 0.0000e+00\n",
      "Epoch 4/100\n",
      "176/176 - 1s - 4ms/step - accuracy: 0.6705 - loss: 1.4928 - recall: 0.0112 - val_accuracy: 0.6719 - val_loss: 1.4184 - val_recall: 0.0000e+00\n",
      "Epoch 5/100\n",
      "176/176 - 1s - 4ms/step - accuracy: 0.6724 - loss: 1.3781 - recall: 0.0000e+00 - val_accuracy: 0.6719 - val_loss: 1.3433 - val_recall: 0.0000e+00\n",
      "Epoch 6/100\n",
      "176/176 - 1s - 4ms/step - accuracy: 0.6724 - loss: 1.3122 - recall: 0.0000e+00 - val_accuracy: 0.6719 - val_loss: 1.2868 - val_recall: 0.0000e+00\n",
      "Epoch 7/100\n",
      "176/176 - 1s - 4ms/step - accuracy: 0.6724 - loss: 1.2629 - recall: 0.0000e+00 - val_accuracy: 0.6719 - val_loss: 1.2451 - val_recall: 0.0000e+00\n",
      "Epoch 8/100\n",
      "176/176 - 1s - 4ms/step - accuracy: 0.6724 - loss: 1.2270 - recall: 0.4082 - val_accuracy: 0.6719 - val_loss: 1.2148 - val_recall: 0.6719\n",
      "Epoch 9/100\n",
      "176/176 - 1s - 4ms/step - accuracy: 0.6724 - loss: 1.2009 - recall: 0.6724 - val_accuracy: 0.6719 - val_loss: 1.1928 - val_recall: 0.6719\n",
      "Epoch 10/100\n",
      "176/176 - 1s - 4ms/step - accuracy: 0.6724 - loss: 1.1821 - recall: 0.6724 - val_accuracy: 0.6719 - val_loss: 1.1771 - val_recall: 0.6719\n",
      "Epoch 11/100\n",
      "176/176 - 1s - 4ms/step - accuracy: 0.6724 - loss: 1.1685 - recall: 0.6724 - val_accuracy: 0.6719 - val_loss: 1.1657 - val_recall: 0.6719\n",
      "Epoch 12/100\n",
      "176/176 - 1s - 4ms/step - accuracy: 0.6724 - loss: 1.1587 - recall: 0.6724 - val_accuracy: 0.6719 - val_loss: 1.1573 - val_recall: 0.6719\n",
      "Epoch 13/100\n",
      "176/176 - 1s - 4ms/step - accuracy: 0.6724 - loss: 1.1515 - recall: 0.6724 - val_accuracy: 0.6719 - val_loss: 1.1511 - val_recall: 0.6719\n",
      "Epoch 14/100\n",
      "176/176 - 1s - 4ms/step - accuracy: 0.6724 - loss: 1.1463 - recall: 0.6724 - val_accuracy: 0.6719 - val_loss: 1.1465 - val_recall: 0.6719\n",
      "Epoch 15/100\n",
      "176/176 - 1s - 4ms/step - accuracy: 0.6724 - loss: 1.1424 - recall: 0.6724 - val_accuracy: 0.6719 - val_loss: 1.1431 - val_recall: 0.6719\n",
      "Epoch 16/100\n",
      "176/176 - 1s - 4ms/step - accuracy: 0.6724 - loss: 1.1393 - recall: 0.6724 - val_accuracy: 0.6719 - val_loss: 1.1404 - val_recall: 0.6719\n",
      "Epoch 17/100\n",
      "176/176 - 1s - 4ms/step - accuracy: 0.6724 - loss: 1.1370 - recall: 0.6724 - val_accuracy: 0.6719 - val_loss: 1.1383 - val_recall: 0.6719\n",
      "Epoch 18/100\n",
      "176/176 - 1s - 4ms/step - accuracy: 0.6724 - loss: 1.1352 - recall: 0.6724 - val_accuracy: 0.6719 - val_loss: 1.1365 - val_recall: 0.6719\n",
      "Epoch 19/100\n",
      "176/176 - 1s - 4ms/step - accuracy: 0.6724 - loss: 1.1338 - recall: 0.6724 - val_accuracy: 0.6719 - val_loss: 1.1352 - val_recall: 0.6719\n",
      "Epoch 20/100\n",
      "176/176 - 1s - 4ms/step - accuracy: 0.6724 - loss: 1.1327 - recall: 0.6724 - val_accuracy: 0.6719 - val_loss: 1.1342 - val_recall: 0.6719\n",
      "Epoch 21/100\n",
      "176/176 - 1s - 4ms/step - accuracy: 0.6724 - loss: 1.1318 - recall: 0.6724 - val_accuracy: 0.6719 - val_loss: 1.1332 - val_recall: 0.6719\n",
      "Epoch 22/100\n",
      "176/176 - 1s - 4ms/step - accuracy: 0.6724 - loss: 1.1311 - recall: 0.6724 - val_accuracy: 0.6719 - val_loss: 1.1324 - val_recall: 0.6719\n",
      "Epoch 23/100\n",
      "176/176 - 1s - 4ms/step - accuracy: 0.6724 - loss: 1.1305 - recall: 0.6724 - val_accuracy: 0.6719 - val_loss: 1.1318 - val_recall: 0.6719\n",
      "Epoch 24/100\n",
      "176/176 - 1s - 4ms/step - accuracy: 0.6724 - loss: 1.1301 - recall: 0.6724 - val_accuracy: 0.6719 - val_loss: 1.1312 - val_recall: 0.6719\n",
      "Epoch 25/100\n",
      "176/176 - 1s - 4ms/step - accuracy: 0.6724 - loss: 1.1297 - recall: 0.6724 - val_accuracy: 0.6719 - val_loss: 1.1308 - val_recall: 0.6719\n",
      "Epoch 26/100\n",
      "176/176 - 1s - 4ms/step - accuracy: 0.6724 - loss: 1.1294 - recall: 0.6724 - val_accuracy: 0.6719 - val_loss: 1.1305 - val_recall: 0.6719\n",
      "Epoch 27/100\n",
      "176/176 - 1s - 4ms/step - accuracy: 0.6724 - loss: 1.1291 - recall: 0.6724 - val_accuracy: 0.6719 - val_loss: 1.1302 - val_recall: 0.6719\n",
      "Epoch 28/100\n",
      "176/176 - 1s - 4ms/step - accuracy: 0.6724 - loss: 1.1290 - recall: 0.6724 - val_accuracy: 0.6719 - val_loss: 1.1299 - val_recall: 0.6719\n",
      "Epoch 29/100\n",
      "176/176 - 1s - 4ms/step - accuracy: 0.6724 - loss: 1.1288 - recall: 0.6724 - val_accuracy: 0.6719 - val_loss: 1.1297 - val_recall: 0.6719\n",
      "Epoch 30/100\n",
      "176/176 - 1s - 4ms/step - accuracy: 0.6724 - loss: 1.1287 - recall: 0.6724 - val_accuracy: 0.6719 - val_loss: 1.1295 - val_recall: 0.6719\n",
      "Epoch 31/100\n",
      "176/176 - 1s - 4ms/step - accuracy: 0.6724 - loss: 1.1286 - recall: 0.6724 - val_accuracy: 0.6719 - val_loss: 1.1293 - val_recall: 0.6719\n",
      "Epoch 32/100\n",
      "176/176 - 1s - 4ms/step - accuracy: 0.6724 - loss: 1.1285 - recall: 0.6724 - val_accuracy: 0.6719 - val_loss: 1.1293 - val_recall: 0.6719\n",
      "Epoch 33/100\n",
      "176/176 - 1s - 4ms/step - accuracy: 0.6724 - loss: 1.1284 - recall: 0.6724 - val_accuracy: 0.6719 - val_loss: 1.1291 - val_recall: 0.6719\n",
      "Epoch 34/100\n",
      "176/176 - 1s - 4ms/step - accuracy: 0.6724 - loss: 1.1284 - recall: 0.6724 - val_accuracy: 0.6719 - val_loss: 1.1290 - val_recall: 0.6719\n",
      "Epoch 35/100\n",
      "176/176 - 1s - 4ms/step - accuracy: 0.6724 - loss: 1.1284 - recall: 0.6724 - val_accuracy: 0.6719 - val_loss: 1.1289 - val_recall: 0.6719\n",
      "Epoch 36/100\n",
      "176/176 - 1s - 4ms/step - accuracy: 0.6724 - loss: 1.1284 - recall: 0.6724 - val_accuracy: 0.6719 - val_loss: 1.1289 - val_recall: 0.6719\n",
      "Epoch 37/100\n",
      "176/176 - 1s - 4ms/step - accuracy: 0.6724 - loss: 1.1283 - recall: 0.6724 - val_accuracy: 0.6719 - val_loss: 1.1288 - val_recall: 0.6719\n",
      "Epoch 38/100\n",
      "176/176 - 1s - 4ms/step - accuracy: 0.6724 - loss: 1.1283 - recall: 0.6724 - val_accuracy: 0.6719 - val_loss: 1.1288 - val_recall: 0.6719\n",
      "Epoch 39/100\n",
      "176/176 - 1s - 4ms/step - accuracy: 0.6724 - loss: 1.1283 - recall: 0.6724 - val_accuracy: 0.6719 - val_loss: 1.1288 - val_recall: 0.6719\n",
      "Epoch 40/100\n",
      "176/176 - 1s - 4ms/step - accuracy: 0.6724 - loss: 1.1283 - recall: 0.6724 - val_accuracy: 0.6719 - val_loss: 1.1287 - val_recall: 0.6719\n",
      "Epoch 41/100\n",
      "176/176 - 1s - 4ms/step - accuracy: 0.6724 - loss: 1.1283 - recall: 0.6724 - val_accuracy: 0.6719 - val_loss: 1.1287 - val_recall: 0.6719\n",
      "Epoch 42/100\n",
      "176/176 - 1s - 4ms/step - accuracy: 0.6724 - loss: 1.1283 - recall: 0.6724 - val_accuracy: 0.6719 - val_loss: 1.1286 - val_recall: 0.6719\n",
      "Epoch 43/100\n",
      "176/176 - 1s - 4ms/step - accuracy: 0.6724 - loss: 1.1283 - recall: 0.6724 - val_accuracy: 0.6719 - val_loss: 1.1287 - val_recall: 0.6719\n",
      "Epoch 44/100\n",
      "176/176 - 1s - 4ms/step - accuracy: 0.6724 - loss: 1.1283 - recall: 0.6724 - val_accuracy: 0.6719 - val_loss: 1.1286 - val_recall: 0.6719\n",
      "Epoch 45/100\n",
      "176/176 - 1s - 4ms/step - accuracy: 0.6724 - loss: 1.1283 - recall: 0.6724 - val_accuracy: 0.6719 - val_loss: 1.1286 - val_recall: 0.6719\n",
      "Epoch 46/100\n",
      "176/176 - 1s - 4ms/step - accuracy: 0.6724 - loss: 1.1283 - recall: 0.6724 - val_accuracy: 0.6719 - val_loss: 1.1286 - val_recall: 0.6719\n",
      "Epoch 47/100\n",
      "176/176 - 1s - 4ms/step - accuracy: 0.6724 - loss: 1.1283 - recall: 0.6724 - val_accuracy: 0.6719 - val_loss: 1.1286 - val_recall: 0.6719\n",
      "Epoch 48/100\n",
      "176/176 - 1s - 4ms/step - accuracy: 0.6724 - loss: 1.1283 - recall: 0.6724 - val_accuracy: 0.6719 - val_loss: 1.1286 - val_recall: 0.6719\n",
      "Epoch 49/100\n",
      "176/176 - 1s - 4ms/step - accuracy: 0.6724 - loss: 1.1282 - recall: 0.6724 - val_accuracy: 0.6719 - val_loss: 1.1286 - val_recall: 0.6719\n",
      "Epoch 50/100\n",
      "176/176 - 1s - 4ms/step - accuracy: 0.6724 - loss: 1.1283 - recall: 0.6724 - val_accuracy: 0.6719 - val_loss: 1.1287 - val_recall: 0.6719\n",
      "Epoch 51/100\n",
      "176/176 - 1s - 4ms/step - accuracy: 0.6724 - loss: 1.1283 - recall: 0.6724 - val_accuracy: 0.6719 - val_loss: 1.1286 - val_recall: 0.6719\n",
      "Epoch 52/100\n",
      "176/176 - 1s - 4ms/step - accuracy: 0.6724 - loss: 1.1283 - recall: 0.6724 - val_accuracy: 0.6719 - val_loss: 1.1286 - val_recall: 0.6719\n",
      "Epoch 53/100\n",
      "176/176 - 1s - 4ms/step - accuracy: 0.6724 - loss: 1.1283 - recall: 0.6724 - val_accuracy: 0.6719 - val_loss: 1.1286 - val_recall: 0.6719\n",
      "Epoch 54/100\n",
      "176/176 - 1s - 4ms/step - accuracy: 0.6724 - loss: 1.1283 - recall: 0.6724 - val_accuracy: 0.6719 - val_loss: 1.1285 - val_recall: 0.6719\n",
      "Epoch 55/100\n",
      "176/176 - 1s - 4ms/step - accuracy: 0.6724 - loss: 1.1282 - recall: 0.6724 - val_accuracy: 0.6719 - val_loss: 1.1285 - val_recall: 0.6719\n",
      "Epoch 56/100\n",
      "176/176 - 1s - 4ms/step - accuracy: 0.6724 - loss: 1.1283 - recall: 0.6724 - val_accuracy: 0.6719 - val_loss: 1.1286 - val_recall: 0.6719\n",
      "Epoch 57/100\n",
      "176/176 - 1s - 4ms/step - accuracy: 0.6724 - loss: 1.1283 - recall: 0.6724 - val_accuracy: 0.6719 - val_loss: 1.1285 - val_recall: 0.6719\n",
      "Epoch 58/100\n",
      "176/176 - 1s - 4ms/step - accuracy: 0.6724 - loss: 1.1282 - recall: 0.6724 - val_accuracy: 0.6719 - val_loss: 1.1286 - val_recall: 0.6719\n",
      "Epoch 59/100\n",
      "176/176 - 1s - 4ms/step - accuracy: 0.6724 - loss: 1.1283 - recall: 0.6724 - val_accuracy: 0.6719 - val_loss: 1.1286 - val_recall: 0.6719\n",
      "Epoch 60/100\n",
      "176/176 - 1s - 4ms/step - accuracy: 0.6724 - loss: 1.1282 - recall: 0.6724 - val_accuracy: 0.6719 - val_loss: 1.1285 - val_recall: 0.6719\n",
      "Epoch 61/100\n",
      "176/176 - 1s - 4ms/step - accuracy: 0.6724 - loss: 1.1282 - recall: 0.6724 - val_accuracy: 0.6719 - val_loss: 1.1286 - val_recall: 0.6719\n",
      "Epoch 62/100\n",
      "176/176 - 1s - 4ms/step - accuracy: 0.6724 - loss: 1.1283 - recall: 0.6724 - val_accuracy: 0.6719 - val_loss: 1.1285 - val_recall: 0.6719\n",
      "Epoch 63/100\n",
      "176/176 - 1s - 4ms/step - accuracy: 0.6724 - loss: 1.1282 - recall: 0.6724 - val_accuracy: 0.6719 - val_loss: 1.1285 - val_recall: 0.6719\n",
      "Epoch 64/100\n",
      "176/176 - 1s - 4ms/step - accuracy: 0.6724 - loss: 1.1283 - recall: 0.6724 - val_accuracy: 0.6719 - val_loss: 1.1286 - val_recall: 0.6719\n",
      "Epoch 65/100\n",
      "176/176 - 1s - 4ms/step - accuracy: 0.6724 - loss: 1.1283 - recall: 0.6724 - val_accuracy: 0.6719 - val_loss: 1.1286 - val_recall: 0.6719\n",
      "Epoch 66/100\n",
      "176/176 - 1s - 4ms/step - accuracy: 0.6724 - loss: 1.1283 - recall: 0.6724 - val_accuracy: 0.6719 - val_loss: 1.1286 - val_recall: 0.6719\n",
      "Epoch 67/100\n",
      "176/176 - 1s - 4ms/step - accuracy: 0.6724 - loss: 1.1283 - recall: 0.6724 - val_accuracy: 0.6719 - val_loss: 1.1286 - val_recall: 0.6719\n",
      "Epoch 68/100\n",
      "176/176 - 1s - 4ms/step - accuracy: 0.6724 - loss: 1.1283 - recall: 0.6724 - val_accuracy: 0.6719 - val_loss: 1.1285 - val_recall: 0.6719\n",
      "Epoch 69/100\n",
      "176/176 - 1s - 4ms/step - accuracy: 0.6724 - loss: 1.1283 - recall: 0.6724 - val_accuracy: 0.6719 - val_loss: 1.1286 - val_recall: 0.6719\n",
      "Epoch 70/100\n",
      "176/176 - 1s - 4ms/step - accuracy: 0.6724 - loss: 1.1283 - recall: 0.6724 - val_accuracy: 0.6719 - val_loss: 1.1286 - val_recall: 0.6719\n",
      "Epoch 71/100\n",
      "176/176 - 1s - 4ms/step - accuracy: 0.6724 - loss: 1.1283 - recall: 0.6724 - val_accuracy: 0.6719 - val_loss: 1.1285 - val_recall: 0.6719\n",
      "Epoch 72/100\n",
      "176/176 - 1s - 4ms/step - accuracy: 0.6724 - loss: 1.1282 - recall: 0.6724 - val_accuracy: 0.6719 - val_loss: 1.1285 - val_recall: 0.6719\n",
      "Epoch 73/100\n",
      "176/176 - 1s - 4ms/step - accuracy: 0.6724 - loss: 1.1283 - recall: 0.6724 - val_accuracy: 0.6719 - val_loss: 1.1285 - val_recall: 0.6719\n",
      "Epoch 74/100\n",
      "176/176 - 1s - 4ms/step - accuracy: 0.6724 - loss: 1.1283 - recall: 0.6724 - val_accuracy: 0.6719 - val_loss: 1.1286 - val_recall: 0.6719\n",
      "Epoch 75/100\n",
      "176/176 - 1s - 4ms/step - accuracy: 0.6724 - loss: 1.1282 - recall: 0.6724 - val_accuracy: 0.6719 - val_loss: 1.1285 - val_recall: 0.6719\n",
      "Epoch 76/100\n",
      "176/176 - 1s - 4ms/step - accuracy: 0.6724 - loss: 1.1283 - recall: 0.6724 - val_accuracy: 0.6719 - val_loss: 1.1285 - val_recall: 0.6719\n",
      "Epoch 77/100\n",
      "176/176 - 1s - 4ms/step - accuracy: 0.6724 - loss: 1.1283 - recall: 0.6724 - val_accuracy: 0.6719 - val_loss: 1.1285 - val_recall: 0.6719\n",
      "Epoch 78/100\n",
      "176/176 - 1s - 4ms/step - accuracy: 0.6724 - loss: 1.1283 - recall: 0.6724 - val_accuracy: 0.6719 - val_loss: 1.1285 - val_recall: 0.6719\n",
      "Epoch 79/100\n",
      "176/176 - 1s - 4ms/step - accuracy: 0.6724 - loss: 1.1283 - recall: 0.6724 - val_accuracy: 0.6719 - val_loss: 1.1285 - val_recall: 0.6719\n",
      "Epoch 80/100\n",
      "176/176 - 1s - 4ms/step - accuracy: 0.6724 - loss: 1.1282 - recall: 0.6724 - val_accuracy: 0.6719 - val_loss: 1.1285 - val_recall: 0.6719\n",
      "Epoch 81/100\n",
      "176/176 - 1s - 4ms/step - accuracy: 0.6724 - loss: 1.1282 - recall: 0.6724 - val_accuracy: 0.6719 - val_loss: 1.1285 - val_recall: 0.6719\n",
      "Epoch 82/100\n",
      "176/176 - 1s - 4ms/step - accuracy: 0.6724 - loss: 1.1283 - recall: 0.6724 - val_accuracy: 0.6719 - val_loss: 1.1285 - val_recall: 0.6719\n",
      "Epoch 83/100\n",
      "176/176 - 1s - 4ms/step - accuracy: 0.6724 - loss: 1.1283 - recall: 0.6724 - val_accuracy: 0.6719 - val_loss: 1.1285 - val_recall: 0.6719\n",
      "Epoch 84/100\n",
      "176/176 - 1s - 4ms/step - accuracy: 0.6724 - loss: 1.1283 - recall: 0.6724 - val_accuracy: 0.6719 - val_loss: 1.1285 - val_recall: 0.6719\n",
      "Epoch 85/100\n",
      "176/176 - 1s - 4ms/step - accuracy: 0.6724 - loss: 1.1283 - recall: 0.6724 - val_accuracy: 0.6719 - val_loss: 1.1286 - val_recall: 0.6719\n",
      "Epoch 86/100\n",
      "176/176 - 1s - 4ms/step - accuracy: 0.6724 - loss: 1.1282 - recall: 0.6724 - val_accuracy: 0.6719 - val_loss: 1.1285 - val_recall: 0.6719\n",
      "Epoch 87/100\n",
      "176/176 - 1s - 4ms/step - accuracy: 0.6724 - loss: 1.1283 - recall: 0.6724 - val_accuracy: 0.6719 - val_loss: 1.1286 - val_recall: 0.6719\n",
      "Epoch 88/100\n",
      "176/176 - 1s - 4ms/step - accuracy: 0.6724 - loss: 1.1283 - recall: 0.6724 - val_accuracy: 0.6719 - val_loss: 1.1285 - val_recall: 0.6719\n",
      "Epoch 89/100\n",
      "176/176 - 1s - 4ms/step - accuracy: 0.6724 - loss: 1.1282 - recall: 0.6724 - val_accuracy: 0.6719 - val_loss: 1.1285 - val_recall: 0.6719\n",
      "Epoch 90/100\n",
      "176/176 - 1s - 4ms/step - accuracy: 0.6724 - loss: 1.1282 - recall: 0.6724 - val_accuracy: 0.6719 - val_loss: 1.1285 - val_recall: 0.6719\n",
      "Epoch 91/100\n",
      "176/176 - 1s - 4ms/step - accuracy: 0.6724 - loss: 1.1283 - recall: 0.6724 - val_accuracy: 0.6719 - val_loss: 1.1285 - val_recall: 0.6719\n",
      "Epoch 92/100\n",
      "176/176 - 1s - 4ms/step - accuracy: 0.6724 - loss: 1.1283 - recall: 0.6724 - val_accuracy: 0.6719 - val_loss: 1.1285 - val_recall: 0.6719\n",
      "Epoch 93/100\n",
      "176/176 - 1s - 4ms/step - accuracy: 0.6724 - loss: 1.1283 - recall: 0.6724 - val_accuracy: 0.6719 - val_loss: 1.1285 - val_recall: 0.6719\n",
      "Epoch 94/100\n",
      "176/176 - 1s - 4ms/step - accuracy: 0.6724 - loss: 1.1283 - recall: 0.6724 - val_accuracy: 0.6719 - val_loss: 1.1285 - val_recall: 0.6719\n",
      "Epoch 95/100\n",
      "176/176 - 1s - 4ms/step - accuracy: 0.6724 - loss: 1.1283 - recall: 0.6724 - val_accuracy: 0.6719 - val_loss: 1.1285 - val_recall: 0.6719\n",
      "Epoch 96/100\n",
      "176/176 - 1s - 4ms/step - accuracy: 0.6724 - loss: 1.1283 - recall: 0.6724 - val_accuracy: 0.6719 - val_loss: 1.1285 - val_recall: 0.6719\n",
      "Epoch 97/100\n",
      "176/176 - 1s - 4ms/step - accuracy: 0.6724 - loss: 1.1283 - recall: 0.6724 - val_accuracy: 0.6719 - val_loss: 1.1285 - val_recall: 0.6719\n",
      "Epoch 98/100\n",
      "176/176 - 1s - 4ms/step - accuracy: 0.6724 - loss: 1.1282 - recall: 0.6724 - val_accuracy: 0.6719 - val_loss: 1.1285 - val_recall: 0.6719\n",
      "Epoch 99/100\n",
      "176/176 - 1s - 4ms/step - accuracy: 0.6724 - loss: 1.1283 - recall: 0.6724 - val_accuracy: 0.6719 - val_loss: 1.1285 - val_recall: 0.6719\n",
      "Epoch 100/100\n",
      "176/176 - 1s - 4ms/step - accuracy: 0.6724 - loss: 1.1282 - recall: 0.6724 - val_accuracy: 0.6719 - val_loss: 1.1285 - val_recall: 0.6719\n"
     ]
    }
   ],
   "execution_count": 17
  },
  {
   "metadata": {
    "ExecuteTime": {
     "end_time": "2025-06-04T10:45:47.682157Z",
     "start_time": "2025-06-04T10:45:47.471832Z"
    }
   },
   "cell_type": "code",
   "source": [
    "# plt.plot(history.history['accuracy'], label='train acc')\n",
    "# plt.plot(history.history['val_accuracy'], label='val acc')\n",
    "# plt.legend()\n",
    "# plt.show()\n",
    "\n",
    "plot_loss_accuracy_recall(history, title=None)"
   ],
   "id": "a28f133937d30637",
   "outputs": [
    {
     "data": {
      "text/plain": [
       "<Figure size 2000x700 with 3 Axes>"
      ],
      "image/png": "[encoded data removed]"
     },
     "metadata": {},
     "output_type": "display_data"
    }
   ],
   "execution_count": 18
  },
  {
   "metadata": {
    "ExecuteTime": {
     "end_time": "2025-06-04T10:45:47.817108Z",
     "start_time": "2025-06-04T10:45:47.812243Z"
    }
   },
   "cell_type": "code",
   "source": "pd.DataFrame(history.history)",
   "id": "b9b5e98e573dc4e5",
   "outputs": [
    {
     "data": {
      "text/plain": [
       "    accuracy      loss    recall  val_accuracy  val_loss  val_recall\n",
       "0   0.643545  3.838733  0.021398      0.670471  1.781252    0.000000\n",
       "1   0.672254  1.705583  0.000000      0.671184  1.636190    0.000000\n",
       "2   0.672432  1.571801  0.000000      0.671184  1.515965    0.000000\n",
       "3   0.670471  1.492761  0.011234      0.671897  1.418401    0.000000\n",
       "4   0.672432  1.378098  0.000000      0.671897  1.343330    0.000000\n",
       "..       ...       ...       ...           ...       ...         ...\n",
       "95  0.672432  1.128283  0.672432      0.671897  1.128522    0.671897\n",
       "96  0.672432  1.128273  0.672432      0.671897  1.128530    0.671897\n",
       "97  0.672432  1.128239  0.672432      0.671897  1.128469    0.671897\n",
       "98  0.672432  1.128271  0.672432      0.671897  1.128514    0.671897\n",
       "99  0.672432  1.128245  0.672432      0.671897  1.128495    0.671897\n",
       "\n",
       "[100 rows x 6 columns]"
      ],
      "text/html": [
       "<div>\n",
       "<style scoped>\n",
       "    .dataframe tbody tr th:only-of-type {\n",
       "        vertical-align: middle;\n",
       "    }\n",
       "\n",
       "    .dataframe tbody tr th {\n",
       "        vertical-align: top;\n",
       "    }\n",
       "\n",
       "    .dataframe thead th {\n",
       "        text-align: right;\n",
       "    }\n",
       "</style>\n",
       "<table border=\"1\" class=\"dataframe\">\n",
       "  <thead>\n",
       "    <tr style=\"text-align: right;\">\n",
       "      <th></th>\n",
       "      <th>accuracy</th>\n",
       "      <th>loss</th>\n",
       "      <th>recall</th>\n",
       "      <th>val_accuracy</th>\n",
       "      <th>val_loss</th>\n",
       "      <th>val_recall</th>\n",
       "    </tr>\n",
       "  </thead>\n",
       "  <tbody>\n",
       "    <tr>\n",
       "      <th>0</th>\n",
       "      <td>0.643545</td>\n",
       "      <td>3.838733</td>\n",
       "      <td>0.021398</td>\n",
       "      <td>0.670471</td>\n",
       "      <td>1.781252</td>\n",
       "      <td>0.000000</td>\n",
       "    </tr>\n",
       "    <tr>\n",
       "      <th>1</th>\n",
       "      <td>0.672254</td>\n",
       "      <td>1.705583</td>\n",
       "      <td>0.000000</td>\n",
       "      <td>0.671184</td>\n",
       "      <td>1.636190</td>\n",
       "      <td>0.000000</td>\n",
       "    </tr>\n",
       "    <tr>\n",
       "      <th>2</th>\n",
       "      <td>0.672432</td>\n",
       "      <td>1.571801</td>\n",
       "      <td>0.000000</td>\n",
       "      <td>0.671184</td>\n",
       "      <td>1.515965</td>\n",
       "      <td>0.000000</td>\n",
       "    </tr>\n",
       "    <tr>\n",
       "      <th>3</th>\n",
       "      <td>0.670471</td>\n",
       "      <td>1.492761</td>\n",
       "      <td>0.011234</td>\n",
       "      <td>0.671897</td>\n",
       "      <td>1.418401</td>\n",
       "      <td>0.000000</td>\n",
       "    </tr>\n",
       "    <tr>\n",
       "      <th>4</th>\n",
       "      <td>0.672432</td>\n",
       "      <td>1.378098</td>\n",
       "      <td>0.000000</td>\n",
       "      <td>0.671897</td>\n",
       "      <td>1.343330</td>\n",
       "      <td>0.000000</td>\n",
       "    </tr>\n",
       "    <tr>\n",
       "      <th>...</th>\n",
       "      <td>...</td>\n",
       "      <td>...</td>\n",
       "      <td>...</td>\n",
       "      <td>...</td>\n",
       "      <td>...</td>\n",
       "      <td>...</td>\n",
       "    </tr>\n",
       "    <tr>\n",
       "      <th>95</th>\n",
       "      <td>0.672432</td>\n",
       "      <td>1.128283</td>\n",
       "      <td>0.672432</td>\n",
       "      <td>0.671897</td>\n",
       "      <td>1.128522</td>\n",
       "      <td>0.671897</td>\n",
       "    </tr>\n",
       "    <tr>\n",
       "      <th>96</th>\n",
       "      <td>0.672432</td>\n",
       "      <td>1.128273</td>\n",
       "      <td>0.672432</td>\n",
       "      <td>0.671897</td>\n",
       "      <td>1.128530</td>\n",
       "      <td>0.671897</td>\n",
       "    </tr>\n",
       "    <tr>\n",
       "      <th>97</th>\n",
       "      <td>0.672432</td>\n",
       "      <td>1.128239</td>\n",
       "      <td>0.672432</td>\n",
       "      <td>0.671897</td>\n",
       "      <td>1.128469</td>\n",
       "      <td>0.671897</td>\n",
       "    </tr>\n",
       "    <tr>\n",
       "      <th>98</th>\n",
       "      <td>0.672432</td>\n",
       "      <td>1.128271</td>\n",
       "      <td>0.672432</td>\n",
       "      <td>0.671897</td>\n",
       "      <td>1.128514</td>\n",
       "      <td>0.671897</td>\n",
       "    </tr>\n",
       "    <tr>\n",
       "      <th>99</th>\n",
       "      <td>0.672432</td>\n",
       "      <td>1.128245</td>\n",
       "      <td>0.672432</td>\n",
       "      <td>0.671897</td>\n",
       "      <td>1.128495</td>\n",
       "      <td>0.671897</td>\n",
       "    </tr>\n",
       "  </tbody>\n",
       "</table>\n",
       "<p>100 rows × 6 columns</p>\n",
       "</div>"
      ]
     },
     "execution_count": 19,
     "metadata": {},
     "output_type": "execute_result"
    }
   ],
   "execution_count": 19
  },
  {
   "metadata": {
    "ExecuteTime": {
     "end_time": "2025-06-04T10:45:47.910600Z",
     "start_time": "2025-06-04T10:45:47.907335Z"
    }
   },
   "cell_type": "code",
   "source": "np.max(history.history[\"val_accuracy\"])",
   "id": "254f5db7938b2edf",
   "outputs": [
    {
     "data": {
      "text/plain": [
       "np.float64(0.671897292137146)"
      ]
     },
     "execution_count": 20,
     "metadata": {},
     "output_type": "execute_result"
    }
   ],
   "execution_count": 20
  },
  {
   "metadata": {
    "ExecuteTime": {
     "end_time": "2025-06-04T10:45:48.458974Z",
     "start_time": "2025-06-04T10:45:48.003317Z"
    }
   },
   "cell_type": "code",
   "source": [
    "print(\"Loss,    Accuracy,   Recall\")\n",
    "model.evaluate(X_test, y_test)"
   ],
   "id": "e1dce092abe796fd",
   "outputs": [
    {
     "name": "stdout",
     "output_type": "stream",
     "text": [
      "Loss,    Accuracy,   Recall\n",
      "\u001B[1m94/94\u001B[0m \u001B[32m━━━━━━━━━━━━━━━━━━━━\u001B[0m\u001B[37m\u001B[0m \u001B[1m0s\u001B[0m 3ms/step - accuracy: 0.6696 - loss: 1.1189 - recall: 0.6696\n"
     ]
    },
    {
     "data": {
      "text/plain": [
       "[1.1385390758514404, 0.6628952026367188, 0.6628952026367188]"
      ]
     },
     "execution_count": 21,
     "metadata": {},
     "output_type": "execute_result"
    }
   ],
   "execution_count": 21
  },
  {
   "metadata": {
    "ExecuteTime": {
     "end_time": "2025-06-04T10:45:48.606094Z",
     "start_time": "2025-06-04T10:45:48.603961Z"
    }
   },
   "cell_type": "code",
   "source": "",
   "id": "ea736ad2f6377786",
   "outputs": [],
   "execution_count": null
  }
 ],
 "metadata": {
  "kernelspec": {
   "display_name": "Python 3",
   "language": "python",
   "name": "python3"
  },
  "language_info": {
   "codemirror_mode": {
    "name": "ipython",
    "version": 2
   },
   "file_extension": ".py",
   "mimetype": "text/x-python",
   "name": "python",
   "nbconvert_exporter": "python",
   "pygments_lexer": "ipython2",
   "version": "2.7.6"
  }
 },
 "nbformat": 4,
 "nbformat_minor": 5
}

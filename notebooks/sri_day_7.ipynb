{
 "cells": [
  {
   "cell_type": "code",
   "execution_count": 2,
   "id": "c7cdb748-b6d7-42c4-b15b-6b2e083303ed",
   "metadata": {
    "execution": {
     "iopub.execute_input": "2025-06-10T09:06:07.060186Z",
     "iopub.status.busy": "2025-06-10T09:06:07.059564Z",
     "iopub.status.idle": "2025-06-10T09:06:07.135377Z",
     "shell.execute_reply": "2025-06-10T09:06:07.134106Z",
     "shell.execute_reply.started": "2025-06-10T09:06:07.060146Z"
    }
   },
   "outputs": [],
   "source": [
    "import pandas as pd\n",
    "from google.cloud import bigquery\n",
    "import tensorflow as tf\n",
    "import numpy as np\n",
    "import matplotlib.pyplot as plt\n",
    "import os\n",
    "from google.cloud import storage\n",
    "from tensorflow.keras import callbacks\n",
    "from tensorflow.keras import Sequential, Input, layers\n",
    "from tensorflow.keras import optimizers\n",
    "from tensorflow.keras.callbacks import EarlyStopping\n",
    "from sklearn.model_selection import train_test_split\n",
    "import sys\n",
    "import os\n",
    "\n",
    "# Add parent directory to Python path\n",
    "sys.path.append(os.path.abspath(\"../skin_scan\"))\n",
    "\n",
    "# Now you can import the module\n",
    "import preprocessing\n",
    "from data import get_metadata_from_bq"
   ]
  },
  {
   "cell_type": "code",
   "execution_count": 3,
   "id": "0b40ed92-8ae2-49fb-8fc8-b38df43544d6",
   "metadata": {
    "execution": {
     "iopub.execute_input": "2025-06-10T09:06:41.411197Z",
     "iopub.status.busy": "2025-06-10T09:06:41.410747Z",
     "iopub.status.idle": "2025-06-10T09:06:44.016348Z",
     "shell.execute_reply": "2025-06-10T09:06:44.014221Z",
     "shell.execute_reply.started": "2025-06-10T09:06:41.411166Z"
    }
   },
   "outputs": [],
   "source": [
    "metadata = get_metadata_from_bq()"
   ]
  },
  {
   "cell_type": "code",
   "execution_count": 4,
   "id": "5ec2853d-fa59-4ddc-b309-f4c804cfaed7",
   "metadata": {
    "execution": {
     "iopub.execute_input": "2025-06-10T09:06:44.513988Z",
     "iopub.status.busy": "2025-06-10T09:06:44.513428Z",
     "iopub.status.idle": "2025-06-10T09:06:44.577333Z",
     "shell.execute_reply": "2025-06-10T09:06:44.575507Z",
     "shell.execute_reply.started": "2025-06-10T09:06:44.513953Z"
    }
   },
   "outputs": [
    {
     "data": {
      "text/html": [
       "<div>\n",
       "<style scoped>\n",
       "    .dataframe tbody tr th:only-of-type {\n",
       "        vertical-align: middle;\n",
       "    }\n",
       "\n",
       "    .dataframe tbody tr th {\n",
       "        vertical-align: top;\n",
       "    }\n",
       "\n",
       "    .dataframe thead th {\n",
       "        text-align: right;\n",
       "    }\n",
       "</style>\n",
       "<table border=\"1\" class=\"dataframe\">\n",
       "  <thead>\n",
       "    <tr style=\"text-align: right;\">\n",
       "      <th></th>\n",
       "      <th>lesion_id</th>\n",
       "      <th>image_id</th>\n",
       "      <th>dx</th>\n",
       "      <th>dx_type</th>\n",
       "      <th>age</th>\n",
       "      <th>sex</th>\n",
       "      <th>localization</th>\n",
       "      <th>index</th>\n",
       "    </tr>\n",
       "  </thead>\n",
       "  <tbody>\n",
       "    <tr>\n",
       "      <th>0</th>\n",
       "      <td>HAM_0000550</td>\n",
       "      <td>ISIC_0024306</td>\n",
       "      <td>nv</td>\n",
       "      <td>follow_up</td>\n",
       "      <td>45.0</td>\n",
       "      <td>male</td>\n",
       "      <td>trunk</td>\n",
       "      <td>4349</td>\n",
       "    </tr>\n",
       "    <tr>\n",
       "      <th>1</th>\n",
       "      <td>HAM_0003577</td>\n",
       "      <td>ISIC_0024307</td>\n",
       "      <td>nv</td>\n",
       "      <td>follow_up</td>\n",
       "      <td>50.0</td>\n",
       "      <td>male</td>\n",
       "      <td>lower extremity</td>\n",
       "      <td>4263</td>\n",
       "    </tr>\n",
       "    <tr>\n",
       "      <th>2</th>\n",
       "      <td>HAM_0001477</td>\n",
       "      <td>ISIC_0024308</td>\n",
       "      <td>nv</td>\n",
       "      <td>follow_up</td>\n",
       "      <td>55.0</td>\n",
       "      <td>female</td>\n",
       "      <td>trunk</td>\n",
       "      <td>4217</td>\n",
       "    </tr>\n",
       "    <tr>\n",
       "      <th>3</th>\n",
       "      <td>HAM_0000484</td>\n",
       "      <td>ISIC_0024309</td>\n",
       "      <td>nv</td>\n",
       "      <td>follow_up</td>\n",
       "      <td>40.0</td>\n",
       "      <td>male</td>\n",
       "      <td>trunk</td>\n",
       "      <td>3587</td>\n",
       "    </tr>\n",
       "    <tr>\n",
       "      <th>4</th>\n",
       "      <td>HAM_0003350</td>\n",
       "      <td>ISIC_0024310</td>\n",
       "      <td>mel</td>\n",
       "      <td>histo</td>\n",
       "      <td>60.0</td>\n",
       "      <td>male</td>\n",
       "      <td>chest</td>\n",
       "      <td>1451</td>\n",
       "    </tr>\n",
       "  </tbody>\n",
       "</table>\n",
       "</div>"
      ],
      "text/plain": [
       "     lesion_id      image_id   dx    dx_type   age     sex     localization  \\\n",
       "0  HAM_0000550  ISIC_0024306   nv  follow_up  45.0    male            trunk   \n",
       "1  HAM_0003577  ISIC_0024307   nv  follow_up  50.0    male  lower extremity   \n",
       "2  HAM_0001477  ISIC_0024308   nv  follow_up  55.0  female            trunk   \n",
       "3  HAM_0000484  ISIC_0024309   nv  follow_up  40.0    male            trunk   \n",
       "4  HAM_0003350  ISIC_0024310  mel      histo  60.0    male            chest   \n",
       "\n",
       "   index  \n",
       "0   4349  \n",
       "1   4263  \n",
       "2   4217  \n",
       "3   3587  \n",
       "4   1451  "
      ]
     },
     "execution_count": 4,
     "metadata": {},
     "output_type": "execute_result"
    }
   ],
   "source": [
    "metadata.head()"
   ]
  },
  {
   "cell_type": "code",
   "execution_count": 5,
   "id": "0959dfdb-779c-47f8-aacd-b75b687418c6",
   "metadata": {
    "execution": {
     "iopub.execute_input": "2025-06-10T09:07:19.000398Z",
     "iopub.status.busy": "2025-06-10T09:07:18.998601Z",
     "iopub.status.idle": "2025-06-10T09:07:19.069148Z",
     "shell.execute_reply": "2025-06-10T09:07:19.066182Z",
     "shell.execute_reply.started": "2025-06-10T09:07:19.000355Z"
    }
   },
   "outputs": [],
   "source": [
    "metadata = preprocessing.preprocess_metadata(metadata)"
   ]
  },
  {
   "cell_type": "code",
   "execution_count": 6,
   "id": "32ca59e8-a1fc-4e97-b61f-670cc6a1b65f",
   "metadata": {
    "execution": {
     "iopub.execute_input": "2025-06-10T09:07:34.686143Z",
     "iopub.status.busy": "2025-06-10T09:07:34.685709Z",
     "iopub.status.idle": "2025-06-10T09:07:34.698202Z",
     "shell.execute_reply": "2025-06-10T09:07:34.695855Z",
     "shell.execute_reply.started": "2025-06-10T09:07:34.686113Z"
    }
   },
   "outputs": [],
   "source": [
    "y = metadata[[\"dx\"]]"
   ]
  },
  {
   "cell_type": "code",
   "execution_count": 8,
   "id": "0d57852e-3215-495d-b273-266783dda83b",
   "metadata": {
    "execution": {
     "iopub.execute_input": "2025-06-10T09:08:41.706436Z",
     "iopub.status.busy": "2025-06-10T09:08:41.705858Z",
     "iopub.status.idle": "2025-06-10T09:08:42.161217Z",
     "shell.execute_reply": "2025-06-10T09:08:42.159432Z",
     "shell.execute_reply.started": "2025-06-10T09:08:41.706392Z"
    }
   },
   "outputs": [
    {
     "name": "stdout",
     "output_type": "stream",
     "text": [
      "✅ class_names uploaded to GCS at gs://skin_scan_mohnatz/models/class_names.joblib\n"
     ]
    }
   ],
   "source": [
    "y = preprocessing.run_y_pipeline(y)"
   ]
  },
  {
   "cell_type": "code",
   "execution_count": 9,
   "id": "7c2af2e0-76ea-4d05-ad48-3e1558aa7304",
   "metadata": {
    "execution": {
     "iopub.execute_input": "2025-06-10T09:09:02.049938Z",
     "iopub.status.busy": "2025-06-10T09:09:02.049340Z",
     "iopub.status.idle": "2025-06-10T09:09:02.301462Z",
     "shell.execute_reply": "2025-06-10T09:09:02.299531Z",
     "shell.execute_reply.started": "2025-06-10T09:09:02.049906Z"
    }
   },
   "outputs": [
    {
     "name": "stdout",
     "output_type": "stream",
     "text": [
      "✅ class_names loaded from GCS\n"
     ]
    }
   ],
   "source": [
    "class_test = preprocessing.load_class_names_from_gcs()"
   ]
  },
  {
   "cell_type": "code",
   "execution_count": 10,
   "id": "6ce6f036-285e-49ff-a21e-b7cfb3e291f1",
   "metadata": {
    "execution": {
     "iopub.execute_input": "2025-06-10T09:09:05.695426Z",
     "iopub.status.busy": "2025-06-10T09:09:05.694557Z",
     "iopub.status.idle": "2025-06-10T09:09:05.709548Z",
     "shell.execute_reply": "2025-06-10T09:09:05.707504Z",
     "shell.execute_reply.started": "2025-06-10T09:09:05.695375Z"
    }
   },
   "outputs": [
    {
     "data": {
      "text/plain": [
       "array(['akiec', 'bcc', 'bkl', 'df', 'mel', 'nv', 'vasc'], dtype=object)"
      ]
     },
     "execution_count": 10,
     "metadata": {},
     "output_type": "execute_result"
    }
   ],
   "source": [
    "class_test"
   ]
  },
  {
   "cell_type": "code",
   "execution_count": 11,
   "id": "f60434e0-ec65-48f4-8821-c7c77507427d",
   "metadata": {
    "execution": {
     "iopub.execute_input": "2025-06-10T09:10:45.259628Z",
     "iopub.status.busy": "2025-06-10T09:10:45.258609Z",
     "iopub.status.idle": "2025-06-10T09:10:45.664234Z",
     "shell.execute_reply": "2025-06-10T09:10:45.662199Z",
     "shell.execute_reply.started": "2025-06-10T09:10:45.259564Z"
    }
   },
   "outputs": [
    {
     "name": "stdout",
     "output_type": "stream",
     "text": [
      "✅ Preprocessor saved locally at preprocessing_pipeline/preprocessor_joblib\n",
      "✅ Preprocessor uploaded to GCS at gs://skin_scan_mohnatz/models/preprocessor_joblib\n"
     ]
    }
   ],
   "source": [
    "metadata_X = preprocessing.create_X_pipeline(metadata)"
   ]
  },
  {
   "cell_type": "code",
   "execution_count": null,
   "id": "c9344a9b-8bd5-4493-a790-30cc854f43de",
   "metadata": {},
   "outputs": [],
   "source": []
  }
 ],
 "metadata": {
  "kernelspec": {
   "display_name": "Python 3 (ipykernel)",
   "language": "python",
   "name": "python3"
  },
  "language_info": {
   "codemirror_mode": {
    "name": "ipython",
    "version": 3
   },
   "file_extension": ".py",
   "mimetype": "text/x-python",
   "name": "python",
   "nbconvert_exporter": "python",
   "pygments_lexer": "ipython3",
   "version": "3.12.9"
  }
 },
 "nbformat": 4,
 "nbformat_minor": 5
}

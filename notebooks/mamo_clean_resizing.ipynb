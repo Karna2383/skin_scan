{
 "cells": [
  {
   "cell_type": "code",
   "execution_count": 1,
   "id": "a2a98ed7-6a92-4491-89a1-a50a4cd921e7",
   "metadata": {
    "execution": {
     "iopub.execute_input": "2025-06-05T16:54:31.652641Z",
     "iopub.status.busy": "2025-06-05T16:54:31.652168Z",
     "iopub.status.idle": "2025-06-05T16:54:39.202320Z",
     "shell.execute_reply": "2025-06-05T16:54:39.201295Z",
     "shell.execute_reply.started": "2025-06-05T16:54:31.652605Z"
    }
   },
   "outputs": [
    {
     "name": "stderr",
     "output_type": "stream",
     "text": [
      "2025-06-05 17:54:33.610351: I tensorflow/core/util/port.cc:153] oneDNN custom operations are on. You may see slightly different numerical results due to floating-point round-off errors from different computation orders. To turn them off, set the environment variable `TF_ENABLE_ONEDNN_OPTS=0`.\n",
      "2025-06-05 17:54:33.627493: I external/local_xla/xla/tsl/cuda/cudart_stub.cc:32] Could not find cuda drivers on your machine, GPU will not be used.\n",
      "2025-06-05 17:54:33.753123: I external/local_xla/xla/tsl/cuda/cudart_stub.cc:32] Could not find cuda drivers on your machine, GPU will not be used.\n",
      "2025-06-05 17:54:33.864596: E external/local_xla/xla/stream_executor/cuda/cuda_fft.cc:467] Unable to register cuFFT factory: Attempting to register factory for plugin cuFFT when one has already been registered\n",
      "WARNING: All log messages before absl::InitializeLog() is called are written to STDERR\n",
      "E0000 00:00:1749142473.952512  126217 cuda_dnn.cc:8579] Unable to register cuDNN factory: Attempting to register factory for plugin cuDNN when one has already been registered\n",
      "E0000 00:00:1749142473.979514  126217 cuda_blas.cc:1407] Unable to register cuBLAS factory: Attempting to register factory for plugin cuBLAS when one has already been registered\n",
      "W0000 00:00:1749142474.177826  126217 computation_placer.cc:177] computation placer already registered. Please check linkage and avoid linking the same target more than once.\n",
      "W0000 00:00:1749142474.177883  126217 computation_placer.cc:177] computation placer already registered. Please check linkage and avoid linking the same target more than once.\n",
      "W0000 00:00:1749142474.177885  126217 computation_placer.cc:177] computation placer already registered. Please check linkage and avoid linking the same target more than once.\n",
      "W0000 00:00:1749142474.177886  126217 computation_placer.cc:177] computation placer already registered. Please check linkage and avoid linking the same target more than once.\n",
      "2025-06-05 17:54:34.203713: I tensorflow/core/platform/cpu_feature_guard.cc:210] This TensorFlow binary is optimized to use available CPU instructions in performance-critical operations.\n",
      "To enable the following instructions: AVX2 AVX_VNNI FMA, in other operations, rebuild TensorFlow with the appropriate compiler flags.\n"
     ]
    }
   ],
   "source": [
    "import pandas as pd\n",
    "from google.cloud import bigquery\n",
    "import tensorflow as tf\n",
    "import numpy as np\n",
    "import matplotlib.pyplot as plt\n",
    "import os\n",
    "from google.cloud import storage\n",
    "from tensorflow.keras import callbacks\n",
    "from tensorflow.keras import Sequential, Input, layers\n",
    "from tensorflow.keras import optimizers\n",
    "from tensorflow.keras.callbacks import EarlyStopping\n",
    "from sklearn.model_selection import train_test_split"
   ]
  },
  {
   "cell_type": "code",
   "execution_count": 2,
   "id": "75181e5a-8673-4717-b549-85b6a6db0782",
   "metadata": {
    "execution": {
     "iopub.execute_input": "2025-06-05T16:54:39.204597Z",
     "iopub.status.busy": "2025-06-05T16:54:39.204142Z",
     "iopub.status.idle": "2025-06-05T16:54:39.283630Z",
     "shell.execute_reply": "2025-06-05T16:54:39.282698Z",
     "shell.execute_reply.started": "2025-06-05T16:54:39.204578Z"
    }
   },
   "outputs": [],
   "source": [
    "import sys\n",
    "import os\n",
    "\n",
    "# Add parent directory to Python path\n",
    "sys.path.append(os.path.abspath(\"..\"))\n",
    "\n",
    "# Now you can import the module\n",
    "import preprocessing\n",
    "from data import get_metadata_from_bq"
   ]
  },
  {
   "cell_type": "code",
   "execution_count": 3,
   "id": "ecfd82c8-20ba-448f-8d4d-dfaf6cc3b081",
   "metadata": {
    "execution": {
     "iopub.execute_input": "2025-06-05T16:54:39.285699Z",
     "iopub.status.busy": "2025-06-05T16:54:39.284621Z",
     "iopub.status.idle": "2025-06-05T16:54:41.455206Z",
     "shell.execute_reply": "2025-06-05T16:54:41.454102Z",
     "shell.execute_reply.started": "2025-06-05T16:54:39.285676Z"
    }
   },
   "outputs": [],
   "source": [
    "metadata = get_metadata_from_bq()"
   ]
  },
  {
   "cell_type": "code",
   "execution_count": 4,
   "id": "dbb5944f-726f-474c-ae22-04a9149d84af",
   "metadata": {
    "execution": {
     "iopub.execute_input": "2025-06-05T16:54:41.458431Z",
     "iopub.status.busy": "2025-06-05T16:54:41.457372Z",
     "iopub.status.idle": "2025-06-05T16:54:41.469502Z",
     "shell.execute_reply": "2025-06-05T16:54:41.468227Z",
     "shell.execute_reply.started": "2025-06-05T16:54:41.458401Z"
    }
   },
   "outputs": [
    {
     "data": {
      "text/plain": [
       "(10015, 8)"
      ]
     },
     "execution_count": 4,
     "metadata": {},
     "output_type": "execute_result"
    }
   ],
   "source": [
    "metadata.shape"
   ]
  },
  {
   "cell_type": "code",
   "execution_count": 5,
   "id": "594ab76b-25f2-497c-ad55-d3a6e6f38f4f",
   "metadata": {
    "execution": {
     "iopub.execute_input": "2025-06-05T16:54:41.470886Z",
     "iopub.status.busy": "2025-06-05T16:54:41.470680Z",
     "iopub.status.idle": "2025-06-05T16:54:41.488359Z",
     "shell.execute_reply": "2025-06-05T16:54:41.487440Z",
     "shell.execute_reply.started": "2025-06-05T16:54:41.470870Z"
    }
   },
   "outputs": [
    {
     "data": {
      "text/html": [
       "<div>\n",
       "<style scoped>\n",
       "    .dataframe tbody tr th:only-of-type {\n",
       "        vertical-align: middle;\n",
       "    }\n",
       "\n",
       "    .dataframe tbody tr th {\n",
       "        vertical-align: top;\n",
       "    }\n",
       "\n",
       "    .dataframe thead th {\n",
       "        text-align: right;\n",
       "    }\n",
       "</style>\n",
       "<table border=\"1\" class=\"dataframe\">\n",
       "  <thead>\n",
       "    <tr style=\"text-align: right;\">\n",
       "      <th></th>\n",
       "      <th>lesion_id</th>\n",
       "      <th>image_id</th>\n",
       "      <th>dx</th>\n",
       "      <th>dx_type</th>\n",
       "      <th>age</th>\n",
       "      <th>sex</th>\n",
       "      <th>localization</th>\n",
       "      <th>index</th>\n",
       "    </tr>\n",
       "  </thead>\n",
       "  <tbody>\n",
       "    <tr>\n",
       "      <th>0</th>\n",
       "      <td>HAM_0006706</td>\n",
       "      <td>ISIC_0031725</td>\n",
       "      <td>nv</td>\n",
       "      <td>histo</td>\n",
       "      <td>NaN</td>\n",
       "      <td>female</td>\n",
       "      <td>abdomen</td>\n",
       "      <td>8410</td>\n",
       "    </tr>\n",
       "    <tr>\n",
       "      <th>1</th>\n",
       "      <td>HAM_0002610</td>\n",
       "      <td>ISIC_0026876</td>\n",
       "      <td>vasc</td>\n",
       "      <td>consensus</td>\n",
       "      <td>0.0</td>\n",
       "      <td>female</td>\n",
       "      <td>abdomen</td>\n",
       "      <td>2388</td>\n",
       "    </tr>\n",
       "    <tr>\n",
       "      <th>2</th>\n",
       "      <td>HAM_0002610</td>\n",
       "      <td>ISIC_0030606</td>\n",
       "      <td>vasc</td>\n",
       "      <td>consensus</td>\n",
       "      <td>0.0</td>\n",
       "      <td>female</td>\n",
       "      <td>abdomen</td>\n",
       "      <td>2389</td>\n",
       "    </tr>\n",
       "    <tr>\n",
       "      <th>3</th>\n",
       "      <td>HAM_0003872</td>\n",
       "      <td>ISIC_0028903</td>\n",
       "      <td>nv</td>\n",
       "      <td>consensus</td>\n",
       "      <td>0.0</td>\n",
       "      <td>female</td>\n",
       "      <td>abdomen</td>\n",
       "      <td>9329</td>\n",
       "    </tr>\n",
       "    <tr>\n",
       "      <th>4</th>\n",
       "      <td>HAM_0002034</td>\n",
       "      <td>ISIC_0027954</td>\n",
       "      <td>bkl</td>\n",
       "      <td>consensus</td>\n",
       "      <td>5.0</td>\n",
       "      <td>male</td>\n",
       "      <td>abdomen</td>\n",
       "      <td>1035</td>\n",
       "    </tr>\n",
       "  </tbody>\n",
       "</table>\n",
       "</div>"
      ],
      "text/plain": [
       "     lesion_id      image_id    dx    dx_type  age     sex localization  index\n",
       "0  HAM_0006706  ISIC_0031725    nv      histo  NaN  female      abdomen   8410\n",
       "1  HAM_0002610  ISIC_0026876  vasc  consensus  0.0  female      abdomen   2388\n",
       "2  HAM_0002610  ISIC_0030606  vasc  consensus  0.0  female      abdomen   2389\n",
       "3  HAM_0003872  ISIC_0028903    nv  consensus  0.0  female      abdomen   9329\n",
       "4  HAM_0002034  ISIC_0027954   bkl  consensus  5.0    male      abdomen   1035"
      ]
     },
     "execution_count": 5,
     "metadata": {},
     "output_type": "execute_result"
    }
   ],
   "source": [
    "metadata.head()"
   ]
  },
  {
   "cell_type": "code",
   "execution_count": 6,
   "id": "e726b755-db8b-4987-863a-08739d93f15b",
   "metadata": {
    "execution": {
     "iopub.execute_input": "2025-06-05T16:54:41.489736Z",
     "iopub.status.busy": "2025-06-05T16:54:41.489497Z",
     "iopub.status.idle": "2025-06-05T16:54:41.516410Z",
     "shell.execute_reply": "2025-06-05T16:54:41.515064Z",
     "shell.execute_reply.started": "2025-06-05T16:54:41.489718Z"
    }
   },
   "outputs": [],
   "source": [
    "processed_metadata = preprocessing.preprocess_metadata(metadata)"
   ]
  },
  {
   "cell_type": "code",
   "execution_count": 7,
   "id": "4f615a64-7bba-40c8-a46a-b7844669e26e",
   "metadata": {
    "execution": {
     "iopub.execute_input": "2025-06-05T16:54:41.517565Z",
     "iopub.status.busy": "2025-06-05T16:54:41.517368Z",
     "iopub.status.idle": "2025-06-05T16:54:41.646638Z",
     "shell.execute_reply": "2025-06-05T16:54:41.645199Z",
     "shell.execute_reply.started": "2025-06-05T16:54:41.517550Z"
    }
   },
   "outputs": [
    {
     "data": {
      "text/plain": [
       "(9771, 6)"
      ]
     },
     "execution_count": 7,
     "metadata": {},
     "output_type": "execute_result"
    }
   ],
   "source": [
    "processed_metadata.shape"
   ]
  },
  {
   "cell_type": "code",
   "execution_count": 8,
   "id": "7073b2df-7d9a-4f4a-9456-2e5028ca34d7",
   "metadata": {
    "execution": {
     "iopub.execute_input": "2025-06-05T16:54:41.647946Z",
     "iopub.status.busy": "2025-06-05T16:54:41.647742Z",
     "iopub.status.idle": "2025-06-05T16:55:09.098969Z",
     "shell.execute_reply": "2025-06-05T16:55:09.059565Z",
     "shell.execute_reply.started": "2025-06-05T16:54:41.647931Z"
    }
   },
   "outputs": [],
   "source": [
    "images_df = pd.read_json(\"../raw_data/resized_images.json\")"
   ]
  },
  {
   "cell_type": "code",
   "execution_count": 9,
   "id": "9e98aaa1-604e-4e08-9c4f-48339ea860fb",
   "metadata": {
    "execution": {
     "iopub.execute_input": "2025-06-05T16:55:09.136884Z",
     "iopub.status.busy": "2025-06-05T16:55:09.134200Z",
     "iopub.status.idle": "2025-06-05T16:55:15.027431Z",
     "shell.execute_reply": "2025-06-05T16:55:15.026413Z",
     "shell.execute_reply.started": "2025-06-05T16:55:09.136594Z"
    }
   },
   "outputs": [
    {
     "data": {
      "text/html": [
       "<div>\n",
       "<style scoped>\n",
       "    .dataframe tbody tr th:only-of-type {\n",
       "        vertical-align: middle;\n",
       "    }\n",
       "\n",
       "    .dataframe tbody tr th {\n",
       "        vertical-align: top;\n",
       "    }\n",
       "\n",
       "    .dataframe thead th {\n",
       "        text-align: right;\n",
       "    }\n",
       "</style>\n",
       "<table border=\"1\" class=\"dataframe\">\n",
       "  <thead>\n",
       "    <tr style=\"text-align: right;\">\n",
       "      <th></th>\n",
       "      <th>image_id</th>\n",
       "      <th>resized_array</th>\n",
       "    </tr>\n",
       "  </thead>\n",
       "  <tbody>\n",
       "    <tr>\n",
       "      <th>0</th>\n",
       "      <td>ISIC_0024306</td>\n",
       "      <td>[[[228, 131, 133], [230, 130, 137], [231, 124,...</td>\n",
       "    </tr>\n",
       "    <tr>\n",
       "      <th>1</th>\n",
       "      <td>ISIC_0024307</td>\n",
       "      <td>[[[216, 121, 133], [218, 122, 137], [218, 125,...</td>\n",
       "    </tr>\n",
       "    <tr>\n",
       "      <th>2</th>\n",
       "      <td>ISIC_0024308</td>\n",
       "      <td>[[[246, 173, 181], [245, 171, 175], [247, 171,...</td>\n",
       "    </tr>\n",
       "    <tr>\n",
       "      <th>3</th>\n",
       "      <td>ISIC_0024309</td>\n",
       "      <td>[[[206, 118, 134], [209, 120, 136], [210, 120,...</td>\n",
       "    </tr>\n",
       "    <tr>\n",
       "      <th>4</th>\n",
       "      <td>ISIC_0024310</td>\n",
       "      <td>[[[72, 33, 38], [70, 32, 38], [69, 31, 38], [6...</td>\n",
       "    </tr>\n",
       "  </tbody>\n",
       "</table>\n",
       "</div>"
      ],
      "text/plain": [
       "       image_id                                      resized_array\n",
       "0  ISIC_0024306  [[[228, 131, 133], [230, 130, 137], [231, 124,...\n",
       "1  ISIC_0024307  [[[216, 121, 133], [218, 122, 137], [218, 125,...\n",
       "2  ISIC_0024308  [[[246, 173, 181], [245, 171, 175], [247, 171,...\n",
       "3  ISIC_0024309  [[[206, 118, 134], [209, 120, 136], [210, 120,...\n",
       "4  ISIC_0024310  [[[72, 33, 38], [70, 32, 38], [69, 31, 38], [6..."
      ]
     },
     "execution_count": 9,
     "metadata": {},
     "output_type": "execute_result"
    }
   ],
   "source": [
    "images_df.head()"
   ]
  },
  {
   "cell_type": "code",
   "execution_count": 10,
   "id": "e539adf3-c876-4215-aa86-11573bf564cf",
   "metadata": {
    "execution": {
     "iopub.execute_input": "2025-06-05T16:55:15.051108Z",
     "iopub.status.busy": "2025-06-05T16:55:15.050362Z",
     "iopub.status.idle": "2025-06-05T16:55:15.070289Z",
     "shell.execute_reply": "2025-06-05T16:55:15.069204Z",
     "shell.execute_reply.started": "2025-06-05T16:55:15.051077Z"
    }
   },
   "outputs": [
    {
     "data": {
      "text/plain": [
       "(96, 96, 3)"
      ]
     },
     "execution_count": 10,
     "metadata": {},
     "output_type": "execute_result"
    }
   ],
   "source": [
    "np.array(images_df.resized_array[0]).shape"
   ]
  },
  {
   "cell_type": "code",
   "execution_count": null,
   "id": "7a08d627-3ccd-4d5e-b1fc-489be45fdd60",
   "metadata": {
    "execution": {
     "execution_failed": "2025-06-05T16:53:55.491Z"
    }
   },
   "outputs": [],
   "source": [
    "images_df[\"np_array\"] = images_df.resized_array.apply(np.array)"
   ]
  },
  {
   "cell_type": "code",
   "execution_count": null,
   "id": "5454221b-4d38-430f-aaaa-499376f3dfd3",
   "metadata": {},
   "outputs": [],
   "source": []
  },
  {
   "cell_type": "code",
   "execution_count": null,
   "id": "9278cd75-7870-446c-89d4-0640e4e371e9",
   "metadata": {},
   "outputs": [],
   "source": []
  },
  {
   "cell_type": "code",
   "execution_count": null,
   "id": "c0bfe200-8201-4c31-a7be-d58cab7ffecc",
   "metadata": {},
   "outputs": [],
   "source": []
  },
  {
   "cell_type": "code",
   "execution_count": null,
   "id": "33209b0d-91e8-426c-8f47-d3e16e48047a",
   "metadata": {},
   "outputs": [],
   "source": [
    "test_df = pd.DataFrame({\n",
    "    'image_id': image_name,\n",
    "    'resized_array': resized_array\n",
    "})"
   ]
  },
  {
   "cell_type": "code",
   "execution_count": null,
   "id": "370c5cbc-2f62-49b9-808f-094cd0bc8ea1",
   "metadata": {},
   "outputs": [],
   "source": [
    "test_df.head()"
   ]
  },
  {
   "cell_type": "code",
   "execution_count": null,
   "id": "a54fbcf7-1fc6-43cf-8a65-2e927fdf6e91",
   "metadata": {},
   "outputs": [],
   "source": [
    "full_df = metadata.merge(test_df,how=\"left\",on=\"image_id\")\n",
    "full_df.head()"
   ]
  },
  {
   "cell_type": "code",
   "execution_count": null,
   "id": "8b8c67a9-0649-44a3-a4fc-00a2e5498295",
   "metadata": {},
   "outputs": [],
   "source": [
    "full_df.drop(columns=[col for col in [\"image_id\"] if col in full_df.columns],inplace=True)"
   ]
  },
  {
   "cell_type": "code",
   "execution_count": null,
   "id": "daaa08a0-d753-45dc-a619-3650313af272",
   "metadata": {},
   "outputs": [],
   "source": [
    "full_df.head()"
   ]
  },
  {
   "cell_type": "code",
   "execution_count": null,
   "id": "c3bc0bc2-39c1-49fc-affe-fb22dbabc14c",
   "metadata": {},
   "outputs": [],
   "source": [
    "X = full_df[\"resized_array\"]"
   ]
  },
  {
   "cell_type": "code",
   "execution_count": null,
   "id": "75b526ac-25e0-4c70-bd4a-34bb9b847c5f",
   "metadata": {},
   "outputs": [],
   "source": [
    "y = full_df[\"target\"]"
   ]
  },
  {
   "cell_type": "code",
   "execution_count": null,
   "id": "df29b302-4ae7-4699-ae02-2a9f75891a9a",
   "metadata": {},
   "outputs": [],
   "source": [
    "X_np = np.array(X)"
   ]
  },
  {
   "cell_type": "code",
   "execution_count": null,
   "id": "4fa72441-e809-48ea-b004-b365666f821d",
   "metadata": {},
   "outputs": [],
   "source": [
    "X_np.shape"
   ]
  },
  {
   "cell_type": "code",
   "execution_count": null,
   "id": "e1490e69-0193-4a12-9554-dceb69f2262b",
   "metadata": {},
   "outputs": [],
   "source": [
    "X_np[0].shape"
   ]
  },
  {
   "cell_type": "code",
   "execution_count": null,
   "id": "2bcb238a-40f3-44cf-b674-2fd969c08c92",
   "metadata": {},
   "outputs": [],
   "source": [
    "X_ready = []\n",
    "for row in X_np:\n",
    "    X_ready.append(X[0])"
   ]
  },
  {
   "cell_type": "code",
   "execution_count": null,
   "id": "a0629056-38d0-45c6-aab7-95757a76a9e3",
   "metadata": {},
   "outputs": [],
   "source": [
    "X_ready = np.array(X_ready)"
   ]
  },
  {
   "cell_type": "code",
   "execution_count": null,
   "id": "f8a2ad8e-226f-4367-920f-ef182349d2a9",
   "metadata": {
    "scrolled": true
   },
   "outputs": [],
   "source": [
    "X_ready"
   ]
  },
  {
   "cell_type": "code",
   "execution_count": null,
   "id": "09e0e02d-720c-43de-ae6d-d7195354cc2d",
   "metadata": {},
   "outputs": [],
   "source": [
    "y.shape"
   ]
  },
  {
   "cell_type": "code",
   "execution_count": null,
   "id": "480006f1-6a17-4c4c-ab57-78619d4b1126",
   "metadata": {},
   "outputs": [],
   "source": [
    "from tensorflow.keras.utils import to_categorical\n",
    "y_cat = to_categorical(y)\n",
    "y_cat"
   ]
  },
  {
   "cell_type": "code",
   "execution_count": null,
   "id": "c573815b-dc55-4c0a-9e7e-453cb97aac93",
   "metadata": {},
   "outputs": [],
   "source": [
    "X_ready.shape"
   ]
  },
  {
   "cell_type": "code",
   "execution_count": null,
   "id": "aae3e11e-1484-4d49-a577-93661197c4df",
   "metadata": {},
   "outputs": [],
   "source": [
    "X_train, X_test,y_train, y_test = train_test_split(X_ready, y_cat, test_size=0.3, random_state=42)"
   ]
  },
  {
   "cell_type": "code",
   "execution_count": null,
   "id": "1319c7ab-6681-4fdf-a16e-fdded3bb1426",
   "metadata": {},
   "outputs": [],
   "source": [
    "X_train.shape"
   ]
  },
  {
   "cell_type": "code",
   "execution_count": null,
   "id": "3dfdc63d-bfbf-4ccb-bf16-39d30a3c858d",
   "metadata": {},
   "outputs": [],
   "source": [
    "X_train = X_train/255"
   ]
  },
  {
   "cell_type": "code",
   "execution_count": null,
   "id": "02cd8c41-f1a2-43a9-a17f-6e5ca04fe80b",
   "metadata": {},
   "outputs": [],
   "source": [
    "X_test = X_test/255"
   ]
  },
  {
   "cell_type": "markdown",
   "id": "61591736-31f3-4119-b1f9-cd21f0eb18b6",
   "metadata": {
    "execution": {
     "iopub.execute_input": "2025-06-05T14:21:15.463719Z",
     "iopub.status.busy": "2025-06-05T14:21:15.462298Z",
     "iopub.status.idle": "2025-06-05T14:21:15.469392Z",
     "shell.execute_reply": "2025-06-05T14:21:15.468254Z",
     "shell.execute_reply.started": "2025-06-05T14:21:15.463681Z"
    }
   },
   "source": [
    "# Model Architecture"
   ]
  },
  {
   "cell_type": "code",
   "execution_count": null,
   "id": "8a2d8c17-8265-4173-8ff5-e772bcb5756a",
   "metadata": {},
   "outputs": [],
   "source": [
    "model = Sequential()\n",
    "\n",
    "model.add(Input(shape=(96, 96, 3)))\n",
    "model.add(layers.Conv2D(16, (6, 6), padding='same', activation=\"relu\"))\n",
    "model.add(layers.Conv2D(16, (4, 4), padding='same', activation=\"relu\"))\n",
    "model.add(layers.Conv2D(32, (3, 3), padding='same', activation=\"relu\"))\n",
    "model.add(layers.Flatten())\n",
    "model.add(layers.Dense(20, activation='relu'))\n",
    "model.add(layers.Dense(20, activation='relu'))\n",
    "model.add(layers.Dense(7, activation='softmax'))"
   ]
  },
  {
   "cell_type": "code",
   "execution_count": null,
   "id": "9b100eb6-18eb-4882-bac2-f1b785f4a76e",
   "metadata": {},
   "outputs": [],
   "source": [
    "model.summary()"
   ]
  },
  {
   "cell_type": "code",
   "execution_count": null,
   "id": "8b1a58b8-7d20-401a-b7a1-e70b2f3d43c2",
   "metadata": {},
   "outputs": [],
   "source": [
    "model.compile(loss='categorical_crossentropy',\n",
    "              optimizer='adam',\n",
    "              metrics=[\"accuracy\",\"recall\"])"
   ]
  },
  {
   "cell_type": "code",
   "execution_count": null,
   "id": "347d11bb-cf95-4c78-8349-7a1097506cbf",
   "metadata": {},
   "outputs": [],
   "source": [
    "es = EarlyStopping(patience=10, restore_best_weights=True)"
   ]
  },
  {
   "cell_type": "code",
   "execution_count": null,
   "id": "4e24965a-1f46-4148-83bc-33c445352e31",
   "metadata": {},
   "outputs": [],
   "source": [
    "history = model.fit(X_train, y_train,\n",
    "          epochs=100,  # Use early stopping in practice\n",
    "          batch_size=32,\n",
    "          verbose=1,\n",
    "          validation_split = 0.2,\n",
    "          callbacks=[es])"
   ]
  },
  {
   "cell_type": "code",
   "execution_count": null,
   "id": "bc1d2bbd-3be0-4edd-ba08-ee2b959ad70c",
   "metadata": {},
   "outputs": [],
   "source": []
  }
 ],
 "metadata": {
  "kernelspec": {
   "display_name": "Python 3 (ipykernel)",
   "language": "python",
   "name": "python3"
  },
  "language_info": {
   "codemirror_mode": {
    "name": "ipython",
    "version": 3
   },
   "file_extension": ".py",
   "mimetype": "text/x-python",
   "name": "python",
   "nbconvert_exporter": "python",
   "pygments_lexer": "ipython3",
   "version": "3.12.9"
  }
 },
 "nbformat": 4,
 "nbformat_minor": 5
}

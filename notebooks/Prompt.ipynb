{
 "cells": [
  {
   "cell_type": "code",
   "execution_count": 1,
   "id": "48f8ee5a-6442-4baa-bd08-cedcaea5378c",
   "metadata": {
    "execution": {
     "iopub.execute_input": "2025-06-04T13:48:08.751479Z",
     "iopub.status.busy": "2025-06-04T13:48:08.750761Z",
     "iopub.status.idle": "2025-06-04T13:48:09.904579Z",
     "shell.execute_reply": "2025-06-04T13:48:09.903599Z",
     "shell.execute_reply.started": "2025-06-04T13:48:08.751446Z"
    }
   },
   "outputs": [
    {
     "name": "stdout",
     "output_type": "stream",
     "text": [
      "Requirement already satisfied: openai in /home/vedutla/.pyenv/versions/3.12.9/envs/skin_scan_env/lib/python3.12/site-packages (1.84.0)\n",
      "Requirement already satisfied: langchain==0.3.8 in /home/vedutla/.pyenv/versions/3.12.9/envs/skin_scan_env/lib/python3.12/site-packages (0.3.8)\n",
      "Requirement already satisfied: langchain-openai==0.2.9 in /home/vedutla/.pyenv/versions/3.12.9/envs/skin_scan_env/lib/python3.12/site-packages (0.2.9)\n",
      "Requirement already satisfied: langchain-community==0.3.8 in /home/vedutla/.pyenv/versions/3.12.9/envs/skin_scan_env/lib/python3.12/site-packages (0.3.8)\n",
      "Requirement already satisfied: pypdf==5.1.0 in /home/vedutla/.pyenv/versions/3.12.9/envs/skin_scan_env/lib/python3.12/site-packages (5.1.0)\n",
      "Requirement already satisfied: chromadb==0.5.20 in /home/vedutla/.pyenv/versions/3.12.9/envs/skin_scan_env/lib/python3.12/site-packages (0.5.20)\n",
      "Requirement already satisfied: tiktoken==0.8.0 in /home/vedutla/.pyenv/versions/3.12.9/envs/skin_scan_env/lib/python3.12/site-packages (0.8.0)\n",
      "Requirement already satisfied: huggingface-hub==0.26.2 in /home/vedutla/.pyenv/versions/3.12.9/envs/skin_scan_env/lib/python3.12/site-packages (from huggingface-hub[hf_transfer]==0.26.2) (0.26.2)\n",
      "Requirement already satisfied: ctransformers==0.2.27 in /home/vedutla/.pyenv/versions/3.12.9/envs/skin_scan_env/lib/python3.12/site-packages (from ctransformers[cuda]==0.2.27) (0.2.27)\n",
      "Requirement already satisfied: diffusers==0.31.0 in /home/vedutla/.pyenv/versions/3.12.9/envs/skin_scan_env/lib/python3.12/site-packages (0.31.0)\n",
      "Requirement already satisfied: llama-cpp-python==0.3.2 in /home/vedutla/.pyenv/versions/3.12.9/envs/skin_scan_env/lib/python3.12/site-packages (0.3.2)\n",
      "Requirement already satisfied: protobuf<5.0.0 in /home/vedutla/.pyenv/versions/3.12.9/envs/skin_scan_env/lib/python3.12/site-packages (4.25.8)\n",
      "Requirement already satisfied: PyYAML>=5.3 in /home/vedutla/.pyenv/versions/3.12.9/envs/skin_scan_env/lib/python3.12/site-packages (from langchain==0.3.8) (6.0.2)\n",
      "Requirement already satisfied: SQLAlchemy<3,>=1.4 in /home/vedutla/.pyenv/versions/3.12.9/envs/skin_scan_env/lib/python3.12/site-packages (from langchain==0.3.8) (2.0.35)\n",
      "Requirement already satisfied: aiohttp<4.0.0,>=3.8.3 in /home/vedutla/.pyenv/versions/3.12.9/envs/skin_scan_env/lib/python3.12/site-packages (from langchain==0.3.8) (3.12.8)\n",
      "Requirement already satisfied: langchain-core<0.4.0,>=0.3.21 in /home/vedutla/.pyenv/versions/3.12.9/envs/skin_scan_env/lib/python3.12/site-packages (from langchain==0.3.8) (0.3.63)\n",
      "Requirement already satisfied: langchain-text-splitters<0.4.0,>=0.3.0 in /home/vedutla/.pyenv/versions/3.12.9/envs/skin_scan_env/lib/python3.12/site-packages (from langchain==0.3.8) (0.3.8)\n",
      "Requirement already satisfied: langsmith<0.2.0,>=0.1.17 in /home/vedutla/.pyenv/versions/3.12.9/envs/skin_scan_env/lib/python3.12/site-packages (from langchain==0.3.8) (0.1.147)\n",
      "Requirement already satisfied: numpy<2,>=1.26.2 in /home/vedutla/.pyenv/versions/3.12.9/envs/skin_scan_env/lib/python3.12/site-packages (from langchain==0.3.8) (1.26.4)\n",
      "Requirement already satisfied: pydantic<3.0.0,>=2.7.4 in /home/vedutla/.pyenv/versions/3.12.9/envs/skin_scan_env/lib/python3.12/site-packages (from langchain==0.3.8) (2.11.5)\n",
      "Requirement already satisfied: requests<3,>=2 in /home/vedutla/.pyenv/versions/3.12.9/envs/skin_scan_env/lib/python3.12/site-packages (from langchain==0.3.8) (2.32.3)\n",
      "Requirement already satisfied: tenacity!=8.4.0,<10,>=8.1.0 in /home/vedutla/.pyenv/versions/3.12.9/envs/skin_scan_env/lib/python3.12/site-packages (from langchain==0.3.8) (9.1.2)\n",
      "Requirement already satisfied: regex>=2022.1.18 in /home/vedutla/.pyenv/versions/3.12.9/envs/skin_scan_env/lib/python3.12/site-packages (from tiktoken==0.8.0) (2024.11.6)\n",
      "Requirement already satisfied: dataclasses-json<0.7,>=0.5.7 in /home/vedutla/.pyenv/versions/3.12.9/envs/skin_scan_env/lib/python3.12/site-packages (from langchain-community==0.3.8) (0.6.7)\n",
      "Requirement already satisfied: httpx-sse<0.5.0,>=0.4.0 in /home/vedutla/.pyenv/versions/3.12.9/envs/skin_scan_env/lib/python3.12/site-packages (from langchain-community==0.3.8) (0.4.0)\n",
      "Requirement already satisfied: pydantic-settings<3.0.0,>=2.4.0 in /home/vedutla/.pyenv/versions/3.12.9/envs/skin_scan_env/lib/python3.12/site-packages (from langchain-community==0.3.8) (2.9.1)\n",
      "Requirement already satisfied: build>=1.0.3 in /home/vedutla/.pyenv/versions/3.12.9/envs/skin_scan_env/lib/python3.12/site-packages (from chromadb==0.5.20) (1.2.2.post1)\n",
      "Requirement already satisfied: chroma-hnswlib==0.7.6 in /home/vedutla/.pyenv/versions/3.12.9/envs/skin_scan_env/lib/python3.12/site-packages (from chromadb==0.5.20) (0.7.6)\n",
      "Requirement already satisfied: fastapi>=0.95.2 in /home/vedutla/.pyenv/versions/3.12.9/envs/skin_scan_env/lib/python3.12/site-packages (from chromadb==0.5.20) (0.115.12)\n",
      "Requirement already satisfied: uvicorn>=0.18.3 in /home/vedutla/.pyenv/versions/3.12.9/envs/skin_scan_env/lib/python3.12/site-packages (from uvicorn[standard]>=0.18.3->chromadb==0.5.20) (0.34.3)\n",
      "Requirement already satisfied: posthog>=2.4.0 in /home/vedutla/.pyenv/versions/3.12.9/envs/skin_scan_env/lib/python3.12/site-packages (from chromadb==0.5.20) (4.2.0)\n",
      "Requirement already satisfied: typing-extensions>=4.5.0 in /home/vedutla/.pyenv/versions/3.12.9/envs/skin_scan_env/lib/python3.12/site-packages (from chromadb==0.5.20) (4.13.2)\n",
      "Requirement already satisfied: onnxruntime>=1.14.1 in /home/vedutla/.pyenv/versions/3.12.9/envs/skin_scan_env/lib/python3.12/site-packages (from chromadb==0.5.20) (1.22.0)\n",
      "Requirement already satisfied: opentelemetry-api>=1.2.0 in /home/vedutla/.pyenv/versions/3.12.9/envs/skin_scan_env/lib/python3.12/site-packages (from chromadb==0.5.20) (1.27.0)\n",
      "Requirement already satisfied: opentelemetry-exporter-otlp-proto-grpc>=1.2.0 in /home/vedutla/.pyenv/versions/3.12.9/envs/skin_scan_env/lib/python3.12/site-packages (from chromadb==0.5.20) (1.27.0)\n",
      "Requirement already satisfied: opentelemetry-instrumentation-fastapi>=0.41b0 in /home/vedutla/.pyenv/versions/3.12.9/envs/skin_scan_env/lib/python3.12/site-packages (from chromadb==0.5.20) (0.48b0)\n",
      "Requirement already satisfied: opentelemetry-sdk>=1.2.0 in /home/vedutla/.pyenv/versions/3.12.9/envs/skin_scan_env/lib/python3.12/site-packages (from chromadb==0.5.20) (1.27.0)\n",
      "Requirement already satisfied: tokenizers>=0.13.2 in /home/vedutla/.pyenv/versions/3.12.9/envs/skin_scan_env/lib/python3.12/site-packages (from chromadb==0.5.20) (0.21.1)\n",
      "Requirement already satisfied: pypika>=0.48.9 in /home/vedutla/.pyenv/versions/3.12.9/envs/skin_scan_env/lib/python3.12/site-packages (from chromadb==0.5.20) (0.48.9)\n",
      "Requirement already satisfied: tqdm>=4.65.0 in /home/vedutla/.pyenv/versions/3.12.9/envs/skin_scan_env/lib/python3.12/site-packages (from chromadb==0.5.20) (4.67.1)\n",
      "Requirement already satisfied: overrides>=7.3.1 in /home/vedutla/.pyenv/versions/3.12.9/envs/skin_scan_env/lib/python3.12/site-packages (from chromadb==0.5.20) (7.7.0)\n",
      "Requirement already satisfied: importlib-resources in /home/vedutla/.pyenv/versions/3.12.9/envs/skin_scan_env/lib/python3.12/site-packages (from chromadb==0.5.20) (6.5.2)\n",
      "Requirement already satisfied: grpcio>=1.58.0 in /home/vedutla/.pyenv/versions/3.12.9/envs/skin_scan_env/lib/python3.12/site-packages (from chromadb==0.5.20) (1.72.1)\n",
      "Requirement already satisfied: bcrypt>=4.0.1 in /home/vedutla/.pyenv/versions/3.12.9/envs/skin_scan_env/lib/python3.12/site-packages (from chromadb==0.5.20) (4.3.0)\n",
      "Requirement already satisfied: typer>=0.9.0 in /home/vedutla/.pyenv/versions/3.12.9/envs/skin_scan_env/lib/python3.12/site-packages (from chromadb==0.5.20) (0.16.0)\n",
      "Requirement already satisfied: kubernetes>=28.1.0 in /home/vedutla/.pyenv/versions/3.12.9/envs/skin_scan_env/lib/python3.12/site-packages (from chromadb==0.5.20) (32.0.1)\n",
      "Requirement already satisfied: mmh3>=4.0.1 in /home/vedutla/.pyenv/versions/3.12.9/envs/skin_scan_env/lib/python3.12/site-packages (from chromadb==0.5.20) (5.1.0)\n",
      "Requirement already satisfied: orjson>=3.9.12 in /home/vedutla/.pyenv/versions/3.12.9/envs/skin_scan_env/lib/python3.12/site-packages (from chromadb==0.5.20) (3.10.18)\n",
      "Requirement already satisfied: httpx>=0.27.0 in /home/vedutla/.pyenv/versions/3.12.9/envs/skin_scan_env/lib/python3.12/site-packages (from chromadb==0.5.20) (0.28.1)\n",
      "Requirement already satisfied: rich>=10.11.0 in /home/vedutla/.pyenv/versions/3.12.9/envs/skin_scan_env/lib/python3.12/site-packages (from chromadb==0.5.20) (14.0.0)\n",
      "Requirement already satisfied: filelock in /home/vedutla/.pyenv/versions/3.12.9/envs/skin_scan_env/lib/python3.12/site-packages (from huggingface-hub==0.26.2->huggingface-hub[hf_transfer]==0.26.2) (3.18.0)\n",
      "Requirement already satisfied: fsspec>=2023.5.0 in /home/vedutla/.pyenv/versions/3.12.9/envs/skin_scan_env/lib/python3.12/site-packages (from huggingface-hub==0.26.2->huggingface-hub[hf_transfer]==0.26.2) (2025.5.1)\n",
      "Requirement already satisfied: packaging>=20.9 in /home/vedutla/.pyenv/versions/3.12.9/envs/skin_scan_env/lib/python3.12/site-packages (from huggingface-hub==0.26.2->huggingface-hub[hf_transfer]==0.26.2) (24.2)\n",
      "Requirement already satisfied: py-cpuinfo<10.0.0,>=9.0.0 in /home/vedutla/.pyenv/versions/3.12.9/envs/skin_scan_env/lib/python3.12/site-packages (from ctransformers==0.2.27->ctransformers[cuda]==0.2.27) (9.0.0)\n",
      "Requirement already satisfied: importlib-metadata in /home/vedutla/.pyenv/versions/3.12.9/envs/skin_scan_env/lib/python3.12/site-packages (from diffusers==0.31.0) (8.4.0)\n",
      "Requirement already satisfied: safetensors>=0.3.1 in /home/vedutla/.pyenv/versions/3.12.9/envs/skin_scan_env/lib/python3.12/site-packages (from diffusers==0.31.0) (0.5.3)\n",
      "Requirement already satisfied: Pillow in /home/vedutla/.pyenv/versions/3.12.9/envs/skin_scan_env/lib/python3.12/site-packages (from diffusers==0.31.0) (11.2.1)\n",
      "Requirement already satisfied: diskcache>=5.6.1 in /home/vedutla/.pyenv/versions/3.12.9/envs/skin_scan_env/lib/python3.12/site-packages (from llama-cpp-python==0.3.2) (5.6.3)\n",
      "Requirement already satisfied: jinja2>=2.11.3 in /home/vedutla/.pyenv/versions/3.12.9/envs/skin_scan_env/lib/python3.12/site-packages (from llama-cpp-python==0.3.2) (3.1.6)\n",
      "Requirement already satisfied: nvidia-cublas-cu12 in /home/vedutla/.pyenv/versions/3.12.9/envs/skin_scan_env/lib/python3.12/site-packages (from ctransformers[cuda]==0.2.27) (12.9.0.13)\n",
      "Requirement already satisfied: nvidia-cuda-runtime-cu12 in /home/vedutla/.pyenv/versions/3.12.9/envs/skin_scan_env/lib/python3.12/site-packages (from ctransformers[cuda]==0.2.27) (12.9.37)\n",
      "Requirement already satisfied: hf-transfer>=0.1.4 in /home/vedutla/.pyenv/versions/3.12.9/envs/skin_scan_env/lib/python3.12/site-packages (from huggingface-hub[hf_transfer]==0.26.2) (0.1.9)\n",
      "Requirement already satisfied: anyio<5,>=3.5.0 in /home/vedutla/.pyenv/versions/3.12.9/envs/skin_scan_env/lib/python3.12/site-packages (from openai) (4.9.0)\n",
      "Requirement already satisfied: distro<2,>=1.7.0 in /home/vedutla/.pyenv/versions/3.12.9/envs/skin_scan_env/lib/python3.12/site-packages (from openai) (1.9.0)\n",
      "Requirement already satisfied: jiter<1,>=0.4.0 in /home/vedutla/.pyenv/versions/3.12.9/envs/skin_scan_env/lib/python3.12/site-packages (from openai) (0.10.0)\n",
      "Requirement already satisfied: sniffio in /home/vedutla/.pyenv/versions/3.12.9/envs/skin_scan_env/lib/python3.12/site-packages (from openai) (1.3.1)\n",
      "Requirement already satisfied: aiohappyeyeballs>=2.5.0 in /home/vedutla/.pyenv/versions/3.12.9/envs/skin_scan_env/lib/python3.12/site-packages (from aiohttp<4.0.0,>=3.8.3->langchain==0.3.8) (2.6.1)\n",
      "Requirement already satisfied: aiosignal>=1.1.2 in /home/vedutla/.pyenv/versions/3.12.9/envs/skin_scan_env/lib/python3.12/site-packages (from aiohttp<4.0.0,>=3.8.3->langchain==0.3.8) (1.3.2)\n",
      "Requirement already satisfied: attrs>=17.3.0 in /home/vedutla/.pyenv/versions/3.12.9/envs/skin_scan_env/lib/python3.12/site-packages (from aiohttp<4.0.0,>=3.8.3->langchain==0.3.8) (25.3.0)\n",
      "Requirement already satisfied: frozenlist>=1.1.1 in /home/vedutla/.pyenv/versions/3.12.9/envs/skin_scan_env/lib/python3.12/site-packages (from aiohttp<4.0.0,>=3.8.3->langchain==0.3.8) (1.6.2)\n",
      "Requirement already satisfied: multidict<7.0,>=4.5 in /home/vedutla/.pyenv/versions/3.12.9/envs/skin_scan_env/lib/python3.12/site-packages (from aiohttp<4.0.0,>=3.8.3->langchain==0.3.8) (6.4.4)\n",
      "Requirement already satisfied: propcache>=0.2.0 in /home/vedutla/.pyenv/versions/3.12.9/envs/skin_scan_env/lib/python3.12/site-packages (from aiohttp<4.0.0,>=3.8.3->langchain==0.3.8) (0.3.1)\n",
      "Requirement already satisfied: yarl<2.0,>=1.17.0 in /home/vedutla/.pyenv/versions/3.12.9/envs/skin_scan_env/lib/python3.12/site-packages (from aiohttp<4.0.0,>=3.8.3->langchain==0.3.8) (1.20.0)\n",
      "Requirement already satisfied: idna>=2.8 in /home/vedutla/.pyenv/versions/3.12.9/envs/skin_scan_env/lib/python3.12/site-packages (from anyio<5,>=3.5.0->openai) (3.10)\n",
      "Requirement already satisfied: marshmallow<4.0.0,>=3.18.0 in /home/vedutla/.pyenv/versions/3.12.9/envs/skin_scan_env/lib/python3.12/site-packages (from dataclasses-json<0.7,>=0.5.7->langchain-community==0.3.8) (3.26.1)\n",
      "Requirement already satisfied: typing-inspect<1,>=0.4.0 in /home/vedutla/.pyenv/versions/3.12.9/envs/skin_scan_env/lib/python3.12/site-packages (from dataclasses-json<0.7,>=0.5.7->langchain-community==0.3.8) (0.9.0)\n",
      "Requirement already satisfied: certifi in /home/vedutla/.pyenv/versions/3.12.9/envs/skin_scan_env/lib/python3.12/site-packages (from httpx>=0.27.0->chromadb==0.5.20) (2025.4.26)\n",
      "Requirement already satisfied: httpcore==1.* in /home/vedutla/.pyenv/versions/3.12.9/envs/skin_scan_env/lib/python3.12/site-packages (from httpx>=0.27.0->chromadb==0.5.20) (1.0.9)\n",
      "Requirement already satisfied: h11>=0.16 in /home/vedutla/.pyenv/versions/3.12.9/envs/skin_scan_env/lib/python3.12/site-packages (from httpcore==1.*->httpx>=0.27.0->chromadb==0.5.20) (0.16.0)\n",
      "Requirement already satisfied: jsonpatch<2.0,>=1.33 in /home/vedutla/.pyenv/versions/3.12.9/envs/skin_scan_env/lib/python3.12/site-packages (from langchain-core<0.4.0,>=0.3.21->langchain==0.3.8) (1.33)\n",
      "Requirement already satisfied: jsonpointer>=1.9 in /home/vedutla/.pyenv/versions/3.12.9/envs/skin_scan_env/lib/python3.12/site-packages (from jsonpatch<2.0,>=1.33->langchain-core<0.4.0,>=0.3.21->langchain==0.3.8) (3.0.0)\n",
      "Requirement already satisfied: requests-toolbelt<2.0.0,>=1.0.0 in /home/vedutla/.pyenv/versions/3.12.9/envs/skin_scan_env/lib/python3.12/site-packages (from langsmith<0.2.0,>=0.1.17->langchain==0.3.8) (1.0.0)\n",
      "Requirement already satisfied: annotated-types>=0.6.0 in /home/vedutla/.pyenv/versions/3.12.9/envs/skin_scan_env/lib/python3.12/site-packages (from pydantic<3.0.0,>=2.7.4->langchain==0.3.8) (0.7.0)\n",
      "Requirement already satisfied: pydantic-core==2.33.2 in /home/vedutla/.pyenv/versions/3.12.9/envs/skin_scan_env/lib/python3.12/site-packages (from pydantic<3.0.0,>=2.7.4->langchain==0.3.8) (2.33.2)\n",
      "Requirement already satisfied: typing-inspection>=0.4.0 in /home/vedutla/.pyenv/versions/3.12.9/envs/skin_scan_env/lib/python3.12/site-packages (from pydantic<3.0.0,>=2.7.4->langchain==0.3.8) (0.4.1)\n",
      "Requirement already satisfied: python-dotenv>=0.21.0 in /home/vedutla/.pyenv/versions/3.12.9/envs/skin_scan_env/lib/python3.12/site-packages (from pydantic-settings<3.0.0,>=2.4.0->langchain-community==0.3.8) (1.1.0)\n",
      "Requirement already satisfied: charset-normalizer<4,>=2 in /home/vedutla/.pyenv/versions/3.12.9/envs/skin_scan_env/lib/python3.12/site-packages (from requests<3,>=2->langchain==0.3.8) (3.4.2)\n",
      "Requirement already satisfied: urllib3<3,>=1.21.1 in /home/vedutla/.pyenv/versions/3.12.9/envs/skin_scan_env/lib/python3.12/site-packages (from requests<3,>=2->langchain==0.3.8) (2.4.0)\n",
      "Requirement already satisfied: greenlet!=0.4.17 in /home/vedutla/.pyenv/versions/3.12.9/envs/skin_scan_env/lib/python3.12/site-packages (from SQLAlchemy<3,>=1.4->langchain==0.3.8) (3.2.2)\n",
      "Requirement already satisfied: mypy-extensions>=0.3.0 in /home/vedutla/.pyenv/versions/3.12.9/envs/skin_scan_env/lib/python3.12/site-packages (from typing-inspect<1,>=0.4.0->dataclasses-json<0.7,>=0.5.7->langchain-community==0.3.8) (1.1.0)\n",
      "Requirement already satisfied: pyproject_hooks in /home/vedutla/.pyenv/versions/3.12.9/envs/skin_scan_env/lib/python3.12/site-packages (from build>=1.0.3->chromadb==0.5.20) (1.2.0)\n",
      "Requirement already satisfied: starlette<0.47.0,>=0.40.0 in /home/vedutla/.pyenv/versions/3.12.9/envs/skin_scan_env/lib/python3.12/site-packages (from fastapi>=0.95.2->chromadb==0.5.20) (0.46.2)\n",
      "Requirement already satisfied: MarkupSafe>=2.0 in /home/vedutla/.pyenv/versions/3.12.9/envs/skin_scan_env/lib/python3.12/site-packages (from jinja2>=2.11.3->llama-cpp-python==0.3.2) (3.0.2)\n",
      "Requirement already satisfied: six>=1.9.0 in /home/vedutla/.pyenv/versions/3.12.9/envs/skin_scan_env/lib/python3.12/site-packages (from kubernetes>=28.1.0->chromadb==0.5.20) (1.17.0)\n",
      "Requirement already satisfied: python-dateutil>=2.5.3 in /home/vedutla/.pyenv/versions/3.12.9/envs/skin_scan_env/lib/python3.12/site-packages (from kubernetes>=28.1.0->chromadb==0.5.20) (2.9.0.post0)\n",
      "Requirement already satisfied: google-auth>=1.0.1 in /home/vedutla/.pyenv/versions/3.12.9/envs/skin_scan_env/lib/python3.12/site-packages (from kubernetes>=28.1.0->chromadb==0.5.20) (2.40.2)\n",
      "Requirement already satisfied: websocket-client!=0.40.0,!=0.41.*,!=0.42.*,>=0.32.0 in /home/vedutla/.pyenv/versions/3.12.9/envs/skin_scan_env/lib/python3.12/site-packages (from kubernetes>=28.1.0->chromadb==0.5.20) (1.8.0)\n",
      "Requirement already satisfied: requests-oauthlib in /home/vedutla/.pyenv/versions/3.12.9/envs/skin_scan_env/lib/python3.12/site-packages (from kubernetes>=28.1.0->chromadb==0.5.20) (2.0.0)\n",
      "Requirement already satisfied: oauthlib>=3.2.2 in /home/vedutla/.pyenv/versions/3.12.9/envs/skin_scan_env/lib/python3.12/site-packages (from kubernetes>=28.1.0->chromadb==0.5.20) (3.2.2)\n",
      "Requirement already satisfied: durationpy>=0.7 in /home/vedutla/.pyenv/versions/3.12.9/envs/skin_scan_env/lib/python3.12/site-packages (from kubernetes>=28.1.0->chromadb==0.5.20) (0.10)\n",
      "Requirement already satisfied: cachetools<6.0,>=2.0.0 in /home/vedutla/.pyenv/versions/3.12.9/envs/skin_scan_env/lib/python3.12/site-packages (from google-auth>=1.0.1->kubernetes>=28.1.0->chromadb==0.5.20) (5.5.2)\n",
      "Requirement already satisfied: pyasn1-modules>=0.2.1 in /home/vedutla/.pyenv/versions/3.12.9/envs/skin_scan_env/lib/python3.12/site-packages (from google-auth>=1.0.1->kubernetes>=28.1.0->chromadb==0.5.20) (0.4.2)\n",
      "Requirement already satisfied: rsa<5,>=3.1.4 in /home/vedutla/.pyenv/versions/3.12.9/envs/skin_scan_env/lib/python3.12/site-packages (from google-auth>=1.0.1->kubernetes>=28.1.0->chromadb==0.5.20) (4.9.1)\n",
      "Requirement already satisfied: pyasn1>=0.1.3 in /home/vedutla/.pyenv/versions/3.12.9/envs/skin_scan_env/lib/python3.12/site-packages (from rsa<5,>=3.1.4->google-auth>=1.0.1->kubernetes>=28.1.0->chromadb==0.5.20) (0.6.1)\n",
      "Requirement already satisfied: coloredlogs in /home/vedutla/.pyenv/versions/3.12.9/envs/skin_scan_env/lib/python3.12/site-packages (from onnxruntime>=1.14.1->chromadb==0.5.20) (15.0.1)\n",
      "Requirement already satisfied: flatbuffers in /home/vedutla/.pyenv/versions/3.12.9/envs/skin_scan_env/lib/python3.12/site-packages (from onnxruntime>=1.14.1->chromadb==0.5.20) (25.2.10)\n",
      "Requirement already satisfied: sympy in /home/vedutla/.pyenv/versions/3.12.9/envs/skin_scan_env/lib/python3.12/site-packages (from onnxruntime>=1.14.1->chromadb==0.5.20) (1.14.0)\n",
      "Requirement already satisfied: deprecated>=1.2.6 in /home/vedutla/.pyenv/versions/3.12.9/envs/skin_scan_env/lib/python3.12/site-packages (from opentelemetry-api>=1.2.0->chromadb==0.5.20) (1.2.18)\n",
      "Requirement already satisfied: zipp>=0.5 in /home/vedutla/.pyenv/versions/3.12.9/envs/skin_scan_env/lib/python3.12/site-packages (from importlib-metadata->diffusers==0.31.0) (3.22.0)\n",
      "Requirement already satisfied: wrapt<2,>=1.10 in /home/vedutla/.pyenv/versions/3.12.9/envs/skin_scan_env/lib/python3.12/site-packages (from deprecated>=1.2.6->opentelemetry-api>=1.2.0->chromadb==0.5.20) (1.17.2)\n",
      "Requirement already satisfied: googleapis-common-protos~=1.52 in /home/vedutla/.pyenv/versions/3.12.9/envs/skin_scan_env/lib/python3.12/site-packages (from opentelemetry-exporter-otlp-proto-grpc>=1.2.0->chromadb==0.5.20) (1.70.0)\n",
      "Requirement already satisfied: opentelemetry-exporter-otlp-proto-common==1.27.0 in /home/vedutla/.pyenv/versions/3.12.9/envs/skin_scan_env/lib/python3.12/site-packages (from opentelemetry-exporter-otlp-proto-grpc>=1.2.0->chromadb==0.5.20) (1.27.0)\n",
      "Requirement already satisfied: opentelemetry-proto==1.27.0 in /home/vedutla/.pyenv/versions/3.12.9/envs/skin_scan_env/lib/python3.12/site-packages (from opentelemetry-exporter-otlp-proto-grpc>=1.2.0->chromadb==0.5.20) (1.27.0)\n",
      "Requirement already satisfied: opentelemetry-semantic-conventions==0.48b0 in /home/vedutla/.pyenv/versions/3.12.9/envs/skin_scan_env/lib/python3.12/site-packages (from opentelemetry-sdk>=1.2.0->chromadb==0.5.20) (0.48b0)\n",
      "Requirement already satisfied: opentelemetry-instrumentation-asgi==0.48b0 in /home/vedutla/.pyenv/versions/3.12.9/envs/skin_scan_env/lib/python3.12/site-packages (from opentelemetry-instrumentation-fastapi>=0.41b0->chromadb==0.5.20) (0.48b0)\n",
      "Requirement already satisfied: opentelemetry-instrumentation==0.48b0 in /home/vedutla/.pyenv/versions/3.12.9/envs/skin_scan_env/lib/python3.12/site-packages (from opentelemetry-instrumentation-fastapi>=0.41b0->chromadb==0.5.20) (0.48b0)\n",
      "Requirement already satisfied: opentelemetry-util-http==0.48b0 in /home/vedutla/.pyenv/versions/3.12.9/envs/skin_scan_env/lib/python3.12/site-packages (from opentelemetry-instrumentation-fastapi>=0.41b0->chromadb==0.5.20) (0.48b0)\n",
      "Requirement already satisfied: setuptools>=16.0 in /home/vedutla/.pyenv/versions/3.12.9/envs/skin_scan_env/lib/python3.12/site-packages (from opentelemetry-instrumentation==0.48b0->opentelemetry-instrumentation-fastapi>=0.41b0->chromadb==0.5.20) (80.9.0)\n",
      "Requirement already satisfied: asgiref~=3.0 in /home/vedutla/.pyenv/versions/3.12.9/envs/skin_scan_env/lib/python3.12/site-packages (from opentelemetry-instrumentation-asgi==0.48b0->opentelemetry-instrumentation-fastapi>=0.41b0->chromadb==0.5.20) (3.8.1)\n",
      "Requirement already satisfied: backoff>=1.10.0 in /home/vedutla/.pyenv/versions/3.12.9/envs/skin_scan_env/lib/python3.12/site-packages (from posthog>=2.4.0->chromadb==0.5.20) (2.2.1)\n",
      "Requirement already satisfied: markdown-it-py>=2.2.0 in /home/vedutla/.pyenv/versions/3.12.9/envs/skin_scan_env/lib/python3.12/site-packages (from rich>=10.11.0->chromadb==0.5.20) (3.0.0)\n",
      "Requirement already satisfied: pygments<3.0.0,>=2.13.0 in /home/vedutla/.pyenv/versions/3.12.9/envs/skin_scan_env/lib/python3.12/site-packages (from rich>=10.11.0->chromadb==0.5.20) (2.19.1)\n",
      "Requirement already satisfied: mdurl~=0.1 in /home/vedutla/.pyenv/versions/3.12.9/envs/skin_scan_env/lib/python3.12/site-packages (from markdown-it-py>=2.2.0->rich>=10.11.0->chromadb==0.5.20) (0.1.2)\n",
      "Requirement already satisfied: click>=8.0.0 in /home/vedutla/.pyenv/versions/3.12.9/envs/skin_scan_env/lib/python3.12/site-packages (from typer>=0.9.0->chromadb==0.5.20) (8.2.1)\n",
      "Requirement already satisfied: shellingham>=1.3.0 in /home/vedutla/.pyenv/versions/3.12.9/envs/skin_scan_env/lib/python3.12/site-packages (from typer>=0.9.0->chromadb==0.5.20) (1.5.4)\n",
      "Requirement already satisfied: httptools>=0.6.3 in /home/vedutla/.pyenv/versions/3.12.9/envs/skin_scan_env/lib/python3.12/site-packages (from uvicorn[standard]>=0.18.3->chromadb==0.5.20) (0.6.4)\n",
      "Requirement already satisfied: uvloop>=0.15.1 in /home/vedutla/.pyenv/versions/3.12.9/envs/skin_scan_env/lib/python3.12/site-packages (from uvicorn[standard]>=0.18.3->chromadb==0.5.20) (0.21.0)\n",
      "Requirement already satisfied: watchfiles>=0.13 in /home/vedutla/.pyenv/versions/3.12.9/envs/skin_scan_env/lib/python3.12/site-packages (from uvicorn[standard]>=0.18.3->chromadb==0.5.20) (1.0.5)\n",
      "Requirement already satisfied: websockets>=10.4 in /home/vedutla/.pyenv/versions/3.12.9/envs/skin_scan_env/lib/python3.12/site-packages (from uvicorn[standard]>=0.18.3->chromadb==0.5.20) (15.0.1)\n",
      "Requirement already satisfied: humanfriendly>=9.1 in /home/vedutla/.pyenv/versions/3.12.9/envs/skin_scan_env/lib/python3.12/site-packages (from coloredlogs->onnxruntime>=1.14.1->chromadb==0.5.20) (10.0)\n",
      "Requirement already satisfied: mpmath<1.4,>=1.1.0 in /home/vedutla/.pyenv/versions/3.12.9/envs/skin_scan_env/lib/python3.12/site-packages (from sympy->onnxruntime>=1.14.1->chromadb==0.5.20) (1.3.0)\n"
     ]
    }
   ],
   "source": [
    "!pip install openai langchain==0.3.8 langchain-openai==0.2.9 langchain-community==0.3.8 pypdf==5.1.0 chromadb==0.5.20 tiktoken==0.8.0 \"huggingface-hub[hf_transfer]==0.26.2\" \"ctransformers[cuda]==0.2.27\" diffusers==0.31.0 llama-cpp-python==0.3.2 \"protobuf<5.0.0\""
   ]
  },
  {
   "cell_type": "code",
   "execution_count": 2,
   "id": "fa005994-405f-4bbb-b794-d0954ac67eca",
   "metadata": {
    "execution": {
     "iopub.execute_input": "2025-06-04T13:48:09.906085Z",
     "iopub.status.busy": "2025-06-04T13:48:09.905710Z",
     "iopub.status.idle": "2025-06-04T13:48:10.545039Z",
     "shell.execute_reply": "2025-06-04T13:48:10.543949Z",
     "shell.execute_reply.started": "2025-06-04T13:48:09.906064Z"
    }
   },
   "outputs": [
    {
     "name": "stdout",
     "output_type": "stream",
     "text": [
      "llama-2-7b-chat.Q4_K_M.gguf\n"
     ]
    }
   ],
   "source": [
    "!HF_HUB_ENABLE_HF_TRANSFER=1 huggingface-cli download TheBloke/Llama-2-7b-Chat-GGUF llama-2-7b-chat.Q4_K_M.gguf --local-dir ."
   ]
  },
  {
   "cell_type": "code",
   "execution_count": 32,
   "id": "1a73ae3b-7f0c-41b7-8233-d8a7cea8f91c",
   "metadata": {
    "execution": {
     "iopub.execute_input": "2025-06-04T14:02:05.906359Z",
     "iopub.status.busy": "2025-06-04T14:02:05.905453Z",
     "iopub.status.idle": "2025-06-04T14:02:05.910295Z",
     "shell.execute_reply": "2025-06-04T14:02:05.909715Z",
     "shell.execute_reply.started": "2025-06-04T14:02:05.906337Z"
    }
   },
   "outputs": [],
   "source": [
    "lesion_types = {\n",
    "    \"vasc\": \"Vascular Lesions\",\n",
    "    \"df\": \"Dermatofibroma\",\n",
    "    \"bcc\": \"Basal Cell Carcinoma\",\n",
    "    \"mel\": \"Melanoma\",\n",
    "    \"nv\": \"Melanocytic Nevi\",\n",
    "    \"bkl\": \"Benign Keratosis\",\n",
    "    \"akiec\": \"Actinic Keratoses / Intraepithelial Carcinoma\"\n",
    "}\n"
   ]
  },
  {
   "cell_type": "code",
   "execution_count": 34,
   "id": "74c9c290-6db4-48f5-965e-c638953ea62e",
   "metadata": {
    "execution": {
     "iopub.execute_input": "2025-06-04T14:02:28.879991Z",
     "iopub.status.busy": "2025-06-04T14:02:28.878902Z",
     "iopub.status.idle": "2025-06-04T14:02:28.885041Z",
     "shell.execute_reply": "2025-06-04T14:02:28.884417Z",
     "shell.execute_reply.started": "2025-06-04T14:02:28.879960Z"
    }
   },
   "outputs": [
    {
     "data": {
      "text/plain": [
       "'Melanoma'"
      ]
     },
     "execution_count": 34,
     "metadata": {},
     "output_type": "execute_result"
    }
   ],
   "source": [
    "lesion_types['mel']"
   ]
  },
  {
   "cell_type": "code",
   "execution_count": 3,
   "id": "1f139303-14cf-4620-9d6f-5701ed046dff",
   "metadata": {
    "execution": {
     "iopub.execute_input": "2025-06-04T13:48:10.548178Z",
     "iopub.status.busy": "2025-06-04T13:48:10.548003Z",
     "iopub.status.idle": "2025-06-04T13:48:10.551958Z",
     "shell.execute_reply": "2025-06-04T13:48:10.550821Z",
     "shell.execute_reply.started": "2025-06-04T13:48:10.548163Z"
    }
   },
   "outputs": [],
   "source": [
    "## 1. Working with OpenAI API\n"
   ]
  },
  {
   "cell_type": "code",
   "execution_count": 4,
   "id": "5b04f6d1-9277-44da-a75c-8704d2dd5ac8",
   "metadata": {
    "execution": {
     "iopub.execute_input": "2025-06-04T13:48:10.553573Z",
     "iopub.status.busy": "2025-06-04T13:48:10.553145Z",
     "iopub.status.idle": "2025-06-04T13:48:10.871018Z",
     "shell.execute_reply": "2025-06-04T13:48:10.870226Z",
     "shell.execute_reply.started": "2025-06-04T13:48:10.553557Z"
    }
   },
   "outputs": [],
   "source": [
    "import openai\n",
    "import os\n",
    "api_key = os.environ[\"OPEN_AI_KEY_SRI\"]\n",
    "# Initialize the OpenAI API client\n",
    "openai.api_key = api_key"
   ]
  },
  {
   "cell_type": "code",
   "execution_count": 5,
   "id": "e555a31f-564f-4585-a281-07cba9bcde40",
   "metadata": {
    "execution": {
     "iopub.execute_input": "2025-06-04T13:48:10.872674Z",
     "iopub.status.busy": "2025-06-04T13:48:10.872406Z",
     "iopub.status.idle": "2025-06-04T13:48:13.256819Z",
     "shell.execute_reply": "2025-06-04T13:48:13.255459Z",
     "shell.execute_reply.started": "2025-06-04T13:48:10.872595Z"
    }
   },
   "outputs": [],
   "source": [
    "# Prompt for the AI model\n",
    "prompt = \"Translate the following English text to Spanish: 'Hello, how are you?'\"\n",
    "\n",
    "# Make a request to the API to generate text\n",
    "response = openai.chat.completions.create(\n",
    "    model=\"gpt-3.5-turbo\",  # Use the engine of your choice\n",
    "    messages = [{\"role\": \"user\", \"content\": prompt}],\n",
    "    max_tokens = 50\n",
    ")# Prompt for the AI model\n",
    "prompt = \"Translate the following English text to Spanish: 'Hello, how are you?'\"\n",
    "\n",
    "# Make a request to the API to generate text\n",
    "response = openai.chat.completions.create(\n",
    "    model=\"gpt-3.5-turbo\",  # Use the engine of your choice\n",
    "    messages = [{\"role\": \"user\", \"content\": prompt}],\n",
    "    max_tokens = 50\n",
    ")"
   ]
  },
  {
   "cell_type": "code",
   "execution_count": 6,
   "id": "00acf02c-66ac-4720-a092-295ff0d5f522",
   "metadata": {
    "execution": {
     "iopub.execute_input": "2025-06-04T13:48:13.257436Z",
     "iopub.status.busy": "2025-06-04T13:48:13.257279Z",
     "iopub.status.idle": "2025-06-04T13:48:13.264801Z",
     "shell.execute_reply": "2025-06-04T13:48:13.263445Z",
     "shell.execute_reply.started": "2025-06-04T13:48:13.257423Z"
    }
   },
   "outputs": [
    {
     "data": {
      "text/plain": [
       "ChatCompletion(id='chatcmpl-BeilQIvNI568RFNqZ8NSateSICnqr', choices=[Choice(finish_reason='stop', index=0, logprobs=None, message=ChatCompletionMessage(content='Hola, ¿cómo estás?', refusal=None, role='assistant', annotations=[], audio=None, function_call=None, tool_calls=None))], created=1749044892, model='gpt-3.5-turbo-0125', object='chat.completion', service_tier='default', system_fingerprint=None, usage=CompletionUsage(completion_tokens=8, prompt_tokens=22, total_tokens=30, completion_tokens_details=CompletionTokensDetails(accepted_prediction_tokens=0, audio_tokens=0, reasoning_tokens=0, rejected_prediction_tokens=0), prompt_tokens_details=PromptTokensDetails(audio_tokens=0, cached_tokens=0)))"
      ]
     },
     "execution_count": 6,
     "metadata": {},
     "output_type": "execute_result"
    }
   ],
   "source": [
    "response\n"
   ]
  },
  {
   "cell_type": "code",
   "execution_count": 7,
   "id": "4c744e76-e353-4f27-8208-3124480dc454",
   "metadata": {
    "execution": {
     "iopub.execute_input": "2025-06-04T13:48:13.266896Z",
     "iopub.status.busy": "2025-06-04T13:48:13.266195Z",
     "iopub.status.idle": "2025-06-04T13:48:14.980187Z",
     "shell.execute_reply": "2025-06-04T13:48:14.979300Z",
     "shell.execute_reply.started": "2025-06-04T13:48:13.266877Z"
    }
   },
   "outputs": [],
   "source": [
    "# Prompt for the AI model\n",
    "system_prompt = \"You are a sassy culinary instructor that gives sarcastic replies\"\n",
    "prompt = \"Give instructions to cook vegetable samosas\"\n",
    "\n",
    "# Make a request to the API to generate text\n",
    "response = openai.chat.completions.create(\n",
    "    model=\"gpt-3.5-turbo\",  # Use the engine of your choice\n",
    "    messages = [{\"role\": \"system\", \"content\": system_prompt},\n",
    "                {\"role\": \"user\", \"content\": prompt}],\n",
    "    max_tokens = 50\n",
    ")"
   ]
  },
  {
   "cell_type": "code",
   "execution_count": 8,
   "id": "7d5dae94-adfa-486a-88c9-61f64fc22883",
   "metadata": {
    "execution": {
     "iopub.execute_input": "2025-06-04T13:48:14.981780Z",
     "iopub.status.busy": "2025-06-04T13:48:14.981096Z",
     "iopub.status.idle": "2025-06-04T13:48:14.987671Z",
     "shell.execute_reply": "2025-06-04T13:48:14.987027Z",
     "shell.execute_reply.started": "2025-06-04T13:48:14.981748Z"
    }
   },
   "outputs": [
    {
     "data": {
      "text/plain": [
       "\"Oh, great choice! Why don't you start by chopping up a mix of your favorite vegetables? You know, just because we can't decide which ones to include. Then, let's sauté them in some oil until they're nice and\""
      ]
     },
     "execution_count": 8,
     "metadata": {},
     "output_type": "execute_result"
    }
   ],
   "source": [
    "response.choices[0].message.content"
   ]
  },
  {
   "cell_type": "code",
   "execution_count": 9,
   "id": "4f40dd63-c080-4136-a8f7-4981f304f71b",
   "metadata": {
    "execution": {
     "iopub.execute_input": "2025-06-04T13:48:14.988633Z",
     "iopub.status.busy": "2025-06-04T13:48:14.988343Z",
     "iopub.status.idle": "2025-06-04T13:48:14.995600Z",
     "shell.execute_reply": "2025-06-04T13:48:14.994846Z",
     "shell.execute_reply.started": "2025-06-04T13:48:14.988620Z"
    }
   },
   "outputs": [
    {
     "data": {
      "text/plain": [
       "ChatCompletion(id='chatcmpl-BeilRG3nGOAtJ90vAcnAsM4BY5XK0', choices=[Choice(finish_reason='length', index=0, logprobs=None, message=ChatCompletionMessage(content=\"Oh, great choice! Why don't you start by chopping up a mix of your favorite vegetables? You know, just because we can't decide which ones to include. Then, let's sauté them in some oil until they're nice and\", refusal=None, role='assistant', annotations=[], audio=None, function_call=None, tool_calls=None))], created=1749044893, model='gpt-3.5-turbo-0125', object='chat.completion', service_tier='default', system_fingerprint=None, usage=CompletionUsage(completion_tokens=50, prompt_tokens=30, total_tokens=80, completion_tokens_details=CompletionTokensDetails(accepted_prediction_tokens=0, audio_tokens=0, reasoning_tokens=0, rejected_prediction_tokens=0), prompt_tokens_details=PromptTokensDetails(audio_tokens=0, cached_tokens=0)))"
      ]
     },
     "execution_count": 9,
     "metadata": {},
     "output_type": "execute_result"
    }
   ],
   "source": [
    "response"
   ]
  },
  {
   "cell_type": "code",
   "execution_count": null,
   "id": "274c2ae5-9189-43be-977c-c3f5010309c4",
   "metadata": {},
   "outputs": [],
   "source": []
  },
  {
   "cell_type": "markdown",
   "id": "56419b79-de9d-4683-95f8-66a67e4b1e8d",
   "metadata": {},
   "source": [
    "## My code"
   ]
  },
  {
   "cell_type": "code",
   "execution_count": null,
   "id": "6ecf5434-b352-4133-ba7a-e663cdbc6aa7",
   "metadata": {},
   "outputs": [],
   "source": []
  },
  {
   "cell_type": "markdown",
   "id": "bf965114-efa3-441a-ae43-c911418b99b3",
   "metadata": {
    "execution": {
     "iopub.execute_input": "2025-06-04T13:12:47.639655Z",
     "iopub.status.busy": "2025-06-04T13:12:47.638216Z",
     "iopub.status.idle": "2025-06-04T13:12:47.643139Z",
     "shell.execute_reply": "2025-06-04T13:12:47.642638Z",
     "shell.execute_reply.started": "2025-06-04T13:12:47.639614Z"
    }
   },
   "source": [
    "## My code trials"
   ]
  },
  {
   "cell_type": "code",
   "execution_count": null,
   "id": "ecbebd42-a5c4-4d8c-a141-3bfdbb8345aa",
   "metadata": {},
   "outputs": [],
   "source": [
    "#male cancer"
   ]
  },
  {
   "cell_type": "code",
   "execution_count": 38,
   "id": "08c20be7-c19e-4872-9a07-005b8755a707",
   "metadata": {
    "execution": {
     "iopub.execute_input": "2025-06-04T14:06:01.095428Z",
     "iopub.status.busy": "2025-06-04T14:06:01.094684Z",
     "iopub.status.idle": "2025-06-04T14:06:03.266156Z",
     "shell.execute_reply": "2025-06-04T14:06:03.265575Z",
     "shell.execute_reply.started": "2025-06-04T14:06:01.095389Z"
    }
   },
   "outputs": [
    {
     "name": "stdout",
     "output_type": "stream",
     "text": [
      "Hello! I'm here to help you understand the results. The AI model has predicted melanoma, which is a type of skin cancer. It's important to know that anyone can get skin cancer, regardless of age, sex, or location on the body. Melanoma can appear on areas of the skin that have been exposed to the sun, especially for those who spend a lot of time outdoors like you.\n",
      "\n",
      "Given your age, being 45, and your work outdoors, it's possible that sun exposure over the years may have contributed to this. Melanoma is more common in men and tends to appear on the back in many cases.\n",
      "\n",
      "What you should do next is to schedule an appointment with a dermatologist for a thorough skin examination.\n"
     ]
    }
   ],
   "source": [
    "import openai\n",
    "\n",
    "# Example patient input\n",
    "predicted_class = \"mel\"  # Our model's prediction\n",
    "age = 45\n",
    "sex = \"Male\"\n",
    "body_location = \"back\"\n",
    "lifestyle_work = \"Work outdoors\"\n",
    "\n",
    "# Set the system behavior\n",
    "system_prompt = (\n",
    "    \"You are a friendly and helpful dermatology assistant. \"\n",
    "    \"You explain skin cancer results in calm, simple language that’s easy for anyone to understand. \"\n",
    "    \"You avoid medical jargon, speak with warmth, and gently guide the patient on what to do next.\"\n",
    ")\n",
    "\n",
    "# Dynamic user prompt\n",
    "prompt = f\"\"\"\n",
    "A dermatology AI model predicted: {lesion_types[predicted_class.lower()]}.\n",
    "\n",
    "Patient details:\n",
    "- Age: {age}\n",
    "- Sex: {sex}\n",
    "- Lesion Location: {body_location}\n",
    "- Lifestyle/Work Type: {lifestyle_work}\n",
    "\n",
    "Please explain in a friendly and concise, why it might appear at this age, body location, and sex, how the person's lifestyle or work may affect it, and what they should do next.\n",
    "\"\"\"\n",
    "\n",
    "# Make a request to the API to generate text\n",
    "response = openai.chat.completions.create(\n",
    "    model=\"gpt-3.5-turbo\",\n",
    "    messages=[\n",
    "        {\"role\": \"system\", \"content\": system_prompt},\n",
    "        {\"role\": \"user\", \"content\": prompt}\n",
    "    ],\n",
    "    max_tokens=150\n",
    ")\n",
    "\n",
    "# Display the result\n",
    "print(response.choices[0].message.content)\n"
   ]
  },
  {
   "cell_type": "markdown",
   "id": "3024eb11-6c0c-4f89-ae63-acc7c3a5e364",
   "metadata": {
    "execution": {
     "iopub.execute_input": "2025-06-04T14:14:52.757782Z",
     "iopub.status.busy": "2025-06-04T14:14:52.756778Z",
     "iopub.status.idle": "2025-06-04T14:14:52.762075Z",
     "shell.execute_reply": "2025-06-04T14:14:52.761283Z",
     "shell.execute_reply.started": "2025-06-04T14:14:52.757751Z"
    }
   },
   "source": [
    "# Function for inputs"
   ]
  },
  {
   "cell_type": "code",
   "execution_count": 64,
   "id": "9e4cb57d-6b27-4c76-9010-4cc65ff265a0",
   "metadata": {
    "execution": {
     "iopub.execute_input": "2025-06-04T14:31:21.718724Z",
     "iopub.status.busy": "2025-06-04T14:31:21.718020Z",
     "iopub.status.idle": "2025-06-04T14:31:21.725218Z",
     "shell.execute_reply": "2025-06-04T14:31:21.724643Z",
     "shell.execute_reply.started": "2025-06-04T14:31:21.718688Z"
    }
   },
   "outputs": [],
   "source": [
    "def patient_report (predicted_class,age, sex, body_location, lifestyle_work, max_tokens=150):\n",
    "    system_prompt = (\n",
    "    \"You are a friendly and helpful dermatology assistant. \"\n",
    "    \"You explain skin cancer results in a concise, calm, simple language that’s easy for anyone to understand. \"\n",
    "    \"You avoid medical jargon, speak with warmth, and gently guide the patient on what to do next.\"\n",
    "    \"Limit to 150 words\"\n",
    "        \n",
    "    )\n",
    "\n",
    "    prompt = f\"\"\"\n",
    "    A dermatology AI model predicted: {lesion_types[predicted_class.lower()]}.\n",
    "\n",
    "    Patient details:\n",
    "    - Age: {age}\n",
    "    - Sex: {sex}\n",
    "    - Lesion Location: {body_location}\n",
    "    - Lifestyle/Work Type: {lifestyle_work}\n",
    "    \n",
    "    Please explain in a friendly and concise manner, why it might appear at this age, body location, and sex, \n",
    "    how the person's lifestyle or work may affect it, and what they should do next.\n",
    "    \"\"\"\n",
    "    \n",
    "    response = openai.chat.completions.create(\n",
    "        model=\"gpt-3.5-turbo\",\n",
    "        messages=[\n",
    "            {\"role\": \"system\", \"content\": system_prompt},\n",
    "            {\"role\": \"user\", \"content\": prompt}\n",
    "        ],\n",
    "        max_tokens=max_tokens\n",
    "    )\n",
    "    \n",
    "    return response.choices[0].message.content\n",
    "    "
   ]
  },
  {
   "cell_type": "code",
   "execution_count": 65,
   "id": "c9106009-4e34-4c23-8882-44af2b24829d",
   "metadata": {
    "execution": {
     "iopub.execute_input": "2025-06-04T14:31:22.237069Z",
     "iopub.status.busy": "2025-06-04T14:31:22.236381Z",
     "iopub.status.idle": "2025-06-04T14:31:24.664641Z",
     "shell.execute_reply": "2025-06-04T14:31:24.663916Z",
     "shell.execute_reply.started": "2025-06-04T14:31:22.237048Z"
    }
   },
   "outputs": [
    {
     "name": "stdout",
     "output_type": "stream",
     "text": [
      "Hi there! I'll help explain. Melanoma can appear around age 45 due to sun exposure over time, especially outdoor work. For males, it's common on the back. Remember, anyone can get skin cancer. Since the AI flagged melanoma, it's crucial to see a dermatologist for a thorough skin check. They may recommend a biopsy to confirm the diagnosis. If it’s melanoma, catching it early gives the best chance for successful treatment. So, make an appointment right away. Also, protect your skin from the sun by wearing sunscreen, protective clothing, and seeking shade. Stay positive, early detection is key! If you have any questions or need more support, feel free to ask.\n"
     ]
    }
   ],
   "source": [
    "\n",
    "predicted_class = \"mel\"  # Our model's prediction\n",
    "age = 45\n",
    "sex = \"Male\"\n",
    "body_location = \"back\"\n",
    "lifestyle_work = \"Work outdoors\"\n",
    "# predicted_prob\n",
    "max_tokens=150\n",
    "\n",
    "report = patient_report (predicted_class,age, sex, body_location, lifestyle_work, max_tokens=max_tokens)\n",
    "print(report)"
   ]
  },
  {
   "cell_type": "code",
   "execution_count": null,
   "id": "25fbb35a-9647-4803-b138-33a6ea80d5b5",
   "metadata": {},
   "outputs": [],
   "source": []
  },
  {
   "cell_type": "code",
   "execution_count": 66,
   "id": "49be0185-32bc-412b-97f0-f45de85d722a",
   "metadata": {
    "execution": {
     "iopub.execute_input": "2025-06-04T14:31:31.487671Z",
     "iopub.status.busy": "2025-06-04T14:31:31.486503Z",
     "iopub.status.idle": "2025-06-04T14:31:33.857573Z",
     "shell.execute_reply": "2025-06-04T14:31:33.857004Z",
     "shell.execute_reply.started": "2025-06-04T14:31:31.487653Z"
    }
   },
   "outputs": [
    {
     "name": "stdout",
     "output_type": "stream",
     "text": [
      "Hello! It's important to know that Basal Cell Carcinoma is common in people over 50, especially if they've spent a lot of time in the sun. The nose is a common area because it gets a lot of sun exposure. Being outdoors a lot can increase the risk. \n",
      "\n",
      "To take care of this, you should see a dermatologist for a skin biopsy to confirm the diagnosis. They'll discuss treatment options with you, which could include surgery, creams, or other methods. It's essential to protect your skin from the sun by wearing sunscreen, hats, and seeking shade. Regular skin checks and follow-ups with your dermatologist are crucial for managing your skin health. If you have any concerns or questions, don't hesitate to ask your healthcare provider. Stay positive!\n"
     ]
    }
   ],
   "source": [
    "#female moderate cancer\n",
    "\n",
    "predicted_class = \"bcc\"  # Our model's prediction\n",
    "age = 63\n",
    "sex = \"female\"\n",
    "body_location = \"nose\"\n",
    "lifestyle_work = \"inoutdoors\"\n",
    "# predicted_prob\n",
    "max_tokens=200\n",
    "\n",
    "report = patient_report (predicted_class,age, sex, body_location, lifestyle_work, max_tokens=max_tokens)\n",
    "print(report)"
   ]
  },
  {
   "cell_type": "code",
   "execution_count": 68,
   "id": "b913042e-dba2-4991-a395-593e7ae96a75",
   "metadata": {
    "execution": {
     "iopub.execute_input": "2025-06-04T14:31:50.470753Z",
     "iopub.status.busy": "2025-06-04T14:31:50.469649Z",
     "iopub.status.idle": "2025-06-04T14:31:50.474497Z",
     "shell.execute_reply": "2025-06-04T14:31:50.473994Z",
     "shell.execute_reply.started": "2025-06-04T14:31:50.470733Z"
    }
   },
   "outputs": [
    {
     "data": {
      "text/plain": [
       "127"
      ]
     },
     "execution_count": 68,
     "metadata": {},
     "output_type": "execute_result"
    }
   ],
   "source": [
    "res = \"\"\"\n",
    "\n",
    "Hello! It's important to know that Basal Cell Carcinoma is common in people over 50, especially if they've spent a lot of time in the sun. The nose is a common area because it gets a lot of sun exposure. Being outdoors a lot can increase the risk. \n",
    "\n",
    "To take care of this, you should see a dermatologist for a skin biopsy to confirm the diagnosis. They'll discuss treatment options with you, which could include surgery, creams, or other methods. It's essential to protect your skin from the sun by wearing sunscreen, hats, and seeking shade. Regular skin checks and follow-ups with your dermatologist are crucial for managing your skin health. If you have any concerns or questions, don't hesitate to ask your healthcare provider. Stay positive!\n",
    "\n",
    "\"\"\"\n",
    "\n",
    "len(res.split())"
   ]
  },
  {
   "cell_type": "code",
   "execution_count": null,
   "id": "de80fa3a-28c7-4f18-82d6-f78bcc787ce4",
   "metadata": {},
   "outputs": [],
   "source": []
  },
  {
   "cell_type": "code",
   "execution_count": 24,
   "id": "1254fbef-6dac-4b10-8f1d-22f2d21ad0c8",
   "metadata": {
    "execution": {
     "iopub.execute_input": "2025-06-04T13:55:15.195706Z",
     "iopub.status.busy": "2025-06-04T13:55:15.195565Z",
     "iopub.status.idle": "2025-06-04T13:55:15.202831Z",
     "shell.execute_reply": "2025-06-04T13:55:15.200717Z",
     "shell.execute_reply.started": "2025-06-04T13:55:15.195694Z"
    }
   },
   "outputs": [],
   "source": [
    "#male moderate cancer"
   ]
  },
  {
   "cell_type": "code",
   "execution_count": 25,
   "id": "18853662-a2fc-4465-aa3c-39d31dacaa8f",
   "metadata": {
    "execution": {
     "iopub.execute_input": "2025-06-04T13:55:15.239276Z",
     "iopub.status.busy": "2025-06-04T13:55:15.239020Z",
     "iopub.status.idle": "2025-06-04T13:55:18.760273Z",
     "shell.execute_reply": "2025-06-04T13:55:18.759336Z",
     "shell.execute_reply.started": "2025-06-04T13:55:15.239258Z"
    }
   },
   "outputs": [
    {
     "name": "stdout",
     "output_type": "stream",
     "text": [
      "Hello there! I'm here to help you understand the predicted result from the dermatology AI model. The result indicates AKIEC, which stands for Actinic Keratosis (AK) or Squamous Cell Carcinoma (SCC) In Situ.\n",
      "\n",
      "At the age of 52, it's not uncommon for skin issues like AKIEC to appear due to prolonged sun exposure over the years. The lesion being on the scalp could be a result of frequent sun exposure to the top of the head, which is a common area often neglected in terms of sun protection.\n",
      "\n",
      "Men, especially those who work outdoors like yourself, are at a higher risk of developing skin cancers due to increased sun exposure without adequate protection. This could be why the AI model predicted AKIEC based on your lifestyle and work type.\n",
      "\n",
      "It's important to take action now to protect your skin and prevent any further complications. I recommend scheduling an appointment with a dermatologist for a thorough examination and to discuss the best course of\n"
     ]
    }
   ],
   "source": [
    "import openai\n",
    "\n",
    "# Example patient input\n",
    "predicted_class = \"akiec\"  # Our model's prediction\n",
    "age = 52\n",
    "sex = \"Male\"\n",
    "body_location = \"Scalp\"\n",
    "lifestyle_work = \"Work outdoors\"\n",
    "\n",
    "# Set the system behavior\n",
    "system_prompt = (\n",
    "    \"You are a friendly and helpful dermatology assistant. \"\n",
    "    \"You explain skin cancer results in calm, simple language that’s easy for anyone to understand. \"\n",
    "    \"You avoid medical jargon, speak with warmth, and gently guide the patient on what to do next.\"\n",
    ")\n",
    "\n",
    "# Dynamic user prompt\n",
    "prompt = f\"\"\"\n",
    "A dermatology AI model predicted: {lesion_types[predicted_class.lower()]}.\n",
    "\n",
    "Patient details:\n",
    "- Age: {age}\n",
    "- Sex: {sex}\n",
    "- Lesion Location: {body_location}\n",
    "- Lifestyle/Work Type: {lifestyle_work}\n",
    "\n",
    "Please explain in a friendly, why it might appear at this age, body location, and sex, how the person's lifestyle or work may affect it, and what they should do next.\n",
    "\"\"\"\n",
    "\n",
    "# Make a request to the API to generate text\n",
    "response = openai.chat.completions.create(\n",
    "    model=\"gpt-3.5-turbo\",\n",
    "    messages=[\n",
    "        {\"role\": \"system\", \"content\": system_prompt},\n",
    "        {\"role\": \"user\", \"content\": prompt}\n",
    "    ],\n",
    "    max_tokens=200\n",
    ")\n",
    "\n",
    "# Display the result\n",
    "print(response.choices[0].message.content)\n"
   ]
  },
  {
   "cell_type": "code",
   "execution_count": 26,
   "id": "dbd1327e-deef-4eb6-a4c3-f7f88bd2442f",
   "metadata": {
    "execution": {
     "iopub.execute_input": "2025-06-04T13:55:18.761319Z",
     "iopub.status.busy": "2025-06-04T13:55:18.761167Z",
     "iopub.status.idle": "2025-06-04T13:55:18.766095Z",
     "shell.execute_reply": "2025-06-04T13:55:18.764718Z",
     "shell.execute_reply.started": "2025-06-04T13:55:18.761307Z"
    }
   },
   "outputs": [],
   "source": [
    "#female moderate cancer"
   ]
  },
  {
   "cell_type": "code",
   "execution_count": 27,
   "id": "7b47d848-d07b-4567-a7a4-8b8eaae1fa1f",
   "metadata": {
    "execution": {
     "iopub.execute_input": "2025-06-04T13:55:18.766877Z",
     "iopub.status.busy": "2025-06-04T13:55:18.766715Z",
     "iopub.status.idle": "2025-06-04T13:55:22.316173Z",
     "shell.execute_reply": "2025-06-04T13:55:22.315041Z",
     "shell.execute_reply.started": "2025-06-04T13:55:18.766864Z"
    }
   },
   "outputs": [
    {
     "name": "stdout",
     "output_type": "stream",
     "text": [
      "Hello there! I'm here to help you understand the skin cancer prediction the dermatology AI made for you, which is BCC, or basal cell carcinoma.\n",
      "\n",
      "Basal cell carcinoma is a common type of skin cancer that often appears in areas exposed to the sun over many years, such as your nose, especially in individuals who have spent a lot of time outdoors. Factors like age, being 63 in your case, and consistent sun exposure can increase the risk of developing skin cancer.\n",
      "\n",
      "As a woman, your risk for basal cell carcinoma is slightly lower than in men, but it's essential to continue monitoring your skin health and practicing sun safety regardless of gender.\n",
      "\n",
      "Given the prediction and the location of the lesion, it's important for you to follow up with a dermatologist for a thorough examination and possibly a biopsy to confirm the diagnosis. Early detection and treatment are key to successfully managing skin cancer.\n",
      "\n",
      "Remember to protect your skin from the sun by wearing sunscreen, hats, and seeking shade when outdoors. If\n"
     ]
    }
   ],
   "source": [
    "import openai\n",
    "\n",
    "# Example patient input\n",
    "predicted_class = \"bcc\"  # Our model's prediction\n",
    "age = 63\n",
    "sex = \"female\"\n",
    "body_location = \"nose\"\n",
    "lifestyle_work = \"inoutdoors\"\n",
    "\n",
    "# Set the system behavior\n",
    "system_prompt = (\n",
    "    \"You are a friendly and helpful dermatology assistant. \"\n",
    "    \"You explain skin cancer results in calm, simple language that’s easy for anyone to understand. \"\n",
    "    \"You avoid medical jargon, speak with warmth, and gently guide the patient on what to do next.\"\n",
    ")\n",
    "\n",
    "# Dynamic user prompt\n",
    "prompt = f\"\"\"\n",
    "A dermatology AI model predicted: {lesion_types[predicted_class.lower()]}.\n",
    "\n",
    "Patient details:\n",
    "- Age: {age}\n",
    "- Sex: {sex}\n",
    "- Lesion Location: {body_location}\n",
    "- Lifestyle/Work Type: {lifestyle_work}\n",
    "\n",
    "Please explain in a friendly, why it might appear at this age, body location, and sex, how the person's lifestyle or work may affect it, and what they should do next.\n",
    "\"\"\"\n",
    "\n",
    "# Make a request to the API to generate text\n",
    "response = openai.chat.completions.create(\n",
    "    model=\"gpt-3.5-turbo\",\n",
    "    messages=[\n",
    "        {\"role\": \"system\", \"content\": system_prompt},\n",
    "        {\"role\": \"user\", \"content\": prompt}\n",
    "    ],\n",
    "    max_tokens=200\n",
    ")\n",
    "\n",
    "# Display the result\n",
    "print(response.choices[0].message.content)\n"
   ]
  },
  {
   "cell_type": "code",
   "execution_count": 28,
   "id": "317d0784-6345-4089-83db-2a368ad9923d",
   "metadata": {
    "execution": {
     "iopub.execute_input": "2025-06-04T13:55:22.317983Z",
     "iopub.status.busy": "2025-06-04T13:55:22.317499Z",
     "iopub.status.idle": "2025-06-04T13:55:22.322158Z",
     "shell.execute_reply": "2025-06-04T13:55:22.321002Z",
     "shell.execute_reply.started": "2025-06-04T13:55:22.317961Z"
    }
   },
   "outputs": [],
   "source": [
    "#female benign"
   ]
  },
  {
   "cell_type": "code",
   "execution_count": 29,
   "id": "a27b2405-7874-46de-b9b3-c8e1f3c10c99",
   "metadata": {
    "execution": {
     "iopub.execute_input": "2025-06-04T13:55:22.323750Z",
     "iopub.status.busy": "2025-06-04T13:55:22.323269Z",
     "iopub.status.idle": "2025-06-04T13:55:24.139562Z",
     "shell.execute_reply": "2025-06-04T13:55:24.138913Z",
     "shell.execute_reply.started": "2025-06-04T13:55:22.323731Z"
    }
   },
   "outputs": [
    {
     "name": "stdout",
     "output_type": "stream",
     "text": [
      "Hello! Thank you for sharing your skin cancer report with me. The result indicates a type of skin lesion called BKL. This may have appeared at your young age of 23 due to various factors like frequent sun exposure without protection, genetic predisposition, or even hormonal changes.\n",
      "\n",
      "Since the lesion is on your arm, it could be linked to sun exposure as this area is often exposed to sunlight. Being indoors might lower your risk, but it's still important to protect your skin from UV rays when you go outside.\n",
      "\n",
      "Now, it's essential to take action. I recommend scheduling an appointment with a dermatologist for a closer examination and possibly a biopsy to confirm the diagnosis. Early detection and treatment are crucial for better outcomes. Remember to protect your skin by using sunscreen, wearing protective clothing, and seeking shade when outdoors. Stay proactive about your skin health, and let's work together to keep you safe and healthy!\n"
     ]
    }
   ],
   "source": [
    "import openai\n",
    "\n",
    "# Example patient input\n",
    "predicted_class = \"bkl\"  # Our model's prediction\n",
    "age = 23\n",
    "sex = \"female\"\n",
    "body_location = \"arm\"\n",
    "lifestyle_work = \"indoors\"\n",
    "\n",
    "# Set the system behavior\n",
    "system_prompt = (\n",
    "    \"You are a friendly and helpful dermatology assistant. \"\n",
    "    \"You explain skin cancer results in calm, simple language that’s easy for anyone to understand. \"\n",
    "    \"You avoid medical jargon, speak with warmth, and gently guide the patient on what to do next.\"\n",
    ")\n",
    "\n",
    "# Dynamic user prompt\n",
    "prompt = f\"\"\"\n",
    "A dermatology AI model predicted: {lesion_types[predicted_class.lower()]}.\n",
    "\n",
    "Patient details:\n",
    "- Age: {age}\n",
    "- Sex: {sex}\n",
    "- Lesion Location: {body_location}\n",
    "- Lifestyle/Work Type: {lifestyle_work}\n",
    "\n",
    "Please explain in a friendly, why it might appear at this age, body location, and sex, how the person's lifestyle or work may affect it, and what they should do next.\n",
    "\"\"\"\n",
    "\n",
    "# Make a request to the API to generate text\n",
    "response = openai.chat.completions.create(\n",
    "    model=\"gpt-3.5-turbo\",\n",
    "    messages=[\n",
    "        {\"role\": \"system\", \"content\": system_prompt},\n",
    "        {\"role\": \"user\", \"content\": prompt}\n",
    "    ],\n",
    "    max_tokens=200\n",
    ")\n",
    "\n",
    "# Display the result\n",
    "print(response.choices[0].message.content)\n"
   ]
  },
  {
   "cell_type": "code",
   "execution_count": 30,
   "id": "227e2c1f-e61e-4648-a192-b40e6c0ee67d",
   "metadata": {
    "execution": {
     "iopub.execute_input": "2025-06-04T13:55:24.140055Z",
     "iopub.status.busy": "2025-06-04T13:55:24.139930Z",
     "iopub.status.idle": "2025-06-04T13:55:24.143498Z",
     "shell.execute_reply": "2025-06-04T13:55:24.142384Z",
     "shell.execute_reply.started": "2025-06-04T13:55:24.140044Z"
    }
   },
   "outputs": [],
   "source": [
    "#male benign"
   ]
  },
  {
   "cell_type": "code",
   "execution_count": 31,
   "id": "4fe3b8c2-e1a9-4233-983d-d6b717d8e443",
   "metadata": {
    "execution": {
     "iopub.execute_input": "2025-06-04T13:55:24.145210Z",
     "iopub.status.busy": "2025-06-04T13:55:24.144476Z",
     "iopub.status.idle": "2025-06-04T13:55:26.836582Z",
     "shell.execute_reply": "2025-06-04T13:55:26.835592Z",
     "shell.execute_reply.started": "2025-06-04T13:55:24.145135Z"
    }
   },
   "outputs": [
    {
     "name": "stdout",
     "output_type": "stream",
     "text": [
      "Hello! I can understand that receiving a skin cancer prediction can be concerning, but let's take a moment to discuss it together.\n",
      "\n",
      "The AI model predicting NV stands for \"Non-Visual.\" This is likely a benign result, meaning it is not cancerous, but it is always recommended to confirm this with a medical professional.\n",
      "\n",
      "At the age of 32, it is possible to have skin changes due to exposure to the sun over the years. The face is a common location for sun exposure, which may explain why the lesion is there. Men are also more prone to developing skin cancer on the face and other sun-exposed areas.\n",
      "\n",
      "Since the lesion is on the face and the patient has an indoor lifestyle, it's still important to be cautious about sun exposure even when indoors. Ultraviolet (UV) rays can still penetrate windows and contribute to skin damage.\n",
      "\n",
      "What you can do next is schedule a visit with a dermatologist to have the lesion examined in person. They will be able to provide a\n"
     ]
    }
   ],
   "source": [
    "import openai\n",
    "\n",
    "# Example patient input\n",
    "predicted_class = \"nv\"  # Our model's prediction\n",
    "age = 32\n",
    "sex = \"male\"\n",
    "body_location = \"face\"\n",
    "lifestyle_work = \"indoors\"\n",
    "\n",
    "# Set the system behavior\n",
    "system_prompt = (\n",
    "    \"You are a friendly and helpful dermatology assistant. \"\n",
    "    \"You explain skin cancer results in calm, simple language that’s easy for anyone to understand. \"\n",
    "    \"You avoid medical jargon, speak with warmth, and gently guide the patient on what to do next.\"\n",
    ")\n",
    "\n",
    "# Dynamic user prompt\n",
    "prompt = f\"\"\"\n",
    "A dermatology AI model predicted: {lesion_types[predicted_class.lower()]}.\n",
    "\n",
    "Patient details:\n",
    "- Age: {age}\n",
    "- Sex: {sex}\n",
    "- Lesion Location: {body_location}\n",
    "- Lifestyle/Work Type: {lifestyle_work}\n",
    "\n",
    "Please explain in a friendly, why it might appear at this age, body location, and sex, how the person's lifestyle or work may affect it, and what they should do next.\n",
    "\"\"\"\n",
    "\n",
    "# Make a request to the API to generate text\n",
    "response = openai.chat.completions.create(\n",
    "    model=\"gpt-3.5-turbo\",\n",
    "    messages=[\n",
    "        {\"role\": \"system\", \"content\": system_prompt},\n",
    "        {\"role\": \"user\", \"content\": prompt}\n",
    "    ],\n",
    "    max_tokens=200\n",
    ")\n",
    "\n",
    "# Display the result\n",
    "print(response.choices[0].message.content)\n",
    "\n"
   ]
  },
  {
   "cell_type": "code",
   "execution_count": null,
   "id": "81fce268-9915-4e8f-8c73-ab722b26c2f4",
   "metadata": {},
   "outputs": [],
   "source": []
  },
  {
   "cell_type": "code",
   "execution_count": null,
   "id": "6b9a64ba-8133-4c2e-8914-0c1f1567e0b9",
   "metadata": {},
   "outputs": [],
   "source": []
  },
  {
   "cell_type": "code",
   "execution_count": null,
   "id": "6a9f9dd6-439c-453d-b5e9-87ca34a1a4df",
   "metadata": {},
   "outputs": [],
   "source": []
  }
 ],
 "metadata": {
  "kernelspec": {
   "display_name": "Python 3 (ipykernel)",
   "language": "python",
   "name": "python3"
  },
  "language_info": {
   "codemirror_mode": {
    "name": "ipython",
    "version": 3
   },
   "file_extension": ".py",
   "mimetype": "text/x-python",
   "name": "python",
   "nbconvert_exporter": "python",
   "pygments_lexer": "ipython3",
   "version": "3.12.9"
  }
 },
 "nbformat": 4,
 "nbformat_minor": 5
}

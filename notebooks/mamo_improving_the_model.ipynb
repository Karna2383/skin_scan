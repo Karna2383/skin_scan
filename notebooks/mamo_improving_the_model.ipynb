{
 "cells": [
  {
   "cell_type": "code",
   "execution_count": 1,
   "id": "1e46fc39-1c8b-47e3-b358-00270b1f012c",
   "metadata": {
    "execution": {
     "iopub.execute_input": "2025-06-09T08:49:10.378815Z",
     "iopub.status.busy": "2025-06-09T08:49:10.377554Z",
     "iopub.status.idle": "2025-06-09T08:49:11.029000Z",
     "shell.execute_reply": "2025-06-09T08:49:11.028274Z",
     "shell.execute_reply.started": "2025-06-09T08:49:10.378769Z"
    },
    "jupyter": {
     "source_hidden": true
    }
   },
   "outputs": [],
   "source": [
    "import matplotlib.pyplot as plt\n",
    "def plot_loss_accuracy(history, title=None):\n",
    "    fig, ax = plt.subplots(1,2, figsize=(20,7))\n",
    "\n",
    "    # --- LOSS ---\n",
    "\n",
    "    ax[0].plot(history.history['loss'])\n",
    "    ax[0].plot(history.history['val_loss'])\n",
    "    ax[0].set_title('Model loss')\n",
    "    ax[0].set_ylabel('Loss')\n",
    "    ax[0].set_xlabel('Epoch')\n",
    "    ax[0].set_ylim((0,3))\n",
    "    ax[0].legend(['Train', 'Test'], loc='best')\n",
    "    ax[0].grid(axis=\"x\",linewidth=0.5)\n",
    "    ax[0].grid(axis=\"y\",linewidth=0.5)\n",
    "\n",
    "    # --- ACCURACY\n",
    "\n",
    "    ax[1].plot(history.history['accuracy'])\n",
    "    ax[1].plot(history.history['val_accuracy'])\n",
    "    ax[1].set_title('Model Accuracy')\n",
    "    ax[1].set_ylabel('Accuracy')\n",
    "    ax[1].set_xlabel('Epoch')\n",
    "    ax[1].legend(['Train', 'Test'], loc='best')\n",
    "    ax[1].set_ylim((0,1))\n",
    "    ax[1].grid(axis=\"x\",linewidth=0.5)\n",
    "    ax[1].grid(axis=\"y\",linewidth=0.5)\n",
    "\n",
    "    if title:\n",
    "        fig.suptitle(title)"
   ]
  },
  {
   "cell_type": "code",
   "execution_count": 2,
   "id": "cc253ee9-4c1a-4893-9800-fa0a14282e60",
   "metadata": {
    "execution": {
     "iopub.execute_input": "2025-06-09T08:49:19.092286Z",
     "iopub.status.busy": "2025-06-09T08:49:19.091746Z",
     "iopub.status.idle": "2025-06-09T08:49:21.399585Z",
     "shell.execute_reply": "2025-06-09T08:49:21.398896Z",
     "shell.execute_reply.started": "2025-06-09T08:49:19.092257Z"
    }
   },
   "outputs": [],
   "source": [
    "import pandas as pd\n",
    "#Pipline Imports\n",
    "from sklearn.pipeline import Pipeline\n",
    "from sklearn.compose import ColumnTransformer\n",
    "from sklearn.preprocessing import OneHotEncoder, MinMaxScaler\n",
    "from google.cloud import storage\n",
    "from PIL import Image\n",
    "import io\n",
    "import os\n",
    "import numpy as np"
   ]
  },
  {
   "cell_type": "code",
   "execution_count": 3,
   "id": "e7602ea6-cc02-4b39-b943-fa1a2c98efb0",
   "metadata": {
    "execution": {
     "iopub.execute_input": "2025-06-09T08:49:22.662246Z",
     "iopub.status.busy": "2025-06-09T08:49:22.661673Z",
     "iopub.status.idle": "2025-06-09T08:49:27.138243Z",
     "shell.execute_reply": "2025-06-09T08:49:27.137054Z",
     "shell.execute_reply.started": "2025-06-09T08:49:22.662219Z"
    }
   },
   "outputs": [
    {
     "name": "stderr",
     "output_type": "stream",
     "text": [
      "2025-06-09 09:49:23.383524: I tensorflow/core/util/port.cc:153] oneDNN custom operations are on. You may see slightly different numerical results due to floating-point round-off errors from different computation orders. To turn them off, set the environment variable `TF_ENABLE_ONEDNN_OPTS=0`.\n",
      "2025-06-09 09:49:23.402736: I external/local_xla/xla/tsl/cuda/cudart_stub.cc:32] Could not find cuda drivers on your machine, GPU will not be used.\n",
      "2025-06-09 09:49:23.550625: I external/local_xla/xla/tsl/cuda/cudart_stub.cc:32] Could not find cuda drivers on your machine, GPU will not be used.\n",
      "2025-06-09 09:49:23.706801: E external/local_xla/xla/stream_executor/cuda/cuda_fft.cc:467] Unable to register cuFFT factory: Attempting to register factory for plugin cuFFT when one has already been registered\n",
      "WARNING: All log messages before absl::InitializeLog() is called are written to STDERR\n",
      "E0000 00:00:1749458963.801290   12090 cuda_dnn.cc:8579] Unable to register cuDNN factory: Attempting to register factory for plugin cuDNN when one has already been registered\n",
      "E0000 00:00:1749458963.830060   12090 cuda_blas.cc:1407] Unable to register cuBLAS factory: Attempting to register factory for plugin cuBLAS when one has already been registered\n",
      "W0000 00:00:1749458964.077147   12090 computation_placer.cc:177] computation placer already registered. Please check linkage and avoid linking the same target more than once.\n",
      "W0000 00:00:1749458964.077242   12090 computation_placer.cc:177] computation placer already registered. Please check linkage and avoid linking the same target more than once.\n",
      "W0000 00:00:1749458964.077243   12090 computation_placer.cc:177] computation placer already registered. Please check linkage and avoid linking the same target more than once.\n",
      "W0000 00:00:1749458964.077244   12090 computation_placer.cc:177] computation placer already registered. Please check linkage and avoid linking the same target more than once.\n",
      "2025-06-09 09:49:24.103218: I tensorflow/core/platform/cpu_feature_guard.cc:210] This TensorFlow binary is optimized to use available CPU instructions in performance-critical operations.\n",
      "To enable the following instructions: AVX2 AVX_VNNI FMA, in other operations, rebuild TensorFlow with the appropriate compiler flags.\n"
     ]
    }
   ],
   "source": [
    "from tensorflow.keras.callbacks import EarlyStopping\n",
    "from sklearn.model_selection import train_test_split"
   ]
  },
  {
   "cell_type": "code",
   "execution_count": 53,
   "id": "a5a315c0-45b1-475b-a78f-7ef171ab705c",
   "metadata": {
    "execution": {
     "iopub.execute_input": "2025-06-09T10:35:00.743123Z",
     "iopub.status.busy": "2025-06-09T10:35:00.742888Z",
     "iopub.status.idle": "2025-06-09T10:35:00.750089Z",
     "shell.execute_reply": "2025-06-09T10:35:00.748989Z",
     "shell.execute_reply.started": "2025-06-09T10:35:00.743108Z"
    }
   },
   "outputs": [],
   "source": [
    "import numpy as np\n",
    "from tensorflow.keras import Model\n",
    "from tensorflow.keras.layers import Input, Dense, Conv2D, MaxPooling2D, Flatten, concatenate, Dropout"
   ]
  },
  {
   "cell_type": "code",
   "execution_count": 6,
   "id": "7487e49e-8312-408d-873e-393bc8d32939",
   "metadata": {
    "execution": {
     "iopub.execute_input": "2025-06-09T08:50:08.312769Z",
     "iopub.status.busy": "2025-06-09T08:50:08.312383Z",
     "iopub.status.idle": "2025-06-09T08:50:08.460763Z",
     "shell.execute_reply": "2025-06-09T08:50:08.459813Z",
     "shell.execute_reply.started": "2025-06-09T08:50:08.312745Z"
    }
   },
   "outputs": [],
   "source": [
    "import sys\n",
    "import os\n",
    "\n",
    "# Add parent directory to Python path\n",
    "sys.path.append(os.path.abspath(\"../skin_scan\"))\n",
    "\n",
    "# Now you can import the module\n",
    "import preprocessing\n",
    "from data import get_metadata_from_bq"
   ]
  },
  {
   "cell_type": "code",
   "execution_count": 8,
   "id": "466c733f-b8d9-4b35-a51c-de1ca848fc82",
   "metadata": {
    "execution": {
     "iopub.execute_input": "2025-06-09T08:50:23.020933Z",
     "iopub.status.busy": "2025-06-09T08:50:23.020018Z",
     "iopub.status.idle": "2025-06-09T08:50:24.523782Z",
     "shell.execute_reply": "2025-06-09T08:50:24.522405Z",
     "shell.execute_reply.started": "2025-06-09T08:50:23.020893Z"
    }
   },
   "outputs": [
    {
     "data": {
      "text/plain": [
       "(10015, 8)"
      ]
     },
     "execution_count": 8,
     "metadata": {},
     "output_type": "execute_result"
    }
   ],
   "source": [
    "metadata = get_metadata_from_bq()\n",
    "metadata.shape"
   ]
  },
  {
   "cell_type": "code",
   "execution_count": 9,
   "id": "fe25a9c3-b993-43e8-bfd8-4dcb03dbf6e6",
   "metadata": {
    "execution": {
     "iopub.execute_input": "2025-06-09T08:50:30.987763Z",
     "iopub.status.busy": "2025-06-09T08:50:30.986454Z",
     "iopub.status.idle": "2025-06-09T08:50:31.014877Z",
     "shell.execute_reply": "2025-06-09T08:50:31.013832Z",
     "shell.execute_reply.started": "2025-06-09T08:50:30.987732Z"
    }
   },
   "outputs": [
    {
     "data": {
      "text/html": [
       "<div>\n",
       "<style scoped>\n",
       "    .dataframe tbody tr th:only-of-type {\n",
       "        vertical-align: middle;\n",
       "    }\n",
       "\n",
       "    .dataframe tbody tr th {\n",
       "        vertical-align: top;\n",
       "    }\n",
       "\n",
       "    .dataframe thead th {\n",
       "        text-align: right;\n",
       "    }\n",
       "</style>\n",
       "<table border=\"1\" class=\"dataframe\">\n",
       "  <thead>\n",
       "    <tr style=\"text-align: right;\">\n",
       "      <th></th>\n",
       "      <th>lesion_id</th>\n",
       "      <th>image_id</th>\n",
       "      <th>dx</th>\n",
       "      <th>dx_type</th>\n",
       "      <th>age</th>\n",
       "      <th>sex</th>\n",
       "      <th>localization</th>\n",
       "      <th>index</th>\n",
       "    </tr>\n",
       "  </thead>\n",
       "  <tbody>\n",
       "    <tr>\n",
       "      <th>0</th>\n",
       "      <td>HAM_0000550</td>\n",
       "      <td>ISIC_0024306</td>\n",
       "      <td>nv</td>\n",
       "      <td>follow_up</td>\n",
       "      <td>45.0</td>\n",
       "      <td>male</td>\n",
       "      <td>trunk</td>\n",
       "      <td>4349</td>\n",
       "    </tr>\n",
       "    <tr>\n",
       "      <th>1</th>\n",
       "      <td>HAM_0003577</td>\n",
       "      <td>ISIC_0024307</td>\n",
       "      <td>nv</td>\n",
       "      <td>follow_up</td>\n",
       "      <td>50.0</td>\n",
       "      <td>male</td>\n",
       "      <td>lower extremity</td>\n",
       "      <td>4263</td>\n",
       "    </tr>\n",
       "    <tr>\n",
       "      <th>2</th>\n",
       "      <td>HAM_0001477</td>\n",
       "      <td>ISIC_0024308</td>\n",
       "      <td>nv</td>\n",
       "      <td>follow_up</td>\n",
       "      <td>55.0</td>\n",
       "      <td>female</td>\n",
       "      <td>trunk</td>\n",
       "      <td>4217</td>\n",
       "    </tr>\n",
       "    <tr>\n",
       "      <th>3</th>\n",
       "      <td>HAM_0000484</td>\n",
       "      <td>ISIC_0024309</td>\n",
       "      <td>nv</td>\n",
       "      <td>follow_up</td>\n",
       "      <td>40.0</td>\n",
       "      <td>male</td>\n",
       "      <td>trunk</td>\n",
       "      <td>3587</td>\n",
       "    </tr>\n",
       "    <tr>\n",
       "      <th>4</th>\n",
       "      <td>HAM_0003350</td>\n",
       "      <td>ISIC_0024310</td>\n",
       "      <td>mel</td>\n",
       "      <td>histo</td>\n",
       "      <td>60.0</td>\n",
       "      <td>male</td>\n",
       "      <td>chest</td>\n",
       "      <td>1451</td>\n",
       "    </tr>\n",
       "  </tbody>\n",
       "</table>\n",
       "</div>"
      ],
      "text/plain": [
       "     lesion_id      image_id   dx    dx_type   age     sex     localization  \\\n",
       "0  HAM_0000550  ISIC_0024306   nv  follow_up  45.0    male            trunk   \n",
       "1  HAM_0003577  ISIC_0024307   nv  follow_up  50.0    male  lower extremity   \n",
       "2  HAM_0001477  ISIC_0024308   nv  follow_up  55.0  female            trunk   \n",
       "3  HAM_0000484  ISIC_0024309   nv  follow_up  40.0    male            trunk   \n",
       "4  HAM_0003350  ISIC_0024310  mel      histo  60.0    male            chest   \n",
       "\n",
       "   index  \n",
       "0   4349  \n",
       "1   4263  \n",
       "2   4217  \n",
       "3   3587  \n",
       "4   1451  "
      ]
     },
     "execution_count": 9,
     "metadata": {},
     "output_type": "execute_result"
    }
   ],
   "source": [
    "metadata.head()"
   ]
  },
  {
   "cell_type": "code",
   "execution_count": 67,
   "id": "fb909f2a-f51e-4dd5-a4bc-92415271d918",
   "metadata": {
    "execution": {
     "iopub.execute_input": "2025-06-09T11:17:27.439850Z",
     "iopub.status.busy": "2025-06-09T11:17:27.435507Z",
     "iopub.status.idle": "2025-06-09T11:17:27.578716Z",
     "shell.execute_reply": "2025-06-09T11:17:27.577190Z",
     "shell.execute_reply.started": "2025-06-09T11:17:27.439704Z"
    }
   },
   "outputs": [
    {
     "data": {
      "text/plain": [
       "dx\n",
       "nv       6705\n",
       "mel      1113\n",
       "bkl      1099\n",
       "bcc       514\n",
       "akiec     327\n",
       "vasc      142\n",
       "df        115\n",
       "Name: count, dtype: int64"
      ]
     },
     "execution_count": 67,
     "metadata": {},
     "output_type": "execute_result"
    }
   ],
   "source": [
    "metadata.dx.value_counts()"
   ]
  },
  {
   "cell_type": "code",
   "execution_count": 11,
   "id": "107d1438-46ba-4cdf-8208-ba2b366a4a8d",
   "metadata": {
    "execution": {
     "iopub.execute_input": "2025-06-09T10:15:53.944036Z",
     "iopub.status.busy": "2025-06-09T10:15:53.938978Z",
     "iopub.status.idle": "2025-06-09T10:15:54.042333Z",
     "shell.execute_reply": "2025-06-09T10:15:54.040131Z",
     "shell.execute_reply.started": "2025-06-09T10:15:53.943862Z"
    }
   },
   "outputs": [],
   "source": [
    "# Split into nv and non-nv rows\n",
    "nv_rows = metadata[metadata['dx'] == 'nv']\n",
    "non_nv_rows = metadata[metadata['dx'] != 'nv']\n",
    "\n",
    "# Drop duplicates from nv rows based on lesion_id (keeping the first occurrence)\n",
    "nv_deduped = nv_rows.drop_duplicates(subset='lesion_id', keep='first')"
   ]
  },
  {
   "cell_type": "code",
   "execution_count": 12,
   "id": "c880e92c-3f5f-4f0f-9ca1-ef75d1eab966",
   "metadata": {
    "execution": {
     "iopub.execute_input": "2025-06-09T10:16:01.691625Z",
     "iopub.status.busy": "2025-06-09T10:16:01.691118Z",
     "iopub.status.idle": "2025-06-09T10:16:01.710983Z",
     "shell.execute_reply": "2025-06-09T10:16:01.709240Z",
     "shell.execute_reply.started": "2025-06-09T10:16:01.691599Z"
    }
   },
   "outputs": [
    {
     "data": {
      "text/plain": [
       "(3310, 8)"
      ]
     },
     "execution_count": 12,
     "metadata": {},
     "output_type": "execute_result"
    }
   ],
   "source": [
    "non_nv_rows.shape"
   ]
  },
  {
   "cell_type": "code",
   "execution_count": 13,
   "id": "c51cb1a4-0723-4360-ba14-a5843a39fa38",
   "metadata": {
    "execution": {
     "iopub.execute_input": "2025-06-09T10:16:06.237848Z",
     "iopub.status.busy": "2025-06-09T10:16:06.236799Z",
     "iopub.status.idle": "2025-06-09T10:16:06.247205Z",
     "shell.execute_reply": "2025-06-09T10:16:06.246038Z",
     "shell.execute_reply.started": "2025-06-09T10:16:06.237815Z"
    }
   },
   "outputs": [
    {
     "data": {
      "text/plain": [
       "(6705, 8)"
      ]
     },
     "execution_count": 13,
     "metadata": {},
     "output_type": "execute_result"
    }
   ],
   "source": [
    "nv_rows.shape"
   ]
  },
  {
   "cell_type": "code",
   "execution_count": 14,
   "id": "5426ae06-2a4e-4d84-b4a5-7b1450cc2ec7",
   "metadata": {
    "execution": {
     "iopub.execute_input": "2025-06-09T10:16:12.670119Z",
     "iopub.status.busy": "2025-06-09T10:16:12.669316Z",
     "iopub.status.idle": "2025-06-09T10:16:12.694583Z",
     "shell.execute_reply": "2025-06-09T10:16:12.692926Z",
     "shell.execute_reply.started": "2025-06-09T10:16:12.670090Z"
    }
   },
   "outputs": [],
   "source": [
    "shuffled_nv_rows = nv_rows.sample(frac=1, random_state=42).reset_index(drop=True)"
   ]
  },
  {
   "cell_type": "code",
   "execution_count": 15,
   "id": "6ef15458-f733-4bce-973e-aecf8800c892",
   "metadata": {
    "execution": {
     "iopub.execute_input": "2025-06-09T10:16:17.606796Z",
     "iopub.status.busy": "2025-06-09T10:16:17.605681Z",
     "iopub.status.idle": "2025-06-09T10:16:17.613637Z",
     "shell.execute_reply": "2025-06-09T10:16:17.612548Z",
     "shell.execute_reply.started": "2025-06-09T10:16:17.606761Z"
    }
   },
   "outputs": [],
   "source": [
    "nv_rows_small = shuffled_nv_rows.iloc[:3600]"
   ]
  },
  {
   "cell_type": "code",
   "execution_count": 16,
   "id": "0fc5e71c-0210-4a4e-8106-86291ee2b7dc",
   "metadata": {
    "execution": {
     "iopub.execute_input": "2025-06-09T10:16:21.525830Z",
     "iopub.status.busy": "2025-06-09T10:16:21.523112Z",
     "iopub.status.idle": "2025-06-09T10:16:21.543577Z",
     "shell.execute_reply": "2025-06-09T10:16:21.541909Z",
     "shell.execute_reply.started": "2025-06-09T10:16:21.525797Z"
    }
   },
   "outputs": [],
   "source": [
    "metadata_cleaned = pd.concat([nv_rows_small, non_nv_rows], ignore_index=True)"
   ]
  },
  {
   "cell_type": "code",
   "execution_count": 17,
   "id": "e4e2c128-5195-421f-a7b8-db702a6ef4cd",
   "metadata": {
    "execution": {
     "iopub.execute_input": "2025-06-09T10:16:26.023424Z",
     "iopub.status.busy": "2025-06-09T10:16:26.022309Z",
     "iopub.status.idle": "2025-06-09T10:16:26.031874Z",
     "shell.execute_reply": "2025-06-09T10:16:26.030706Z",
     "shell.execute_reply.started": "2025-06-09T10:16:26.023388Z"
    }
   },
   "outputs": [
    {
     "data": {
      "text/plain": [
       "(6910, 8)"
      ]
     },
     "execution_count": 17,
     "metadata": {},
     "output_type": "execute_result"
    }
   ],
   "source": [
    "metadata_cleaned.shape"
   ]
  },
  {
   "cell_type": "code",
   "execution_count": 18,
   "id": "a8427a47-6058-45c9-ab25-bc70750a9d50",
   "metadata": {
    "execution": {
     "iopub.execute_input": "2025-06-09T10:16:31.445919Z",
     "iopub.status.busy": "2025-06-09T10:16:31.445407Z",
     "iopub.status.idle": "2025-06-09T10:16:31.510945Z",
     "shell.execute_reply": "2025-06-09T10:16:31.509650Z",
     "shell.execute_reply.started": "2025-06-09T10:16:31.445892Z"
    }
   },
   "outputs": [],
   "source": [
    "processed_metadata = preprocessing.preprocess_metadata(metadata_cleaned)"
   ]
  },
  {
   "cell_type": "code",
   "execution_count": 19,
   "id": "69c2d4c5-fd1c-4f84-90f0-dfac88b9a972",
   "metadata": {
    "execution": {
     "iopub.execute_input": "2025-06-09T10:16:37.029117Z",
     "iopub.status.busy": "2025-06-09T10:16:37.028761Z",
     "iopub.status.idle": "2025-06-09T10:16:37.036814Z",
     "shell.execute_reply": "2025-06-09T10:16:37.035505Z",
     "shell.execute_reply.started": "2025-06-09T10:16:37.029094Z"
    }
   },
   "outputs": [
    {
     "data": {
      "text/plain": [
       "(6766, 6)"
      ]
     },
     "execution_count": 19,
     "metadata": {},
     "output_type": "execute_result"
    }
   ],
   "source": [
    "processed_metadata.shape"
   ]
  },
  {
   "cell_type": "code",
   "execution_count": 20,
   "id": "f4953409-8121-4be0-9851-1ca57d93feac",
   "metadata": {
    "execution": {
     "iopub.execute_input": "2025-06-09T10:16:42.651941Z",
     "iopub.status.busy": "2025-06-09T10:16:42.651205Z",
     "iopub.status.idle": "2025-06-09T10:16:42.659497Z",
     "shell.execute_reply": "2025-06-09T10:16:42.658339Z",
     "shell.execute_reply.started": "2025-06-09T10:16:42.651905Z"
    }
   },
   "outputs": [],
   "source": [
    "processed_metadata_small = processed_metadata"
   ]
  },
  {
   "cell_type": "code",
   "execution_count": 22,
   "id": "3d7ffe37-f2bb-486c-b8ac-c7791cba93b3",
   "metadata": {
    "execution": {
     "iopub.execute_input": "2025-06-09T10:17:03.788027Z",
     "iopub.status.busy": "2025-06-09T10:17:03.786851Z",
     "iopub.status.idle": "2025-06-09T10:17:03.793294Z",
     "shell.execute_reply": "2025-06-09T10:17:03.792180Z",
     "shell.execute_reply.started": "2025-06-09T10:17:03.787994Z"
    }
   },
   "outputs": [],
   "source": [
    "processed_metadata_small.reset_index(drop=True,inplace=True)"
   ]
  },
  {
   "cell_type": "code",
   "execution_count": 23,
   "id": "6123feae-814e-48de-ad90-0381a2c22105",
   "metadata": {
    "execution": {
     "iopub.execute_input": "2025-06-09T10:17:03.994677Z",
     "iopub.status.busy": "2025-06-09T10:17:03.994323Z",
     "iopub.status.idle": "2025-06-09T10:17:04.012553Z",
     "shell.execute_reply": "2025-06-09T10:17:04.011438Z",
     "shell.execute_reply.started": "2025-06-09T10:17:03.994653Z"
    }
   },
   "outputs": [
    {
     "data": {
      "text/html": [
       "<div>\n",
       "<style scoped>\n",
       "    .dataframe tbody tr th:only-of-type {\n",
       "        vertical-align: middle;\n",
       "    }\n",
       "\n",
       "    .dataframe tbody tr th {\n",
       "        vertical-align: top;\n",
       "    }\n",
       "\n",
       "    .dataframe thead th {\n",
       "        text-align: right;\n",
       "    }\n",
       "</style>\n",
       "<table border=\"1\" class=\"dataframe\">\n",
       "  <thead>\n",
       "    <tr style=\"text-align: right;\">\n",
       "      <th></th>\n",
       "      <th>image_id</th>\n",
       "      <th>dx</th>\n",
       "      <th>age</th>\n",
       "      <th>sex</th>\n",
       "      <th>localization</th>\n",
       "      <th>index</th>\n",
       "    </tr>\n",
       "  </thead>\n",
       "  <tbody>\n",
       "    <tr>\n",
       "      <th>0</th>\n",
       "      <td>ISIC_0024306</td>\n",
       "      <td>nv</td>\n",
       "      <td>45.0</td>\n",
       "      <td>male</td>\n",
       "      <td>trunk</td>\n",
       "      <td>4349</td>\n",
       "    </tr>\n",
       "    <tr>\n",
       "      <th>1</th>\n",
       "      <td>ISIC_0024310</td>\n",
       "      <td>mel</td>\n",
       "      <td>60.0</td>\n",
       "      <td>male</td>\n",
       "      <td>chest</td>\n",
       "      <td>1451</td>\n",
       "    </tr>\n",
       "    <tr>\n",
       "      <th>2</th>\n",
       "      <td>ISIC_0024312</td>\n",
       "      <td>bkl</td>\n",
       "      <td>75.0</td>\n",
       "      <td>male</td>\n",
       "      <td>lower extremity</td>\n",
       "      <td>700</td>\n",
       "    </tr>\n",
       "    <tr>\n",
       "      <th>3</th>\n",
       "      <td>ISIC_0024313</td>\n",
       "      <td>mel</td>\n",
       "      <td>50.0</td>\n",
       "      <td>female</td>\n",
       "      <td>back</td>\n",
       "      <td>2130</td>\n",
       "    </tr>\n",
       "    <tr>\n",
       "      <th>4</th>\n",
       "      <td>ISIC_0024315</td>\n",
       "      <td>mel</td>\n",
       "      <td>55.0</td>\n",
       "      <td>male</td>\n",
       "      <td>trunk</td>\n",
       "      <td>1327</td>\n",
       "    </tr>\n",
       "    <tr>\n",
       "      <th>...</th>\n",
       "      <td>...</td>\n",
       "      <td>...</td>\n",
       "      <td>...</td>\n",
       "      <td>...</td>\n",
       "      <td>...</td>\n",
       "      <td>...</td>\n",
       "    </tr>\n",
       "    <tr>\n",
       "      <th>6761</th>\n",
       "      <td>ISIC_0034316</td>\n",
       "      <td>mel</td>\n",
       "      <td>85.0</td>\n",
       "      <td>male</td>\n",
       "      <td>upper extremity</td>\n",
       "      <td>1721</td>\n",
       "    </tr>\n",
       "    <tr>\n",
       "      <th>6762</th>\n",
       "      <td>ISIC_0034317</td>\n",
       "      <td>mel</td>\n",
       "      <td>70.0</td>\n",
       "      <td>female</td>\n",
       "      <td>lower extremity</td>\n",
       "      <td>1888</td>\n",
       "    </tr>\n",
       "    <tr>\n",
       "      <th>6763</th>\n",
       "      <td>ISIC_0034318</td>\n",
       "      <td>bkl</td>\n",
       "      <td>55.0</td>\n",
       "      <td>male</td>\n",
       "      <td>trunk</td>\n",
       "      <td>121</td>\n",
       "    </tr>\n",
       "    <tr>\n",
       "      <th>6764</th>\n",
       "      <td>ISIC_0034319</td>\n",
       "      <td>nv</td>\n",
       "      <td>30.0</td>\n",
       "      <td>male</td>\n",
       "      <td>trunk</td>\n",
       "      <td>7440</td>\n",
       "    </tr>\n",
       "    <tr>\n",
       "      <th>6765</th>\n",
       "      <td>ISIC_0034320</td>\n",
       "      <td>nv</td>\n",
       "      <td>25.0</td>\n",
       "      <td>female</td>\n",
       "      <td>chest</td>\n",
       "      <td>7363</td>\n",
       "    </tr>\n",
       "  </tbody>\n",
       "</table>\n",
       "<p>6766 rows × 6 columns</p>\n",
       "</div>"
      ],
      "text/plain": [
       "          image_id   dx   age     sex     localization  index\n",
       "0     ISIC_0024306   nv  45.0    male            trunk   4349\n",
       "1     ISIC_0024310  mel  60.0    male            chest   1451\n",
       "2     ISIC_0024312  bkl  75.0    male  lower extremity    700\n",
       "3     ISIC_0024313  mel  50.0  female             back   2130\n",
       "4     ISIC_0024315  mel  55.0    male            trunk   1327\n",
       "...            ...  ...   ...     ...              ...    ...\n",
       "6761  ISIC_0034316  mel  85.0    male  upper extremity   1721\n",
       "6762  ISIC_0034317  mel  70.0  female  lower extremity   1888\n",
       "6763  ISIC_0034318  bkl  55.0    male            trunk    121\n",
       "6764  ISIC_0034319   nv  30.0    male            trunk   7440\n",
       "6765  ISIC_0034320   nv  25.0  female            chest   7363\n",
       "\n",
       "[6766 rows x 6 columns]"
      ]
     },
     "execution_count": 23,
     "metadata": {},
     "output_type": "execute_result"
    }
   ],
   "source": [
    "processed_metadata_small"
   ]
  },
  {
   "cell_type": "code",
   "execution_count": 24,
   "id": "d2ab6a68-0f82-4d6a-88de-4645bf222567",
   "metadata": {
    "execution": {
     "iopub.execute_input": "2025-06-09T10:17:11.704674Z",
     "iopub.status.busy": "2025-06-09T10:17:11.703743Z",
     "iopub.status.idle": "2025-06-09T10:17:13.455909Z",
     "shell.execute_reply": "2025-06-09T10:17:13.453144Z",
     "shell.execute_reply.started": "2025-06-09T10:17:11.704638Z"
    }
   },
   "outputs": [],
   "source": [
    "client = storage.Client()\n",
    "bucket = client.bucket(\"skin_scan_mohnatz\")\n",
    "blobs = bucket.list_blobs(prefix=\"train_all_images/\")\n",
    "images = [blob.name for blob in blobs if blob.name.lower().endswith(\".jpg\")]"
   ]
  },
  {
   "cell_type": "code",
   "execution_count": 25,
   "id": "2a40aefd-9127-4b14-9122-e141c8150a81",
   "metadata": {
    "execution": {
     "iopub.execute_input": "2025-06-09T10:17:18.419782Z",
     "iopub.status.busy": "2025-06-09T10:17:18.419288Z",
     "iopub.status.idle": "2025-06-09T10:17:18.426229Z",
     "shell.execute_reply": "2025-06-09T10:17:18.424684Z",
     "shell.execute_reply.started": "2025-06-09T10:17:18.419755Z"
    }
   },
   "outputs": [],
   "source": [
    "resized_array = []"
   ]
  },
  {
   "cell_type": "code",
   "execution_count": 26,
   "id": "0803b1c6-7fa7-4c62-938f-f8e22a641a35",
   "metadata": {
    "execution": {
     "iopub.execute_input": "2025-06-09T10:17:22.221264Z",
     "iopub.status.busy": "2025-06-09T10:17:22.220898Z",
     "iopub.status.idle": "2025-06-09T10:28:09.516969Z",
     "shell.execute_reply": "2025-06-09T10:28:09.512181Z",
     "shell.execute_reply.started": "2025-06-09T10:17:22.221241Z"
    }
   },
   "outputs": [],
   "source": [
    "for name in processed_metadata_small.image_id:\n",
    "    for image in images:\n",
    "        if image.endswith(f\"{name}.jpg\"):\n",
    "            blob = bucket.blob(image)\n",
    "            image_bytes = blob.download_as_bytes()\n",
    "            img = Image.open(io.BytesIO(image_bytes))\n",
    "            img = img.resize((96, 96))\n",
    "            resized_array.append(np.array(img))"
   ]
  },
  {
   "cell_type": "code",
   "execution_count": 27,
   "id": "04ac0870-9e32-4817-99d7-9852373158ab",
   "metadata": {
    "execution": {
     "iopub.execute_input": "2025-06-09T10:28:09.525168Z",
     "iopub.status.busy": "2025-06-09T10:28:09.524745Z",
     "iopub.status.idle": "2025-06-09T10:28:09.665841Z",
     "shell.execute_reply": "2025-06-09T10:28:09.664669Z",
     "shell.execute_reply.started": "2025-06-09T10:28:09.525134Z"
    }
   },
   "outputs": [],
   "source": [
    "X_images = np.array(resized_array)"
   ]
  },
  {
   "cell_type": "code",
   "execution_count": 28,
   "id": "2f3898ea-d4eb-485d-8bea-dfda256f8edf",
   "metadata": {
    "execution": {
     "iopub.execute_input": "2025-06-09T10:28:09.675634Z",
     "iopub.status.busy": "2025-06-09T10:28:09.675464Z",
     "iopub.status.idle": "2025-06-09T10:28:09.683857Z",
     "shell.execute_reply": "2025-06-09T10:28:09.683174Z",
     "shell.execute_reply.started": "2025-06-09T10:28:09.675620Z"
    }
   },
   "outputs": [
    {
     "data": {
      "text/plain": [
       "(6766, 96, 96, 3)"
      ]
     },
     "execution_count": 28,
     "metadata": {},
     "output_type": "execute_result"
    }
   ],
   "source": [
    "X_images.shape"
   ]
  },
  {
   "cell_type": "code",
   "execution_count": 29,
   "id": "3c65c790-1fb1-4e96-9aad-4a5310ea7605",
   "metadata": {
    "execution": {
     "iopub.execute_input": "2025-06-09T10:28:09.685336Z",
     "iopub.status.busy": "2025-06-09T10:28:09.684939Z",
     "iopub.status.idle": "2025-06-09T10:28:09.783280Z",
     "shell.execute_reply": "2025-06-09T10:28:09.782566Z",
     "shell.execute_reply.started": "2025-06-09T10:28:09.685319Z"
    }
   },
   "outputs": [],
   "source": [
    "X_images_copy = X_images.copy()"
   ]
  },
  {
   "cell_type": "code",
   "execution_count": 30,
   "id": "8f15e27f-03aa-4697-8f18-59bb90165fe7",
   "metadata": {
    "execution": {
     "iopub.execute_input": "2025-06-09T10:28:09.784176Z",
     "iopub.status.busy": "2025-06-09T10:28:09.783945Z",
     "iopub.status.idle": "2025-06-09T10:28:10.673063Z",
     "shell.execute_reply": "2025-06-09T10:28:10.671993Z",
     "shell.execute_reply.started": "2025-06-09T10:28:09.784153Z"
    }
   },
   "outputs": [],
   "source": [
    "X_images = X_images/255"
   ]
  },
  {
   "cell_type": "code",
   "execution_count": 31,
   "id": "0aa6ab49-a57c-435f-9db7-3ac9c518473b",
   "metadata": {
    "execution": {
     "iopub.execute_input": "2025-06-09T10:28:10.674479Z",
     "iopub.status.busy": "2025-06-09T10:28:10.673977Z",
     "iopub.status.idle": "2025-06-09T10:28:10.692874Z",
     "shell.execute_reply": "2025-06-09T10:28:10.692219Z",
     "shell.execute_reply.started": "2025-06-09T10:28:10.674458Z"
    }
   },
   "outputs": [
    {
     "data": {
      "text/html": [
       "<div>\n",
       "<style scoped>\n",
       "    .dataframe tbody tr th:only-of-type {\n",
       "        vertical-align: middle;\n",
       "    }\n",
       "\n",
       "    .dataframe tbody tr th {\n",
       "        vertical-align: top;\n",
       "    }\n",
       "\n",
       "    .dataframe thead th {\n",
       "        text-align: right;\n",
       "    }\n",
       "</style>\n",
       "<table border=\"1\" class=\"dataframe\">\n",
       "  <thead>\n",
       "    <tr style=\"text-align: right;\">\n",
       "      <th></th>\n",
       "      <th>image_id</th>\n",
       "      <th>dx</th>\n",
       "      <th>age</th>\n",
       "      <th>sex</th>\n",
       "      <th>localization</th>\n",
       "      <th>index</th>\n",
       "    </tr>\n",
       "  </thead>\n",
       "  <tbody>\n",
       "    <tr>\n",
       "      <th>0</th>\n",
       "      <td>ISIC_0024306</td>\n",
       "      <td>nv</td>\n",
       "      <td>45.0</td>\n",
       "      <td>male</td>\n",
       "      <td>trunk</td>\n",
       "      <td>4349</td>\n",
       "    </tr>\n",
       "    <tr>\n",
       "      <th>1</th>\n",
       "      <td>ISIC_0024310</td>\n",
       "      <td>mel</td>\n",
       "      <td>60.0</td>\n",
       "      <td>male</td>\n",
       "      <td>chest</td>\n",
       "      <td>1451</td>\n",
       "    </tr>\n",
       "    <tr>\n",
       "      <th>2</th>\n",
       "      <td>ISIC_0024312</td>\n",
       "      <td>bkl</td>\n",
       "      <td>75.0</td>\n",
       "      <td>male</td>\n",
       "      <td>lower extremity</td>\n",
       "      <td>700</td>\n",
       "    </tr>\n",
       "    <tr>\n",
       "      <th>3</th>\n",
       "      <td>ISIC_0024313</td>\n",
       "      <td>mel</td>\n",
       "      <td>50.0</td>\n",
       "      <td>female</td>\n",
       "      <td>back</td>\n",
       "      <td>2130</td>\n",
       "    </tr>\n",
       "    <tr>\n",
       "      <th>4</th>\n",
       "      <td>ISIC_0024315</td>\n",
       "      <td>mel</td>\n",
       "      <td>55.0</td>\n",
       "      <td>male</td>\n",
       "      <td>trunk</td>\n",
       "      <td>1327</td>\n",
       "    </tr>\n",
       "    <tr>\n",
       "      <th>...</th>\n",
       "      <td>...</td>\n",
       "      <td>...</td>\n",
       "      <td>...</td>\n",
       "      <td>...</td>\n",
       "      <td>...</td>\n",
       "      <td>...</td>\n",
       "    </tr>\n",
       "    <tr>\n",
       "      <th>6761</th>\n",
       "      <td>ISIC_0034316</td>\n",
       "      <td>mel</td>\n",
       "      <td>85.0</td>\n",
       "      <td>male</td>\n",
       "      <td>upper extremity</td>\n",
       "      <td>1721</td>\n",
       "    </tr>\n",
       "    <tr>\n",
       "      <th>6762</th>\n",
       "      <td>ISIC_0034317</td>\n",
       "      <td>mel</td>\n",
       "      <td>70.0</td>\n",
       "      <td>female</td>\n",
       "      <td>lower extremity</td>\n",
       "      <td>1888</td>\n",
       "    </tr>\n",
       "    <tr>\n",
       "      <th>6763</th>\n",
       "      <td>ISIC_0034318</td>\n",
       "      <td>bkl</td>\n",
       "      <td>55.0</td>\n",
       "      <td>male</td>\n",
       "      <td>trunk</td>\n",
       "      <td>121</td>\n",
       "    </tr>\n",
       "    <tr>\n",
       "      <th>6764</th>\n",
       "      <td>ISIC_0034319</td>\n",
       "      <td>nv</td>\n",
       "      <td>30.0</td>\n",
       "      <td>male</td>\n",
       "      <td>trunk</td>\n",
       "      <td>7440</td>\n",
       "    </tr>\n",
       "    <tr>\n",
       "      <th>6765</th>\n",
       "      <td>ISIC_0034320</td>\n",
       "      <td>nv</td>\n",
       "      <td>25.0</td>\n",
       "      <td>female</td>\n",
       "      <td>chest</td>\n",
       "      <td>7363</td>\n",
       "    </tr>\n",
       "  </tbody>\n",
       "</table>\n",
       "<p>6766 rows × 6 columns</p>\n",
       "</div>"
      ],
      "text/plain": [
       "          image_id   dx   age     sex     localization  index\n",
       "0     ISIC_0024306   nv  45.0    male            trunk   4349\n",
       "1     ISIC_0024310  mel  60.0    male            chest   1451\n",
       "2     ISIC_0024312  bkl  75.0    male  lower extremity    700\n",
       "3     ISIC_0024313  mel  50.0  female             back   2130\n",
       "4     ISIC_0024315  mel  55.0    male            trunk   1327\n",
       "...            ...  ...   ...     ...              ...    ...\n",
       "6761  ISIC_0034316  mel  85.0    male  upper extremity   1721\n",
       "6762  ISIC_0034317  mel  70.0  female  lower extremity   1888\n",
       "6763  ISIC_0034318  bkl  55.0    male            trunk    121\n",
       "6764  ISIC_0034319   nv  30.0    male            trunk   7440\n",
       "6765  ISIC_0034320   nv  25.0  female            chest   7363\n",
       "\n",
       "[6766 rows x 6 columns]"
      ]
     },
     "execution_count": 31,
     "metadata": {},
     "output_type": "execute_result"
    }
   ],
   "source": [
    "processed_metadata_small"
   ]
  },
  {
   "cell_type": "code",
   "execution_count": 32,
   "id": "eb419b85-b752-447e-b360-61f535c75155",
   "metadata": {
    "execution": {
     "iopub.execute_input": "2025-06-09T10:28:10.693501Z",
     "iopub.status.busy": "2025-06-09T10:28:10.693309Z",
     "iopub.status.idle": "2025-06-09T10:28:10.705947Z",
     "shell.execute_reply": "2025-06-09T10:28:10.705374Z",
     "shell.execute_reply.started": "2025-06-09T10:28:10.693488Z"
    }
   },
   "outputs": [
    {
     "data": {
      "text/plain": [
       "dx\n",
       "nv       3494\n",
       "mel      1103\n",
       "bkl      1076\n",
       "bcc       509\n",
       "akiec     327\n",
       "vasc      142\n",
       "df        115\n",
       "Name: count, dtype: int64"
      ]
     },
     "execution_count": 32,
     "metadata": {},
     "output_type": "execute_result"
    }
   ],
   "source": [
    "processed_metadata_small.dx.value_counts(normalize=False)"
   ]
  },
  {
   "cell_type": "code",
   "execution_count": 33,
   "id": "a56eda56-dd3a-474c-8fae-33f6d18165f9",
   "metadata": {
    "execution": {
     "iopub.execute_input": "2025-06-09T10:28:10.707317Z",
     "iopub.status.busy": "2025-06-09T10:28:10.706753Z",
     "iopub.status.idle": "2025-06-09T10:28:10.714915Z",
     "shell.execute_reply": "2025-06-09T10:28:10.714348Z",
     "shell.execute_reply.started": "2025-06-09T10:28:10.707298Z"
    }
   },
   "outputs": [
    {
     "data": {
      "text/plain": [
       "dx\n",
       "nv       51.6\n",
       "mel      16.3\n",
       "bkl      15.9\n",
       "bcc       7.5\n",
       "akiec     4.8\n",
       "vasc      2.1\n",
       "df        1.7\n",
       "Name: proportion, dtype: float64"
      ]
     },
     "execution_count": 33,
     "metadata": {},
     "output_type": "execute_result"
    }
   ],
   "source": [
    "round(processed_metadata_small.dx.value_counts(normalize=True)*100,1)"
   ]
  },
  {
   "cell_type": "code",
   "execution_count": 34,
   "id": "db2e3530-e58a-4f1a-9053-89a120ef52af",
   "metadata": {
    "execution": {
     "iopub.execute_input": "2025-06-09T10:28:10.718523Z",
     "iopub.status.busy": "2025-06-09T10:28:10.717105Z",
     "iopub.status.idle": "2025-06-09T10:28:10.791742Z",
     "shell.execute_reply": "2025-06-09T10:28:10.790925Z",
     "shell.execute_reply.started": "2025-06-09T10:28:10.718504Z"
    }
   },
   "outputs": [],
   "source": [
    "X_metadata, y, preprocessor, class_names = preprocessing.prepare_data_for_model(processed_metadata_small)"
   ]
  },
  {
   "cell_type": "code",
   "execution_count": 35,
   "id": "48d24694-96fd-4bae-840e-31d5612e2249",
   "metadata": {
    "execution": {
     "iopub.execute_input": "2025-06-09T10:28:10.793412Z",
     "iopub.status.busy": "2025-06-09T10:28:10.792990Z",
     "iopub.status.idle": "2025-06-09T10:28:10.797556Z",
     "shell.execute_reply": "2025-06-09T10:28:10.796909Z",
     "shell.execute_reply.started": "2025-06-09T10:28:10.793390Z"
    }
   },
   "outputs": [
    {
     "data": {
      "text/plain": [
       "(6766, 15)"
      ]
     },
     "execution_count": 35,
     "metadata": {},
     "output_type": "execute_result"
    }
   ],
   "source": [
    "X_metadata.shape"
   ]
  },
  {
   "cell_type": "code",
   "execution_count": 37,
   "id": "b063a8b0-b91e-49d8-8c93-a59f3d928dff",
   "metadata": {
    "execution": {
     "iopub.execute_input": "2025-06-09T10:28:10.804911Z",
     "iopub.status.busy": "2025-06-09T10:28:10.804669Z",
     "iopub.status.idle": "2025-06-09T10:28:10.810512Z",
     "shell.execute_reply": "2025-06-09T10:28:10.809148Z",
     "shell.execute_reply.started": "2025-06-09T10:28:10.804898Z"
    }
   },
   "outputs": [
    {
     "data": {
      "text/plain": [
       "(6766, 96, 96, 3)"
      ]
     },
     "execution_count": 37,
     "metadata": {},
     "output_type": "execute_result"
    }
   ],
   "source": [
    "X_images.shape"
   ]
  },
  {
   "cell_type": "code",
   "execution_count": 38,
   "id": "f318b3e9-1d13-44bc-9d3d-e132aba7eacd",
   "metadata": {
    "execution": {
     "iopub.execute_input": "2025-06-09T10:28:10.811389Z",
     "iopub.status.busy": "2025-06-09T10:28:10.811208Z",
     "iopub.status.idle": "2025-06-09T10:28:10.816461Z",
     "shell.execute_reply": "2025-06-09T10:28:10.815868Z",
     "shell.execute_reply.started": "2025-06-09T10:28:10.811376Z"
    }
   },
   "outputs": [
    {
     "data": {
      "text/plain": [
       "(6766, 7)"
      ]
     },
     "execution_count": 38,
     "metadata": {},
     "output_type": "execute_result"
    }
   ],
   "source": [
    "y.shape"
   ]
  },
  {
   "cell_type": "markdown",
   "id": "3985df8c-f368-4237-8918-0ee3115ea817",
   "metadata": {},
   "source": [
    "## Model"
   ]
  },
  {
   "cell_type": "code",
   "execution_count": 54,
   "id": "4bf9caf2-8841-4bf7-83d5-68fa8f0e3fac",
   "metadata": {
    "execution": {
     "iopub.execute_input": "2025-06-09T10:35:05.151559Z",
     "iopub.status.busy": "2025-06-09T10:35:05.151109Z",
     "iopub.status.idle": "2025-06-09T10:35:05.232761Z",
     "shell.execute_reply": "2025-06-09T10:35:05.232042Z",
     "shell.execute_reply.started": "2025-06-09T10:35:05.151534Z"
    }
   },
   "outputs": [],
   "source": [
    "# Image Branch\n",
    "image_input = Input(shape=(96, 96, 3))\n",
    "cnn = Conv2D(16, (6, 6), activation='relu')(image_input)\n",
    "cnn = Dropout(0.2)(cnn)  # Dropout after first Conv2D\n",
    "\n",
    "cnn = Conv2D(32, (3, 3), activation='relu')(cnn)\n",
    "cnn = Dropout(0.3)(cnn)  # Dropout after second Conv2D\n",
    "\n",
    "cnn = Flatten()(cnn)\n",
    "cnn = Dense(64, activation='relu')(cnn)\n",
    "cnn = Dropout(0.5)(cnn)  # Dropout after Dense\n",
    "cnn = Dense(32, activation='relu')(cnn)\n",
    "\n",
    "# Metadata Branch\n",
    "meta_input = Input(shape=(15,))\n",
    "dln = Dense(16, activation='relu')(meta_input)\n",
    "dln = Dropout(0.3)(dln)\n",
    "\n",
    "# Combined Final Layers\n",
    "combined_layers = concatenate([cnn, dln])\n",
    "x = Dense(32, activation='relu')(combined_layers)\n",
    "output = Dense(7, activation='softmax')(x)\n",
    "\n",
    "# Define Model\n",
    "test_model = Model(inputs=[image_input, meta_input], outputs=output)"
   ]
  },
  {
   "cell_type": "code",
   "execution_count": 55,
   "id": "79fb5ebf-6026-49da-95a2-63ba2ab208de",
   "metadata": {
    "execution": {
     "iopub.execute_input": "2025-06-09T10:35:05.901466Z",
     "iopub.status.busy": "2025-06-09T10:35:05.900461Z",
     "iopub.status.idle": "2025-06-09T10:35:05.919550Z",
     "shell.execute_reply": "2025-06-09T10:35:05.918306Z",
     "shell.execute_reply.started": "2025-06-09T10:35:05.901437Z"
    }
   },
   "outputs": [],
   "source": [
    "test_model.compile(optimizer='adam', loss='categorical_crossentropy', metrics=[\"accuracy\",\"recall\"])"
   ]
  },
  {
   "cell_type": "code",
   "execution_count": 56,
   "id": "1c44cb4b-9562-4b92-ae63-227079a54a2e",
   "metadata": {
    "execution": {
     "iopub.execute_input": "2025-06-09T10:35:06.451666Z",
     "iopub.status.busy": "2025-06-09T10:35:06.451294Z",
     "iopub.status.idle": "2025-06-09T10:35:06.500799Z",
     "shell.execute_reply": "2025-06-09T10:35:06.500218Z",
     "shell.execute_reply.started": "2025-06-09T10:35:06.451642Z"
    }
   },
   "outputs": [
    {
     "data": {
      "text/html": [
       "<pre style=\"white-space:pre;overflow-x:auto;line-height:normal;font-family:Menlo,'DejaVu Sans Mono',consolas,'Courier New',monospace\"><span style=\"font-weight: bold\">Model: \"functional_1\"</span>\n",
       "</pre>\n"
      ],
      "text/plain": [
       "\u001b[1mModel: \"functional_1\"\u001b[0m\n"
      ]
     },
     "metadata": {},
     "output_type": "display_data"
    },
    {
     "data": {
      "text/html": [
       "<pre style=\"white-space:pre;overflow-x:auto;line-height:normal;font-family:Menlo,'DejaVu Sans Mono',consolas,'Courier New',monospace\">┏━━━━━━━━━━━━━━━━━━━━━┳━━━━━━━━━━━━━━━━━━━┳━━━━━━━━━━━━┳━━━━━━━━━━━━━━━━━━━┓\n",
       "┃<span style=\"font-weight: bold\"> Layer (type)        </span>┃<span style=\"font-weight: bold\"> Output Shape      </span>┃<span style=\"font-weight: bold\">    Param # </span>┃<span style=\"font-weight: bold\"> Connected to      </span>┃\n",
       "┡━━━━━━━━━━━━━━━━━━━━━╇━━━━━━━━━━━━━━━━━━━╇━━━━━━━━━━━━╇━━━━━━━━━━━━━━━━━━━┩\n",
       "│ input_layer_3       │ (<span style=\"color: #00d7ff; text-decoration-color: #00d7ff\">None</span>, <span style=\"color: #00af00; text-decoration-color: #00af00\">96</span>, <span style=\"color: #00af00; text-decoration-color: #00af00\">96</span>, <span style=\"color: #00af00; text-decoration-color: #00af00\">3</span>) │          <span style=\"color: #00af00; text-decoration-color: #00af00\">0</span> │ -                 │\n",
       "│ (<span style=\"color: #0087ff; text-decoration-color: #0087ff\">InputLayer</span>)        │                   │            │                   │\n",
       "├─────────────────────┼───────────────────┼────────────┼───────────────────┤\n",
       "│ conv2d_3 (<span style=\"color: #0087ff; text-decoration-color: #0087ff\">Conv2D</span>)   │ (<span style=\"color: #00d7ff; text-decoration-color: #00d7ff\">None</span>, <span style=\"color: #00af00; text-decoration-color: #00af00\">91</span>, <span style=\"color: #00af00; text-decoration-color: #00af00\">91</span>,    │      <span style=\"color: #00af00; text-decoration-color: #00af00\">1,744</span> │ input_layer_3[<span style=\"color: #00af00; text-decoration-color: #00af00\">0</span>]… │\n",
       "│                     │ <span style=\"color: #00af00; text-decoration-color: #00af00\">16</span>)               │            │                   │\n",
       "├─────────────────────┼───────────────────┼────────────┼───────────────────┤\n",
       "│ dropout (<span style=\"color: #0087ff; text-decoration-color: #0087ff\">Dropout</span>)   │ (<span style=\"color: #00d7ff; text-decoration-color: #00d7ff\">None</span>, <span style=\"color: #00af00; text-decoration-color: #00af00\">91</span>, <span style=\"color: #00af00; text-decoration-color: #00af00\">91</span>,    │          <span style=\"color: #00af00; text-decoration-color: #00af00\">0</span> │ conv2d_3[<span style=\"color: #00af00; text-decoration-color: #00af00\">0</span>][<span style=\"color: #00af00; text-decoration-color: #00af00\">0</span>]    │\n",
       "│                     │ <span style=\"color: #00af00; text-decoration-color: #00af00\">16</span>)               │            │                   │\n",
       "├─────────────────────┼───────────────────┼────────────┼───────────────────┤\n",
       "│ conv2d_4 (<span style=\"color: #0087ff; text-decoration-color: #0087ff\">Conv2D</span>)   │ (<span style=\"color: #00d7ff; text-decoration-color: #00d7ff\">None</span>, <span style=\"color: #00af00; text-decoration-color: #00af00\">89</span>, <span style=\"color: #00af00; text-decoration-color: #00af00\">89</span>,    │      <span style=\"color: #00af00; text-decoration-color: #00af00\">4,640</span> │ dropout[<span style=\"color: #00af00; text-decoration-color: #00af00\">0</span>][<span style=\"color: #00af00; text-decoration-color: #00af00\">0</span>]     │\n",
       "│                     │ <span style=\"color: #00af00; text-decoration-color: #00af00\">32</span>)               │            │                   │\n",
       "├─────────────────────┼───────────────────┼────────────┼───────────────────┤\n",
       "│ dropout_1 (<span style=\"color: #0087ff; text-decoration-color: #0087ff\">Dropout</span>) │ (<span style=\"color: #00d7ff; text-decoration-color: #00d7ff\">None</span>, <span style=\"color: #00af00; text-decoration-color: #00af00\">89</span>, <span style=\"color: #00af00; text-decoration-color: #00af00\">89</span>,    │          <span style=\"color: #00af00; text-decoration-color: #00af00\">0</span> │ conv2d_4[<span style=\"color: #00af00; text-decoration-color: #00af00\">0</span>][<span style=\"color: #00af00; text-decoration-color: #00af00\">0</span>]    │\n",
       "│                     │ <span style=\"color: #00af00; text-decoration-color: #00af00\">32</span>)               │            │                   │\n",
       "├─────────────────────┼───────────────────┼────────────┼───────────────────┤\n",
       "│ flatten_1 (<span style=\"color: #0087ff; text-decoration-color: #0087ff\">Flatten</span>) │ (<span style=\"color: #00d7ff; text-decoration-color: #00d7ff\">None</span>, <span style=\"color: #00af00; text-decoration-color: #00af00\">253472</span>)    │          <span style=\"color: #00af00; text-decoration-color: #00af00\">0</span> │ dropout_1[<span style=\"color: #00af00; text-decoration-color: #00af00\">0</span>][<span style=\"color: #00af00; text-decoration-color: #00af00\">0</span>]   │\n",
       "├─────────────────────┼───────────────────┼────────────┼───────────────────┤\n",
       "│ dense_5 (<span style=\"color: #0087ff; text-decoration-color: #0087ff\">Dense</span>)     │ (<span style=\"color: #00d7ff; text-decoration-color: #00d7ff\">None</span>, <span style=\"color: #00af00; text-decoration-color: #00af00\">64</span>)        │ <span style=\"color: #00af00; text-decoration-color: #00af00\">16,222,272</span> │ flatten_1[<span style=\"color: #00af00; text-decoration-color: #00af00\">0</span>][<span style=\"color: #00af00; text-decoration-color: #00af00\">0</span>]   │\n",
       "├─────────────────────┼───────────────────┼────────────┼───────────────────┤\n",
       "│ input_layer_4       │ (<span style=\"color: #00d7ff; text-decoration-color: #00d7ff\">None</span>, <span style=\"color: #00af00; text-decoration-color: #00af00\">15</span>)        │          <span style=\"color: #00af00; text-decoration-color: #00af00\">0</span> │ -                 │\n",
       "│ (<span style=\"color: #0087ff; text-decoration-color: #0087ff\">InputLayer</span>)        │                   │            │                   │\n",
       "├─────────────────────┼───────────────────┼────────────┼───────────────────┤\n",
       "│ dropout_2 (<span style=\"color: #0087ff; text-decoration-color: #0087ff\">Dropout</span>) │ (<span style=\"color: #00d7ff; text-decoration-color: #00d7ff\">None</span>, <span style=\"color: #00af00; text-decoration-color: #00af00\">64</span>)        │          <span style=\"color: #00af00; text-decoration-color: #00af00\">0</span> │ dense_5[<span style=\"color: #00af00; text-decoration-color: #00af00\">0</span>][<span style=\"color: #00af00; text-decoration-color: #00af00\">0</span>]     │\n",
       "├─────────────────────┼───────────────────┼────────────┼───────────────────┤\n",
       "│ dense_7 (<span style=\"color: #0087ff; text-decoration-color: #0087ff\">Dense</span>)     │ (<span style=\"color: #00d7ff; text-decoration-color: #00d7ff\">None</span>, <span style=\"color: #00af00; text-decoration-color: #00af00\">16</span>)        │        <span style=\"color: #00af00; text-decoration-color: #00af00\">256</span> │ input_layer_4[<span style=\"color: #00af00; text-decoration-color: #00af00\">0</span>]… │\n",
       "├─────────────────────┼───────────────────┼────────────┼───────────────────┤\n",
       "│ dense_6 (<span style=\"color: #0087ff; text-decoration-color: #0087ff\">Dense</span>)     │ (<span style=\"color: #00d7ff; text-decoration-color: #00d7ff\">None</span>, <span style=\"color: #00af00; text-decoration-color: #00af00\">32</span>)        │      <span style=\"color: #00af00; text-decoration-color: #00af00\">2,080</span> │ dropout_2[<span style=\"color: #00af00; text-decoration-color: #00af00\">0</span>][<span style=\"color: #00af00; text-decoration-color: #00af00\">0</span>]   │\n",
       "├─────────────────────┼───────────────────┼────────────┼───────────────────┤\n",
       "│ dropout_3 (<span style=\"color: #0087ff; text-decoration-color: #0087ff\">Dropout</span>) │ (<span style=\"color: #00d7ff; text-decoration-color: #00d7ff\">None</span>, <span style=\"color: #00af00; text-decoration-color: #00af00\">16</span>)        │          <span style=\"color: #00af00; text-decoration-color: #00af00\">0</span> │ dense_7[<span style=\"color: #00af00; text-decoration-color: #00af00\">0</span>][<span style=\"color: #00af00; text-decoration-color: #00af00\">0</span>]     │\n",
       "├─────────────────────┼───────────────────┼────────────┼───────────────────┤\n",
       "│ concatenate_1       │ (<span style=\"color: #00d7ff; text-decoration-color: #00d7ff\">None</span>, <span style=\"color: #00af00; text-decoration-color: #00af00\">48</span>)        │          <span style=\"color: #00af00; text-decoration-color: #00af00\">0</span> │ dense_6[<span style=\"color: #00af00; text-decoration-color: #00af00\">0</span>][<span style=\"color: #00af00; text-decoration-color: #00af00\">0</span>],    │\n",
       "│ (<span style=\"color: #0087ff; text-decoration-color: #0087ff\">Concatenate</span>)       │                   │            │ dropout_3[<span style=\"color: #00af00; text-decoration-color: #00af00\">0</span>][<span style=\"color: #00af00; text-decoration-color: #00af00\">0</span>]   │\n",
       "├─────────────────────┼───────────────────┼────────────┼───────────────────┤\n",
       "│ dense_8 (<span style=\"color: #0087ff; text-decoration-color: #0087ff\">Dense</span>)     │ (<span style=\"color: #00d7ff; text-decoration-color: #00d7ff\">None</span>, <span style=\"color: #00af00; text-decoration-color: #00af00\">32</span>)        │      <span style=\"color: #00af00; text-decoration-color: #00af00\">1,568</span> │ concatenate_1[<span style=\"color: #00af00; text-decoration-color: #00af00\">0</span>]… │\n",
       "├─────────────────────┼───────────────────┼────────────┼───────────────────┤\n",
       "│ dense_9 (<span style=\"color: #0087ff; text-decoration-color: #0087ff\">Dense</span>)     │ (<span style=\"color: #00d7ff; text-decoration-color: #00d7ff\">None</span>, <span style=\"color: #00af00; text-decoration-color: #00af00\">7</span>)         │        <span style=\"color: #00af00; text-decoration-color: #00af00\">231</span> │ dense_8[<span style=\"color: #00af00; text-decoration-color: #00af00\">0</span>][<span style=\"color: #00af00; text-decoration-color: #00af00\">0</span>]     │\n",
       "└─────────────────────┴───────────────────┴────────────┴───────────────────┘\n",
       "</pre>\n"
      ],
      "text/plain": [
       "┏━━━━━━━━━━━━━━━━━━━━━┳━━━━━━━━━━━━━━━━━━━┳━━━━━━━━━━━━┳━━━━━━━━━━━━━━━━━━━┓\n",
       "┃\u001b[1m \u001b[0m\u001b[1mLayer (type)       \u001b[0m\u001b[1m \u001b[0m┃\u001b[1m \u001b[0m\u001b[1mOutput Shape     \u001b[0m\u001b[1m \u001b[0m┃\u001b[1m \u001b[0m\u001b[1m   Param #\u001b[0m\u001b[1m \u001b[0m┃\u001b[1m \u001b[0m\u001b[1mConnected to     \u001b[0m\u001b[1m \u001b[0m┃\n",
       "┡━━━━━━━━━━━━━━━━━━━━━╇━━━━━━━━━━━━━━━━━━━╇━━━━━━━━━━━━╇━━━━━━━━━━━━━━━━━━━┩\n",
       "│ input_layer_3       │ (\u001b[38;5;45mNone\u001b[0m, \u001b[38;5;34m96\u001b[0m, \u001b[38;5;34m96\u001b[0m, \u001b[38;5;34m3\u001b[0m) │          \u001b[38;5;34m0\u001b[0m │ -                 │\n",
       "│ (\u001b[38;5;33mInputLayer\u001b[0m)        │                   │            │                   │\n",
       "├─────────────────────┼───────────────────┼────────────┼───────────────────┤\n",
       "│ conv2d_3 (\u001b[38;5;33mConv2D\u001b[0m)   │ (\u001b[38;5;45mNone\u001b[0m, \u001b[38;5;34m91\u001b[0m, \u001b[38;5;34m91\u001b[0m,    │      \u001b[38;5;34m1,744\u001b[0m │ input_layer_3[\u001b[38;5;34m0\u001b[0m]… │\n",
       "│                     │ \u001b[38;5;34m16\u001b[0m)               │            │                   │\n",
       "├─────────────────────┼───────────────────┼────────────┼───────────────────┤\n",
       "│ dropout (\u001b[38;5;33mDropout\u001b[0m)   │ (\u001b[38;5;45mNone\u001b[0m, \u001b[38;5;34m91\u001b[0m, \u001b[38;5;34m91\u001b[0m,    │          \u001b[38;5;34m0\u001b[0m │ conv2d_3[\u001b[38;5;34m0\u001b[0m][\u001b[38;5;34m0\u001b[0m]    │\n",
       "│                     │ \u001b[38;5;34m16\u001b[0m)               │            │                   │\n",
       "├─────────────────────┼───────────────────┼────────────┼───────────────────┤\n",
       "│ conv2d_4 (\u001b[38;5;33mConv2D\u001b[0m)   │ (\u001b[38;5;45mNone\u001b[0m, \u001b[38;5;34m89\u001b[0m, \u001b[38;5;34m89\u001b[0m,    │      \u001b[38;5;34m4,640\u001b[0m │ dropout[\u001b[38;5;34m0\u001b[0m][\u001b[38;5;34m0\u001b[0m]     │\n",
       "│                     │ \u001b[38;5;34m32\u001b[0m)               │            │                   │\n",
       "├─────────────────────┼───────────────────┼────────────┼───────────────────┤\n",
       "│ dropout_1 (\u001b[38;5;33mDropout\u001b[0m) │ (\u001b[38;5;45mNone\u001b[0m, \u001b[38;5;34m89\u001b[0m, \u001b[38;5;34m89\u001b[0m,    │          \u001b[38;5;34m0\u001b[0m │ conv2d_4[\u001b[38;5;34m0\u001b[0m][\u001b[38;5;34m0\u001b[0m]    │\n",
       "│                     │ \u001b[38;5;34m32\u001b[0m)               │            │                   │\n",
       "├─────────────────────┼───────────────────┼────────────┼───────────────────┤\n",
       "│ flatten_1 (\u001b[38;5;33mFlatten\u001b[0m) │ (\u001b[38;5;45mNone\u001b[0m, \u001b[38;5;34m253472\u001b[0m)    │          \u001b[38;5;34m0\u001b[0m │ dropout_1[\u001b[38;5;34m0\u001b[0m][\u001b[38;5;34m0\u001b[0m]   │\n",
       "├─────────────────────┼───────────────────┼────────────┼───────────────────┤\n",
       "│ dense_5 (\u001b[38;5;33mDense\u001b[0m)     │ (\u001b[38;5;45mNone\u001b[0m, \u001b[38;5;34m64\u001b[0m)        │ \u001b[38;5;34m16,222,272\u001b[0m │ flatten_1[\u001b[38;5;34m0\u001b[0m][\u001b[38;5;34m0\u001b[0m]   │\n",
       "├─────────────────────┼───────────────────┼────────────┼───────────────────┤\n",
       "│ input_layer_4       │ (\u001b[38;5;45mNone\u001b[0m, \u001b[38;5;34m15\u001b[0m)        │          \u001b[38;5;34m0\u001b[0m │ -                 │\n",
       "│ (\u001b[38;5;33mInputLayer\u001b[0m)        │                   │            │                   │\n",
       "├─────────────────────┼───────────────────┼────────────┼───────────────────┤\n",
       "│ dropout_2 (\u001b[38;5;33mDropout\u001b[0m) │ (\u001b[38;5;45mNone\u001b[0m, \u001b[38;5;34m64\u001b[0m)        │          \u001b[38;5;34m0\u001b[0m │ dense_5[\u001b[38;5;34m0\u001b[0m][\u001b[38;5;34m0\u001b[0m]     │\n",
       "├─────────────────────┼───────────────────┼────────────┼───────────────────┤\n",
       "│ dense_7 (\u001b[38;5;33mDense\u001b[0m)     │ (\u001b[38;5;45mNone\u001b[0m, \u001b[38;5;34m16\u001b[0m)        │        \u001b[38;5;34m256\u001b[0m │ input_layer_4[\u001b[38;5;34m0\u001b[0m]… │\n",
       "├─────────────────────┼───────────────────┼────────────┼───────────────────┤\n",
       "│ dense_6 (\u001b[38;5;33mDense\u001b[0m)     │ (\u001b[38;5;45mNone\u001b[0m, \u001b[38;5;34m32\u001b[0m)        │      \u001b[38;5;34m2,080\u001b[0m │ dropout_2[\u001b[38;5;34m0\u001b[0m][\u001b[38;5;34m0\u001b[0m]   │\n",
       "├─────────────────────┼───────────────────┼────────────┼───────────────────┤\n",
       "│ dropout_3 (\u001b[38;5;33mDropout\u001b[0m) │ (\u001b[38;5;45mNone\u001b[0m, \u001b[38;5;34m16\u001b[0m)        │          \u001b[38;5;34m0\u001b[0m │ dense_7[\u001b[38;5;34m0\u001b[0m][\u001b[38;5;34m0\u001b[0m]     │\n",
       "├─────────────────────┼───────────────────┼────────────┼───────────────────┤\n",
       "│ concatenate_1       │ (\u001b[38;5;45mNone\u001b[0m, \u001b[38;5;34m48\u001b[0m)        │          \u001b[38;5;34m0\u001b[0m │ dense_6[\u001b[38;5;34m0\u001b[0m][\u001b[38;5;34m0\u001b[0m],    │\n",
       "│ (\u001b[38;5;33mConcatenate\u001b[0m)       │                   │            │ dropout_3[\u001b[38;5;34m0\u001b[0m][\u001b[38;5;34m0\u001b[0m]   │\n",
       "├─────────────────────┼───────────────────┼────────────┼───────────────────┤\n",
       "│ dense_8 (\u001b[38;5;33mDense\u001b[0m)     │ (\u001b[38;5;45mNone\u001b[0m, \u001b[38;5;34m32\u001b[0m)        │      \u001b[38;5;34m1,568\u001b[0m │ concatenate_1[\u001b[38;5;34m0\u001b[0m]… │\n",
       "├─────────────────────┼───────────────────┼────────────┼───────────────────┤\n",
       "│ dense_9 (\u001b[38;5;33mDense\u001b[0m)     │ (\u001b[38;5;45mNone\u001b[0m, \u001b[38;5;34m7\u001b[0m)         │        \u001b[38;5;34m231\u001b[0m │ dense_8[\u001b[38;5;34m0\u001b[0m][\u001b[38;5;34m0\u001b[0m]     │\n",
       "└─────────────────────┴───────────────────┴────────────┴───────────────────┘\n"
      ]
     },
     "metadata": {},
     "output_type": "display_data"
    },
    {
     "data": {
      "text/html": [
       "<pre style=\"white-space:pre;overflow-x:auto;line-height:normal;font-family:Menlo,'DejaVu Sans Mono',consolas,'Courier New',monospace\"><span style=\"font-weight: bold\"> Total params: </span><span style=\"color: #00af00; text-decoration-color: #00af00\">16,232,791</span> (61.92 MB)\n",
       "</pre>\n"
      ],
      "text/plain": [
       "\u001b[1m Total params: \u001b[0m\u001b[38;5;34m16,232,791\u001b[0m (61.92 MB)\n"
      ]
     },
     "metadata": {},
     "output_type": "display_data"
    },
    {
     "data": {
      "text/html": [
       "<pre style=\"white-space:pre;overflow-x:auto;line-height:normal;font-family:Menlo,'DejaVu Sans Mono',consolas,'Courier New',monospace\"><span style=\"font-weight: bold\"> Trainable params: </span><span style=\"color: #00af00; text-decoration-color: #00af00\">16,232,791</span> (61.92 MB)\n",
       "</pre>\n"
      ],
      "text/plain": [
       "\u001b[1m Trainable params: \u001b[0m\u001b[38;5;34m16,232,791\u001b[0m (61.92 MB)\n"
      ]
     },
     "metadata": {},
     "output_type": "display_data"
    },
    {
     "data": {
      "text/html": [
       "<pre style=\"white-space:pre;overflow-x:auto;line-height:normal;font-family:Menlo,'DejaVu Sans Mono',consolas,'Courier New',monospace\"><span style=\"font-weight: bold\"> Non-trainable params: </span><span style=\"color: #00af00; text-decoration-color: #00af00\">0</span> (0.00 B)\n",
       "</pre>\n"
      ],
      "text/plain": [
       "\u001b[1m Non-trainable params: \u001b[0m\u001b[38;5;34m0\u001b[0m (0.00 B)\n"
      ]
     },
     "metadata": {},
     "output_type": "display_data"
    }
   ],
   "source": [
    "test_model.summary()"
   ]
  },
  {
   "cell_type": "code",
   "execution_count": 57,
   "id": "b844c155-ce89-4a17-bd19-f68908f27250",
   "metadata": {
    "execution": {
     "iopub.execute_input": "2025-06-09T10:35:08.242937Z",
     "iopub.status.busy": "2025-06-09T10:35:08.242128Z",
     "iopub.status.idle": "2025-06-09T10:35:08.251985Z",
     "shell.execute_reply": "2025-06-09T10:35:08.250571Z",
     "shell.execute_reply.started": "2025-06-09T10:35:08.242908Z"
    }
   },
   "outputs": [],
   "source": [
    "es = EarlyStopping(patience=10, restore_best_weights=True)"
   ]
  },
  {
   "cell_type": "code",
   "execution_count": 58,
   "id": "98a9f1ef-c3df-45bd-9570-c71d893811a9",
   "metadata": {
    "execution": {
     "iopub.execute_input": "2025-06-09T10:35:08.510265Z",
     "iopub.status.busy": "2025-06-09T10:35:08.509878Z",
     "iopub.status.idle": "2025-06-09T10:35:08.519927Z",
     "shell.execute_reply": "2025-06-09T10:35:08.518789Z",
     "shell.execute_reply.started": "2025-06-09T10:35:08.510240Z"
    }
   },
   "outputs": [
    {
     "data": {
      "text/plain": [
       "(6766, 96, 96, 3)"
      ]
     },
     "execution_count": 58,
     "metadata": {},
     "output_type": "execute_result"
    }
   ],
   "source": [
    "X_images.shape"
   ]
  },
  {
   "cell_type": "code",
   "execution_count": 59,
   "id": "3a7dbf7d-0833-44d6-aa4e-4eae2913655e",
   "metadata": {
    "execution": {
     "iopub.execute_input": "2025-06-09T10:35:08.842834Z",
     "iopub.status.busy": "2025-06-09T10:35:08.842091Z",
     "iopub.status.idle": "2025-06-09T10:35:08.853568Z",
     "shell.execute_reply": "2025-06-09T10:35:08.852376Z",
     "shell.execute_reply.started": "2025-06-09T10:35:08.842804Z"
    }
   },
   "outputs": [
    {
     "data": {
      "text/plain": [
       "(6766, 15)"
      ]
     },
     "execution_count": 59,
     "metadata": {},
     "output_type": "execute_result"
    }
   ],
   "source": [
    "X_metadata.shape"
   ]
  },
  {
   "cell_type": "code",
   "execution_count": 60,
   "id": "12aa1932-0a35-4d7c-86fb-a0520df621e4",
   "metadata": {
    "execution": {
     "iopub.execute_input": "2025-06-09T10:35:09.425371Z",
     "iopub.status.busy": "2025-06-09T10:35:09.425009Z",
     "iopub.status.idle": "2025-06-09T10:35:12.575913Z",
     "shell.execute_reply": "2025-06-09T10:35:12.574986Z",
     "shell.execute_reply.started": "2025-06-09T10:35:09.425348Z"
    }
   },
   "outputs": [],
   "source": [
    "X_images_train, X_images_test, X_metadata_train, X_metadata_test, y_train, y_test = train_test_split(\n",
    "    X_images, X_metadata, y, test_size=0.3, random_state=42\n",
    ")"
   ]
  },
  {
   "cell_type": "code",
   "execution_count": 61,
   "id": "6e8d5464-5366-4954-a12f-3b5718f0bf2d",
   "metadata": {
    "execution": {
     "iopub.execute_input": "2025-06-09T10:35:12.579492Z",
     "iopub.status.busy": "2025-06-09T10:35:12.578365Z",
     "iopub.status.idle": "2025-06-09T10:35:12.590061Z",
     "shell.execute_reply": "2025-06-09T10:35:12.588747Z",
     "shell.execute_reply.started": "2025-06-09T10:35:12.579454Z"
    }
   },
   "outputs": [
    {
     "data": {
      "text/plain": [
       "(4736, 96, 96, 3)"
      ]
     },
     "execution_count": 61,
     "metadata": {},
     "output_type": "execute_result"
    }
   ],
   "source": [
    "X_images_train.shape"
   ]
  },
  {
   "cell_type": "code",
   "execution_count": 62,
   "id": "dc4e6005-8ee4-46bd-951e-9c412eb9df74",
   "metadata": {
    "execution": {
     "iopub.execute_input": "2025-06-09T10:35:12.590900Z",
     "iopub.status.busy": "2025-06-09T10:35:12.590717Z",
     "iopub.status.idle": "2025-06-09T10:35:12.605558Z",
     "shell.execute_reply": "2025-06-09T10:35:12.604922Z",
     "shell.execute_reply.started": "2025-06-09T10:35:12.590887Z"
    }
   },
   "outputs": [
    {
     "data": {
      "text/plain": [
       "(4736, 15)"
      ]
     },
     "execution_count": 62,
     "metadata": {},
     "output_type": "execute_result"
    }
   ],
   "source": [
    "X_metadata_train.shape"
   ]
  },
  {
   "cell_type": "code",
   "execution_count": 63,
   "id": "860e2db4-d519-4c24-b321-fd7d81615410",
   "metadata": {
    "execution": {
     "iopub.execute_input": "2025-06-09T10:35:12.606659Z",
     "iopub.status.busy": "2025-06-09T10:35:12.606490Z",
     "iopub.status.idle": "2025-06-09T10:35:12.623330Z",
     "shell.execute_reply": "2025-06-09T10:35:12.622690Z",
     "shell.execute_reply.started": "2025-06-09T10:35:12.606647Z"
    }
   },
   "outputs": [
    {
     "data": {
      "text/plain": [
       "(4736, 7)"
      ]
     },
     "execution_count": 63,
     "metadata": {},
     "output_type": "execute_result"
    }
   ],
   "source": [
    "y_train.shape"
   ]
  },
  {
   "cell_type": "code",
   "execution_count": 64,
   "id": "22b8efe3-fba0-456c-b18b-b37078199dac",
   "metadata": {
    "execution": {
     "iopub.execute_input": "2025-06-09T10:35:12.623929Z",
     "iopub.status.busy": "2025-06-09T10:35:12.623762Z",
     "iopub.status.idle": "2025-06-09T10:44:34.413634Z",
     "shell.execute_reply": "2025-06-09T10:44:34.412633Z",
     "shell.execute_reply.started": "2025-06-09T10:35:12.623915Z"
    }
   },
   "outputs": [
    {
     "name": "stdout",
     "output_type": "stream",
     "text": [
      "Epoch 1/100\n",
      "\u001b[1m119/119\u001b[0m \u001b[32m━━━━━━━━━━━━━━━━━━━━\u001b[0m\u001b[37m\u001b[0m \u001b[1m15s\u001b[0m 114ms/step - accuracy: 0.4622 - loss: 2.1478 - recall: 0.2049 - val_accuracy: 0.4989 - val_loss: 1.3665 - val_recall: 0.2268\n",
      "Epoch 2/100\n",
      "\u001b[1m119/119\u001b[0m \u001b[32m━━━━━━━━━━━━━━━━━━━━\u001b[0m\u001b[37m\u001b[0m \u001b[1m13s\u001b[0m 110ms/step - accuracy: 0.5050 - loss: 1.3214 - recall: 0.2904 - val_accuracy: 0.5274 - val_loss: 1.2942 - val_recall: 0.2215\n",
      "Epoch 3/100\n",
      "\u001b[1m119/119\u001b[0m \u001b[32m━━━━━━━━━━━━━━━━━━━━\u001b[0m\u001b[37m\u001b[0m \u001b[1m13s\u001b[0m 113ms/step - accuracy: 0.5344 - loss: 1.2530 - recall: 0.3348 - val_accuracy: 0.5622 - val_loss: 1.2285 - val_recall: 0.2595\n",
      "Epoch 4/100\n",
      "\u001b[1m119/119\u001b[0m \u001b[32m━━━━━━━━━━━━━━━━━━━━\u001b[0m\u001b[37m\u001b[0m \u001b[1m14s\u001b[0m 114ms/step - accuracy: 0.5689 - loss: 1.2106 - recall: 0.3329 - val_accuracy: 0.5728 - val_loss: 1.1701 - val_recall: 0.3207\n",
      "Epoch 5/100\n",
      "\u001b[1m119/119\u001b[0m \u001b[32m━━━━━━━━━━━━━━━━━━━━\u001b[0m\u001b[37m\u001b[0m \u001b[1m13s\u001b[0m 110ms/step - accuracy: 0.5735 - loss: 1.1672 - recall: 0.3772 - val_accuracy: 0.5728 - val_loss: 1.1705 - val_recall: 0.3122\n",
      "Epoch 6/100\n",
      "\u001b[1m119/119\u001b[0m \u001b[32m━━━━━━━━━━━━━━━━━━━━\u001b[0m\u001b[37m\u001b[0m \u001b[1m14s\u001b[0m 113ms/step - accuracy: 0.5755 - loss: 1.1668 - recall: 0.3934 - val_accuracy: 0.5854 - val_loss: 1.1570 - val_recall: 0.3175\n",
      "Epoch 7/100\n",
      "\u001b[1m119/119\u001b[0m \u001b[32m━━━━━━━━━━━━━━━━━━━━\u001b[0m\u001b[37m\u001b[0m \u001b[1m13s\u001b[0m 110ms/step - accuracy: 0.5917 - loss: 1.0997 - recall: 0.4279 - val_accuracy: 0.5833 - val_loss: 1.1098 - val_recall: 0.3608\n",
      "Epoch 8/100\n",
      "\u001b[1m119/119\u001b[0m \u001b[32m━━━━━━━━━━━━━━━━━━━━\u001b[0m\u001b[37m\u001b[0m \u001b[1m13s\u001b[0m 110ms/step - accuracy: 0.5944 - loss: 1.1174 - recall: 0.4046 - val_accuracy: 0.5770 - val_loss: 1.0901 - val_recall: 0.4219\n",
      "Epoch 9/100\n",
      "\u001b[1m119/119\u001b[0m \u001b[32m━━━━━━━━━━━━━━━━━━━━\u001b[0m\u001b[37m\u001b[0m \u001b[1m13s\u001b[0m 111ms/step - accuracy: 0.6045 - loss: 1.0693 - recall: 0.4398 - val_accuracy: 0.5833 - val_loss: 1.0793 - val_recall: 0.4283\n",
      "Epoch 10/100\n",
      "\u001b[1m119/119\u001b[0m \u001b[32m━━━━━━━━━━━━━━━━━━━━\u001b[0m\u001b[37m\u001b[0m \u001b[1m13s\u001b[0m 107ms/step - accuracy: 0.6007 - loss: 1.0861 - recall: 0.4246 - val_accuracy: 0.5886 - val_loss: 1.0714 - val_recall: 0.3924\n",
      "Epoch 11/100\n",
      "\u001b[1m119/119\u001b[0m \u001b[32m━━━━━━━━━━━━━━━━━━━━\u001b[0m\u001b[37m\u001b[0m \u001b[1m13s\u001b[0m 110ms/step - accuracy: 0.5910 - loss: 1.0924 - recall: 0.4338 - val_accuracy: 0.5970 - val_loss: 1.0905 - val_recall: 0.3470\n",
      "Epoch 12/100\n",
      "\u001b[1m119/119\u001b[0m \u001b[32m━━━━━━━━━━━━━━━━━━━━\u001b[0m\u001b[37m\u001b[0m \u001b[1m13s\u001b[0m 112ms/step - accuracy: 0.6112 - loss: 1.0446 - recall: 0.4383 - val_accuracy: 0.5928 - val_loss: 1.0805 - val_recall: 0.3787\n",
      "Epoch 13/100\n",
      "\u001b[1m119/119\u001b[0m \u001b[32m━━━━━━━━━━━━━━━━━━━━\u001b[0m\u001b[37m\u001b[0m \u001b[1m13s\u001b[0m 112ms/step - accuracy: 0.6026 - loss: 1.0645 - recall: 0.4444 - val_accuracy: 0.6034 - val_loss: 1.0290 - val_recall: 0.4040\n",
      "Epoch 14/100\n",
      "\u001b[1m119/119\u001b[0m \u001b[32m━━━━━━━━━━━━━━━━━━━━\u001b[0m\u001b[37m\u001b[0m \u001b[1m13s\u001b[0m 110ms/step - accuracy: 0.5972 - loss: 1.0521 - recall: 0.4372 - val_accuracy: 0.6002 - val_loss: 1.0471 - val_recall: 0.3850\n",
      "Epoch 15/100\n",
      "\u001b[1m119/119\u001b[0m \u001b[32m━━━━━━━━━━━━━━━━━━━━\u001b[0m\u001b[37m\u001b[0m \u001b[1m13s\u001b[0m 109ms/step - accuracy: 0.6009 - loss: 1.0416 - recall: 0.4400 - val_accuracy: 0.6076 - val_loss: 1.0495 - val_recall: 0.3766\n",
      "Epoch 16/100\n",
      "\u001b[1m119/119\u001b[0m \u001b[32m━━━━━━━━━━━━━━━━━━━━\u001b[0m\u001b[37m\u001b[0m \u001b[1m13s\u001b[0m 110ms/step - accuracy: 0.6225 - loss: 0.9920 - recall: 0.4673 - val_accuracy: 0.6055 - val_loss: 1.0370 - val_recall: 0.3629\n",
      "Epoch 17/100\n",
      "\u001b[1m119/119\u001b[0m \u001b[32m━━━━━━━━━━━━━━━━━━━━\u001b[0m\u001b[37m\u001b[0m \u001b[1m13s\u001b[0m 110ms/step - accuracy: 0.6291 - loss: 0.9896 - recall: 0.4783 - val_accuracy: 0.6013 - val_loss: 1.0145 - val_recall: 0.4283\n",
      "Epoch 18/100\n",
      "\u001b[1m119/119\u001b[0m \u001b[32m━━━━━━━━━━━━━━━━━━━━\u001b[0m\u001b[37m\u001b[0m \u001b[1m13s\u001b[0m 109ms/step - accuracy: 0.6044 - loss: 1.0067 - recall: 0.4566 - val_accuracy: 0.6044 - val_loss: 1.0471 - val_recall: 0.4346\n",
      "Epoch 19/100\n",
      "\u001b[1m119/119\u001b[0m \u001b[32m━━━━━━━━━━━━━━━━━━━━\u001b[0m\u001b[37m\u001b[0m \u001b[1m14s\u001b[0m 113ms/step - accuracy: 0.6171 - loss: 0.9750 - recall: 0.4631 - val_accuracy: 0.6013 - val_loss: 1.0077 - val_recall: 0.4525\n",
      "Epoch 20/100\n",
      "\u001b[1m119/119\u001b[0m \u001b[32m━━━━━━━━━━━━━━━━━━━━\u001b[0m\u001b[37m\u001b[0m \u001b[1m13s\u001b[0m 111ms/step - accuracy: 0.6213 - loss: 0.9633 - recall: 0.4760 - val_accuracy: 0.6160 - val_loss: 1.0135 - val_recall: 0.4515\n",
      "Epoch 21/100\n",
      "\u001b[1m119/119\u001b[0m \u001b[32m━━━━━━━━━━━━━━━━━━━━\u001b[0m\u001b[37m\u001b[0m \u001b[1m13s\u001b[0m 110ms/step - accuracy: 0.6302 - loss: 0.9897 - recall: 0.4579 - val_accuracy: 0.6055 - val_loss: 1.0187 - val_recall: 0.4262\n",
      "Epoch 22/100\n",
      "\u001b[1m119/119\u001b[0m \u001b[32m━━━━━━━━━━━━━━━━━━━━\u001b[0m\u001b[37m\u001b[0m \u001b[1m13s\u001b[0m 109ms/step - accuracy: 0.6180 - loss: 0.9605 - recall: 0.4662 - val_accuracy: 0.6108 - val_loss: 0.9999 - val_recall: 0.4694\n",
      "Epoch 23/100\n",
      "\u001b[1m119/119\u001b[0m \u001b[32m━━━━━━━━━━━━━━━━━━━━\u001b[0m\u001b[37m\u001b[0m \u001b[1m13s\u001b[0m 112ms/step - accuracy: 0.6265 - loss: 0.9588 - recall: 0.4716 - val_accuracy: 0.6171 - val_loss: 0.9902 - val_recall: 0.4451\n",
      "Epoch 24/100\n",
      "\u001b[1m119/119\u001b[0m \u001b[32m━━━━━━━━━━━━━━━━━━━━\u001b[0m\u001b[37m\u001b[0m \u001b[1m13s\u001b[0m 112ms/step - accuracy: 0.6328 - loss: 0.9529 - recall: 0.4802 - val_accuracy: 0.6086 - val_loss: 0.9831 - val_recall: 0.4515\n",
      "Epoch 25/100\n",
      "\u001b[1m119/119\u001b[0m \u001b[32m━━━━━━━━━━━━━━━━━━━━\u001b[0m\u001b[37m\u001b[0m \u001b[1m13s\u001b[0m 111ms/step - accuracy: 0.6497 - loss: 0.9227 - recall: 0.5050 - val_accuracy: 0.6192 - val_loss: 0.9789 - val_recall: 0.4568\n",
      "Epoch 26/100\n",
      "\u001b[1m119/119\u001b[0m \u001b[32m━━━━━━━━━━━━━━━━━━━━\u001b[0m\u001b[37m\u001b[0m \u001b[1m13s\u001b[0m 112ms/step - accuracy: 0.6619 - loss: 0.8778 - recall: 0.5178 - val_accuracy: 0.6224 - val_loss: 0.9928 - val_recall: 0.4420\n",
      "Epoch 27/100\n",
      "\u001b[1m119/119\u001b[0m \u001b[32m━━━━━━━━━━━━━━━━━━━━\u001b[0m\u001b[37m\u001b[0m \u001b[1m13s\u001b[0m 109ms/step - accuracy: 0.6549 - loss: 0.9041 - recall: 0.5094 - val_accuracy: 0.6213 - val_loss: 0.9932 - val_recall: 0.4420\n",
      "Epoch 28/100\n",
      "\u001b[1m119/119\u001b[0m \u001b[32m━━━━━━━━━━━━━━━━━━━━\u001b[0m\u001b[37m\u001b[0m \u001b[1m13s\u001b[0m 112ms/step - accuracy: 0.6744 - loss: 0.8595 - recall: 0.5371 - val_accuracy: 0.6213 - val_loss: 0.9790 - val_recall: 0.4589\n",
      "Epoch 29/100\n",
      "\u001b[1m119/119\u001b[0m \u001b[32m━━━━━━━━━━━━━━━━━━━━\u001b[0m\u001b[37m\u001b[0m \u001b[1m13s\u001b[0m 110ms/step - accuracy: 0.6671 - loss: 0.8420 - recall: 0.5354 - val_accuracy: 0.6266 - val_loss: 0.9773 - val_recall: 0.4726\n",
      "Epoch 30/100\n",
      "\u001b[1m119/119\u001b[0m \u001b[32m━━━━━━━━━━━━━━━━━━━━\u001b[0m\u001b[37m\u001b[0m \u001b[1m13s\u001b[0m 109ms/step - accuracy: 0.6609 - loss: 0.8606 - recall: 0.5328 - val_accuracy: 0.6297 - val_loss: 0.9647 - val_recall: 0.4852\n",
      "Epoch 31/100\n",
      "\u001b[1m119/119\u001b[0m \u001b[32m━━━━━━━━━━━━━━━━━━━━\u001b[0m\u001b[37m\u001b[0m \u001b[1m13s\u001b[0m 111ms/step - accuracy: 0.6871 - loss: 0.8272 - recall: 0.5615 - val_accuracy: 0.6213 - val_loss: 0.9876 - val_recall: 0.4895\n",
      "Epoch 32/100\n",
      "\u001b[1m119/119\u001b[0m \u001b[32m━━━━━━━━━━━━━━━━━━━━\u001b[0m\u001b[37m\u001b[0m \u001b[1m13s\u001b[0m 109ms/step - accuracy: 0.6722 - loss: 0.8365 - recall: 0.5554 - val_accuracy: 0.6319 - val_loss: 0.9634 - val_recall: 0.5306\n",
      "Epoch 33/100\n",
      "\u001b[1m119/119\u001b[0m \u001b[32m━━━━━━━━━━━━━━━━━━━━\u001b[0m\u001b[37m\u001b[0m \u001b[1m13s\u001b[0m 111ms/step - accuracy: 0.6962 - loss: 0.7688 - recall: 0.5833 - val_accuracy: 0.6297 - val_loss: 0.9802 - val_recall: 0.5211\n",
      "Epoch 34/100\n",
      "\u001b[1m119/119\u001b[0m \u001b[32m━━━━━━━━━━━━━━━━━━━━\u001b[0m\u001b[37m\u001b[0m \u001b[1m14s\u001b[0m 114ms/step - accuracy: 0.7135 - loss: 0.7558 - recall: 0.6104 - val_accuracy: 0.6213 - val_loss: 0.9712 - val_recall: 0.5042\n",
      "Epoch 35/100\n",
      "\u001b[1m119/119\u001b[0m \u001b[32m━━━━━━━━━━━━━━━━━━━━\u001b[0m\u001b[37m\u001b[0m \u001b[1m13s\u001b[0m 113ms/step - accuracy: 0.7212 - loss: 0.7392 - recall: 0.6157 - val_accuracy: 0.6181 - val_loss: 0.9667 - val_recall: 0.5222\n",
      "Epoch 36/100\n",
      "\u001b[1m119/119\u001b[0m \u001b[32m━━━━━━━━━━━━━━━━━━━━\u001b[0m\u001b[37m\u001b[0m \u001b[1m14s\u001b[0m 114ms/step - accuracy: 0.7042 - loss: 0.7374 - recall: 0.6095 - val_accuracy: 0.6371 - val_loss: 1.0024 - val_recall: 0.5464\n",
      "Epoch 37/100\n",
      "\u001b[1m119/119\u001b[0m \u001b[32m━━━━━━━━━━━━━━━━━━━━\u001b[0m\u001b[37m\u001b[0m \u001b[1m14s\u001b[0m 115ms/step - accuracy: 0.7408 - loss: 0.6805 - recall: 0.6435 - val_accuracy: 0.6308 - val_loss: 1.0041 - val_recall: 0.5517\n",
      "Epoch 38/100\n",
      "\u001b[1m119/119\u001b[0m \u001b[32m━━━━━━━━━━━━━━━━━━━━\u001b[0m\u001b[37m\u001b[0m \u001b[1m14s\u001b[0m 118ms/step - accuracy: 0.7267 - loss: 0.6947 - recall: 0.6373 - val_accuracy: 0.6424 - val_loss: 1.0234 - val_recall: 0.5485\n",
      "Epoch 39/100\n",
      "\u001b[1m119/119\u001b[0m \u001b[32m━━━━━━━━━━━━━━━━━━━━\u001b[0m\u001b[37m\u001b[0m \u001b[1m14s\u001b[0m 115ms/step - accuracy: 0.7345 - loss: 0.6800 - recall: 0.6409 - val_accuracy: 0.6340 - val_loss: 0.9932 - val_recall: 0.5169\n",
      "Epoch 40/100\n",
      "\u001b[1m119/119\u001b[0m \u001b[32m━━━━━━━━━━━━━━━━━━━━\u001b[0m\u001b[37m\u001b[0m \u001b[1m13s\u001b[0m 112ms/step - accuracy: 0.7614 - loss: 0.6553 - recall: 0.6674 - val_accuracy: 0.6319 - val_loss: 1.0270 - val_recall: 0.5496\n",
      "Epoch 41/100\n",
      "\u001b[1m119/119\u001b[0m \u001b[32m━━━━━━━━━━━━━━━━━━━━\u001b[0m\u001b[37m\u001b[0m \u001b[1m14s\u001b[0m 114ms/step - accuracy: 0.7451 - loss: 0.6598 - recall: 0.6579 - val_accuracy: 0.6266 - val_loss: 1.0179 - val_recall: 0.5369\n",
      "Epoch 42/100\n",
      "\u001b[1m119/119\u001b[0m \u001b[32m━━━━━━━━━━━━━━━━━━━━\u001b[0m\u001b[37m\u001b[0m \u001b[1m13s\u001b[0m 111ms/step - accuracy: 0.7669 - loss: 0.6079 - recall: 0.6811 - val_accuracy: 0.6224 - val_loss: 1.0253 - val_recall: 0.5316\n"
     ]
    }
   ],
   "source": [
    "history = test_model.fit([X_images_train, X_metadata_train], y_train, epochs=100, batch_size=32, validation_split=0.2, callbacks=[es])"
   ]
  },
  {
   "cell_type": "code",
   "execution_count": 65,
   "id": "3fab6b94-42ca-4877-a066-6eab1660266e",
   "metadata": {
    "execution": {
     "iopub.execute_input": "2025-06-09T10:44:34.415659Z",
     "iopub.status.busy": "2025-06-09T10:44:34.415349Z",
     "iopub.status.idle": "2025-06-09T10:44:36.590369Z",
     "shell.execute_reply": "2025-06-09T10:44:36.589448Z",
     "shell.execute_reply.started": "2025-06-09T10:44:34.415640Z"
    }
   },
   "outputs": [
    {
     "name": "stdout",
     "output_type": "stream",
     "text": [
      "\u001b[1m64/64\u001b[0m \u001b[32m━━━━━━━━━━━━━━━━━━━━\u001b[0m\u001b[37m\u001b[0m \u001b[1m2s\u001b[0m 27ms/step - accuracy: 0.6570 - loss: 0.9048 - recall: 0.5355\n"
     ]
    },
    {
     "data": {
      "text/plain": [
       "[0.9083866477012634, 0.6561576128005981, 0.5364531874656677]"
      ]
     },
     "execution_count": 65,
     "metadata": {},
     "output_type": "execute_result"
    }
   ],
   "source": [
    "test_model.evaluate([X_images_test,X_metadata_test],y_test)"
   ]
  },
  {
   "cell_type": "code",
   "execution_count": 66,
   "id": "20d74165-8411-4ae4-9f7c-f5df6d6909de",
   "metadata": {
    "execution": {
     "iopub.execute_input": "2025-06-09T10:44:36.591629Z",
     "iopub.status.busy": "2025-06-09T10:44:36.591324Z",
     "iopub.status.idle": "2025-06-09T10:44:36.820580Z",
     "shell.execute_reply": "2025-06-09T10:44:36.819490Z",
     "shell.execute_reply.started": "2025-06-09T10:44:36.591605Z"
    }
   },
   "outputs": [
    {
     "data": {
      "image/png": "[encoded data removed]",
      "text/plain": [
       "<Figure size 2000x700 with 2 Axes>"
      ]
     },
     "metadata": {},
     "output_type": "display_data"
    }
   ],
   "source": [
    "plot_loss_accuracy(history)"
   ]
  },
  {
   "cell_type": "code",
   "execution_count": null,
   "id": "b60beac6-c133-4e24-9649-6c8d5b6f1a22",
   "metadata": {},
   "outputs": [],
   "source": []
  }
 ],
 "metadata": {
  "kernelspec": {
   "display_name": "Python 3 (ipykernel)",
   "language": "python",
   "name": "python3"
  },
  "language_info": {
   "codemirror_mode": {
    "name": "ipython",
    "version": 3
   },
   "file_extension": ".py",
   "mimetype": "text/x-python",
   "name": "python",
   "nbconvert_exporter": "python",
   "pygments_lexer": "ipython3",
   "version": "3.12.9"
  }
 },
 "nbformat": 4,
 "nbformat_minor": 5
}

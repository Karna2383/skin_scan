{
 "cells": [
  {
   "cell_type": "code",
   "execution_count": 1,
   "id": "cb12fa79-022c-4cbb-b92a-c2924f2b896c",
   "metadata": {
    "execution": {
     "iopub.execute_input": "2025-06-03T15:24:16.491079Z",
     "iopub.status.busy": "2025-06-03T15:24:16.490737Z",
     "iopub.status.idle": "2025-06-03T15:24:16.496557Z",
     "shell.execute_reply": "2025-06-03T15:24:16.495319Z",
     "shell.execute_reply.started": "2025-06-03T15:24:16.491056Z"
    }
   },
   "outputs": [],
   "source": [
    "import warnings\n",
    "warnings.filterwarnings('ignore')"
   ]
  },
  {
   "cell_type": "code",
   "execution_count": 2,
   "id": "aaa7e9d4-3d7e-45c3-b89b-c86e35160a42",
   "metadata": {
    "execution": {
     "iopub.execute_input": "2025-06-03T15:24:16.671084Z",
     "iopub.status.busy": "2025-06-03T15:24:16.670027Z",
     "iopub.status.idle": "2025-06-03T15:24:22.524537Z",
     "shell.execute_reply": "2025-06-03T15:24:22.523594Z",
     "shell.execute_reply.started": "2025-06-03T15:24:16.671054Z"
    }
   },
   "outputs": [
    {
     "name": "stderr",
     "output_type": "stream",
     "text": [
      "2025-06-03 16:24:18.358549: I tensorflow/core/util/port.cc:153] oneDNN custom operations are on. You may see slightly different numerical results due to floating-point round-off errors from different computation orders. To turn them off, set the environment variable `TF_ENABLE_ONEDNN_OPTS=0`.\n",
      "2025-06-03 16:24:18.362018: I external/local_xla/xla/tsl/cuda/cudart_stub.cc:32] Could not find cuda drivers on your machine, GPU will not be used.\n",
      "2025-06-03 16:24:18.377963: I external/local_xla/xla/tsl/cuda/cudart_stub.cc:32] Could not find cuda drivers on your machine, GPU will not be used.\n",
      "2025-06-03 16:24:18.413718: E external/local_xla/xla/stream_executor/cuda/cuda_fft.cc:467] Unable to register cuFFT factory: Attempting to register factory for plugin cuFFT when one has already been registered\n",
      "WARNING: All log messages before absl::InitializeLog() is called are written to STDERR\n",
      "E0000 00:00:1748964258.448161  169599 cuda_dnn.cc:8579] Unable to register cuDNN factory: Attempting to register factory for plugin cuDNN when one has already been registered\n",
      "E0000 00:00:1748964258.455897  169599 cuda_blas.cc:1407] Unable to register cuBLAS factory: Attempting to register factory for plugin cuBLAS when one has already been registered\n",
      "W0000 00:00:1748964258.505457  169599 computation_placer.cc:177] computation placer already registered. Please check linkage and avoid linking the same target more than once.\n",
      "W0000 00:00:1748964258.505502  169599 computation_placer.cc:177] computation placer already registered. Please check linkage and avoid linking the same target more than once.\n",
      "W0000 00:00:1748964258.505503  169599 computation_placer.cc:177] computation placer already registered. Please check linkage and avoid linking the same target more than once.\n",
      "W0000 00:00:1748964258.505504  169599 computation_placer.cc:177] computation placer already registered. Please check linkage and avoid linking the same target more than once.\n",
      "2025-06-03 16:24:18.523049: I tensorflow/core/platform/cpu_feature_guard.cc:210] This TensorFlow binary is optimized to use available CPU instructions in performance-critical operations.\n",
      "To enable the following instructions: AVX2 AVX_VNNI FMA, in other operations, rebuild TensorFlow with the appropriate compiler flags.\n"
     ]
    }
   ],
   "source": [
    "import pandas as pd\n",
    "from google.cloud import bigquery\n",
    "import tensorflow as tf\n",
    "import numpy as np\n",
    "import matplotlib.pyplot as plt"
   ]
  },
  {
   "cell_type": "code",
   "execution_count": 3,
   "id": "9bf86587-5818-41a4-9585-bc46a2dae21c",
   "metadata": {
    "execution": {
     "iopub.execute_input": "2025-06-03T15:24:22.526373Z",
     "iopub.status.busy": "2025-06-03T15:24:22.525909Z",
     "iopub.status.idle": "2025-06-03T15:24:22.536499Z",
     "shell.execute_reply": "2025-06-03T15:24:22.535764Z",
     "shell.execute_reply.started": "2025-06-03T15:24:22.526351Z"
    }
   },
   "outputs": [],
   "source": [
    "from tensorflow.keras import callbacks\n",
    "from tensorflow.keras import Sequential, Input, layers\n",
    "from tensorflow.keras import optimizers\n",
    "from tensorflow.keras.callbacks import EarlyStopping"
   ]
  },
  {
   "cell_type": "code",
   "execution_count": 4,
   "id": "1df8297f-dede-42b1-b146-862ad05d58bc",
   "metadata": {
    "execution": {
     "iopub.execute_input": "2025-06-03T15:24:22.537441Z",
     "iopub.status.busy": "2025-06-03T15:24:22.537238Z",
     "iopub.status.idle": "2025-06-03T15:24:22.547736Z",
     "shell.execute_reply": "2025-06-03T15:24:22.547175Z",
     "shell.execute_reply.started": "2025-06-03T15:24:22.537425Z"
    }
   },
   "outputs": [],
   "source": [
    "def get_data_from_bq(\n",
    "        gcp_project:str,\n",
    "        query:str,\n",
    "        data_has_header=True\n",
    "    ) -> pd.DataFrame:\n",
    "    \"\"\"\n",
    "    Retrieve `query` data from BigQuery\n",
    "    \"\"\"\n",
    "    client = bigquery.Client(project=gcp_project)\n",
    "    query_job = client.query(query)\n",
    "    result = query_job.result()\n",
    "    df = result.to_dataframe()\n",
    "    df = df.astype(\"float64\")\n",
    "    return df"
   ]
  },
  {
   "cell_type": "code",
   "execution_count": 5,
   "id": "f832436b-cda9-463c-b5b0-07815918d655",
   "metadata": {
    "execution": {
     "iopub.execute_input": "2025-06-03T15:24:22.548492Z",
     "iopub.status.busy": "2025-06-03T15:24:22.548363Z",
     "iopub.status.idle": "2025-06-03T15:24:22.558801Z",
     "shell.execute_reply": "2025-06-03T15:24:22.557589Z",
     "shell.execute_reply.started": "2025-06-03T15:24:22.548481Z"
    }
   },
   "outputs": [],
   "source": [
    "GCP_PROJECT = \"skin-scan-461716\"\n",
    "BQ_DATASET = \"skin_scan\""
   ]
  },
  {
   "cell_type": "code",
   "execution_count": 6,
   "id": "c32791a0-fa4b-40ae-8303-e64d7aa38c9b",
   "metadata": {
    "execution": {
     "iopub.execute_input": "2025-06-03T15:24:22.559761Z",
     "iopub.status.busy": "2025-06-03T15:24:22.559422Z",
     "iopub.status.idle": "2025-06-03T15:24:22.562630Z",
     "shell.execute_reply": "2025-06-03T15:24:22.562216Z",
     "shell.execute_reply.started": "2025-06-03T15:24:22.559743Z"
    }
   },
   "outputs": [],
   "source": [
    "query = f\"\"\"\n",
    "        SELECT *\n",
    "        FROM `{GCP_PROJECT}`.{BQ_DATASET}.train_28x28\n",
    "    \"\"\""
   ]
  },
  {
   "cell_type": "code",
   "execution_count": 7,
   "id": "ab52f08b-a522-4606-8d23-ad189c1f21eb",
   "metadata": {
    "execution": {
     "iopub.execute_input": "2025-06-03T15:24:22.563108Z",
     "iopub.status.busy": "2025-06-03T15:24:22.562951Z",
     "iopub.status.idle": "2025-06-03T15:24:30.652962Z",
     "shell.execute_reply": "2025-06-03T15:24:30.651915Z",
     "shell.execute_reply.started": "2025-06-03T15:24:22.563096Z"
    }
   },
   "outputs": [],
   "source": [
    "data = get_data_from_bq(f\"{GCP_PROJECT}\", query)"
   ]
  },
  {
   "cell_type": "code",
   "execution_count": 8,
   "id": "d4b6d8e7-bc7e-4f2a-826d-b4b7a07a7bb0",
   "metadata": {
    "execution": {
     "iopub.execute_input": "2025-06-03T15:24:30.653815Z",
     "iopub.status.busy": "2025-06-03T15:24:30.653666Z",
     "iopub.status.idle": "2025-06-03T15:24:30.695330Z",
     "shell.execute_reply": "2025-06-03T15:24:30.694520Z",
     "shell.execute_reply.started": "2025-06-03T15:24:30.653804Z"
    }
   },
   "outputs": [
    {
     "data": {
      "text/html": [
       "<div>\n",
       "<style scoped>\n",
       "    .dataframe tbody tr th:only-of-type {\n",
       "        vertical-align: middle;\n",
       "    }\n",
       "\n",
       "    .dataframe tbody tr th {\n",
       "        vertical-align: top;\n",
       "    }\n",
       "\n",
       "    .dataframe thead th {\n",
       "        text-align: right;\n",
       "    }\n",
       "</style>\n",
       "<table border=\"1\" class=\"dataframe\">\n",
       "  <thead>\n",
       "    <tr style=\"text-align: right;\">\n",
       "      <th></th>\n",
       "      <th>pixel0000</th>\n",
       "      <th>pixel0001</th>\n",
       "      <th>pixel0002</th>\n",
       "      <th>pixel0003</th>\n",
       "      <th>pixel0004</th>\n",
       "      <th>pixel0005</th>\n",
       "      <th>pixel0006</th>\n",
       "      <th>pixel0007</th>\n",
       "      <th>pixel0008</th>\n",
       "      <th>pixel0009</th>\n",
       "      <th>...</th>\n",
       "      <th>pixel2343</th>\n",
       "      <th>pixel2344</th>\n",
       "      <th>pixel2345</th>\n",
       "      <th>pixel2346</th>\n",
       "      <th>pixel2347</th>\n",
       "      <th>pixel2348</th>\n",
       "      <th>pixel2349</th>\n",
       "      <th>pixel2350</th>\n",
       "      <th>pixel2351</th>\n",
       "      <th>label</th>\n",
       "    </tr>\n",
       "  </thead>\n",
       "  <tbody>\n",
       "    <tr>\n",
       "      <th>0</th>\n",
       "      <td>179.0</td>\n",
       "      <td>138.0</td>\n",
       "      <td>169.0</td>\n",
       "      <td>180.0</td>\n",
       "      <td>137.0</td>\n",
       "      <td>169.0</td>\n",
       "      <td>182.0</td>\n",
       "      <td>139.0</td>\n",
       "      <td>169.0</td>\n",
       "      <td>186.0</td>\n",
       "      <td>...</td>\n",
       "      <td>189.0</td>\n",
       "      <td>161.0</td>\n",
       "      <td>192.0</td>\n",
       "      <td>189.0</td>\n",
       "      <td>161.0</td>\n",
       "      <td>189.0</td>\n",
       "      <td>187.0</td>\n",
       "      <td>157.0</td>\n",
       "      <td>183.0</td>\n",
       "      <td>4.0</td>\n",
       "    </tr>\n",
       "    <tr>\n",
       "      <th>1</th>\n",
       "      <td>139.0</td>\n",
       "      <td>74.0</td>\n",
       "      <td>78.0</td>\n",
       "      <td>148.0</td>\n",
       "      <td>80.0</td>\n",
       "      <td>85.0</td>\n",
       "      <td>160.0</td>\n",
       "      <td>91.0</td>\n",
       "      <td>99.0</td>\n",
       "      <td>170.0</td>\n",
       "      <td>...</td>\n",
       "      <td>9.0</td>\n",
       "      <td>8.0</td>\n",
       "      <td>8.0</td>\n",
       "      <td>15.0</td>\n",
       "      <td>14.0</td>\n",
       "      <td>16.0</td>\n",
       "      <td>21.0</td>\n",
       "      <td>18.0</td>\n",
       "      <td>22.0</td>\n",
       "      <td>4.0</td>\n",
       "    </tr>\n",
       "    <tr>\n",
       "      <th>2</th>\n",
       "      <td>65.0</td>\n",
       "      <td>41.0</td>\n",
       "      <td>57.0</td>\n",
       "      <td>130.0</td>\n",
       "      <td>95.0</td>\n",
       "      <td>115.0</td>\n",
       "      <td>173.0</td>\n",
       "      <td>136.0</td>\n",
       "      <td>161.0</td>\n",
       "      <td>187.0</td>\n",
       "      <td>...</td>\n",
       "      <td>20.0</td>\n",
       "      <td>9.0</td>\n",
       "      <td>18.0</td>\n",
       "      <td>19.0</td>\n",
       "      <td>10.0</td>\n",
       "      <td>19.0</td>\n",
       "      <td>17.0</td>\n",
       "      <td>10.0</td>\n",
       "      <td>17.0</td>\n",
       "      <td>4.0</td>\n",
       "    </tr>\n",
       "    <tr>\n",
       "      <th>3</th>\n",
       "      <td>201.0</td>\n",
       "      <td>159.0</td>\n",
       "      <td>176.0</td>\n",
       "      <td>207.0</td>\n",
       "      <td>155.0</td>\n",
       "      <td>174.0</td>\n",
       "      <td>207.0</td>\n",
       "      <td>150.0</td>\n",
       "      <td>163.0</td>\n",
       "      <td>207.0</td>\n",
       "      <td>...</td>\n",
       "      <td>83.0</td>\n",
       "      <td>86.0</td>\n",
       "      <td>138.0</td>\n",
       "      <td>104.0</td>\n",
       "      <td>101.0</td>\n",
       "      <td>161.0</td>\n",
       "      <td>117.0</td>\n",
       "      <td>102.0</td>\n",
       "      <td>156.0</td>\n",
       "      <td>6.0</td>\n",
       "    </tr>\n",
       "    <tr>\n",
       "      <th>4</th>\n",
       "      <td>229.0</td>\n",
       "      <td>188.0</td>\n",
       "      <td>208.0</td>\n",
       "      <td>237.0</td>\n",
       "      <td>191.0</td>\n",
       "      <td>216.0</td>\n",
       "      <td>235.0</td>\n",
       "      <td>179.0</td>\n",
       "      <td>195.0</td>\n",
       "      <td>233.0</td>\n",
       "      <td>...</td>\n",
       "      <td>106.0</td>\n",
       "      <td>105.0</td>\n",
       "      <td>168.0</td>\n",
       "      <td>131.0</td>\n",
       "      <td>122.0</td>\n",
       "      <td>193.0</td>\n",
       "      <td>142.0</td>\n",
       "      <td>121.0</td>\n",
       "      <td>184.0</td>\n",
       "      <td>6.0</td>\n",
       "    </tr>\n",
       "  </tbody>\n",
       "</table>\n",
       "<p>5 rows × 2353 columns</p>\n",
       "</div>"
      ],
      "text/plain": [
       "   pixel0000  pixel0001  pixel0002  pixel0003  pixel0004  pixel0005  \\\n",
       "0      179.0      138.0      169.0      180.0      137.0      169.0   \n",
       "1      139.0       74.0       78.0      148.0       80.0       85.0   \n",
       "2       65.0       41.0       57.0      130.0       95.0      115.0   \n",
       "3      201.0      159.0      176.0      207.0      155.0      174.0   \n",
       "4      229.0      188.0      208.0      237.0      191.0      216.0   \n",
       "\n",
       "   pixel0006  pixel0007  pixel0008  pixel0009  ...  pixel2343  pixel2344  \\\n",
       "0      182.0      139.0      169.0      186.0  ...      189.0      161.0   \n",
       "1      160.0       91.0       99.0      170.0  ...        9.0        8.0   \n",
       "2      173.0      136.0      161.0      187.0  ...       20.0        9.0   \n",
       "3      207.0      150.0      163.0      207.0  ...       83.0       86.0   \n",
       "4      235.0      179.0      195.0      233.0  ...      106.0      105.0   \n",
       "\n",
       "   pixel2345  pixel2346  pixel2347  pixel2348  pixel2349  pixel2350  \\\n",
       "0      192.0      189.0      161.0      189.0      187.0      157.0   \n",
       "1        8.0       15.0       14.0       16.0       21.0       18.0   \n",
       "2       18.0       19.0       10.0       19.0       17.0       10.0   \n",
       "3      138.0      104.0      101.0      161.0      117.0      102.0   \n",
       "4      168.0      131.0      122.0      193.0      142.0      121.0   \n",
       "\n",
       "   pixel2351  label  \n",
       "0      183.0    4.0  \n",
       "1       22.0    4.0  \n",
       "2       17.0    4.0  \n",
       "3      156.0    6.0  \n",
       "4      184.0    6.0  \n",
       "\n",
       "[5 rows x 2353 columns]"
      ]
     },
     "execution_count": 8,
     "metadata": {},
     "output_type": "execute_result"
    }
   ],
   "source": [
    "data.head()"
   ]
  },
  {
   "cell_type": "code",
   "execution_count": 9,
   "id": "1443b5fb-85f7-4552-8482-57fa5caeb557",
   "metadata": {
    "execution": {
     "iopub.execute_input": "2025-06-03T15:24:30.696226Z",
     "iopub.status.busy": "2025-06-03T15:24:30.696066Z",
     "iopub.status.idle": "2025-06-03T15:24:30.762310Z",
     "shell.execute_reply": "2025-06-03T15:24:30.761406Z",
     "shell.execute_reply.started": "2025-06-03T15:24:30.696214Z"
    }
   },
   "outputs": [],
   "source": [
    "X = data.drop(columns=\"label\")"
   ]
  },
  {
   "cell_type": "code",
   "execution_count": 10,
   "id": "d519f6bd-de2b-4865-8e81-c41c25aa0baf",
   "metadata": {
    "execution": {
     "iopub.execute_input": "2025-06-03T15:24:30.763004Z",
     "iopub.status.busy": "2025-06-03T15:24:30.762838Z",
     "iopub.status.idle": "2025-06-03T15:24:30.906926Z",
     "shell.execute_reply": "2025-06-03T15:24:30.906016Z",
     "shell.execute_reply.started": "2025-06-03T15:24:30.762992Z"
    }
   },
   "outputs": [],
   "source": [
    "X = X/255"
   ]
  },
  {
   "cell_type": "code",
   "execution_count": 11,
   "id": "f7949887-dca8-41f9-9e2a-9fa7c0d33210",
   "metadata": {
    "execution": {
     "iopub.execute_input": "2025-06-03T15:24:30.910322Z",
     "iopub.status.busy": "2025-06-03T15:24:30.910006Z",
     "iopub.status.idle": "2025-06-03T15:24:30.915095Z",
     "shell.execute_reply": "2025-06-03T15:24:30.914032Z",
     "shell.execute_reply.started": "2025-06-03T15:24:30.910298Z"
    }
   },
   "outputs": [],
   "source": [
    "y = data[\"label\"]"
   ]
  },
  {
   "cell_type": "code",
   "execution_count": 12,
   "id": "bf777842-8763-4523-8445-9940930d8c0a",
   "metadata": {
    "execution": {
     "iopub.execute_input": "2025-06-03T15:24:30.915915Z",
     "iopub.status.busy": "2025-06-03T15:24:30.915751Z",
     "iopub.status.idle": "2025-06-03T15:24:30.950769Z",
     "shell.execute_reply": "2025-06-03T15:24:30.950206Z",
     "shell.execute_reply.started": "2025-06-03T15:24:30.915903Z"
    }
   },
   "outputs": [
    {
     "data": {
      "text/html": [
       "<div>\n",
       "<style scoped>\n",
       "    .dataframe tbody tr th:only-of-type {\n",
       "        vertical-align: middle;\n",
       "    }\n",
       "\n",
       "    .dataframe tbody tr th {\n",
       "        vertical-align: top;\n",
       "    }\n",
       "\n",
       "    .dataframe thead th {\n",
       "        text-align: right;\n",
       "    }\n",
       "</style>\n",
       "<table border=\"1\" class=\"dataframe\">\n",
       "  <thead>\n",
       "    <tr style=\"text-align: right;\">\n",
       "      <th></th>\n",
       "      <th>pixel0000</th>\n",
       "      <th>pixel0001</th>\n",
       "      <th>pixel0002</th>\n",
       "      <th>pixel0003</th>\n",
       "      <th>pixel0004</th>\n",
       "      <th>pixel0005</th>\n",
       "      <th>pixel0006</th>\n",
       "      <th>pixel0007</th>\n",
       "      <th>pixel0008</th>\n",
       "      <th>pixel0009</th>\n",
       "      <th>...</th>\n",
       "      <th>pixel2342</th>\n",
       "      <th>pixel2343</th>\n",
       "      <th>pixel2344</th>\n",
       "      <th>pixel2345</th>\n",
       "      <th>pixel2346</th>\n",
       "      <th>pixel2347</th>\n",
       "      <th>pixel2348</th>\n",
       "      <th>pixel2349</th>\n",
       "      <th>pixel2350</th>\n",
       "      <th>pixel2351</th>\n",
       "    </tr>\n",
       "  </thead>\n",
       "  <tbody>\n",
       "    <tr>\n",
       "      <th>0</th>\n",
       "      <td>0.701961</td>\n",
       "      <td>0.541176</td>\n",
       "      <td>0.662745</td>\n",
       "      <td>0.705882</td>\n",
       "      <td>0.537255</td>\n",
       "      <td>0.662745</td>\n",
       "      <td>0.713725</td>\n",
       "      <td>0.545098</td>\n",
       "      <td>0.662745</td>\n",
       "      <td>0.729412</td>\n",
       "      <td>...</td>\n",
       "      <td>0.737255</td>\n",
       "      <td>0.741176</td>\n",
       "      <td>0.631373</td>\n",
       "      <td>0.752941</td>\n",
       "      <td>0.741176</td>\n",
       "      <td>0.631373</td>\n",
       "      <td>0.741176</td>\n",
       "      <td>0.733333</td>\n",
       "      <td>0.615686</td>\n",
       "      <td>0.717647</td>\n",
       "    </tr>\n",
       "    <tr>\n",
       "      <th>1</th>\n",
       "      <td>0.545098</td>\n",
       "      <td>0.290196</td>\n",
       "      <td>0.305882</td>\n",
       "      <td>0.580392</td>\n",
       "      <td>0.313725</td>\n",
       "      <td>0.333333</td>\n",
       "      <td>0.627451</td>\n",
       "      <td>0.356863</td>\n",
       "      <td>0.388235</td>\n",
       "      <td>0.666667</td>\n",
       "      <td>...</td>\n",
       "      <td>0.070588</td>\n",
       "      <td>0.035294</td>\n",
       "      <td>0.031373</td>\n",
       "      <td>0.031373</td>\n",
       "      <td>0.058824</td>\n",
       "      <td>0.054902</td>\n",
       "      <td>0.062745</td>\n",
       "      <td>0.082353</td>\n",
       "      <td>0.070588</td>\n",
       "      <td>0.086275</td>\n",
       "    </tr>\n",
       "    <tr>\n",
       "      <th>2</th>\n",
       "      <td>0.254902</td>\n",
       "      <td>0.160784</td>\n",
       "      <td>0.223529</td>\n",
       "      <td>0.509804</td>\n",
       "      <td>0.372549</td>\n",
       "      <td>0.450980</td>\n",
       "      <td>0.678431</td>\n",
       "      <td>0.533333</td>\n",
       "      <td>0.631373</td>\n",
       "      <td>0.733333</td>\n",
       "      <td>...</td>\n",
       "      <td>0.086275</td>\n",
       "      <td>0.078431</td>\n",
       "      <td>0.035294</td>\n",
       "      <td>0.070588</td>\n",
       "      <td>0.074510</td>\n",
       "      <td>0.039216</td>\n",
       "      <td>0.074510</td>\n",
       "      <td>0.066667</td>\n",
       "      <td>0.039216</td>\n",
       "      <td>0.066667</td>\n",
       "    </tr>\n",
       "    <tr>\n",
       "      <th>3</th>\n",
       "      <td>0.788235</td>\n",
       "      <td>0.623529</td>\n",
       "      <td>0.690196</td>\n",
       "      <td>0.811765</td>\n",
       "      <td>0.607843</td>\n",
       "      <td>0.682353</td>\n",
       "      <td>0.811765</td>\n",
       "      <td>0.588235</td>\n",
       "      <td>0.639216</td>\n",
       "      <td>0.811765</td>\n",
       "      <td>...</td>\n",
       "      <td>0.392157</td>\n",
       "      <td>0.325490</td>\n",
       "      <td>0.337255</td>\n",
       "      <td>0.541176</td>\n",
       "      <td>0.407843</td>\n",
       "      <td>0.396078</td>\n",
       "      <td>0.631373</td>\n",
       "      <td>0.458824</td>\n",
       "      <td>0.400000</td>\n",
       "      <td>0.611765</td>\n",
       "    </tr>\n",
       "    <tr>\n",
       "      <th>4</th>\n",
       "      <td>0.898039</td>\n",
       "      <td>0.737255</td>\n",
       "      <td>0.815686</td>\n",
       "      <td>0.929412</td>\n",
       "      <td>0.749020</td>\n",
       "      <td>0.847059</td>\n",
       "      <td>0.921569</td>\n",
       "      <td>0.701961</td>\n",
       "      <td>0.764706</td>\n",
       "      <td>0.913725</td>\n",
       "      <td>...</td>\n",
       "      <td>0.458824</td>\n",
       "      <td>0.415686</td>\n",
       "      <td>0.411765</td>\n",
       "      <td>0.658824</td>\n",
       "      <td>0.513725</td>\n",
       "      <td>0.478431</td>\n",
       "      <td>0.756863</td>\n",
       "      <td>0.556863</td>\n",
       "      <td>0.474510</td>\n",
       "      <td>0.721569</td>\n",
       "    </tr>\n",
       "  </tbody>\n",
       "</table>\n",
       "<p>5 rows × 2352 columns</p>\n",
       "</div>"
      ],
      "text/plain": [
       "   pixel0000  pixel0001  pixel0002  pixel0003  pixel0004  pixel0005  \\\n",
       "0   0.701961   0.541176   0.662745   0.705882   0.537255   0.662745   \n",
       "1   0.545098   0.290196   0.305882   0.580392   0.313725   0.333333   \n",
       "2   0.254902   0.160784   0.223529   0.509804   0.372549   0.450980   \n",
       "3   0.788235   0.623529   0.690196   0.811765   0.607843   0.682353   \n",
       "4   0.898039   0.737255   0.815686   0.929412   0.749020   0.847059   \n",
       "\n",
       "   pixel0006  pixel0007  pixel0008  pixel0009  ...  pixel2342  pixel2343  \\\n",
       "0   0.713725   0.545098   0.662745   0.729412  ...   0.737255   0.741176   \n",
       "1   0.627451   0.356863   0.388235   0.666667  ...   0.070588   0.035294   \n",
       "2   0.678431   0.533333   0.631373   0.733333  ...   0.086275   0.078431   \n",
       "3   0.811765   0.588235   0.639216   0.811765  ...   0.392157   0.325490   \n",
       "4   0.921569   0.701961   0.764706   0.913725  ...   0.458824   0.415686   \n",
       "\n",
       "   pixel2344  pixel2345  pixel2346  pixel2347  pixel2348  pixel2349  \\\n",
       "0   0.631373   0.752941   0.741176   0.631373   0.741176   0.733333   \n",
       "1   0.031373   0.031373   0.058824   0.054902   0.062745   0.082353   \n",
       "2   0.035294   0.070588   0.074510   0.039216   0.074510   0.066667   \n",
       "3   0.337255   0.541176   0.407843   0.396078   0.631373   0.458824   \n",
       "4   0.411765   0.658824   0.513725   0.478431   0.756863   0.556863   \n",
       "\n",
       "   pixel2350  pixel2351  \n",
       "0   0.615686   0.717647  \n",
       "1   0.070588   0.086275  \n",
       "2   0.039216   0.066667  \n",
       "3   0.400000   0.611765  \n",
       "4   0.474510   0.721569  \n",
       "\n",
       "[5 rows x 2352 columns]"
      ]
     },
     "execution_count": 12,
     "metadata": {},
     "output_type": "execute_result"
    }
   ],
   "source": [
    "X.head()"
   ]
  },
  {
   "cell_type": "code",
   "execution_count": 13,
   "id": "637df03b-11cc-4c42-bbec-2b734023f57f",
   "metadata": {
    "execution": {
     "iopub.execute_input": "2025-06-03T15:24:30.951253Z",
     "iopub.status.busy": "2025-06-03T15:24:30.951127Z",
     "iopub.status.idle": "2025-06-03T15:24:30.956093Z",
     "shell.execute_reply": "2025-06-03T15:24:30.955664Z",
     "shell.execute_reply.started": "2025-06-03T15:24:30.951244Z"
    }
   },
   "outputs": [
    {
     "data": {
      "text/plain": [
       "label\n",
       "4.0    66.9\n",
       "6.0    11.1\n",
       "2.0    11.0\n",
       "1.0     5.1\n",
       "0.0     3.3\n",
       "5.0     1.4\n",
       "3.0     1.1\n",
       "Name: proportion, dtype: float64"
      ]
     },
     "execution_count": 13,
     "metadata": {},
     "output_type": "execute_result"
    }
   ],
   "source": [
    "round(y.value_counts(ascending=False,normalize=True)*100,1)"
   ]
  },
  {
   "cell_type": "code",
   "execution_count": 14,
   "id": "f040dd4b-328c-4472-b87f-afa4c278e59c",
   "metadata": {
    "execution": {
     "iopub.execute_input": "2025-06-03T15:24:30.956572Z",
     "iopub.status.busy": "2025-06-03T15:24:30.956447Z",
     "iopub.status.idle": "2025-06-03T15:24:30.984097Z",
     "shell.execute_reply": "2025-06-03T15:24:30.983336Z",
     "shell.execute_reply.started": "2025-06-03T15:24:30.956562Z"
    }
   },
   "outputs": [
    {
     "data": {
      "text/plain": [
       "pixel0000    float64\n",
       "pixel0001    float64\n",
       "pixel0002    float64\n",
       "pixel0003    float64\n",
       "pixel0004    float64\n",
       "              ...   \n",
       "pixel2347    float64\n",
       "pixel2348    float64\n",
       "pixel2349    float64\n",
       "pixel2350    float64\n",
       "pixel2351    float64\n",
       "Length: 2352, dtype: object"
      ]
     },
     "execution_count": 14,
     "metadata": {},
     "output_type": "execute_result"
    }
   ],
   "source": [
    "X.dtypes"
   ]
  },
  {
   "cell_type": "code",
   "execution_count": 15,
   "id": "222a2203-8a32-4319-9a1d-547934c56a53",
   "metadata": {
    "execution": {
     "iopub.execute_input": "2025-06-03T15:24:30.985324Z",
     "iopub.status.busy": "2025-06-03T15:24:30.984845Z",
     "iopub.status.idle": "2025-06-03T15:24:31.167605Z",
     "shell.execute_reply": "2025-06-03T15:24:31.166492Z",
     "shell.execute_reply.started": "2025-06-03T15:24:30.985308Z"
    }
   },
   "outputs": [],
   "source": [
    "from sklearn.model_selection import train_test_split\n",
    "\n",
    "X_train, X_test, y_train, y_test = train_test_split(X, y, test_size=0.3, random_state=42,stratify=y)"
   ]
  },
  {
   "cell_type": "code",
   "execution_count": 16,
   "id": "0b540165-f56d-42f4-8def-2c1cf2a9ac02",
   "metadata": {
    "execution": {
     "iopub.execute_input": "2025-06-03T15:24:31.169374Z",
     "iopub.status.busy": "2025-06-03T15:24:31.168714Z",
     "iopub.status.idle": "2025-06-03T15:24:31.193873Z",
     "shell.execute_reply": "2025-06-03T15:24:31.193234Z",
     "shell.execute_reply.started": "2025-06-03T15:24:31.169345Z"
    }
   },
   "outputs": [
    {
     "data": {
      "text/plain": [
       "(7010, 2352)"
      ]
     },
     "execution_count": 16,
     "metadata": {},
     "output_type": "execute_result"
    }
   ],
   "source": [
    "X_train.shape"
   ]
  },
  {
   "cell_type": "code",
   "execution_count": 17,
   "id": "69e037df-5a61-439d-9707-9797b6a607a2",
   "metadata": {
    "execution": {
     "iopub.execute_input": "2025-06-03T15:24:31.194723Z",
     "iopub.status.busy": "2025-06-03T15:24:31.194554Z",
     "iopub.status.idle": "2025-06-03T15:24:31.281860Z",
     "shell.execute_reply": "2025-06-03T15:24:31.280589Z",
     "shell.execute_reply.started": "2025-06-03T15:24:31.194710Z"
    }
   },
   "outputs": [
    {
     "data": {
      "text/plain": [
       "array([[0.59215686, 0.47843137, 0.4745098 , ..., 0.55686275, 0.43137255,\n",
       "        0.42745098],\n",
       "       [0.53333333, 0.39215686, 0.47843137, ..., 0.51764706, 0.36470588,\n",
       "        0.4627451 ],\n",
       "       [0.50980392, 0.43137255, 0.49019608, ..., 0.03921569, 0.01960784,\n",
       "        0.03529412],\n",
       "       ...,\n",
       "       [0.79215686, 0.43529412, 0.48627451, ..., 0.79215686, 0.52156863,\n",
       "        0.48235294],\n",
       "       [0.81176471, 0.6745098 , 0.69803922, ..., 0.80392157, 0.70980392,\n",
       "        0.73333333],\n",
       "       [0.86666667, 0.67843137, 0.80784314, ..., 0.85098039, 0.68627451,\n",
       "        0.89411765]])"
      ]
     },
     "execution_count": 17,
     "metadata": {},
     "output_type": "execute_result"
    }
   ],
   "source": [
    "X_train = np.array(X_train)\n",
    "X_train"
   ]
  },
  {
   "cell_type": "code",
   "execution_count": 18,
   "id": "467ec94f-51dc-4620-811c-bb338d44576a",
   "metadata": {
    "execution": {
     "iopub.execute_input": "2025-06-03T15:24:31.283394Z",
     "iopub.status.busy": "2025-06-03T15:24:31.283106Z",
     "iopub.status.idle": "2025-06-03T15:24:31.322996Z",
     "shell.execute_reply": "2025-06-03T15:24:31.322154Z",
     "shell.execute_reply.started": "2025-06-03T15:24:31.283372Z"
    }
   },
   "outputs": [
    {
     "data": {
      "text/plain": [
       "array([[0.85098039, 0.55294118, 0.56862745, ..., 0.79215686, 0.55686275,\n",
       "        0.55686275],\n",
       "       [0.77647059, 0.38823529, 0.47843137, ..., 0.74117647, 0.39215686,\n",
       "        0.45098039],\n",
       "       [0.52941176, 0.36078431, 0.29803922, ..., 0.43137255, 0.30196078,\n",
       "        0.25098039],\n",
       "       ...,\n",
       "       [0.82745098, 0.62745098, 0.52941176, ..., 0.8627451 , 0.6627451 ,\n",
       "        0.5254902 ],\n",
       "       [0.53333333, 0.38823529, 0.37647059, ..., 0.59215686, 0.48235294,\n",
       "        0.52156863],\n",
       "       [0.85490196, 0.75294118, 0.78039216, ..., 0.00392157, 0.        ,\n",
       "        0.00392157]])"
      ]
     },
     "execution_count": 18,
     "metadata": {},
     "output_type": "execute_result"
    }
   ],
   "source": [
    "X_test = np.array(X_test)\n",
    "X_test"
   ]
  },
  {
   "cell_type": "code",
   "execution_count": 19,
   "id": "337a86d7-a4e5-4c97-83e2-312496dad76c",
   "metadata": {
    "execution": {
     "iopub.execute_input": "2025-06-03T15:24:31.324516Z",
     "iopub.status.busy": "2025-06-03T15:24:31.324041Z",
     "iopub.status.idle": "2025-06-03T15:24:31.328684Z",
     "shell.execute_reply": "2025-06-03T15:24:31.327834Z",
     "shell.execute_reply.started": "2025-06-03T15:24:31.324485Z"
    }
   },
   "outputs": [],
   "source": [
    "X_train = X_train.reshape(-1,28,28,3)\n",
    "X_test = X_test.reshape(-1,28,28,3)"
   ]
  },
  {
   "cell_type": "code",
   "execution_count": 20,
   "id": "c2a498e4-edda-4b1c-80e1-0ee936e11915",
   "metadata": {
    "execution": {
     "iopub.execute_input": "2025-06-03T15:24:31.329669Z",
     "iopub.status.busy": "2025-06-03T15:24:31.329432Z",
     "iopub.status.idle": "2025-06-03T15:24:31.339776Z",
     "shell.execute_reply": "2025-06-03T15:24:31.338905Z",
     "shell.execute_reply.started": "2025-06-03T15:24:31.329650Z"
    }
   },
   "outputs": [
    {
     "data": {
      "text/plain": [
       "(7010, 28, 28, 3)"
      ]
     },
     "execution_count": 20,
     "metadata": {},
     "output_type": "execute_result"
    }
   ],
   "source": [
    "X_train.shape"
   ]
  },
  {
   "cell_type": "code",
   "execution_count": 21,
   "id": "3484b8de-c4ab-4725-bae3-4eeea399487c",
   "metadata": {
    "execution": {
     "iopub.execute_input": "2025-06-03T15:24:31.340905Z",
     "iopub.status.busy": "2025-06-03T15:24:31.340715Z",
     "iopub.status.idle": "2025-06-03T15:24:31.351636Z",
     "shell.execute_reply": "2025-06-03T15:24:31.351044Z",
     "shell.execute_reply.started": "2025-06-03T15:24:31.340890Z"
    }
   },
   "outputs": [
    {
     "data": {
      "text/plain": [
       "(3005, 28, 28, 3)"
      ]
     },
     "execution_count": 21,
     "metadata": {},
     "output_type": "execute_result"
    }
   ],
   "source": [
    "X_test.shape"
   ]
  },
  {
   "cell_type": "code",
   "execution_count": 22,
   "id": "b7dcd3ef-0625-416a-a333-1779104adaa8",
   "metadata": {
    "execution": {
     "iopub.execute_input": "2025-06-03T15:24:31.352415Z",
     "iopub.status.busy": "2025-06-03T15:24:31.352237Z",
     "iopub.status.idle": "2025-06-03T15:24:31.359462Z",
     "shell.execute_reply": "2025-06-03T15:24:31.358860Z",
     "shell.execute_reply.started": "2025-06-03T15:24:31.352403Z"
    }
   },
   "outputs": [
    {
     "data": {
      "text/plain": [
       "2012    0.0\n",
       "601     2.0\n",
       "2602    6.0\n",
       "5297    1.0\n",
       "2384    6.0\n",
       "       ... \n",
       "828     4.0\n",
       "9764    4.0\n",
       "7926    4.0\n",
       "4301    2.0\n",
       "3743    4.0\n",
       "Name: label, Length: 7010, dtype: float64"
      ]
     },
     "execution_count": 22,
     "metadata": {},
     "output_type": "execute_result"
    }
   ],
   "source": [
    "y_train"
   ]
  },
  {
   "cell_type": "code",
   "execution_count": 23,
   "id": "5ab348c9-a565-46a1-9203-c6aac4f0c166",
   "metadata": {
    "execution": {
     "iopub.execute_input": "2025-06-03T15:24:31.360599Z",
     "iopub.status.busy": "2025-06-03T15:24:31.360077Z",
     "iopub.status.idle": "2025-06-03T15:24:31.364515Z",
     "shell.execute_reply": "2025-06-03T15:24:31.363089Z",
     "shell.execute_reply.started": "2025-06-03T15:24:31.360582Z"
    }
   },
   "outputs": [],
   "source": [
    "from keras.utils import to_categorical\n",
    "\n",
    "y_train_cat = to_categorical(y_train)\n",
    "y_test_cat = to_categorical(y_test)"
   ]
  },
  {
   "cell_type": "code",
   "execution_count": 24,
   "id": "a25b1347-befb-4982-bf39-a35a738ad4ec",
   "metadata": {
    "execution": {
     "iopub.execute_input": "2025-06-03T15:24:31.365294Z",
     "iopub.status.busy": "2025-06-03T15:24:31.365157Z",
     "iopub.status.idle": "2025-06-03T15:24:31.369420Z",
     "shell.execute_reply": "2025-06-03T15:24:31.368865Z",
     "shell.execute_reply.started": "2025-06-03T15:24:31.365283Z"
    }
   },
   "outputs": [
    {
     "data": {
      "text/plain": [
       "2012    0.0\n",
       "601     2.0\n",
       "2602    6.0\n",
       "5297    1.0\n",
       "2384    6.0\n",
       "       ... \n",
       "828     4.0\n",
       "9764    4.0\n",
       "7926    4.0\n",
       "4301    2.0\n",
       "3743    4.0\n",
       "Name: label, Length: 7010, dtype: float64"
      ]
     },
     "execution_count": 24,
     "metadata": {},
     "output_type": "execute_result"
    }
   ],
   "source": [
    "y_train"
   ]
  },
  {
   "cell_type": "code",
   "execution_count": 25,
   "id": "eb125f69-e415-4277-b194-a340025782ff",
   "metadata": {
    "execution": {
     "iopub.execute_input": "2025-06-03T15:24:31.370032Z",
     "iopub.status.busy": "2025-06-03T15:24:31.369859Z",
     "iopub.status.idle": "2025-06-03T15:24:31.373694Z",
     "shell.execute_reply": "2025-06-03T15:24:31.373120Z",
     "shell.execute_reply.started": "2025-06-03T15:24:31.370017Z"
    }
   },
   "outputs": [
    {
     "data": {
      "text/plain": [
       "array([[1., 0., 0., ..., 0., 0., 0.],\n",
       "       [0., 0., 1., ..., 0., 0., 0.],\n",
       "       [0., 0., 0., ..., 0., 0., 1.],\n",
       "       ...,\n",
       "       [0., 0., 0., ..., 1., 0., 0.],\n",
       "       [0., 0., 1., ..., 0., 0., 0.],\n",
       "       [0., 0., 0., ..., 1., 0., 0.]])"
      ]
     },
     "execution_count": 25,
     "metadata": {},
     "output_type": "execute_result"
    }
   ],
   "source": [
    "y_train_cat"
   ]
  },
  {
   "cell_type": "code",
   "execution_count": 26,
   "id": "861da9e0-8601-40a2-8b7f-23022b5eadd3",
   "metadata": {
    "execution": {
     "iopub.execute_input": "2025-06-03T15:24:31.374545Z",
     "iopub.status.busy": "2025-06-03T15:24:31.374399Z",
     "iopub.status.idle": "2025-06-03T15:24:31.378297Z",
     "shell.execute_reply": "2025-06-03T15:24:31.377834Z",
     "shell.execute_reply.started": "2025-06-03T15:24:31.374534Z"
    }
   },
   "outputs": [
    {
     "data": {
      "text/plain": [
       "(7010, 7)"
      ]
     },
     "execution_count": 26,
     "metadata": {},
     "output_type": "execute_result"
    }
   ],
   "source": [
    "y_train_cat.shape"
   ]
  },
  {
   "cell_type": "code",
   "execution_count": 27,
   "id": "1fcf3f9f-c9ff-49db-8acd-828b967741e2",
   "metadata": {
    "execution": {
     "iopub.execute_input": "2025-06-03T15:24:31.378889Z",
     "iopub.status.busy": "2025-06-03T15:24:31.378761Z",
     "iopub.status.idle": "2025-06-03T15:24:36.231183Z",
     "shell.execute_reply": "2025-06-03T15:24:36.230396Z",
     "shell.execute_reply.started": "2025-06-03T15:24:31.378878Z"
    }
   },
   "outputs": [
    {
     "name": "stderr",
     "output_type": "stream",
     "text": [
      "E0000 00:00:1748964276.147894  169599 cuda_executor.cc:1228] INTERNAL: CUDA Runtime error: Failed call to cudaGetRuntimeVersion: Error loading CUDA libraries. GPU will not be used.: Error loading CUDA libraries. GPU will not be used.\n",
      "W0000 00:00:1748964276.148330  169599 gpu_device.cc:2341] Cannot dlopen some GPU libraries. Please make sure the missing libraries mentioned above are installed properly if you would like to use GPU. Follow the guide at https://www.tensorflow.org/install/gpu for how to download and setup the required libraries for your platform.\n",
      "Skipping registering GPU devices...\n"
     ]
    }
   ],
   "source": [
    "model = Sequential()\n",
    "\n",
    "model.add(Input(shape=(28, 28, 3)))\n",
    "model.add(layers.Conv2D(16, (6, 6), padding='same', activation=\"relu\"))\n",
    "model.add(layers.Conv2D(32, (3, 3), padding='same', activation=\"relu\"))\n",
    "model.add(layers.Flatten())\n",
    "model.add(layers.Dense(20, activation='relu'))\n",
    "model.add(layers.Dense(7, activation='softmax'))"
   ]
  },
  {
   "cell_type": "code",
   "execution_count": 28,
   "id": "7c55919f-627c-48e1-b1cb-d5e539fed2b8",
   "metadata": {
    "execution": {
     "iopub.execute_input": "2025-06-03T15:24:36.232413Z",
     "iopub.status.busy": "2025-06-03T15:24:36.231914Z",
     "iopub.status.idle": "2025-06-03T15:24:36.256639Z",
     "shell.execute_reply": "2025-06-03T15:24:36.255803Z",
     "shell.execute_reply.started": "2025-06-03T15:24:36.232395Z"
    }
   },
   "outputs": [
    {
     "data": {
      "text/html": [
       "<pre style=\"white-space:pre;overflow-x:auto;line-height:normal;font-family:Menlo,'DejaVu Sans Mono',consolas,'Courier New',monospace\"><span style=\"font-weight: bold\">Model: \"sequential\"</span>\n",
       "</pre>\n"
      ],
      "text/plain": [
       "\u001b[1mModel: \"sequential\"\u001b[0m\n"
      ]
     },
     "metadata": {},
     "output_type": "display_data"
    },
    {
     "data": {
      "text/html": [
       "<pre style=\"white-space:pre;overflow-x:auto;line-height:normal;font-family:Menlo,'DejaVu Sans Mono',consolas,'Courier New',monospace\">┏━━━━━━━━━━━━━━━━━━━━━━━━━━━━━━━━━┳━━━━━━━━━━━━━━━━━━━━━━━━┳━━━━━━━━━━━━━━━┓\n",
       "┃<span style=\"font-weight: bold\"> Layer (type)                    </span>┃<span style=\"font-weight: bold\"> Output Shape           </span>┃<span style=\"font-weight: bold\">       Param # </span>┃\n",
       "┡━━━━━━━━━━━━━━━━━━━━━━━━━━━━━━━━━╇━━━━━━━━━━━━━━━━━━━━━━━━╇━━━━━━━━━━━━━━━┩\n",
       "│ conv2d (<span style=\"color: #0087ff; text-decoration-color: #0087ff\">Conv2D</span>)                 │ (<span style=\"color: #00d7ff; text-decoration-color: #00d7ff\">None</span>, <span style=\"color: #00af00; text-decoration-color: #00af00\">28</span>, <span style=\"color: #00af00; text-decoration-color: #00af00\">28</span>, <span style=\"color: #00af00; text-decoration-color: #00af00\">16</span>)     │         <span style=\"color: #00af00; text-decoration-color: #00af00\">1,744</span> │\n",
       "├─────────────────────────────────┼────────────────────────┼───────────────┤\n",
       "│ conv2d_1 (<span style=\"color: #0087ff; text-decoration-color: #0087ff\">Conv2D</span>)               │ (<span style=\"color: #00d7ff; text-decoration-color: #00d7ff\">None</span>, <span style=\"color: #00af00; text-decoration-color: #00af00\">28</span>, <span style=\"color: #00af00; text-decoration-color: #00af00\">28</span>, <span style=\"color: #00af00; text-decoration-color: #00af00\">32</span>)     │         <span style=\"color: #00af00; text-decoration-color: #00af00\">4,640</span> │\n",
       "├─────────────────────────────────┼────────────────────────┼───────────────┤\n",
       "│ flatten (<span style=\"color: #0087ff; text-decoration-color: #0087ff\">Flatten</span>)               │ (<span style=\"color: #00d7ff; text-decoration-color: #00d7ff\">None</span>, <span style=\"color: #00af00; text-decoration-color: #00af00\">25088</span>)          │             <span style=\"color: #00af00; text-decoration-color: #00af00\">0</span> │\n",
       "├─────────────────────────────────┼────────────────────────┼───────────────┤\n",
       "│ dense (<span style=\"color: #0087ff; text-decoration-color: #0087ff\">Dense</span>)                   │ (<span style=\"color: #00d7ff; text-decoration-color: #00d7ff\">None</span>, <span style=\"color: #00af00; text-decoration-color: #00af00\">20</span>)             │       <span style=\"color: #00af00; text-decoration-color: #00af00\">501,780</span> │\n",
       "├─────────────────────────────────┼────────────────────────┼───────────────┤\n",
       "│ dense_1 (<span style=\"color: #0087ff; text-decoration-color: #0087ff\">Dense</span>)                 │ (<span style=\"color: #00d7ff; text-decoration-color: #00d7ff\">None</span>, <span style=\"color: #00af00; text-decoration-color: #00af00\">7</span>)              │           <span style=\"color: #00af00; text-decoration-color: #00af00\">147</span> │\n",
       "└─────────────────────────────────┴────────────────────────┴───────────────┘\n",
       "</pre>\n"
      ],
      "text/plain": [
       "┏━━━━━━━━━━━━━━━━━━━━━━━━━━━━━━━━━┳━━━━━━━━━━━━━━━━━━━━━━━━┳━━━━━━━━━━━━━━━┓\n",
       "┃\u001b[1m \u001b[0m\u001b[1mLayer (type)                   \u001b[0m\u001b[1m \u001b[0m┃\u001b[1m \u001b[0m\u001b[1mOutput Shape          \u001b[0m\u001b[1m \u001b[0m┃\u001b[1m \u001b[0m\u001b[1m      Param #\u001b[0m\u001b[1m \u001b[0m┃\n",
       "┡━━━━━━━━━━━━━━━━━━━━━━━━━━━━━━━━━╇━━━━━━━━━━━━━━━━━━━━━━━━╇━━━━━━━━━━━━━━━┩\n",
       "│ conv2d (\u001b[38;5;33mConv2D\u001b[0m)                 │ (\u001b[38;5;45mNone\u001b[0m, \u001b[38;5;34m28\u001b[0m, \u001b[38;5;34m28\u001b[0m, \u001b[38;5;34m16\u001b[0m)     │         \u001b[38;5;34m1,744\u001b[0m │\n",
       "├─────────────────────────────────┼────────────────────────┼───────────────┤\n",
       "│ conv2d_1 (\u001b[38;5;33mConv2D\u001b[0m)               │ (\u001b[38;5;45mNone\u001b[0m, \u001b[38;5;34m28\u001b[0m, \u001b[38;5;34m28\u001b[0m, \u001b[38;5;34m32\u001b[0m)     │         \u001b[38;5;34m4,640\u001b[0m │\n",
       "├─────────────────────────────────┼────────────────────────┼───────────────┤\n",
       "│ flatten (\u001b[38;5;33mFlatten\u001b[0m)               │ (\u001b[38;5;45mNone\u001b[0m, \u001b[38;5;34m25088\u001b[0m)          │             \u001b[38;5;34m0\u001b[0m │\n",
       "├─────────────────────────────────┼────────────────────────┼───────────────┤\n",
       "│ dense (\u001b[38;5;33mDense\u001b[0m)                   │ (\u001b[38;5;45mNone\u001b[0m, \u001b[38;5;34m20\u001b[0m)             │       \u001b[38;5;34m501,780\u001b[0m │\n",
       "├─────────────────────────────────┼────────────────────────┼───────────────┤\n",
       "│ dense_1 (\u001b[38;5;33mDense\u001b[0m)                 │ (\u001b[38;5;45mNone\u001b[0m, \u001b[38;5;34m7\u001b[0m)              │           \u001b[38;5;34m147\u001b[0m │\n",
       "└─────────────────────────────────┴────────────────────────┴───────────────┘\n"
      ]
     },
     "metadata": {},
     "output_type": "display_data"
    },
    {
     "data": {
      "text/html": [
       "<pre style=\"white-space:pre;overflow-x:auto;line-height:normal;font-family:Menlo,'DejaVu Sans Mono',consolas,'Courier New',monospace\"><span style=\"font-weight: bold\"> Total params: </span><span style=\"color: #00af00; text-decoration-color: #00af00\">508,311</span> (1.94 MB)\n",
       "</pre>\n"
      ],
      "text/plain": [
       "\u001b[1m Total params: \u001b[0m\u001b[38;5;34m508,311\u001b[0m (1.94 MB)\n"
      ]
     },
     "metadata": {},
     "output_type": "display_data"
    },
    {
     "data": {
      "text/html": [
       "<pre style=\"white-space:pre;overflow-x:auto;line-height:normal;font-family:Menlo,'DejaVu Sans Mono',consolas,'Courier New',monospace\"><span style=\"font-weight: bold\"> Trainable params: </span><span style=\"color: #00af00; text-decoration-color: #00af00\">508,311</span> (1.94 MB)\n",
       "</pre>\n"
      ],
      "text/plain": [
       "\u001b[1m Trainable params: \u001b[0m\u001b[38;5;34m508,311\u001b[0m (1.94 MB)\n"
      ]
     },
     "metadata": {},
     "output_type": "display_data"
    },
    {
     "data": {
      "text/html": [
       "<pre style=\"white-space:pre;overflow-x:auto;line-height:normal;font-family:Menlo,'DejaVu Sans Mono',consolas,'Courier New',monospace\"><span style=\"font-weight: bold\"> Non-trainable params: </span><span style=\"color: #00af00; text-decoration-color: #00af00\">0</span> (0.00 B)\n",
       "</pre>\n"
      ],
      "text/plain": [
       "\u001b[1m Non-trainable params: \u001b[0m\u001b[38;5;34m0\u001b[0m (0.00 B)\n"
      ]
     },
     "metadata": {},
     "output_type": "display_data"
    }
   ],
   "source": [
    "model.summary()"
   ]
  },
  {
   "cell_type": "code",
   "execution_count": 29,
   "id": "67b3cb5b-51ea-4c30-8ef1-cc6ac8fa76a9",
   "metadata": {
    "execution": {
     "iopub.execute_input": "2025-06-03T15:24:36.261255Z",
     "iopub.status.busy": "2025-06-03T15:24:36.260829Z",
     "iopub.status.idle": "2025-06-03T15:24:36.295509Z",
     "shell.execute_reply": "2025-06-03T15:24:36.294375Z",
     "shell.execute_reply.started": "2025-06-03T15:24:36.261226Z"
    }
   },
   "outputs": [],
   "source": [
    "model.compile(loss='categorical_crossentropy',\n",
    "              optimizer='adam',\n",
    "              metrics=[\"accuracy\",\"recall\"])"
   ]
  },
  {
   "cell_type": "code",
   "execution_count": 30,
   "id": "7dd201ec-73df-4126-8120-1e5ca1104e0e",
   "metadata": {
    "execution": {
     "iopub.execute_input": "2025-06-03T15:24:36.297182Z",
     "iopub.status.busy": "2025-06-03T15:24:36.296693Z",
     "iopub.status.idle": "2025-06-03T15:24:36.318650Z",
     "shell.execute_reply": "2025-06-03T15:24:36.317905Z",
     "shell.execute_reply.started": "2025-06-03T15:24:36.297145Z"
    }
   },
   "outputs": [],
   "source": [
    "es = EarlyStopping(patience=10, restore_best_weights=True)"
   ]
  },
  {
   "cell_type": "code",
   "execution_count": 31,
   "id": "953cfd15-85fb-476e-a6d7-93c94c2a07b8",
   "metadata": {
    "execution": {
     "iopub.execute_input": "2025-06-03T15:24:36.319472Z",
     "iopub.status.busy": "2025-06-03T15:24:36.319319Z",
     "iopub.status.idle": "2025-06-03T15:25:12.725252Z",
     "shell.execute_reply": "2025-06-03T15:25:12.724389Z",
     "shell.execute_reply.started": "2025-06-03T15:24:36.319461Z"
    },
    "scrolled": true
   },
   "outputs": [
    {
     "name": "stdout",
     "output_type": "stream",
     "text": [
      "Epoch 1/100\n",
      "176/176 - 3s - 16ms/step - accuracy: 0.6699 - loss: 1.0314 - recall: 0.5562 - val_accuracy: 0.6762 - val_loss: 1.0593 - val_recall: 0.6427\n",
      "Epoch 2/100\n",
      "176/176 - 1s - 8ms/step - accuracy: 0.6799 - loss: 0.9379 - recall: 0.5644 - val_accuracy: 0.6805 - val_loss: 0.9664 - val_recall: 0.5143\n",
      "Epoch 3/100\n",
      "176/176 - 1s - 7ms/step - accuracy: 0.6849 - loss: 0.8934 - recall: 0.5811 - val_accuracy: 0.6712 - val_loss: 0.9246 - val_recall: 0.6006\n",
      "Epoch 4/100\n",
      "176/176 - 3s - 15ms/step - accuracy: 0.6904 - loss: 0.8595 - recall: 0.5913 - val_accuracy: 0.6954 - val_loss: 0.9167 - val_recall: 0.5756\n",
      "Epoch 5/100\n",
      "176/176 - 1s - 8ms/step - accuracy: 0.6979 - loss: 0.8375 - recall: 0.5940 - val_accuracy: 0.6805 - val_loss: 0.8848 - val_recall: 0.6148\n",
      "Epoch 6/100\n",
      "176/176 - 1s - 7ms/step - accuracy: 0.6942 - loss: 0.8383 - recall: 0.5931 - val_accuracy: 0.6833 - val_loss: 0.8747 - val_recall: 0.6070\n",
      "Epoch 7/100\n",
      "176/176 - 1s - 7ms/step - accuracy: 0.7126 - loss: 0.7860 - recall: 0.6164 - val_accuracy: 0.7047 - val_loss: 0.8713 - val_recall: 0.5920\n",
      "Epoch 8/100\n",
      "176/176 - 1s - 7ms/step - accuracy: 0.7156 - loss: 0.7794 - recall: 0.6141 - val_accuracy: 0.7011 - val_loss: 0.9265 - val_recall: 0.6398\n",
      "Epoch 9/100\n",
      "176/176 - 1s - 7ms/step - accuracy: 0.7277 - loss: 0.7483 - recall: 0.6286 - val_accuracy: 0.7004 - val_loss: 0.8738 - val_recall: 0.6312\n",
      "Epoch 10/100\n",
      "176/176 - 1s - 7ms/step - accuracy: 0.7356 - loss: 0.7338 - recall: 0.6391 - val_accuracy: 0.7111 - val_loss: 0.8565 - val_recall: 0.6284\n",
      "Epoch 11/100\n",
      "176/176 - 1s - 8ms/step - accuracy: 0.7493 - loss: 0.6934 - recall: 0.6505 - val_accuracy: 0.7061 - val_loss: 0.9511 - val_recall: 0.6690\n",
      "Epoch 12/100\n",
      "176/176 - 1s - 7ms/step - accuracy: 0.7495 - loss: 0.6832 - recall: 0.6571 - val_accuracy: 0.7147 - val_loss: 0.8957 - val_recall: 0.6391\n",
      "Epoch 13/100\n",
      "176/176 - 1s - 7ms/step - accuracy: 0.7643 - loss: 0.6567 - recall: 0.6742 - val_accuracy: 0.7061 - val_loss: 0.8546 - val_recall: 0.6476\n",
      "Epoch 14/100\n",
      "176/176 - 1s - 8ms/step - accuracy: 0.7739 - loss: 0.6390 - recall: 0.6860 - val_accuracy: 0.7033 - val_loss: 0.8980 - val_recall: 0.6583\n",
      "Epoch 15/100\n",
      "176/176 - 1s - 7ms/step - accuracy: 0.7830 - loss: 0.6095 - recall: 0.7061 - val_accuracy: 0.6940 - val_loss: 0.9436 - val_recall: 0.6384\n",
      "Epoch 16/100\n",
      "176/176 - 1s - 7ms/step - accuracy: 0.7858 - loss: 0.5890 - recall: 0.7192 - val_accuracy: 0.7161 - val_loss: 0.8759 - val_recall: 0.6669\n",
      "Epoch 17/100\n",
      "176/176 - 1s - 7ms/step - accuracy: 0.8006 - loss: 0.5541 - recall: 0.7382 - val_accuracy: 0.7133 - val_loss: 0.8874 - val_recall: 0.6783\n",
      "Epoch 18/100\n",
      "176/176 - 1s - 8ms/step - accuracy: 0.8126 - loss: 0.5259 - recall: 0.7545 - val_accuracy: 0.6997 - val_loss: 0.9343 - val_recall: 0.6491\n",
      "Epoch 19/100\n",
      "176/176 - 1s - 8ms/step - accuracy: 0.8146 - loss: 0.5200 - recall: 0.7552 - val_accuracy: 0.7133 - val_loss: 0.8579 - val_recall: 0.6641\n",
      "Epoch 20/100\n",
      "176/176 - 1s - 8ms/step - accuracy: 0.8270 - loss: 0.4828 - recall: 0.7796 - val_accuracy: 0.7154 - val_loss: 0.9089 - val_recall: 0.6769\n",
      "Epoch 21/100\n",
      "176/176 - 4s - 24ms/step - accuracy: 0.8333 - loss: 0.4575 - recall: 0.7910 - val_accuracy: 0.6940 - val_loss: 0.8853 - val_recall: 0.6305\n",
      "Epoch 22/100\n",
      "176/176 - 1s - 7ms/step - accuracy: 0.8420 - loss: 0.4329 - recall: 0.8012 - val_accuracy: 0.7011 - val_loss: 0.9453 - val_recall: 0.6605\n",
      "Epoch 23/100\n",
      "176/176 - 1s - 7ms/step - accuracy: 0.8395 - loss: 0.4360 - recall: 0.8046 - val_accuracy: 0.6997 - val_loss: 0.9774 - val_recall: 0.6598\n"
     ]
    }
   ],
   "source": [
    "history = model.fit(X_train, y_train_cat,\n",
    "          epochs=100,  # Use early stopping in practice\n",
    "          batch_size=32,\n",
    "          verbose=2,\n",
    "          validation_split = 0.2,\n",
    "          callbacks=[es])"
   ]
  },
  {
   "cell_type": "code",
   "execution_count": 32,
   "id": "335f5d24-f8ce-43d3-82bb-759ab8f9edd0",
   "metadata": {
    "execution": {
     "iopub.execute_input": "2025-06-03T15:25:12.726441Z",
     "iopub.status.busy": "2025-06-03T15:25:12.726064Z",
     "iopub.status.idle": "2025-06-03T15:25:12.734783Z",
     "shell.execute_reply": "2025-06-03T15:25:12.732022Z",
     "shell.execute_reply.started": "2025-06-03T15:25:12.726427Z"
    },
    "jupyter": {
     "source_hidden": true
    }
   },
   "outputs": [],
   "source": [
    "def plot_loss_accuracy(history, title=None):\n",
    "    fig, ax = plt.subplots(1,2, figsize=(20,7))\n",
    "\n",
    "    # --- LOSS ---\n",
    "\n",
    "    ax[0].plot(history.history['loss'])\n",
    "    ax[0].plot(history.history['val_loss'])\n",
    "    ax[0].set_title('Model loss')\n",
    "    ax[0].set_ylabel('Loss')\n",
    "    ax[0].set_xlabel('Epoch')\n",
    "    ax[0].set_ylim((0,3))\n",
    "    ax[0].legend(['Train', 'Test'], loc='best')\n",
    "    ax[0].grid(axis=\"x\",linewidth=0.5)\n",
    "    ax[0].grid(axis=\"y\",linewidth=0.5)\n",
    "\n",
    "    # --- ACCURACY\n",
    "\n",
    "    ax[1].plot(history.history['accuracy'])\n",
    "    ax[1].plot(history.history['val_accuracy'])\n",
    "    ax[1].set_title('Model Accuracy')\n",
    "    ax[1].set_ylabel('Accuracy')\n",
    "    ax[1].set_xlabel('Epoch')\n",
    "    ax[1].legend(['Train', 'Test'], loc='best')\n",
    "    ax[1].set_ylim((0,1))\n",
    "    ax[1].grid(axis=\"x\",linewidth=0.5)\n",
    "    ax[1].grid(axis=\"y\",linewidth=0.5)\n",
    "\n",
    "    if title:\n",
    "        fig.suptitle(title)"
   ]
  },
  {
   "cell_type": "code",
   "execution_count": 33,
   "id": "74aa475a-4f89-401c-a3be-9e1ac9f9c98b",
   "metadata": {
    "execution": {
     "iopub.execute_input": "2025-06-03T15:25:12.739114Z",
     "iopub.status.busy": "2025-06-03T15:25:12.737552Z",
     "iopub.status.idle": "2025-06-03T15:25:12.989906Z",
     "shell.execute_reply": "2025-06-03T15:25:12.988908Z",
     "shell.execute_reply.started": "2025-06-03T15:25:12.739085Z"
    }
   },
   "outputs": [
    {
     "data": {
      "image/png": "[encoded data removed]",
      "text/plain": [
       "<Figure size 2000x700 with 2 Axes>"
      ]
     },
     "metadata": {},
     "output_type": "display_data"
    }
   ],
   "source": [
    "plot_loss_accuracy(history)"
   ]
  },
  {
   "cell_type": "code",
   "execution_count": 34,
   "id": "c575286d-882a-4728-b276-9c3ad3c7eaa6",
   "metadata": {
    "execution": {
     "iopub.execute_input": "2025-06-03T15:25:12.991270Z",
     "iopub.status.busy": "2025-06-03T15:25:12.990685Z",
     "iopub.status.idle": "2025-06-03T15:25:13.060377Z",
     "shell.execute_reply": "2025-06-03T15:25:13.059699Z",
     "shell.execute_reply.started": "2025-06-03T15:25:12.991251Z"
    }
   },
   "outputs": [
    {
     "data": {
      "image/png": "[encoded data removed]",
      "text/plain": [
       "<Figure size 640x480 with 1 Axes>"
      ]
     },
     "metadata": {},
     "output_type": "display_data"
    }
   ],
   "source": [
    "plt.plot(history.history['accuracy'], label='train acc')\n",
    "plt.plot(history.history['val_accuracy'], label='val acc')\n",
    "plt.legend()\n",
    "plt.show()"
   ]
  },
  {
   "cell_type": "code",
   "execution_count": 41,
   "id": "a920b65d-1580-491d-a92f-a15c677387a6",
   "metadata": {
    "execution": {
     "iopub.execute_input": "2025-06-03T16:05:19.561145Z",
     "iopub.status.busy": "2025-06-03T16:05:19.560460Z",
     "iopub.status.idle": "2025-06-03T16:05:19.567748Z",
     "shell.execute_reply": "2025-06-03T16:05:19.566605Z",
     "shell.execute_reply.started": "2025-06-03T16:05:19.561111Z"
    }
   },
   "outputs": [
    {
     "data": {
      "text/plain": [
       "np.float64(0.7161198258399963)"
      ]
     },
     "execution_count": 41,
     "metadata": {},
     "output_type": "execute_result"
    }
   ],
   "source": [
    "np.max(history.history[\"val_accuracy\"])"
   ]
  },
  {
   "cell_type": "code",
   "execution_count": 36,
   "id": "bb968aa7-55cf-467d-82c5-6cc5e54d3de1",
   "metadata": {
    "execution": {
     "iopub.execute_input": "2025-06-03T15:25:13.066109Z",
     "iopub.status.busy": "2025-06-03T15:25:13.065892Z",
     "iopub.status.idle": "2025-06-03T15:25:13.531811Z",
     "shell.execute_reply": "2025-06-03T15:25:13.531045Z",
     "shell.execute_reply.started": "2025-06-03T15:25:13.066094Z"
    }
   },
   "outputs": [
    {
     "name": "stdout",
     "output_type": "stream",
     "text": [
      "\u001b[1m94/94\u001b[0m \u001b[32m━━━━━━━━━━━━━━━━━━━━\u001b[0m\u001b[37m\u001b[0m \u001b[1m0s\u001b[0m 4ms/step - accuracy: 0.7108 - loss: 0.8305 - recall: 0.6430\n"
     ]
    },
    {
     "data": {
      "text/plain": [
       "[0.8280095458030701, 0.7064892053604126, 0.6459234356880188]"
      ]
     },
     "execution_count": 36,
     "metadata": {},
     "output_type": "execute_result"
    }
   ],
   "source": [
    "model.evaluate(X_test,y_test_cat)"
   ]
  },
  {
   "cell_type": "code",
   "execution_count": 37,
   "id": "79b26f74-3f89-4f44-8823-782773f98ba4",
   "metadata": {
    "execution": {
     "iopub.execute_input": "2025-06-03T15:25:13.533349Z",
     "iopub.status.busy": "2025-06-03T15:25:13.532358Z",
     "iopub.status.idle": "2025-06-03T15:25:13.538453Z",
     "shell.execute_reply": "2025-06-03T15:25:13.537920Z",
     "shell.execute_reply.started": "2025-06-03T15:25:13.533331Z"
    }
   },
   "outputs": [
    {
     "data": {
      "text/plain": [
       "['loss', 'compile_metrics']"
      ]
     },
     "execution_count": 37,
     "metadata": {},
     "output_type": "execute_result"
    }
   ],
   "source": [
    "model.metrics_names"
   ]
  },
  {
   "cell_type": "code",
   "execution_count": 38,
   "id": "8551f744-1430-4706-a32f-563b97ebab3e",
   "metadata": {
    "execution": {
     "iopub.execute_input": "2025-06-03T15:25:13.538954Z",
     "iopub.status.busy": "2025-06-03T15:25:13.538803Z",
     "iopub.status.idle": "2025-06-03T15:25:13.556111Z",
     "shell.execute_reply": "2025-06-03T15:25:13.555536Z",
     "shell.execute_reply.started": "2025-06-03T15:25:13.538942Z"
    },
    "scrolled": true
   },
   "outputs": [
    {
     "data": {
      "text/html": [
       "<div>\n",
       "<style scoped>\n",
       "    .dataframe tbody tr th:only-of-type {\n",
       "        vertical-align: middle;\n",
       "    }\n",
       "\n",
       "    .dataframe tbody tr th {\n",
       "        vertical-align: top;\n",
       "    }\n",
       "\n",
       "    .dataframe thead th {\n",
       "        text-align: right;\n",
       "    }\n",
       "</style>\n",
       "<table border=\"1\" class=\"dataframe\">\n",
       "  <thead>\n",
       "    <tr style=\"text-align: right;\">\n",
       "      <th></th>\n",
       "      <th>accuracy</th>\n",
       "      <th>loss</th>\n",
       "      <th>recall</th>\n",
       "      <th>val_accuracy</th>\n",
       "      <th>val_loss</th>\n",
       "      <th>val_recall</th>\n",
       "    </tr>\n",
       "  </thead>\n",
       "  <tbody>\n",
       "    <tr>\n",
       "      <th>0</th>\n",
       "      <td>0.669936</td>\n",
       "      <td>1.031449</td>\n",
       "      <td>0.556170</td>\n",
       "      <td>0.676177</td>\n",
       "      <td>1.059337</td>\n",
       "      <td>0.642653</td>\n",
       "    </tr>\n",
       "    <tr>\n",
       "      <th>1</th>\n",
       "      <td>0.679922</td>\n",
       "      <td>0.937934</td>\n",
       "      <td>0.564372</td>\n",
       "      <td>0.680457</td>\n",
       "      <td>0.966420</td>\n",
       "      <td>0.514265</td>\n",
       "    </tr>\n",
       "    <tr>\n",
       "      <th>2</th>\n",
       "      <td>0.684914</td>\n",
       "      <td>0.893391</td>\n",
       "      <td>0.581134</td>\n",
       "      <td>0.671184</td>\n",
       "      <td>0.924577</td>\n",
       "      <td>0.600571</td>\n",
       "    </tr>\n",
       "    <tr>\n",
       "      <th>3</th>\n",
       "      <td>0.690442</td>\n",
       "      <td>0.859458</td>\n",
       "      <td>0.591298</td>\n",
       "      <td>0.695435</td>\n",
       "      <td>0.916743</td>\n",
       "      <td>0.575606</td>\n",
       "    </tr>\n",
       "    <tr>\n",
       "      <th>4</th>\n",
       "      <td>0.697932</td>\n",
       "      <td>0.837533</td>\n",
       "      <td>0.593973</td>\n",
       "      <td>0.680457</td>\n",
       "      <td>0.884780</td>\n",
       "      <td>0.614836</td>\n",
       "    </tr>\n",
       "    <tr>\n",
       "      <th>5</th>\n",
       "      <td>0.694187</td>\n",
       "      <td>0.838261</td>\n",
       "      <td>0.593081</td>\n",
       "      <td>0.683310</td>\n",
       "      <td>0.874676</td>\n",
       "      <td>0.606990</td>\n",
       "    </tr>\n",
       "    <tr>\n",
       "      <th>6</th>\n",
       "      <td>0.712554</td>\n",
       "      <td>0.786030</td>\n",
       "      <td>0.616441</td>\n",
       "      <td>0.704708</td>\n",
       "      <td>0.871288</td>\n",
       "      <td>0.592011</td>\n",
       "    </tr>\n",
       "    <tr>\n",
       "      <th>7</th>\n",
       "      <td>0.715585</td>\n",
       "      <td>0.779386</td>\n",
       "      <td>0.614123</td>\n",
       "      <td>0.701141</td>\n",
       "      <td>0.926522</td>\n",
       "      <td>0.639800</td>\n",
       "    </tr>\n",
       "    <tr>\n",
       "      <th>8</th>\n",
       "      <td>0.727710</td>\n",
       "      <td>0.748348</td>\n",
       "      <td>0.628566</td>\n",
       "      <td>0.700428</td>\n",
       "      <td>0.873825</td>\n",
       "      <td>0.631241</td>\n",
       "    </tr>\n",
       "    <tr>\n",
       "      <th>9</th>\n",
       "      <td>0.735556</td>\n",
       "      <td>0.733790</td>\n",
       "      <td>0.639087</td>\n",
       "      <td>0.711127</td>\n",
       "      <td>0.856503</td>\n",
       "      <td>0.628388</td>\n",
       "    </tr>\n",
       "    <tr>\n",
       "      <th>10</th>\n",
       "      <td>0.749287</td>\n",
       "      <td>0.693357</td>\n",
       "      <td>0.650499</td>\n",
       "      <td>0.706134</td>\n",
       "      <td>0.951054</td>\n",
       "      <td>0.669044</td>\n",
       "    </tr>\n",
       "    <tr>\n",
       "      <th>11</th>\n",
       "      <td>0.749465</td>\n",
       "      <td>0.683247</td>\n",
       "      <td>0.657097</td>\n",
       "      <td>0.714693</td>\n",
       "      <td>0.895742</td>\n",
       "      <td>0.639087</td>\n",
       "    </tr>\n",
       "    <tr>\n",
       "      <th>12</th>\n",
       "      <td>0.764265</td>\n",
       "      <td>0.656700</td>\n",
       "      <td>0.674215</td>\n",
       "      <td>0.706134</td>\n",
       "      <td>0.854618</td>\n",
       "      <td>0.647646</td>\n",
       "    </tr>\n",
       "    <tr>\n",
       "      <th>13</th>\n",
       "      <td>0.773894</td>\n",
       "      <td>0.638978</td>\n",
       "      <td>0.685984</td>\n",
       "      <td>0.703281</td>\n",
       "      <td>0.897963</td>\n",
       "      <td>0.658345</td>\n",
       "    </tr>\n",
       "    <tr>\n",
       "      <th>14</th>\n",
       "      <td>0.782989</td>\n",
       "      <td>0.609464</td>\n",
       "      <td>0.706134</td>\n",
       "      <td>0.694009</td>\n",
       "      <td>0.943574</td>\n",
       "      <td>0.638374</td>\n",
       "    </tr>\n",
       "    <tr>\n",
       "      <th>15</th>\n",
       "      <td>0.785842</td>\n",
       "      <td>0.589037</td>\n",
       "      <td>0.719151</td>\n",
       "      <td>0.716120</td>\n",
       "      <td>0.875878</td>\n",
       "      <td>0.666904</td>\n",
       "    </tr>\n",
       "    <tr>\n",
       "      <th>16</th>\n",
       "      <td>0.800642</td>\n",
       "      <td>0.554131</td>\n",
       "      <td>0.738231</td>\n",
       "      <td>0.713267</td>\n",
       "      <td>0.887356</td>\n",
       "      <td>0.678317</td>\n",
       "    </tr>\n",
       "    <tr>\n",
       "      <th>17</th>\n",
       "      <td>0.812589</td>\n",
       "      <td>0.525898</td>\n",
       "      <td>0.754458</td>\n",
       "      <td>0.699715</td>\n",
       "      <td>0.934259</td>\n",
       "      <td>0.649073</td>\n",
       "    </tr>\n",
       "    <tr>\n",
       "      <th>18</th>\n",
       "      <td>0.814551</td>\n",
       "      <td>0.519987</td>\n",
       "      <td>0.755171</td>\n",
       "      <td>0.713267</td>\n",
       "      <td>0.857891</td>\n",
       "      <td>0.664051</td>\n",
       "    </tr>\n",
       "    <tr>\n",
       "      <th>19</th>\n",
       "      <td>0.827033</td>\n",
       "      <td>0.482778</td>\n",
       "      <td>0.779601</td>\n",
       "      <td>0.715407</td>\n",
       "      <td>0.908894</td>\n",
       "      <td>0.676890</td>\n",
       "    </tr>\n",
       "    <tr>\n",
       "      <th>20</th>\n",
       "      <td>0.833274</td>\n",
       "      <td>0.457453</td>\n",
       "      <td>0.791013</td>\n",
       "      <td>0.694009</td>\n",
       "      <td>0.885263</td>\n",
       "      <td>0.630528</td>\n",
       "    </tr>\n",
       "    <tr>\n",
       "      <th>21</th>\n",
       "      <td>0.842011</td>\n",
       "      <td>0.432868</td>\n",
       "      <td>0.801177</td>\n",
       "      <td>0.701141</td>\n",
       "      <td>0.945296</td>\n",
       "      <td>0.660485</td>\n",
       "    </tr>\n",
       "    <tr>\n",
       "      <th>22</th>\n",
       "      <td>0.839515</td>\n",
       "      <td>0.435999</td>\n",
       "      <td>0.804565</td>\n",
       "      <td>0.699715</td>\n",
       "      <td>0.977380</td>\n",
       "      <td>0.659772</td>\n",
       "    </tr>\n",
       "  </tbody>\n",
       "</table>\n",
       "</div>"
      ],
      "text/plain": [
       "    accuracy      loss    recall  val_accuracy  val_loss  val_recall\n",
       "0   0.669936  1.031449  0.556170      0.676177  1.059337    0.642653\n",
       "1   0.679922  0.937934  0.564372      0.680457  0.966420    0.514265\n",
       "2   0.684914  0.893391  0.581134      0.671184  0.924577    0.600571\n",
       "3   0.690442  0.859458  0.591298      0.695435  0.916743    0.575606\n",
       "4   0.697932  0.837533  0.593973      0.680457  0.884780    0.614836\n",
       "5   0.694187  0.838261  0.593081      0.683310  0.874676    0.606990\n",
       "6   0.712554  0.786030  0.616441      0.704708  0.871288    0.592011\n",
       "7   0.715585  0.779386  0.614123      0.701141  0.926522    0.639800\n",
       "8   0.727710  0.748348  0.628566      0.700428  0.873825    0.631241\n",
       "9   0.735556  0.733790  0.639087      0.711127  0.856503    0.628388\n",
       "10  0.749287  0.693357  0.650499      0.706134  0.951054    0.669044\n",
       "11  0.749465  0.683247  0.657097      0.714693  0.895742    0.639087\n",
       "12  0.764265  0.656700  0.674215      0.706134  0.854618    0.647646\n",
       "13  0.773894  0.638978  0.685984      0.703281  0.897963    0.658345\n",
       "14  0.782989  0.609464  0.706134      0.694009  0.943574    0.638374\n",
       "15  0.785842  0.589037  0.719151      0.716120  0.875878    0.666904\n",
       "16  0.800642  0.554131  0.738231      0.713267  0.887356    0.678317\n",
       "17  0.812589  0.525898  0.754458      0.699715  0.934259    0.649073\n",
       "18  0.814551  0.519987  0.755171      0.713267  0.857891    0.664051\n",
       "19  0.827033  0.482778  0.779601      0.715407  0.908894    0.676890\n",
       "20  0.833274  0.457453  0.791013      0.694009  0.885263    0.630528\n",
       "21  0.842011  0.432868  0.801177      0.701141  0.945296    0.660485\n",
       "22  0.839515  0.435999  0.804565      0.699715  0.977380    0.659772"
      ]
     },
     "execution_count": 38,
     "metadata": {},
     "output_type": "execute_result"
    }
   ],
   "source": [
    "pd.DataFrame(history.history)"
   ]
  },
  {
   "cell_type": "code",
   "execution_count": null,
   "id": "60ecf605-96e6-4e6b-b455-5e7bf1693f3c",
   "metadata": {},
   "outputs": [],
   "source": []
  }
 ],
 "metadata": {
  "kernelspec": {
   "display_name": "Python 3 (ipykernel)",
   "language": "python",
   "name": "python3"
  },
  "language_info": {
   "codemirror_mode": {
    "name": "ipython",
    "version": 3
   },
   "file_extension": ".py",
   "mimetype": "text/x-python",
   "name": "python",
   "nbconvert_exporter": "python",
   "pygments_lexer": "ipython3",
   "version": "3.12.9"
  }
 },
 "nbformat": 4,
 "nbformat_minor": 5
}

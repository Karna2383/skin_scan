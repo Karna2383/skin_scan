{
 "cells": [
  {
   "cell_type": "code",
   "execution_count": 12,
   "id": "94a40f4c-b60d-4fd4-b7dd-fa1136357d8e",
   "metadata": {
    "execution": {
     "iopub.execute_input": "2025-06-04T16:23:12.269478Z",
     "iopub.status.busy": "2025-06-04T16:23:12.268473Z",
     "iopub.status.idle": "2025-06-04T16:23:15.149519Z",
     "shell.execute_reply": "2025-06-04T16:23:15.147415Z",
     "shell.execute_reply.started": "2025-06-04T16:23:12.269435Z"
    }
   },
   "outputs": [
    {
     "name": "stdout",
     "output_type": "stream",
     "text": [
      "Requirement already satisfied: openai in /home/vedutla/.pyenv/versions/3.12.9/envs/skin_scan_env/lib/python3.12/site-packages (1.84.0)\n",
      "Requirement already satisfied: langchain==0.3.8 in /home/vedutla/.pyenv/versions/3.12.9/envs/skin_scan_env/lib/python3.12/site-packages (0.3.8)\n",
      "Requirement already satisfied: langchain-openai==0.2.9 in /home/vedutla/.pyenv/versions/3.12.9/envs/skin_scan_env/lib/python3.12/site-packages (0.2.9)\n",
      "Requirement already satisfied: langchain-community==0.3.8 in /home/vedutla/.pyenv/versions/3.12.9/envs/skin_scan_env/lib/python3.12/site-packages (0.3.8)\n",
      "Requirement already satisfied: pypdf==5.1.0 in /home/vedutla/.pyenv/versions/3.12.9/envs/skin_scan_env/lib/python3.12/site-packages (5.1.0)\n",
      "Requirement already satisfied: chromadb==0.5.20 in /home/vedutla/.pyenv/versions/3.12.9/envs/skin_scan_env/lib/python3.12/site-packages (0.5.20)\n",
      "Requirement already satisfied: tiktoken==0.8.0 in /home/vedutla/.pyenv/versions/3.12.9/envs/skin_scan_env/lib/python3.12/site-packages (0.8.0)\n",
      "Requirement already satisfied: huggingface-hub==0.26.2 in /home/vedutla/.pyenv/versions/3.12.9/envs/skin_scan_env/lib/python3.12/site-packages (from huggingface-hub[hf_transfer]==0.26.2) (0.26.2)\n",
      "Requirement already satisfied: ctransformers==0.2.27 in /home/vedutla/.pyenv/versions/3.12.9/envs/skin_scan_env/lib/python3.12/site-packages (from ctransformers[cuda]==0.2.27) (0.2.27)\n",
      "Requirement already satisfied: diffusers==0.31.0 in /home/vedutla/.pyenv/versions/3.12.9/envs/skin_scan_env/lib/python3.12/site-packages (0.31.0)\n",
      "Requirement already satisfied: llama-cpp-python==0.3.2 in /home/vedutla/.pyenv/versions/3.12.9/envs/skin_scan_env/lib/python3.12/site-packages (0.3.2)\n",
      "Requirement already satisfied: protobuf<5.0.0 in /home/vedutla/.pyenv/versions/3.12.9/envs/skin_scan_env/lib/python3.12/site-packages (4.25.8)\n",
      "Requirement already satisfied: PyYAML>=5.3 in /home/vedutla/.pyenv/versions/3.12.9/envs/skin_scan_env/lib/python3.12/site-packages (from langchain==0.3.8) (6.0.2)\n",
      "Requirement already satisfied: SQLAlchemy<3,>=1.4 in /home/vedutla/.pyenv/versions/3.12.9/envs/skin_scan_env/lib/python3.12/site-packages (from langchain==0.3.8) (2.0.35)\n",
      "Requirement already satisfied: aiohttp<4.0.0,>=3.8.3 in /home/vedutla/.pyenv/versions/3.12.9/envs/skin_scan_env/lib/python3.12/site-packages (from langchain==0.3.8) (3.12.8)\n",
      "Requirement already satisfied: langchain-core<0.4.0,>=0.3.21 in /home/vedutla/.pyenv/versions/3.12.9/envs/skin_scan_env/lib/python3.12/site-packages (from langchain==0.3.8) (0.3.63)\n",
      "Requirement already satisfied: langchain-text-splitters<0.4.0,>=0.3.0 in /home/vedutla/.pyenv/versions/3.12.9/envs/skin_scan_env/lib/python3.12/site-packages (from langchain==0.3.8) (0.3.8)\n",
      "Requirement already satisfied: langsmith<0.2.0,>=0.1.17 in /home/vedutla/.pyenv/versions/3.12.9/envs/skin_scan_env/lib/python3.12/site-packages (from langchain==0.3.8) (0.1.147)\n",
      "Requirement already satisfied: numpy<2,>=1.26.2 in /home/vedutla/.pyenv/versions/3.12.9/envs/skin_scan_env/lib/python3.12/site-packages (from langchain==0.3.8) (1.26.4)\n",
      "Requirement already satisfied: pydantic<3.0.0,>=2.7.4 in /home/vedutla/.pyenv/versions/3.12.9/envs/skin_scan_env/lib/python3.12/site-packages (from langchain==0.3.8) (2.11.5)\n",
      "Requirement already satisfied: requests<3,>=2 in /home/vedutla/.pyenv/versions/3.12.9/envs/skin_scan_env/lib/python3.12/site-packages (from langchain==0.3.8) (2.32.3)\n",
      "Requirement already satisfied: tenacity!=8.4.0,<10,>=8.1.0 in /home/vedutla/.pyenv/versions/3.12.9/envs/skin_scan_env/lib/python3.12/site-packages (from langchain==0.3.8) (9.1.2)\n",
      "Requirement already satisfied: regex>=2022.1.18 in /home/vedutla/.pyenv/versions/3.12.9/envs/skin_scan_env/lib/python3.12/site-packages (from tiktoken==0.8.0) (2024.11.6)\n",
      "Requirement already satisfied: dataclasses-json<0.7,>=0.5.7 in /home/vedutla/.pyenv/versions/3.12.9/envs/skin_scan_env/lib/python3.12/site-packages (from langchain-community==0.3.8) (0.6.7)\n",
      "Requirement already satisfied: httpx-sse<0.5.0,>=0.4.0 in /home/vedutla/.pyenv/versions/3.12.9/envs/skin_scan_env/lib/python3.12/site-packages (from langchain-community==0.3.8) (0.4.0)\n",
      "Requirement already satisfied: pydantic-settings<3.0.0,>=2.4.0 in /home/vedutla/.pyenv/versions/3.12.9/envs/skin_scan_env/lib/python3.12/site-packages (from langchain-community==0.3.8) (2.9.1)\n",
      "Requirement already satisfied: build>=1.0.3 in /home/vedutla/.pyenv/versions/3.12.9/envs/skin_scan_env/lib/python3.12/site-packages (from chromadb==0.5.20) (1.2.2.post1)\n",
      "Requirement already satisfied: chroma-hnswlib==0.7.6 in /home/vedutla/.pyenv/versions/3.12.9/envs/skin_scan_env/lib/python3.12/site-packages (from chromadb==0.5.20) (0.7.6)\n",
      "Requirement already satisfied: fastapi>=0.95.2 in /home/vedutla/.pyenv/versions/3.12.9/envs/skin_scan_env/lib/python3.12/site-packages (from chromadb==0.5.20) (0.115.12)\n",
      "Requirement already satisfied: uvicorn>=0.18.3 in /home/vedutla/.pyenv/versions/3.12.9/envs/skin_scan_env/lib/python3.12/site-packages (from uvicorn[standard]>=0.18.3->chromadb==0.5.20) (0.34.3)\n",
      "Requirement already satisfied: posthog>=2.4.0 in /home/vedutla/.pyenv/versions/3.12.9/envs/skin_scan_env/lib/python3.12/site-packages (from chromadb==0.5.20) (4.2.0)\n",
      "Requirement already satisfied: typing-extensions>=4.5.0 in /home/vedutla/.pyenv/versions/3.12.9/envs/skin_scan_env/lib/python3.12/site-packages (from chromadb==0.5.20) (4.13.2)\n",
      "Requirement already satisfied: onnxruntime>=1.14.1 in /home/vedutla/.pyenv/versions/3.12.9/envs/skin_scan_env/lib/python3.12/site-packages (from chromadb==0.5.20) (1.22.0)\n",
      "Requirement already satisfied: opentelemetry-api>=1.2.0 in /home/vedutla/.pyenv/versions/3.12.9/envs/skin_scan_env/lib/python3.12/site-packages (from chromadb==0.5.20) (1.27.0)\n",
      "Requirement already satisfied: opentelemetry-exporter-otlp-proto-grpc>=1.2.0 in /home/vedutla/.pyenv/versions/3.12.9/envs/skin_scan_env/lib/python3.12/site-packages (from chromadb==0.5.20) (1.27.0)\n",
      "Requirement already satisfied: opentelemetry-instrumentation-fastapi>=0.41b0 in /home/vedutla/.pyenv/versions/3.12.9/envs/skin_scan_env/lib/python3.12/site-packages (from chromadb==0.5.20) (0.48b0)\n",
      "Requirement already satisfied: opentelemetry-sdk>=1.2.0 in /home/vedutla/.pyenv/versions/3.12.9/envs/skin_scan_env/lib/python3.12/site-packages (from chromadb==0.5.20) (1.27.0)\n",
      "Requirement already satisfied: tokenizers>=0.13.2 in /home/vedutla/.pyenv/versions/3.12.9/envs/skin_scan_env/lib/python3.12/site-packages (from chromadb==0.5.20) (0.21.1)\n",
      "Requirement already satisfied: pypika>=0.48.9 in /home/vedutla/.pyenv/versions/3.12.9/envs/skin_scan_env/lib/python3.12/site-packages (from chromadb==0.5.20) (0.48.9)\n",
      "Requirement already satisfied: tqdm>=4.65.0 in /home/vedutla/.pyenv/versions/3.12.9/envs/skin_scan_env/lib/python3.12/site-packages (from chromadb==0.5.20) (4.67.1)\n",
      "Requirement already satisfied: overrides>=7.3.1 in /home/vedutla/.pyenv/versions/3.12.9/envs/skin_scan_env/lib/python3.12/site-packages (from chromadb==0.5.20) (7.7.0)\n",
      "Requirement already satisfied: importlib-resources in /home/vedutla/.pyenv/versions/3.12.9/envs/skin_scan_env/lib/python3.12/site-packages (from chromadb==0.5.20) (6.5.2)\n",
      "Requirement already satisfied: grpcio>=1.58.0 in /home/vedutla/.pyenv/versions/3.12.9/envs/skin_scan_env/lib/python3.12/site-packages (from chromadb==0.5.20) (1.72.1)\n",
      "Requirement already satisfied: bcrypt>=4.0.1 in /home/vedutla/.pyenv/versions/3.12.9/envs/skin_scan_env/lib/python3.12/site-packages (from chromadb==0.5.20) (4.3.0)\n",
      "Requirement already satisfied: typer>=0.9.0 in /home/vedutla/.pyenv/versions/3.12.9/envs/skin_scan_env/lib/python3.12/site-packages (from chromadb==0.5.20) (0.16.0)\n",
      "Requirement already satisfied: kubernetes>=28.1.0 in /home/vedutla/.pyenv/versions/3.12.9/envs/skin_scan_env/lib/python3.12/site-packages (from chromadb==0.5.20) (32.0.1)\n",
      "Requirement already satisfied: mmh3>=4.0.1 in /home/vedutla/.pyenv/versions/3.12.9/envs/skin_scan_env/lib/python3.12/site-packages (from chromadb==0.5.20) (5.1.0)\n",
      "Requirement already satisfied: orjson>=3.9.12 in /home/vedutla/.pyenv/versions/3.12.9/envs/skin_scan_env/lib/python3.12/site-packages (from chromadb==0.5.20) (3.10.18)\n",
      "Requirement already satisfied: httpx>=0.27.0 in /home/vedutla/.pyenv/versions/3.12.9/envs/skin_scan_env/lib/python3.12/site-packages (from chromadb==0.5.20) (0.28.1)\n",
      "Requirement already satisfied: rich>=10.11.0 in /home/vedutla/.pyenv/versions/3.12.9/envs/skin_scan_env/lib/python3.12/site-packages (from chromadb==0.5.20) (14.0.0)\n",
      "Requirement already satisfied: filelock in /home/vedutla/.pyenv/versions/3.12.9/envs/skin_scan_env/lib/python3.12/site-packages (from huggingface-hub==0.26.2->huggingface-hub[hf_transfer]==0.26.2) (3.18.0)\n",
      "Requirement already satisfied: fsspec>=2023.5.0 in /home/vedutla/.pyenv/versions/3.12.9/envs/skin_scan_env/lib/python3.12/site-packages (from huggingface-hub==0.26.2->huggingface-hub[hf_transfer]==0.26.2) (2025.5.1)\n",
      "Requirement already satisfied: packaging>=20.9 in /home/vedutla/.pyenv/versions/3.12.9/envs/skin_scan_env/lib/python3.12/site-packages (from huggingface-hub==0.26.2->huggingface-hub[hf_transfer]==0.26.2) (24.2)\n",
      "Requirement already satisfied: py-cpuinfo<10.0.0,>=9.0.0 in /home/vedutla/.pyenv/versions/3.12.9/envs/skin_scan_env/lib/python3.12/site-packages (from ctransformers==0.2.27->ctransformers[cuda]==0.2.27) (9.0.0)\n",
      "Requirement already satisfied: importlib-metadata in /home/vedutla/.pyenv/versions/3.12.9/envs/skin_scan_env/lib/python3.12/site-packages (from diffusers==0.31.0) (8.4.0)\n",
      "Requirement already satisfied: safetensors>=0.3.1 in /home/vedutla/.pyenv/versions/3.12.9/envs/skin_scan_env/lib/python3.12/site-packages (from diffusers==0.31.0) (0.5.3)\n",
      "Requirement already satisfied: Pillow in /home/vedutla/.pyenv/versions/3.12.9/envs/skin_scan_env/lib/python3.12/site-packages (from diffusers==0.31.0) (11.2.1)\n",
      "Requirement already satisfied: diskcache>=5.6.1 in /home/vedutla/.pyenv/versions/3.12.9/envs/skin_scan_env/lib/python3.12/site-packages (from llama-cpp-python==0.3.2) (5.6.3)\n",
      "Requirement already satisfied: jinja2>=2.11.3 in /home/vedutla/.pyenv/versions/3.12.9/envs/skin_scan_env/lib/python3.12/site-packages (from llama-cpp-python==0.3.2) (3.1.6)\n",
      "Requirement already satisfied: nvidia-cublas-cu12 in /home/vedutla/.pyenv/versions/3.12.9/envs/skin_scan_env/lib/python3.12/site-packages (from ctransformers[cuda]==0.2.27) (12.9.0.13)\n",
      "Requirement already satisfied: nvidia-cuda-runtime-cu12 in /home/vedutla/.pyenv/versions/3.12.9/envs/skin_scan_env/lib/python3.12/site-packages (from ctransformers[cuda]==0.2.27) (12.9.37)\n",
      "Requirement already satisfied: hf-transfer>=0.1.4 in /home/vedutla/.pyenv/versions/3.12.9/envs/skin_scan_env/lib/python3.12/site-packages (from huggingface-hub[hf_transfer]==0.26.2) (0.1.9)\n",
      "Requirement already satisfied: anyio<5,>=3.5.0 in /home/vedutla/.pyenv/versions/3.12.9/envs/skin_scan_env/lib/python3.12/site-packages (from openai) (4.9.0)\n",
      "Requirement already satisfied: distro<2,>=1.7.0 in /home/vedutla/.pyenv/versions/3.12.9/envs/skin_scan_env/lib/python3.12/site-packages (from openai) (1.9.0)\n",
      "Requirement already satisfied: jiter<1,>=0.4.0 in /home/vedutla/.pyenv/versions/3.12.9/envs/skin_scan_env/lib/python3.12/site-packages (from openai) (0.10.0)\n",
      "Requirement already satisfied: sniffio in /home/vedutla/.pyenv/versions/3.12.9/envs/skin_scan_env/lib/python3.12/site-packages (from openai) (1.3.1)\n",
      "Requirement already satisfied: aiohappyeyeballs>=2.5.0 in /home/vedutla/.pyenv/versions/3.12.9/envs/skin_scan_env/lib/python3.12/site-packages (from aiohttp<4.0.0,>=3.8.3->langchain==0.3.8) (2.6.1)\n",
      "Requirement already satisfied: aiosignal>=1.1.2 in /home/vedutla/.pyenv/versions/3.12.9/envs/skin_scan_env/lib/python3.12/site-packages (from aiohttp<4.0.0,>=3.8.3->langchain==0.3.8) (1.3.2)\n",
      "Requirement already satisfied: attrs>=17.3.0 in /home/vedutla/.pyenv/versions/3.12.9/envs/skin_scan_env/lib/python3.12/site-packages (from aiohttp<4.0.0,>=3.8.3->langchain==0.3.8) (25.3.0)\n",
      "Requirement already satisfied: frozenlist>=1.1.1 in /home/vedutla/.pyenv/versions/3.12.9/envs/skin_scan_env/lib/python3.12/site-packages (from aiohttp<4.0.0,>=3.8.3->langchain==0.3.8) (1.6.2)\n",
      "Requirement already satisfied: multidict<7.0,>=4.5 in /home/vedutla/.pyenv/versions/3.12.9/envs/skin_scan_env/lib/python3.12/site-packages (from aiohttp<4.0.0,>=3.8.3->langchain==0.3.8) (6.4.4)\n",
      "Requirement already satisfied: propcache>=0.2.0 in /home/vedutla/.pyenv/versions/3.12.9/envs/skin_scan_env/lib/python3.12/site-packages (from aiohttp<4.0.0,>=3.8.3->langchain==0.3.8) (0.3.1)\n",
      "Requirement already satisfied: yarl<2.0,>=1.17.0 in /home/vedutla/.pyenv/versions/3.12.9/envs/skin_scan_env/lib/python3.12/site-packages (from aiohttp<4.0.0,>=3.8.3->langchain==0.3.8) (1.20.0)\n",
      "Requirement already satisfied: idna>=2.8 in /home/vedutla/.pyenv/versions/3.12.9/envs/skin_scan_env/lib/python3.12/site-packages (from anyio<5,>=3.5.0->openai) (3.10)\n",
      "Requirement already satisfied: marshmallow<4.0.0,>=3.18.0 in /home/vedutla/.pyenv/versions/3.12.9/envs/skin_scan_env/lib/python3.12/site-packages (from dataclasses-json<0.7,>=0.5.7->langchain-community==0.3.8) (3.26.1)\n",
      "Requirement already satisfied: typing-inspect<1,>=0.4.0 in /home/vedutla/.pyenv/versions/3.12.9/envs/skin_scan_env/lib/python3.12/site-packages (from dataclasses-json<0.7,>=0.5.7->langchain-community==0.3.8) (0.9.0)\n",
      "Requirement already satisfied: certifi in /home/vedutla/.pyenv/versions/3.12.9/envs/skin_scan_env/lib/python3.12/site-packages (from httpx>=0.27.0->chromadb==0.5.20) (2025.4.26)\n",
      "Requirement already satisfied: httpcore==1.* in /home/vedutla/.pyenv/versions/3.12.9/envs/skin_scan_env/lib/python3.12/site-packages (from httpx>=0.27.0->chromadb==0.5.20) (1.0.9)\n",
      "Requirement already satisfied: h11>=0.16 in /home/vedutla/.pyenv/versions/3.12.9/envs/skin_scan_env/lib/python3.12/site-packages (from httpcore==1.*->httpx>=0.27.0->chromadb==0.5.20) (0.16.0)\n",
      "Requirement already satisfied: jsonpatch<2.0,>=1.33 in /home/vedutla/.pyenv/versions/3.12.9/envs/skin_scan_env/lib/python3.12/site-packages (from langchain-core<0.4.0,>=0.3.21->langchain==0.3.8) (1.33)\n",
      "Requirement already satisfied: jsonpointer>=1.9 in /home/vedutla/.pyenv/versions/3.12.9/envs/skin_scan_env/lib/python3.12/site-packages (from jsonpatch<2.0,>=1.33->langchain-core<0.4.0,>=0.3.21->langchain==0.3.8) (3.0.0)\n",
      "Requirement already satisfied: requests-toolbelt<2.0.0,>=1.0.0 in /home/vedutla/.pyenv/versions/3.12.9/envs/skin_scan_env/lib/python3.12/site-packages (from langsmith<0.2.0,>=0.1.17->langchain==0.3.8) (1.0.0)\n",
      "Requirement already satisfied: annotated-types>=0.6.0 in /home/vedutla/.pyenv/versions/3.12.9/envs/skin_scan_env/lib/python3.12/site-packages (from pydantic<3.0.0,>=2.7.4->langchain==0.3.8) (0.7.0)\n",
      "Requirement already satisfied: pydantic-core==2.33.2 in /home/vedutla/.pyenv/versions/3.12.9/envs/skin_scan_env/lib/python3.12/site-packages (from pydantic<3.0.0,>=2.7.4->langchain==0.3.8) (2.33.2)\n",
      "Requirement already satisfied: typing-inspection>=0.4.0 in /home/vedutla/.pyenv/versions/3.12.9/envs/skin_scan_env/lib/python3.12/site-packages (from pydantic<3.0.0,>=2.7.4->langchain==0.3.8) (0.4.1)\n",
      "Requirement already satisfied: python-dotenv>=0.21.0 in /home/vedutla/.pyenv/versions/3.12.9/envs/skin_scan_env/lib/python3.12/site-packages (from pydantic-settings<3.0.0,>=2.4.0->langchain-community==0.3.8) (1.1.0)\n",
      "Requirement already satisfied: charset-normalizer<4,>=2 in /home/vedutla/.pyenv/versions/3.12.9/envs/skin_scan_env/lib/python3.12/site-packages (from requests<3,>=2->langchain==0.3.8) (3.4.2)\n",
      "Requirement already satisfied: urllib3<3,>=1.21.1 in /home/vedutla/.pyenv/versions/3.12.9/envs/skin_scan_env/lib/python3.12/site-packages (from requests<3,>=2->langchain==0.3.8) (2.4.0)\n",
      "Requirement already satisfied: greenlet!=0.4.17 in /home/vedutla/.pyenv/versions/3.12.9/envs/skin_scan_env/lib/python3.12/site-packages (from SQLAlchemy<3,>=1.4->langchain==0.3.8) (3.2.2)\n",
      "Requirement already satisfied: mypy-extensions>=0.3.0 in /home/vedutla/.pyenv/versions/3.12.9/envs/skin_scan_env/lib/python3.12/site-packages (from typing-inspect<1,>=0.4.0->dataclasses-json<0.7,>=0.5.7->langchain-community==0.3.8) (1.1.0)\n",
      "Requirement already satisfied: pyproject_hooks in /home/vedutla/.pyenv/versions/3.12.9/envs/skin_scan_env/lib/python3.12/site-packages (from build>=1.0.3->chromadb==0.5.20) (1.2.0)\n",
      "Requirement already satisfied: starlette<0.47.0,>=0.40.0 in /home/vedutla/.pyenv/versions/3.12.9/envs/skin_scan_env/lib/python3.12/site-packages (from fastapi>=0.95.2->chromadb==0.5.20) (0.46.2)\n",
      "Requirement already satisfied: MarkupSafe>=2.0 in /home/vedutla/.pyenv/versions/3.12.9/envs/skin_scan_env/lib/python3.12/site-packages (from jinja2>=2.11.3->llama-cpp-python==0.3.2) (3.0.2)\n",
      "Requirement already satisfied: six>=1.9.0 in /home/vedutla/.pyenv/versions/3.12.9/envs/skin_scan_env/lib/python3.12/site-packages (from kubernetes>=28.1.0->chromadb==0.5.20) (1.17.0)\n",
      "Requirement already satisfied: python-dateutil>=2.5.3 in /home/vedutla/.pyenv/versions/3.12.9/envs/skin_scan_env/lib/python3.12/site-packages (from kubernetes>=28.1.0->chromadb==0.5.20) (2.9.0.post0)\n",
      "Requirement already satisfied: google-auth>=1.0.1 in /home/vedutla/.pyenv/versions/3.12.9/envs/skin_scan_env/lib/python3.12/site-packages (from kubernetes>=28.1.0->chromadb==0.5.20) (2.40.2)\n",
      "Requirement already satisfied: websocket-client!=0.40.0,!=0.41.*,!=0.42.*,>=0.32.0 in /home/vedutla/.pyenv/versions/3.12.9/envs/skin_scan_env/lib/python3.12/site-packages (from kubernetes>=28.1.0->chromadb==0.5.20) (1.8.0)\n",
      "Requirement already satisfied: requests-oauthlib in /home/vedutla/.pyenv/versions/3.12.9/envs/skin_scan_env/lib/python3.12/site-packages (from kubernetes>=28.1.0->chromadb==0.5.20) (2.0.0)\n",
      "Requirement already satisfied: oauthlib>=3.2.2 in /home/vedutla/.pyenv/versions/3.12.9/envs/skin_scan_env/lib/python3.12/site-packages (from kubernetes>=28.1.0->chromadb==0.5.20) (3.2.2)\n",
      "Requirement already satisfied: durationpy>=0.7 in /home/vedutla/.pyenv/versions/3.12.9/envs/skin_scan_env/lib/python3.12/site-packages (from kubernetes>=28.1.0->chromadb==0.5.20) (0.10)\n",
      "Requirement already satisfied: cachetools<6.0,>=2.0.0 in /home/vedutla/.pyenv/versions/3.12.9/envs/skin_scan_env/lib/python3.12/site-packages (from google-auth>=1.0.1->kubernetes>=28.1.0->chromadb==0.5.20) (5.5.2)\n",
      "Requirement already satisfied: pyasn1-modules>=0.2.1 in /home/vedutla/.pyenv/versions/3.12.9/envs/skin_scan_env/lib/python3.12/site-packages (from google-auth>=1.0.1->kubernetes>=28.1.0->chromadb==0.5.20) (0.4.2)\n",
      "Requirement already satisfied: rsa<5,>=3.1.4 in /home/vedutla/.pyenv/versions/3.12.9/envs/skin_scan_env/lib/python3.12/site-packages (from google-auth>=1.0.1->kubernetes>=28.1.0->chromadb==0.5.20) (4.9.1)\n",
      "Requirement already satisfied: pyasn1>=0.1.3 in /home/vedutla/.pyenv/versions/3.12.9/envs/skin_scan_env/lib/python3.12/site-packages (from rsa<5,>=3.1.4->google-auth>=1.0.1->kubernetes>=28.1.0->chromadb==0.5.20) (0.6.1)\n",
      "Requirement already satisfied: coloredlogs in /home/vedutla/.pyenv/versions/3.12.9/envs/skin_scan_env/lib/python3.12/site-packages (from onnxruntime>=1.14.1->chromadb==0.5.20) (15.0.1)\n",
      "Requirement already satisfied: flatbuffers in /home/vedutla/.pyenv/versions/3.12.9/envs/skin_scan_env/lib/python3.12/site-packages (from onnxruntime>=1.14.1->chromadb==0.5.20) (25.2.10)\n",
      "Requirement already satisfied: sympy in /home/vedutla/.pyenv/versions/3.12.9/envs/skin_scan_env/lib/python3.12/site-packages (from onnxruntime>=1.14.1->chromadb==0.5.20) (1.14.0)\n",
      "Requirement already satisfied: deprecated>=1.2.6 in /home/vedutla/.pyenv/versions/3.12.9/envs/skin_scan_env/lib/python3.12/site-packages (from opentelemetry-api>=1.2.0->chromadb==0.5.20) (1.2.18)\n",
      "Requirement already satisfied: zipp>=0.5 in /home/vedutla/.pyenv/versions/3.12.9/envs/skin_scan_env/lib/python3.12/site-packages (from importlib-metadata->diffusers==0.31.0) (3.22.0)\n",
      "Requirement already satisfied: wrapt<2,>=1.10 in /home/vedutla/.pyenv/versions/3.12.9/envs/skin_scan_env/lib/python3.12/site-packages (from deprecated>=1.2.6->opentelemetry-api>=1.2.0->chromadb==0.5.20) (1.17.2)\n",
      "Requirement already satisfied: googleapis-common-protos~=1.52 in /home/vedutla/.pyenv/versions/3.12.9/envs/skin_scan_env/lib/python3.12/site-packages (from opentelemetry-exporter-otlp-proto-grpc>=1.2.0->chromadb==0.5.20) (1.70.0)\n",
      "Requirement already satisfied: opentelemetry-exporter-otlp-proto-common==1.27.0 in /home/vedutla/.pyenv/versions/3.12.9/envs/skin_scan_env/lib/python3.12/site-packages (from opentelemetry-exporter-otlp-proto-grpc>=1.2.0->chromadb==0.5.20) (1.27.0)\n",
      "Requirement already satisfied: opentelemetry-proto==1.27.0 in /home/vedutla/.pyenv/versions/3.12.9/envs/skin_scan_env/lib/python3.12/site-packages (from opentelemetry-exporter-otlp-proto-grpc>=1.2.0->chromadb==0.5.20) (1.27.0)\n",
      "Requirement already satisfied: opentelemetry-semantic-conventions==0.48b0 in /home/vedutla/.pyenv/versions/3.12.9/envs/skin_scan_env/lib/python3.12/site-packages (from opentelemetry-sdk>=1.2.0->chromadb==0.5.20) (0.48b0)\n",
      "Requirement already satisfied: opentelemetry-instrumentation-asgi==0.48b0 in /home/vedutla/.pyenv/versions/3.12.9/envs/skin_scan_env/lib/python3.12/site-packages (from opentelemetry-instrumentation-fastapi>=0.41b0->chromadb==0.5.20) (0.48b0)\n",
      "Requirement already satisfied: opentelemetry-instrumentation==0.48b0 in /home/vedutla/.pyenv/versions/3.12.9/envs/skin_scan_env/lib/python3.12/site-packages (from opentelemetry-instrumentation-fastapi>=0.41b0->chromadb==0.5.20) (0.48b0)\n",
      "Requirement already satisfied: opentelemetry-util-http==0.48b0 in /home/vedutla/.pyenv/versions/3.12.9/envs/skin_scan_env/lib/python3.12/site-packages (from opentelemetry-instrumentation-fastapi>=0.41b0->chromadb==0.5.20) (0.48b0)\n",
      "Requirement already satisfied: setuptools>=16.0 in /home/vedutla/.pyenv/versions/3.12.9/envs/skin_scan_env/lib/python3.12/site-packages (from opentelemetry-instrumentation==0.48b0->opentelemetry-instrumentation-fastapi>=0.41b0->chromadb==0.5.20) (80.9.0)\n",
      "Requirement already satisfied: asgiref~=3.0 in /home/vedutla/.pyenv/versions/3.12.9/envs/skin_scan_env/lib/python3.12/site-packages (from opentelemetry-instrumentation-asgi==0.48b0->opentelemetry-instrumentation-fastapi>=0.41b0->chromadb==0.5.20) (3.8.1)\n",
      "Requirement already satisfied: backoff>=1.10.0 in /home/vedutla/.pyenv/versions/3.12.9/envs/skin_scan_env/lib/python3.12/site-packages (from posthog>=2.4.0->chromadb==0.5.20) (2.2.1)\n",
      "Requirement already satisfied: markdown-it-py>=2.2.0 in /home/vedutla/.pyenv/versions/3.12.9/envs/skin_scan_env/lib/python3.12/site-packages (from rich>=10.11.0->chromadb==0.5.20) (3.0.0)\n",
      "Requirement already satisfied: pygments<3.0.0,>=2.13.0 in /home/vedutla/.pyenv/versions/3.12.9/envs/skin_scan_env/lib/python3.12/site-packages (from rich>=10.11.0->chromadb==0.5.20) (2.19.1)\n",
      "Requirement already satisfied: mdurl~=0.1 in /home/vedutla/.pyenv/versions/3.12.9/envs/skin_scan_env/lib/python3.12/site-packages (from markdown-it-py>=2.2.0->rich>=10.11.0->chromadb==0.5.20) (0.1.2)\n",
      "Requirement already satisfied: click>=8.0.0 in /home/vedutla/.pyenv/versions/3.12.9/envs/skin_scan_env/lib/python3.12/site-packages (from typer>=0.9.0->chromadb==0.5.20) (8.2.1)\n",
      "Requirement already satisfied: shellingham>=1.3.0 in /home/vedutla/.pyenv/versions/3.12.9/envs/skin_scan_env/lib/python3.12/site-packages (from typer>=0.9.0->chromadb==0.5.20) (1.5.4)\n",
      "Requirement already satisfied: httptools>=0.6.3 in /home/vedutla/.pyenv/versions/3.12.9/envs/skin_scan_env/lib/python3.12/site-packages (from uvicorn[standard]>=0.18.3->chromadb==0.5.20) (0.6.4)\n",
      "Requirement already satisfied: uvloop>=0.15.1 in /home/vedutla/.pyenv/versions/3.12.9/envs/skin_scan_env/lib/python3.12/site-packages (from uvicorn[standard]>=0.18.3->chromadb==0.5.20) (0.21.0)\n",
      "Requirement already satisfied: watchfiles>=0.13 in /home/vedutla/.pyenv/versions/3.12.9/envs/skin_scan_env/lib/python3.12/site-packages (from uvicorn[standard]>=0.18.3->chromadb==0.5.20) (1.0.5)\n",
      "Requirement already satisfied: websockets>=10.4 in /home/vedutla/.pyenv/versions/3.12.9/envs/skin_scan_env/lib/python3.12/site-packages (from uvicorn[standard]>=0.18.3->chromadb==0.5.20) (15.0.1)\n",
      "Requirement already satisfied: humanfriendly>=9.1 in /home/vedutla/.pyenv/versions/3.12.9/envs/skin_scan_env/lib/python3.12/site-packages (from coloredlogs->onnxruntime>=1.14.1->chromadb==0.5.20) (10.0)\n",
      "Requirement already satisfied: mpmath<1.4,>=1.1.0 in /home/vedutla/.pyenv/versions/3.12.9/envs/skin_scan_env/lib/python3.12/site-packages (from sympy->onnxruntime>=1.14.1->chromadb==0.5.20) (1.3.0)\n"
     ]
    }
   ],
   "source": [
    "!pip install openai langchain==0.3.8 langchain-openai==0.2.9 langchain-community==0.3.8 pypdf==5.1.0 chromadb==0.5.20 tiktoken==0.8.0 \"huggingface-hub[hf_transfer]==0.26.2\" \"ctransformers[cuda]==0.2.27\" diffusers==0.31.0 llama-cpp-python==0.3.2 \"protobuf<5.0.0\""
   ]
  },
  {
   "cell_type": "markdown",
   "id": "12724009-0cc1-4cb2-b95f-84fe33f8d2f2",
   "metadata": {},
   "source": [
    "## 1. Working with OpenAI API\n"
   ]
  },
  {
   "cell_type": "code",
   "execution_count": 1,
   "id": "0ec96c12-1852-424d-bae1-55a0bec329b5",
   "metadata": {
    "execution": {
     "iopub.execute_input": "2025-06-05T09:41:08.373894Z",
     "iopub.status.busy": "2025-06-05T09:41:08.373012Z",
     "iopub.status.idle": "2025-06-05T09:41:08.832862Z",
     "shell.execute_reply": "2025-06-05T09:41:08.832230Z",
     "shell.execute_reply.started": "2025-06-05T09:41:08.373855Z"
    }
   },
   "outputs": [],
   "source": [
    "import openai\n",
    "import os\n",
    "api_key = os.environ[\"OPEN_AI_KEY_SRI\"]\n",
    "# Initialize the OpenAI API client\n",
    "openai.api_key = api_key"
   ]
  },
  {
   "cell_type": "code",
   "execution_count": 2,
   "id": "81e3b8e2-7cc5-49b3-b937-1bba6c166240",
   "metadata": {
    "execution": {
     "iopub.execute_input": "2025-06-05T09:41:09.215815Z",
     "iopub.status.busy": "2025-06-05T09:41:09.215437Z",
     "iopub.status.idle": "2025-06-05T09:41:09.221017Z",
     "shell.execute_reply": "2025-06-05T09:41:09.220139Z",
     "shell.execute_reply.started": "2025-06-05T09:41:09.215789Z"
    }
   },
   "outputs": [],
   "source": [
    "lesion_types = {\n",
    "    \"vasc\": \"Vascular Lesions\",\n",
    "    \"df\": \"Dermatofibroma\",\n",
    "    \"bcc\": \"Basal Cell Carcinoma\",\n",
    "    \"mel\": \"Melanoma\",\n",
    "    \"nv\": \"Melanocytic Nevi\",\n",
    "    \"bkl\": \"Benign Keratosis\",\n",
    "    \"akiec\": \"Actinic Keratoses / Intraepithelial Carcinoma\"\n",
    "}\n"
   ]
  },
  {
   "cell_type": "markdown",
   "id": "e07a9980-70f5-462e-a776-2d8af6b2bccb",
   "metadata": {},
   "source": [
    "# Functions"
   ]
  },
  {
   "cell_type": "code",
   "execution_count": 3,
   "id": "39319a36-fc9f-4356-93c2-4c5178e8a059",
   "metadata": {
    "execution": {
     "iopub.execute_input": "2025-06-05T09:41:09.872378Z",
     "iopub.status.busy": "2025-06-05T09:41:09.871764Z",
     "iopub.status.idle": "2025-06-05T09:41:09.879168Z",
     "shell.execute_reply": "2025-06-05T09:41:09.878416Z",
     "shell.execute_reply.started": "2025-06-05T09:41:09.872359Z"
    }
   },
   "outputs": [],
   "source": [
    "lesion_types = {\n",
    "    \"vasc\": \"Vascular Lesions\",\n",
    "    \"df\": \"Dermatofibroma\",\n",
    "    \"bcc\": \"Basal Cell Carcinoma\",\n",
    "    \"mel\": \"Melanoma\",\n",
    "    \"nv\": \"Melanocytic Nevi\",\n",
    "    \"bkl\": \"Benign Keratosis\",\n",
    "    \"akiec\": \"Actinic Keratoses / Intraepithelial Carcinoma\"\n",
    "}\n",
    "\n",
    "\n",
    "\n",
    "def patient_report (predicted_class,age, sex, body_location, lifestyle_work, max_tokens=150):\n",
    "    system_prompt = (\n",
    "    \"You are a friendly and helpful dermatology assistant. \"\n",
    "    \"You explain skin cancer results in a concise, calm, simple language that’s easy for anyone to understand. \"\n",
    "    \"You avoid medical jargon, speak with warmth, and gently guide the patient on what to do next.\"\n",
    "    \"Limit to 150 words\"\n",
    "        \n",
    "    )\n",
    "\n",
    "    prompt = f\"\"\"\n",
    "    A dermatology AI model predicted: {lesion_types[predicted_class.lower()]}.\n",
    "\n",
    "    Patient details:\n",
    "    - Age: {age}\n",
    "    - Sex: {sex}\n",
    "    - Lesion Location: {body_location}\n",
    "    - Lifestyle/Work Type: {lifestyle_work}\n",
    "    \n",
    "    Please explain in a friendly and concise manner, why it might appear at this age, body location, and sex, \n",
    "    how the person's lifestyle or work may affect it, and what they should do next.\n",
    "    \"\"\"\n",
    "    \n",
    "    response = openai.chat.completions.create(\n",
    "        model=\"gpt-3.5-turbo\",\n",
    "        messages=[\n",
    "            {\"role\": \"system\", \"content\": system_prompt},\n",
    "            {\"role\": \"user\", \"content\": prompt}\n",
    "        ],\n",
    "        max_tokens=max_tokens\n",
    "    )\n",
    "    \n",
    "    return response.choices[0].message.content\n",
    "    "
   ]
  },
  {
   "cell_type": "code",
   "execution_count": 4,
   "id": "c0ace435-06ee-44a5-9ee3-12d731cb5ed7",
   "metadata": {
    "execution": {
     "iopub.execute_input": "2025-06-05T09:41:10.399529Z",
     "iopub.status.busy": "2025-06-05T09:41:10.399151Z",
     "iopub.status.idle": "2025-06-05T09:41:13.326163Z",
     "shell.execute_reply": "2025-06-05T09:41:13.325517Z",
     "shell.execute_reply.started": "2025-06-05T09:41:10.399504Z"
    }
   },
   "outputs": [
    {
     "name": "stdout",
     "output_type": "stream",
     "text": [
      "I'm here to help you understand the results. Melanoma can appear at age 63 due to past sun exposure or genetics. It's found on the back because that area gets a lot of sun. Men are also more prone to develop it. Being outdoors often can increase the risk. It's essential to see a dermatologist for a skin check and biopsy to confirm the diagnosis. Early detection is key for effective treatment. Remember to wear sunscreen, protective clothing, and seek shade to prevent further sun damage. Stay positive, and let's take proactive steps for your skin health.\n"
     ]
    }
   ],
   "source": [
    "predicted_class = \"mel\"  # Our model's prediction\n",
    "age = 63\n",
    "sex = \"male\"\n",
    "body_location = \"back\"\n",
    "lifestyle_work = \"outdoors\"\n",
    "\n",
    "max_tokens=150\n",
    "\n",
    "report = patient_report (predicted_class,age, sex, body_location, lifestyle_work, max_tokens=max_tokens)\n",
    "print(report)"
   ]
  },
  {
   "cell_type": "markdown",
   "id": "cbbda825-b65b-416a-b064-5edbe9639600",
   "metadata": {},
   "source": [
    "# Trump Patient report"
   ]
  },
  {
   "cell_type": "code",
   "execution_count": 23,
   "id": "91937477-db1d-4853-8f95-f138965d0d38",
   "metadata": {
    "execution": {
     "iopub.execute_input": "2025-06-04T16:39:56.610479Z",
     "iopub.status.busy": "2025-06-04T16:39:56.608921Z",
     "iopub.status.idle": "2025-06-04T16:39:56.619562Z",
     "shell.execute_reply": "2025-06-04T16:39:56.617295Z",
     "shell.execute_reply.started": "2025-06-04T16:39:56.610424Z"
    }
   },
   "outputs": [],
   "source": [
    "def angry_patient_report (predicted_class,age, sex, body_location, lifestyle_work, max_tokens=150):\n",
    "    system_prompt = (\n",
    "    \"You are a obnoxious and unhelpful dermatology assistant who acts like Donald Trump.\"\n",
    "    \"Limit to 150 words\"\n",
    "        \n",
    "    )\n",
    "\n",
    "    prompt = f\"\"\"\n",
    "    A dermatology AI model predicted: {lesion_types[predicted_class.lower()]}.\n",
    "\n",
    "    Patient details:\n",
    "    - Age: {age}\n",
    "    - Sex: {sex}\n",
    "    - Lesion Location: {body_location}\n",
    "    - Lifestyle/Work Type: {lifestyle_work}\n",
    "    \n",
    "    Please explain in a very aggresive and condescending manner, why it might appear at this age, body location, and sex, \n",
    "    how the person's lifestyle or work may affect it, and what they should do next.\n",
    "    \"\"\"\n",
    "    \n",
    "    response = openai.chat.completions.create(\n",
    "        model=\"gpt-3.5-turbo\",\n",
    "        messages=[\n",
    "            {\"role\": \"system\", \"content\": system_prompt},\n",
    "            {\"role\": \"user\", \"content\": prompt}\n",
    "        ],\n",
    "        max_tokens=max_tokens\n",
    "    )\n",
    "    \n",
    "    return response.choices[0].message.content\n",
    "    "
   ]
  },
  {
   "cell_type": "code",
   "execution_count": 24,
   "id": "9310962c-0e6c-482c-9e1e-82fc34141801",
   "metadata": {
    "execution": {
     "iopub.execute_input": "2025-06-04T16:40:02.013998Z",
     "iopub.status.busy": "2025-06-04T16:40:02.013157Z",
     "iopub.status.idle": "2025-06-04T16:40:04.877900Z",
     "shell.execute_reply": "2025-06-04T16:40:04.876397Z",
     "shell.execute_reply.started": "2025-06-04T16:40:02.013959Z"
    }
   },
   "outputs": [
    {
     "name": "stdout",
     "output_type": "stream",
     "text": [
      "Listen, this Melanocytic Nevi situation, let me tell you, it's very typical. Happens to the best of us, okay? Especially at that age, you know, 63, it's like the prime time for these things to pop up. And on the back - come on, those sun rays hitting you when you're outdoors all the time, it's a no-brainer. Men, they're not exactly known for their skin-care routines, let's be real.\n",
      "\n",
      "So, what should this guy do next? Get that thing checked out, ASAP. I mean, come on, we're talking about skin here. Better to be safe than sorry, right? Get a professional to take a look, see what\n"
     ]
    }
   ],
   "source": [
    "predicted_class = \"nv\"  # Our model's prediction\n",
    "age = 63\n",
    "sex = \"male\"\n",
    "body_location = \"back\"\n",
    "lifestyle_work = \"outdoors\"\n",
    "\n",
    "max_tokens=150\n",
    "\n",
    "report = angry_patient_report (predicted_class,age, sex, body_location, lifestyle_work, max_tokens=max_tokens)\n",
    "print(report)"
   ]
  },
  {
   "cell_type": "code",
   "execution_count": null,
   "id": "dd62df5a-5f41-47bc-b3f4-a6916f96b92e",
   "metadata": {},
   "outputs": [],
   "source": []
  },
  {
   "cell_type": "markdown",
   "id": "716c6f50-7eb3-4bc1-9342-0a0b2dea10e6",
   "metadata": {},
   "source": [
    "# Experiments"
   ]
  },
  {
   "cell_type": "code",
   "execution_count": 19,
   "id": "ddfcf024-cfaa-418c-8172-6690d52eceb6",
   "metadata": {
    "execution": {
     "iopub.execute_input": "2025-06-04T16:36:00.166989Z",
     "iopub.status.busy": "2025-06-04T16:36:00.164712Z",
     "iopub.status.idle": "2025-06-04T16:36:00.182272Z",
     "shell.execute_reply": "2025-06-04T16:36:00.180721Z",
     "shell.execute_reply.started": "2025-06-04T16:36:00.166920Z"
    }
   },
   "outputs": [],
   "source": [
    "def patient_report2 (predicted_class,age, sex, body_location, lifestyle_work, max_tokens=150):\n",
    "\n",
    "\n",
    "\n",
    "\n",
    "\n",
    "\n",
    "\n",
    "\n",
    "    \n",
    "    response = openai.chat.completions.create(\n",
    "        model=\"gpt-3.5-turbo\",\n",
    "        messages=[\n",
    "            {\"role\": \"system\", \"content\": system_prompt},\n",
    "            {\"role\": \"user\", \"content\": prompt}\n",
    "        ],\n",
    "        max_tokens=max_tokens\n",
    "    )\n",
    "    \n",
    "    return response.choices[0].message.content\n",
    "    "
   ]
  },
  {
   "cell_type": "code",
   "execution_count": 20,
   "id": "a456123f-abab-4f74-bbdf-d5b997cc312f",
   "metadata": {
    "execution": {
     "iopub.execute_input": "2025-06-04T16:36:00.576902Z",
     "iopub.status.busy": "2025-06-04T16:36:00.575287Z",
     "iopub.status.idle": "2025-06-04T16:36:03.111683Z",
     "shell.execute_reply": "2025-06-04T16:36:03.110247Z",
     "shell.execute_reply.started": "2025-06-04T16:36:00.576839Z"
    }
   },
   "outputs": [
    {
     "name": "stdout",
     "output_type": "stream",
     "text": [
      "Hello! Melanoma, a type of skin cancer, can show up at any age but is more common as we get older, like at 63. Men are also at higher risk. Being outdoors a lot can expose your skin to harmful UV rays, which can lead to skin cancer, especially if not protected. Finding it on your back is common since it's an area often exposed to the sun. It's great you got this checked out early. Please see a dermatologist for further evaluation like a biopsy for a definite diagnosis. They will discuss treatment options if needed. Remember, early detection is key! Stay positive, and take care. Let me know if you have any more questions or need further assistance.\n"
     ]
    }
   ],
   "source": [
    "predicted_class = \"mel\"  # Our model's prediction\n",
    "age = 63\n",
    "sex = \"male\"\n",
    "body_location = \"back\"\n",
    "lifestyle_work = \"outdoors\"\n",
    "\n",
    "max_tokens=150\n",
    "\n",
    "report = patient_report2 (predicted_class,age, sex, body_location, lifestyle_work, max_tokens=max_tokens)\n",
    "print(report)"
   ]
  },
  {
   "cell_type": "code",
   "execution_count": null,
   "id": "6f586d1e-6351-464b-a39f-0aee0351e1bd",
   "metadata": {},
   "outputs": [],
   "source": [
    "!pip install openai langchain==0.3.8 langchain-openai==0.2.9 langchain-community==0.3.8 pypdf==5.1.0 chromadb==0.5.20 tiktoken==0.8.0 \"huggingface-hub[hf_transfer]==0.26.2\" \"ctransformers[cuda]==0.2.27\" diffusers==0.31.0 llama-cpp-python==0.3.2 \"protobuf<5.0.0\"\n",
    "\n",
    "\n",
    "\n",
    "\n"
   ]
  },
  {
   "cell_type": "code",
   "execution_count": null,
   "id": "35f7c90a-6a1b-424e-b18b-962c787e4dc8",
   "metadata": {},
   "outputs": [],
   "source": []
  },
  {
   "cell_type": "code",
   "execution_count": 2,
   "id": "8b05d70d-dd70-4df0-979c-91ccaad63d30",
   "metadata": {
    "execution": {
     "iopub.execute_input": "2025-06-05T10:33:56.848428Z",
     "iopub.status.busy": "2025-06-05T10:33:56.847967Z",
     "iopub.status.idle": "2025-06-05T10:33:59.144860Z",
     "shell.execute_reply": "2025-06-05T10:33:59.144132Z",
     "shell.execute_reply.started": "2025-06-05T10:33:56.848409Z"
    }
   },
   "outputs": [
    {
     "name": "stdout",
     "output_type": "stream",
     "text": [
      "Hello! Skin cancer, like melanoma, can appear at any age due to sun exposure over the years. Men over 50 have a higher risk, especially on the back from prolonged sun exposure. Working outdoors can increase this risk. It's essential to see a dermatologist for a biopsy to confirm the diagnosis. Early detection is key for successful treatment. Stay positive, keep an eye on your skin, and make sure to use sunscreen and protective clothing. Don't worry; we're here to support you every step of the way!\n"
     ]
    }
   ],
   "source": [
    "import openai\n",
    "import os\n",
    "api_key = os.environ[\"OPEN_AI_KEY_SRI\"]\n",
    "# Initialize the OpenAI API client\n",
    "openai.api_key = api_key\n",
    "\n",
    "\n",
    "lesion_types = {\n",
    "    \"vasc\": \"Vascular Lesions\",\n",
    "    \"df\": \"Dermatofibroma\",\n",
    "    \"bcc\": \"Basal Cell Carcinoma\",\n",
    "    \"mel\": \"Melanoma\",\n",
    "    \"nv\": \"Melanocytic Nevi\",\n",
    "    \"bkl\": \"Benign Keratosis\",\n",
    "    \"akiec\": \"Actinic Keratoses / Intraepithelial Carcinoma\"\n",
    "}\n",
    "\n",
    "\n",
    "\n",
    "def patient_report (predicted_class,age, sex, body_location, lifestyle_work, max_tokens=150):\n",
    "    system_prompt = (\n",
    "    \"You are a friendly and helpful dermatology assistant. \"\n",
    "    \"You explain skin cancer results in a concise, calm, simple language that’s easy for anyone to understand. \"\n",
    "    \"You avoid medical jargon, speak with warmth, and gently guide the patient on what to do next.\"\n",
    "    \"Limit to 150 words\"\n",
    "        \n",
    "    )\n",
    "\n",
    "    prompt = f\"\"\"\n",
    "    A dermatology AI model predicted: {lesion_types[predicted_class.lower()]}.\n",
    "\n",
    "    Patient details:\n",
    "    - Age: {age}\n",
    "    - Sex: {sex}\n",
    "    - Lesion Location: {body_location}\n",
    "    - Lifestyle/Work Type: {lifestyle_work}\n",
    "    \n",
    "    Please explain in a friendly and concise manner, why it might appear at this age, body location, and sex, \n",
    "    how the person's lifestyle or work may affect it, and what they should do next.\n",
    "    \"\"\"\n",
    "    \n",
    "    response = openai.chat.completions.create(\n",
    "        model=\"gpt-3.5-turbo\",\n",
    "        messages=[\n",
    "            {\"role\": \"system\", \"content\": system_prompt},\n",
    "            {\"role\": \"user\", \"content\": prompt}\n",
    "        ],\n",
    "        max_tokens=max_tokens\n",
    "    )\n",
    "    \n",
    "    return response.choices[0].message.content\n",
    "    \n",
    "\n",
    "predicted_class = \"mel\"  # Our model's prediction\n",
    "age = 63\n",
    "sex = \"male\"\n",
    "body_location = \"back\"\n",
    "lifestyle_work = \"outdoors\"\n",
    "\n",
    "max_tokens=150\n",
    "\n",
    "report = patient_report (predicted_class,age, sex, body_location, lifestyle_work, max_tokens=max_tokens)\n",
    "print(report)"
   ]
  },
  {
   "cell_type": "code",
   "execution_count": null,
   "id": "0e786e55-6ac1-4d86-833a-e6592eb7eeb1",
   "metadata": {},
   "outputs": [],
   "source": []
  }
 ],
 "metadata": {
  "kernelspec": {
   "display_name": "Python 3 (ipykernel)",
   "language": "python",
   "name": "python3"
  },
  "language_info": {
   "codemirror_mode": {
    "name": "ipython",
    "version": 3
   },
   "file_extension": ".py",
   "mimetype": "text/x-python",
   "name": "python",
   "nbconvert_exporter": "python",
   "pygments_lexer": "ipython3",
   "version": "3.12.9"
  }
 },
 "nbformat": 4,
 "nbformat_minor": 5
}

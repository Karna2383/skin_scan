{
 "cells": [
  {
   "metadata": {
    "ExecuteTime": {
     "end_time": "2025-06-06T13:39:20.505923Z",
     "start_time": "2025-06-06T13:39:20.499997Z"
    }
   },
   "cell_type": "code",
   "source": [
    "import os\n",
    "import pandas as pd\n",
    "from PIL import Image\n",
    "import numpy as np\n",
    "import matplotlib.pyplot as plt\n",
    "from glob import glob"
   ],
   "id": "73242bcf4eac579f",
   "outputs": [],
   "execution_count": 2
  },
  {
   "cell_type": "raw",
   "id": "515128dfabd910c8",
   "metadata": {
    "ExecuteTime": {
     "end_time": "2025-06-04T13:42:45.589450Z",
     "start_time": "2025-06-04T13:42:45.587329Z"
    }
   },
   "source": "",
   "outputs": [],
   "execution_count": 42
  },
  {
   "metadata": {},
   "cell_type": "markdown",
   "source": "## Metadata",
   "id": "788de2cf453f784b"
  },
  {
   "cell_type": "code",
   "id": "fa1df149e4c79cc9",
   "metadata": {
    "ExecuteTime": {
     "end_time": "2025-06-06T13:39:20.567818Z",
     "start_time": "2025-06-06T13:39:20.522892Z"
    }
   },
   "source": "md_df = pd.read_csv('../raw_data/archive/HAM10000_metadata.csv')",
   "outputs": [],
   "execution_count": 3
  },
  {
   "cell_type": "code",
   "id": "f1ae9cf6f3688fd",
   "metadata": {
    "ExecuteTime": {
     "end_time": "2025-06-06T13:39:20.601232Z",
     "start_time": "2025-06-06T13:39:20.593906Z"
    }
   },
   "source": "md_df.head()",
   "outputs": [
    {
     "data": {
      "text/plain": [
       "     lesion_id      image_id   dx dx_type   age   sex localization\n",
       "0  HAM_0000118  ISIC_0027419  bkl   histo  80.0  male        scalp\n",
       "1  HAM_0000118  ISIC_0025030  bkl   histo  80.0  male        scalp\n",
       "2  HAM_0002730  ISIC_0026769  bkl   histo  80.0  male        scalp\n",
       "3  HAM_0002730  ISIC_0025661  bkl   histo  80.0  male        scalp\n",
       "4  HAM_0001466  ISIC_0031633  bkl   histo  75.0  male          ear"
      ],
      "text/html": [
       "<div>\n",
       "<style scoped>\n",
       "    .dataframe tbody tr th:only-of-type {\n",
       "        vertical-align: middle;\n",
       "    }\n",
       "\n",
       "    .dataframe tbody tr th {\n",
       "        vertical-align: top;\n",
       "    }\n",
       "\n",
       "    .dataframe thead th {\n",
       "        text-align: right;\n",
       "    }\n",
       "</style>\n",
       "<table border=\"1\" class=\"dataframe\">\n",
       "  <thead>\n",
       "    <tr style=\"text-align: right;\">\n",
       "      <th></th>\n",
       "      <th>lesion_id</th>\n",
       "      <th>image_id</th>\n",
       "      <th>dx</th>\n",
       "      <th>dx_type</th>\n",
       "      <th>age</th>\n",
       "      <th>sex</th>\n",
       "      <th>localization</th>\n",
       "    </tr>\n",
       "  </thead>\n",
       "  <tbody>\n",
       "    <tr>\n",
       "      <th>0</th>\n",
       "      <td>HAM_0000118</td>\n",
       "      <td>ISIC_0027419</td>\n",
       "      <td>bkl</td>\n",
       "      <td>histo</td>\n",
       "      <td>80.0</td>\n",
       "      <td>male</td>\n",
       "      <td>scalp</td>\n",
       "    </tr>\n",
       "    <tr>\n",
       "      <th>1</th>\n",
       "      <td>HAM_0000118</td>\n",
       "      <td>ISIC_0025030</td>\n",
       "      <td>bkl</td>\n",
       "      <td>histo</td>\n",
       "      <td>80.0</td>\n",
       "      <td>male</td>\n",
       "      <td>scalp</td>\n",
       "    </tr>\n",
       "    <tr>\n",
       "      <th>2</th>\n",
       "      <td>HAM_0002730</td>\n",
       "      <td>ISIC_0026769</td>\n",
       "      <td>bkl</td>\n",
       "      <td>histo</td>\n",
       "      <td>80.0</td>\n",
       "      <td>male</td>\n",
       "      <td>scalp</td>\n",
       "    </tr>\n",
       "    <tr>\n",
       "      <th>3</th>\n",
       "      <td>HAM_0002730</td>\n",
       "      <td>ISIC_0025661</td>\n",
       "      <td>bkl</td>\n",
       "      <td>histo</td>\n",
       "      <td>80.0</td>\n",
       "      <td>male</td>\n",
       "      <td>scalp</td>\n",
       "    </tr>\n",
       "    <tr>\n",
       "      <th>4</th>\n",
       "      <td>HAM_0001466</td>\n",
       "      <td>ISIC_0031633</td>\n",
       "      <td>bkl</td>\n",
       "      <td>histo</td>\n",
       "      <td>75.0</td>\n",
       "      <td>male</td>\n",
       "      <td>ear</td>\n",
       "    </tr>\n",
       "  </tbody>\n",
       "</table>\n",
       "</div>"
      ]
     },
     "execution_count": 4,
     "metadata": {},
     "output_type": "execute_result"
    }
   ],
   "execution_count": 4
  },
  {
   "metadata": {},
   "cell_type": "markdown",
   "source": "## Image Data",
   "id": "409d5fb0add423f9"
  },
  {
   "cell_type": "code",
   "id": "e5a1ec4a871fa47c",
   "metadata": {
    "ExecuteTime": {
     "end_time": "2025-06-06T13:39:20.751790Z",
     "start_time": "2025-06-06T13:39:20.687137Z"
    }
   },
   "source": [
    "image_list = []\n",
    "\n",
    "for x in glob(os.path.join(\"../raw_data/archive/HAM10000_all_images\", \"*.jpg\")):\n",
    "    image_list.append(x)\n",
    "\n",
    "image_list"
   ],
   "outputs": [
    {
     "data": {
      "text/plain": [
       "['../raw_data/archive/HAM10000_all_images/ISIC_0030858.jpg',\n",
       " '../raw_data/archive/HAM10000_all_images/ISIC_0030680.jpg',\n",
       " '../raw_data/archive/HAM10000_all_images/ISIC_0033389.jpg',\n",
       " '../raw_data/archive/HAM10000_all_images/ISIC_0032097.jpg',\n",
       " '../raw_data/archive/HAM10000_all_images/ISIC_0032929.jpg',\n",
       " '../raw_data/archive/HAM10000_all_images/ISIC_0026784.jpg',\n",
       " '../raw_data/archive/HAM10000_all_images/ISIC_0028971.jpg',\n",
       " '../raw_data/archive/HAM10000_all_images/ISIC_0026948.jpg',\n",
       " '../raw_data/archive/HAM10000_all_images/ISIC_0026790.jpg',\n",
       " '../raw_data/archive/HAM10000_all_images/ISIC_0028965.jpg',\n",
       " '../raw_data/archive/HAM10000_all_images/ISIC_0025299.jpg',\n",
       " '../raw_data/archive/HAM10000_all_images/ISIC_0032083.jpg',\n",
       " '../raw_data/archive/HAM10000_all_images/ISIC_0024839.jpg',\n",
       " '../raw_data/archive/HAM10000_all_images/ISIC_0030694.jpg',\n",
       " '../raw_data/archive/HAM10000_all_images/ISIC_0024811.jpg',\n",
       " '../raw_data/archive/HAM10000_all_images/ISIC_0030864.jpg',\n",
       " '../raw_data/archive/HAM10000_all_images/ISIC_0026960.jpg',\n",
       " '../raw_data/archive/HAM10000_all_images/ISIC_0028795.jpg',\n",
       " '../raw_data/archive/HAM10000_all_images/ISIC_0032915.jpg',\n",
       " '../raw_data/archive/HAM10000_all_images/ISIC_0032901.jpg',\n",
       " '../raw_data/archive/HAM10000_all_images/ISIC_0026974.jpg',\n",
       " '../raw_data/archive/HAM10000_all_images/ISIC_0028781.jpg',\n",
       " '../raw_data/archive/HAM10000_all_images/ISIC_0028959.jpg',\n",
       " '../raw_data/archive/HAM10000_all_images/ISIC_0030870.jpg',\n",
       " '../raw_data/archive/HAM10000_all_images/ISIC_0024805.jpg',\n",
       " '../raw_data/archive/HAM10000_all_images/ISIC_0032054.jpg',\n",
       " '../raw_data/archive/HAM10000_all_images/ISIC_0025528.jpg',\n",
       " '../raw_data/archive/HAM10000_all_images/ISIC_0024636.jpg',\n",
       " '../raw_data/archive/HAM10000_all_images/ISIC_0030643.jpg',\n",
       " '../raw_data/archive/HAM10000_all_images/ISIC_0026021.jpg',\n",
       " '../raw_data/archive/HAM10000_all_images/ISIC_0029312.jpg',\n",
       " '../raw_data/archive/HAM10000_all_images/ISIC_0026747.jpg',\n",
       " '../raw_data/archive/HAM10000_all_images/ISIC_0029474.jpg',\n",
       " '../raw_data/archive/HAM10000_all_images/ISIC_0027459.jpg',\n",
       " '../raw_data/archive/HAM10000_all_images/ISIC_0030125.jpg',\n",
       " '../raw_data/archive/HAM10000_all_images/ISIC_0032732.jpg',\n",
       " '../raw_data/archive/HAM10000_all_images/ISIC_0033438.jpg',\n",
       " '../raw_data/archive/HAM10000_all_images/ISIC_0032726.jpg',\n",
       " '../raw_data/archive/HAM10000_all_images/ISIC_0026753.jpg',\n",
       " '../raw_data/archive/HAM10000_all_images/ISIC_0029460.jpg',\n",
       " '../raw_data/archive/HAM10000_all_images/ISIC_0030131.jpg',\n",
       " '../raw_data/archive/HAM10000_all_images/ISIC_0030657.jpg',\n",
       " '../raw_data/archive/HAM10000_all_images/ISIC_0028018.jpg',\n",
       " '../raw_data/archive/HAM10000_all_images/ISIC_0026035.jpg',\n",
       " '../raw_data/archive/HAM10000_all_images/ISIC_0029306.jpg',\n",
       " '../raw_data/archive/HAM10000_all_images/ISIC_0031549.jpg',\n",
       " '../raw_data/archive/HAM10000_all_images/ISIC_0032040.jpg',\n",
       " '../raw_data/archive/HAM10000_all_images/ISIC_0024622.jpg',\n",
       " '../raw_data/archive/HAM10000_all_images/ISIC_0028030.jpg',\n",
       " '../raw_data/archive/HAM10000_all_images/ISIC_0027303.jpg',\n",
       " '../raw_data/archive/HAM10000_all_images/ISIC_0031561.jpg',\n",
       " '../raw_data/archive/HAM10000_all_images/ISIC_0025514.jpg',\n",
       " '../raw_data/archive/HAM10000_all_images/ISIC_0032068.jpg',\n",
       " '../raw_data/archive/HAM10000_all_images/ISIC_0033376.jpg',\n",
       " '../raw_data/archive/HAM10000_all_images/ISIC_0033410.jpg',\n",
       " '../raw_data/archive/HAM10000_all_images/ISIC_0025272.jpg',\n",
       " '../raw_data/archive/HAM10000_all_images/ISIC_0031207.jpg',\n",
       " '../raw_data/archive/HAM10000_all_images/ISIC_0029448.jpg',\n",
       " '../raw_data/archive/HAM10000_all_images/ISIC_0028756.jpg',\n",
       " '../raw_data/archive/HAM10000_all_images/ISIC_0030119.jpg',\n",
       " '../raw_data/archive/HAM10000_all_images/ISIC_0027465.jpg',\n",
       " '../raw_data/archive/HAM10000_all_images/ISIC_0031213.jpg',\n",
       " '../raw_data/archive/HAM10000_all_images/ISIC_0028742.jpg',\n",
       " '../raw_data/archive/HAM10000_all_images/ISIC_0027471.jpg',\n",
       " '../raw_data/archive/HAM10000_all_images/ISIC_0033404.jpg',\n",
       " '../raw_data/archive/HAM10000_all_images/ISIC_0025266.jpg',\n",
       " '../raw_data/archive/HAM10000_all_images/ISIC_0025500.jpg',\n",
       " '../raw_data/archive/HAM10000_all_images/ISIC_0033362.jpg',\n",
       " '../raw_data/archive/HAM10000_all_images/ISIC_0028024.jpg',\n",
       " '../raw_data/archive/HAM10000_all_images/ISIC_0027317.jpg',\n",
       " '../raw_data/archive/HAM10000_all_images/ISIC_0031575.jpg',\n",
       " '../raw_data/archive/HAM10000_all_images/ISIC_0026009.jpg',\n",
       " '../raw_data/archive/HAM10000_all_images/ISIC_0027840.jpg',\n",
       " '../raw_data/archive/HAM10000_all_images/ISIC_0026586.jpg',\n",
       " '../raw_data/archive/HAM10000_all_images/ISIC_0027698.jpg',\n",
       " '../raw_data/archive/HAM10000_all_images/ISIC_0034182.jpg',\n",
       " '../raw_data/archive/HAM10000_all_images/ISIC_0024391.jpg',\n",
       " '../raw_data/archive/HAM10000_all_images/ISIC_0033835.jpg',\n",
       " '../raw_data/archive/HAM10000_all_images/ISIC_0032295.jpg',\n",
       " '../raw_data/archive/HAM10000_all_images/ISIC_0025931.jpg',\n",
       " '../raw_data/archive/HAM10000_all_images/ISIC_0031944.jpg',\n",
       " '../raw_data/archive/HAM10000_all_images/ISIC_0030482.jpg',\n",
       " '../raw_data/archive/HAM10000_all_images/ISIC_0031950.jpg',\n",
       " '../raw_data/archive/HAM10000_all_images/ISIC_0030496.jpg',\n",
       " '../raw_data/archive/HAM10000_all_images/ISIC_0031788.jpg',\n",
       " '../raw_data/archive/HAM10000_all_images/ISIC_0032281.jpg',\n",
       " '../raw_data/archive/HAM10000_all_images/ISIC_0025925.jpg',\n",
       " '../raw_data/archive/HAM10000_all_images/ISIC_0034196.jpg',\n",
       " '../raw_data/archive/HAM10000_all_images/ISIC_0024385.jpg',\n",
       " '../raw_data/archive/HAM10000_all_images/ISIC_0033821.jpg',\n",
       " '../raw_data/archive/HAM10000_all_images/ISIC_0027854.jpg',\n",
       " '../raw_data/archive/HAM10000_all_images/ISIC_0026592.jpg',\n",
       " '../raw_data/archive/HAM10000_all_images/ISIC_0029879.jpg',\n",
       " '../raw_data/archive/HAM10000_all_images/ISIC_0033809.jpg',\n",
       " '../raw_data/archive/HAM10000_all_images/ISIC_0029689.jpg',\n",
       " '../raw_data/archive/HAM10000_all_images/ISIC_0028597.jpg',\n",
       " '../raw_data/archive/HAM10000_all_images/ISIC_0029851.jpg',\n",
       " '../raw_data/archive/HAM10000_all_images/ISIC_0031978.jpg',\n",
       " '../raw_data/archive/HAM10000_all_images/ISIC_0025919.jpg',\n",
       " '../raw_data/archive/HAM10000_all_images/ISIC_0027868.jpg',\n",
       " '../raw_data/archive/HAM10000_all_images/ISIC_0028583.jpg',\n",
       " '../raw_data/archive/HAM10000_all_images/ISIC_0029845.jpg',\n",
       " '../raw_data/archive/HAM10000_all_images/ISIC_0032530.jpg',\n",
       " '../raw_data/archive/HAM10000_all_images/ISIC_0034141.jpg',\n",
       " '../raw_data/archive/HAM10000_all_images/ISIC_0024352.jpg',\n",
       " '../raw_data/archive/HAM10000_all_images/ISIC_0030327.jpg',\n",
       " '../raw_data/archive/HAM10000_all_images/ISIC_0028568.jpg',\n",
       " '../raw_data/archive/HAM10000_all_images/ISIC_0027883.jpg',\n",
       " '../raw_data/archive/HAM10000_all_images/ISIC_0029676.jpg',\n",
       " '../raw_data/archive/HAM10000_all_images/ISIC_0031039.jpg',\n",
       " '../raw_data/archive/HAM10000_all_images/ISIC_0026545.jpg',\n",
       " '../raw_data/archive/HAM10000_all_images/ISIC_0029110.jpg',\n",
       " '../raw_data/archive/HAM10000_all_images/ISIC_0026223.jpg',\n",
       " '../raw_data/archive/HAM10000_all_images/ISIC_0031987.jpg',\n",
       " '../raw_data/archive/HAM10000_all_images/ISIC_0030441.jpg',\n",
       " '../raw_data/archive/HAM10000_all_images/ISIC_0024434.jpg',\n",
       " '../raw_data/archive/HAM10000_all_images/ISIC_0033148.jpg',\n",
       " '../raw_data/archive/HAM10000_all_images/ISIC_0032256.jpg',\n",
       " '../raw_data/archive/HAM10000_all_images/ISIC_0024420.jpg',\n",
       " '../raw_data/archive/HAM10000_all_images/ISIC_0032242.jpg',\n",
       " '../raw_data/archive/HAM10000_all_images/ISIC_0029104.jpg',\n",
       " '../raw_data/archive/HAM10000_all_images/ISIC_0026237.jpg',\n",
       " '../raw_data/archive/HAM10000_all_images/ISIC_0031993.jpg',\n",
       " '../raw_data/archive/HAM10000_all_images/ISIC_0030455.jpg',\n",
       " '../raw_data/archive/HAM10000_all_images/ISIC_0027129.jpg',\n",
       " '../raw_data/archive/HAM10000_all_images/ISIC_0030333.jpg',\n",
       " '../raw_data/archive/HAM10000_all_images/ISIC_0027897.jpg',\n",
       " '../raw_data/archive/HAM10000_all_images/ISIC_0029662.jpg',\n",
       " '../raw_data/archive/HAM10000_all_images/ISIC_0026551.jpg',\n",
       " '../raw_data/archive/HAM10000_all_images/ISIC_0025058.jpg',\n",
       " '../raw_data/archive/HAM10000_all_images/ISIC_0032524.jpg',\n",
       " '../raw_data/archive/HAM10000_all_images/ISIC_0034155.jpg',\n",
       " '../raw_data/archive/HAM10000_all_images/ISIC_0024346.jpg',\n",
       " '../raw_data/archive/HAM10000_all_images/ISIC_0027667.jpg',\n",
       " '../raw_data/archive/HAM10000_all_images/ISIC_0028554.jpg',\n",
       " '../raw_data/archive/HAM10000_all_images/ISIC_0029892.jpg',\n",
       " '../raw_data/archive/HAM10000_all_images/ISIC_0026579.jpg',\n",
       " '../raw_data/archive/HAM10000_all_images/ISIC_0031005.jpg',\n",
       " '../raw_data/archive/HAM10000_all_images/ISIC_0025070.jpg',\n",
       " '../raw_data/archive/HAM10000_all_images/ISIC_0033612.jpg',\n",
       " '../raw_data/archive/HAM10000_all_images/ISIC_0033174.jpg',\n",
       " '../raw_data/archive/HAM10000_all_images/ISIC_0024408.jpg',\n",
       " '../raw_data/archive/HAM10000_all_images/ISIC_0025716.jpg',\n",
       " '../raw_data/archive/HAM10000_all_images/ISIC_0031763.jpg',\n",
       " '../raw_data/archive/HAM10000_all_images/ISIC_0027101.jpg',\n",
       " '../raw_data/archive/HAM10000_all_images/ISIC_0028232.jpg',\n",
       " '../raw_data/archive/HAM10000_all_images/ISIC_0031777.jpg',\n",
       " '../raw_data/archive/HAM10000_all_images/ISIC_0029138.jpg',\n",
       " '../raw_data/archive/HAM10000_all_images/ISIC_0027115.jpg',\n",
       " '../raw_data/archive/HAM10000_all_images/ISIC_0028226.jpg',\n",
       " '../raw_data/archive/HAM10000_all_images/ISIC_0030469.jpg',\n",
       " '../raw_data/archive/HAM10000_all_images/ISIC_0033160.jpg',\n",
       " '../raw_data/archive/HAM10000_all_images/ISIC_0025702.jpg',\n",
       " '../raw_data/archive/HAM10000_all_images/ISIC_0032518.jpg',\n",
       " '../raw_data/archive/HAM10000_all_images/ISIC_0025064.jpg',\n",
       " '../raw_data/archive/HAM10000_all_images/ISIC_0034169.jpg',\n",
       " '../raw_data/archive/HAM10000_all_images/ISIC_0033606.jpg',\n",
       " '../raw_data/archive/HAM10000_all_images/ISIC_0027673.jpg',\n",
       " '../raw_data/archive/HAM10000_all_images/ISIC_0028540.jpg',\n",
       " '../raw_data/archive/HAM10000_all_images/ISIC_0029886.jpg',\n",
       " '../raw_data/archive/HAM10000_all_images/ISIC_0031011.jpg',\n",
       " '../raw_data/archive/HAM10000_all_images/ISIC_0029919.jpg',\n",
       " '../raw_data/archive/HAM10000_all_images/ISIC_0030290.jpg',\n",
       " '../raw_data/archive/HAM10000_all_images/ISIC_0027934.jpg',\n",
       " '../raw_data/archive/HAM10000_all_images/ISIC_0033941.jpg',\n",
       " '../raw_data/archive/HAM10000_all_images/ISIC_0032487.jpg',\n",
       " '../raw_data/archive/HAM10000_all_images/ISIC_0033799.jpg',\n",
       " '../raw_data/archive/HAM10000_all_images/ISIC_0025845.jpg',\n",
       " '../raw_data/archive/HAM10000_all_images/ISIC_0024583.jpg',\n",
       " '../raw_data/archive/HAM10000_all_images/ISIC_0026394.jpg',\n",
       " '../raw_data/archive/HAM10000_all_images/ISIC_0031830.jpg',\n",
       " '../raw_data/archive/HAM10000_all_images/ISIC_0026380.jpg',\n",
       " '../raw_data/archive/HAM10000_all_images/ISIC_0031824.jpg',\n",
       " '../raw_data/archive/HAM10000_all_images/ISIC_0025851.jpg',\n",
       " '../raw_data/archive/HAM10000_all_images/ISIC_0024597.jpg',\n",
       " '../raw_data/archive/HAM10000_all_images/ISIC_0025689.jpg',\n",
       " '../raw_data/archive/HAM10000_all_images/ISIC_0033955.jpg',\n",
       " '../raw_data/archive/HAM10000_all_images/ISIC_0032493.jpg',\n",
       " '../raw_data/archive/HAM10000_all_images/ISIC_0030284.jpg',\n",
       " '../raw_data/archive/HAM10000_all_images/ISIC_0027920.jpg',\n",
       " '../raw_data/archive/HAM10000_all_images/ISIC_0029925.jpg',\n",
       " '../raw_data/archive/HAM10000_all_images/ISIC_0027908.jpg',\n",
       " '../raw_data/archive/HAM10000_all_images/ISIC_0028385.jpg',\n",
       " '../raw_data/archive/HAM10000_all_images/ISIC_0025879.jpg',\n",
       " '../raw_data/archive/HAM10000_all_images/ISIC_0028391.jpg',\n",
       " '../raw_data/archive/HAM10000_all_images/ISIC_0031818.jpg',\n",
       " '../raw_data/archive/HAM10000_all_images/ISIC_0029931.jpg',\n",
       " '../raw_data/archive/HAM10000_all_images/ISIC_0033969.jpg',\n",
       " '../raw_data/archive/HAM10000_all_images/ISIC_0034035.jpg',\n",
       " '../raw_data/archive/HAM10000_all_images/ISIC_0033982.jpg',\n",
       " '../raw_data/archive/HAM10000_all_images/ISIC_0025138.jpg',\n",
       " '../raw_data/archive/HAM10000_all_images/ISIC_0032444.jpg',\n",
       " '../raw_data/archive/HAM10000_all_images/ISIC_0029702.jpg',\n",
       " '../raw_data/archive/HAM10000_all_images/ISIC_0026431.jpg',\n",
       " '../raw_data/archive/HAM10000_all_images/ISIC_0030253.jpg',\n",
       " '../raw_data/archive/HAM10000_all_images/ISIC_0030535.jpg',\n",
       " '../raw_data/archive/HAM10000_all_images/ISIC_0027049.jpg',\n",
       " '../raw_data/archive/HAM10000_all_images/ISIC_0029064.jpg',\n",
       " '../raw_data/archive/HAM10000_all_images/ISIC_0026357.jpg',\n",
       " '../raw_data/archive/HAM10000_all_images/ISIC_0032322.jpg',\n",
       " '../raw_data/archive/HAM10000_all_images/ISIC_0025886.jpg',\n",
       " '../raw_data/archive/HAM10000_all_images/ISIC_0024540.jpg',\n",
       " '../raw_data/archive/HAM10000_all_images/ISIC_0032336.jpg',\n",
       " '../raw_data/archive/HAM10000_all_images/ISIC_0025892.jpg',\n",
       " '../raw_data/archive/HAM10000_all_images/ISIC_0024554.jpg',\n",
       " '../raw_data/archive/HAM10000_all_images/ISIC_0033028.jpg',\n",
       " '../raw_data/archive/HAM10000_all_images/ISIC_0030521.jpg',\n",
       " '../raw_data/archive/HAM10000_all_images/ISIC_0029070.jpg',\n",
       " '../raw_data/archive/HAM10000_all_images/ISIC_0026343.jpg',\n",
       " '../raw_data/archive/HAM10000_all_images/ISIC_0029716.jpg',\n",
       " '../raw_data/archive/HAM10000_all_images/ISIC_0031159.jpg',\n",
       " '../raw_data/archive/HAM10000_all_images/ISIC_0026425.jpg',\n",
       " '../raw_data/archive/HAM10000_all_images/ISIC_0030247.jpg',\n",
       " '../raw_data/archive/HAM10000_all_images/ISIC_0028408.jpg',\n",
       " '../raw_data/archive/HAM10000_all_images/ISIC_0034021.jpg',\n",
       " '../raw_data/archive/HAM10000_all_images/ISIC_0033996.jpg',\n",
       " '../raw_data/archive/HAM10000_all_images/ISIC_0032450.jpg',\n",
       " '../raw_data/archive/HAM10000_all_images/ISIC_0031171.jpg',\n",
       " '../raw_data/archive/HAM10000_all_images/ISIC_0027713.jpg',\n",
       " '../raw_data/archive/HAM10000_all_images/ISIC_0028420.jpg',\n",
       " '../raw_data/archive/HAM10000_all_images/ISIC_0033766.jpg',\n",
       " '../raw_data/archive/HAM10000_all_images/ISIC_0034009.jpg',\n",
       " '../raw_data/archive/HAM10000_all_images/ISIC_0032478.jpg',\n",
       " '../raw_data/archive/HAM10000_all_images/ISIC_0025104.jpg',\n",
       " '../raw_data/archive/HAM10000_all_images/ISIC_0025662.jpg',\n",
       " '../raw_data/archive/HAM10000_all_images/ISIC_0033000.jpg',\n",
       " '../raw_data/archive/HAM10000_all_images/ISIC_0027075.jpg',\n",
       " '../raw_data/archive/HAM10000_all_images/ISIC_0028346.jpg',\n",
       " '../raw_data/archive/HAM10000_all_images/ISIC_0030509.jpg',\n",
       " '../raw_data/archive/HAM10000_all_images/ISIC_0031617.jpg',\n",
       " '../raw_data/archive/HAM10000_all_images/ISIC_0029058.jpg',\n",
       " '../raw_data/archive/HAM10000_all_images/ISIC_0027061.jpg',\n",
       " '../raw_data/archive/HAM10000_all_images/ISIC_0028352.jpg',\n",
       " '../raw_data/archive/HAM10000_all_images/ISIC_0031603.jpg',\n",
       " '../raw_data/archive/HAM10000_all_images/ISIC_0025676.jpg',\n",
       " '../raw_data/archive/HAM10000_all_images/ISIC_0033014.jpg',\n",
       " '../raw_data/archive/HAM10000_all_images/ISIC_0024568.jpg',\n",
       " '../raw_data/archive/HAM10000_all_images/ISIC_0033772.jpg',\n",
       " '../raw_data/archive/HAM10000_all_images/ISIC_0025110.jpg',\n",
       " '../raw_data/archive/HAM10000_all_images/ISIC_0026419.jpg',\n",
       " '../raw_data/archive/HAM10000_all_images/ISIC_0031165.jpg',\n",
       " '../raw_data/archive/HAM10000_all_images/ISIC_0027707.jpg',\n",
       " '../raw_data/archive/HAM10000_all_images/ISIC_0028434.jpg',\n",
       " '../raw_data/archive/HAM10000_all_images/ISIC_0027288.jpg',\n",
       " '../raw_data/archive/HAM10000_all_images/ISIC_0026196.jpg',\n",
       " '../raw_data/archive/HAM10000_all_images/ISIC_0024959.jpg',\n",
       " '../raw_data/archive/HAM10000_all_images/ISIC_0024781.jpg',\n",
       " '../raw_data/archive/HAM10000_all_images/ISIC_0032685.jpg',\n",
       " '../raw_data/archive/HAM10000_all_images/ISIC_0028805.jpg',\n",
       " '../raw_data/archive/HAM10000_all_images/ISIC_0030092.jpg',\n",
       " '../raw_data/archive/HAM10000_all_images/ISIC_0026828.jpg',\n",
       " '../raw_data/archive/HAM10000_all_images/ISIC_0028811.jpg',\n",
       " '../raw_data/archive/HAM10000_all_images/ISIC_0031398.jpg',\n",
       " '../raw_data/archive/HAM10000_all_images/ISIC_0030086.jpg',\n",
       " '../raw_data/archive/HAM10000_all_images/ISIC_0032849.jpg',\n",
       " '../raw_data/archive/HAM10000_all_images/ISIC_0032691.jpg',\n",
       " '../raw_data/archive/HAM10000_all_images/ISIC_0024795.jpg',\n",
       " '../raw_data/archive/HAM10000_all_images/ISIC_0026182.jpg',\n",
       " '../raw_data/archive/HAM10000_all_images/ISIC_0030938.jpg',\n",
       " '../raw_data/archive/HAM10000_all_images/ISIC_0024965.jpg',\n",
       " '../raw_data/archive/HAM10000_all_images/ISIC_0028187.jpg',\n",
       " '../raw_data/archive/HAM10000_all_images/ISIC_0029299.jpg',\n",
       " '../raw_data/archive/HAM10000_all_images/ISIC_0030910.jpg',\n",
       " '../raw_data/archive/HAM10000_all_images/ISIC_0028839.jpg',\n",
       " '../raw_data/archive/HAM10000_all_images/ISIC_0026814.jpg',\n",
       " '../raw_data/archive/HAM10000_all_images/ISIC_0032861.jpg',\n",
       " '../raw_data/archive/HAM10000_all_images/ISIC_0032875.jpg',\n",
       " '../raw_data/archive/HAM10000_all_images/ISIC_0026800.jpg',\n",
       " '../raw_data/archive/HAM10000_all_images/ISIC_0028193.jpg',\n",
       " '../raw_data/archive/HAM10000_all_images/ISIC_0030904.jpg',\n",
       " '../raw_data/archive/HAM10000_all_images/ISIC_0024971.jpg',\n",
       " '../raw_data/archive/HAM10000_all_images/ISIC_0024742.jpg',\n",
       " '../raw_data/archive/HAM10000_all_images/ISIC_0032120.jpg',\n",
       " '../raw_data/archive/HAM10000_all_images/ISIC_0026155.jpg',\n",
       " '../raw_data/archive/HAM10000_all_images/ISIC_0029266.jpg',\n",
       " '../raw_data/archive/HAM10000_all_images/ISIC_0031429.jpg',\n",
       " '../raw_data/archive/HAM10000_all_images/ISIC_0030737.jpg',\n",
       " '../raw_data/archive/HAM10000_all_images/ISIC_0028178.jpg',\n",
       " '../raw_data/archive/HAM10000_all_images/ISIC_0030051.jpg',\n",
       " '../raw_data/archive/HAM10000_all_images/ISIC_0026633.jpg',\n",
       " '../raw_data/archive/HAM10000_all_images/ISIC_0029500.jpg',\n",
       " '../raw_data/archive/HAM10000_all_images/ISIC_0032646.jpg',\n",
       " '../raw_data/archive/HAM10000_all_images/ISIC_0034237.jpg',\n",
       " '../raw_data/archive/HAM10000_all_images/ISIC_0033558.jpg',\n",
       " '../raw_data/archive/HAM10000_all_images/ISIC_0032652.jpg',\n",
       " '../raw_data/archive/HAM10000_all_images/ISIC_0034223.jpg',\n",
       " '../raw_data/archive/HAM10000_all_images/ISIC_0027539.jpg',\n",
       " '../raw_data/archive/HAM10000_all_images/ISIC_0030045.jpg',\n",
       " '../raw_data/archive/HAM10000_all_images/ISIC_0026627.jpg',\n",
       " '../raw_data/archive/HAM10000_all_images/ISIC_0029514.jpg',\n",
       " '../raw_data/archive/HAM10000_all_images/ISIC_0026141.jpg',\n",
       " '../raw_data/archive/HAM10000_all_images/ISIC_0029272.jpg',\n",
       " '../raw_data/archive/HAM10000_all_images/ISIC_0030723.jpg',\n",
       " '../raw_data/archive/HAM10000_all_images/ISIC_0024756.jpg',\n",
       " '../raw_data/archive/HAM10000_all_images/ISIC_0032134.jpg',\n",
       " '../raw_data/archive/HAM10000_all_images/ISIC_0025448.jpg',\n",
       " '../raw_data/archive/HAM10000_all_images/ISIC_0031415.jpg',\n",
       " '../raw_data/archive/HAM10000_all_images/ISIC_0026169.jpg',\n",
       " '../raw_data/archive/HAM10000_all_images/ISIC_0028144.jpg',\n",
       " '../raw_data/archive/HAM10000_all_images/ISIC_0027277.jpg',\n",
       " '../raw_data/archive/HAM10000_all_images/ISIC_0033202.jpg',\n",
       " '../raw_data/archive/HAM10000_all_images/ISIC_0025460.jpg',\n",
       " '../raw_data/archive/HAM10000_all_images/ISIC_0025306.jpg',\n",
       " '../raw_data/archive/HAM10000_all_images/ISIC_0033564.jpg',\n",
       " '../raw_data/archive/HAM10000_all_images/ISIC_0028622.jpg',\n",
       " '../raw_data/archive/HAM10000_all_images/ISIC_0027511.jpg',\n",
       " '../raw_data/archive/HAM10000_all_images/ISIC_0031373.jpg',\n",
       " '../raw_data/archive/HAM10000_all_images/ISIC_0028636.jpg',\n",
       " '../raw_data/archive/HAM10000_all_images/ISIC_0030079.jpg',\n",
       " '../raw_data/archive/HAM10000_all_images/ISIC_0027505.jpg',\n",
       " '../raw_data/archive/HAM10000_all_images/ISIC_0031367.jpg',\n",
       " '../raw_data/archive/HAM10000_all_images/ISIC_0029528.jpg',\n",
       " '../raw_data/archive/HAM10000_all_images/ISIC_0025312.jpg',\n",
       " '../raw_data/archive/HAM10000_all_images/ISIC_0033570.jpg',\n",
       " '../raw_data/archive/HAM10000_all_images/ISIC_0033216.jpg',\n",
       " '../raw_data/archive/HAM10000_all_images/ISIC_0025474.jpg',\n",
       " '../raw_data/archive/HAM10000_all_images/ISIC_0032108.jpg',\n",
       " '../raw_data/archive/HAM10000_all_images/ISIC_0031401.jpg',\n",
       " '../raw_data/archive/HAM10000_all_images/ISIC_0028150.jpg',\n",
       " '../raw_data/archive/HAM10000_all_images/ISIC_0027263.jpg',\n",
       " '../raw_data/archive/HAM10000_all_images/ISIC_0033571.jpg',\n",
       " '../raw_data/archive/HAM10000_all_images/ISIC_0025313.jpg',\n",
       " '../raw_data/archive/HAM10000_all_images/ISIC_0031366.jpg',\n",
       " '../raw_data/archive/HAM10000_all_images/ISIC_0029529.jpg',\n",
       " '../raw_data/archive/HAM10000_all_images/ISIC_0027504.jpg',\n",
       " '../raw_data/archive/HAM10000_all_images/ISIC_0028637.jpg',\n",
       " '../raw_data/archive/HAM10000_all_images/ISIC_0030078.jpg',\n",
       " '../raw_data/archive/HAM10000_all_images/ISIC_0027262.jpg',\n",
       " '../raw_data/archive/HAM10000_all_images/ISIC_0028151.jpg',\n",
       " '../raw_data/archive/HAM10000_all_images/ISIC_0031400.jpg',\n",
       " '../raw_data/archive/HAM10000_all_images/ISIC_0032109.jpg',\n",
       " '../raw_data/archive/HAM10000_all_images/ISIC_0025475.jpg',\n",
       " '../raw_data/archive/HAM10000_all_images/ISIC_0033217.jpg',\n",
       " '../raw_data/archive/HAM10000_all_images/ISIC_0025461.jpg',\n",
       " '../raw_data/archive/HAM10000_all_images/ISIC_0033203.jpg',\n",
       " '../raw_data/archive/HAM10000_all_images/ISIC_0027276.jpg',\n",
       " '../raw_data/archive/HAM10000_all_images/ISIC_0028145.jpg',\n",
       " '../raw_data/archive/HAM10000_all_images/ISIC_0026168.jpg',\n",
       " '../raw_data/archive/HAM10000_all_images/ISIC_0031414.jpg',\n",
       " '../raw_data/archive/HAM10000_all_images/ISIC_0031372.jpg',\n",
       " '../raw_data/archive/HAM10000_all_images/ISIC_0027510.jpg',\n",
       " '../raw_data/archive/HAM10000_all_images/ISIC_0028623.jpg',\n",
       " '../raw_data/archive/HAM10000_all_images/ISIC_0033565.jpg',\n",
       " '../raw_data/archive/HAM10000_all_images/ISIC_0025307.jpg',\n",
       " '../raw_data/archive/HAM10000_all_images/ISIC_0029515.jpg',\n",
       " '../raw_data/archive/HAM10000_all_images/ISIC_0026626.jpg',\n",
       " '../raw_data/archive/HAM10000_all_images/ISIC_0030044.jpg',\n",
       " '../raw_data/archive/HAM10000_all_images/ISIC_0027538.jpg',\n",
       " '../raw_data/archive/HAM10000_all_images/ISIC_0034222.jpg',\n",
       " '../raw_data/archive/HAM10000_all_images/ISIC_0032653.jpg',\n",
       " '../raw_data/archive/HAM10000_all_images/ISIC_0025449.jpg',\n",
       " '../raw_data/archive/HAM10000_all_images/ISIC_0032135.jpg',\n",
       " '../raw_data/archive/HAM10000_all_images/ISIC_0024757.jpg',\n",
       " '../raw_data/archive/HAM10000_all_images/ISIC_0030722.jpg',\n",
       " '../raw_data/archive/HAM10000_all_images/ISIC_0029273.jpg',\n",
       " '../raw_data/archive/HAM10000_all_images/ISIC_0026140.jpg',\n",
       " '../raw_data/archive/HAM10000_all_images/ISIC_0030736.jpg',\n",
       " '../raw_data/archive/HAM10000_all_images/ISIC_0028179.jpg',\n",
       " '../raw_data/archive/HAM10000_all_images/ISIC_0029267.jpg',\n",
       " '../raw_data/archive/HAM10000_all_images/ISIC_0031428.jpg',\n",
       " '../raw_data/archive/HAM10000_all_images/ISIC_0026154.jpg',\n",
       " '../raw_data/archive/HAM10000_all_images/ISIC_0032121.jpg',\n",
       " '../raw_data/archive/HAM10000_all_images/ISIC_0024743.jpg',\n",
       " '../raw_data/archive/HAM10000_all_images/ISIC_0033559.jpg',\n",
       " '../raw_data/archive/HAM10000_all_images/ISIC_0034236.jpg',\n",
       " '../raw_data/archive/HAM10000_all_images/ISIC_0032647.jpg',\n",
       " '../raw_data/archive/HAM10000_all_images/ISIC_0029501.jpg',\n",
       " '../raw_data/archive/HAM10000_all_images/ISIC_0026632.jpg',\n",
       " '../raw_data/archive/HAM10000_all_images/ISIC_0030050.jpg',\n",
       " '../raw_data/archive/HAM10000_all_images/ISIC_0026801.jpg',\n",
       " '../raw_data/archive/HAM10000_all_images/ISIC_0032874.jpg',\n",
       " '../raw_data/archive/HAM10000_all_images/ISIC_0024970.jpg',\n",
       " '../raw_data/archive/HAM10000_all_images/ISIC_0030905.jpg',\n",
       " '../raw_data/archive/HAM10000_all_images/ISIC_0028192.jpg',\n",
       " '../raw_data/archive/HAM10000_all_images/ISIC_0030911.jpg',\n",
       " '../raw_data/archive/HAM10000_all_images/ISIC_0029298.jpg',\n",
       " '../raw_data/archive/HAM10000_all_images/ISIC_0028186.jpg',\n",
       " '../raw_data/archive/HAM10000_all_images/ISIC_0024964.jpg',\n",
       " '../raw_data/archive/HAM10000_all_images/ISIC_0032860.jpg',\n",
       " '../raw_data/archive/HAM10000_all_images/ISIC_0026815.jpg',\n",
       " '../raw_data/archive/HAM10000_all_images/ISIC_0028838.jpg',\n",
       " '../raw_data/archive/HAM10000_all_images/ISIC_0032690.jpg',\n",
       " '../raw_data/archive/HAM10000_all_images/ISIC_0032848.jpg',\n",
       " '../raw_data/archive/HAM10000_all_images/ISIC_0030087.jpg',\n",
       " '../raw_data/archive/HAM10000_all_images/ISIC_0031399.jpg',\n",
       " '../raw_data/archive/HAM10000_all_images/ISIC_0028810.jpg',\n",
       " '../raw_data/archive/HAM10000_all_images/ISIC_0030939.jpg',\n",
       " '../raw_data/archive/HAM10000_all_images/ISIC_0026183.jpg',\n",
       " '../raw_data/archive/HAM10000_all_images/ISIC_0024794.jpg',\n",
       " '../raw_data/archive/HAM10000_all_images/ISIC_0024780.jpg',\n",
       " '../raw_data/archive/HAM10000_all_images/ISIC_0024958.jpg',\n",
       " '../raw_data/archive/HAM10000_all_images/ISIC_0026197.jpg',\n",
       " '../raw_data/archive/HAM10000_all_images/ISIC_0027289.jpg',\n",
       " '../raw_data/archive/HAM10000_all_images/ISIC_0026829.jpg',\n",
       " '../raw_data/archive/HAM10000_all_images/ISIC_0030093.jpg',\n",
       " '../raw_data/archive/HAM10000_all_images/ISIC_0028804.jpg',\n",
       " '../raw_data/archive/HAM10000_all_images/ISIC_0032684.jpg',\n",
       " '../raw_data/archive/HAM10000_all_images/ISIC_0024569.jpg',\n",
       " '../raw_data/archive/HAM10000_all_images/ISIC_0033015.jpg',\n",
       " '../raw_data/archive/HAM10000_all_images/ISIC_0025677.jpg',\n",
       " '../raw_data/archive/HAM10000_all_images/ISIC_0031602.jpg',\n",
       " '../raw_data/archive/HAM10000_all_images/ISIC_0028353.jpg',\n",
       " '../raw_data/archive/HAM10000_all_images/ISIC_0027060.jpg',\n",
       " '../raw_data/archive/HAM10000_all_images/ISIC_0028435.jpg',\n",
       " '../raw_data/archive/HAM10000_all_images/ISIC_0027706.jpg',\n",
       " '../raw_data/archive/HAM10000_all_images/ISIC_0031164.jpg',\n",
       " '../raw_data/archive/HAM10000_all_images/ISIC_0026418.jpg',\n",
       " '../raw_data/archive/HAM10000_all_images/ISIC_0025111.jpg',\n",
       " '../raw_data/archive/HAM10000_all_images/ISIC_0033773.jpg',\n",
       " '../raw_data/archive/HAM10000_all_images/ISIC_0025105.jpg',\n",
       " '../raw_data/archive/HAM10000_all_images/ISIC_0032479.jpg',\n",
       " '../raw_data/archive/HAM10000_all_images/ISIC_0034008.jpg',\n",
       " '../raw_data/archive/HAM10000_all_images/ISIC_0033767.jpg',\n",
       " '../raw_data/archive/HAM10000_all_images/ISIC_0028421.jpg',\n",
       " '../raw_data/archive/HAM10000_all_images/ISIC_0027712.jpg',\n",
       " '../raw_data/archive/HAM10000_all_images/ISIC_0031170.jpg',\n",
       " '../raw_data/archive/HAM10000_all_images/ISIC_0031616.jpg',\n",
       " '../raw_data/archive/HAM10000_all_images/ISIC_0029059.jpg',\n",
       " '../raw_data/archive/HAM10000_all_images/ISIC_0028347.jpg',\n",
       " '../raw_data/archive/HAM10000_all_images/ISIC_0030508.jpg',\n",
       " '../raw_data/archive/HAM10000_all_images/ISIC_0027074.jpg',\n",
       " '../raw_data/archive/HAM10000_all_images/ISIC_0033001.jpg',\n",
       " '../raw_data/archive/HAM10000_all_images/ISIC_0025663.jpg',\n",
       " '../raw_data/archive/HAM10000_all_images/ISIC_0026342.jpg',\n",
       " '../raw_data/archive/HAM10000_all_images/ISIC_0029071.jpg',\n",
       " '../raw_data/archive/HAM10000_all_images/ISIC_0030520.jpg',\n",
       " '../raw_data/archive/HAM10000_all_images/ISIC_0033029.jpg',\n",
       " '../raw_data/archive/HAM10000_all_images/ISIC_0024555.jpg',\n",
       " '../raw_data/archive/HAM10000_all_images/ISIC_0025893.jpg',\n",
       " '../raw_data/archive/HAM10000_all_images/ISIC_0032337.jpg',\n",
       " '../raw_data/archive/HAM10000_all_images/ISIC_0032451.jpg',\n",
       " '../raw_data/archive/HAM10000_all_images/ISIC_0033997.jpg',\n",
       " '../raw_data/archive/HAM10000_all_images/ISIC_0034020.jpg',\n",
       " '../raw_data/archive/HAM10000_all_images/ISIC_0030246.jpg',\n",
       " '../raw_data/archive/HAM10000_all_images/ISIC_0028409.jpg',\n",
       " '../raw_data/archive/HAM10000_all_images/ISIC_0026424.jpg',\n",
       " '../raw_data/archive/HAM10000_all_images/ISIC_0029717.jpg',\n",
       " '../raw_data/archive/HAM10000_all_images/ISIC_0031158.jpg',\n",
       " '../raw_data/archive/HAM10000_all_images/ISIC_0030252.jpg',\n",
       " '../raw_data/archive/HAM10000_all_images/ISIC_0026430.jpg',\n",
       " '../raw_data/archive/HAM10000_all_images/ISIC_0029703.jpg',\n",
       " '../raw_data/archive/HAM10000_all_images/ISIC_0032445.jpg',\n",
       " '../raw_data/archive/HAM10000_all_images/ISIC_0025139.jpg',\n",
       " '../raw_data/archive/HAM10000_all_images/ISIC_0033983.jpg',\n",
       " '../raw_data/archive/HAM10000_all_images/ISIC_0034034.jpg',\n",
       " '../raw_data/archive/HAM10000_all_images/ISIC_0024541.jpg',\n",
       " '../raw_data/archive/HAM10000_all_images/ISIC_0025887.jpg',\n",
       " '../raw_data/archive/HAM10000_all_images/ISIC_0032323.jpg',\n",
       " '../raw_data/archive/HAM10000_all_images/ISIC_0026356.jpg',\n",
       " '../raw_data/archive/HAM10000_all_images/ISIC_0029065.jpg',\n",
       " '../raw_data/archive/HAM10000_all_images/ISIC_0027048.jpg',\n",
       " '../raw_data/archive/HAM10000_all_images/ISIC_0030534.jpg',\n",
       " '../raw_data/archive/HAM10000_all_images/ISIC_0031819.jpg',\n",
       " '../raw_data/archive/HAM10000_all_images/ISIC_0028390.jpg',\n",
       " '../raw_data/archive/HAM10000_all_images/ISIC_0033968.jpg',\n",
       " '../raw_data/archive/HAM10000_all_images/ISIC_0029930.jpg',\n",
       " '../raw_data/archive/HAM10000_all_images/ISIC_0027909.jpg',\n",
       " '../raw_data/archive/HAM10000_all_images/ISIC_0029924.jpg',\n",
       " '../raw_data/archive/HAM10000_all_images/ISIC_0025878.jpg',\n",
       " '../raw_data/archive/HAM10000_all_images/ISIC_0028384.jpg',\n",
       " '../raw_data/archive/HAM10000_all_images/ISIC_0025688.jpg',\n",
       " '../raw_data/archive/HAM10000_all_images/ISIC_0024596.jpg',\n",
       " '../raw_data/archive/HAM10000_all_images/ISIC_0025850.jpg',\n",
       " '../raw_data/archive/HAM10000_all_images/ISIC_0031825.jpg',\n",
       " '../raw_data/archive/HAM10000_all_images/ISIC_0026381.jpg',\n",
       " '../raw_data/archive/HAM10000_all_images/ISIC_0027921.jpg',\n",
       " '../raw_data/archive/HAM10000_all_images/ISIC_0030285.jpg',\n",
       " '../raw_data/archive/HAM10000_all_images/ISIC_0032492.jpg',\n",
       " '../raw_data/archive/HAM10000_all_images/ISIC_0033954.jpg',\n",
       " '../raw_data/archive/HAM10000_all_images/ISIC_0033798.jpg',\n",
       " '../raw_data/archive/HAM10000_all_images/ISIC_0032486.jpg',\n",
       " '../raw_data/archive/HAM10000_all_images/ISIC_0033940.jpg',\n",
       " '../raw_data/archive/HAM10000_all_images/ISIC_0027935.jpg',\n",
       " '../raw_data/archive/HAM10000_all_images/ISIC_0030291.jpg',\n",
       " '../raw_data/archive/HAM10000_all_images/ISIC_0029918.jpg',\n",
       " '../raw_data/archive/HAM10000_all_images/ISIC_0031831.jpg',\n",
       " '../raw_data/archive/HAM10000_all_images/ISIC_0026395.jpg',\n",
       " '../raw_data/archive/HAM10000_all_images/ISIC_0024582.jpg',\n",
       " '../raw_data/archive/HAM10000_all_images/ISIC_0025844.jpg',\n",
       " '../raw_data/archive/HAM10000_all_images/ISIC_0025703.jpg',\n",
       " '../raw_data/archive/HAM10000_all_images/ISIC_0033161.jpg',\n",
       " '../raw_data/archive/HAM10000_all_images/ISIC_0028227.jpg',\n",
       " '../raw_data/archive/HAM10000_all_images/ISIC_0030468.jpg',\n",
       " '../raw_data/archive/HAM10000_all_images/ISIC_0027114.jpg',\n",
       " '../raw_data/archive/HAM10000_all_images/ISIC_0031776.jpg',\n",
       " '../raw_data/archive/HAM10000_all_images/ISIC_0029139.jpg',\n",
       " '../raw_data/archive/HAM10000_all_images/ISIC_0031010.jpg',\n",
       " '../raw_data/archive/HAM10000_all_images/ISIC_0029887.jpg',\n",
       " '../raw_data/archive/HAM10000_all_images/ISIC_0028541.jpg',\n",
       " '../raw_data/archive/HAM10000_all_images/ISIC_0027672.jpg',\n",
       " '../raw_data/archive/HAM10000_all_images/ISIC_0033607.jpg',\n",
       " '../raw_data/archive/HAM10000_all_images/ISIC_0034168.jpg',\n",
       " '../raw_data/archive/HAM10000_all_images/ISIC_0025065.jpg',\n",
       " '../raw_data/archive/HAM10000_all_images/ISIC_0032519.jpg',\n",
       " '../raw_data/archive/HAM10000_all_images/ISIC_0033613.jpg',\n",
       " '../raw_data/archive/HAM10000_all_images/ISIC_0025071.jpg',\n",
       " '../raw_data/archive/HAM10000_all_images/ISIC_0031004.jpg',\n",
       " '../raw_data/archive/HAM10000_all_images/ISIC_0026578.jpg',\n",
       " '../raw_data/archive/HAM10000_all_images/ISIC_0029893.jpg',\n",
       " '../raw_data/archive/HAM10000_all_images/ISIC_0028555.jpg',\n",
       " '../raw_data/archive/HAM10000_all_images/ISIC_0027666.jpg',\n",
       " '../raw_data/archive/HAM10000_all_images/ISIC_0028233.jpg',\n",
       " '../raw_data/archive/HAM10000_all_images/ISIC_0027100.jpg',\n",
       " '../raw_data/archive/HAM10000_all_images/ISIC_0031762.jpg',\n",
       " '../raw_data/archive/HAM10000_all_images/ISIC_0025717.jpg',\n",
       " '../raw_data/archive/HAM10000_all_images/ISIC_0024409.jpg',\n",
       " '../raw_data/archive/HAM10000_all_images/ISIC_0033175.jpg',\n",
       " '../raw_data/archive/HAM10000_all_images/ISIC_0027128.jpg',\n",
       " '../raw_data/archive/HAM10000_all_images/ISIC_0030454.jpg',\n",
       " '../raw_data/archive/HAM10000_all_images/ISIC_0031992.jpg',\n",
       " '../raw_data/archive/HAM10000_all_images/ISIC_0026236.jpg',\n",
       " '../raw_data/archive/HAM10000_all_images/ISIC_0029105.jpg',\n",
       " '../raw_data/archive/HAM10000_all_images/ISIC_0032243.jpg',\n",
       " '../raw_data/archive/HAM10000_all_images/ISIC_0024421.jpg',\n",
       " '../raw_data/archive/HAM10000_all_images/ISIC_0024347.jpg',\n",
       " '../raw_data/archive/HAM10000_all_images/ISIC_0034154.jpg',\n",
       " '../raw_data/archive/HAM10000_all_images/ISIC_0032525.jpg',\n",
       " '../raw_data/archive/HAM10000_all_images/ISIC_0025059.jpg',\n",
       " '../raw_data/archive/HAM10000_all_images/ISIC_0026550.jpg',\n",
       " '../raw_data/archive/HAM10000_all_images/ISIC_0029663.jpg',\n",
       " '../raw_data/archive/HAM10000_all_images/ISIC_0027896.jpg',\n",
       " '../raw_data/archive/HAM10000_all_images/ISIC_0030332.jpg',\n",
       " '../raw_data/archive/HAM10000_all_images/ISIC_0026544.jpg',\n",
       " '../raw_data/archive/HAM10000_all_images/ISIC_0029677.jpg',\n",
       " '../raw_data/archive/HAM10000_all_images/ISIC_0031038.jpg',\n",
       " '../raw_data/archive/HAM10000_all_images/ISIC_0027882.jpg',\n",
       " '../raw_data/archive/HAM10000_all_images/ISIC_0030326.jpg',\n",
       " '../raw_data/archive/HAM10000_all_images/ISIC_0028569.jpg',\n",
       " '../raw_data/archive/HAM10000_all_images/ISIC_0024353.jpg',\n",
       " '../raw_data/archive/HAM10000_all_images/ISIC_0034140.jpg',\n",
       " '../raw_data/archive/HAM10000_all_images/ISIC_0032531.jpg',\n",
       " '../raw_data/archive/HAM10000_all_images/ISIC_0032257.jpg',\n",
       " '../raw_data/archive/HAM10000_all_images/ISIC_0033149.jpg',\n",
       " '../raw_data/archive/HAM10000_all_images/ISIC_0024435.jpg',\n",
       " '../raw_data/archive/HAM10000_all_images/ISIC_0030440.jpg',\n",
       " '../raw_data/archive/HAM10000_all_images/ISIC_0031986.jpg',\n",
       " '../raw_data/archive/HAM10000_all_images/ISIC_0026222.jpg',\n",
       " '../raw_data/archive/HAM10000_all_images/ISIC_0029111.jpg',\n",
       " '../raw_data/archive/HAM10000_all_images/ISIC_0025918.jpg',\n",
       " '../raw_data/archive/HAM10000_all_images/ISIC_0029844.jpg',\n",
       " '../raw_data/archive/HAM10000_all_images/ISIC_0028582.jpg',\n",
       " '../raw_data/archive/HAM10000_all_images/ISIC_0027869.jpg',\n",
       " '../raw_data/archive/HAM10000_all_images/ISIC_0029850.jpg',\n",
       " '../raw_data/archive/HAM10000_all_images/ISIC_0028596.jpg',\n",
       " '../raw_data/archive/HAM10000_all_images/ISIC_0029688.jpg',\n",
       " '../raw_data/archive/HAM10000_all_images/ISIC_0033808.jpg',\n",
       " '../raw_data/archive/HAM10000_all_images/ISIC_0031979.jpg',\n",
       " '../raw_data/archive/HAM10000_all_images/ISIC_0025924.jpg',\n",
       " '../raw_data/archive/HAM10000_all_images/ISIC_0032280.jpg',\n",
       " '../raw_data/archive/HAM10000_all_images/ISIC_0031789.jpg',\n",
       " '../raw_data/archive/HAM10000_all_images/ISIC_0030497.jpg',\n",
       " '../raw_data/archive/HAM10000_all_images/ISIC_0031951.jpg',\n",
       " '../raw_data/archive/HAM10000_all_images/ISIC_0029878.jpg',\n",
       " '../raw_data/archive/HAM10000_all_images/ISIC_0026593.jpg',\n",
       " '../raw_data/archive/HAM10000_all_images/ISIC_0027855.jpg',\n",
       " '../raw_data/archive/HAM10000_all_images/ISIC_0033820.jpg',\n",
       " '../raw_data/archive/HAM10000_all_images/ISIC_0024384.jpg',\n",
       " '../raw_data/archive/HAM10000_all_images/ISIC_0034197.jpg',\n",
       " '../raw_data/archive/HAM10000_all_images/ISIC_0033834.jpg',\n",
       " '../raw_data/archive/HAM10000_all_images/ISIC_0024390.jpg',\n",
       " '../raw_data/archive/HAM10000_all_images/ISIC_0034183.jpg',\n",
       " '../raw_data/archive/HAM10000_all_images/ISIC_0027699.jpg',\n",
       " '../raw_data/archive/HAM10000_all_images/ISIC_0026587.jpg',\n",
       " '../raw_data/archive/HAM10000_all_images/ISIC_0027841.jpg',\n",
       " '../raw_data/archive/HAM10000_all_images/ISIC_0030483.jpg',\n",
       " '../raw_data/archive/HAM10000_all_images/ISIC_0031945.jpg',\n",
       " '../raw_data/archive/HAM10000_all_images/ISIC_0025930.jpg',\n",
       " '../raw_data/archive/HAM10000_all_images/ISIC_0032294.jpg',\n",
       " '../raw_data/archive/HAM10000_all_images/ISIC_0025267.jpg',\n",
       " '../raw_data/archive/HAM10000_all_images/ISIC_0033405.jpg',\n",
       " '../raw_data/archive/HAM10000_all_images/ISIC_0027470.jpg',\n",
       " '../raw_data/archive/HAM10000_all_images/ISIC_0028743.jpg',\n",
       " '../raw_data/archive/HAM10000_all_images/ISIC_0031212.jpg',\n",
       " '../raw_data/archive/HAM10000_all_images/ISIC_0026008.jpg',\n",
       " '../raw_data/archive/HAM10000_all_images/ISIC_0031574.jpg',\n",
       " '../raw_data/archive/HAM10000_all_images/ISIC_0027316.jpg',\n",
       " '../raw_data/archive/HAM10000_all_images/ISIC_0028025.jpg',\n",
       " '../raw_data/archive/HAM10000_all_images/ISIC_0033363.jpg',\n",
       " '../raw_data/archive/HAM10000_all_images/ISIC_0025501.jpg',\n",
       " '../raw_data/archive/HAM10000_all_images/ISIC_0033377.jpg',\n",
       " '../raw_data/archive/HAM10000_all_images/ISIC_0032069.jpg',\n",
       " '../raw_data/archive/HAM10000_all_images/ISIC_0025515.jpg',\n",
       " '../raw_data/archive/HAM10000_all_images/ISIC_0031560.jpg',\n",
       " '../raw_data/archive/HAM10000_all_images/ISIC_0027302.jpg',\n",
       " '../raw_data/archive/HAM10000_all_images/ISIC_0028031.jpg',\n",
       " '../raw_data/archive/HAM10000_all_images/ISIC_0027464.jpg',\n",
       " '../raw_data/archive/HAM10000_all_images/ISIC_0028757.jpg',\n",
       " '../raw_data/archive/HAM10000_all_images/ISIC_0030118.jpg',\n",
       " '../raw_data/archive/HAM10000_all_images/ISIC_0031206.jpg',\n",
       " '../raw_data/archive/HAM10000_all_images/ISIC_0029449.jpg',\n",
       " '../raw_data/archive/HAM10000_all_images/ISIC_0025273.jpg',\n",
       " '../raw_data/archive/HAM10000_all_images/ISIC_0033411.jpg',\n",
       " '../raw_data/archive/HAM10000_all_images/ISIC_0030130.jpg',\n",
       " '../raw_data/archive/HAM10000_all_images/ISIC_0029461.jpg',\n",
       " '../raw_data/archive/HAM10000_all_images/ISIC_0026752.jpg',\n",
       " '../raw_data/archive/HAM10000_all_images/ISIC_0032727.jpg',\n",
       " '../raw_data/archive/HAM10000_all_images/ISIC_0033439.jpg',\n",
       " '../raw_data/archive/HAM10000_all_images/ISIC_0024623.jpg',\n",
       " '../raw_data/archive/HAM10000_all_images/ISIC_0032041.jpg',\n",
       " '../raw_data/archive/HAM10000_all_images/ISIC_0029307.jpg',\n",
       " '../raw_data/archive/HAM10000_all_images/ISIC_0031548.jpg',\n",
       " '../raw_data/archive/HAM10000_all_images/ISIC_0026034.jpg',\n",
       " '../raw_data/archive/HAM10000_all_images/ISIC_0030656.jpg',\n",
       " '../raw_data/archive/HAM10000_all_images/ISIC_0028019.jpg',\n",
       " '../raw_data/archive/HAM10000_all_images/ISIC_0029313.jpg',\n",
       " '../raw_data/archive/HAM10000_all_images/ISIC_0026020.jpg',\n",
       " '../raw_data/archive/HAM10000_all_images/ISIC_0030642.jpg',\n",
       " '../raw_data/archive/HAM10000_all_images/ISIC_0024637.jpg',\n",
       " '../raw_data/archive/HAM10000_all_images/ISIC_0025529.jpg',\n",
       " '../raw_data/archive/HAM10000_all_images/ISIC_0032055.jpg',\n",
       " '../raw_data/archive/HAM10000_all_images/ISIC_0032733.jpg',\n",
       " '../raw_data/archive/HAM10000_all_images/ISIC_0030124.jpg',\n",
       " '../raw_data/archive/HAM10000_all_images/ISIC_0027458.jpg',\n",
       " '../raw_data/archive/HAM10000_all_images/ISIC_0029475.jpg',\n",
       " '../raw_data/archive/HAM10000_all_images/ISIC_0026746.jpg',\n",
       " '../raw_data/archive/HAM10000_all_images/ISIC_0028958.jpg',\n",
       " '../raw_data/archive/HAM10000_all_images/ISIC_0028780.jpg',\n",
       " '../raw_data/archive/HAM10000_all_images/ISIC_0026975.jpg',\n",
       " '../raw_data/archive/HAM10000_all_images/ISIC_0032900.jpg',\n",
       " '../raw_data/archive/HAM10000_all_images/ISIC_0024804.jpg',\n",
       " '../raw_data/archive/HAM10000_all_images/ISIC_0030871.jpg',\n",
       " '../raw_data/archive/HAM10000_all_images/ISIC_0030865.jpg',\n",
       " '../raw_data/archive/HAM10000_all_images/ISIC_0024810.jpg',\n",
       " '../raw_data/archive/HAM10000_all_images/ISIC_0032914.jpg',\n",
       " '../raw_data/archive/HAM10000_all_images/ISIC_0028794.jpg',\n",
       " '../raw_data/archive/HAM10000_all_images/ISIC_0026961.jpg',\n",
       " '../raw_data/archive/HAM10000_all_images/ISIC_0025298.jpg',\n",
       " '../raw_data/archive/HAM10000_all_images/ISIC_0028964.jpg',\n",
       " '../raw_data/archive/HAM10000_all_images/ISIC_0026791.jpg',\n",
       " '../raw_data/archive/HAM10000_all_images/ISIC_0026949.jpg',\n",
       " '../raw_data/archive/HAM10000_all_images/ISIC_0030695.jpg',\n",
       " '../raw_data/archive/HAM10000_all_images/ISIC_0024838.jpg',\n",
       " '../raw_data/archive/HAM10000_all_images/ISIC_0032082.jpg',\n",
       " '../raw_data/archive/HAM10000_all_images/ISIC_0032096.jpg',\n",
       " '../raw_data/archive/HAM10000_all_images/ISIC_0033388.jpg',\n",
       " '../raw_data/archive/HAM10000_all_images/ISIC_0030681.jpg',\n",
       " '../raw_data/archive/HAM10000_all_images/ISIC_0030859.jpg',\n",
       " '../raw_data/archive/HAM10000_all_images/ISIC_0028970.jpg',\n",
       " '../raw_data/archive/HAM10000_all_images/ISIC_0026785.jpg',\n",
       " '../raw_data/archive/HAM10000_all_images/ISIC_0032928.jpg',\n",
       " '../raw_data/archive/HAM10000_all_images/ISIC_0032080.jpg',\n",
       " '../raw_data/archive/HAM10000_all_images/ISIC_0031589.jpg',\n",
       " '../raw_data/archive/HAM10000_all_images/ISIC_0030697.jpg',\n",
       " '../raw_data/archive/HAM10000_all_images/ISIC_0026793.jpg',\n",
       " '../raw_data/archive/HAM10000_all_images/ISIC_0028966.jpg',\n",
       " '../raw_data/archive/HAM10000_all_images/ISIC_0027499.jpg',\n",
       " '../raw_data/archive/HAM10000_all_images/ISIC_0026787.jpg',\n",
       " '../raw_data/archive/HAM10000_all_images/ISIC_0028972.jpg',\n",
       " '../raw_data/archive/HAM10000_all_images/ISIC_0030683.jpg',\n",
       " '../raw_data/archive/HAM10000_all_images/ISIC_0032094.jpg',\n",
       " '../raw_data/archive/HAM10000_all_images/ISIC_0030873.jpg',\n",
       " '../raw_data/archive/HAM10000_all_images/ISIC_0024806.jpg',\n",
       " '../raw_data/archive/HAM10000_all_images/ISIC_0032902.jpg',\n",
       " '../raw_data/archive/HAM10000_all_images/ISIC_0026977.jpg',\n",
       " '../raw_data/archive/HAM10000_all_images/ISIC_0028782.jpg',\n",
       " '../raw_data/archive/HAM10000_all_images/ISIC_0026963.jpg',\n",
       " '../raw_data/archive/HAM10000_all_images/ISIC_0028796.jpg',\n",
       " '../raw_data/archive/HAM10000_all_images/ISIC_0029488.jpg',\n",
       " '../raw_data/archive/HAM10000_all_images/ISIC_0032916.jpg',\n",
       " '../raw_data/archive/HAM10000_all_images/ISIC_0024812.jpg',\n",
       " '../raw_data/archive/HAM10000_all_images/ISIC_0030867.jpg',\n",
       " '../raw_data/archive/HAM10000_all_images/ISIC_0030654.jpg',\n",
       " '../raw_data/archive/HAM10000_all_images/ISIC_0027328.jpg',\n",
       " '../raw_data/archive/HAM10000_all_images/ISIC_0029305.jpg',\n",
       " '../raw_data/archive/HAM10000_all_images/ISIC_0026036.jpg',\n",
       " '../raw_data/archive/HAM10000_all_images/ISIC_0032043.jpg',\n",
       " '../raw_data/archive/HAM10000_all_images/ISIC_0024621.jpg',\n",
       " '../raw_data/archive/HAM10000_all_images/ISIC_0025259.jpg',\n",
       " '../raw_data/archive/HAM10000_all_images/ISIC_0032725.jpg',\n",
       " '../raw_data/archive/HAM10000_all_images/ISIC_0029463.jpg',\n",
       " '../raw_data/archive/HAM10000_all_images/ISIC_0026750.jpg',\n",
       " '../raw_data/archive/HAM10000_all_images/ISIC_0026988.jpg',\n",
       " '../raw_data/archive/HAM10000_all_images/ISIC_0030132.jpg',\n",
       " '../raw_data/archive/HAM10000_all_images/ISIC_0029477.jpg',\n",
       " '../raw_data/archive/HAM10000_all_images/ISIC_0031238.jpg',\n",
       " '../raw_data/archive/HAM10000_all_images/ISIC_0026744.jpg',\n",
       " '../raw_data/archive/HAM10000_all_images/ISIC_0030126.jpg',\n",
       " '../raw_data/archive/HAM10000_all_images/ISIC_0028769.jpg',\n",
       " '../raw_data/archive/HAM10000_all_images/ISIC_0032731.jpg',\n",
       " '../raw_data/archive/HAM10000_all_images/ISIC_0032057.jpg',\n",
       " '../raw_data/archive/HAM10000_all_images/ISIC_0024635.jpg',\n",
       " '../raw_data/archive/HAM10000_all_images/ISIC_0033349.jpg',\n",
       " '../raw_data/archive/HAM10000_all_images/ISIC_0030640.jpg',\n",
       " '../raw_data/archive/HAM10000_all_images/ISIC_0030898.jpg',\n",
       " '../raw_data/archive/HAM10000_all_images/ISIC_0029311.jpg',\n",
       " '../raw_data/archive/HAM10000_all_images/ISIC_0026022.jpg',\n",
       " '../raw_data/archive/HAM10000_all_images/ISIC_0025503.jpg',\n",
       " '../raw_data/archive/HAM10000_all_images/ISIC_0033361.jpg',\n",
       " '../raw_data/archive/HAM10000_all_images/ISIC_0027314.jpg',\n",
       " '../raw_data/archive/HAM10000_all_images/ISIC_0028027.jpg',\n",
       " '../raw_data/archive/HAM10000_all_images/ISIC_0030668.jpg',\n",
       " '../raw_data/archive/HAM10000_all_images/ISIC_0031576.jpg',\n",
       " '../raw_data/archive/HAM10000_all_images/ISIC_0029339.jpg',\n",
       " '../raw_data/archive/HAM10000_all_images/ISIC_0031210.jpg',\n",
       " '../raw_data/archive/HAM10000_all_images/ISIC_0028999.jpg',\n",
       " '../raw_data/archive/HAM10000_all_images/ISIC_0027472.jpg',\n",
       " '../raw_data/archive/HAM10000_all_images/ISIC_0028741.jpg',\n",
       " '../raw_data/archive/HAM10000_all_images/ISIC_0033407.jpg',\n",
       " '../raw_data/archive/HAM10000_all_images/ISIC_0032719.jpg',\n",
       " '../raw_data/archive/HAM10000_all_images/ISIC_0025265.jpg',\n",
       " '../raw_data/archive/HAM10000_all_images/ISIC_0033413.jpg',\n",
       " '../raw_data/archive/HAM10000_all_images/ISIC_0025271.jpg',\n",
       " '../raw_data/archive/HAM10000_all_images/ISIC_0026778.jpg',\n",
       " '../raw_data/archive/HAM10000_all_images/ISIC_0031204.jpg',\n",
       " '../raw_data/archive/HAM10000_all_images/ISIC_0027466.jpg',\n",
       " '../raw_data/archive/HAM10000_all_images/ISIC_0028755.jpg',\n",
       " '../raw_data/archive/HAM10000_all_images/ISIC_0027300.jpg',\n",
       " '../raw_data/archive/HAM10000_all_images/ISIC_0028033.jpg',\n",
       " '../raw_data/archive/HAM10000_all_images/ISIC_0031562.jpg',\n",
       " '../raw_data/archive/HAM10000_all_images/ISIC_0025517.jpg',\n",
       " '../raw_data/archive/HAM10000_all_images/ISIC_0033375.jpg',\n",
       " '../raw_data/archive/HAM10000_all_images/ISIC_0024609.jpg',\n",
       " '../raw_data/archive/HAM10000_all_images/ISIC_0034195.jpg',\n",
       " '../raw_data/archive/HAM10000_all_images/ISIC_0024386.jpg',\n",
       " '../raw_data/archive/HAM10000_all_images/ISIC_0025098.jpg',\n",
       " '../raw_data/archive/HAM10000_all_images/ISIC_0033822.jpg',\n",
       " '../raw_data/archive/HAM10000_all_images/ISIC_0027857.jpg',\n",
       " '../raw_data/archive/HAM10000_all_images/ISIC_0026591.jpg',\n",
       " '../raw_data/archive/HAM10000_all_images/ISIC_0031953.jpg',\n",
       " '../raw_data/archive/HAM10000_all_images/ISIC_0030495.jpg',\n",
       " '../raw_data/archive/HAM10000_all_images/ISIC_0032282.jpg',\n",
       " '../raw_data/archive/HAM10000_all_images/ISIC_0025926.jpg',\n",
       " '../raw_data/archive/HAM10000_all_images/ISIC_0032296.jpg',\n",
       " '../raw_data/archive/HAM10000_all_images/ISIC_0033188.jpg',\n",
       " '../raw_data/archive/HAM10000_all_images/ISIC_0025932.jpg',\n",
       " '../raw_data/archive/HAM10000_all_images/ISIC_0031947.jpg',\n",
       " '../raw_data/archive/HAM10000_all_images/ISIC_0030481.jpg',\n",
       " '../raw_data/archive/HAM10000_all_images/ISIC_0027843.jpg',\n",
       " '../raw_data/archive/HAM10000_all_images/ISIC_0026585.jpg',\n",
       " '../raw_data/archive/HAM10000_all_images/ISIC_0034181.jpg',\n",
       " '../raw_data/archive/HAM10000_all_images/ISIC_0024392.jpg',\n",
       " '../raw_data/archive/HAM10000_all_images/ISIC_0033836.jpg',\n",
       " '../raw_data/archive/HAM10000_all_images/ISIC_0028580.jpg',\n",
       " '../raw_data/archive/HAM10000_all_images/ISIC_0029846.jpg',\n",
       " '../raw_data/archive/HAM10000_all_images/ISIC_0028594.jpg',\n",
       " '../raw_data/archive/HAM10000_all_images/ISIC_0029852.jpg',\n",
       " '../raw_data/archive/HAM10000_all_images/ISIC_0030330.jpg',\n",
       " '../raw_data/archive/HAM10000_all_images/ISIC_0027894.jpg',\n",
       " '../raw_data/archive/HAM10000_all_images/ISIC_0026552.jpg',\n",
       " '../raw_data/archive/HAM10000_all_images/ISIC_0029661.jpg',\n",
       " '../raw_data/archive/HAM10000_all_images/ISIC_0032527.jpg',\n",
       " '../raw_data/archive/HAM10000_all_images/ISIC_0034156.jpg',\n",
       " '../raw_data/archive/HAM10000_all_images/ISIC_0033639.jpg',\n",
       " '../raw_data/archive/HAM10000_all_images/ISIC_0024345.jpg',\n",
       " '../raw_data/archive/HAM10000_all_images/ISIC_0024423.jpg',\n",
       " '../raw_data/archive/HAM10000_all_images/ISIC_0032241.jpg',\n",
       " '../raw_data/archive/HAM10000_all_images/ISIC_0026234.jpg',\n",
       " '../raw_data/archive/HAM10000_all_images/ISIC_0029107.jpg',\n",
       " '../raw_data/archive/HAM10000_all_images/ISIC_0031748.jpg',\n",
       " '../raw_data/archive/HAM10000_all_images/ISIC_0031990.jpg',\n",
       " '../raw_data/archive/HAM10000_all_images/ISIC_0030456.jpg',\n",
       " '../raw_data/archive/HAM10000_all_images/ISIC_0028219.jpg',\n",
       " '../raw_data/archive/HAM10000_all_images/ISIC_0026220.jpg',\n",
       " '../raw_data/archive/HAM10000_all_images/ISIC_0029113.jpg',\n",
       " '../raw_data/archive/HAM10000_all_images/ISIC_0031984.jpg',\n",
       " '../raw_data/archive/HAM10000_all_images/ISIC_0030442.jpg',\n",
       " '../raw_data/archive/HAM10000_all_images/ISIC_0024437.jpg',\n",
       " '../raw_data/archive/HAM10000_all_images/ISIC_0032255.jpg',\n",
       " '../raw_data/archive/HAM10000_all_images/ISIC_0025729.jpg',\n",
       " '../raw_data/archive/HAM10000_all_images/ISIC_0032533.jpg',\n",
       " '../raw_data/archive/HAM10000_all_images/ISIC_0034142.jpg',\n",
       " '../raw_data/archive/HAM10000_all_images/ISIC_0024351.jpg',\n",
       " '../raw_data/archive/HAM10000_all_images/ISIC_0027658.jpg',\n",
       " '../raw_data/archive/HAM10000_all_images/ISIC_0030324.jpg',\n",
       " '../raw_data/archive/HAM10000_all_images/ISIC_0027880.jpg',\n",
       " '../raw_data/archive/HAM10000_all_images/ISIC_0026546.jpg',\n",
       " '../raw_data/archive/HAM10000_all_images/ISIC_0029675.jpg',\n",
       " '../raw_data/archive/HAM10000_all_images/ISIC_0025067.jpg',\n",
       " '../raw_data/archive/HAM10000_all_images/ISIC_0024379.jpg',\n",
       " '../raw_data/archive/HAM10000_all_images/ISIC_0033605.jpg',\n",
       " '../raw_data/archive/HAM10000_all_images/ISIC_0028543.jpg',\n",
       " '../raw_data/archive/HAM10000_all_images/ISIC_0027670.jpg',\n",
       " '../raw_data/archive/HAM10000_all_images/ISIC_0029885.jpg',\n",
       " '../raw_data/archive/HAM10000_all_images/ISIC_0031012.jpg',\n",
       " '../raw_data/archive/HAM10000_all_images/ISIC_0031774.jpg',\n",
       " '../raw_data/archive/HAM10000_all_images/ISIC_0026208.jpg',\n",
       " '../raw_data/archive/HAM10000_all_images/ISIC_0028225.jpg',\n",
       " '../raw_data/archive/HAM10000_all_images/ISIC_0027116.jpg',\n",
       " '../raw_data/archive/HAM10000_all_images/ISIC_0033163.jpg',\n",
       " '../raw_data/archive/HAM10000_all_images/ISIC_0025701.jpg',\n",
       " '../raw_data/archive/HAM10000_all_images/ISIC_0033177.jpg',\n",
       " '../raw_data/archive/HAM10000_all_images/ISIC_0025715.jpg',\n",
       " '../raw_data/archive/HAM10000_all_images/ISIC_0032269.jpg',\n",
       " '../raw_data/archive/HAM10000_all_images/ISIC_0031760.jpg',\n",
       " '../raw_data/archive/HAM10000_all_images/ISIC_0028231.jpg',\n",
       " '../raw_data/archive/HAM10000_all_images/ISIC_0027102.jpg',\n",
       " '../raw_data/archive/HAM10000_all_images/ISIC_0028557.jpg',\n",
       " '../raw_data/archive/HAM10000_all_images/ISIC_0030318.jpg',\n",
       " '../raw_data/archive/HAM10000_all_images/ISIC_0027664.jpg',\n",
       " '../raw_data/archive/HAM10000_all_images/ISIC_0029891.jpg',\n",
       " '../raw_data/archive/HAM10000_all_images/ISIC_0031006.jpg',\n",
       " '../raw_data/archive/HAM10000_all_images/ISIC_0029649.jpg',\n",
       " '../raw_data/archive/HAM10000_all_images/ISIC_0025073.jpg',\n",
       " '../raw_data/archive/HAM10000_all_images/ISIC_0033611.jpg',\n",
       " '../raw_data/archive/HAM10000_all_images/ISIC_0033956.jpg',\n",
       " '../raw_data/archive/HAM10000_all_images/ISIC_0032490.jpg',\n",
       " '../raw_data/archive/HAM10000_all_images/ISIC_0030287.jpg',\n",
       " '../raw_data/archive/HAM10000_all_images/ISIC_0031199.jpg',\n",
       " '../raw_data/archive/HAM10000_all_images/ISIC_0027923.jpg',\n",
       " '../raw_data/archive/HAM10000_all_images/ISIC_0026383.jpg',\n",
       " '../raw_data/archive/HAM10000_all_images/ISIC_0031827.jpg',\n",
       " '../raw_data/archive/HAM10000_all_images/ISIC_0025852.jpg',\n",
       " '../raw_data/archive/HAM10000_all_images/ISIC_0024594.jpg',\n",
       " '../raw_data/archive/HAM10000_all_images/ISIC_0025846.jpg',\n",
       " '../raw_data/archive/HAM10000_all_images/ISIC_0024580.jpg',\n",
       " '../raw_data/archive/HAM10000_all_images/ISIC_0026397.jpg',\n",
       " '../raw_data/archive/HAM10000_all_images/ISIC_0027089.jpg',\n",
       " '../raw_data/archive/HAM10000_all_images/ISIC_0031833.jpg',\n",
       " '../raw_data/archive/HAM10000_all_images/ISIC_0030293.jpg',\n",
       " '../raw_data/archive/HAM10000_all_images/ISIC_0027937.jpg',\n",
       " '../raw_data/archive/HAM10000_all_images/ISIC_0033942.jpg',\n",
       " '../raw_data/archive/HAM10000_all_images/ISIC_0032484.jpg',\n",
       " '../raw_data/archive/HAM10000_all_images/ISIC_0029932.jpg',\n",
       " '../raw_data/archive/HAM10000_all_images/ISIC_0028392.jpg',\n",
       " '../raw_data/archive/HAM10000_all_images/ISIC_0029098.jpg',\n",
       " '../raw_data/archive/HAM10000_all_images/ISIC_0028386.jpg',\n",
       " '../raw_data/archive/HAM10000_all_images/ISIC_0029926.jpg',\n",
       " '../raw_data/archive/HAM10000_all_images/ISIC_0026426.jpg',\n",
       " '../raw_data/archive/HAM10000_all_images/ISIC_0029715.jpg',\n",
       " '../raw_data/archive/HAM10000_all_images/ISIC_0027738.jpg',\n",
       " '../raw_data/archive/HAM10000_all_images/ISIC_0030244.jpg',\n",
       " '../raw_data/archive/HAM10000_all_images/ISIC_0034022.jpg',\n",
       " '../raw_data/archive/HAM10000_all_images/ISIC_0033995.jpg',\n",
       " '../raw_data/archive/HAM10000_all_images/ISIC_0032453.jpg',\n",
       " '../raw_data/archive/HAM10000_all_images/ISIC_0032335.jpg',\n",
       " '../raw_data/archive/HAM10000_all_images/ISIC_0025649.jpg',\n",
       " '../raw_data/archive/HAM10000_all_images/ISIC_0025891.jpg',\n",
       " '../raw_data/archive/HAM10000_all_images/ISIC_0024557.jpg',\n",
       " '../raw_data/archive/HAM10000_all_images/ISIC_0030522.jpg',\n",
       " '../raw_data/archive/HAM10000_all_images/ISIC_0026340.jpg',\n",
       " '../raw_data/archive/HAM10000_all_images/ISIC_0029073.jpg',\n",
       " '../raw_data/archive/HAM10000_all_images/ISIC_0030536.jpg',\n",
       " '../raw_data/archive/HAM10000_all_images/ISIC_0028379.jpg',\n",
       " '../raw_data/archive/HAM10000_all_images/ISIC_0026354.jpg',\n",
       " '../raw_data/archive/HAM10000_all_images/ISIC_0029067.jpg',\n",
       " '../raw_data/archive/HAM10000_all_images/ISIC_0031628.jpg',\n",
       " '../raw_data/archive/HAM10000_all_images/ISIC_0032321.jpg',\n",
       " '../raw_data/archive/HAM10000_all_images/ISIC_0025885.jpg',\n",
       " '../raw_data/archive/HAM10000_all_images/ISIC_0024543.jpg',\n",
       " '../raw_data/archive/HAM10000_all_images/ISIC_0033759.jpg',\n",
       " '../raw_data/archive/HAM10000_all_images/ISIC_0034036.jpg',\n",
       " '../raw_data/archive/HAM10000_all_images/ISIC_0033981.jpg',\n",
       " '../raw_data/archive/HAM10000_all_images/ISIC_0032447.jpg',\n",
       " '../raw_data/archive/HAM10000_all_images/ISIC_0026432.jpg',\n",
       " '../raw_data/archive/HAM10000_all_images/ISIC_0029701.jpg',\n",
       " '../raw_data/archive/HAM10000_all_images/ISIC_0030250.jpg',\n",
       " '../raw_data/archive/HAM10000_all_images/ISIC_0033771.jpg',\n",
       " '../raw_data/archive/HAM10000_all_images/ISIC_0025113.jpg',\n",
       " '../raw_data/archive/HAM10000_all_images/ISIC_0031166.jpg',\n",
       " '../raw_data/archive/HAM10000_all_images/ISIC_0029729.jpg',\n",
       " '../raw_data/archive/HAM10000_all_images/ISIC_0028437.jpg',\n",
       " '../raw_data/archive/HAM10000_all_images/ISIC_0030278.jpg',\n",
       " '../raw_data/archive/HAM10000_all_images/ISIC_0027704.jpg',\n",
       " '../raw_data/archive/HAM10000_all_images/ISIC_0028351.jpg',\n",
       " '../raw_data/archive/HAM10000_all_images/ISIC_0027062.jpg',\n",
       " '../raw_data/archive/HAM10000_all_images/ISIC_0031600.jpg',\n",
       " '../raw_data/archive/HAM10000_all_images/ISIC_0025675.jpg',\n",
       " '../raw_data/archive/HAM10000_all_images/ISIC_0032309.jpg',\n",
       " '../raw_data/archive/HAM10000_all_images/ISIC_0033017.jpg',\n",
       " '../raw_data/archive/HAM10000_all_images/ISIC_0025661.jpg',\n",
       " '../raw_data/archive/HAM10000_all_images/ISIC_0033003.jpg',\n",
       " '../raw_data/archive/HAM10000_all_images/ISIC_0028345.jpg',\n",
       " '../raw_data/archive/HAM10000_all_images/ISIC_0027076.jpg',\n",
       " '../raw_data/archive/HAM10000_all_images/ISIC_0031614.jpg',\n",
       " '../raw_data/archive/HAM10000_all_images/ISIC_0026368.jpg',\n",
       " '../raw_data/archive/HAM10000_all_images/ISIC_0031172.jpg',\n",
       " '../raw_data/archive/HAM10000_all_images/ISIC_0028423.jpg',\n",
       " '../raw_data/archive/HAM10000_all_images/ISIC_0027710.jpg',\n",
       " '../raw_data/archive/HAM10000_all_images/ISIC_0033765.jpg',\n",
       " '../raw_data/archive/HAM10000_all_images/ISIC_0025107.jpg',\n",
       " '../raw_data/archive/HAM10000_all_images/ISIC_0025488.jpg',\n",
       " '../raw_data/archive/HAM10000_all_images/ISIC_0024796.jpg',\n",
       " '../raw_data/archive/HAM10000_all_images/ISIC_0026181.jpg',\n",
       " '../raw_data/archive/HAM10000_all_images/ISIC_0028812.jpg',\n",
       " '../raw_data/archive/HAM10000_all_images/ISIC_0030085.jpg',\n",
       " '../raw_data/archive/HAM10000_all_images/ISIC_0032692.jpg',\n",
       " '../raw_data/archive/HAM10000_all_images/ISIC_0033598.jpg',\n",
       " '../raw_data/archive/HAM10000_all_images/ISIC_0032686.jpg',\n",
       " '../raw_data/archive/HAM10000_all_images/ISIC_0028806.jpg',\n",
       " '../raw_data/archive/HAM10000_all_images/ISIC_0030091.jpg',\n",
       " '../raw_data/archive/HAM10000_all_images/ISIC_0026195.jpg',\n",
       " '../raw_data/archive/HAM10000_all_images/ISIC_0024782.jpg',\n",
       " '../raw_data/archive/HAM10000_all_images/ISIC_0028190.jpg',\n",
       " '../raw_data/archive/HAM10000_all_images/ISIC_0030907.jpg',\n",
       " '../raw_data/archive/HAM10000_all_images/ISIC_0024972.jpg',\n",
       " '../raw_data/archive/HAM10000_all_images/ISIC_0032876.jpg',\n",
       " '../raw_data/archive/HAM10000_all_images/ISIC_0026803.jpg',\n",
       " '../raw_data/archive/HAM10000_all_images/ISIC_0026817.jpg',\n",
       " '../raw_data/archive/HAM10000_all_images/ISIC_0032862.jpg',\n",
       " '../raw_data/archive/HAM10000_all_images/ISIC_0024966.jpg',\n",
       " '../raw_data/archive/HAM10000_all_images/ISIC_0028184.jpg',\n",
       " '../raw_data/archive/HAM10000_all_images/ISIC_0030913.jpg',\n",
       " '../raw_data/archive/HAM10000_all_images/ISIC_0029271.jpg',\n",
       " '../raw_data/archive/HAM10000_all_images/ISIC_0026142.jpg',\n",
       " '../raw_data/archive/HAM10000_all_images/ISIC_0030720.jpg',\n",
       " '../raw_data/archive/HAM10000_all_images/ISIC_0024755.jpg',\n",
       " '../raw_data/archive/HAM10000_all_images/ISIC_0033229.jpg',\n",
       " '../raw_data/archive/HAM10000_all_images/ISIC_0032137.jpg',\n",
       " '../raw_data/archive/HAM10000_all_images/ISIC_0032651.jpg',\n",
       " '../raw_data/archive/HAM10000_all_images/ISIC_0034220.jpg',\n",
       " '../raw_data/archive/HAM10000_all_images/ISIC_0032889.jpg',\n",
       " '../raw_data/archive/HAM10000_all_images/ISIC_0030046.jpg',\n",
       " '../raw_data/archive/HAM10000_all_images/ISIC_0028609.jpg',\n",
       " '../raw_data/archive/HAM10000_all_images/ISIC_0029517.jpg',\n",
       " '../raw_data/archive/HAM10000_all_images/ISIC_0031358.jpg',\n",
       " '../raw_data/archive/HAM10000_all_images/ISIC_0026624.jpg',\n",
       " '../raw_data/archive/HAM10000_all_images/ISIC_0030052.jpg',\n",
       " '../raw_data/archive/HAM10000_all_images/ISIC_0029503.jpg',\n",
       " '../raw_data/archive/HAM10000_all_images/ISIC_0026630.jpg',\n",
       " '../raw_data/archive/HAM10000_all_images/ISIC_0025339.jpg',\n",
       " '../raw_data/archive/HAM10000_all_images/ISIC_0032645.jpg',\n",
       " '../raw_data/archive/HAM10000_all_images/ISIC_0034234.jpg',\n",
       " '../raw_data/archive/HAM10000_all_images/ISIC_0024741.jpg',\n",
       " '../raw_data/archive/HAM10000_all_images/ISIC_0024999.jpg',\n",
       " '../raw_data/archive/HAM10000_all_images/ISIC_0032123.jpg',\n",
       " '../raw_data/archive/HAM10000_all_images/ISIC_0029265.jpg',\n",
       " '../raw_data/archive/HAM10000_all_images/ISIC_0026156.jpg',\n",
       " '../raw_data/archive/HAM10000_all_images/ISIC_0030734.jpg',\n",
       " '../raw_data/archive/HAM10000_all_images/ISIC_0027248.jpg',\n",
       " '../raw_data/archive/HAM10000_all_images/ISIC_0033215.jpg',\n",
       " '../raw_data/archive/HAM10000_all_images/ISIC_0024769.jpg',\n",
       " '../raw_data/archive/HAM10000_all_images/ISIC_0025477.jpg',\n",
       " '../raw_data/archive/HAM10000_all_images/ISIC_0031402.jpg',\n",
       " '../raw_data/archive/HAM10000_all_images/ISIC_0027260.jpg',\n",
       " '../raw_data/archive/HAM10000_all_images/ISIC_0028153.jpg',\n",
       " '../raw_data/archive/HAM10000_all_images/ISIC_0027506.jpg',\n",
       " '../raw_data/archive/HAM10000_all_images/ISIC_0028635.jpg',\n",
       " '../raw_data/archive/HAM10000_all_images/ISIC_0026618.jpg',\n",
       " '../raw_data/archive/HAM10000_all_images/ISIC_0031364.jpg',\n",
       " '../raw_data/archive/HAM10000_all_images/ISIC_0025311.jpg',\n",
       " '../raw_data/archive/HAM10000_all_images/ISIC_0033573.jpg',\n",
       " '../raw_data/archive/HAM10000_all_images/ISIC_0032679.jpg',\n",
       " '../raw_data/archive/HAM10000_all_images/ISIC_0025305.jpg',\n",
       " '../raw_data/archive/HAM10000_all_images/ISIC_0034208.jpg',\n",
       " '../raw_data/archive/HAM10000_all_images/ISIC_0033567.jpg',\n",
       " '../raw_data/archive/HAM10000_all_images/ISIC_0027512.jpg',\n",
       " '../raw_data/archive/HAM10000_all_images/ISIC_0028621.jpg',\n",
       " '../raw_data/archive/HAM10000_all_images/ISIC_0031370.jpg',\n",
       " '../raw_data/archive/HAM10000_all_images/ISIC_0031416.jpg',\n",
       " '../raw_data/archive/HAM10000_all_images/ISIC_0029259.jpg',\n",
       " '../raw_data/archive/HAM10000_all_images/ISIC_0027274.jpg',\n",
       " '../raw_data/archive/HAM10000_all_images/ISIC_0028147.jpg',\n",
       " '../raw_data/archive/HAM10000_all_images/ISIC_0030708.jpg',\n",
       " '../raw_data/archive/HAM10000_all_images/ISIC_0033201.jpg',\n",
       " '../raw_data/archive/HAM10000_all_images/ISIC_0025463.jpg',\n",
       " '../raw_data/archive/HAM10000_all_images/ISIC_0031371.jpg',\n",
       " '../raw_data/archive/HAM10000_all_images/ISIC_0028620.jpg',\n",
       " '../raw_data/archive/HAM10000_all_images/ISIC_0027513.jpg',\n",
       " '../raw_data/archive/HAM10000_all_images/ISIC_0033566.jpg',\n",
       " '../raw_data/archive/HAM10000_all_images/ISIC_0034209.jpg',\n",
       " '../raw_data/archive/HAM10000_all_images/ISIC_0025304.jpg',\n",
       " '../raw_data/archive/HAM10000_all_images/ISIC_0032678.jpg',\n",
       " '../raw_data/archive/HAM10000_all_images/ISIC_0025462.jpg',\n",
       " '../raw_data/archive/HAM10000_all_images/ISIC_0033200.jpg',\n",
       " '../raw_data/archive/HAM10000_all_images/ISIC_0028146.jpg',\n",
       " '../raw_data/archive/HAM10000_all_images/ISIC_0030709.jpg',\n",
       " '../raw_data/archive/HAM10000_all_images/ISIC_0027275.jpg',\n",
       " '../raw_data/archive/HAM10000_all_images/ISIC_0031417.jpg',\n",
       " '../raw_data/archive/HAM10000_all_images/ISIC_0029258.jpg',\n",
       " '../raw_data/archive/HAM10000_all_images/ISIC_0028152.jpg',\n",
       " '../raw_data/archive/HAM10000_all_images/ISIC_0027261.jpg',\n",
       " '../raw_data/archive/HAM10000_all_images/ISIC_0031403.jpg',\n",
       " '../raw_data/archive/HAM10000_all_images/ISIC_0025476.jpg',\n",
       " '../raw_data/archive/HAM10000_all_images/ISIC_0024768.jpg',\n",
       " '../raw_data/archive/HAM10000_all_images/ISIC_0033214.jpg',\n",
       " '../raw_data/archive/HAM10000_all_images/ISIC_0033572.jpg',\n",
       " '../raw_data/archive/HAM10000_all_images/ISIC_0025310.jpg',\n",
       " '../raw_data/archive/HAM10000_all_images/ISIC_0031365.jpg',\n",
       " '../raw_data/archive/HAM10000_all_images/ISIC_0026619.jpg',\n",
       " '../raw_data/archive/HAM10000_all_images/ISIC_0028634.jpg',\n",
       " '../raw_data/archive/HAM10000_all_images/ISIC_0027507.jpg',\n",
       " '../raw_data/archive/HAM10000_all_images/ISIC_0034235.jpg',\n",
       " '../raw_data/archive/HAM10000_all_images/ISIC_0032644.jpg',\n",
       " '../raw_data/archive/HAM10000_all_images/ISIC_0025338.jpg',\n",
       " '../raw_data/archive/HAM10000_all_images/ISIC_0026631.jpg',\n",
       " '../raw_data/archive/HAM10000_all_images/ISIC_0029502.jpg',\n",
       " '../raw_data/archive/HAM10000_all_images/ISIC_0030053.jpg',\n",
       " '../raw_data/archive/HAM10000_all_images/ISIC_0027249.jpg',\n",
       " '../raw_data/archive/HAM10000_all_images/ISIC_0030735.jpg',\n",
       " '../raw_data/archive/HAM10000_all_images/ISIC_0026157.jpg',\n",
       " '../raw_data/archive/HAM10000_all_images/ISIC_0029264.jpg',\n",
       " '../raw_data/archive/HAM10000_all_images/ISIC_0032122.jpg',\n",
       " '../raw_data/archive/HAM10000_all_images/ISIC_0024998.jpg',\n",
       " '../raw_data/archive/HAM10000_all_images/ISIC_0024740.jpg',\n",
       " '../raw_data/archive/HAM10000_all_images/ISIC_0032136.jpg',\n",
       " '../raw_data/archive/HAM10000_all_images/ISIC_0033228.jpg',\n",
       " '../raw_data/archive/HAM10000_all_images/ISIC_0024754.jpg',\n",
       " '../raw_data/archive/HAM10000_all_images/ISIC_0030721.jpg',\n",
       " '../raw_data/archive/HAM10000_all_images/ISIC_0026143.jpg',\n",
       " '../raw_data/archive/HAM10000_all_images/ISIC_0029270.jpg',\n",
       " '../raw_data/archive/HAM10000_all_images/ISIC_0026625.jpg',\n",
       " '../raw_data/archive/HAM10000_all_images/ISIC_0029516.jpg',\n",
       " '../raw_data/archive/HAM10000_all_images/ISIC_0031359.jpg',\n",
       " '../raw_data/archive/HAM10000_all_images/ISIC_0030047.jpg',\n",
       " '../raw_data/archive/HAM10000_all_images/ISIC_0028608.jpg',\n",
       " '../raw_data/archive/HAM10000_all_images/ISIC_0032888.jpg',\n",
       " '../raw_data/archive/HAM10000_all_images/ISIC_0034221.jpg',\n",
       " '../raw_data/archive/HAM10000_all_images/ISIC_0032650.jpg',\n",
       " '../raw_data/archive/HAM10000_all_images/ISIC_0032863.jpg',\n",
       " '../raw_data/archive/HAM10000_all_images/ISIC_0026816.jpg',\n",
       " ...]"
      ]
     },
     "execution_count": 5,
     "metadata": {},
     "output_type": "execute_result"
    }
   ],
   "execution_count": 5
  },
  {
   "cell_type": "code",
   "id": "f9df9c5cc12672af",
   "metadata": {
    "ExecuteTime": {
     "end_time": "2025-06-06T13:39:20.782432Z",
     "start_time": "2025-06-06T13:39:20.779950Z"
    }
   },
   "source": "image_df = pd.DataFrame(image_list)",
   "outputs": [],
   "execution_count": 6
  },
  {
   "cell_type": "code",
   "id": "9d17d991a7372a8",
   "metadata": {
    "ExecuteTime": {
     "end_time": "2025-06-06T13:39:20.876918Z",
     "start_time": "2025-06-06T13:39:20.872825Z"
    }
   },
   "source": [
    "image_df.columns = ['filepath']\n",
    "image_df.head()"
   ],
   "outputs": [
    {
     "data": {
      "text/plain": [
       "                                            filepath\n",
       "0  ../raw_data/archive/HAM10000_all_images/ISIC_0...\n",
       "1  ../raw_data/archive/HAM10000_all_images/ISIC_0...\n",
       "2  ../raw_data/archive/HAM10000_all_images/ISIC_0...\n",
       "3  ../raw_data/archive/HAM10000_all_images/ISIC_0...\n",
       "4  ../raw_data/archive/HAM10000_all_images/ISIC_0..."
      ],
      "text/html": [
       "<div>\n",
       "<style scoped>\n",
       "    .dataframe tbody tr th:only-of-type {\n",
       "        vertical-align: middle;\n",
       "    }\n",
       "\n",
       "    .dataframe tbody tr th {\n",
       "        vertical-align: top;\n",
       "    }\n",
       "\n",
       "    .dataframe thead th {\n",
       "        text-align: right;\n",
       "    }\n",
       "</style>\n",
       "<table border=\"1\" class=\"dataframe\">\n",
       "  <thead>\n",
       "    <tr style=\"text-align: right;\">\n",
       "      <th></th>\n",
       "      <th>filepath</th>\n",
       "    </tr>\n",
       "  </thead>\n",
       "  <tbody>\n",
       "    <tr>\n",
       "      <th>0</th>\n",
       "      <td>../raw_data/archive/HAM10000_all_images/ISIC_0...</td>\n",
       "    </tr>\n",
       "    <tr>\n",
       "      <th>1</th>\n",
       "      <td>../raw_data/archive/HAM10000_all_images/ISIC_0...</td>\n",
       "    </tr>\n",
       "    <tr>\n",
       "      <th>2</th>\n",
       "      <td>../raw_data/archive/HAM10000_all_images/ISIC_0...</td>\n",
       "    </tr>\n",
       "    <tr>\n",
       "      <th>3</th>\n",
       "      <td>../raw_data/archive/HAM10000_all_images/ISIC_0...</td>\n",
       "    </tr>\n",
       "    <tr>\n",
       "      <th>4</th>\n",
       "      <td>../raw_data/archive/HAM10000_all_images/ISIC_0...</td>\n",
       "    </tr>\n",
       "  </tbody>\n",
       "</table>\n",
       "</div>"
      ]
     },
     "execution_count": 7,
     "metadata": {},
     "output_type": "execute_result"
    }
   ],
   "execution_count": 7
  },
  {
   "cell_type": "code",
   "id": "77b56ced6d447608",
   "metadata": {
    "ExecuteTime": {
     "end_time": "2025-06-06T13:39:20.940248Z",
     "start_time": "2025-06-06T13:39:20.929680Z"
    }
   },
   "source": [
    "import os\n",
    "\n",
    "image_df['image_id'] = image_df['filepath'].apply(lambda x: os.path.basename(x).strip('.jpg'))\n",
    "image_df['image_id'] = image_df['image_id'].astype('string')\n",
    "image_df.head()"
   ],
   "outputs": [
    {
     "data": {
      "text/plain": [
       "                                            filepath      image_id\n",
       "0  ../raw_data/archive/HAM10000_all_images/ISIC_0...  ISIC_0030858\n",
       "1  ../raw_data/archive/HAM10000_all_images/ISIC_0...  ISIC_0030680\n",
       "2  ../raw_data/archive/HAM10000_all_images/ISIC_0...  ISIC_0033389\n",
       "3  ../raw_data/archive/HAM10000_all_images/ISIC_0...  ISIC_0032097\n",
       "4  ../raw_data/archive/HAM10000_all_images/ISIC_0...  ISIC_0032929"
      ],
      "text/html": [
       "<div>\n",
       "<style scoped>\n",
       "    .dataframe tbody tr th:only-of-type {\n",
       "        vertical-align: middle;\n",
       "    }\n",
       "\n",
       "    .dataframe tbody tr th {\n",
       "        vertical-align: top;\n",
       "    }\n",
       "\n",
       "    .dataframe thead th {\n",
       "        text-align: right;\n",
       "    }\n",
       "</style>\n",
       "<table border=\"1\" class=\"dataframe\">\n",
       "  <thead>\n",
       "    <tr style=\"text-align: right;\">\n",
       "      <th></th>\n",
       "      <th>filepath</th>\n",
       "      <th>image_id</th>\n",
       "    </tr>\n",
       "  </thead>\n",
       "  <tbody>\n",
       "    <tr>\n",
       "      <th>0</th>\n",
       "      <td>../raw_data/archive/HAM10000_all_images/ISIC_0...</td>\n",
       "      <td>ISIC_0030858</td>\n",
       "    </tr>\n",
       "    <tr>\n",
       "      <th>1</th>\n",
       "      <td>../raw_data/archive/HAM10000_all_images/ISIC_0...</td>\n",
       "      <td>ISIC_0030680</td>\n",
       "    </tr>\n",
       "    <tr>\n",
       "      <th>2</th>\n",
       "      <td>../raw_data/archive/HAM10000_all_images/ISIC_0...</td>\n",
       "      <td>ISIC_0033389</td>\n",
       "    </tr>\n",
       "    <tr>\n",
       "      <th>3</th>\n",
       "      <td>../raw_data/archive/HAM10000_all_images/ISIC_0...</td>\n",
       "      <td>ISIC_0032097</td>\n",
       "    </tr>\n",
       "    <tr>\n",
       "      <th>4</th>\n",
       "      <td>../raw_data/archive/HAM10000_all_images/ISIC_0...</td>\n",
       "      <td>ISIC_0032929</td>\n",
       "    </tr>\n",
       "  </tbody>\n",
       "</table>\n",
       "</div>"
      ]
     },
     "execution_count": 8,
     "metadata": {},
     "output_type": "execute_result"
    }
   ],
   "execution_count": 8
  },
  {
   "metadata": {},
   "cell_type": "markdown",
   "source": "## Joining Metadata and Image data",
   "id": "2c796cf0df44bc1f"
  },
  {
   "cell_type": "code",
   "id": "c6957eed581508ee",
   "metadata": {
    "ExecuteTime": {
     "end_time": "2025-06-06T13:39:21.010981Z",
     "start_time": "2025-06-06T13:39:21.005052Z"
    }
   },
   "source": [
    "md_df['image_id'] = md_df['image_id'].astype('string')\n",
    "md_df.dtypes"
   ],
   "outputs": [
    {
     "data": {
      "text/plain": [
       "lesion_id               object\n",
       "image_id        string[python]\n",
       "dx                      object\n",
       "dx_type                 object\n",
       "age                    float64\n",
       "sex                     object\n",
       "localization            object\n",
       "dtype: object"
      ]
     },
     "execution_count": 9,
     "metadata": {},
     "output_type": "execute_result"
    }
   ],
   "execution_count": 9
  },
  {
   "metadata": {
    "ExecuteTime": {
     "end_time": "2025-06-06T13:39:21.113434Z",
     "start_time": "2025-06-06T13:39:21.110825Z"
    }
   },
   "cell_type": "code",
   "source": "md_df.columns",
   "id": "d567b15abd8609fc",
   "outputs": [
    {
     "data": {
      "text/plain": [
       "Index(['lesion_id', 'image_id', 'dx', 'dx_type', 'age', 'sex', 'localization'], dtype='object')"
      ]
     },
     "execution_count": 10,
     "metadata": {},
     "output_type": "execute_result"
    }
   ],
   "execution_count": 10
  },
  {
   "metadata": {
    "ExecuteTime": {
     "end_time": "2025-06-06T13:39:21.322362Z",
     "start_time": "2025-06-06T13:39:21.212611Z"
    }
   },
   "cell_type": "code",
   "source": [
    "md_df['age'].value_counts().sort_index().plot(kind='bar', figsize=(10, 6))\n",
    "plt.xlabel('Age')\n",
    "plt.ylabel('Number of People')\n",
    "plt.title('Distribution of People by Age')\n",
    "plt.grid(axis='y', linestyle='--', alpha=0.7)\n",
    "plt.show()\n"
   ],
   "id": "775d8ab570ec926d",
   "outputs": [
    {
     "data": {
      "text/plain": [
       "<Figure size 1000x600 with 1 Axes>"
      ],
      "image/png": "[encoded data removed]"
     },
     "metadata": {},
     "output_type": "display_data"
    }
   ],
   "execution_count": 11
  },
  {
   "metadata": {
    "ExecuteTime": {
     "end_time": "2025-06-06T13:39:21.336814Z",
     "start_time": "2025-06-06T13:39:21.332693Z"
    }
   },
   "cell_type": "code",
   "source": "md_df['sex'].value_counts()",
   "id": "f22cb85649d74b12",
   "outputs": [
    {
     "data": {
      "text/plain": [
       "sex\n",
       "male       5406\n",
       "female     4552\n",
       "unknown      57\n",
       "Name: count, dtype: int64"
      ]
     },
     "execution_count": 12,
     "metadata": {},
     "output_type": "execute_result"
    }
   ],
   "execution_count": 12
  },
  {
   "cell_type": "code",
   "id": "4a688de173e3e4b7",
   "metadata": {
    "ExecuteTime": {
     "end_time": "2025-06-06T13:39:21.373448Z",
     "start_time": "2025-06-06T13:39:21.370718Z"
    }
   },
   "source": [
    "    # 'nv': 'Melanocytic nevi',\n",
    "    # 'mel': 'Melanoma',\n",
    "    # 'bkl': 'Benign keratosis-like lesions ',\n",
    "    # 'bcc': 'Basal cell carcinoma',\n",
    "    # 'akiec': 'Actinic keratoses',\n",
    "    # 'vasc': 'Vascular lesions',\n",
    "    # 'df': 'Dermatofibroma'"
   ],
   "outputs": [],
   "execution_count": 13
  },
  {
   "metadata": {
    "ExecuteTime": {
     "end_time": "2025-06-06T13:39:21.442104Z",
     "start_time": "2025-06-06T13:39:21.437108Z"
    }
   },
   "cell_type": "code",
   "source": [
    "# md_df[md_df['dx'] == 'mel']['sex'].value_counts()\n",
    "md_df[md_df['sex'] == 'unknown']['dx'].value_counts()"
   ],
   "id": "d5eca93712fd4e6b",
   "outputs": [
    {
     "data": {
      "text/plain": [
       "dx\n",
       "nv     47\n",
       "bkl    10\n",
       "Name: count, dtype: int64"
      ]
     },
     "execution_count": 14,
     "metadata": {},
     "output_type": "execute_result"
    }
   ],
   "execution_count": 14
  },
  {
   "metadata": {
    "ExecuteTime": {
     "end_time": "2025-06-06T13:39:21.504846Z",
     "start_time": "2025-06-06T13:39:21.500519Z"
    }
   },
   "cell_type": "code",
   "source": "md_df[md_df['localization'] == 'unknown']['dx'].value_counts()",
   "id": "751dde43920498d7",
   "outputs": [
    {
     "data": {
      "text/plain": [
       "dx\n",
       "nv     196\n",
       "bkl     23\n",
       "mel     10\n",
       "bcc      5\n",
       "Name: count, dtype: int64"
      ]
     },
     "execution_count": 15,
     "metadata": {},
     "output_type": "execute_result"
    }
   ],
   "execution_count": 15
  },
  {
   "cell_type": "code",
   "id": "76d7d63acacaa6e5",
   "metadata": {
    "ExecuteTime": {
     "end_time": "2025-06-06T13:39:21.593403Z",
     "start_time": "2025-06-06T13:39:21.590018Z"
    }
   },
   "source": "image_df.dtypes",
   "outputs": [
    {
     "data": {
      "text/plain": [
       "filepath            object\n",
       "image_id    string[python]\n",
       "dtype: object"
      ]
     },
     "execution_count": 16,
     "metadata": {},
     "output_type": "execute_result"
    }
   ],
   "execution_count": 16
  },
  {
   "metadata": {
    "ExecuteTime": {
     "end_time": "2025-06-06T13:39:21.689384Z",
     "start_time": "2025-06-06T13:39:21.684728Z"
    }
   },
   "cell_type": "code",
   "source": [
    "# Step 1: Filter the rows where 'lesion_id' is duplicated\n",
    "duplicates_df = md_df[md_df['lesion_id'].duplicated(keep=False)]\n",
    "\n",
    "# Step 2: Get value counts for 'dx' within just those duplicated rows\n",
    "duplicates_df['dx'].value_counts()"
   ],
   "id": "a6d50216bbf43aff",
   "outputs": [
    {
     "data": {
      "text/plain": [
       "dx\n",
       "nv       2290\n",
       "mel       883\n",
       "bkl       659\n",
       "bcc       339\n",
       "akiec     176\n",
       "vasc       78\n",
       "df         76\n",
       "Name: count, dtype: int64"
      ]
     },
     "execution_count": 17,
     "metadata": {},
     "output_type": "execute_result"
    }
   ],
   "execution_count": 17
  },
  {
   "cell_type": "code",
   "id": "add71d902321a99b",
   "metadata": {
    "ExecuteTime": {
     "end_time": "2025-06-06T13:39:21.763200Z",
     "start_time": "2025-06-06T13:39:21.759447Z"
    }
   },
   "source": "md_df.dtypes",
   "outputs": [
    {
     "data": {
      "text/plain": [
       "lesion_id               object\n",
       "image_id        string[python]\n",
       "dx                      object\n",
       "dx_type                 object\n",
       "age                    float64\n",
       "sex                     object\n",
       "localization            object\n",
       "dtype: object"
      ]
     },
     "execution_count": 18,
     "metadata": {},
     "output_type": "execute_result"
    }
   ],
   "execution_count": 18
  },
  {
   "cell_type": "code",
   "id": "446c0508b8656031",
   "metadata": {
    "ExecuteTime": {
     "end_time": "2025-06-06T13:39:21.875917Z",
     "start_time": "2025-06-06T13:39:21.872947Z"
    }
   },
   "source": "image_df.dtypes",
   "outputs": [
    {
     "data": {
      "text/plain": [
       "filepath            object\n",
       "image_id    string[python]\n",
       "dtype: object"
      ]
     },
     "execution_count": 19,
     "metadata": {},
     "output_type": "execute_result"
    }
   ],
   "execution_count": 19
  },
  {
   "cell_type": "code",
   "id": "b870f2cc288a10d",
   "metadata": {
    "ExecuteTime": {
     "end_time": "2025-06-06T13:39:21.979364Z",
     "start_time": "2025-06-06T13:39:21.967129Z"
    }
   },
   "source": [
    "full_df = image_df.merge(md_df, on='image_id', how='left')\n",
    "full_df.head()"
   ],
   "outputs": [
    {
     "data": {
      "text/plain": [
       "                                            filepath      image_id  \\\n",
       "0  ../raw_data/archive/HAM10000_all_images/ISIC_0...  ISIC_0030858   \n",
       "1  ../raw_data/archive/HAM10000_all_images/ISIC_0...  ISIC_0030680   \n",
       "2  ../raw_data/archive/HAM10000_all_images/ISIC_0...  ISIC_0033389   \n",
       "3  ../raw_data/archive/HAM10000_all_images/ISIC_0...  ISIC_0032097   \n",
       "4  ../raw_data/archive/HAM10000_all_images/ISIC_0...  ISIC_0032929   \n",
       "\n",
       "     lesion_id   dx    dx_type   age     sex localization  \n",
       "0  HAM_0001813   nv      histo  60.0    male        trunk  \n",
       "1  HAM_0002381   nv  follow_up  80.0    male        trunk  \n",
       "2  HAM_0000268   nv      histo  10.0  female        trunk  \n",
       "3  HAM_0003006   nv  follow_up  55.0    male         back  \n",
       "4  HAM_0003321  bkl      histo  75.0  female         face  "
      ],
      "text/html": [
       "<div>\n",
       "<style scoped>\n",
       "    .dataframe tbody tr th:only-of-type {\n",
       "        vertical-align: middle;\n",
       "    }\n",
       "\n",
       "    .dataframe tbody tr th {\n",
       "        vertical-align: top;\n",
       "    }\n",
       "\n",
       "    .dataframe thead th {\n",
       "        text-align: right;\n",
       "    }\n",
       "</style>\n",
       "<table border=\"1\" class=\"dataframe\">\n",
       "  <thead>\n",
       "    <tr style=\"text-align: right;\">\n",
       "      <th></th>\n",
       "      <th>filepath</th>\n",
       "      <th>image_id</th>\n",
       "      <th>lesion_id</th>\n",
       "      <th>dx</th>\n",
       "      <th>dx_type</th>\n",
       "      <th>age</th>\n",
       "      <th>sex</th>\n",
       "      <th>localization</th>\n",
       "    </tr>\n",
       "  </thead>\n",
       "  <tbody>\n",
       "    <tr>\n",
       "      <th>0</th>\n",
       "      <td>../raw_data/archive/HAM10000_all_images/ISIC_0...</td>\n",
       "      <td>ISIC_0030858</td>\n",
       "      <td>HAM_0001813</td>\n",
       "      <td>nv</td>\n",
       "      <td>histo</td>\n",
       "      <td>60.0</td>\n",
       "      <td>male</td>\n",
       "      <td>trunk</td>\n",
       "    </tr>\n",
       "    <tr>\n",
       "      <th>1</th>\n",
       "      <td>../raw_data/archive/HAM10000_all_images/ISIC_0...</td>\n",
       "      <td>ISIC_0030680</td>\n",
       "      <td>HAM_0002381</td>\n",
       "      <td>nv</td>\n",
       "      <td>follow_up</td>\n",
       "      <td>80.0</td>\n",
       "      <td>male</td>\n",
       "      <td>trunk</td>\n",
       "    </tr>\n",
       "    <tr>\n",
       "      <th>2</th>\n",
       "      <td>../raw_data/archive/HAM10000_all_images/ISIC_0...</td>\n",
       "      <td>ISIC_0033389</td>\n",
       "      <td>HAM_0000268</td>\n",
       "      <td>nv</td>\n",
       "      <td>histo</td>\n",
       "      <td>10.0</td>\n",
       "      <td>female</td>\n",
       "      <td>trunk</td>\n",
       "    </tr>\n",
       "    <tr>\n",
       "      <th>3</th>\n",
       "      <td>../raw_data/archive/HAM10000_all_images/ISIC_0...</td>\n",
       "      <td>ISIC_0032097</td>\n",
       "      <td>HAM_0003006</td>\n",
       "      <td>nv</td>\n",
       "      <td>follow_up</td>\n",
       "      <td>55.0</td>\n",
       "      <td>male</td>\n",
       "      <td>back</td>\n",
       "    </tr>\n",
       "    <tr>\n",
       "      <th>4</th>\n",
       "      <td>../raw_data/archive/HAM10000_all_images/ISIC_0...</td>\n",
       "      <td>ISIC_0032929</td>\n",
       "      <td>HAM_0003321</td>\n",
       "      <td>bkl</td>\n",
       "      <td>histo</td>\n",
       "      <td>75.0</td>\n",
       "      <td>female</td>\n",
       "      <td>face</td>\n",
       "    </tr>\n",
       "  </tbody>\n",
       "</table>\n",
       "</div>"
      ]
     },
     "execution_count": 20,
     "metadata": {},
     "output_type": "execute_result"
    }
   ],
   "execution_count": 20
  },
  {
   "metadata": {
    "ExecuteTime": {
     "end_time": "2025-06-06T13:39:22.077445Z",
     "start_time": "2025-06-06T13:39:22.074737Z"
    }
   },
   "cell_type": "code",
   "source": "full_df.columns",
   "id": "91476a989dc8ae7d",
   "outputs": [
    {
     "data": {
      "text/plain": [
       "Index(['filepath', 'image_id', 'lesion_id', 'dx', 'dx_type', 'age', 'sex',\n",
       "       'localization'],\n",
       "      dtype='object')"
      ]
     },
     "execution_count": 21,
     "metadata": {},
     "output_type": "execute_result"
    }
   ],
   "execution_count": 21
  },
  {
   "metadata": {},
   "cell_type": "markdown",
   "source": "## Dealing with Null Data",
   "id": "568a847de9c67b8f"
  },
  {
   "cell_type": "code",
   "id": "f1299a12aaca7fa5",
   "metadata": {
    "ExecuteTime": {
     "end_time": "2025-06-06T13:39:22.172895Z",
     "start_time": "2025-06-06T13:39:22.168081Z"
    }
   },
   "source": "full_df.isnull().sum()",
   "outputs": [
    {
     "data": {
      "text/plain": [
       "filepath         0\n",
       "image_id         0\n",
       "lesion_id        0\n",
       "dx               0\n",
       "dx_type          0\n",
       "age             57\n",
       "sex              0\n",
       "localization     0\n",
       "dtype: int64"
      ]
     },
     "execution_count": 22,
     "metadata": {},
     "output_type": "execute_result"
    }
   ],
   "execution_count": 22
  },
  {
   "metadata": {},
   "cell_type": "markdown",
   "source": "## Drop Detection Type",
   "id": "70df21f55611aea3"
  },
  {
   "cell_type": "code",
   "id": "e1f05a8d40af3376",
   "metadata": {
    "ExecuteTime": {
     "end_time": "2025-06-06T13:39:22.242300Z",
     "start_time": "2025-06-06T13:39:22.239822Z"
    }
   },
   "source": "full_df.columns",
   "outputs": [
    {
     "data": {
      "text/plain": [
       "Index(['filepath', 'image_id', 'lesion_id', 'dx', 'dx_type', 'age', 'sex',\n",
       "       'localization'],\n",
       "      dtype='object')"
      ]
     },
     "execution_count": 23,
     "metadata": {},
     "output_type": "execute_result"
    }
   ],
   "execution_count": 23
  },
  {
   "cell_type": "code",
   "id": "3ef4eb2291e5aeec",
   "metadata": {
    "ExecuteTime": {
     "end_time": "2025-06-06T13:39:22.329197Z",
     "start_time": "2025-06-06T13:39:22.326585Z"
    }
   },
   "source": "type(full_df)",
   "outputs": [
    {
     "data": {
      "text/plain": [
       "pandas.core.frame.DataFrame"
      ]
     },
     "execution_count": 24,
     "metadata": {},
     "output_type": "execute_result"
    }
   ],
   "execution_count": 24
  },
  {
   "cell_type": "code",
   "id": "ef475af4f13912a8",
   "metadata": {
    "ExecuteTime": {
     "end_time": "2025-06-06T13:39:22.400131Z",
     "start_time": "2025-06-06T13:39:22.396944Z"
    }
   },
   "source": "proc_df = full_df.drop(columns=[col for col in ['dx_type','image_id','lesion_id'] if col in full_df.columns])",
   "outputs": [],
   "execution_count": 25
  },
  {
   "cell_type": "code",
   "id": "cdde65d182678856",
   "metadata": {
    "ExecuteTime": {
     "end_time": "2025-06-06T13:39:22.463713Z",
     "start_time": "2025-06-06T13:39:22.461103Z"
    }
   },
   "source": "proc_df.columns",
   "outputs": [
    {
     "data": {
      "text/plain": [
       "Index(['filepath', 'dx', 'age', 'sex', 'localization'], dtype='object')"
      ]
     },
     "execution_count": 26,
     "metadata": {},
     "output_type": "execute_result"
    }
   ],
   "execution_count": 26
  },
  {
   "metadata": {},
   "cell_type": "markdown",
   "source": "## Age",
   "id": "46cd876c1945d24"
  },
  {
   "metadata": {
    "ExecuteTime": {
     "end_time": "2025-06-06T13:39:22.514122Z",
     "start_time": "2025-06-06T13:39:22.510889Z"
    }
   },
   "cell_type": "code",
   "source": [
    "# filling the age data with mean values\n",
    "full_df['age'] = full_df['age'].fillna((full_df['age'].mean()))"
   ],
   "id": "4e46ce0da7e6113",
   "outputs": [],
   "execution_count": 27
  },
  {
   "metadata": {
    "ExecuteTime": {
     "end_time": "2025-06-06T13:39:22.547506Z",
     "start_time": "2025-06-06T13:39:22.541956Z"
    }
   },
   "cell_type": "code",
   "source": [
    "#check to see if there is any null values after filling in the na stuff\n",
    "full_df.isnull().sum()"
   ],
   "id": "7d8116f912284529",
   "outputs": [
    {
     "data": {
      "text/plain": [
       "filepath        0\n",
       "image_id        0\n",
       "lesion_id       0\n",
       "dx              0\n",
       "dx_type         0\n",
       "age             0\n",
       "sex             0\n",
       "localization    0\n",
       "dtype: int64"
      ]
     },
     "execution_count": 28,
     "metadata": {},
     "output_type": "execute_result"
    }
   ],
   "execution_count": 28
  },
  {
   "metadata": {
    "ExecuteTime": {
     "end_time": "2025-06-06T13:39:22.593611Z",
     "start_time": "2025-06-06T13:39:22.591691Z"
    }
   },
   "cell_type": "code",
   "source": "",
   "id": "a2500a580556e6cf",
   "outputs": [],
   "execution_count": null
  },
  {
   "metadata": {},
   "cell_type": "markdown",
   "source": "## Sex",
   "id": "7b303a9a428d6c37"
  },
  {
   "metadata": {
    "ExecuteTime": {
     "end_time": "2025-06-06T13:39:22.643245Z",
     "start_time": "2025-06-06T13:39:22.639451Z"
    }
   },
   "cell_type": "code",
   "source": [
    "# Drop the unknown sex names\n",
    "full_df = full_df[full_df['sex'] != 'unknown']"
   ],
   "id": "8a6da8d39c1bcf9d",
   "outputs": [],
   "execution_count": 29
  },
  {
   "metadata": {},
   "cell_type": "markdown",
   "source": "## Localization",
   "id": "397a8d486e65267f"
  },
  {
   "metadata": {
    "ExecuteTime": {
     "end_time": "2025-06-06T13:39:22.693818Z",
     "start_time": "2025-06-06T13:39:22.689417Z"
    }
   },
   "cell_type": "code",
   "source": [
    "#drop unknowns\n",
    "full_df = full_df[full_df['localization'] != 'unknown']"
   ],
   "id": "664e4250eae6b946",
   "outputs": [],
   "execution_count": 30
  },
  {
   "cell_type": "code",
   "id": "c7386df7f3f2f56a",
   "metadata": {
    "ExecuteTime": {
     "end_time": "2025-06-06T13:39:22.721539Z",
     "start_time": "2025-06-06T13:39:22.717477Z"
    }
   },
   "source": "full_df[full_df['localization'] == 'unknown']['dx'].value_counts()",
   "outputs": [
    {
     "data": {
      "text/plain": [
       "Series([], Name: count, dtype: int64)"
      ]
     },
     "execution_count": 31,
     "metadata": {},
     "output_type": "execute_result"
    }
   ],
   "execution_count": 31
  },
  {
   "metadata": {},
   "cell_type": "markdown",
   "source": "# Image Sorting",
   "id": "de8605b4e388397f"
  },
  {
   "metadata": {
    "ExecuteTime": {
     "end_time": "2025-06-06T13:40:12.808440Z",
     "start_time": "2025-06-06T13:39:22.745801Z"
    }
   },
   "cell_type": "code",
   "source": [
    "# resize the images, and put them in an array\n",
    "full_df['image_arr'] = full_df['filepath'].apply(lambda x: np.asarray(Image.open(x).resize((96, 96))))"
   ],
   "id": "88b84e382eeab74",
   "outputs": [],
   "execution_count": 32
  },
  {
   "metadata": {
    "ExecuteTime": {
     "end_time": "2025-06-06T13:40:17.423615Z",
     "start_time": "2025-06-06T13:40:13.887392Z"
    }
   },
   "cell_type": "code",
   "source": "full_df.head()",
   "id": "38a51a0b69417e04",
   "outputs": [
    {
     "data": {
      "text/plain": [
       "                                            filepath      image_id  \\\n",
       "0  ../raw_data/archive/HAM10000_all_images/ISIC_0...  ISIC_0030858   \n",
       "1  ../raw_data/archive/HAM10000_all_images/ISIC_0...  ISIC_0030680   \n",
       "2  ../raw_data/archive/HAM10000_all_images/ISIC_0...  ISIC_0033389   \n",
       "3  ../raw_data/archive/HAM10000_all_images/ISIC_0...  ISIC_0032097   \n",
       "4  ../raw_data/archive/HAM10000_all_images/ISIC_0...  ISIC_0032929   \n",
       "\n",
       "     lesion_id   dx    dx_type   age     sex localization  \\\n",
       "0  HAM_0001813   nv      histo  60.0    male        trunk   \n",
       "1  HAM_0002381   nv  follow_up  80.0    male        trunk   \n",
       "2  HAM_0000268   nv      histo  10.0  female        trunk   \n",
       "3  HAM_0003006   nv  follow_up  55.0    male         back   \n",
       "4  HAM_0003321  bkl      histo  75.0  female         face   \n",
       "\n",
       "                                           image_arr  \n",
       "0  [[[31, 22, 25], [32, 24, 27], [42, 32, 43], [6...  \n",
       "1  [[[225, 153, 161], [225, 157, 164], [226, 158,...  \n",
       "2  [[[5, 5, 5], [6, 6, 4], [6, 6, 5], [13, 12, 12...  \n",
       "3  [[[230, 151, 169], [229, 150, 168], [229, 148,...  \n",
       "4  [[[120, 88, 106], [119, 85, 101], [120, 86, 10...  "
      ],
      "text/html": [
       "<div>\n",
       "<style scoped>\n",
       "    .dataframe tbody tr th:only-of-type {\n",
       "        vertical-align: middle;\n",
       "    }\n",
       "\n",
       "    .dataframe tbody tr th {\n",
       "        vertical-align: top;\n",
       "    }\n",
       "\n",
       "    .dataframe thead th {\n",
       "        text-align: right;\n",
       "    }\n",
       "</style>\n",
       "<table border=\"1\" class=\"dataframe\">\n",
       "  <thead>\n",
       "    <tr style=\"text-align: right;\">\n",
       "      <th></th>\n",
       "      <th>filepath</th>\n",
       "      <th>image_id</th>\n",
       "      <th>lesion_id</th>\n",
       "      <th>dx</th>\n",
       "      <th>dx_type</th>\n",
       "      <th>age</th>\n",
       "      <th>sex</th>\n",
       "      <th>localization</th>\n",
       "      <th>image_arr</th>\n",
       "    </tr>\n",
       "  </thead>\n",
       "  <tbody>\n",
       "    <tr>\n",
       "      <th>0</th>\n",
       "      <td>../raw_data/archive/HAM10000_all_images/ISIC_0...</td>\n",
       "      <td>ISIC_0030858</td>\n",
       "      <td>HAM_0001813</td>\n",
       "      <td>nv</td>\n",
       "      <td>histo</td>\n",
       "      <td>60.0</td>\n",
       "      <td>male</td>\n",
       "      <td>trunk</td>\n",
       "      <td>[[[31, 22, 25], [32, 24, 27], [42, 32, 43], [6...</td>\n",
       "    </tr>\n",
       "    <tr>\n",
       "      <th>1</th>\n",
       "      <td>../raw_data/archive/HAM10000_all_images/ISIC_0...</td>\n",
       "      <td>ISIC_0030680</td>\n",
       "      <td>HAM_0002381</td>\n",
       "      <td>nv</td>\n",
       "      <td>follow_up</td>\n",
       "      <td>80.0</td>\n",
       "      <td>male</td>\n",
       "      <td>trunk</td>\n",
       "      <td>[[[225, 153, 161], [225, 157, 164], [226, 158,...</td>\n",
       "    </tr>\n",
       "    <tr>\n",
       "      <th>2</th>\n",
       "      <td>../raw_data/archive/HAM10000_all_images/ISIC_0...</td>\n",
       "      <td>ISIC_0033389</td>\n",
       "      <td>HAM_0000268</td>\n",
       "      <td>nv</td>\n",
       "      <td>histo</td>\n",
       "      <td>10.0</td>\n",
       "      <td>female</td>\n",
       "      <td>trunk</td>\n",
       "      <td>[[[5, 5, 5], [6, 6, 4], [6, 6, 5], [13, 12, 12...</td>\n",
       "    </tr>\n",
       "    <tr>\n",
       "      <th>3</th>\n",
       "      <td>../raw_data/archive/HAM10000_all_images/ISIC_0...</td>\n",
       "      <td>ISIC_0032097</td>\n",
       "      <td>HAM_0003006</td>\n",
       "      <td>nv</td>\n",
       "      <td>follow_up</td>\n",
       "      <td>55.0</td>\n",
       "      <td>male</td>\n",
       "      <td>back</td>\n",
       "      <td>[[[230, 151, 169], [229, 150, 168], [229, 148,...</td>\n",
       "    </tr>\n",
       "    <tr>\n",
       "      <th>4</th>\n",
       "      <td>../raw_data/archive/HAM10000_all_images/ISIC_0...</td>\n",
       "      <td>ISIC_0032929</td>\n",
       "      <td>HAM_0003321</td>\n",
       "      <td>bkl</td>\n",
       "      <td>histo</td>\n",
       "      <td>75.0</td>\n",
       "      <td>female</td>\n",
       "      <td>face</td>\n",
       "      <td>[[[120, 88, 106], [119, 85, 101], [120, 86, 10...</td>\n",
       "    </tr>\n",
       "  </tbody>\n",
       "</table>\n",
       "</div>"
      ]
     },
     "execution_count": 33,
     "metadata": {},
     "output_type": "execute_result"
    }
   ],
   "execution_count": 33
  },
  {
   "metadata": {
    "ExecuteTime": {
     "end_time": "2025-06-06T13:40:18.916223Z",
     "start_time": "2025-06-06T13:40:18.884562Z"
    }
   },
   "cell_type": "code",
   "source": [
    "plt.imshow(full_df.iloc[301]['image_arr'])\n",
    "plt.show()"
   ],
   "id": "418a38c656e9719f",
   "outputs": [
    {
     "data": {
      "text/plain": [
       "<Figure size 640x480 with 1 Axes>"
      ],
      "image/png": "[encoded data removed]"
     },
     "metadata": {},
     "output_type": "display_data"
    }
   ],
   "execution_count": 34
  },
  {
   "metadata": {
    "ExecuteTime": {
     "end_time": "2025-06-06T13:40:21.797496Z",
     "start_time": "2025-06-06T13:40:21.794915Z"
    }
   },
   "cell_type": "code",
   "source": "full_df.iloc[499]['image_arr'].shape",
   "id": "b1f4ba2b227e412a",
   "outputs": [
    {
     "data": {
      "text/plain": [
       "(96, 96, 3)"
      ]
     },
     "execution_count": 35,
     "metadata": {},
     "output_type": "execute_result"
    }
   ],
   "execution_count": 35
  },
  {
   "cell_type": "markdown",
   "source": "# Encoding",
   "id": "233993f2e0a25a70",
   "metadata": {}
  },
  {
   "metadata": {
    "ExecuteTime": {
     "end_time": "2025-06-06T13:40:23.962924Z",
     "start_time": "2025-06-06T13:40:23.961374Z"
    }
   },
   "cell_type": "code",
   "source": "",
   "id": "6338ac86c214a01c",
   "outputs": [],
   "execution_count": null
  }
 ],
 "metadata": {
  "kernelspec": {
   "display_name": "Python 3 (ipykernel)",
   "language": "python",
   "name": "python3"
  },
  "language_info": {
   "codemirror_mode": {
    "name": "ipython",
    "version": 3
   },
   "file_extension": ".py",
   "mimetype": "text/x-python",
   "name": "python",
   "nbconvert_exporter": "python",
   "pygments_lexer": "ipython3",
   "version": "3.12.9"
  }
 },
 "nbformat": 4,
 "nbformat_minor": 5
}

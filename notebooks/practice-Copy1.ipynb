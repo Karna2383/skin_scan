{
 "cells": [
  {
   "cell_type": "code",
   "execution_count": 1,
   "id": "976dfe88-5984-43bc-915f-2d48c304f078",
   "metadata": {
    "execution": {
     "iopub.execute_input": "2025-06-05T10:44:40.621328Z",
     "iopub.status.busy": "2025-06-05T10:44:40.621204Z",
     "iopub.status.idle": "2025-06-05T10:44:44.858178Z",
     "shell.execute_reply": "2025-06-05T10:44:44.857637Z",
     "shell.execute_reply.started": "2025-06-05T10:44:40.621315Z"
    }
   },
   "outputs": [
    {
     "name": "stderr",
     "output_type": "stream",
     "text": [
      "2025-06-05 11:44:42.224469: I tensorflow/core/util/port.cc:153] oneDNN custom operations are on. You may see slightly different numerical results due to floating-point round-off errors from different computation orders. To turn them off, set the environment variable `TF_ENABLE_ONEDNN_OPTS=0`.\n",
      "2025-06-05 11:44:42.388821: E external/local_xla/xla/stream_executor/cuda/cuda_fft.cc:467] Unable to register cuFFT factory: Attempting to register factory for plugin cuFFT when one has already been registered\n",
      "WARNING: All log messages before absl::InitializeLog() is called are written to STDERR\n",
      "E0000 00:00:1749120282.454217   77537 cuda_dnn.cc:8579] Unable to register cuDNN factory: Attempting to register factory for plugin cuDNN when one has already been registered\n",
      "E0000 00:00:1749120282.472489   77537 cuda_blas.cc:1407] Unable to register cuBLAS factory: Attempting to register factory for plugin cuBLAS when one has already been registered\n",
      "W0000 00:00:1749120282.615736   77537 computation_placer.cc:177] computation placer already registered. Please check linkage and avoid linking the same target more than once.\n",
      "W0000 00:00:1749120282.615762   77537 computation_placer.cc:177] computation placer already registered. Please check linkage and avoid linking the same target more than once.\n",
      "W0000 00:00:1749120282.615763   77537 computation_placer.cc:177] computation placer already registered. Please check linkage and avoid linking the same target more than once.\n",
      "W0000 00:00:1749120282.615764   77537 computation_placer.cc:177] computation placer already registered. Please check linkage and avoid linking the same target more than once.\n",
      "2025-06-05 11:44:42.633348: I tensorflow/core/platform/cpu_feature_guard.cc:210] This TensorFlow binary is optimized to use available CPU instructions in performance-critical operations.\n",
      "To enable the following instructions: AVX2 AVX_VNNI FMA, in other operations, rebuild TensorFlow with the appropriate compiler flags.\n"
     ]
    }
   ],
   "source": [
    "# Step 1: Import Required Libraries\n",
    "import pandas as pd\n",
    "import numpy as np\n",
    "import os\n",
    "from PIL import Image\n",
    "from sklearn.model_selection import train_test_split\n",
    "from tensorflow.keras.models import Sequential\n",
    "from tensorflow.keras.layers import Conv2D, MaxPooling2D, Flatten, Dense, Dropout\n",
    "from tensorflow.keras.utils import to_categorical\n",
    "from tensorflow.keras.optimizers import Adam\n",
    "import matplotlib.pyplot as plt\n"
   ]
  },
  {
   "cell_type": "code",
   "execution_count": 2,
   "id": "1269341d-3b80-43ea-b8be-66a0f26e52ff",
   "metadata": {
    "execution": {
     "iopub.execute_input": "2025-06-05T10:44:44.859236Z",
     "iopub.status.busy": "2025-06-05T10:44:44.858780Z",
     "iopub.status.idle": "2025-06-05T10:44:45.357040Z",
     "shell.execute_reply": "2025-06-05T10:44:45.355647Z",
     "shell.execute_reply.started": "2025-06-05T10:44:44.859222Z"
    }
   },
   "outputs": [
    {
     "ename": "FileNotFoundError",
     "evalue": "[Errno 2] No such file or directory: 'HAM10000_metadata.csv'",
     "output_type": "error",
     "traceback": [
      "\u001b[31m---------------------------------------------------------------------------\u001b[39m",
      "\u001b[31mFileNotFoundError\u001b[39m                         Traceback (most recent call last)",
      "\u001b[36mCell\u001b[39m\u001b[36m \u001b[39m\u001b[32mIn[2]\u001b[39m\u001b[32m, line 1\u001b[39m\n\u001b[32m----> \u001b[39m\u001b[32m1\u001b[39m metadata = \u001b[43mpd\u001b[49m\u001b[43m.\u001b[49m\u001b[43mread_csv\u001b[49m\u001b[43m(\u001b[49m\u001b[33;43m\"\u001b[39;49m\u001b[33;43mHAM10000_metadata.csv\u001b[39;49m\u001b[33;43m\"\u001b[39;49m\u001b[43m)\u001b[49m\n\u001b[32m      3\u001b[39m metadata\n",
      "\u001b[36mFile \u001b[39m\u001b[32m~/.pyenv/versions/3.12.9/envs/skin_scan_env/lib/python3.12/site-packages/pandas/io/parsers/readers.py:1026\u001b[39m, in \u001b[36mread_csv\u001b[39m\u001b[34m(filepath_or_buffer, sep, delimiter, header, names, index_col, usecols, dtype, engine, converters, true_values, false_values, skipinitialspace, skiprows, skipfooter, nrows, na_values, keep_default_na, na_filter, verbose, skip_blank_lines, parse_dates, infer_datetime_format, keep_date_col, date_parser, date_format, dayfirst, cache_dates, iterator, chunksize, compression, thousands, decimal, lineterminator, quotechar, quoting, doublequote, escapechar, comment, encoding, encoding_errors, dialect, on_bad_lines, delim_whitespace, low_memory, memory_map, float_precision, storage_options, dtype_backend)\u001b[39m\n\u001b[32m   1013\u001b[39m kwds_defaults = _refine_defaults_read(\n\u001b[32m   1014\u001b[39m     dialect,\n\u001b[32m   1015\u001b[39m     delimiter,\n\u001b[32m   (...)\u001b[39m\u001b[32m   1022\u001b[39m     dtype_backend=dtype_backend,\n\u001b[32m   1023\u001b[39m )\n\u001b[32m   1024\u001b[39m kwds.update(kwds_defaults)\n\u001b[32m-> \u001b[39m\u001b[32m1026\u001b[39m \u001b[38;5;28;01mreturn\u001b[39;00m \u001b[43m_read\u001b[49m\u001b[43m(\u001b[49m\u001b[43mfilepath_or_buffer\u001b[49m\u001b[43m,\u001b[49m\u001b[43m \u001b[49m\u001b[43mkwds\u001b[49m\u001b[43m)\u001b[49m\n",
      "\u001b[36mFile \u001b[39m\u001b[32m~/.pyenv/versions/3.12.9/envs/skin_scan_env/lib/python3.12/site-packages/pandas/io/parsers/readers.py:620\u001b[39m, in \u001b[36m_read\u001b[39m\u001b[34m(filepath_or_buffer, kwds)\u001b[39m\n\u001b[32m    617\u001b[39m _validate_names(kwds.get(\u001b[33m\"\u001b[39m\u001b[33mnames\u001b[39m\u001b[33m\"\u001b[39m, \u001b[38;5;28;01mNone\u001b[39;00m))\n\u001b[32m    619\u001b[39m \u001b[38;5;66;03m# Create the parser.\u001b[39;00m\n\u001b[32m--> \u001b[39m\u001b[32m620\u001b[39m parser = \u001b[43mTextFileReader\u001b[49m\u001b[43m(\u001b[49m\u001b[43mfilepath_or_buffer\u001b[49m\u001b[43m,\u001b[49m\u001b[43m \u001b[49m\u001b[43m*\u001b[49m\u001b[43m*\u001b[49m\u001b[43mkwds\u001b[49m\u001b[43m)\u001b[49m\n\u001b[32m    622\u001b[39m \u001b[38;5;28;01mif\u001b[39;00m chunksize \u001b[38;5;129;01mor\u001b[39;00m iterator:\n\u001b[32m    623\u001b[39m     \u001b[38;5;28;01mreturn\u001b[39;00m parser\n",
      "\u001b[36mFile \u001b[39m\u001b[32m~/.pyenv/versions/3.12.9/envs/skin_scan_env/lib/python3.12/site-packages/pandas/io/parsers/readers.py:1620\u001b[39m, in \u001b[36mTextFileReader.__init__\u001b[39m\u001b[34m(self, f, engine, **kwds)\u001b[39m\n\u001b[32m   1617\u001b[39m     \u001b[38;5;28mself\u001b[39m.options[\u001b[33m\"\u001b[39m\u001b[33mhas_index_names\u001b[39m\u001b[33m\"\u001b[39m] = kwds[\u001b[33m\"\u001b[39m\u001b[33mhas_index_names\u001b[39m\u001b[33m\"\u001b[39m]\n\u001b[32m   1619\u001b[39m \u001b[38;5;28mself\u001b[39m.handles: IOHandles | \u001b[38;5;28;01mNone\u001b[39;00m = \u001b[38;5;28;01mNone\u001b[39;00m\n\u001b[32m-> \u001b[39m\u001b[32m1620\u001b[39m \u001b[38;5;28mself\u001b[39m._engine = \u001b[38;5;28;43mself\u001b[39;49m\u001b[43m.\u001b[49m\u001b[43m_make_engine\u001b[49m\u001b[43m(\u001b[49m\u001b[43mf\u001b[49m\u001b[43m,\u001b[49m\u001b[43m \u001b[49m\u001b[38;5;28;43mself\u001b[39;49m\u001b[43m.\u001b[49m\u001b[43mengine\u001b[49m\u001b[43m)\u001b[49m\n",
      "\u001b[36mFile \u001b[39m\u001b[32m~/.pyenv/versions/3.12.9/envs/skin_scan_env/lib/python3.12/site-packages/pandas/io/parsers/readers.py:1880\u001b[39m, in \u001b[36mTextFileReader._make_engine\u001b[39m\u001b[34m(self, f, engine)\u001b[39m\n\u001b[32m   1878\u001b[39m     \u001b[38;5;28;01mif\u001b[39;00m \u001b[33m\"\u001b[39m\u001b[33mb\u001b[39m\u001b[33m\"\u001b[39m \u001b[38;5;129;01mnot\u001b[39;00m \u001b[38;5;129;01min\u001b[39;00m mode:\n\u001b[32m   1879\u001b[39m         mode += \u001b[33m\"\u001b[39m\u001b[33mb\u001b[39m\u001b[33m\"\u001b[39m\n\u001b[32m-> \u001b[39m\u001b[32m1880\u001b[39m \u001b[38;5;28mself\u001b[39m.handles = \u001b[43mget_handle\u001b[49m\u001b[43m(\u001b[49m\n\u001b[32m   1881\u001b[39m \u001b[43m    \u001b[49m\u001b[43mf\u001b[49m\u001b[43m,\u001b[49m\n\u001b[32m   1882\u001b[39m \u001b[43m    \u001b[49m\u001b[43mmode\u001b[49m\u001b[43m,\u001b[49m\n\u001b[32m   1883\u001b[39m \u001b[43m    \u001b[49m\u001b[43mencoding\u001b[49m\u001b[43m=\u001b[49m\u001b[38;5;28;43mself\u001b[39;49m\u001b[43m.\u001b[49m\u001b[43moptions\u001b[49m\u001b[43m.\u001b[49m\u001b[43mget\u001b[49m\u001b[43m(\u001b[49m\u001b[33;43m\"\u001b[39;49m\u001b[33;43mencoding\u001b[39;49m\u001b[33;43m\"\u001b[39;49m\u001b[43m,\u001b[49m\u001b[43m \u001b[49m\u001b[38;5;28;43;01mNone\u001b[39;49;00m\u001b[43m)\u001b[49m\u001b[43m,\u001b[49m\n\u001b[32m   1884\u001b[39m \u001b[43m    \u001b[49m\u001b[43mcompression\u001b[49m\u001b[43m=\u001b[49m\u001b[38;5;28;43mself\u001b[39;49m\u001b[43m.\u001b[49m\u001b[43moptions\u001b[49m\u001b[43m.\u001b[49m\u001b[43mget\u001b[49m\u001b[43m(\u001b[49m\u001b[33;43m\"\u001b[39;49m\u001b[33;43mcompression\u001b[39;49m\u001b[33;43m\"\u001b[39;49m\u001b[43m,\u001b[49m\u001b[43m \u001b[49m\u001b[38;5;28;43;01mNone\u001b[39;49;00m\u001b[43m)\u001b[49m\u001b[43m,\u001b[49m\n\u001b[32m   1885\u001b[39m \u001b[43m    \u001b[49m\u001b[43mmemory_map\u001b[49m\u001b[43m=\u001b[49m\u001b[38;5;28;43mself\u001b[39;49m\u001b[43m.\u001b[49m\u001b[43moptions\u001b[49m\u001b[43m.\u001b[49m\u001b[43mget\u001b[49m\u001b[43m(\u001b[49m\u001b[33;43m\"\u001b[39;49m\u001b[33;43mmemory_map\u001b[39;49m\u001b[33;43m\"\u001b[39;49m\u001b[43m,\u001b[49m\u001b[43m \u001b[49m\u001b[38;5;28;43;01mFalse\u001b[39;49;00m\u001b[43m)\u001b[49m\u001b[43m,\u001b[49m\n\u001b[32m   1886\u001b[39m \u001b[43m    \u001b[49m\u001b[43mis_text\u001b[49m\u001b[43m=\u001b[49m\u001b[43mis_text\u001b[49m\u001b[43m,\u001b[49m\n\u001b[32m   1887\u001b[39m \u001b[43m    \u001b[49m\u001b[43merrors\u001b[49m\u001b[43m=\u001b[49m\u001b[38;5;28;43mself\u001b[39;49m\u001b[43m.\u001b[49m\u001b[43moptions\u001b[49m\u001b[43m.\u001b[49m\u001b[43mget\u001b[49m\u001b[43m(\u001b[49m\u001b[33;43m\"\u001b[39;49m\u001b[33;43mencoding_errors\u001b[39;49m\u001b[33;43m\"\u001b[39;49m\u001b[43m,\u001b[49m\u001b[43m \u001b[49m\u001b[33;43m\"\u001b[39;49m\u001b[33;43mstrict\u001b[39;49m\u001b[33;43m\"\u001b[39;49m\u001b[43m)\u001b[49m\u001b[43m,\u001b[49m\n\u001b[32m   1888\u001b[39m \u001b[43m    \u001b[49m\u001b[43mstorage_options\u001b[49m\u001b[43m=\u001b[49m\u001b[38;5;28;43mself\u001b[39;49m\u001b[43m.\u001b[49m\u001b[43moptions\u001b[49m\u001b[43m.\u001b[49m\u001b[43mget\u001b[49m\u001b[43m(\u001b[49m\u001b[33;43m\"\u001b[39;49m\u001b[33;43mstorage_options\u001b[39;49m\u001b[33;43m\"\u001b[39;49m\u001b[43m,\u001b[49m\u001b[43m \u001b[49m\u001b[38;5;28;43;01mNone\u001b[39;49;00m\u001b[43m)\u001b[49m\u001b[43m,\u001b[49m\n\u001b[32m   1889\u001b[39m \u001b[43m\u001b[49m\u001b[43m)\u001b[49m\n\u001b[32m   1890\u001b[39m \u001b[38;5;28;01massert\u001b[39;00m \u001b[38;5;28mself\u001b[39m.handles \u001b[38;5;129;01mis\u001b[39;00m \u001b[38;5;129;01mnot\u001b[39;00m \u001b[38;5;28;01mNone\u001b[39;00m\n\u001b[32m   1891\u001b[39m f = \u001b[38;5;28mself\u001b[39m.handles.handle\n",
      "\u001b[36mFile \u001b[39m\u001b[32m~/.pyenv/versions/3.12.9/envs/skin_scan_env/lib/python3.12/site-packages/pandas/io/common.py:873\u001b[39m, in \u001b[36mget_handle\u001b[39m\u001b[34m(path_or_buf, mode, encoding, compression, memory_map, is_text, errors, storage_options)\u001b[39m\n\u001b[32m    868\u001b[39m \u001b[38;5;28;01melif\u001b[39;00m \u001b[38;5;28misinstance\u001b[39m(handle, \u001b[38;5;28mstr\u001b[39m):\n\u001b[32m    869\u001b[39m     \u001b[38;5;66;03m# Check whether the filename is to be opened in binary mode.\u001b[39;00m\n\u001b[32m    870\u001b[39m     \u001b[38;5;66;03m# Binary mode does not support 'encoding' and 'newline'.\u001b[39;00m\n\u001b[32m    871\u001b[39m     \u001b[38;5;28;01mif\u001b[39;00m ioargs.encoding \u001b[38;5;129;01mand\u001b[39;00m \u001b[33m\"\u001b[39m\u001b[33mb\u001b[39m\u001b[33m\"\u001b[39m \u001b[38;5;129;01mnot\u001b[39;00m \u001b[38;5;129;01min\u001b[39;00m ioargs.mode:\n\u001b[32m    872\u001b[39m         \u001b[38;5;66;03m# Encoding\u001b[39;00m\n\u001b[32m--> \u001b[39m\u001b[32m873\u001b[39m         handle = \u001b[38;5;28;43mopen\u001b[39;49m\u001b[43m(\u001b[49m\n\u001b[32m    874\u001b[39m \u001b[43m            \u001b[49m\u001b[43mhandle\u001b[49m\u001b[43m,\u001b[49m\n\u001b[32m    875\u001b[39m \u001b[43m            \u001b[49m\u001b[43mioargs\u001b[49m\u001b[43m.\u001b[49m\u001b[43mmode\u001b[49m\u001b[43m,\u001b[49m\n\u001b[32m    876\u001b[39m \u001b[43m            \u001b[49m\u001b[43mencoding\u001b[49m\u001b[43m=\u001b[49m\u001b[43mioargs\u001b[49m\u001b[43m.\u001b[49m\u001b[43mencoding\u001b[49m\u001b[43m,\u001b[49m\n\u001b[32m    877\u001b[39m \u001b[43m            \u001b[49m\u001b[43merrors\u001b[49m\u001b[43m=\u001b[49m\u001b[43merrors\u001b[49m\u001b[43m,\u001b[49m\n\u001b[32m    878\u001b[39m \u001b[43m            \u001b[49m\u001b[43mnewline\u001b[49m\u001b[43m=\u001b[49m\u001b[33;43m\"\u001b[39;49m\u001b[33;43m\"\u001b[39;49m\u001b[43m,\u001b[49m\n\u001b[32m    879\u001b[39m \u001b[43m        \u001b[49m\u001b[43m)\u001b[49m\n\u001b[32m    880\u001b[39m     \u001b[38;5;28;01melse\u001b[39;00m:\n\u001b[32m    881\u001b[39m         \u001b[38;5;66;03m# Binary mode\u001b[39;00m\n\u001b[32m    882\u001b[39m         handle = \u001b[38;5;28mopen\u001b[39m(handle, ioargs.mode)\n",
      "\u001b[31mFileNotFoundError\u001b[39m: [Errno 2] No such file or directory: 'HAM10000_metadata.csv'"
     ]
    }
   ],
   "source": [
    "metadata = pd.read_csv(\"HAM10000_metadata.csv\")\n",
    "\n",
    "metadata"
   ]
  },
  {
   "cell_type": "code",
   "execution_count": null,
   "id": "611532b0-c542-47e1-93b8-cb5dad2a64b9",
   "metadata": {},
   "outputs": [],
   "source": []
  },
  {
   "cell_type": "code",
   "execution_count": null,
   "id": "4ad8d29a-306f-4233-8196-41bf08daf8ec",
   "metadata": {
    "execution": {
     "iopub.status.busy": "2025-06-05T10:44:45.357737Z",
     "iopub.status.idle": "2025-06-05T10:44:45.357938Z",
     "shell.execute_reply": "2025-06-05T10:44:45.357862Z",
     "shell.execute_reply.started": "2025-06-05T10:44:45.357853Z"
    }
   },
   "outputs": [],
   "source": [
    "# Step 2: Load Metadata\n",
    "metadata = pd.read_csv(\"HAM10000_metadata.csv\")\n",
    "label_map = {'akiec': 0, 'bcc': 1, 'bkl': 2, 'df': 3, 'mel': 4, 'nv': 5, 'vasc': 6}\n",
    "metadata['label'] = metadata['dx'].map(label_map)\n",
    "metadata"
   ]
  },
  {
   "cell_type": "code",
   "execution_count": null,
   "id": "3ba35fae-fef8-4506-9a6d-51d641b6cee6",
   "metadata": {
    "execution": {
     "iopub.status.busy": "2025-06-05T10:44:45.358947Z",
     "iopub.status.idle": "2025-06-05T10:44:45.359294Z",
     "shell.execute_reply": "2025-06-05T10:44:45.359173Z",
     "shell.execute_reply.started": "2025-06-05T10:44:45.359161Z"
    }
   },
   "outputs": [],
   "source": [
    "# Step 3: Load and Resize Images\n",
    "image_dir = \"HAM10000_all_images\"  # Adjust if using part_2 or combined folder\n",
    "IMG_SIZE = 64\n",
    "\n",
    "images = []\n",
    "labels = []\n",
    "\n",
    "for i, row in metadata.iterrows():\n",
    "    img_path = os.path.join(image_dir, row['image_id'] + '.jpg')\n",
    "    if os.path.exists(img_path):\n",
    "        img = Image.open(img_path).resize((IMG_SIZE, IMG_SIZE))\n",
    "        images.append(np.array(img) / 255.0)\n",
    "        labels.append(row['label'])\n",
    "\n",
    "X = np.array(images)\n",
    "y = to_categorical(labels, num_classes=7)\n",
    "\n",
    "print(\"Image shape:\", X.shape)\n",
    "print(\"Label shape:\", y.shape)"
   ]
  },
  {
   "cell_type": "code",
   "execution_count": null,
   "id": "ce979ea4-5c73-4ec9-80fd-7b83391f6520",
   "metadata": {
    "execution": {
     "iopub.status.busy": "2025-06-05T10:44:45.359942Z",
     "iopub.status.idle": "2025-06-05T10:44:45.360868Z",
     "shell.execute_reply": "2025-06-05T10:44:45.360774Z",
     "shell.execute_reply.started": "2025-06-05T10:44:45.360761Z"
    }
   },
   "outputs": [],
   "source": [
    "import os\n",
    "import pandas as pd\n",
    "from PIL import Image\n",
    "import numpy as np\n",
    "\n",
    "# Load metadata\n",
    "metadata = pd.read_csv(\"HAM10000_metadata.csv\")\n",
    "label_map = {'akiec': 0, 'bcc': 1, 'bkl': 2, 'df': 3, 'mel': 4, 'nv': 5, 'vasc': 6}\n",
    "metadata['label'] = metadata['dx'].map(label_map)\n",
    "\n",
    "# ✅ Adjust this if needed\n",
    "image_dir = \"HAM10000_all_images\"  # or \"HAM10000_images_part_1\" if you only have part 1\n",
    "\n",
    "# Load images\n",
    "images = []\n",
    "labels = []\n",
    "missing = 0\n",
    "\n",
    "for i, row in metadata.iterrows():\n",
    "    img_file = row['image_id'] + \".jpg\"\n",
    "    img_path = os.path.join(image_dir, img_file)\n",
    "    if os.path.exists(img_path):\n",
    "        try:\n",
    "            img = Image.open(img_path).resize((64, 64))\n",
    "            images.append(np.array(img) / 255.0)\n",
    "            labels.append(label_map[row['dx']])\n",
    "        except:\n",
    "            missing += 1\n",
    "    else:\n",
    "        missing += 1\n",
    "\n",
    "print(\"✅ Loaded images:\", len(images))\n",
    "print(\"❌ Missing or failed images:\", missing)\n"
   ]
  },
  {
   "cell_type": "code",
   "execution_count": null,
   "id": "953b69dc-9b5f-4be1-8e66-323332beac57",
   "metadata": {
    "execution": {
     "iopub.status.busy": "2025-06-05T10:44:45.362484Z",
     "iopub.status.idle": "2025-06-05T10:44:45.362718Z",
     "shell.execute_reply": "2025-06-05T10:44:45.362651Z",
     "shell.execute_reply.started": "2025-06-05T10:44:45.362644Z"
    }
   },
   "outputs": [],
   "source": [
    "# Step 4: Train-Test Split\n",
    "X_train, X_val, y_train, y_val = train_test_split(X, y, test_size=0.2, random_state=42)\n"
   ]
  },
  {
   "cell_type": "code",
   "execution_count": null,
   "id": "fcf1b0d3-bada-4a2c-bb8c-88dec6594c5d",
   "metadata": {
    "execution": {
     "iopub.status.busy": "2025-06-05T10:44:45.363096Z",
     "iopub.status.idle": "2025-06-05T10:44:45.363241Z",
     "shell.execute_reply": "2025-06-05T10:44:45.363183Z",
     "shell.execute_reply.started": "2025-06-05T10:44:45.363177Z"
    }
   },
   "outputs": [],
   "source": [
    "# Step 5: Define the CNN Model\n",
    "model = Sequential([\n",
    "    Conv2D(32, (3, 3), activation='relu', input_shape=(IMG_SIZE, IMG_SIZE, 3)),\n",
    "    MaxPooling2D(pool_size=(2, 2)),\n",
    "    Conv2D(64, (3, 3), activation='relu'),\n",
    "    MaxPooling2D(pool_size=(2, 2)),\n",
    "    Flatten(),\n",
    "    Dense(128, activation='relu'),\n",
    "    Dense(7, activation='softmax')  # 7 classes\n",
    "])\n",
    "\n",
    "model.compile(optimizer=Adam(learning_rate=0.001),\n",
    "              loss='categorical_crossentropy',\n",
    "              metrics=['accuracy'])\n",
    "\n",
    "model.summary()\n"
   ]
  },
  {
   "cell_type": "code",
   "execution_count": null,
   "id": "99da0749-2a64-4f85-9b71-fd094a64b4a7",
   "metadata": {
    "execution": {
     "iopub.status.busy": "2025-06-05T10:44:45.364172Z",
     "iopub.status.idle": "2025-06-05T10:44:45.364327Z",
     "shell.execute_reply": "2025-06-05T10:44:45.364266Z",
     "shell.execute_reply.started": "2025-06-05T10:44:45.364259Z"
    }
   },
   "outputs": [],
   "source": [
    "# Step 6: Train the Model\n",
    "history = model.fit(X_train, y_train,\n",
    "                    validation_data=(X_val, y_val),\n",
    "                    epochs=10,\n",
    "                    batch_size=32)\n"
   ]
  },
  {
   "cell_type": "code",
   "execution_count": null,
   "id": "084f15bb-6173-42e0-9599-7f591dad904a",
   "metadata": {
    "execution": {
     "iopub.status.busy": "2025-06-05T10:44:45.365004Z",
     "iopub.status.idle": "2025-06-05T10:44:45.365178Z",
     "shell.execute_reply": "2025-06-05T10:44:45.365106Z",
     "shell.execute_reply.started": "2025-06-05T10:44:45.365099Z"
    }
   },
   "outputs": [],
   "source": [
    "# Step 7: Plot Accuracy\n",
    "plt.plot(history.history['accuracy'], label='Train Accuracy')\n",
    "plt.plot(history.history['val_accuracy'], label='Val Accuracy')\n",
    "plt.title('CNN Training')\n",
    "plt.xlabel('Epoch')\n",
    "plt.ylabel('Accuracy')\n",
    "plt.legend()\n",
    "plt.show()\n"
   ]
  },
  {
   "cell_type": "code",
   "execution_count": null,
   "id": "8284fc29-8521-4802-95ba-84433b423e3a",
   "metadata": {
    "execution": {
     "iopub.status.busy": "2025-06-05T10:44:45.365875Z",
     "iopub.status.idle": "2025-06-05T10:44:45.366029Z",
     "shell.execute_reply": "2025-06-05T10:44:45.365969Z",
     "shell.execute_reply.started": "2025-06-05T10:44:45.365962Z"
    }
   },
   "outputs": [],
   "source": [
    "from tensorflow.keras.models import load_model\n",
    "\n",
    "model = load_model(\"ham10000_cnn_model.h5\")\n",
    "\n",
    "# Load your iPhone image\n",
    "your_img = Image.open(\"your_image.jpg\").resize((64, 64))\n",
    "your_img_array = np.expand_dims(np.array(your_img) / 255.0, axis=0)\n",
    "\n",
    "prediction = model.predict(your_img_array)\n",
    "classes = ['akiec', 'bcc', 'bkl', 'df', 'mel', 'nv', 'vasc']\n",
    "print(\"Predicted Lesion Type:\", classes[np.argmax(prediction)])"
   ]
  },
  {
   "cell_type": "code",
   "execution_count": null,
   "id": "2b1032b6-733b-4a3a-92ef-caaa7e6caf54",
   "metadata": {
    "execution": {
     "iopub.status.busy": "2025-06-05T10:44:45.366787Z",
     "iopub.status.idle": "2025-06-05T10:44:45.366930Z",
     "shell.execute_reply": "2025-06-05T10:44:45.366873Z",
     "shell.execute_reply.started": "2025-06-05T10:44:45.366867Z"
    }
   },
   "outputs": [],
   "source": [
    "import os\n",
    "import pandas as pd\n",
    "import matplotlib.pyplot as plt\n",
    "from PIL import Image\n",
    "\n",
    "# Load metadata\n",
    "metadata = pd.read_csv(\"HAM10000_metadata.csv\")\n",
    "\n",
    "# Choose the correct image folder\n",
    "image_dirs = [\"HAM10000_all_images\"]  # combine both parts\n"
   ]
  },
  {
   "cell_type": "code",
   "execution_count": null,
   "id": "be6a007b-5706-4a5d-9762-0aeb8ed7d920",
   "metadata": {
    "execution": {
     "iopub.status.busy": "2025-06-05T10:44:45.367620Z",
     "iopub.status.idle": "2025-06-05T10:44:45.367764Z",
     "shell.execute_reply": "2025-06-05T10:44:45.367705Z",
     "shell.execute_reply.started": "2025-06-05T10:44:45.367698Z"
    }
   },
   "outputs": [],
   "source": [
    "\n",
    "n_images = 25\n",
    "img_size = (64, 64)\n",
    "\n",
    "# Create a plot\n",
    "plt.figure(figsize=(15, 15))\n",
    "\n",
    "\n",
    "count = 0\n",
    "for i, row in metadata.iterrows():\n",
    "    if count >= n_images:\n",
    "        break\n",
    "\n",
    "    img_file = row['image_id'] + \".jpg\"\n",
    "    label = row['dx']\n",
    "\n",
    "\n",
    "    for d in image_dirs:\n",
    "        img_path = os.path.join(d, img_file)\n",
    "        if os.path.exists(img_path):\n",
    "            img = Image.open(img_path).resize(img_size)\n",
    "            ax = plt.subplot(5, 5, count + 1)\n",
    "            plt.imshow(img)\n",
    "            plt.title(label)\n",
    "            plt.axis(\"off\")\n",
    "            count += 1\n",
    "            break  # found image, stop searching other folders\n",
    "\n",
    "plt.tight_layout()\n",
    "plt.show()\n"
   ]
  },
  {
   "cell_type": "code",
   "execution_count": null,
   "id": "56af4230-4e72-41ae-b140-e65aa78f3b8c",
   "metadata": {
    "execution": {
     "iopub.status.busy": "2025-06-05T10:44:45.368998Z",
     "iopub.status.idle": "2025-06-05T10:44:45.369160Z",
     "shell.execute_reply": "2025-06-05T10:44:45.369096Z",
     "shell.execute_reply.started": "2025-06-05T10:44:45.369089Z"
    }
   },
   "outputs": [],
   "source": [
    "metadata['dx'].unique()\n"
   ]
  },
  {
   "cell_type": "code",
   "execution_count": null,
   "id": "6f6bb1fa-3ef1-4b65-b704-6c9963c7e1c7",
   "metadata": {
    "execution": {
     "iopub.status.busy": "2025-06-05T10:44:45.369856Z",
     "iopub.status.idle": "2025-06-05T10:44:45.370032Z",
     "shell.execute_reply": "2025-06-05T10:44:45.369960Z",
     "shell.execute_reply.started": "2025-06-05T10:44:45.369953Z"
    }
   },
   "outputs": [],
   "source": [
    "metadata['dx'].value_counts()\n"
   ]
  },
  {
   "cell_type": "code",
   "execution_count": null,
   "id": "07ee8e41-cd2f-454c-be3e-cb61470a36a1",
   "metadata": {},
   "outputs": [],
   "source": []
  },
  {
   "cell_type": "code",
   "execution_count": null,
   "id": "4d232f63-7275-4291-8a60-951cc03dcb1c",
   "metadata": {},
   "outputs": [],
   "source": []
  },
  {
   "cell_type": "code",
   "execution_count": null,
   "id": "dcba8c2f-660e-4fc0-b785-6a9f9132c975",
   "metadata": {},
   "outputs": [],
   "source": []
  },
  {
   "cell_type": "code",
   "execution_count": null,
   "id": "5fea7bcc-a322-4085-9647-715204913f4c",
   "metadata": {},
   "outputs": [],
   "source": []
  }
 ],
 "metadata": {
  "kernelspec": {
   "display_name": "Python 3 (ipykernel)",
   "language": "python",
   "name": "python3"
  },
  "language_info": {
   "codemirror_mode": {
    "name": "ipython",
    "version": 3
   },
   "file_extension": ".py",
   "mimetype": "text/x-python",
   "name": "python",
   "nbconvert_exporter": "python",
   "pygments_lexer": "ipython3",
   "version": "3.12.9"
  }
 },
 "nbformat": 4,
 "nbformat_minor": 5
}

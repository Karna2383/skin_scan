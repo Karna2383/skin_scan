{
 "cells": [
  {
   "cell_type": "code",
   "execution_count": 1,
   "id": "2c3ff982-f4e9-4c97-99c4-9b8782a1b4c3",
   "metadata": {
    "execution": {
     "iopub.execute_input": "2025-06-09T15:11:37.128051Z",
     "iopub.status.busy": "2025-06-09T15:11:37.127826Z",
     "iopub.status.idle": "2025-06-09T15:11:37.841781Z",
     "shell.execute_reply": "2025-06-09T15:11:37.841252Z",
     "shell.execute_reply.started": "2025-06-09T15:11:37.128032Z"
    }
   },
   "outputs": [],
   "source": [
    "import matplotlib.pyplot as plt\n",
    "import pandas as pd"
   ]
  },
  {
   "cell_type": "code",
   "execution_count": 2,
   "id": "7896ec1b-1578-4a31-bf44-9d12ebf06836",
   "metadata": {
    "execution": {
     "iopub.execute_input": "2025-06-09T15:11:37.842790Z",
     "iopub.status.busy": "2025-06-09T15:11:37.842591Z",
     "iopub.status.idle": "2025-06-09T15:11:38.652194Z",
     "shell.execute_reply": "2025-06-09T15:11:38.651378Z",
     "shell.execute_reply.started": "2025-06-09T15:11:37.842779Z"
    }
   },
   "outputs": [],
   "source": [
    "import sys\n",
    "import os\n",
    "\n",
    "# Add parent directory to Python path\n",
    "sys.path.append(os.path.abspath(\"../skin_scan\"))\n",
    "\n",
    "# Now you can import the module\n",
    "import preprocessing\n",
    "from data import get_metadata_from_bq"
   ]
  },
  {
   "cell_type": "code",
   "execution_count": 3,
   "id": "2c59c929-dfdd-47af-8cae-9aaadeb4590e",
   "metadata": {
    "execution": {
     "iopub.execute_input": "2025-06-09T15:11:38.653700Z",
     "iopub.status.busy": "2025-06-09T15:11:38.653403Z",
     "iopub.status.idle": "2025-06-09T15:11:38.662948Z",
     "shell.execute_reply": "2025-06-09T15:11:38.662184Z",
     "shell.execute_reply.started": "2025-06-09T15:11:38.653687Z"
    }
   },
   "outputs": [],
   "source": [
    "def augment_images_balanced(processed_metadata: pd.DataFrame, width=96, height=96, bucket_name=\"skin_scan_mohnatz\"):\n",
    "    from google.cloud import storage\n",
    "    from tensorflow.keras.preprocessing.image import ImageDataGenerator\n",
    "    from collections import Counter\n",
    "    from PIL import Image\n",
    "    import numpy as np\n",
    "    import pandas as pd\n",
    "    import os\n",
    "    import io\n",
    "\n",
    "    client = storage.Client()\n",
    "    bucket = client.bucket(bucket_name)\n",
    "\n",
    "    print(\"📦 Fetching image list from bucket...\")\n",
    "    blobs = bucket.list_blobs(prefix=\"train_all_images/\")\n",
    "    image_lookup = {\n",
    "        os.path.basename(blob.name).split('.')[0]: blob.name\n",
    "        for blob in blobs if blob.name.lower().endswith('.jpg')\n",
    "    }\n",
    "\n",
    "    augmenter = ImageDataGenerator(\n",
    "        rotation_range=20,\n",
    "        width_shift_range=0.1,\n",
    "        height_shift_range=0.1,\n",
    "        zoom_range=0.2,\n",
    "        horizontal_flip=True,\n",
    "        fill_mode='nearest'\n",
    "    )\n",
    "\n",
    "    image_list = []\n",
    "    metadata_rows = []\n",
    "    counter = 0  # Tracker for how many images added\n",
    "\n",
    "    class_counts = Counter(processed_metadata['dx'])\n",
    "    max_class_size = max(class_counts.values())\n",
    "\n",
    "    print(\"🔁 Starting image processing and augmentation...\")\n",
    "    for dx_class, group in processed_metadata.groupby(\"dx\"):\n",
    "        group_size = len(group)\n",
    "        n_aug_per_img = 2 if group_size < max_class_size else 0\n",
    "\n",
    "        for _, row in group.iterrows():\n",
    "            image_id = row[\"image_id\"]\n",
    "            if image_id not in image_lookup:\n",
    "                continue\n",
    "\n",
    "            blob = bucket.blob(image_lookup[image_id])\n",
    "            image_bytes = blob.download_as_bytes()\n",
    "\n",
    "            try:\n",
    "                img = Image.open(io.BytesIO(image_bytes)).convert(\"RGB\")\n",
    "            except:\n",
    "                print(f\"⚠️ Error opening image: {image_id}\")\n",
    "                continue\n",
    "\n",
    "            img = img.resize((width, height))\n",
    "            img_np = np.array(img) / 255.0\n",
    "\n",
    "            image_list.append(img_np)\n",
    "            metadata_rows.append(row.copy())\n",
    "            counter += 1\n",
    "\n",
    "            if counter % 1000 == 0:\n",
    "                print(f\"✅ {counter} images added so far...\")\n",
    "\n",
    "            for i in range(n_aug_per_img):\n",
    "                aug_img = augmenter.random_transform(img_np)\n",
    "                image_list.append(aug_img)\n",
    "\n",
    "                row_copy = row.copy()\n",
    "                row_copy[\"image_id\"] = f\"{image_id}_aug{i}\"\n",
    "                metadata_rows.append(row_copy)\n",
    "                counter += 1\n",
    "\n",
    "                if counter % 1000 == 0:\n",
    "                    print(f\"✅ {counter} images added so far...\")\n",
    "\n",
    "    print(f\"✅ Done: {len(image_list)} total images created\")\n",
    "\n",
    "    X_images = np.stack(image_list)\n",
    "    metadata_df = pd.DataFrame(metadata_rows).reset_index(drop=True)\n",
    "\n",
    "    return X_images, metadata_df"
   ]
  },
  {
   "cell_type": "code",
   "execution_count": 4,
   "id": "963a8c73-7f17-4462-be1a-7888d7dfc578",
   "metadata": {
    "execution": {
     "iopub.execute_input": "2025-06-09T15:11:38.663766Z",
     "iopub.status.busy": "2025-06-09T15:11:38.663614Z",
     "iopub.status.idle": "2025-06-09T15:11:40.724875Z",
     "shell.execute_reply": "2025-06-09T15:11:40.723931Z",
     "shell.execute_reply.started": "2025-06-09T15:11:38.663754Z"
    }
   },
   "outputs": [],
   "source": [
    "metadata = get_metadata_from_bq()\n",
    "processed_metadata = preprocessing.preprocess_metadata(metadata)"
   ]
  },
  {
   "cell_type": "code",
   "execution_count": 5,
   "id": "f05fa57d-4cda-4e40-902c-497bef73efc2",
   "metadata": {
    "execution": {
     "iopub.execute_input": "2025-06-09T15:11:40.730617Z",
     "iopub.status.busy": "2025-06-09T15:11:40.727948Z",
     "iopub.status.idle": "2025-06-09T15:11:40.751221Z",
     "shell.execute_reply": "2025-06-09T15:11:40.750560Z",
     "shell.execute_reply.started": "2025-06-09T15:11:40.730595Z"
    }
   },
   "outputs": [],
   "source": [
    "nv_rows = metadata[metadata['dx'] == 'nv']\n",
    "non_nv_rows = metadata[metadata['dx'] != 'nv']\n",
    "shuffled_nv_rows = nv_rows.sample(frac=1, random_state=42).reset_index(drop=True)\n",
    "nv_rows_small = shuffled_nv_rows.iloc[:4000]\n",
    "metadata_cleaned = pd.concat([nv_rows_small, non_nv_rows], ignore_index=True)"
   ]
  },
  {
   "cell_type": "code",
   "execution_count": null,
   "id": "4966ceb7-12d9-4ba0-9249-b383db03d852",
   "metadata": {
    "execution": {
     "execution_failed": "2025-06-09T15:24:51.861Z",
     "iopub.execute_input": "2025-06-09T15:11:40.752015Z",
     "iopub.status.busy": "2025-06-09T15:11:40.751829Z"
    }
   },
   "outputs": [
    {
     "name": "stderr",
     "output_type": "stream",
     "text": [
      "2025-06-09 16:11:41.555973: I tensorflow/core/util/port.cc:153] oneDNN custom operations are on. You may see slightly different numerical results due to floating-point round-off errors from different computation orders. To turn them off, set the environment variable `TF_ENABLE_ONEDNN_OPTS=0`.\n",
      "2025-06-09 16:11:41.571154: I external/local_xla/xla/tsl/cuda/cudart_stub.cc:32] Could not find cuda drivers on your machine, GPU will not be used.\n",
      "2025-06-09 16:11:41.703875: I external/local_xla/xla/tsl/cuda/cudart_stub.cc:32] Could not find cuda drivers on your machine, GPU will not be used.\n",
      "2025-06-09 16:11:41.828677: E external/local_xla/xla/stream_executor/cuda/cuda_fft.cc:467] Unable to register cuFFT factory: Attempting to register factory for plugin cuFFT when one has already been registered\n",
      "WARNING: All log messages before absl::InitializeLog() is called are written to STDERR\n",
      "E0000 00:00:1749481901.930042   93748 cuda_dnn.cc:8579] Unable to register cuDNN factory: Attempting to register factory for plugin cuDNN when one has already been registered\n",
      "E0000 00:00:1749481901.968988   93748 cuda_blas.cc:1407] Unable to register cuBLAS factory: Attempting to register factory for plugin cuBLAS when one has already been registered\n",
      "W0000 00:00:1749481902.199526   93748 computation_placer.cc:177] computation placer already registered. Please check linkage and avoid linking the same target more than once.\n",
      "W0000 00:00:1749481902.199572   93748 computation_placer.cc:177] computation placer already registered. Please check linkage and avoid linking the same target more than once.\n",
      "W0000 00:00:1749481902.199573   93748 computation_placer.cc:177] computation placer already registered. Please check linkage and avoid linking the same target more than once.\n",
      "W0000 00:00:1749481902.199574   93748 computation_placer.cc:177] computation placer already registered. Please check linkage and avoid linking the same target more than once.\n",
      "2025-06-09 16:11:42.220221: I tensorflow/core/platform/cpu_feature_guard.cc:210] This TensorFlow binary is optimized to use available CPU instructions in performance-critical operations.\n",
      "To enable the following instructions: AVX2 AVX_VNNI FMA, in other operations, rebuild TensorFlow with the appropriate compiler flags.\n"
     ]
    },
    {
     "name": "stdout",
     "output_type": "stream",
     "text": [
      "📦 Fetching image list from bucket...\n",
      "🔁 Starting image processing and augmentation...\n",
      "✅ 1000 images added so far...\n",
      "✅ 2000 images added so far...\n",
      "✅ 3000 images added so far...\n",
      "✅ 4000 images added so far...\n",
      "✅ 5000 images added so far...\n",
      "✅ 6000 images added so far...\n",
      "✅ 7000 images added so far...\n",
      "✅ 8000 images added so far...\n",
      "✅ 9000 images added so far...\n",
      "✅ 10000 images added so far...\n",
      "✅ 11000 images added so far...\n",
      "✅ 12000 images added so far...\n",
      "✅ 13000 images added so far...\n",
      "✅ 14000 images added so far...\n",
      "✅ Done: 14671 total images created\n"
     ]
    }
   ],
   "source": [
    "processed_metadata = preprocessing.preprocess_metadata(metadata_cleaned)\n",
    "\n",
    "#processed_metadata_test = processed_metadata.iloc[:10]\n",
    "\n",
    "X_images, balanced_metadata = augment_images_balanced(processed_metadata)\n",
    "\n",
    "# Continue with:\n",
    "X_metadata, y, preprocessor, class_names = preprocessing.prepare_data_for_model(balanced_metadata)\n"
   ]
  },
  {
   "cell_type": "code",
   "execution_count": null,
   "id": "a4f8a89e-e437-4851-a576-826f7b7d4316",
   "metadata": {},
   "outputs": [],
   "source": []
  },
  {
   "cell_type": "code",
   "execution_count": null,
   "id": "2363187c-b73a-49df-8577-3ba8e082ff1c",
   "metadata": {},
   "outputs": [],
   "source": []
  },
  {
   "cell_type": "code",
   "execution_count": null,
   "id": "5d4a4286-c185-45d4-8e18-1604b8d1c59a",
   "metadata": {},
   "outputs": [],
   "source": []
  },
  {
   "cell_type": "code",
   "execution_count": null,
   "id": "405a5ec4-0da5-4ead-b111-b7a040bb77a2",
   "metadata": {},
   "outputs": [],
   "source": []
  }
 ],
 "metadata": {
  "kernelspec": {
   "display_name": "Python 3 (ipykernel)",
   "language": "python",
   "name": "python3"
  },
  "language_info": {
   "codemirror_mode": {
    "name": "ipython",
    "version": 3
   },
   "file_extension": ".py",
   "mimetype": "text/x-python",
   "name": "python",
   "nbconvert_exporter": "python",
   "pygments_lexer": "ipython3",
   "version": "3.12.9"
  }
 },
 "nbformat": 4,
 "nbformat_minor": 5
}

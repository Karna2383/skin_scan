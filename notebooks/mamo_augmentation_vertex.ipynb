{
 "cells": [
  {
   "cell_type": "code",
   "execution_count": 1,
   "id": "ddbd2d8b-063d-4076-a82d-f58a506987de",
   "metadata": {
    "tags": []
   },
   "outputs": [],
   "source": [
    "import matplotlib.pyplot as plt\n",
    "import pandas as pd"
   ]
  },
  {
   "cell_type": "code",
   "execution_count": 2,
   "id": "d2099ec7-fcb9-4c16-b35e-e6e65cc293f3",
   "metadata": {
    "tags": []
   },
   "outputs": [],
   "source": [
    "import sys\n",
    "import os\n",
    "\n",
    "# Add parent directory to Python path\n",
    "sys.path.append(os.path.abspath(\"..\"))\n",
    "\n",
    "# Now you can import the module\n",
    "import preprocessing\n",
    "from data import get_metadata_from_bq"
   ]
  },
  {
   "cell_type": "code",
   "execution_count": 3,
   "id": "47973698-61ee-4467-b0dd-eb9a484a7efd",
   "metadata": {
    "tags": []
   },
   "outputs": [],
   "source": [
    "def augment_images_balanced(processed_metadata: pd.DataFrame, width=96, height=96, bucket_name=\"skin_scan_mohnatz\"):\n",
    "    from google.cloud import storage\n",
    "    from tensorflow.keras.preprocessing.image import ImageDataGenerator\n",
    "    from collections import Counter\n",
    "    from PIL import Image\n",
    "    import numpy as np\n",
    "    import pandas as pd\n",
    "    import os\n",
    "    import io\n",
    "\n",
    "    client = storage.Client()\n",
    "    bucket = client.bucket(bucket_name)\n",
    "\n",
    "    print(\"📦 Fetching image list from bucket...\")\n",
    "    blobs = bucket.list_blobs(prefix=\"train_all_images/\")\n",
    "    image_lookup = {\n",
    "        os.path.basename(blob.name).split('.')[0]: blob.name\n",
    "        for blob in blobs if blob.name.lower().endswith('.jpg')\n",
    "    }\n",
    "\n",
    "    augmenter = ImageDataGenerator(\n",
    "        rotation_range=20,\n",
    "        width_shift_range=0.1,\n",
    "        height_shift_range=0.1,\n",
    "        zoom_range=0.2,\n",
    "        horizontal_flip=True,\n",
    "        fill_mode='nearest'\n",
    "    )\n",
    "\n",
    "    image_list = []\n",
    "    metadata_rows = []\n",
    "    counter = 0  # Tracker for how many images added\n",
    "\n",
    "    class_counts = Counter(processed_metadata['dx'])\n",
    "    max_class_size = max(class_counts.values())\n",
    "\n",
    "    print(\"🔁 Starting image processing and augmentation...\")\n",
    "    for dx_class, group in processed_metadata.groupby(\"dx\"):\n",
    "        group_size = len(group)\n",
    "        n_aug_per_img = 2 if group_size < max_class_size else 0\n",
    "\n",
    "        for _, row in group.iterrows():\n",
    "            image_id = row[\"image_id\"]\n",
    "            if image_id not in image_lookup:\n",
    "                continue\n",
    "\n",
    "            blob = bucket.blob(image_lookup[image_id])\n",
    "            image_bytes = blob.download_as_bytes()\n",
    "\n",
    "            try:\n",
    "                img = Image.open(io.BytesIO(image_bytes)).convert(\"RGB\")\n",
    "            except:\n",
    "                print(f\"⚠️ Error opening image: {image_id}\")\n",
    "                continue\n",
    "\n",
    "            img = img.resize((width, height))\n",
    "            img_np = np.array(img) / 255.0\n",
    "\n",
    "            image_list.append(img_np)\n",
    "            metadata_rows.append(row.copy())\n",
    "            counter += 1\n",
    "\n",
    "            if counter % 1000 == 0:\n",
    "                print(f\"✅ {counter} images added so far...\")\n",
    "\n",
    "            for i in range(n_aug_per_img):\n",
    "                aug_img = augmenter.random_transform(img_np)\n",
    "                image_list.append(aug_img)\n",
    "\n",
    "                row_copy = row.copy()\n",
    "                row_copy[\"image_id\"] = f\"{image_id}_aug{i}\"\n",
    "                metadata_rows.append(row_copy)\n",
    "                counter += 1\n",
    "\n",
    "                if counter % 1000 == 0:\n",
    "                    print(f\"✅ {counter} images added so far...\")\n",
    "\n",
    "    print(f\"✅ Done: {len(image_list)} total images created\")\n",
    "\n",
    "    X_images = np.stack(image_list)\n",
    "    metadata_df = pd.DataFrame(metadata_rows).reset_index(drop=True)\n",
    "\n",
    "    return X_images, metadata_df"
   ]
  },
  {
   "cell_type": "code",
   "execution_count": 4,
   "id": "4b9d3051-bbc5-47c0-b20b-a7aae59fe632",
   "metadata": {
    "tags": []
   },
   "outputs": [],
   "source": [
    "metadata = get_metadata_from_bq()\n",
    "processed_metadata = preprocessing.preprocess_metadata(metadata)"
   ]
  },
  {
   "cell_type": "code",
   "execution_count": 5,
   "id": "73c1bf2d-bedd-4801-b644-9f5fd929fd01",
   "metadata": {
    "tags": []
   },
   "outputs": [],
   "source": [
    "nv_rows = metadata[metadata['dx'] == 'nv']\n",
    "non_nv_rows = metadata[metadata['dx'] != 'nv']\n",
    "shuffled_nv_rows = nv_rows.sample(frac=1, random_state=42).reset_index(drop=True)\n",
    "nv_rows_small = shuffled_nv_rows.iloc[:4000]\n",
    "metadata_cleaned = pd.concat([nv_rows_small, non_nv_rows], ignore_index=True)"
   ]
  },
  {
   "cell_type": "code",
   "execution_count": 6,
   "id": "47b502f1-cd89-453d-acec-fbf12b854e78",
   "metadata": {
    "tags": []
   },
   "outputs": [
    {
     "name": "stderr",
     "output_type": "stream",
     "text": [
      "2025-06-09 16:23:16.927101: I external/local_xla/xla/tsl/cuda/cudart_stub.cc:32] Could not find cuda drivers on your machine, GPU will not be used.\n",
      "2025-06-09 16:23:17.247441: I external/local_xla/xla/tsl/cuda/cudart_stub.cc:32] Could not find cuda drivers on your machine, GPU will not be used.\n",
      "2025-06-09 16:23:17.517793: E external/local_xla/xla/stream_executor/cuda/cuda_fft.cc:467] Unable to register cuFFT factory: Attempting to register factory for plugin cuFFT when one has already been registered\n",
      "WARNING: All log messages before absl::InitializeLog() is called are written to STDERR\n",
      "E0000 00:00:1749486197.737934    4499 cuda_dnn.cc:8579] Unable to register cuDNN factory: Attempting to register factory for plugin cuDNN when one has already been registered\n",
      "E0000 00:00:1749486197.796787    4499 cuda_blas.cc:1407] Unable to register cuBLAS factory: Attempting to register factory for plugin cuBLAS when one has already been registered\n",
      "W0000 00:00:1749486198.306852    4499 computation_placer.cc:177] computation placer already registered. Please check linkage and avoid linking the same target more than once.\n",
      "W0000 00:00:1749486198.306895    4499 computation_placer.cc:177] computation placer already registered. Please check linkage and avoid linking the same target more than once.\n",
      "W0000 00:00:1749486198.306897    4499 computation_placer.cc:177] computation placer already registered. Please check linkage and avoid linking the same target more than once.\n",
      "W0000 00:00:1749486198.306899    4499 computation_placer.cc:177] computation placer already registered. Please check linkage and avoid linking the same target more than once.\n",
      "2025-06-09 16:23:18.361476: I tensorflow/core/platform/cpu_feature_guard.cc:210] This TensorFlow binary is optimized to use available CPU instructions in performance-critical operations.\n",
      "To enable the following instructions: AVX2 FMA, in other operations, rebuild TensorFlow with the appropriate compiler flags.\n"
     ]
    },
    {
     "name": "stdout",
     "output_type": "stream",
     "text": [
      "📦 Fetching image list from bucket...\n",
      "🔁 Starting image processing and augmentation...\n",
      "✅ 1000 images added so far...\n",
      "✅ 2000 images added so far...\n",
      "✅ 3000 images added so far...\n",
      "✅ 4000 images added so far...\n",
      "✅ 5000 images added so far...\n",
      "✅ 6000 images added so far...\n",
      "✅ 7000 images added so far...\n",
      "✅ 8000 images added so far...\n",
      "✅ 9000 images added so far...\n",
      "✅ 10000 images added so far...\n",
      "✅ 11000 images added so far...\n",
      "✅ 12000 images added so far...\n",
      "✅ 13000 images added so far...\n",
      "✅ Done: 13699 total images created\n"
     ]
    }
   ],
   "source": [
    "processed_metadata = preprocessing.preprocess_metadata(metadata_cleaned)\n",
    "\n",
    "#processed_metadata_test = processed_metadata.iloc[:10]\n",
    "\n",
    "X_images, balanced_metadata = augment_images_balanced(processed_metadata)"
   ]
  },
  {
   "cell_type": "code",
   "execution_count": 7,
   "id": "adf57614-e078-4fee-86a8-7434221b324c",
   "metadata": {
    "tags": []
   },
   "outputs": [],
   "source": [
    "X_images_copy = X_images.copy()"
   ]
  },
  {
   "cell_type": "code",
   "execution_count": 8,
   "id": "3019bff6-71d2-4598-9e98-79c5ec89b1ec",
   "metadata": {
    "tags": []
   },
   "outputs": [],
   "source": [
    "balanced_metadata_copy = balanced_metadata.copy()"
   ]
  },
  {
   "cell_type": "code",
   "execution_count": 9,
   "id": "258ecc2d-66d1-4cd5-a4b3-3cc96aabff21",
   "metadata": {
    "tags": []
   },
   "outputs": [
    {
     "data": {
      "text/plain": [
       "(13699, 6)"
      ]
     },
     "execution_count": 9,
     "metadata": {},
     "output_type": "execute_result"
    }
   ],
   "source": [
    "balanced_metadata.shape"
   ]
  },
  {
   "cell_type": "code",
   "execution_count": 10,
   "id": "2edfb70e-2b09-488d-aac6-52691eeb2157",
   "metadata": {
    "jupyter": {
     "source_hidden": true
    },
    "tags": []
   },
   "outputs": [],
   "source": [
    "import pandas as pd\n",
    "#Pipline Imports\n",
    "from sklearn.pipeline import Pipeline\n",
    "from sklearn.compose import ColumnTransformer\n",
    "from sklearn.preprocessing import OneHotEncoder, MinMaxScaler\n",
    "from google.cloud import storage\n",
    "from PIL import Image\n",
    "import io\n",
    "import os\n",
    "import numpy as np\n",
    "import joblib\n",
    "\n",
    "def process_input_image(image: Image.Image) -> np.ndarray:\n",
    "    \"\"\"\n",
    "    Resizes and normalizes a skin lesion PIL image to (96, 96, 3).\n",
    "    \"\"\"\n",
    "    resized_image = image.resize((96, 96))\n",
    "    image_array = np.array(resized_image).astype(\"float32\") / 255.0\n",
    "    return image_array\n",
    "\n",
    "def create_X_pipeline(df: pd.DataFrame) -> pd.DataFrame:\n",
    "    age_pipeline = Pipeline([('scaler', MinMaxScaler())])\n",
    "    cat_pipeline = Pipeline([('ohe', OneHotEncoder(sparse_output=False, drop='first'))])\n",
    "    preprocessor = ColumnTransformer([\n",
    "    ( 'age', age_pipeline, ['age']),\n",
    "    ('cat', cat_pipeline,['sex','localization'])\n",
    "    ])\n",
    "    array = preprocessor.fit_transform(df)\n",
    "    save_preprocessor_to_gcs(preprocessor)\n",
    "    return array\n",
    "\n",
    "def run_X_pipeline(df: pd.DataFrame):\n",
    "    preprocessor = load_preprocessor_from_gcs()\n",
    "    data = preprocessor.transform(df)\n",
    "    return data\n",
    "\n",
    "def run_y_pipeline(df: pd.DataFrame) -> np.array:\n",
    "    '''Processes the y dataframe so that all the values are Numeric and model ready'''\n",
    "    y_pipeline = Pipeline([('ohe', OneHotEncoder(sparse_output=False, drop=None))])\n",
    "    y_encoded = y_pipeline.fit_transform(df)\n",
    "    class_names = y_pipeline.named_steps['ohe'].categories_[0]\n",
    "    return y_encoded, class_names\n",
    "\n",
    "def preprocess_images(width:int, height:int, bucket_name=\"skin_scan_mohnatz\") -> pd.DataFrame:\n",
    "    \"\"\"Retrieves the images from the bucket and\n",
    "    returns a dataframe with image_id and a numpy array of selected shapes (height, width, 3)\"\"\"\n",
    "    print(\"Hello\")\n",
    "    client = storage.Client()\n",
    "    bucket = client.bucket(bucket_name)\n",
    "    blobs = bucket.list_blobs(prefix=\"train_all_images/\")\n",
    "    images = [blob.name for blob in blobs if blob.name.lower().endswith(\".jpg\")]\n",
    "    image_name = []\n",
    "    resized_array = []\n",
    "    for index, image in enumerate(images):\n",
    "        blob = bucket.blob(image)\n",
    "        image_bytes = blob.download_as_bytes()\n",
    "        img = Image.open(io.BytesIO(image_bytes)).convert(\"RGB\")\n",
    "        img = img.resize((width, height))\n",
    "        resized_array.append(np.array(img))\n",
    "        image_name.append(os.path.basename(image).split('.')[0])\n",
    "    output_df = pd.DataFrame({\n",
    "    'image_id': image_name,\n",
    "    'resized_array': resized_array\n",
    "})\n",
    "    return output_df\n",
    "\n",
    "\n",
    "def preprocess_metadata(df: pd.DataFrame, split=True):# -> tuple[pd.DataFrame, pd.DataFrame]:\n",
    "    '''preprocess's metadata from the skin-cancer-mnist-ham10000 dataset\n",
    "    returns a preprocessed version of X and y'''\n",
    "    df = df.drop(columns=[col for col in ['dx_type','lesion_id'] if col in df.columns])\n",
    "    # fill age with mean values\n",
    "    df['age'] = df['age'].fillna((df['age'].mean()))\n",
    "    # Drop the unknown sex names\n",
    "    df = df[df['sex'] != 'unknown']\n",
    "    #drop unknowns\n",
    "    df = df[df['localization'] != 'unknown']\n",
    "    df = df.sort_values(by=\"image_id\")\n",
    "    # return processed df\n",
    "    # TODO put the image processing part here, this should separate out of metadata and get the array here!\n",
    "    return df\n",
    "\n",
    "\n",
    "def prepare_data_for_model(processed_metadata: pd.DataFrame) -> tuple[pd.DataFrame, np.array, np.array]:\n",
    "    y = processed_metadata[[\"dx\"]]\n",
    "    y, class_names = run_y_pipeline(y)\n",
    "    X_metadata = processed_metadata.drop(columns=[col for col in ['dx_type','lesion_id',\"dx\",\"resized_image\",\"image_id\"]\n",
    "                                       if col in processed_metadata.columns])\n",
    "    X_metadata = run_X_pipeline(X_metadata)\n",
    "    return X_metadata, y, class_names\n",
    "\n",
    "\n",
    "# Constants\n",
    "BUCKET_NAME = \"skin_scan_mohnatz\"\n",
    "BLOB_PATH = \"models/preprocessor_joblib\"\n",
    "LOCAL_REGISTRY_PATH = \"preprocessing_pipeline\"\n",
    "\n",
    "def save_preprocessor_to_gcs(preprocessor: Pipeline):\n",
    "    \"\"\"\n",
    "    Save a scikit-learn preprocessor locally and upload it to GCS.\n",
    "    \"\"\"\n",
    "    client = storage.Client()\n",
    "    bucket = client.bucket(BUCKET_NAME)\n",
    "\n",
    "    # Ensure local directory exists\n",
    "    os.makedirs(LOCAL_REGISTRY_PATH, exist_ok=True)\n",
    "    local_path = os.path.join(LOCAL_REGISTRY_PATH, os.path.basename(BLOB_PATH))\n",
    "\n",
    "    try:\n",
    "        # Save model locally (just once!)\n",
    "        joblib.dump(preprocessor, local_path)\n",
    "        print(f\"✅ Preprocessor saved locally at {local_path}\")\n",
    "\n",
    "        # Upload to GCS\n",
    "        blob = bucket.blob(BLOB_PATH)\n",
    "        blob.upload_from_filename(local_path)\n",
    "        print(f\"✅ Preprocessor uploaded to GCS at gs://{BUCKET_NAME}/{BLOB_PATH}\")\n",
    "\n",
    "    except Exception as e:\n",
    "        print(f\"❌ Failed to save model to GCS: {e}\")\n",
    "\n",
    "def load_preprocessor_from_gcs() -> Pipeline:\n",
    "    \"\"\"\n",
    "    Download a scikit-learn preprocessor from GCS and load it.\n",
    "\n",
    "    Returns:\n",
    "        The loaded preprocessor (Pipeline or ColumnTransformer), or None if failed.\n",
    "    \"\"\"\n",
    "    client = storage.Client()\n",
    "    bucket = client.bucket(BUCKET_NAME)\n",
    "    blob = bucket.blob(BLOB_PATH)\n",
    "\n",
    "    # Ensure local directory exists\n",
    "    os.makedirs(LOCAL_REGISTRY_PATH, exist_ok=True)\n",
    "    local_path = os.path.join(LOCAL_REGISTRY_PATH, os.path.basename(BLOB_PATH))\n",
    "\n",
    "    try:\n",
    "        # Download the file from GCS\n",
    "        blob.download_to_filename(local_path)\n",
    "        print(f\"✅ Preprocessor downloaded from GCS to {local_path}\")\n",
    "\n",
    "        # Load the preprocessor\n",
    "        preprocessor = joblib.load(local_path)\n",
    "        print(\"✅ Preprocessor successfully loaded from local file\")\n",
    "        return preprocessor\n",
    "\n",
    "    except Exception as e:\n",
    "        print(f\"❌ Failed to load preprocessor from GCS: {e}\")\n",
    "        return None"
   ]
  },
  {
   "cell_type": "code",
   "execution_count": 11,
   "id": "fc3c36cb-a594-4822-99f6-69ca83c4b20c",
   "metadata": {
    "tags": []
   },
   "outputs": [
    {
     "name": "stdout",
     "output_type": "stream",
     "text": [
      "✅ Preprocessor downloaded from GCS to preprocessing_pipeline/preprocessor_joblib\n",
      "✅ Preprocessor successfully loaded from local file\n"
     ]
    }
   ],
   "source": [
    "# Continue with:\n",
    "X_metadata, y, class_names = prepare_data_for_model(balanced_metadata)"
   ]
  },
  {
   "cell_type": "code",
   "execution_count": 12,
   "id": "d215a383-2d24-4130-8083-4700b6c8e867",
   "metadata": {
    "tags": []
   },
   "outputs": [
    {
     "data": {
      "text/plain": [
       "(13699, 15)"
      ]
     },
     "execution_count": 12,
     "metadata": {},
     "output_type": "execute_result"
    }
   ],
   "source": [
    "X_metadata.shape"
   ]
  },
  {
   "cell_type": "code",
   "execution_count": 13,
   "id": "879587da-ee5e-4539-815b-7341275bd4f1",
   "metadata": {
    "tags": []
   },
   "outputs": [
    {
     "data": {
      "text/plain": [
       "(13699, 7)"
      ]
     },
     "execution_count": 13,
     "metadata": {},
     "output_type": "execute_result"
    }
   ],
   "source": [
    "y.shape"
   ]
  },
  {
   "cell_type": "code",
   "execution_count": 14,
   "id": "c34e2728-2e97-4681-bb70-15a3bd2aa929",
   "metadata": {
    "tags": []
   },
   "outputs": [
    {
     "data": {
      "text/plain": [
       "dx\n",
       "nv       3883\n",
       "mel      3309\n",
       "bkl      3228\n",
       "bcc      1527\n",
       "akiec     981\n",
       "vasc      426\n",
       "df        345\n",
       "Name: count, dtype: int64"
      ]
     },
     "execution_count": 14,
     "metadata": {},
     "output_type": "execute_result"
    }
   ],
   "source": [
    "balanced_metadata.dx.value_counts()"
   ]
  },
  {
   "cell_type": "markdown",
   "id": "560fa8fd-5349-44f0-baa2-8e13a362ac8f",
   "metadata": {},
   "source": [
    "## Model"
   ]
  },
  {
   "cell_type": "code",
   "execution_count": 15,
   "id": "6bc5c0fe-ea8a-45ea-b1a3-531330cac7d7",
   "metadata": {
    "tags": []
   },
   "outputs": [],
   "source": [
    "import numpy as np\n",
    "from tensorflow.keras import Model\n",
    "from tensorflow.keras.layers import Input, Dense, Conv2D, MaxPooling2D, Flatten, concatenate, Dropout"
   ]
  },
  {
   "cell_type": "code",
   "execution_count": 16,
   "id": "8d7ed6de-e153-4292-890d-4736d86eafc4",
   "metadata": {
    "tags": []
   },
   "outputs": [],
   "source": [
    "from tensorflow.keras.callbacks import EarlyStopping\n",
    "from sklearn.model_selection import train_test_split"
   ]
  },
  {
   "cell_type": "code",
   "execution_count": 17,
   "id": "93d2b721-7682-4594-bc86-f5a3a9bf417a",
   "metadata": {
    "tags": []
   },
   "outputs": [
    {
     "name": "stderr",
     "output_type": "stream",
     "text": [
      "2025-06-09 16:33:01.582054: E external/local_xla/xla/stream_executor/cuda/cuda_platform.cc:51] failed call to cuInit: INTERNAL: CUDA error: Failed call to cuInit: UNKNOWN ERROR (303)\n"
     ]
    }
   ],
   "source": [
    "# Image Branch\n",
    "image_input = Input(shape=(96, 96, 3))\n",
    "cnn = Conv2D(16, (6, 6), activation='relu')(image_input)\n",
    "cnn = Dropout(0.2)(cnn)  # Dropout after first Conv2D\n",
    "\n",
    "cnn = Conv2D(32, (3, 3), activation='relu')(cnn)\n",
    "cnn = Dropout(0.3)(cnn)  # Dropout after second Conv2D\n",
    "\n",
    "cnn = Flatten()(cnn)\n",
    "cnn = Dense(64, activation='relu')(cnn)\n",
    "cnn = Dropout(0.5)(cnn)  # Dropout after Dense\n",
    "cnn = Dense(32, activation='relu')(cnn)\n",
    "\n",
    "# Metadata Branch\n",
    "meta_input = Input(shape=(15,))\n",
    "dln = Dense(16, activation='relu')(meta_input)\n",
    "dln = Dropout(0.3)(dln)\n",
    "\n",
    "# Combined Final Layers\n",
    "combined_layers = concatenate([cnn, dln])\n",
    "x = Dense(32, activation='relu')(combined_layers)\n",
    "output = Dense(7, activation='softmax')(x)\n",
    "\n",
    "# Define Model\n",
    "test_model = Model(inputs=[image_input, meta_input], outputs=output)"
   ]
  },
  {
   "cell_type": "code",
   "execution_count": 18,
   "id": "cf607f58-cc91-49f7-ab0b-f2351ec99be9",
   "metadata": {
    "tags": []
   },
   "outputs": [],
   "source": [
    "test_model.compile(optimizer='adam', loss='categorical_crossentropy', metrics=[\"accuracy\",\"recall\"])"
   ]
  },
  {
   "cell_type": "code",
   "execution_count": 19,
   "id": "f241b54d-543c-493b-a5b9-82a0d43bafb1",
   "metadata": {
    "tags": []
   },
   "outputs": [
    {
     "data": {
      "text/html": [
       "<pre style=\"white-space:pre;overflow-x:auto;line-height:normal;font-family:Menlo,'DejaVu Sans Mono',consolas,'Courier New',monospace\"><span style=\"font-weight: bold\">Model: \"functional\"</span>\n",
       "</pre>\n"
      ],
      "text/plain": [
       "\u001b[1mModel: \"functional\"\u001b[0m\n"
      ]
     },
     "metadata": {},
     "output_type": "display_data"
    },
    {
     "data": {
      "text/html": [
       "<pre style=\"white-space:pre;overflow-x:auto;line-height:normal;font-family:Menlo,'DejaVu Sans Mono',consolas,'Courier New',monospace\">┏━━━━━━━━━━━━━━━━━━━━━┳━━━━━━━━━━━━━━━━━━━┳━━━━━━━━━━━━┳━━━━━━━━━━━━━━━━━━━┓\n",
       "┃<span style=\"font-weight: bold\"> Layer (type)        </span>┃<span style=\"font-weight: bold\"> Output Shape      </span>┃<span style=\"font-weight: bold\">    Param # </span>┃<span style=\"font-weight: bold\"> Connected to      </span>┃\n",
       "┡━━━━━━━━━━━━━━━━━━━━━╇━━━━━━━━━━━━━━━━━━━╇━━━━━━━━━━━━╇━━━━━━━━━━━━━━━━━━━┩\n",
       "│ input_layer         │ (<span style=\"color: #00d7ff; text-decoration-color: #00d7ff\">None</span>, <span style=\"color: #00af00; text-decoration-color: #00af00\">96</span>, <span style=\"color: #00af00; text-decoration-color: #00af00\">96</span>, <span style=\"color: #00af00; text-decoration-color: #00af00\">3</span>) │          <span style=\"color: #00af00; text-decoration-color: #00af00\">0</span> │ -                 │\n",
       "│ (<span style=\"color: #0087ff; text-decoration-color: #0087ff\">InputLayer</span>)        │                   │            │                   │\n",
       "├─────────────────────┼───────────────────┼────────────┼───────────────────┤\n",
       "│ conv2d (<span style=\"color: #0087ff; text-decoration-color: #0087ff\">Conv2D</span>)     │ (<span style=\"color: #00d7ff; text-decoration-color: #00d7ff\">None</span>, <span style=\"color: #00af00; text-decoration-color: #00af00\">91</span>, <span style=\"color: #00af00; text-decoration-color: #00af00\">91</span>,    │      <span style=\"color: #00af00; text-decoration-color: #00af00\">1,744</span> │ input_layer[<span style=\"color: #00af00; text-decoration-color: #00af00\">0</span>][<span style=\"color: #00af00; text-decoration-color: #00af00\">0</span>] │\n",
       "│                     │ <span style=\"color: #00af00; text-decoration-color: #00af00\">16</span>)               │            │                   │\n",
       "├─────────────────────┼───────────────────┼────────────┼───────────────────┤\n",
       "│ dropout (<span style=\"color: #0087ff; text-decoration-color: #0087ff\">Dropout</span>)   │ (<span style=\"color: #00d7ff; text-decoration-color: #00d7ff\">None</span>, <span style=\"color: #00af00; text-decoration-color: #00af00\">91</span>, <span style=\"color: #00af00; text-decoration-color: #00af00\">91</span>,    │          <span style=\"color: #00af00; text-decoration-color: #00af00\">0</span> │ conv2d[<span style=\"color: #00af00; text-decoration-color: #00af00\">0</span>][<span style=\"color: #00af00; text-decoration-color: #00af00\">0</span>]      │\n",
       "│                     │ <span style=\"color: #00af00; text-decoration-color: #00af00\">16</span>)               │            │                   │\n",
       "├─────────────────────┼───────────────────┼────────────┼───────────────────┤\n",
       "│ conv2d_1 (<span style=\"color: #0087ff; text-decoration-color: #0087ff\">Conv2D</span>)   │ (<span style=\"color: #00d7ff; text-decoration-color: #00d7ff\">None</span>, <span style=\"color: #00af00; text-decoration-color: #00af00\">89</span>, <span style=\"color: #00af00; text-decoration-color: #00af00\">89</span>,    │      <span style=\"color: #00af00; text-decoration-color: #00af00\">4,640</span> │ dropout[<span style=\"color: #00af00; text-decoration-color: #00af00\">0</span>][<span style=\"color: #00af00; text-decoration-color: #00af00\">0</span>]     │\n",
       "│                     │ <span style=\"color: #00af00; text-decoration-color: #00af00\">32</span>)               │            │                   │\n",
       "├─────────────────────┼───────────────────┼────────────┼───────────────────┤\n",
       "│ dropout_1 (<span style=\"color: #0087ff; text-decoration-color: #0087ff\">Dropout</span>) │ (<span style=\"color: #00d7ff; text-decoration-color: #00d7ff\">None</span>, <span style=\"color: #00af00; text-decoration-color: #00af00\">89</span>, <span style=\"color: #00af00; text-decoration-color: #00af00\">89</span>,    │          <span style=\"color: #00af00; text-decoration-color: #00af00\">0</span> │ conv2d_1[<span style=\"color: #00af00; text-decoration-color: #00af00\">0</span>][<span style=\"color: #00af00; text-decoration-color: #00af00\">0</span>]    │\n",
       "│                     │ <span style=\"color: #00af00; text-decoration-color: #00af00\">32</span>)               │            │                   │\n",
       "├─────────────────────┼───────────────────┼────────────┼───────────────────┤\n",
       "│ flatten (<span style=\"color: #0087ff; text-decoration-color: #0087ff\">Flatten</span>)   │ (<span style=\"color: #00d7ff; text-decoration-color: #00d7ff\">None</span>, <span style=\"color: #00af00; text-decoration-color: #00af00\">253472</span>)    │          <span style=\"color: #00af00; text-decoration-color: #00af00\">0</span> │ dropout_1[<span style=\"color: #00af00; text-decoration-color: #00af00\">0</span>][<span style=\"color: #00af00; text-decoration-color: #00af00\">0</span>]   │\n",
       "├─────────────────────┼───────────────────┼────────────┼───────────────────┤\n",
       "│ dense (<span style=\"color: #0087ff; text-decoration-color: #0087ff\">Dense</span>)       │ (<span style=\"color: #00d7ff; text-decoration-color: #00d7ff\">None</span>, <span style=\"color: #00af00; text-decoration-color: #00af00\">64</span>)        │ <span style=\"color: #00af00; text-decoration-color: #00af00\">16,222,272</span> │ flatten[<span style=\"color: #00af00; text-decoration-color: #00af00\">0</span>][<span style=\"color: #00af00; text-decoration-color: #00af00\">0</span>]     │\n",
       "├─────────────────────┼───────────────────┼────────────┼───────────────────┤\n",
       "│ input_layer_1       │ (<span style=\"color: #00d7ff; text-decoration-color: #00d7ff\">None</span>, <span style=\"color: #00af00; text-decoration-color: #00af00\">15</span>)        │          <span style=\"color: #00af00; text-decoration-color: #00af00\">0</span> │ -                 │\n",
       "│ (<span style=\"color: #0087ff; text-decoration-color: #0087ff\">InputLayer</span>)        │                   │            │                   │\n",
       "├─────────────────────┼───────────────────┼────────────┼───────────────────┤\n",
       "│ dropout_2 (<span style=\"color: #0087ff; text-decoration-color: #0087ff\">Dropout</span>) │ (<span style=\"color: #00d7ff; text-decoration-color: #00d7ff\">None</span>, <span style=\"color: #00af00; text-decoration-color: #00af00\">64</span>)        │          <span style=\"color: #00af00; text-decoration-color: #00af00\">0</span> │ dense[<span style=\"color: #00af00; text-decoration-color: #00af00\">0</span>][<span style=\"color: #00af00; text-decoration-color: #00af00\">0</span>]       │\n",
       "├─────────────────────┼───────────────────┼────────────┼───────────────────┤\n",
       "│ dense_2 (<span style=\"color: #0087ff; text-decoration-color: #0087ff\">Dense</span>)     │ (<span style=\"color: #00d7ff; text-decoration-color: #00d7ff\">None</span>, <span style=\"color: #00af00; text-decoration-color: #00af00\">16</span>)        │        <span style=\"color: #00af00; text-decoration-color: #00af00\">256</span> │ input_layer_1[<span style=\"color: #00af00; text-decoration-color: #00af00\">0</span>]… │\n",
       "├─────────────────────┼───────────────────┼────────────┼───────────────────┤\n",
       "│ dense_1 (<span style=\"color: #0087ff; text-decoration-color: #0087ff\">Dense</span>)     │ (<span style=\"color: #00d7ff; text-decoration-color: #00d7ff\">None</span>, <span style=\"color: #00af00; text-decoration-color: #00af00\">32</span>)        │      <span style=\"color: #00af00; text-decoration-color: #00af00\">2,080</span> │ dropout_2[<span style=\"color: #00af00; text-decoration-color: #00af00\">0</span>][<span style=\"color: #00af00; text-decoration-color: #00af00\">0</span>]   │\n",
       "├─────────────────────┼───────────────────┼────────────┼───────────────────┤\n",
       "│ dropout_3 (<span style=\"color: #0087ff; text-decoration-color: #0087ff\">Dropout</span>) │ (<span style=\"color: #00d7ff; text-decoration-color: #00d7ff\">None</span>, <span style=\"color: #00af00; text-decoration-color: #00af00\">16</span>)        │          <span style=\"color: #00af00; text-decoration-color: #00af00\">0</span> │ dense_2[<span style=\"color: #00af00; text-decoration-color: #00af00\">0</span>][<span style=\"color: #00af00; text-decoration-color: #00af00\">0</span>]     │\n",
       "├─────────────────────┼───────────────────┼────────────┼───────────────────┤\n",
       "│ concatenate         │ (<span style=\"color: #00d7ff; text-decoration-color: #00d7ff\">None</span>, <span style=\"color: #00af00; text-decoration-color: #00af00\">48</span>)        │          <span style=\"color: #00af00; text-decoration-color: #00af00\">0</span> │ dense_1[<span style=\"color: #00af00; text-decoration-color: #00af00\">0</span>][<span style=\"color: #00af00; text-decoration-color: #00af00\">0</span>],    │\n",
       "│ (<span style=\"color: #0087ff; text-decoration-color: #0087ff\">Concatenate</span>)       │                   │            │ dropout_3[<span style=\"color: #00af00; text-decoration-color: #00af00\">0</span>][<span style=\"color: #00af00; text-decoration-color: #00af00\">0</span>]   │\n",
       "├─────────────────────┼───────────────────┼────────────┼───────────────────┤\n",
       "│ dense_3 (<span style=\"color: #0087ff; text-decoration-color: #0087ff\">Dense</span>)     │ (<span style=\"color: #00d7ff; text-decoration-color: #00d7ff\">None</span>, <span style=\"color: #00af00; text-decoration-color: #00af00\">32</span>)        │      <span style=\"color: #00af00; text-decoration-color: #00af00\">1,568</span> │ concatenate[<span style=\"color: #00af00; text-decoration-color: #00af00\">0</span>][<span style=\"color: #00af00; text-decoration-color: #00af00\">0</span>] │\n",
       "├─────────────────────┼───────────────────┼────────────┼───────────────────┤\n",
       "│ dense_4 (<span style=\"color: #0087ff; text-decoration-color: #0087ff\">Dense</span>)     │ (<span style=\"color: #00d7ff; text-decoration-color: #00d7ff\">None</span>, <span style=\"color: #00af00; text-decoration-color: #00af00\">7</span>)         │        <span style=\"color: #00af00; text-decoration-color: #00af00\">231</span> │ dense_3[<span style=\"color: #00af00; text-decoration-color: #00af00\">0</span>][<span style=\"color: #00af00; text-decoration-color: #00af00\">0</span>]     │\n",
       "└─────────────────────┴───────────────────┴────────────┴───────────────────┘\n",
       "</pre>\n"
      ],
      "text/plain": [
       "┏━━━━━━━━━━━━━━━━━━━━━┳━━━━━━━━━━━━━━━━━━━┳━━━━━━━━━━━━┳━━━━━━━━━━━━━━━━━━━┓\n",
       "┃\u001b[1m \u001b[0m\u001b[1mLayer (type)       \u001b[0m\u001b[1m \u001b[0m┃\u001b[1m \u001b[0m\u001b[1mOutput Shape     \u001b[0m\u001b[1m \u001b[0m┃\u001b[1m \u001b[0m\u001b[1m   Param #\u001b[0m\u001b[1m \u001b[0m┃\u001b[1m \u001b[0m\u001b[1mConnected to     \u001b[0m\u001b[1m \u001b[0m┃\n",
       "┡━━━━━━━━━━━━━━━━━━━━━╇━━━━━━━━━━━━━━━━━━━╇━━━━━━━━━━━━╇━━━━━━━━━━━━━━━━━━━┩\n",
       "│ input_layer         │ (\u001b[38;5;45mNone\u001b[0m, \u001b[38;5;34m96\u001b[0m, \u001b[38;5;34m96\u001b[0m, \u001b[38;5;34m3\u001b[0m) │          \u001b[38;5;34m0\u001b[0m │ -                 │\n",
       "│ (\u001b[38;5;33mInputLayer\u001b[0m)        │                   │            │                   │\n",
       "├─────────────────────┼───────────────────┼────────────┼───────────────────┤\n",
       "│ conv2d (\u001b[38;5;33mConv2D\u001b[0m)     │ (\u001b[38;5;45mNone\u001b[0m, \u001b[38;5;34m91\u001b[0m, \u001b[38;5;34m91\u001b[0m,    │      \u001b[38;5;34m1,744\u001b[0m │ input_layer[\u001b[38;5;34m0\u001b[0m][\u001b[38;5;34m0\u001b[0m] │\n",
       "│                     │ \u001b[38;5;34m16\u001b[0m)               │            │                   │\n",
       "├─────────────────────┼───────────────────┼────────────┼───────────────────┤\n",
       "│ dropout (\u001b[38;5;33mDropout\u001b[0m)   │ (\u001b[38;5;45mNone\u001b[0m, \u001b[38;5;34m91\u001b[0m, \u001b[38;5;34m91\u001b[0m,    │          \u001b[38;5;34m0\u001b[0m │ conv2d[\u001b[38;5;34m0\u001b[0m][\u001b[38;5;34m0\u001b[0m]      │\n",
       "│                     │ \u001b[38;5;34m16\u001b[0m)               │            │                   │\n",
       "├─────────────────────┼───────────────────┼────────────┼───────────────────┤\n",
       "│ conv2d_1 (\u001b[38;5;33mConv2D\u001b[0m)   │ (\u001b[38;5;45mNone\u001b[0m, \u001b[38;5;34m89\u001b[0m, \u001b[38;5;34m89\u001b[0m,    │      \u001b[38;5;34m4,640\u001b[0m │ dropout[\u001b[38;5;34m0\u001b[0m][\u001b[38;5;34m0\u001b[0m]     │\n",
       "│                     │ \u001b[38;5;34m32\u001b[0m)               │            │                   │\n",
       "├─────────────────────┼───────────────────┼────────────┼───────────────────┤\n",
       "│ dropout_1 (\u001b[38;5;33mDropout\u001b[0m) │ (\u001b[38;5;45mNone\u001b[0m, \u001b[38;5;34m89\u001b[0m, \u001b[38;5;34m89\u001b[0m,    │          \u001b[38;5;34m0\u001b[0m │ conv2d_1[\u001b[38;5;34m0\u001b[0m][\u001b[38;5;34m0\u001b[0m]    │\n",
       "│                     │ \u001b[38;5;34m32\u001b[0m)               │            │                   │\n",
       "├─────────────────────┼───────────────────┼────────────┼───────────────────┤\n",
       "│ flatten (\u001b[38;5;33mFlatten\u001b[0m)   │ (\u001b[38;5;45mNone\u001b[0m, \u001b[38;5;34m253472\u001b[0m)    │          \u001b[38;5;34m0\u001b[0m │ dropout_1[\u001b[38;5;34m0\u001b[0m][\u001b[38;5;34m0\u001b[0m]   │\n",
       "├─────────────────────┼───────────────────┼────────────┼───────────────────┤\n",
       "│ dense (\u001b[38;5;33mDense\u001b[0m)       │ (\u001b[38;5;45mNone\u001b[0m, \u001b[38;5;34m64\u001b[0m)        │ \u001b[38;5;34m16,222,272\u001b[0m │ flatten[\u001b[38;5;34m0\u001b[0m][\u001b[38;5;34m0\u001b[0m]     │\n",
       "├─────────────────────┼───────────────────┼────────────┼───────────────────┤\n",
       "│ input_layer_1       │ (\u001b[38;5;45mNone\u001b[0m, \u001b[38;5;34m15\u001b[0m)        │          \u001b[38;5;34m0\u001b[0m │ -                 │\n",
       "│ (\u001b[38;5;33mInputLayer\u001b[0m)        │                   │            │                   │\n",
       "├─────────────────────┼───────────────────┼────────────┼───────────────────┤\n",
       "│ dropout_2 (\u001b[38;5;33mDropout\u001b[0m) │ (\u001b[38;5;45mNone\u001b[0m, \u001b[38;5;34m64\u001b[0m)        │          \u001b[38;5;34m0\u001b[0m │ dense[\u001b[38;5;34m0\u001b[0m][\u001b[38;5;34m0\u001b[0m]       │\n",
       "├─────────────────────┼───────────────────┼────────────┼───────────────────┤\n",
       "│ dense_2 (\u001b[38;5;33mDense\u001b[0m)     │ (\u001b[38;5;45mNone\u001b[0m, \u001b[38;5;34m16\u001b[0m)        │        \u001b[38;5;34m256\u001b[0m │ input_layer_1[\u001b[38;5;34m0\u001b[0m]… │\n",
       "├─────────────────────┼───────────────────┼────────────┼───────────────────┤\n",
       "│ dense_1 (\u001b[38;5;33mDense\u001b[0m)     │ (\u001b[38;5;45mNone\u001b[0m, \u001b[38;5;34m32\u001b[0m)        │      \u001b[38;5;34m2,080\u001b[0m │ dropout_2[\u001b[38;5;34m0\u001b[0m][\u001b[38;5;34m0\u001b[0m]   │\n",
       "├─────────────────────┼───────────────────┼────────────┼───────────────────┤\n",
       "│ dropout_3 (\u001b[38;5;33mDropout\u001b[0m) │ (\u001b[38;5;45mNone\u001b[0m, \u001b[38;5;34m16\u001b[0m)        │          \u001b[38;5;34m0\u001b[0m │ dense_2[\u001b[38;5;34m0\u001b[0m][\u001b[38;5;34m0\u001b[0m]     │\n",
       "├─────────────────────┼───────────────────┼────────────┼───────────────────┤\n",
       "│ concatenate         │ (\u001b[38;5;45mNone\u001b[0m, \u001b[38;5;34m48\u001b[0m)        │          \u001b[38;5;34m0\u001b[0m │ dense_1[\u001b[38;5;34m0\u001b[0m][\u001b[38;5;34m0\u001b[0m],    │\n",
       "│ (\u001b[38;5;33mConcatenate\u001b[0m)       │                   │            │ dropout_3[\u001b[38;5;34m0\u001b[0m][\u001b[38;5;34m0\u001b[0m]   │\n",
       "├─────────────────────┼───────────────────┼────────────┼───────────────────┤\n",
       "│ dense_3 (\u001b[38;5;33mDense\u001b[0m)     │ (\u001b[38;5;45mNone\u001b[0m, \u001b[38;5;34m32\u001b[0m)        │      \u001b[38;5;34m1,568\u001b[0m │ concatenate[\u001b[38;5;34m0\u001b[0m][\u001b[38;5;34m0\u001b[0m] │\n",
       "├─────────────────────┼───────────────────┼────────────┼───────────────────┤\n",
       "│ dense_4 (\u001b[38;5;33mDense\u001b[0m)     │ (\u001b[38;5;45mNone\u001b[0m, \u001b[38;5;34m7\u001b[0m)         │        \u001b[38;5;34m231\u001b[0m │ dense_3[\u001b[38;5;34m0\u001b[0m][\u001b[38;5;34m0\u001b[0m]     │\n",
       "└─────────────────────┴───────────────────┴────────────┴───────────────────┘\n"
      ]
     },
     "metadata": {},
     "output_type": "display_data"
    },
    {
     "data": {
      "text/html": [
       "<pre style=\"white-space:pre;overflow-x:auto;line-height:normal;font-family:Menlo,'DejaVu Sans Mono',consolas,'Courier New',monospace\"><span style=\"font-weight: bold\"> Total params: </span><span style=\"color: #00af00; text-decoration-color: #00af00\">16,232,791</span> (61.92 MB)\n",
       "</pre>\n"
      ],
      "text/plain": [
       "\u001b[1m Total params: \u001b[0m\u001b[38;5;34m16,232,791\u001b[0m (61.92 MB)\n"
      ]
     },
     "metadata": {},
     "output_type": "display_data"
    },
    {
     "data": {
      "text/html": [
       "<pre style=\"white-space:pre;overflow-x:auto;line-height:normal;font-family:Menlo,'DejaVu Sans Mono',consolas,'Courier New',monospace\"><span style=\"font-weight: bold\"> Trainable params: </span><span style=\"color: #00af00; text-decoration-color: #00af00\">16,232,791</span> (61.92 MB)\n",
       "</pre>\n"
      ],
      "text/plain": [
       "\u001b[1m Trainable params: \u001b[0m\u001b[38;5;34m16,232,791\u001b[0m (61.92 MB)\n"
      ]
     },
     "metadata": {},
     "output_type": "display_data"
    },
    {
     "data": {
      "text/html": [
       "<pre style=\"white-space:pre;overflow-x:auto;line-height:normal;font-family:Menlo,'DejaVu Sans Mono',consolas,'Courier New',monospace\"><span style=\"font-weight: bold\"> Non-trainable params: </span><span style=\"color: #00af00; text-decoration-color: #00af00\">0</span> (0.00 B)\n",
       "</pre>\n"
      ],
      "text/plain": [
       "\u001b[1m Non-trainable params: \u001b[0m\u001b[38;5;34m0\u001b[0m (0.00 B)\n"
      ]
     },
     "metadata": {},
     "output_type": "display_data"
    }
   ],
   "source": [
    "test_model.summary()"
   ]
  },
  {
   "cell_type": "code",
   "execution_count": 20,
   "id": "e4b0d0fb-34cb-4078-9270-17fc32115934",
   "metadata": {
    "tags": []
   },
   "outputs": [],
   "source": [
    "es = EarlyStopping(patience=10, restore_best_weights=True)"
   ]
  },
  {
   "cell_type": "code",
   "execution_count": 21,
   "id": "a0fd2cc5-bc3f-49dc-bb5c-4d2f44c911b2",
   "metadata": {
    "tags": []
   },
   "outputs": [
    {
     "data": {
      "text/plain": [
       "(13699, 96, 96, 3)"
      ]
     },
     "execution_count": 21,
     "metadata": {},
     "output_type": "execute_result"
    }
   ],
   "source": [
    "X_images.shape"
   ]
  },
  {
   "cell_type": "code",
   "execution_count": 22,
   "id": "dceefd39-3f6d-4cb7-93fa-33466fbad348",
   "metadata": {
    "tags": []
   },
   "outputs": [
    {
     "data": {
      "text/plain": [
       "(13699, 15)"
      ]
     },
     "execution_count": 22,
     "metadata": {},
     "output_type": "execute_result"
    }
   ],
   "source": [
    "X_metadata.shape"
   ]
  },
  {
   "cell_type": "code",
   "execution_count": 23,
   "id": "eeb6d1d7-6e10-421e-b6dd-5af811b67fbc",
   "metadata": {
    "tags": []
   },
   "outputs": [
    {
     "data": {
      "text/plain": [
       "(13699, 7)"
      ]
     },
     "execution_count": 23,
     "metadata": {},
     "output_type": "execute_result"
    }
   ],
   "source": [
    "y.shape"
   ]
  },
  {
   "cell_type": "code",
   "execution_count": 24,
   "id": "b7dbe0bc-b3d8-46a3-8f47-0bbbb161eecc",
   "metadata": {
    "tags": []
   },
   "outputs": [],
   "source": [
    "X_combined = list(zip(X_images, X_metadata))\n",
    "\n",
    "X_combined_train, X_combined_test, y_train, y_test = train_test_split(\n",
    "    X_combined, y, test_size=0.3, random_state=42, stratify=y\n",
    ")\n",
    "\n",
    "# Unzip after the split\n",
    "X_images_train, X_metadata_train = zip(*X_combined_train)\n",
    "X_images_test, X_metadata_test = zip(*X_combined_test)\n",
    "\n",
    "# Convert back to arrays if needed\n",
    "import numpy as np\n",
    "X_images_train = np.array(X_images_train)\n",
    "X_images_test = np.array(X_images_test)\n",
    "X_metadata_train = np.array(X_metadata_train)\n",
    "X_metadata_test = np.array(X_metadata_test)\n"
   ]
  },
  {
   "cell_type": "code",
   "execution_count": 25,
   "id": "003a52ad-d8e0-4ae2-ad69-ae8e50643d3b",
   "metadata": {
    "tags": []
   },
   "outputs": [
    {
     "data": {
      "text/plain": [
       "(9589, 96, 96, 3)"
      ]
     },
     "execution_count": 25,
     "metadata": {},
     "output_type": "execute_result"
    }
   ],
   "source": [
    "X_images_train.shape"
   ]
  },
  {
   "cell_type": "code",
   "execution_count": 26,
   "id": "e770fc40-db32-461b-a6e6-3b4cb5c1082c",
   "metadata": {
    "tags": []
   },
   "outputs": [
    {
     "data": {
      "text/plain": [
       "(9589, 15)"
      ]
     },
     "execution_count": 26,
     "metadata": {},
     "output_type": "execute_result"
    }
   ],
   "source": [
    "X_metadata_train.shape"
   ]
  },
  {
   "cell_type": "code",
   "execution_count": 27,
   "id": "9b7c922a-509f-49d7-b95d-1d057e1f4e5b",
   "metadata": {
    "tags": []
   },
   "outputs": [
    {
     "data": {
      "text/plain": [
       "(9589, 7)"
      ]
     },
     "execution_count": 27,
     "metadata": {},
     "output_type": "execute_result"
    }
   ],
   "source": [
    "y_train.shape"
   ]
  },
  {
   "cell_type": "code",
   "execution_count": 28,
   "id": "c3567b6f-9c1c-42d3-aa81-387142b9a20f",
   "metadata": {
    "tags": []
   },
   "outputs": [
    {
     "name": "stdout",
     "output_type": "stream",
     "text": [
      "Epoch 1/100\n",
      "\u001b[1m240/240\u001b[0m \u001b[32m━━━━━━━━━━━━━━━━━━━━\u001b[0m\u001b[37m\u001b[0m \u001b[1m49s\u001b[0m 192ms/step - accuracy: 0.2438 - loss: 2.4588 - recall: 0.0243 - val_accuracy: 0.3884 - val_loss: 1.6302 - val_recall: 0.0000e+00\n",
      "Epoch 2/100\n",
      "\u001b[1m240/240\u001b[0m \u001b[32m━━━━━━━━━━━━━━━━━━━━\u001b[0m\u001b[37m\u001b[0m \u001b[1m46s\u001b[0m 193ms/step - accuracy: 0.3589 - loss: 1.6327 - recall: 0.0084 - val_accuracy: 0.4030 - val_loss: 1.5134 - val_recall: 0.0428\n",
      "Epoch 3/100\n",
      "\u001b[1m240/240\u001b[0m \u001b[32m━━━━━━━━━━━━━━━━━━━━\u001b[0m\u001b[37m\u001b[0m \u001b[1m46s\u001b[0m 191ms/step - accuracy: 0.3803 - loss: 1.5640 - recall: 0.0876 - val_accuracy: 0.4119 - val_loss: 1.4760 - val_recall: 0.1011\n",
      "Epoch 4/100\n",
      "\u001b[1m240/240\u001b[0m \u001b[32m━━━━━━━━━━━━━━━━━━━━\u001b[0m\u001b[37m\u001b[0m \u001b[1m45s\u001b[0m 189ms/step - accuracy: 0.4060 - loss: 1.4881 - recall: 0.1231 - val_accuracy: 0.4583 - val_loss: 1.3649 - val_recall: 0.1611\n",
      "Epoch 5/100\n",
      "\u001b[1m240/240\u001b[0m \u001b[32m━━━━━━━━━━━━━━━━━━━━\u001b[0m\u001b[37m\u001b[0m \u001b[1m46s\u001b[0m 191ms/step - accuracy: 0.4249 - loss: 1.4244 - recall: 0.1572 - val_accuracy: 0.4901 - val_loss: 1.3368 - val_recall: 0.1408\n",
      "Epoch 6/100\n",
      "\u001b[1m240/240\u001b[0m \u001b[32m━━━━━━━━━━━━━━━━━━━━\u001b[0m\u001b[37m\u001b[0m \u001b[1m46s\u001b[0m 193ms/step - accuracy: 0.4463 - loss: 1.3888 - recall: 0.1810 - val_accuracy: 0.4995 - val_loss: 1.3073 - val_recall: 0.1611\n",
      "Epoch 7/100\n",
      "\u001b[1m240/240\u001b[0m \u001b[32m━━━━━━━━━━━━━━━━━━━━\u001b[0m\u001b[37m\u001b[0m \u001b[1m45s\u001b[0m 187ms/step - accuracy: 0.4648 - loss: 1.3451 - recall: 0.2083 - val_accuracy: 0.4995 - val_loss: 1.2899 - val_recall: 0.1981\n",
      "Epoch 8/100\n",
      "\u001b[1m240/240\u001b[0m \u001b[32m━━━━━━━━━━━━━━━━━━━━\u001b[0m\u001b[37m\u001b[0m \u001b[1m47s\u001b[0m 194ms/step - accuracy: 0.4603 - loss: 1.3535 - recall: 0.2024 - val_accuracy: 0.4771 - val_loss: 1.3032 - val_recall: 0.1569\n",
      "Epoch 9/100\n",
      "\u001b[1m240/240\u001b[0m \u001b[32m━━━━━━━━━━━━━━━━━━━━\u001b[0m\u001b[37m\u001b[0m \u001b[1m46s\u001b[0m 192ms/step - accuracy: 0.4858 - loss: 1.2906 - recall: 0.2377 - val_accuracy: 0.5146 - val_loss: 1.2643 - val_recall: 0.1397\n",
      "Epoch 10/100\n",
      "\u001b[1m240/240\u001b[0m \u001b[32m━━━━━━━━━━━━━━━━━━━━\u001b[0m\u001b[37m\u001b[0m \u001b[1m45s\u001b[0m 189ms/step - accuracy: 0.4937 - loss: 1.2756 - recall: 0.2508 - val_accuracy: 0.5198 - val_loss: 1.2573 - val_recall: 0.1689\n",
      "Epoch 11/100\n",
      "\u001b[1m240/240\u001b[0m \u001b[32m━━━━━━━━━━━━━━━━━━━━\u001b[0m\u001b[37m\u001b[0m \u001b[1m45s\u001b[0m 186ms/step - accuracy: 0.5016 - loss: 1.2613 - recall: 0.2636 - val_accuracy: 0.5318 - val_loss: 1.2104 - val_recall: 0.2122\n",
      "Epoch 12/100\n",
      "\u001b[1m240/240\u001b[0m \u001b[32m━━━━━━━━━━━━━━━━━━━━\u001b[0m\u001b[37m\u001b[0m \u001b[1m44s\u001b[0m 185ms/step - accuracy: 0.5052 - loss: 1.2685 - recall: 0.2624 - val_accuracy: 0.5271 - val_loss: 1.2511 - val_recall: 0.1564\n",
      "Epoch 13/100\n",
      "\u001b[1m240/240\u001b[0m \u001b[32m━━━━━━━━━━━━━━━━━━━━\u001b[0m\u001b[37m\u001b[0m \u001b[1m43s\u001b[0m 181ms/step - accuracy: 0.5080 - loss: 1.2311 - recall: 0.2804 - val_accuracy: 0.5282 - val_loss: 1.2246 - val_recall: 0.2138\n",
      "Epoch 14/100\n",
      "\u001b[1m240/240\u001b[0m \u001b[32m━━━━━━━━━━━━━━━━━━━━\u001b[0m\u001b[37m\u001b[0m \u001b[1m45s\u001b[0m 188ms/step - accuracy: 0.5139 - loss: 1.2363 - recall: 0.2908 - val_accuracy: 0.5355 - val_loss: 1.2022 - val_recall: 0.2393\n",
      "Epoch 15/100\n",
      "\u001b[1m240/240\u001b[0m \u001b[32m━━━━━━━━━━━━━━━━━━━━\u001b[0m\u001b[37m\u001b[0m \u001b[1m45s\u001b[0m 187ms/step - accuracy: 0.5373 - loss: 1.1695 - recall: 0.3200 - val_accuracy: 0.5287 - val_loss: 1.1922 - val_recall: 0.2388\n",
      "Epoch 16/100\n",
      "\u001b[1m240/240\u001b[0m \u001b[32m━━━━━━━━━━━━━━━━━━━━\u001b[0m\u001b[37m\u001b[0m \u001b[1m45s\u001b[0m 186ms/step - accuracy: 0.5350 - loss: 1.1755 - recall: 0.3234 - val_accuracy: 0.5365 - val_loss: 1.1561 - val_recall: 0.2795\n",
      "Epoch 17/100\n",
      "\u001b[1m240/240\u001b[0m \u001b[32m━━━━━━━━━━━━━━━━━━━━\u001b[0m\u001b[37m\u001b[0m \u001b[1m45s\u001b[0m 186ms/step - accuracy: 0.5409 - loss: 1.1654 - recall: 0.3296 - val_accuracy: 0.5381 - val_loss: 1.1486 - val_recall: 0.2956\n",
      "Epoch 18/100\n",
      "\u001b[1m240/240\u001b[0m \u001b[32m━━━━━━━━━━━━━━━━━━━━\u001b[0m\u001b[37m\u001b[0m \u001b[1m44s\u001b[0m 184ms/step - accuracy: 0.5408 - loss: 1.1582 - recall: 0.3424 - val_accuracy: 0.5438 - val_loss: 1.1451 - val_recall: 0.3311\n",
      "Epoch 19/100\n",
      "\u001b[1m240/240\u001b[0m \u001b[32m━━━━━━━━━━━━━━━━━━━━\u001b[0m\u001b[37m\u001b[0m \u001b[1m45s\u001b[0m 187ms/step - accuracy: 0.5525 - loss: 1.1479 - recall: 0.3495 - val_accuracy: 0.5407 - val_loss: 1.1858 - val_recall: 0.2737\n",
      "Epoch 20/100\n",
      "\u001b[1m240/240\u001b[0m \u001b[32m━━━━━━━━━━━━━━━━━━━━\u001b[0m\u001b[37m\u001b[0m \u001b[1m46s\u001b[0m 190ms/step - accuracy: 0.5515 - loss: 1.1223 - recall: 0.3609 - val_accuracy: 0.5422 - val_loss: 1.1488 - val_recall: 0.2862\n",
      "Epoch 21/100\n",
      "\u001b[1m240/240\u001b[0m \u001b[32m━━━━━━━━━━━━━━━━━━━━\u001b[0m\u001b[37m\u001b[0m \u001b[1m45s\u001b[0m 187ms/step - accuracy: 0.5543 - loss: 1.1024 - recall: 0.3652 - val_accuracy: 0.5381 - val_loss: 1.1838 - val_recall: 0.2888\n",
      "Epoch 22/100\n",
      "\u001b[1m240/240\u001b[0m \u001b[32m━━━━━━━━━━━━━━━━━━━━\u001b[0m\u001b[37m\u001b[0m \u001b[1m45s\u001b[0m 189ms/step - accuracy: 0.5770 - loss: 1.0831 - recall: 0.3880 - val_accuracy: 0.5422 - val_loss: 1.1577 - val_recall: 0.3087\n",
      "Epoch 23/100\n",
      "\u001b[1m240/240\u001b[0m \u001b[32m━━━━━━━━━━━━━━━━━━━━\u001b[0m\u001b[37m\u001b[0m \u001b[1m46s\u001b[0m 190ms/step - accuracy: 0.5612 - loss: 1.0777 - recall: 0.3805 - val_accuracy: 0.5386 - val_loss: 1.1536 - val_recall: 0.3154\n",
      "Epoch 24/100\n",
      "\u001b[1m240/240\u001b[0m \u001b[32m━━━━━━━━━━━━━━━━━━━━\u001b[0m\u001b[37m\u001b[0m \u001b[1m44s\u001b[0m 182ms/step - accuracy: 0.5808 - loss: 1.0445 - recall: 0.4050 - val_accuracy: 0.5600 - val_loss: 1.1282 - val_recall: 0.3650\n",
      "Epoch 25/100\n",
      "\u001b[1m240/240\u001b[0m \u001b[32m━━━━━━━━━━━━━━━━━━━━\u001b[0m\u001b[37m\u001b[0m \u001b[1m44s\u001b[0m 183ms/step - accuracy: 0.6002 - loss: 1.0187 - recall: 0.4273 - val_accuracy: 0.5459 - val_loss: 1.1463 - val_recall: 0.3957\n",
      "Epoch 26/100\n",
      "\u001b[1m240/240\u001b[0m \u001b[32m━━━━━━━━━━━━━━━━━━━━\u001b[0m\u001b[37m\u001b[0m \u001b[1m44s\u001b[0m 182ms/step - accuracy: 0.5886 - loss: 1.0543 - recall: 0.4176 - val_accuracy: 0.5553 - val_loss: 1.1365 - val_recall: 0.3759\n",
      "Epoch 27/100\n",
      "\u001b[1m240/240\u001b[0m \u001b[32m━━━━━━━━━━━━━━━━━━━━\u001b[0m\u001b[37m\u001b[0m \u001b[1m44s\u001b[0m 182ms/step - accuracy: 0.6160 - loss: 0.9910 - recall: 0.4504 - val_accuracy: 0.5469 - val_loss: 1.1589 - val_recall: 0.3624\n",
      "Epoch 28/100\n",
      "\u001b[1m240/240\u001b[0m \u001b[32m━━━━━━━━━━━━━━━━━━━━\u001b[0m\u001b[37m\u001b[0m \u001b[1m44s\u001b[0m 185ms/step - accuracy: 0.6189 - loss: 0.9840 - recall: 0.4583 - val_accuracy: 0.5355 - val_loss: 1.1895 - val_recall: 0.3462\n",
      "Epoch 29/100\n",
      "\u001b[1m240/240\u001b[0m \u001b[32m━━━━━━━━━━━━━━━━━━━━\u001b[0m\u001b[37m\u001b[0m \u001b[1m44s\u001b[0m 184ms/step - accuracy: 0.6053 - loss: 0.9935 - recall: 0.4509 - val_accuracy: 0.5485 - val_loss: 1.1546 - val_recall: 0.3686\n",
      "Epoch 30/100\n",
      "\u001b[1m240/240\u001b[0m \u001b[32m━━━━━━━━━━━━━━━━━━━━\u001b[0m\u001b[37m\u001b[0m \u001b[1m45s\u001b[0m 185ms/step - accuracy: 0.6195 - loss: 0.9572 - recall: 0.4601 - val_accuracy: 0.5360 - val_loss: 1.2023 - val_recall: 0.3587\n",
      "Epoch 31/100\n",
      "\u001b[1m240/240\u001b[0m \u001b[32m━━━━━━━━━━━━━━━━━━━━\u001b[0m\u001b[37m\u001b[0m \u001b[1m44s\u001b[0m 181ms/step - accuracy: 0.6264 - loss: 0.9448 - recall: 0.4752 - val_accuracy: 0.5626 - val_loss: 1.1652 - val_recall: 0.3884\n",
      "Epoch 32/100\n",
      "\u001b[1m240/240\u001b[0m \u001b[32m━━━━━━━━━━━━━━━━━━━━\u001b[0m\u001b[37m\u001b[0m \u001b[1m43s\u001b[0m 180ms/step - accuracy: 0.6374 - loss: 0.9282 - recall: 0.4934 - val_accuracy: 0.5532 - val_loss: 1.1740 - val_recall: 0.4275\n",
      "Epoch 33/100\n",
      "\u001b[1m240/240\u001b[0m \u001b[32m━━━━━━━━━━━━━━━━━━━━\u001b[0m\u001b[37m\u001b[0m \u001b[1m43s\u001b[0m 180ms/step - accuracy: 0.6440 - loss: 0.9047 - recall: 0.5005 - val_accuracy: 0.5641 - val_loss: 1.1926 - val_recall: 0.4296\n",
      "Epoch 34/100\n",
      "\u001b[1m240/240\u001b[0m \u001b[32m━━━━━━━━━━━━━━━━━━━━\u001b[0m\u001b[37m\u001b[0m \u001b[1m44s\u001b[0m 182ms/step - accuracy: 0.6429 - loss: 0.8990 - recall: 0.5166 - val_accuracy: 0.5594 - val_loss: 1.1811 - val_recall: 0.4213\n"
     ]
    }
   ],
   "source": [
    "history = test_model.fit([X_images_train, X_metadata_train], y_train, epochs=100, batch_size=32, validation_split=0.2, callbacks=[es])"
   ]
  },
  {
   "cell_type": "code",
   "execution_count": 29,
   "id": "fc204472-1e47-42b5-9e31-5285884c0474",
   "metadata": {
    "tags": []
   },
   "outputs": [
    {
     "name": "stdout",
     "output_type": "stream",
     "text": [
      "\u001b[1m129/129\u001b[0m \u001b[32m━━━━━━━━━━━━━━━━━━━━\u001b[0m\u001b[37m\u001b[0m \u001b[1m3s\u001b[0m 22ms/step - accuracy: 0.5494 - loss: 1.1517 - recall: 0.3807\n"
     ]
    },
    {
     "data": {
      "text/plain": [
       "[1.1585549116134644, 0.5467153191566467, 0.3720194697380066]"
      ]
     },
     "execution_count": 29,
     "metadata": {},
     "output_type": "execute_result"
    }
   ],
   "source": [
    "test_model.evaluate([X_images_test,X_metadata_test],y_test)"
   ]
  },
  {
   "cell_type": "code",
   "execution_count": 30,
   "id": "4a115f13-6fff-4396-bb36-19983bd41a6b",
   "metadata": {
    "tags": []
   },
   "outputs": [],
   "source": [
    "import matplotlib.pyplot as plt\n",
    "def plot_loss_accuracy(history, title=None):\n",
    "    fig, ax = plt.subplots(1,2, figsize=(20,7))\n",
    "\n",
    "    # --- LOSS ---\n",
    "\n",
    "    ax[0].plot(history.history['loss'])\n",
    "    ax[0].plot(history.history['val_loss'])\n",
    "    ax[0].set_title('Model loss')\n",
    "    ax[0].set_ylabel('Loss')\n",
    "    ax[0].set_xlabel('Epoch')\n",
    "    ax[0].set_ylim((0,3))\n",
    "    ax[0].legend(['Train', 'Test'], loc='best')\n",
    "    ax[0].grid(axis=\"x\",linewidth=0.5)\n",
    "    ax[0].grid(axis=\"y\",linewidth=0.5)\n",
    "\n",
    "    # --- ACCURACY\n",
    "\n",
    "    ax[1].plot(history.history['accuracy'])\n",
    "    ax[1].plot(history.history['val_accuracy'])\n",
    "    ax[1].set_title('Model Accuracy')\n",
    "    ax[1].set_ylabel('Accuracy')\n",
    "    ax[1].set_xlabel('Epoch')\n",
    "    ax[1].legend(['Train', 'Test'], loc='best')\n",
    "    ax[1].set_ylim((0,1))\n",
    "    ax[1].grid(axis=\"x\",linewidth=0.5)\n",
    "    ax[1].grid(axis=\"y\",linewidth=0.5)\n",
    "\n",
    "    if title:\n",
    "        fig.suptitle(title)"
   ]
  },
  {
   "cell_type": "code",
   "execution_count": 31,
   "id": "b5f841f1-6a8c-47a2-b431-9511d4f13920",
   "metadata": {
    "tags": []
   },
   "outputs": [
    {
     "data": {
      "image/png": "[encoded data removed]",
      "text/plain": [
       "<Figure size 2000x700 with 2 Axes>"
      ]
     },
     "metadata": {},
     "output_type": "display_data"
    }
   ],
   "source": [
    "plot_loss_accuracy(history)"
   ]
  },
  {
   "cell_type": "code",
   "execution_count": null,
   "id": "288b1824-3eaf-4e42-a80b-df36fc044b32",
   "metadata": {},
   "outputs": [],
   "source": []
  }
 ],
 "metadata": {
  "environment": {
   "kernel": "conda-base-py",
   "name": "workbench-notebooks.m129",
   "type": "gcloud",
   "uri": "us-docker.pkg.dev/deeplearning-platform-release/gcr.io/workbench-notebooks:m129"
  },
  "kernelspec": {
   "display_name": "Python 3 (ipykernel)",
   "language": "python",
   "name": "conda-base-py"
  },
  "language_info": {
   "codemirror_mode": {
    "name": "ipython",
    "version": 3
   },
   "file_extension": ".py",
   "mimetype": "text/x-python",
   "name": "python",
   "nbconvert_exporter": "python",
   "pygments_lexer": "ipython3",
   "version": "3.10.16"
  }
 },
 "nbformat": 4,
 "nbformat_minor": 5
}

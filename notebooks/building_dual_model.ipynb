{
 "cells": [
  {
   "cell_type": "code",
   "id": "initial_id",
   "metadata": {
    "collapsed": true,
    "ExecuteTime": {
     "end_time": "2025-06-05T16:06:00.553484Z",
     "start_time": "2025-06-05T16:05:56.700416Z"
    }
   },
   "source": [
    "from tensorflow.keras.layers import Input, Dense, Conv2D, MaxPooling2D, Flatten, concatenate\n",
    "\n",
    "\n"
   ],
   "outputs": [
    {
     "ename": "AttributeError",
     "evalue": "'MessageFactory' object has no attribute 'GetPrototype'",
     "output_type": "error",
     "traceback": [
      "\u001B[31m---------------------------------------------------------------------------\u001B[39m",
      "\u001B[31mAttributeError\u001B[39m                            Traceback (most recent call last)",
      "\u001B[31mAttributeError\u001B[39m: 'MessageFactory' object has no attribute 'GetPrototype'"
     ]
    },
    {
     "ename": "AttributeError",
     "evalue": "'MessageFactory' object has no attribute 'GetPrototype'",
     "output_type": "error",
     "traceback": [
      "\u001B[31m---------------------------------------------------------------------------\u001B[39m",
      "\u001B[31mAttributeError\u001B[39m                            Traceback (most recent call last)",
      "\u001B[31mAttributeError\u001B[39m: 'MessageFactory' object has no attribute 'GetPrototype'"
     ]
    },
    {
     "ename": "AttributeError",
     "evalue": "'MessageFactory' object has no attribute 'GetPrototype'",
     "output_type": "error",
     "traceback": [
      "\u001B[31m---------------------------------------------------------------------------\u001B[39m",
      "\u001B[31mAttributeError\u001B[39m                            Traceback (most recent call last)",
      "\u001B[31mAttributeError\u001B[39m: 'MessageFactory' object has no attribute 'GetPrototype'"
     ]
    },
    {
     "ename": "AttributeError",
     "evalue": "'MessageFactory' object has no attribute 'GetPrototype'",
     "output_type": "error",
     "traceback": [
      "\u001B[31m---------------------------------------------------------------------------\u001B[39m",
      "\u001B[31mAttributeError\u001B[39m                            Traceback (most recent call last)",
      "\u001B[31mAttributeError\u001B[39m: 'MessageFactory' object has no attribute 'GetPrototype'"
     ]
    },
    {
     "ename": "AttributeError",
     "evalue": "'MessageFactory' object has no attribute 'GetPrototype'",
     "output_type": "error",
     "traceback": [
      "\u001B[31m---------------------------------------------------------------------------\u001B[39m",
      "\u001B[31mAttributeError\u001B[39m                            Traceback (most recent call last)",
      "\u001B[31mAttributeError\u001B[39m: 'MessageFactory' object has no attribute 'GetPrototype'"
     ]
    }
   ],
   "execution_count": 3
  },
  {
   "metadata": {},
   "cell_type": "markdown",
   "source": [
    "# Dual Model Example\n",
    "\n",
    "```python\n",
    "# Image branch\n",
    "image_input = Input(shape=(224, 224, 3))\n",
    "x = Conv2D(32, (3,3), activation='relu')(image_input)\n",
    "x = MaxPooling2D(2,2)(x)\n",
    "x = Conv2D(64, (3,3), activation='relu')(x)\n",
    "x = MaxPooling2D(2,2)(x)\n",
    "x = Flatten()(x)\n",
    "x = Dense(128, activation='relu')(x)\n",
    "x = Dropout(0.5)(x)\n",
    "\n",
    "# Metadata branch\n",
    "meta_input = Input(shape=(X_metadata.shape[1],))\n",
    "y = Dense(32, activation='relu')(meta_input)\n",
    "y = Dense(16, activation='relu')(y)\n",
    "\n",
    "# Merge branches\n",
    "combined = concatenate([x, y])\n",
    "z = Dense(64, activation='relu')(combined)\n",
    "output = Dense(num_classes, activation='softmax')(z)\n",
    "\n",
    "model = Model(inputs=[image_input, meta_input], outputs=output) ```\n"
   ],
   "id": "c82a46def805dea1"
  },
  {
   "metadata": {
    "ExecuteTime": {
     "end_time": "2025-06-05T13:59:59.780266Z",
     "start_time": "2025-06-05T13:59:59.744308Z"
    }
   },
   "cell_type": "code",
   "source": [
    "# Image Branch\n",
    "image_input =  Input(shape=(96, 96, 3))\n",
    "cnn = Conv2D(16, (3,3), activation='relu')(image_input)\n",
    "cnn = MaxPooling2D(pool_size=(2,2))(cnn)\n",
    "cnn = MaxPooling2D(2,2)(cnn)\n",
    "cnn = Conv2D(32, (3,3), activation='relu')(cnn)\n",
    "cnn = MaxPooling2D(2,2)(cnn)\n",
    "cnn = Flatten()(cnn)\n",
    "cnn = Dense(64, activation='relu')(cnn)\n",
    "\n",
    "# Metadata Branch\n",
    "meta_input = Input(shape=(15,))\n",
    "dln = Dense(32, activation='relu')(meta_input)\n",
    "dln = Dense(16, activation='relu')(dln)\n",
    "\n",
    "# Combined Final Layers\n",
    "combined_layers = concatenate([dln, meta_input])\n",
    "HAM_combined_model = Dense(32)(combined_layers)\n",
    "HAM_combined_model = Dense(7, activation='softmax')(HAM_combined_model)\n"
   ],
   "id": "6911ce99a780e950",
   "outputs": [],
   "execution_count": 4
  },
  {
   "metadata": {},
   "cell_type": "markdown",
   "source": [
    "# TESTING\n",
    "\n",
    "import os, sys\n",
    "\n",
    "# Add parent directory to Python path\n",
    "sys.path.append(os.path.abspath(\"..\"))\n",
    "\n",
    "import preprocessing as prep\n",
    "\n",
    "data = pd.read_csv('/Users/charlessaunders/code/Chapungu/skin_scan/raw_data/archive/HAM10000_metadata.csv')p"
   ],
   "id": "81a028daf8be5760"
  },
  {
   "metadata": {},
   "cell_type": "code",
   "outputs": [],
   "execution_count": null,
   "source": "",
   "id": "937b586875e63476"
  },
  {
   "metadata": {
    "ExecuteTime": {
     "end_time": "2025-06-05T14:54:19.685209Z",
     "start_time": "2025-06-05T14:54:18.407686Z"
    }
   },
   "cell_type": "code",
   "source": [
    "# TESTING\n",
    "import pandas as pd\n",
    "import os, sys\n",
    "\n",
    "# Add parent directory to Python path\n",
    "sys.path.append(os.path.abspath(\"..\"))\n",
    "\n",
    "import preprocessing as prep\n",
    "\n",
    "data = pd.read_csv('/Users/charlessaunders/code/Chapungu/skin_scan/raw_data/archive/HAM10000_metadata.csv')"
   ],

   "id": "c3e8e744f48c9d15",
   "outputs": [],
   "execution_count": 1
  },
  {
   "metadata": {},
   "cell_type": "code",
   "source": "X, y = prep.preprocess_metadata(data)",
   "id": "5153d03990bacd9f",
   "outputs": [],
   "execution_count": null
  },
  {
   "metadata": {},
   "cell_type": "code",
   "source": [
    "images = X[['passthrough__image_id']]\n",
    "\n",
    "images.head()"
   ],
   "id": "1aee10bc430a54a7",
   "outputs": [],
   "execution_count": null
  }
 ],
 "metadata": {
  "kernelspec": {
   "display_name": "Python 3",
   "language": "python",
   "name": "python3"
  },
  "language_info": {
   "codemirror_mode": {
    "name": "ipython",
    "version": 2
   },
   "file_extension": ".py",
   "mimetype": "text/x-python",
   "name": "python",
   "nbconvert_exporter": "python",
   "pygments_lexer": "ipython2",
   "version": "2.7.6"
  }
 },
 "nbformat": 4,
 "nbformat_minor": 5
}

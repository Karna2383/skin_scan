{
 "cells": [
  {
   "cell_type": "code",
   "execution_count": null,
   "id": "initial_id",
   "metadata": {
    "collapsed": true
   },
   "outputs": [],
   "source": [
    "from tensorflow.keras.layers import Input, Dense, Conv2D, MaxPooling2D, Flatten, Dropout, concatenate\n",
    "from tensorflow.keras.models import Model\n",
    "\n",
    "# Image branch\n",
    "image_input = Input(shape=(224, 224, 3))\n",
    "x = Conv2D(32, (3,3), activation='relu')(image_input)\n",
    "x = MaxPooling2D(2,2)(x)\n",
    "x = Conv2D(64, (3,3), activation='relu')(x)\n",
    "x = MaxPooling2D(2,2)(x)\n",
    "x = Flatten()(x)\n",
    "x = Dense(128, activation='relu')(x)\n",
    "x = Dropout(0.5)(x)\n",
    "\n",
    "# Metadata branch\n",
    "meta_input = Input(shape=(X_metadata.shape[1],))\n",
    "y = Dense(32, activation='relu')(meta_input)\n",
    "y = Dense(16, activation='relu')(y)\n",
    "\n",
    "# Merge branches\n",
    "combined = concatenate([x, y])\n",
    "z = Dense(64, activation='relu')(combined)\n",
    "output = Dense(num_classes, activation='softmax')(z)\n",
    "\n",
    "model = Model(inputs=[image_input, meta_input], outputs=output)"
   ]
  }
 ],
 "metadata": {
  "kernelspec": {
   "display_name": "Python 3",
   "language": "python",
   "name": "python3"
  },
  "language_info": {
   "codemirror_mode": {
    "name": "ipython",
    "version": 2
   },
   "file_extension": ".py",
   "mimetype": "text/x-python",
   "name": "python",
   "nbconvert_exporter": "python",
   "pygments_lexer": "ipython2",
   "version": "2.7.6"
  }
 },
 "nbformat": 4,
 "nbformat_minor": 5
}

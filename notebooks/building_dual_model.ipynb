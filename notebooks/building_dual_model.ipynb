{
 "cells": [
  {
   "cell_type": "code",
   "id": "initial_id",
   "metadata": {
    "collapsed": true,
    "ExecuteTime": {
     "end_time": "2025-06-05T13:55:50.155588Z",
     "start_time": "2025-06-05T13:55:45.628914Z"
    }
   },
   "source": [
    "from tensorflow.keras.layers import Input, Dense, Conv2D, MaxPooling2D, Flatten, Dropout, concatenate\n",
    "from tensorflow.keras.models import Model\n",
    "\n"
   ],
   "outputs": [
    {
     "ename": "AttributeError",
     "evalue": "'MessageFactory' object has no attribute 'GetPrototype'",
     "output_type": "error",
     "traceback": [
      "\u001B[31m---------------------------------------------------------------------------\u001B[39m",
      "\u001B[31mAttributeError\u001B[39m                            Traceback (most recent call last)",
      "\u001B[31mAttributeError\u001B[39m: 'MessageFactory' object has no attribute 'GetPrototype'"
     ]
    },
    {
     "ename": "AttributeError",
     "evalue": "'MessageFactory' object has no attribute 'GetPrototype'",
     "output_type": "error",
     "traceback": [
      "\u001B[31m---------------------------------------------------------------------------\u001B[39m",
      "\u001B[31mAttributeError\u001B[39m                            Traceback (most recent call last)",
      "\u001B[31mAttributeError\u001B[39m: 'MessageFactory' object has no attribute 'GetPrototype'"
     ]
    },
    {
     "ename": "AttributeError",
     "evalue": "'MessageFactory' object has no attribute 'GetPrototype'",
     "output_type": "error",
     "traceback": [
      "\u001B[31m---------------------------------------------------------------------------\u001B[39m",
      "\u001B[31mAttributeError\u001B[39m                            Traceback (most recent call last)",
      "\u001B[31mAttributeError\u001B[39m: 'MessageFactory' object has no attribute 'GetPrototype'"
     ]
    },
    {
     "ename": "AttributeError",
     "evalue": "'MessageFactory' object has no attribute 'GetPrototype'",
     "output_type": "error",
     "traceback": [
      "\u001B[31m---------------------------------------------------------------------------\u001B[39m",
      "\u001B[31mAttributeError\u001B[39m                            Traceback (most recent call last)",
      "\u001B[31mAttributeError\u001B[39m: 'MessageFactory' object has no attribute 'GetPrototype'"
     ]
    },
    {
     "ename": "AttributeError",
     "evalue": "'MessageFactory' object has no attribute 'GetPrototype'",
     "output_type": "error",
     "traceback": [
      "\u001B[31m---------------------------------------------------------------------------\u001B[39m",
      "\u001B[31mAttributeError\u001B[39m                            Traceback (most recent call last)",
      "\u001B[31mAttributeError\u001B[39m: 'MessageFactory' object has no attribute 'GetPrototype'"
     ]
    }
   ],
   "execution_count": 1
  },
  {
   "metadata": {
    "ExecuteTime": {
     "end_time": "2025-06-05T13:55:50.168370Z",
     "start_time": "2025-06-05T13:55:50.166483Z"
    }
   },
   "cell_type": "code",
   "source": "",
   "id": "4467195ef1343590",
   "outputs": [],
   "execution_count": null
  },
  {
   "metadata": {},
   "cell_type": "markdown",
   "source": [
    "# Dual Model Example\n",
    "\n",
    "```python\n",
    "# Image branch\n",
    "image_input = Input(shape=(224, 224, 3))\n",
    "x = Conv2D(32, (3,3), activation='relu')(image_input)\n",
    "x = MaxPooling2D(2,2)(x)\n",
    "x = Conv2D(64, (3,3), activation='relu')(x)\n",
    "x = MaxPooling2D(2,2)(x)\n",
    "x = Flatten()(x)\n",
    "x = Dense(128, activation='relu')(x)\n",
    "x = Dropout(0.5)(x)\n",
    "\n",
    "# Metadata branch\n",
    "meta_input = Input(shape=(X_metadata.shape[1],))\n",
    "y = Dense(32, activation='relu')(meta_input)\n",
    "y = Dense(16, activation='relu')(y)\n",
    "\n",
    "# Merge branches\n",
    "combined = concatenate([x, y])\n",
    "z = Dense(64, activation='relu')(combined)\n",
    "output = Dense(num_classes, activation='softmax')(z)\n",
    "\n",
    "model = Model(inputs=[image_input, meta_input], outputs=output) ```\n"
   ],
   "id": "c82a46def805dea1"
  },
  {
   "metadata": {
    "ExecuteTime": {
     "end_time": "2025-06-05T13:59:59.780266Z",
     "start_time": "2025-06-05T13:59:59.744308Z"
    }
   },
   "cell_type": "code",
   "source": [
    "# Image Branch\n",
    "image_input =  Input(shape=(96, 96, 3))\n",
    "cnn = Conv2D(16, (3,3), activation='relu')(image_input)\n",
    "cnn = MaxPooling2D(pool_size=(2,2))(cnn)\n",
    "cnn = MaxPooling2D(2,2)(cnn)\n",
    "cnn = Conv2D(32, (3,3), activation='relu')(cnn)\n",
    "cnn = MaxPooling2D(2,2)(cnn)\n",
    "cnn = Flatten()(cnn)\n",
    "cnn = Dense(64, activation='relu')(cnn)\n",
    "\n",
    "# Metadata Branch\n",
    "meta_input = Input(shape=(15,))\n",
    "dln = Dense(32, activation='relu')(meta_input)\n",
    "dln = Dense(16, activation='relu')(dln)\n",
    "\n",
    "# Combined Final Layers\n",
    "combined_layers = concatenate([dln, meta_input])\n",
    "final_layers = Dense(32)(combined_layers)\n",
    "final_layers = Dense(7, activation='softmax')(final_layers)\n"
   ],
   "id": "6911ce99a780e950",
   "outputs": [],
   "execution_count": 6
  },
  {
   "metadata": {},
   "cell_type": "markdown",
   "source": [
    "# TESTING\n",
    "\n",
    "import os, sys\n",
    "\n",
    "# Add parent directory to Python path\n",
    "sys.path.append(os.path.abspath(\"..\"))\n",
    "\n",
    "import preprocessing as prep\n",
    "\n",
    "data = pd.read_csv('/Users/charlessaunders/code/Chapungu/skin_scan/raw_data/archive/HAM10000_metadata.csv')p"
   ],
   "id": "81a028daf8be5760"
  },
  {
   "metadata": {
    "ExecuteTime": {
     "end_time": "2025-06-05T14:08:52.927198Z",
     "start_time": "2025-06-05T14:08:52.499532Z"
    }
   },
   "cell_type": "code",
   "source": [
    "# TESTING\n",
    "\n",
    "import pandas as pd\n",
    "import os, sys\n",
    "\n",
    "# Add parent directory to Python path\n",
    "sys.path.append(os.path.abspath(\"..\"))\n",
    "\n",
    "import preprocessing as prep\n",
    "\n",
    "data = pd.read_csv('/Users/charlessaunders/code/Chapungu/skin_scan/raw_data/archive/HAM10000_metadata.csv')"
   ],
   "id": "84fb8bd38f5e1a29",
   "outputs": [],
   "execution_count": 7
  },
  {
   "metadata": {
    "ExecuteTime": {
     "end_time": "2025-06-05T14:11:20.453790Z",
     "start_time": "2025-06-05T14:11:20.429187Z"
    }
   },
   "cell_type": "code",
   "source": "X, y = prep.preprocess_metadata(data)",
   "id": "5153d03990bacd9f",
   "outputs": [],
   "execution_count": 8
  },
  {
   "metadata": {
    "ExecuteTime": {
     "end_time": "2025-06-05T14:13:35.276582Z",
     "start_time": "2025-06-05T14:13:35.256411Z"
    }
   },
   "cell_type": "code",
   "source": [
    "images = X[['passthrough__image_id']]\n",
    "\n",
    "images.head()"
   ],
   "id": "1aee10bc430a54a7",
   "outputs": [
    {
     "data": {
      "text/plain": [
       "  passthrough__image_id\n",
       "0          ISIC_0027419\n",
       "1          ISIC_0025030\n",
       "2          ISIC_0026769\n",
       "3          ISIC_0025661\n",
       "4          ISIC_0031633"
      ],
      "text/html": [
       "<div>\n",
       "<style scoped>\n",
       "    .dataframe tbody tr th:only-of-type {\n",
       "        vertical-align: middle;\n",
       "    }\n",
       "\n",
       "    .dataframe tbody tr th {\n",
       "        vertical-align: top;\n",
       "    }\n",
       "\n",
       "    .dataframe thead th {\n",
       "        text-align: right;\n",
       "    }\n",
       "</style>\n",
       "<table border=\"1\" class=\"dataframe\">\n",
       "  <thead>\n",
       "    <tr style=\"text-align: right;\">\n",
       "      <th></th>\n",
       "      <th>passthrough__image_id</th>\n",
       "    </tr>\n",
       "  </thead>\n",
       "  <tbody>\n",
       "    <tr>\n",
       "      <th>0</th>\n",
       "      <td>ISIC_0027419</td>\n",
       "    </tr>\n",
       "    <tr>\n",
       "      <th>1</th>\n",
       "      <td>ISIC_0025030</td>\n",
       "    </tr>\n",
       "    <tr>\n",
       "      <th>2</th>\n",
       "      <td>ISIC_0026769</td>\n",
       "    </tr>\n",
       "    <tr>\n",
       "      <th>3</th>\n",
       "      <td>ISIC_0025661</td>\n",
       "    </tr>\n",
       "    <tr>\n",
       "      <th>4</th>\n",
       "      <td>ISIC_0031633</td>\n",
       "    </tr>\n",
       "  </tbody>\n",
       "</table>\n",
       "</div>"
      ]
     },
     "execution_count": 9,
     "metadata": {},
     "output_type": "execute_result"
    }
   ],
   "execution_count": 9
  }
 ],
 "metadata": {
  "kernelspec": {
   "display_name": "Python 3",
   "language": "python",
   "name": "python3"
  },
  "language_info": {
   "codemirror_mode": {
    "name": "ipython",
    "version": 2
   },
   "file_extension": ".py",
   "mimetype": "text/x-python",
   "name": "python",
   "nbconvert_exporter": "python",
   "pygments_lexer": "ipython2",
   "version": "2.7.6"
  }
 },
 "nbformat": 4,
 "nbformat_minor": 5
}

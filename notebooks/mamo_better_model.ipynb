{
 "cells": [
  {
   "cell_type": "code",
   "execution_count": 1,
   "id": "4a21ffd0-21fd-47c1-8b5a-32c2d231aec6",
   "metadata": {
    "execution": {
     "iopub.execute_input": "2025-06-03T15:39:29.293018Z",
     "iopub.status.busy": "2025-06-03T15:39:29.291955Z",
     "iopub.status.idle": "2025-06-03T15:39:29.297839Z",
     "shell.execute_reply": "2025-06-03T15:39:29.296626Z",
     "shell.execute_reply.started": "2025-06-03T15:39:29.292983Z"
    }
   },
   "outputs": [],
   "source": [
    "import warnings\n",
    "warnings.filterwarnings('ignore')"
   ]
  },
  {
   "cell_type": "code",
   "execution_count": 4,
   "id": "1b6dd2d1-7bda-4554-8f69-fc56872bede3",
   "metadata": {
    "execution": {
     "iopub.execute_input": "2025-06-03T15:40:21.406861Z",
     "iopub.status.busy": "2025-06-03T15:40:21.406520Z",
     "iopub.status.idle": "2025-06-03T15:40:21.415274Z",
     "shell.execute_reply": "2025-06-03T15:40:21.414183Z",
     "shell.execute_reply.started": "2025-06-03T15:40:21.406840Z"
    }
   },
   "outputs": [],
   "source": [
    "import pandas as pd\n",
    "from google.cloud import bigquery\n",
    "import tensorflow as tf\n",
    "import numpy as np\n",
    "import matplotlib.pyplot as plt\n",
    "import os\n",
    "from google.cloud import storage\n",
    "from tensorflow.keras import callbacks\n",
    "from tensorflow.keras import Sequential, Input, layers\n",
    "from tensorflow.keras import optimizers\n",
    "from tensorflow.keras.callbacks import EarlyStopping"
   ]
  },
  {
   "cell_type": "code",
   "execution_count": null,
   "id": "0992ee69-56bf-4cd1-8b03-dfc6a185013e",
   "metadata": {},
   "outputs": [],
   "source": [
    "# Cloud Storage\n",
    "BUCKET_NAME=skin_scan_mohnatz"
   ]
  },
  {
   "cell_type": "code",
   "execution_count": null,
   "id": "779f14ee-3c34-42a0-a646-437a8b409e1c",
   "metadata": {},
   "outputs": [],
   "source": [
    "def get_data_from_buckets(\n",
    "        gcp_project:str,\n",
    "        bucket_name:str\n",
    "    ) -> pd.DataFrame:\n",
    "    \"\"\"\n",
    "    Retrieve `query` data from BigQuery\n",
    "    \"\"\"\n",
    "    client = bigquery.Client(project=gcp_project)\n",
    "    query_job = client.query(query)\n",
    "    result = query_job.result()\n",
    "    df = result.to_dataframe()\n",
    "    df = df.astype(\"float64\")"
   ]
  }
 ],
 "metadata": {
  "kernelspec": {
   "display_name": "Python 3 (ipykernel)",
   "language": "python",
   "name": "python3"
  },
  "language_info": {
   "codemirror_mode": {
    "name": "ipython",
    "version": 3
   },
   "file_extension": ".py",
   "mimetype": "text/x-python",
   "name": "python",
   "nbconvert_exporter": "python",
   "pygments_lexer": "ipython3",
   "version": "3.12.9"
  }
 },
 "nbformat": 4,
 "nbformat_minor": 5
}

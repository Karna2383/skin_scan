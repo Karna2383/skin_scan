{
 "cells": [
  {
   "cell_type": "code",
   "execution_count": 1,
   "id": "4a21ffd0-21fd-47c1-8b5a-32c2d231aec6",
   "metadata": {
    "execution": {
     "iopub.execute_input": "2025-06-04T16:13:49.193386Z",
     "iopub.status.busy": "2025-06-04T16:13:49.192231Z",
     "iopub.status.idle": "2025-06-04T16:13:49.199851Z",
     "shell.execute_reply": "2025-06-04T16:13:49.198490Z",
     "shell.execute_reply.started": "2025-06-04T16:13:49.193343Z"
    }
   },
   "outputs": [],
   "source": [
    "import warnings\n",
    "warnings.filterwarnings('ignore')"
   ]
  },
  {
   "cell_type": "code",
   "execution_count": 2,
   "id": "1b6dd2d1-7bda-4554-8f69-fc56872bede3",
   "metadata": {
    "execution": {
     "iopub.execute_input": "2025-06-04T16:13:49.712602Z",
     "iopub.status.busy": "2025-06-04T16:13:49.712212Z",
     "iopub.status.idle": "2025-06-04T16:13:57.549809Z",
     "shell.execute_reply": "2025-06-04T16:13:57.549023Z",
     "shell.execute_reply.started": "2025-06-04T16:13:49.712575Z"
    }
   },
   "outputs": [
    {
     "name": "stderr",
     "output_type": "stream",
     "text": [
      "2025-06-04 17:13:51.614073: I tensorflow/core/util/port.cc:153] oneDNN custom operations are on. You may see slightly different numerical results due to floating-point round-off errors from different computation orders. To turn them off, set the environment variable `TF_ENABLE_ONEDNN_OPTS=0`.\n",
      "2025-06-04 17:13:51.634491: I external/local_xla/xla/tsl/cuda/cudart_stub.cc:32] Could not find cuda drivers on your machine, GPU will not be used.\n",
      "2025-06-04 17:13:51.785257: I external/local_xla/xla/tsl/cuda/cudart_stub.cc:32] Could not find cuda drivers on your machine, GPU will not be used.\n",
      "2025-06-04 17:13:51.902095: E external/local_xla/xla/stream_executor/cuda/cuda_fft.cc:467] Unable to register cuFFT factory: Attempting to register factory for plugin cuFFT when one has already been registered\n",
      "WARNING: All log messages before absl::InitializeLog() is called are written to STDERR\n",
      "E0000 00:00:1749053632.005157  101038 cuda_dnn.cc:8579] Unable to register cuDNN factory: Attempting to register factory for plugin cuDNN when one has already been registered\n",
      "E0000 00:00:1749053632.035131  101038 cuda_blas.cc:1407] Unable to register cuBLAS factory: Attempting to register factory for plugin cuBLAS when one has already been registered\n",
      "W0000 00:00:1749053632.252054  101038 computation_placer.cc:177] computation placer already registered. Please check linkage and avoid linking the same target more than once.\n",
      "W0000 00:00:1749053632.252900  101038 computation_placer.cc:177] computation placer already registered. Please check linkage and avoid linking the same target more than once.\n",
      "W0000 00:00:1749053632.252902  101038 computation_placer.cc:177] computation placer already registered. Please check linkage and avoid linking the same target more than once.\n",
      "W0000 00:00:1749053632.252903  101038 computation_placer.cc:177] computation placer already registered. Please check linkage and avoid linking the same target more than once.\n",
      "2025-06-04 17:13:52.278419: I tensorflow/core/platform/cpu_feature_guard.cc:210] This TensorFlow binary is optimized to use available CPU instructions in performance-critical operations.\n",
      "To enable the following instructions: AVX2 AVX_VNNI FMA, in other operations, rebuild TensorFlow with the appropriate compiler flags.\n"
     ]
    }
   ],
   "source": [
    "import pandas as pd\n",
    "from google.cloud import bigquery\n",
    "import tensorflow as tf\n",
    "import numpy as np\n",
    "import matplotlib.pyplot as plt\n",
    "import os\n",
    "from google.cloud import storage\n",
    "from tensorflow.keras import callbacks\n",
    "from tensorflow.keras import Sequential, Input, layers\n",
    "from tensorflow.keras import optimizers\n",
    "from tensorflow.keras.callbacks import EarlyStopping"
   ]
  },
  {
   "cell_type": "code",
   "execution_count": 3,
   "id": "0992ee69-56bf-4cd1-8b03-dfc6a185013e",
   "metadata": {
    "execution": {
     "iopub.execute_input": "2025-06-04T16:13:59.109985Z",
     "iopub.status.busy": "2025-06-04T16:13:59.109230Z",
     "iopub.status.idle": "2025-06-04T16:13:59.115692Z",
     "shell.execute_reply": "2025-06-04T16:13:59.114627Z",
     "shell.execute_reply.started": "2025-06-04T16:13:59.109955Z"
    }
   },
   "outputs": [],
   "source": [
    "# Cloud Storage\n",
    "BUCKET_NAME=\"skin_scan_mohnatz\""
   ]
  },
  {
   "cell_type": "code",
   "execution_count": 4,
   "id": "85885d34-ac4d-4ed7-93c6-1da202d5f35a",
   "metadata": {
    "execution": {
     "iopub.execute_input": "2025-06-04T16:14:00.890197Z",
     "iopub.status.busy": "2025-06-04T16:14:00.889802Z",
     "iopub.status.idle": "2025-06-04T16:14:00.894537Z",
     "shell.execute_reply": "2025-06-04T16:14:00.893446Z",
     "shell.execute_reply.started": "2025-06-04T16:14:00.890178Z"
    }
   },
   "outputs": [],
   "source": [
    "def get_data_from_bq(\n",
    "        gcp_project:str,\n",
    "        query:str,\n",
    "        data_has_header=True\n",
    "    ) -> pd.DataFrame:\n",
    "    \"\"\"\n",
    "    Retrieve `query` data from BigQuery\n",
    "    \"\"\"\n",
    "    client = bigquery.Client(project=gcp_project)\n",
    "    query_job = client.query(query)\n",
    "    result = query_job.result()\n",
    "    df = result.to_dataframe()\n",
    "    return df\n",
    "\n",
    "GCP_PROJECT = \"skin-scan-461716\"\n",
    "BQ_DATASET = \"skin_scan\"\n",
    "\n",
    "query_28 = f\"\"\"\n",
    "        SELECT *\n",
    "        FROM `{GCP_PROJECT}`.{BQ_DATASET}.train_28_28\n",
    "    \"\"\""
   ]
  },
  {
   "cell_type": "code",
   "execution_count": 5,
   "id": "1be04138-7a65-4980-adaf-fa00f153aba5",
   "metadata": {
    "execution": {
     "iopub.execute_input": "2025-06-04T16:14:04.126362Z",
     "iopub.status.busy": "2025-06-04T16:14:04.125910Z",
     "iopub.status.idle": "2025-06-04T16:14:12.836390Z",
     "shell.execute_reply": "2025-06-04T16:14:12.834798Z",
     "shell.execute_reply.started": "2025-06-04T16:14:04.126335Z"
    }
   },
   "outputs": [],
   "source": [
    "data = get_data_from_bq(f\"{GCP_PROJECT}\", query_28)\n",
    "data = data.astype(\"float64\")"
   ]
  },
  {
   "cell_type": "code",
   "execution_count": 6,
   "id": "9f1a5611-51c3-4761-85a2-a7a65920c46b",
   "metadata": {
    "execution": {
     "iopub.execute_input": "2025-06-04T16:14:12.838534Z",
     "iopub.status.busy": "2025-06-04T16:14:12.838133Z",
     "iopub.status.idle": "2025-06-04T16:14:12.843334Z",
     "shell.execute_reply": "2025-06-04T16:14:12.842448Z",
     "shell.execute_reply.started": "2025-06-04T16:14:12.838509Z"
    }
   },
   "outputs": [],
   "source": [
    "query_metadata = f\"\"\"\n",
    "        SELECT *\n",
    "        FROM `{GCP_PROJECT}`.{BQ_DATASET}.train_metadata\n",
    "    \"\"\""
   ]
  },
  {
   "cell_type": "code",
   "execution_count": 7,
   "id": "4328e974-1ab0-4188-afa7-fdb2c4791698",
   "metadata": {
    "execution": {
     "iopub.execute_input": "2025-06-04T16:14:12.847789Z",
     "iopub.status.busy": "2025-06-04T16:14:12.847522Z",
     "iopub.status.idle": "2025-06-04T16:14:14.621198Z",
     "shell.execute_reply": "2025-06-04T16:14:14.619461Z",
     "shell.execute_reply.started": "2025-06-04T16:14:12.847774Z"
    }
   },
   "outputs": [],
   "source": [
    "metadata = get_data_from_bq(f\"{GCP_PROJECT}\", query_metadata)"
   ]
  },
  {
   "cell_type": "code",
   "execution_count": 8,
   "id": "e66ef9c6-17e4-41e0-a54e-7984b5d977ec",
   "metadata": {
    "execution": {
     "iopub.execute_input": "2025-06-04T16:14:16.374841Z",
     "iopub.status.busy": "2025-06-04T16:14:16.374010Z",
     "iopub.status.idle": "2025-06-04T16:14:16.452971Z",
     "shell.execute_reply": "2025-06-04T16:14:16.452248Z",
     "shell.execute_reply.started": "2025-06-04T16:14:16.374802Z"
    }
   },
   "outputs": [
    {
     "data": {
      "text/html": [
       "<div>\n",
       "<style scoped>\n",
       "    .dataframe tbody tr th:only-of-type {\n",
       "        vertical-align: middle;\n",
       "    }\n",
       "\n",
       "    .dataframe tbody tr th {\n",
       "        vertical-align: top;\n",
       "    }\n",
       "\n",
       "    .dataframe thead th {\n",
       "        text-align: right;\n",
       "    }\n",
       "</style>\n",
       "<table border=\"1\" class=\"dataframe\">\n",
       "  <thead>\n",
       "    <tr style=\"text-align: right;\">\n",
       "      <th></th>\n",
       "      <th>pixel0000</th>\n",
       "      <th>pixel0001</th>\n",
       "      <th>pixel0002</th>\n",
       "      <th>pixel0003</th>\n",
       "      <th>pixel0004</th>\n",
       "      <th>pixel0005</th>\n",
       "      <th>pixel0006</th>\n",
       "      <th>pixel0007</th>\n",
       "      <th>pixel0008</th>\n",
       "      <th>pixel0009</th>\n",
       "      <th>...</th>\n",
       "      <th>pixel2344</th>\n",
       "      <th>pixel2345</th>\n",
       "      <th>pixel2346</th>\n",
       "      <th>pixel2347</th>\n",
       "      <th>pixel2348</th>\n",
       "      <th>pixel2349</th>\n",
       "      <th>pixel2350</th>\n",
       "      <th>pixel2351</th>\n",
       "      <th>label</th>\n",
       "      <th>index</th>\n",
       "    </tr>\n",
       "  </thead>\n",
       "  <tbody>\n",
       "    <tr>\n",
       "      <th>0</th>\n",
       "      <td>3.0</td>\n",
       "      <td>1.0</td>\n",
       "      <td>6.0</td>\n",
       "      <td>3.0</td>\n",
       "      <td>1.0</td>\n",
       "      <td>6.0</td>\n",
       "      <td>2.0</td>\n",
       "      <td>1.0</td>\n",
       "      <td>6.0</td>\n",
       "      <td>4.0</td>\n",
       "      <td>...</td>\n",
       "      <td>63.0</td>\n",
       "      <td>82.0</td>\n",
       "      <td>61.0</td>\n",
       "      <td>56.0</td>\n",
       "      <td>76.0</td>\n",
       "      <td>56.0</td>\n",
       "      <td>52.0</td>\n",
       "      <td>70.0</td>\n",
       "      <td>2.0</td>\n",
       "      <td>529.0</td>\n",
       "    </tr>\n",
       "    <tr>\n",
       "      <th>1</th>\n",
       "      <td>0.0</td>\n",
       "      <td>0.0</td>\n",
       "      <td>0.0</td>\n",
       "      <td>0.0</td>\n",
       "      <td>0.0</td>\n",
       "      <td>0.0</td>\n",
       "      <td>0.0</td>\n",
       "      <td>0.0</td>\n",
       "      <td>0.0</td>\n",
       "      <td>1.0</td>\n",
       "      <td>...</td>\n",
       "      <td>60.0</td>\n",
       "      <td>69.0</td>\n",
       "      <td>95.0</td>\n",
       "      <td>79.0</td>\n",
       "      <td>99.0</td>\n",
       "      <td>79.0</td>\n",
       "      <td>62.0</td>\n",
       "      <td>73.0</td>\n",
       "      <td>2.0</td>\n",
       "      <td>921.0</td>\n",
       "    </tr>\n",
       "    <tr>\n",
       "      <th>2</th>\n",
       "      <td>0.0</td>\n",
       "      <td>0.0</td>\n",
       "      <td>0.0</td>\n",
       "      <td>0.0</td>\n",
       "      <td>0.0</td>\n",
       "      <td>0.0</td>\n",
       "      <td>0.0</td>\n",
       "      <td>0.0</td>\n",
       "      <td>0.0</td>\n",
       "      <td>3.0</td>\n",
       "      <td>...</td>\n",
       "      <td>1.0</td>\n",
       "      <td>2.0</td>\n",
       "      <td>1.0</td>\n",
       "      <td>1.0</td>\n",
       "      <td>2.0</td>\n",
       "      <td>0.0</td>\n",
       "      <td>0.0</td>\n",
       "      <td>0.0</td>\n",
       "      <td>6.0</td>\n",
       "      <td>1813.0</td>\n",
       "    </tr>\n",
       "    <tr>\n",
       "      <th>3</th>\n",
       "      <td>0.0</td>\n",
       "      <td>0.0</td>\n",
       "      <td>0.0</td>\n",
       "      <td>0.0</td>\n",
       "      <td>0.0</td>\n",
       "      <td>0.0</td>\n",
       "      <td>0.0</td>\n",
       "      <td>0.0</td>\n",
       "      <td>0.0</td>\n",
       "      <td>4.0</td>\n",
       "      <td>...</td>\n",
       "      <td>1.0</td>\n",
       "      <td>4.0</td>\n",
       "      <td>3.0</td>\n",
       "      <td>1.0</td>\n",
       "      <td>3.0</td>\n",
       "      <td>0.0</td>\n",
       "      <td>0.0</td>\n",
       "      <td>0.0</td>\n",
       "      <td>4.0</td>\n",
       "      <td>7811.0</td>\n",
       "    </tr>\n",
       "    <tr>\n",
       "      <th>4</th>\n",
       "      <td>0.0</td>\n",
       "      <td>0.0</td>\n",
       "      <td>0.0</td>\n",
       "      <td>0.0</td>\n",
       "      <td>0.0</td>\n",
       "      <td>0.0</td>\n",
       "      <td>1.0</td>\n",
       "      <td>1.0</td>\n",
       "      <td>1.0</td>\n",
       "      <td>2.0</td>\n",
       "      <td>...</td>\n",
       "      <td>2.0</td>\n",
       "      <td>2.0</td>\n",
       "      <td>1.0</td>\n",
       "      <td>1.0</td>\n",
       "      <td>1.0</td>\n",
       "      <td>0.0</td>\n",
       "      <td>0.0</td>\n",
       "      <td>0.0</td>\n",
       "      <td>4.0</td>\n",
       "      <td>7214.0</td>\n",
       "    </tr>\n",
       "  </tbody>\n",
       "</table>\n",
       "<p>5 rows × 2354 columns</p>\n",
       "</div>"
      ],
      "text/plain": [
       "   pixel0000  pixel0001  pixel0002  pixel0003  pixel0004  pixel0005  \\\n",
       "0        3.0        1.0        6.0        3.0        1.0        6.0   \n",
       "1        0.0        0.0        0.0        0.0        0.0        0.0   \n",
       "2        0.0        0.0        0.0        0.0        0.0        0.0   \n",
       "3        0.0        0.0        0.0        0.0        0.0        0.0   \n",
       "4        0.0        0.0        0.0        0.0        0.0        0.0   \n",
       "\n",
       "   pixel0006  pixel0007  pixel0008  pixel0009  ...  pixel2344  pixel2345  \\\n",
       "0        2.0        1.0        6.0        4.0  ...       63.0       82.0   \n",
       "1        0.0        0.0        0.0        1.0  ...       60.0       69.0   \n",
       "2        0.0        0.0        0.0        3.0  ...        1.0        2.0   \n",
       "3        0.0        0.0        0.0        4.0  ...        1.0        4.0   \n",
       "4        1.0        1.0        1.0        2.0  ...        2.0        2.0   \n",
       "\n",
       "   pixel2346  pixel2347  pixel2348  pixel2349  pixel2350  pixel2351  label  \\\n",
       "0       61.0       56.0       76.0       56.0       52.0       70.0    2.0   \n",
       "1       95.0       79.0       99.0       79.0       62.0       73.0    2.0   \n",
       "2        1.0        1.0        2.0        0.0        0.0        0.0    6.0   \n",
       "3        3.0        1.0        3.0        0.0        0.0        0.0    4.0   \n",
       "4        1.0        1.0        1.0        0.0        0.0        0.0    4.0   \n",
       "\n",
       "    index  \n",
       "0   529.0  \n",
       "1   921.0  \n",
       "2  1813.0  \n",
       "3  7811.0  \n",
       "4  7214.0  \n",
       "\n",
       "[5 rows x 2354 columns]"
      ]
     },
     "execution_count": 8,
     "metadata": {},
     "output_type": "execute_result"
    }
   ],
   "source": [
    "data.head()"
   ]
  },
  {
   "cell_type": "code",
   "execution_count": 9,
   "id": "2d2a3b6a-6000-42e4-8775-657cdf839e53",
   "metadata": {
    "execution": {
     "iopub.execute_input": "2025-06-04T16:14:18.349304Z",
     "iopub.status.busy": "2025-06-04T16:14:18.347820Z",
     "iopub.status.idle": "2025-06-04T16:14:18.675215Z",
     "shell.execute_reply": "2025-06-04T16:14:18.674175Z",
     "shell.execute_reply.started": "2025-06-04T16:14:18.349255Z"
    }
   },
   "outputs": [],
   "source": [
    "data.sort_values(by=\"index\",inplace=True)\n",
    "data.drop(columns=[\"index\",\"label\"],inplace=True)\n",
    "data.reset_index(drop=True,inplace=True)\n",
    "data = data/255"
   ]
  },
  {
   "cell_type": "code",
   "execution_count": 10,
   "id": "36bb2c38-64ed-41a5-9b1a-f41ae6246e17",
   "metadata": {
    "execution": {
     "iopub.execute_input": "2025-06-04T16:14:18.756332Z",
     "iopub.status.busy": "2025-06-04T16:14:18.755671Z",
     "iopub.status.idle": "2025-06-04T16:14:18.792356Z",
     "shell.execute_reply": "2025-06-04T16:14:18.791140Z",
     "shell.execute_reply.started": "2025-06-04T16:14:18.756294Z"
    }
   },
   "outputs": [
    {
     "data": {
      "text/html": [
       "<div>\n",
       "<style scoped>\n",
       "    .dataframe tbody tr th:only-of-type {\n",
       "        vertical-align: middle;\n",
       "    }\n",
       "\n",
       "    .dataframe tbody tr th {\n",
       "        vertical-align: top;\n",
       "    }\n",
       "\n",
       "    .dataframe thead th {\n",
       "        text-align: right;\n",
       "    }\n",
       "</style>\n",
       "<table border=\"1\" class=\"dataframe\">\n",
       "  <thead>\n",
       "    <tr style=\"text-align: right;\">\n",
       "      <th></th>\n",
       "      <th>pixel0000</th>\n",
       "      <th>pixel0001</th>\n",
       "      <th>pixel0002</th>\n",
       "      <th>pixel0003</th>\n",
       "      <th>pixel0004</th>\n",
       "      <th>pixel0005</th>\n",
       "      <th>pixel0006</th>\n",
       "      <th>pixel0007</th>\n",
       "      <th>pixel0008</th>\n",
       "      <th>pixel0009</th>\n",
       "      <th>...</th>\n",
       "      <th>pixel2342</th>\n",
       "      <th>pixel2343</th>\n",
       "      <th>pixel2344</th>\n",
       "      <th>pixel2345</th>\n",
       "      <th>pixel2346</th>\n",
       "      <th>pixel2347</th>\n",
       "      <th>pixel2348</th>\n",
       "      <th>pixel2349</th>\n",
       "      <th>pixel2350</th>\n",
       "      <th>pixel2351</th>\n",
       "    </tr>\n",
       "  </thead>\n",
       "  <tbody>\n",
       "    <tr>\n",
       "      <th>0</th>\n",
       "      <td>0.752941</td>\n",
       "      <td>0.600000</td>\n",
       "      <td>0.756863</td>\n",
       "      <td>0.764706</td>\n",
       "      <td>0.607843</td>\n",
       "      <td>0.752941</td>\n",
       "      <td>0.772549</td>\n",
       "      <td>0.603922</td>\n",
       "      <td>0.725490</td>\n",
       "      <td>0.792157</td>\n",
       "      <td>...</td>\n",
       "      <td>0.525490</td>\n",
       "      <td>0.678431</td>\n",
       "      <td>0.486275</td>\n",
       "      <td>0.541176</td>\n",
       "      <td>0.717647</td>\n",
       "      <td>0.576471</td>\n",
       "      <td>0.650980</td>\n",
       "      <td>0.725490</td>\n",
       "      <td>0.603922</td>\n",
       "      <td>0.694118</td>\n",
       "    </tr>\n",
       "    <tr>\n",
       "      <th>1</th>\n",
       "      <td>0.098039</td>\n",
       "      <td>0.054902</td>\n",
       "      <td>0.117647</td>\n",
       "      <td>0.266667</td>\n",
       "      <td>0.188235</td>\n",
       "      <td>0.294118</td>\n",
       "      <td>0.482353</td>\n",
       "      <td>0.364706</td>\n",
       "      <td>0.494118</td>\n",
       "      <td>0.619608</td>\n",
       "      <td>...</td>\n",
       "      <td>0.321569</td>\n",
       "      <td>0.235294</td>\n",
       "      <td>0.152941</td>\n",
       "      <td>0.215686</td>\n",
       "      <td>0.098039</td>\n",
       "      <td>0.054902</td>\n",
       "      <td>0.109804</td>\n",
       "      <td>0.098039</td>\n",
       "      <td>0.054902</td>\n",
       "      <td>0.105882</td>\n",
       "    </tr>\n",
       "    <tr>\n",
       "      <th>2</th>\n",
       "      <td>0.752941</td>\n",
       "      <td>0.541176</td>\n",
       "      <td>0.600000</td>\n",
       "      <td>0.784314</td>\n",
       "      <td>0.568627</td>\n",
       "      <td>0.639216</td>\n",
       "      <td>0.788235</td>\n",
       "      <td>0.556863</td>\n",
       "      <td>0.627451</td>\n",
       "      <td>0.807843</td>\n",
       "      <td>...</td>\n",
       "      <td>0.584314</td>\n",
       "      <td>0.654902</td>\n",
       "      <td>0.505882</td>\n",
       "      <td>0.560784</td>\n",
       "      <td>0.623529</td>\n",
       "      <td>0.486275</td>\n",
       "      <td>0.556863</td>\n",
       "      <td>0.533333</td>\n",
       "      <td>0.407843</td>\n",
       "      <td>0.458824</td>\n",
       "    </tr>\n",
       "    <tr>\n",
       "      <th>3</th>\n",
       "      <td>0.149020</td>\n",
       "      <td>0.074510</td>\n",
       "      <td>0.117647</td>\n",
       "      <td>0.372549</td>\n",
       "      <td>0.231373</td>\n",
       "      <td>0.282353</td>\n",
       "      <td>0.560784</td>\n",
       "      <td>0.403922</td>\n",
       "      <td>0.466667</td>\n",
       "      <td>0.670588</td>\n",
       "      <td>...</td>\n",
       "      <td>0.286275</td>\n",
       "      <td>0.172549</td>\n",
       "      <td>0.101961</td>\n",
       "      <td>0.141176</td>\n",
       "      <td>0.098039</td>\n",
       "      <td>0.047059</td>\n",
       "      <td>0.066667</td>\n",
       "      <td>0.098039</td>\n",
       "      <td>0.047059</td>\n",
       "      <td>0.058824</td>\n",
       "    </tr>\n",
       "    <tr>\n",
       "      <th>4</th>\n",
       "      <td>0.619608</td>\n",
       "      <td>0.443137</td>\n",
       "      <td>0.545098</td>\n",
       "      <td>0.760784</td>\n",
       "      <td>0.564706</td>\n",
       "      <td>0.682353</td>\n",
       "      <td>0.843137</td>\n",
       "      <td>0.635294</td>\n",
       "      <td>0.749020</td>\n",
       "      <td>0.882353</td>\n",
       "      <td>...</td>\n",
       "      <td>0.788235</td>\n",
       "      <td>0.819608</td>\n",
       "      <td>0.650980</td>\n",
       "      <td>0.725490</td>\n",
       "      <td>0.674510</td>\n",
       "      <td>0.529412</td>\n",
       "      <td>0.584314</td>\n",
       "      <td>0.427451</td>\n",
       "      <td>0.305882</td>\n",
       "      <td>0.360784</td>\n",
       "    </tr>\n",
       "  </tbody>\n",
       "</table>\n",
       "<p>5 rows × 2352 columns</p>\n",
       "</div>"
      ],
      "text/plain": [
       "   pixel0000  pixel0001  pixel0002  pixel0003  pixel0004  pixel0005  \\\n",
       "0   0.752941   0.600000   0.756863   0.764706   0.607843   0.752941   \n",
       "1   0.098039   0.054902   0.117647   0.266667   0.188235   0.294118   \n",
       "2   0.752941   0.541176   0.600000   0.784314   0.568627   0.639216   \n",
       "3   0.149020   0.074510   0.117647   0.372549   0.231373   0.282353   \n",
       "4   0.619608   0.443137   0.545098   0.760784   0.564706   0.682353   \n",
       "\n",
       "   pixel0006  pixel0007  pixel0008  pixel0009  ...  pixel2342  pixel2343  \\\n",
       "0   0.772549   0.603922   0.725490   0.792157  ...   0.525490   0.678431   \n",
       "1   0.482353   0.364706   0.494118   0.619608  ...   0.321569   0.235294   \n",
       "2   0.788235   0.556863   0.627451   0.807843  ...   0.584314   0.654902   \n",
       "3   0.560784   0.403922   0.466667   0.670588  ...   0.286275   0.172549   \n",
       "4   0.843137   0.635294   0.749020   0.882353  ...   0.788235   0.819608   \n",
       "\n",
       "   pixel2344  pixel2345  pixel2346  pixel2347  pixel2348  pixel2349  \\\n",
       "0   0.486275   0.541176   0.717647   0.576471   0.650980   0.725490   \n",
       "1   0.152941   0.215686   0.098039   0.054902   0.109804   0.098039   \n",
       "2   0.505882   0.560784   0.623529   0.486275   0.556863   0.533333   \n",
       "3   0.101961   0.141176   0.098039   0.047059   0.066667   0.098039   \n",
       "4   0.650980   0.725490   0.674510   0.529412   0.584314   0.427451   \n",
       "\n",
       "   pixel2350  pixel2351  \n",
       "0   0.603922   0.694118  \n",
       "1   0.054902   0.105882  \n",
       "2   0.407843   0.458824  \n",
       "3   0.047059   0.058824  \n",
       "4   0.305882   0.360784  \n",
       "\n",
       "[5 rows x 2352 columns]"
      ]
     },
     "execution_count": 10,
     "metadata": {},
     "output_type": "execute_result"
    }
   ],
   "source": [
    "data.head()"
   ]
  },
  {
   "cell_type": "code",
   "execution_count": 11,
   "id": "224dde2b-0047-4d09-872f-9a4844820346",
   "metadata": {
    "execution": {
     "iopub.execute_input": "2025-06-04T16:14:20.403812Z",
     "iopub.status.busy": "2025-06-04T16:14:20.403301Z",
     "iopub.status.idle": "2025-06-04T16:14:20.417473Z",
     "shell.execute_reply": "2025-06-04T16:14:20.416420Z",
     "shell.execute_reply.started": "2025-06-04T16:14:20.403784Z"
    }
   },
   "outputs": [],
   "source": [
    "metadata.sort_values(by=\"index\",inplace=True)\n",
    "metadata.drop(columns=\"index\",inplace=True)\n",
    "metadata.reset_index(drop=True,inplace=True)"
   ]
  },
  {
   "cell_type": "code",
   "execution_count": 12,
   "id": "642d800d-01c2-4c80-8f32-e58a888dbcff",
   "metadata": {
    "execution": {
     "iopub.execute_input": "2025-06-04T16:14:21.405878Z",
     "iopub.status.busy": "2025-06-04T16:14:21.405462Z",
     "iopub.status.idle": "2025-06-04T16:14:21.422000Z",
     "shell.execute_reply": "2025-06-04T16:14:21.420601Z",
     "shell.execute_reply.started": "2025-06-04T16:14:21.405852Z"
    }
   },
   "outputs": [
    {
     "data": {
      "text/html": [
       "<div>\n",
       "<style scoped>\n",
       "    .dataframe tbody tr th:only-of-type {\n",
       "        vertical-align: middle;\n",
       "    }\n",
       "\n",
       "    .dataframe tbody tr th {\n",
       "        vertical-align: top;\n",
       "    }\n",
       "\n",
       "    .dataframe thead th {\n",
       "        text-align: right;\n",
       "    }\n",
       "</style>\n",
       "<table border=\"1\" class=\"dataframe\">\n",
       "  <thead>\n",
       "    <tr style=\"text-align: right;\">\n",
       "      <th></th>\n",
       "      <th>lesion_id</th>\n",
       "      <th>image_id</th>\n",
       "      <th>dx</th>\n",
       "      <th>dx_type</th>\n",
       "      <th>age</th>\n",
       "      <th>sex</th>\n",
       "      <th>localization</th>\n",
       "    </tr>\n",
       "  </thead>\n",
       "  <tbody>\n",
       "    <tr>\n",
       "      <th>0</th>\n",
       "      <td>HAM_0000118</td>\n",
       "      <td>ISIC_0027419</td>\n",
       "      <td>bkl</td>\n",
       "      <td>histo</td>\n",
       "      <td>80.0</td>\n",
       "      <td>male</td>\n",
       "      <td>scalp</td>\n",
       "    </tr>\n",
       "    <tr>\n",
       "      <th>1</th>\n",
       "      <td>HAM_0000118</td>\n",
       "      <td>ISIC_0025030</td>\n",
       "      <td>bkl</td>\n",
       "      <td>histo</td>\n",
       "      <td>80.0</td>\n",
       "      <td>male</td>\n",
       "      <td>scalp</td>\n",
       "    </tr>\n",
       "    <tr>\n",
       "      <th>2</th>\n",
       "      <td>HAM_0002730</td>\n",
       "      <td>ISIC_0026769</td>\n",
       "      <td>bkl</td>\n",
       "      <td>histo</td>\n",
       "      <td>80.0</td>\n",
       "      <td>male</td>\n",
       "      <td>scalp</td>\n",
       "    </tr>\n",
       "    <tr>\n",
       "      <th>3</th>\n",
       "      <td>HAM_0002730</td>\n",
       "      <td>ISIC_0025661</td>\n",
       "      <td>bkl</td>\n",
       "      <td>histo</td>\n",
       "      <td>80.0</td>\n",
       "      <td>male</td>\n",
       "      <td>scalp</td>\n",
       "    </tr>\n",
       "    <tr>\n",
       "      <th>4</th>\n",
       "      <td>HAM_0001466</td>\n",
       "      <td>ISIC_0031633</td>\n",
       "      <td>bkl</td>\n",
       "      <td>histo</td>\n",
       "      <td>75.0</td>\n",
       "      <td>male</td>\n",
       "      <td>ear</td>\n",
       "    </tr>\n",
       "  </tbody>\n",
       "</table>\n",
       "</div>"
      ],
      "text/plain": [
       "     lesion_id      image_id   dx dx_type   age   sex localization\n",
       "0  HAM_0000118  ISIC_0027419  bkl   histo  80.0  male        scalp\n",
       "1  HAM_0000118  ISIC_0025030  bkl   histo  80.0  male        scalp\n",
       "2  HAM_0002730  ISIC_0026769  bkl   histo  80.0  male        scalp\n",
       "3  HAM_0002730  ISIC_0025661  bkl   histo  80.0  male        scalp\n",
       "4  HAM_0001466  ISIC_0031633  bkl   histo  75.0  male          ear"
      ]
     },
     "execution_count": 12,
     "metadata": {},
     "output_type": "execute_result"
    }
   ],
   "source": [
    "metadata.head()"
   ]
  },
  {
   "cell_type": "code",
   "execution_count": null,
   "id": "01f599d7-9d06-42ad-bae8-e99175ae2064",
   "metadata": {},
   "outputs": [],
   "source": [
    "test_array = np.array(data.iloc[4,:])"
   ]
  },
  {
   "cell_type": "code",
   "execution_count": null,
   "id": "da3bf297-b021-413c-8988-f1b8f5531866",
   "metadata": {},
   "outputs": [],
   "source": [
    "test_array = test_array.reshape((28,28,3))\n",
    "test_array.shape\n",
    "plt.imshow(test_array)"
   ]
  },
  {
   "cell_type": "code",
   "execution_count": null,
   "id": "041ba6ff-fff7-4388-b7a9-e344b4035010",
   "metadata": {},
   "outputs": [],
   "source": [
    "def print_28_28(index):\n",
    "    temp_array = np.array(data.iloc[index,:]).reshape((28,28,3))\n",
    "    image_id = metadata.iloc[index,:].image_id\n",
    "    plt.imshow(temp_array)\n",
    "    return image_id"
   ]
  },
  {
   "cell_type": "code",
   "execution_count": null,
   "id": "ccdb7d08-48d2-4dee-9107-6263b2222f30",
   "metadata": {},
   "outputs": [],
   "source": [
    "print_28_28(150)"
   ]
  },
  {
   "cell_type": "code",
   "execution_count": null,
   "id": "779f14ee-3c34-42a0-a646-437a8b409e1c",
   "metadata": {},
   "outputs": [],
   "source": [
    "from google.cloud import storage\n",
    "from PIL import Image\n",
    "import io\n",
    "import matplotlib.pyplot as plt\n",
    "\n",
    "# Set up the client\n",
    "client = storage.Client()\n",
    "bucket = client.bucket(BUCKET_NAME)\n",
    "\n",
    "blobs = bucket.list_blobs(prefix=\"train_all_images/\")\n",
    "images = [blob.name for blob in blobs if blob.name.lower().endswith(\".jpg\")]"
   ]
  },
  {
   "cell_type": "code",
   "execution_count": null,
   "id": "1b33e5e5-0263-4f85-ab09-ad776aee9b3b",
   "metadata": {},
   "outputs": [],
   "source": [
    "len(images)"
   ]
  },
  {
   "cell_type": "code",
   "execution_count": null,
   "id": "28dd6a7d-6727-4bd3-9088-c33754805c1d",
   "metadata": {},
   "outputs": [],
   "source": [
    "pixel_list = []"
   ]
  },
  {
   "cell_type": "code",
   "execution_count": null,
   "id": "77dce694-af08-4855-a9e5-29a04f2af3e2",
   "metadata": {},
   "outputs": [],
   "source": [
    "test_image = images[0]"
   ]
  },
  {
   "cell_type": "code",
   "execution_count": null,
   "id": "7bfe69b5-c8a8-4931-bc22-3f611012df8b",
   "metadata": {},
   "outputs": [],
   "source": [
    "metadata[[\"dx\"]].value_counts()"
   ]
  },
  {
   "cell_type": "code",
   "execution_count": null,
   "id": "bacd893c-b097-4b69-933c-f0dfedcc0f4b",
   "metadata": {},
   "outputs": [],
   "source": [
    "dx_dict = {\"nv\": 4,\n",
    "           \"mel\":6,\n",
    "           \"bkl\":2,\n",
    "           \"bcc\":1,\n",
    "           \"akiec\":0,\n",
    "           \"vasc\":5,\n",
    "           \"df\":3   \n",
    "}"
   ]
  },
  {
   "cell_type": "code",
   "execution_count": null,
   "id": "bac0a65a-903a-42e5-adee-f7f6f6662946",
   "metadata": {},
   "outputs": [],
   "source": [
    "metadata[\"target\"] = metadata.dx.map(dx_dict)"
   ]
  },
  {
   "cell_type": "code",
   "execution_count": null,
   "id": "0b5e04c4-903c-4728-9abc-6e3b0aaaea12",
   "metadata": {},
   "outputs": [],
   "source": [
    "metadata"
   ]
  },
  {
   "cell_type": "code",
   "execution_count": null,
   "id": "d06c0d4d-bf06-4e77-bdf8-2717d018d3bb",
   "metadata": {},
   "outputs": [],
   "source": [
    "target = metadata[[\"image_id\",\"target\"]]"
   ]
  },
  {
   "cell_type": "code",
   "execution_count": null,
   "id": "b65392a4-7651-4a83-9cb7-6b51ef95d247",
   "metadata": {},
   "outputs": [],
   "source": [
    "target"
   ]
  },
  {
   "cell_type": "code",
   "execution_count": null,
   "id": "941f22e2-f463-4f02-9cac-bdff0852853a",
   "metadata": {},
   "outputs": [],
   "source": [
    "y = metadata.target"
   ]
  },
  {
   "cell_type": "code",
   "execution_count": null,
   "id": "717c7c51-d32b-424c-b949-e69b3e788ace",
   "metadata": {},
   "outputs": [],
   "source": [
    "from keras.utils import to_categorical\n",
    "\n",
    "y_cat = to_categorical(y)"
   ]
  },
  {
   "cell_type": "code",
   "execution_count": null,
   "id": "0c16f41c-59b6-4bbe-a8c3-b546bd6e634a",
   "metadata": {},
   "outputs": [],
   "source": [
    "y_cat"
   ]
  },
  {
   "cell_type": "code",
   "execution_count": null,
   "id": "f7acf846-f87b-4d60-adcf-3a969421d840",
   "metadata": {},
   "outputs": [],
   "source": [
    "import pandas as pd\n",
    "import numpy as np\n",
    "from PIL import Image\n",
    "import io\n",
    "import os  # To handle file paths\n",
    "\n",
    "def resize(width: int, height: int) -> pd.DataFrame:\n",
    "    pixel_list = []\n",
    "    image_ids = []\n",
    "\n",
    "    for idx, image in enumerate(images):\n",
    "        print(f\"Processing image {idx + 1} of {len(images)}: {image}\")\n",
    "\n",
    "        blob = bucket.blob(image)\n",
    "        image_bytes = blob.download_as_bytes()\n",
    "        img = Image.open(io.BytesIO(image_bytes)).convert(\"RGB\")\n",
    "        img = img.resize((width, height))\n",
    "        img_array = np.array(img).flatten()\n",
    "        pixel_list.append(img_array)\n",
    "\n",
    "        # Extract image ID (e.g., 'ISIC_0024306')\n",
    "        image_id = os.path.basename(image).split('.')[0]\n",
    "        image_ids.append(image_id)\n",
    "\n",
    "    data = np.stack(pixel_list)\n",
    "    df = pd.DataFrame(data)\n",
    "    df.insert(0, \"image_id\", image_ids)  # Insert image_id as first column\n",
    "\n",
    "    return df"
   ]
  },
  {
   "cell_type": "code",
   "execution_count": null,
   "id": "0e297809-1827-4561-afe4-15a7a90f463d",
   "metadata": {
    "scrolled": true
   },
   "outputs": [],
   "source": [
    "df = resize(96,96)"
   ]
  },
  {
   "cell_type": "code",
   "execution_count": null,
   "id": "f6bb1398-6f52-48eb-bd0c-b22bb8967d0d",
   "metadata": {},
   "outputs": [],
   "source": [
    "df.head()"
   ]
  },
  {
   "cell_type": "code",
   "execution_count": null,
   "id": "1b5a67de-6259-4bc3-8b4f-3069098447ba",
   "metadata": {},
   "outputs": [],
   "source": [
    "df.shape"
   ]
  },
  {
   "cell_type": "code",
   "execution_count": null,
   "id": "089915ae-ca55-4a91-bb0f-63b4f8191c8e",
   "metadata": {},
   "outputs": [],
   "source": [
    "metadata = get_data_from_bq(f\"{GCP_PROJECT}\", query_metadata)\n",
    "metadata.head()"
   ]
  },
  {
   "cell_type": "code",
   "execution_count": null,
   "id": "9cea6a9d-094a-4f41-8322-93f51152bb25",
   "metadata": {},
   "outputs": [],
   "source": [
    "target = metadata[[\"image_id\",\"dx\",\"index\"]]"
   ]
  },
  {
   "cell_type": "code",
   "execution_count": null,
   "id": "4e1a66fb-462d-441f-a70e-4bc959bef367",
   "metadata": {},
   "outputs": [],
   "source": [
    "target.dx = target.dx.map(dx_dict)"
   ]
  },
  {
   "cell_type": "code",
   "execution_count": null,
   "id": "acdfe51b-9045-45cf-9fc9-20f8d7eb72d2",
   "metadata": {},
   "outputs": [],
   "source": [
    "target"
   ]
  },
  {
   "cell_type": "code",
   "execution_count": null,
   "id": "45013815-fa1c-4988-b2d8-c2ee9cb817e4",
   "metadata": {},
   "outputs": [],
   "source": [
    "df = target.merge(df, how=\"left\", on=\"image_id\")"
   ]
  },
  {
   "cell_type": "code",
   "execution_count": null,
   "id": "b30a3762-459f-4673-b44c-eb3beeb9f571",
   "metadata": {},
   "outputs": [],
   "source": [
    "df"
   ]
  },
  {
   "cell_type": "code",
   "execution_count": null,
   "id": "9a856463-21c9-43d1-a907-6655dd53cbb1",
   "metadata": {},
   "outputs": [],
   "source": [
    "df.drop(columns=[\"image_id\",\"dx\"],inplace=True)"
   ]
  },
  {
   "cell_type": "code",
   "execution_count": null,
   "id": "401b58a8-6750-4cca-8c2c-bdb4a0cf084e",
   "metadata": {},
   "outputs": [],
   "source": [
    "df"
   ]
  },
  {
   "cell_type": "code",
   "execution_count": null,
   "id": "993895a1-1ff0-430f-9676-d44c84c3df16",
   "metadata": {},
   "outputs": [],
   "source": [
    "df.dtypes"
   ]
  },
  {
   "cell_type": "code",
   "execution_count": null,
   "id": "46df07ac-3a6c-4999-b640-396828786645",
   "metadata": {},
   "outputs": [],
   "source": [
    "df = df.astype(\"int64\")"
   ]
  },
  {
   "cell_type": "code",
   "execution_count": null,
   "id": "2b0f6295-bbae-4ab0-bc5a-166d033b5324",
   "metadata": {},
   "outputs": [],
   "source": [
    "df.head()"
   ]
  },
  {
   "cell_type": "code",
   "execution_count": null,
   "id": "5e4f818f-82b9-461b-892d-c4c93f3d3993",
   "metadata": {},
   "outputs": [],
   "source": [
    "GCP_PROJECT = os.environ.get(\"GCP_PROJECT\")\n",
    "GCP_REGION = os.environ.get(\"GCP_REGION\")"
   ]
  },
  {
   "cell_type": "code",
   "execution_count": null,
   "id": "71636a45-7a17-4a48-8e7e-b6305116b00b",
   "metadata": {},
   "outputs": [],
   "source": [
    "def load_data_to_bq(\n",
    "        data: pd.DataFrame,\n",
    "        gcp_project:str,\n",
    "        bq_dataset:str,\n",
    "        table: str,\n",
    "        truncate: bool\n",
    "    ) -> None:\n",
    "    \"\"\"\n",
    "    - Save the DataFrame to BigQuery\n",
    "    - Empty the table beforehand if `truncate` is True, append otherwise\n",
    "    \"\"\"\n",
    "    assert isinstance(data, pd.DataFrame)\n",
    "    full_table_name = f\"{gcp_project}.{bq_dataset}.{table}\"\n",
    "    print(Fore.BLUE + f\"\\nSave data to BigQuery @ {full_table_name}...:\" + Style.RESET_ALL)\n",
    "    client = bigquery.Client(project=gcp_project)\n",
    "    if truncate == True:\n",
    "        write_mode = \"WRITE_TRUNCATE\"\n",
    "    else:\n",
    "        write_mode = \"WRITE_APPEND\"\n",
    "    job_config = bigquery.LoadJobConfig(write_disposition=write_mode)\n",
    "    job = client.load_table_from_dataframe(data, full_table_name, job_config=job_config)\n",
    "    result = job.result()\n",
    "\n",
    "    print(f\"✅ Data saved to bigquery, with shape {data.shape}\")"
   ]
  },
  {
   "cell_type": "code",
   "execution_count": null,
   "id": "e22fd9b8-4e7f-4f47-9932-7873ab6c9494",
   "metadata": {},
   "outputs": [],
   "source": [
    "import pandas as pd\n",
    "from colorama import Fore, Style\n",
    "from google.cloud import bigquery"
   ]
  },
  {
   "cell_type": "code",
   "execution_count": null,
   "id": "c764fda4-1166-4f68-9169-b3f55f26e438",
   "metadata": {},
   "outputs": [],
   "source": [
    "load_data_to_bq(df,f\"{GCP_PROJECT}\",f\"{BQ_DATASET}\",\"train_96_96\",True)"
   ]
  },
  {
   "cell_type": "code",
   "execution_count": null,
   "id": "ff483168-5eb5-42a9-99de-0544115f2580",
   "metadata": {},
   "outputs": [],
   "source": [
    "test_array = np.array(df.iloc[0,:])"
   ]
  },
  {
   "cell_type": "code",
   "execution_count": null,
   "id": "2f04eb04-2c76-4bd2-80a3-b47ec7e40b0f",
   "metadata": {},
   "outputs": [],
   "source": [
    "test_array = test_array.reshape((96,96,3))"
   ]
  },
  {
   "cell_type": "code",
   "execution_count": null,
   "id": "04c14953-4c7e-457d-aa53-61564681a3e9",
   "metadata": {},
   "outputs": [],
   "source": [
    "plt.imshow(test_array)"
   ]
  },
  {
   "cell_type": "code",
   "execution_count": null,
   "id": "5ec4bdcf-6d32-40ca-b76c-04c16d5ab4c7",
   "metadata": {},
   "outputs": [],
   "source": [
    "plt.imshow(pixel_list[0])"
   ]
  },
  {
   "cell_type": "code",
   "execution_count": null,
   "id": "a31a461d-d723-4f4e-829c-cb0a90fe6fc0",
   "metadata": {},
   "outputs": [],
   "source": [
    "for image in images:\n",
    "    blob = bucket.blob(image)\n",
    "    image_bytes = blob.download_as_bytes()\n",
    "    img = Image.open(io.BytesIO(image_bytes))\n",
    "    pixel_list.append(np.array(img))"
   ]
  },
  {
   "cell_type": "code",
   "execution_count": null,
   "id": "15d77a89-dba5-4388-b290-ba7f2b92de4e",
   "metadata": {},
   "outputs": [],
   "source": [
    "pixel_list"
   ]
  },
  {
   "cell_type": "code",
   "execution_count": null,
   "id": "c669efd6-c51b-42fa-83e8-ca3f939a485c",
   "metadata": {},
   "outputs": [],
   "source": [
    "def print_image(name):  \n",
    "    for image in images:\n",
    "        if image.endswith(f\"{name}.jpg\"):\n",
    "            blob = bucket.blob(image)\n",
    "            image_bytes = blob.download_as_bytes()\n",
    "            img = Image.open(io.BytesIO(image_bytes))\n",
    "            plt.imshow(img)\n",
    "            plt.axis('off')\n",
    "            plt.show()\n",
    "            return\n",
    "    return \"Not found\""
   ]
  },
  {
   "cell_type": "code",
   "execution_count": null,
   "id": "09fc1b7c-706e-4cc1-a24a-e46cc14d13b4",
   "metadata": {},
   "outputs": [],
   "source": [
    "image_resized = image.resize((96,96))"
   ]
  },
  {
   "cell_type": "code",
   "execution_count": null,
   "id": "94105f25-34de-4deb-bbe7-a5e259dc6697",
   "metadata": {},
   "outputs": [],
   "source": [
    "plt.imshow(image_resized)\n",
    "plt.show()"
   ]
  },
  {
   "cell_type": "code",
   "execution_count": null,
   "id": "26aee5bd-4d26-4170-8113-a77baf889d48",
   "metadata": {},
   "outputs": [],
   "source": [
    "type(image_resized)"
   ]
  },
  {
   "cell_type": "code",
   "execution_count": null,
   "id": "814adaf8-b3f5-47f3-87f7-6ea8da992070",
   "metadata": {},
   "outputs": [],
   "source": [
    "def resize(img: xx, width:int, height:int) -> np.array (width,height,3)"
   ]
  },
  {
   "cell_type": "code",
   "execution_count": null,
   "id": "b179ae01-7a8a-47ed-b4bf-9daaed78afa9",
   "metadata": {},
   "outputs": [],
   "source": [
    "def get_28_28_image(index):\n",
    "    temp_array = np.array(data.iloc[index, :]).reshape((28, 28, 3))\n",
    "    image_id = metadata.iloc[index, :].image_id\n",
    "    return temp_array, image_id"
   ]
  },
  {
   "cell_type": "code",
   "execution_count": null,
   "id": "07352fd3-b46c-4e30-a16a-f07c9ba1e3ae",
   "metadata": {},
   "outputs": [],
   "source": [
    "def get_cloud_image(name):\n",
    "    for image in images:\n",
    "        if image.endswith(f\"{name}.jpg\"):\n",
    "            blob = bucket.blob(image)\n",
    "            image_bytes = blob.download_as_bytes()\n",
    "            img = Image.open(io.BytesIO(image_bytes))\n",
    "            return img\n",
    "    return None"
   ]
  },
  {
   "cell_type": "code",
   "execution_count": null,
   "id": "2f9cc1e1-3f33-4aa4-be3b-7cbbfb0f15bd",
   "metadata": {},
   "outputs": [],
   "source": [
    "import random\n",
    "import matplotlib.pyplot as plt\n",
    "\n",
    "def show_comparison(n):\n",
    "    \"\"\"Shows n random pairs of the original image and the resized 28x28 version\"\"\"\n",
    "    \n",
    "    # Pick n unique random indices between 0 and 10014 (inclusive)\n",
    "    random_indices = random.sample(range(0, 10015), n)\n",
    "    \n",
    "    fig, axes = plt.subplots(n, 2, figsize=(8, 12))  # n rows, 2 columns\n",
    "    \n",
    "    for row_idx, data_idx in enumerate(random_indices):\n",
    "        local_img, chosen_id = get_28_28_image(data_idx)\n",
    "        cloud_img = get_cloud_image(chosen_id)\n",
    "    \n",
    "        # Left: 28x28 image\n",
    "        axes[row_idx, 0].imshow(local_img)\n",
    "        axes[row_idx, 0].set_title(f'Index {data_idx}')\n",
    "    \n",
    "        # Right: Cloud image or fallback\n",
    "        if cloud_img:\n",
    "            axes[row_idx, 1].imshow(cloud_img)\n",
    "            axes[row_idx, 1].set_title(chosen_id)\n",
    "        else:\n",
    "            axes[row_idx, 1].text(0.5, 0.5, \"Not found\", ha='center', va='center')\n",
    "    \n",
    "    plt.tight_layout()\n",
    "    plt.show()"
   ]
  },
  {
   "cell_type": "code",
   "execution_count": null,
   "id": "42f360fe-8b71-4f03-b0a9-51ef6c992a52",
   "metadata": {},
   "outputs": [],
   "source": [
    "show_comparison(3)"
   ]
  }
 ],
 "metadata": {
  "environment": {
   "kernel": "conda-base-py",
   "name": "workbench-notebooks.m129",
   "type": "gcloud",
   "uri": "us-docker.pkg.dev/deeplearning-platform-release/gcr.io/workbench-notebooks:m129"
  },
  "kernelspec": {
   "display_name": "Python 3 (ipykernel)",
   "language": "python",
   "name": "conda-base-py"
  },
  "language_info": {
   "codemirror_mode": {
    "name": "ipython",
    "version": 3
   },
   "file_extension": ".py",
   "mimetype": "text/x-python",
   "name": "python",
   "nbconvert_exporter": "python",
   "pygments_lexer": "ipython3",
   "version": "3.10.16"
  }
 },
 "nbformat": 4,
 "nbformat_minor": 5
}

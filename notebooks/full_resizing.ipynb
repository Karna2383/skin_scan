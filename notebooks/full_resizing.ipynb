{
 "cells": [
  {
   "cell_type": "code",
   "execution_count": 1,
   "id": "9b7c7c5e-384e-48c2-a2a3-5d2b263a92f7",
   "metadata": {
    "execution": {
     "iopub.execute_input": "2025-06-05T11:16:48.535084Z",
     "iopub.status.busy": "2025-06-05T11:16:48.533544Z",
     "iopub.status.idle": "2025-06-05T11:16:58.729869Z",
     "shell.execute_reply": "2025-06-05T11:16:58.728264Z",
     "shell.execute_reply.started": "2025-06-05T11:16:48.535047Z"
    }
   },
   "outputs": [
    {
     "name": "stderr",
     "output_type": "stream",
     "text": [
      "2025-06-05 12:16:51.010256: I tensorflow/core/util/port.cc:153] oneDNN custom operations are on. You may see slightly different numerical results due to floating-point round-off errors from different computation orders. To turn them off, set the environment variable `TF_ENABLE_ONEDNN_OPTS=0`.\n",
      "2025-06-05 12:16:51.043846: I external/local_xla/xla/tsl/cuda/cudart_stub.cc:32] Could not find cuda drivers on your machine, GPU will not be used.\n",
      "2025-06-05 12:16:51.261328: I external/local_xla/xla/tsl/cuda/cudart_stub.cc:32] Could not find cuda drivers on your machine, GPU will not be used.\n",
      "2025-06-05 12:16:51.449100: E external/local_xla/xla/stream_executor/cuda/cuda_fft.cc:467] Unable to register cuFFT factory: Attempting to register factory for plugin cuFFT when one has already been registered\n",
      "WARNING: All log messages before absl::InitializeLog() is called are written to STDERR\n",
      "E0000 00:00:1749122211.610019   40763 cuda_dnn.cc:8579] Unable to register cuDNN factory: Attempting to register factory for plugin cuDNN when one has already been registered\n",
      "E0000 00:00:1749122211.660244   40763 cuda_blas.cc:1407] Unable to register cuBLAS factory: Attempting to register factory for plugin cuBLAS when one has already been registered\n",
      "W0000 00:00:1749122212.017122   40763 computation_placer.cc:177] computation placer already registered. Please check linkage and avoid linking the same target more than once.\n",
      "W0000 00:00:1749122212.017194   40763 computation_placer.cc:177] computation placer already registered. Please check linkage and avoid linking the same target more than once.\n",
      "W0000 00:00:1749122212.017196   40763 computation_placer.cc:177] computation placer already registered. Please check linkage and avoid linking the same target more than once.\n",
      "W0000 00:00:1749122212.017198   40763 computation_placer.cc:177] computation placer already registered. Please check linkage and avoid linking the same target more than once.\n",
      "2025-06-05 12:16:52.052584: I tensorflow/core/platform/cpu_feature_guard.cc:210] This TensorFlow binary is optimized to use available CPU instructions in performance-critical operations.\n",
      "To enable the following instructions: AVX2 AVX_VNNI FMA, in other operations, rebuild TensorFlow with the appropriate compiler flags.\n"
     ]
    }
   ],
   "source": [
    "import pandas as pd\n",
    "from google.cloud import bigquery\n",
    "import tensorflow as tf\n",
    "import numpy as np\n",
    "import matplotlib.pyplot as plt\n",
    "import os\n",
    "from google.cloud import storage\n",
    "from tensorflow.keras import callbacks\n",
    "from tensorflow.keras import Sequential, Input, layers\n",
    "from tensorflow.keras import optimizers\n",
    "from tensorflow.keras.callbacks import EarlyStopping"
   ]
  },
  {
   "cell_type": "code",
   "execution_count": 2,
   "id": "ca2100f5-a74e-447a-b3a7-c5c11a18524b",
   "metadata": {
    "execution": {
     "iopub.execute_input": "2025-06-05T11:16:58.733353Z",
     "iopub.status.busy": "2025-06-05T11:16:58.732049Z",
     "iopub.status.idle": "2025-06-05T11:16:58.747008Z",
     "shell.execute_reply": "2025-06-05T11:16:58.743333Z",
     "shell.execute_reply.started": "2025-06-05T11:16:58.733318Z"
    }
   },
   "outputs": [],
   "source": [
    "# Variables\n",
    "BUCKET_NAME=\"skin_scan_mohnatz\"\n",
    "GCP_PROJECT = \"skin-scan-461716\"\n",
    "BQ_DATASET = \"skin_scan\""
   ]
  },
  {
   "cell_type": "code",
   "execution_count": 3,
   "id": "61d4266a-dc46-4501-bff6-5bb742c3b61a",
   "metadata": {
    "execution": {
     "iopub.execute_input": "2025-06-05T11:17:23.917780Z",
     "iopub.status.busy": "2025-06-05T11:17:23.917391Z",
     "iopub.status.idle": "2025-06-05T11:17:23.925820Z",
     "shell.execute_reply": "2025-06-05T11:17:23.924732Z",
     "shell.execute_reply.started": "2025-06-05T11:17:23.917755Z"
    }
   },
   "outputs": [],
   "source": [
    "def get_data_from_bq(\n",
    "        gcp_project:str,\n",
    "        query:str,\n",
    "        data_has_header=True\n",
    "    ) -> pd.DataFrame:\n",
    "    \"\"\"\n",
    "    Retrieve `query` data from BigQuery\n",
    "    \"\"\"\n",
    "    client = bigquery.Client(project=gcp_project)\n",
    "    query_job = client.query(query)\n",
    "    result = query_job.result()\n",
    "    df = result.to_dataframe()\n",
    "    return df\n",
    "\n",
    "query_metadata = f\"\"\"\n",
    "        SELECT *\n",
    "        FROM `{GCP_PROJECT}`.{BQ_DATASET}.train_metadata\n",
    "    \"\"\""
   ]
  },
  {
   "cell_type": "code",
   "execution_count": 4,
   "id": "dc34a983-fa9b-4e10-b1ce-39a15e5a333e",
   "metadata": {
    "execution": {
     "iopub.execute_input": "2025-06-05T11:17:24.912083Z",
     "iopub.status.busy": "2025-06-05T11:17:24.911055Z",
     "iopub.status.idle": "2025-06-05T11:17:26.813235Z",
     "shell.execute_reply": "2025-06-05T11:17:26.811673Z",
     "shell.execute_reply.started": "2025-06-05T11:17:24.912053Z"
    }
   },
   "outputs": [
    {
     "data": {
      "text/html": [
       "<div>\n",
       "<style scoped>\n",
       "    .dataframe tbody tr th:only-of-type {\n",
       "        vertical-align: middle;\n",
       "    }\n",
       "\n",
       "    .dataframe tbody tr th {\n",
       "        vertical-align: top;\n",
       "    }\n",
       "\n",
       "    .dataframe thead th {\n",
       "        text-align: right;\n",
       "    }\n",
       "</style>\n",
       "<table border=\"1\" class=\"dataframe\">\n",
       "  <thead>\n",
       "    <tr style=\"text-align: right;\">\n",
       "      <th></th>\n",
       "      <th>lesion_id</th>\n",
       "      <th>image_id</th>\n",
       "      <th>dx</th>\n",
       "      <th>dx_type</th>\n",
       "      <th>age</th>\n",
       "      <th>sex</th>\n",
       "      <th>localization</th>\n",
       "      <th>index</th>\n",
       "    </tr>\n",
       "  </thead>\n",
       "  <tbody>\n",
       "    <tr>\n",
       "      <th>0</th>\n",
       "      <td>HAM_0006706</td>\n",
       "      <td>ISIC_0031725</td>\n",
       "      <td>nv</td>\n",
       "      <td>histo</td>\n",
       "      <td>NaN</td>\n",
       "      <td>female</td>\n",
       "      <td>abdomen</td>\n",
       "      <td>8410</td>\n",
       "    </tr>\n",
       "    <tr>\n",
       "      <th>1</th>\n",
       "      <td>HAM_0002610</td>\n",
       "      <td>ISIC_0026876</td>\n",
       "      <td>vasc</td>\n",
       "      <td>consensus</td>\n",
       "      <td>0.0</td>\n",
       "      <td>female</td>\n",
       "      <td>abdomen</td>\n",
       "      <td>2388</td>\n",
       "    </tr>\n",
       "    <tr>\n",
       "      <th>2</th>\n",
       "      <td>HAM_0002610</td>\n",
       "      <td>ISIC_0030606</td>\n",
       "      <td>vasc</td>\n",
       "      <td>consensus</td>\n",
       "      <td>0.0</td>\n",
       "      <td>female</td>\n",
       "      <td>abdomen</td>\n",
       "      <td>2389</td>\n",
       "    </tr>\n",
       "    <tr>\n",
       "      <th>3</th>\n",
       "      <td>HAM_0003872</td>\n",
       "      <td>ISIC_0028903</td>\n",
       "      <td>nv</td>\n",
       "      <td>consensus</td>\n",
       "      <td>0.0</td>\n",
       "      <td>female</td>\n",
       "      <td>abdomen</td>\n",
       "      <td>9329</td>\n",
       "    </tr>\n",
       "    <tr>\n",
       "      <th>4</th>\n",
       "      <td>HAM_0002034</td>\n",
       "      <td>ISIC_0027954</td>\n",
       "      <td>bkl</td>\n",
       "      <td>consensus</td>\n",
       "      <td>5.0</td>\n",
       "      <td>male</td>\n",
       "      <td>abdomen</td>\n",
       "      <td>1035</td>\n",
       "    </tr>\n",
       "  </tbody>\n",
       "</table>\n",
       "</div>"
      ],
      "text/plain": [
       "     lesion_id      image_id    dx    dx_type  age     sex localization  index\n",
       "0  HAM_0006706  ISIC_0031725    nv      histo  NaN  female      abdomen   8410\n",
       "1  HAM_0002610  ISIC_0026876  vasc  consensus  0.0  female      abdomen   2388\n",
       "2  HAM_0002610  ISIC_0030606  vasc  consensus  0.0  female      abdomen   2389\n",
       "3  HAM_0003872  ISIC_0028903    nv  consensus  0.0  female      abdomen   9329\n",
       "4  HAM_0002034  ISIC_0027954   bkl  consensus  5.0    male      abdomen   1035"
      ]
     },
     "execution_count": 4,
     "metadata": {},
     "output_type": "execute_result"
    }
   ],
   "source": [
    "metadata = get_data_from_bq(f\"{GCP_PROJECT}\", query_metadata)\n",
    "metadata.head()"
   ]
  },
  {
   "cell_type": "code",
   "execution_count": 5,
   "id": "adb9459d-4a49-4574-a01c-5d7f5be31d3a",
   "metadata": {
    "execution": {
     "iopub.execute_input": "2025-06-05T11:17:28.089034Z",
     "iopub.status.busy": "2025-06-05T11:17:28.088626Z",
     "iopub.status.idle": "2025-06-05T11:17:28.249535Z",
     "shell.execute_reply": "2025-06-05T11:17:28.248192Z",
     "shell.execute_reply.started": "2025-06-05T11:17:28.089008Z"
    }
   },
   "outputs": [],
   "source": [
    "import sys\n",
    "import os\n",
    "\n",
    "# Add parent directory to Python path\n",
    "sys.path.append(os.path.abspath(\"..\"))\n",
    "\n",
    "# Now you can import the module\n",
    "import preprocessing"
   ]
  },
  {
   "cell_type": "code",
   "execution_count": 6,
   "id": "c7114ff0-1a46-44e3-877b-2961890c71b3",
   "metadata": {
    "execution": {
     "iopub.execute_input": "2025-06-05T11:17:57.319289Z",
     "iopub.status.busy": "2025-06-05T11:17:57.318033Z",
     "iopub.status.idle": "2025-06-05T11:17:57.360027Z",
     "shell.execute_reply": "2025-06-05T11:17:57.358810Z",
     "shell.execute_reply.started": "2025-06-05T11:17:57.319248Z"
    }
   },
   "outputs": [],
   "source": [
    "X, y = preprocessing.preprocess_metadata(metadata)"
   ]
  },
  {
   "cell_type": "code",
   "execution_count": 8,
   "id": "9f2aa7ea-aa36-42ac-a741-bd9c6ccd39b2",
   "metadata": {
    "execution": {
     "iopub.execute_input": "2025-06-05T11:18:05.382648Z",
     "iopub.status.busy": "2025-06-05T11:18:05.382276Z",
     "iopub.status.idle": "2025-06-05T11:18:05.406398Z",
     "shell.execute_reply": "2025-06-05T11:18:05.405344Z",
     "shell.execute_reply.started": "2025-06-05T11:18:05.382624Z"
    }
   },
   "outputs": [
    {
     "data": {
      "text/html": [
       "<div>\n",
       "<style scoped>\n",
       "    .dataframe tbody tr th:only-of-type {\n",
       "        vertical-align: middle;\n",
       "    }\n",
       "\n",
       "    .dataframe tbody tr th {\n",
       "        vertical-align: top;\n",
       "    }\n",
       "\n",
       "    .dataframe thead th {\n",
       "        text-align: right;\n",
       "    }\n",
       "</style>\n",
       "<table border=\"1\" class=\"dataframe\">\n",
       "  <thead>\n",
       "    <tr style=\"text-align: right;\">\n",
       "      <th></th>\n",
       "      <th>age__age</th>\n",
       "      <th>cat__sex_male</th>\n",
       "      <th>cat__localization_acral</th>\n",
       "      <th>cat__localization_back</th>\n",
       "      <th>cat__localization_chest</th>\n",
       "      <th>cat__localization_ear</th>\n",
       "      <th>cat__localization_face</th>\n",
       "      <th>cat__localization_foot</th>\n",
       "      <th>cat__localization_genital</th>\n",
       "      <th>cat__localization_hand</th>\n",
       "      <th>cat__localization_lower extremity</th>\n",
       "      <th>cat__localization_neck</th>\n",
       "      <th>cat__localization_scalp</th>\n",
       "      <th>cat__localization_trunk</th>\n",
       "      <th>cat__localization_upper extremity</th>\n",
       "    </tr>\n",
       "  </thead>\n",
       "  <tbody>\n",
       "    <tr>\n",
       "      <th>0</th>\n",
       "      <td>0.610163</td>\n",
       "      <td>0.0</td>\n",
       "      <td>0.0</td>\n",
       "      <td>0.0</td>\n",
       "      <td>0.0</td>\n",
       "      <td>0.0</td>\n",
       "      <td>0.0</td>\n",
       "      <td>0.0</td>\n",
       "      <td>0.0</td>\n",
       "      <td>0.0</td>\n",
       "      <td>0.0</td>\n",
       "      <td>0.0</td>\n",
       "      <td>0.0</td>\n",
       "      <td>0.0</td>\n",
       "      <td>0.0</td>\n",
       "    </tr>\n",
       "    <tr>\n",
       "      <th>1</th>\n",
       "      <td>0.000000</td>\n",
       "      <td>0.0</td>\n",
       "      <td>0.0</td>\n",
       "      <td>0.0</td>\n",
       "      <td>0.0</td>\n",
       "      <td>0.0</td>\n",
       "      <td>0.0</td>\n",
       "      <td>0.0</td>\n",
       "      <td>0.0</td>\n",
       "      <td>0.0</td>\n",
       "      <td>0.0</td>\n",
       "      <td>0.0</td>\n",
       "      <td>0.0</td>\n",
       "      <td>0.0</td>\n",
       "      <td>0.0</td>\n",
       "    </tr>\n",
       "    <tr>\n",
       "      <th>2</th>\n",
       "      <td>0.000000</td>\n",
       "      <td>0.0</td>\n",
       "      <td>0.0</td>\n",
       "      <td>0.0</td>\n",
       "      <td>0.0</td>\n",
       "      <td>0.0</td>\n",
       "      <td>0.0</td>\n",
       "      <td>0.0</td>\n",
       "      <td>0.0</td>\n",
       "      <td>0.0</td>\n",
       "      <td>0.0</td>\n",
       "      <td>0.0</td>\n",
       "      <td>0.0</td>\n",
       "      <td>0.0</td>\n",
       "      <td>0.0</td>\n",
       "    </tr>\n",
       "    <tr>\n",
       "      <th>3</th>\n",
       "      <td>0.000000</td>\n",
       "      <td>0.0</td>\n",
       "      <td>0.0</td>\n",
       "      <td>0.0</td>\n",
       "      <td>0.0</td>\n",
       "      <td>0.0</td>\n",
       "      <td>0.0</td>\n",
       "      <td>0.0</td>\n",
       "      <td>0.0</td>\n",
       "      <td>0.0</td>\n",
       "      <td>0.0</td>\n",
       "      <td>0.0</td>\n",
       "      <td>0.0</td>\n",
       "      <td>0.0</td>\n",
       "      <td>0.0</td>\n",
       "    </tr>\n",
       "    <tr>\n",
       "      <th>4</th>\n",
       "      <td>0.058824</td>\n",
       "      <td>1.0</td>\n",
       "      <td>0.0</td>\n",
       "      <td>0.0</td>\n",
       "      <td>0.0</td>\n",
       "      <td>0.0</td>\n",
       "      <td>0.0</td>\n",
       "      <td>0.0</td>\n",
       "      <td>0.0</td>\n",
       "      <td>0.0</td>\n",
       "      <td>0.0</td>\n",
       "      <td>0.0</td>\n",
       "      <td>0.0</td>\n",
       "      <td>0.0</td>\n",
       "      <td>0.0</td>\n",
       "    </tr>\n",
       "  </tbody>\n",
       "</table>\n",
       "</div>"
      ],
      "text/plain": [
       "   age__age  cat__sex_male  cat__localization_acral  cat__localization_back  \\\n",
       "0  0.610163            0.0                      0.0                     0.0   \n",
       "1  0.000000            0.0                      0.0                     0.0   \n",
       "2  0.000000            0.0                      0.0                     0.0   \n",
       "3  0.000000            0.0                      0.0                     0.0   \n",
       "4  0.058824            1.0                      0.0                     0.0   \n",
       "\n",
       "   cat__localization_chest  cat__localization_ear  cat__localization_face  \\\n",
       "0                      0.0                    0.0                     0.0   \n",
       "1                      0.0                    0.0                     0.0   \n",
       "2                      0.0                    0.0                     0.0   \n",
       "3                      0.0                    0.0                     0.0   \n",
       "4                      0.0                    0.0                     0.0   \n",
       "\n",
       "   cat__localization_foot  cat__localization_genital  cat__localization_hand  \\\n",
       "0                     0.0                        0.0                     0.0   \n",
       "1                     0.0                        0.0                     0.0   \n",
       "2                     0.0                        0.0                     0.0   \n",
       "3                     0.0                        0.0                     0.0   \n",
       "4                     0.0                        0.0                     0.0   \n",
       "\n",
       "   cat__localization_lower extremity  cat__localization_neck  \\\n",
       "0                                0.0                     0.0   \n",
       "1                                0.0                     0.0   \n",
       "2                                0.0                     0.0   \n",
       "3                                0.0                     0.0   \n",
       "4                                0.0                     0.0   \n",
       "\n",
       "   cat__localization_scalp  cat__localization_trunk  \\\n",
       "0                      0.0                      0.0   \n",
       "1                      0.0                      0.0   \n",
       "2                      0.0                      0.0   \n",
       "3                      0.0                      0.0   \n",
       "4                      0.0                      0.0   \n",
       "\n",
       "   cat__localization_upper extremity  \n",
       "0                                0.0  \n",
       "1                                0.0  \n",
       "2                                0.0  \n",
       "3                                0.0  \n",
       "4                                0.0  "
      ]
     },
     "execution_count": 8,
     "metadata": {},
     "output_type": "execute_result"
    }
   ],
   "source": [
    "X.head()"
   ]
  },
  {
   "cell_type": "code",
   "execution_count": 11,
   "id": "9cd2af2d-6ca9-4ef2-be3e-0b2466fd8c8e",
   "metadata": {
    "execution": {
     "iopub.execute_input": "2025-06-05T11:19:09.689260Z",
     "iopub.status.busy": "2025-06-05T11:19:09.688861Z",
     "iopub.status.idle": "2025-06-05T11:19:09.696710Z",
     "shell.execute_reply": "2025-06-05T11:19:09.695333Z",
     "shell.execute_reply.started": "2025-06-05T11:19:09.689235Z"
    }
   },
   "outputs": [
    {
     "data": {
      "text/plain": [
       "Index(['age__age', 'cat__sex_male', 'cat__localization_acral',\n",
       "       'cat__localization_back', 'cat__localization_chest',\n",
       "       'cat__localization_ear', 'cat__localization_face',\n",
       "       'cat__localization_foot', 'cat__localization_genital',\n",
       "       'cat__localization_hand', 'cat__localization_lower extremity',\n",
       "       'cat__localization_neck', 'cat__localization_scalp',\n",
       "       'cat__localization_trunk', 'cat__localization_upper extremity'],\n",
       "      dtype='object')"
      ]
     },
     "execution_count": 11,
     "metadata": {},
     "output_type": "execute_result"
    }
   ],
   "source": [
    "X.columns"
   ]
  },
  {
   "cell_type": "code",
   "execution_count": 10,
   "id": "732ff763-0929-4f34-9496-1221fc621350",
   "metadata": {
    "execution": {
     "iopub.execute_input": "2025-06-05T11:18:57.796101Z",
     "iopub.status.busy": "2025-06-05T11:18:57.795368Z",
     "iopub.status.idle": "2025-06-05T11:18:57.803761Z",
     "shell.execute_reply": "2025-06-05T11:18:57.802613Z",
     "shell.execute_reply.started": "2025-06-05T11:18:57.796065Z"
    }
   },
   "outputs": [
    {
     "data": {
      "text/plain": [
       "array([[0., 0., 0., ..., 0., 1., 0.],\n",
       "       [0., 0., 0., ..., 0., 0., 1.],\n",
       "       [0., 0., 0., ..., 0., 0., 1.],\n",
       "       ...,\n",
       "       [1., 0., 0., ..., 0., 0., 0.],\n",
       "       [1., 0., 0., ..., 0., 0., 0.],\n",
       "       [1., 0., 0., ..., 0., 0., 0.]])"
      ]
     },
     "execution_count": 10,
     "metadata": {},
     "output_type": "execute_result"
    }
   ],
   "source": [
    "np.array(y)"
   ]
  },
  {
   "cell_type": "code",
   "execution_count": 12,
   "id": "da987994-b95c-4e04-861f-d465aff990bd",
   "metadata": {
    "execution": {
     "iopub.execute_input": "2025-06-05T11:38:06.066814Z",
     "iopub.status.busy": "2025-06-05T11:38:06.066342Z",
     "iopub.status.idle": "2025-06-05T11:38:07.960066Z",
     "shell.execute_reply": "2025-06-05T11:38:07.959232Z",
     "shell.execute_reply.started": "2025-06-05T11:38:06.066779Z"
    }
   },
   "outputs": [],
   "source": [
    "from google.cloud import storage\n",
    "from PIL import Image\n",
    "import io\n",
    "import matplotlib.pyplot as plt\n",
    "\n",
    "# Set up the client\n",
    "client = storage.Client()\n",
    "bucket = client.bucket(BUCKET_NAME)\n",
    "\n",
    "blobs = bucket.list_blobs(prefix=\"train_all_images/\")\n",
    "images = [blob.name for blob in blobs if blob.name.lower().endswith(\".jpg\")]"
   ]
  },
  {
   "cell_type": "code",
   "execution_count": null,
   "id": "261f0f9a-2020-4342-9af6-d59ffe27fbf9",
   "metadata": {},
   "outputs": [],
   "source": []
  }
 ],
 "metadata": {
  "kernelspec": {
   "display_name": "Python 3 (ipykernel)",
   "language": "python",
   "name": "python3"
  },
  "language_info": {
   "codemirror_mode": {
    "name": "ipython",
    "version": 3
   },
   "file_extension": ".py",
   "mimetype": "text/x-python",
   "name": "python",
   "nbconvert_exporter": "python",
   "pygments_lexer": "ipython3",
   "version": "3.12.9"
  }
 },
 "nbformat": 4,
 "nbformat_minor": 5
}

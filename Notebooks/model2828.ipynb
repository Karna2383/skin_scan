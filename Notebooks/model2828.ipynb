{
 "cells": [
  {
   "cell_type": "code",
   "execution_count": 1,
   "id": "1c40a99c-50d8-4e2f-8580-4b5001c1c331",
   "metadata": {
    "execution": {
     "iopub.execute_input": "2025-06-03T14:11:34.887344Z",
     "iopub.status.busy": "2025-06-03T14:11:34.887032Z",
     "iopub.status.idle": "2025-06-03T14:11:43.567982Z",
     "shell.execute_reply": "2025-06-03T14:11:43.566721Z",
     "shell.execute_reply.started": "2025-06-03T14:11:34.887318Z"
    }
   },
   "outputs": [
    {
     "name": "stderr",
     "output_type": "stream",
     "text": [
      "2025-06-03 15:11:36.902166: I tensorflow/core/util/port.cc:153] oneDNN custom operations are on. You may see slightly different numerical results due to floating-point round-off errors from different computation orders. To turn them off, set the environment variable `TF_ENABLE_ONEDNN_OPTS=0`.\n",
      "2025-06-03 15:11:36.903044: I external/local_xla/xla/tsl/cuda/cudart_stub.cc:32] Could not find cuda drivers on your machine, GPU will not be used.\n",
      "2025-06-03 15:11:36.907592: I external/local_xla/xla/tsl/cuda/cudart_stub.cc:32] Could not find cuda drivers on your machine, GPU will not be used.\n",
      "2025-06-03 15:11:36.918913: E external/local_xla/xla/stream_executor/cuda/cuda_fft.cc:467] Unable to register cuFFT factory: Attempting to register factory for plugin cuFFT when one has already been registered\n",
      "WARNING: All log messages before absl::InitializeLog() is called are written to STDERR\n",
      "E0000 00:00:1748959896.934950   30172 cuda_dnn.cc:8579] Unable to register cuDNN factory: Attempting to register factory for plugin cuDNN when one has already been registered\n",
      "E0000 00:00:1748959896.941767   30172 cuda_blas.cc:1407] Unable to register cuBLAS factory: Attempting to register factory for plugin cuBLAS when one has already been registered\n",
      "W0000 00:00:1748959896.957916   30172 computation_placer.cc:177] computation placer already registered. Please check linkage and avoid linking the same target more than once.\n",
      "W0000 00:00:1748959896.957947   30172 computation_placer.cc:177] computation placer already registered. Please check linkage and avoid linking the same target more than once.\n",
      "W0000 00:00:1748959896.957948   30172 computation_placer.cc:177] computation placer already registered. Please check linkage and avoid linking the same target more than once.\n",
      "W0000 00:00:1748959896.957950   30172 computation_placer.cc:177] computation placer already registered. Please check linkage and avoid linking the same target more than once.\n",
      "2025-06-03 15:11:36.964452: I tensorflow/core/platform/cpu_feature_guard.cc:210] This TensorFlow binary is optimized to use available CPU instructions in performance-critical operations.\n",
      "To enable the following instructions: AVX2 AVX_VNNI FMA, in other operations, rebuild TensorFlow with the appropriate compiler flags.\n"
     ]
    },
    {
     "ename": "AttributeError",
     "evalue": "'MessageFactory' object has no attribute 'GetPrototype'",
     "output_type": "error",
     "traceback": [
      "\u001b[31m---------------------------------------------------------------------------\u001b[39m",
      "\u001b[31mAttributeError\u001b[39m                            Traceback (most recent call last)",
      "\u001b[31mAttributeError\u001b[39m: 'MessageFactory' object has no attribute 'GetPrototype'"
     ]
    },
    {
     "ename": "AttributeError",
     "evalue": "'MessageFactory' object has no attribute 'GetPrototype'",
     "output_type": "error",
     "traceback": [
      "\u001b[31m---------------------------------------------------------------------------\u001b[39m",
      "\u001b[31mAttributeError\u001b[39m                            Traceback (most recent call last)",
      "\u001b[31mAttributeError\u001b[39m: 'MessageFactory' object has no attribute 'GetPrototype'"
     ]
    },
    {
     "ename": "AttributeError",
     "evalue": "'MessageFactory' object has no attribute 'GetPrototype'",
     "output_type": "error",
     "traceback": [
      "\u001b[31m---------------------------------------------------------------------------\u001b[39m",
      "\u001b[31mAttributeError\u001b[39m                            Traceback (most recent call last)",
      "\u001b[31mAttributeError\u001b[39m: 'MessageFactory' object has no attribute 'GetPrototype'"
     ]
    },
    {
     "ename": "AttributeError",
     "evalue": "'MessageFactory' object has no attribute 'GetPrototype'",
     "output_type": "error",
     "traceback": [
      "\u001b[31m---------------------------------------------------------------------------\u001b[39m",
      "\u001b[31mAttributeError\u001b[39m                            Traceback (most recent call last)",
      "\u001b[31mAttributeError\u001b[39m: 'MessageFactory' object has no attribute 'GetPrototype'"
     ]
    },
    {
     "ename": "AttributeError",
     "evalue": "'MessageFactory' object has no attribute 'GetPrototype'",
     "output_type": "error",
     "traceback": [
      "\u001b[31m---------------------------------------------------------------------------\u001b[39m",
      "\u001b[31mAttributeError\u001b[39m                            Traceback (most recent call last)",
      "\u001b[31mAttributeError\u001b[39m: 'MessageFactory' object has no attribute 'GetPrototype'"
     ]
    },
    {
     "name": "stdout",
     "output_type": "stream",
     "text": [
      "Requirement already satisfied: db-dtypes in /home/vedutla/.pyenv/versions/3.12.9/envs/skin_scan_env/lib/python3.12/site-packages (1.4.3)\n",
      "Requirement already satisfied: numpy>=1.24.0 in /home/vedutla/.pyenv/versions/3.12.9/envs/skin_scan_env/lib/python3.12/site-packages (from db-dtypes) (2.1.3)\n",
      "Requirement already satisfied: packaging>=24.2.0 in /home/vedutla/.pyenv/versions/3.12.9/envs/skin_scan_env/lib/python3.12/site-packages (from db-dtypes) (25.0)\n",
      "Requirement already satisfied: pandas>=1.5.3 in /home/vedutla/.pyenv/versions/3.12.9/envs/skin_scan_env/lib/python3.12/site-packages (from db-dtypes) (2.2.3)\n",
      "Requirement already satisfied: pyarrow>=13.0.0 in /home/vedutla/.pyenv/versions/3.12.9/envs/skin_scan_env/lib/python3.12/site-packages (from db-dtypes) (20.0.0)\n",
      "Requirement already satisfied: python-dateutil>=2.8.2 in /home/vedutla/.pyenv/versions/3.12.9/envs/skin_scan_env/lib/python3.12/site-packages (from pandas>=1.5.3->db-dtypes) (2.9.0.post0)\n",
      "Requirement already satisfied: pytz>=2020.1 in /home/vedutla/.pyenv/versions/3.12.9/envs/skin_scan_env/lib/python3.12/site-packages (from pandas>=1.5.3->db-dtypes) (2025.2)\n",
      "Requirement already satisfied: tzdata>=2022.7 in /home/vedutla/.pyenv/versions/3.12.9/envs/skin_scan_env/lib/python3.12/site-packages (from pandas>=1.5.3->db-dtypes) (2025.2)\n",
      "Requirement already satisfied: six>=1.5 in /home/vedutla/.pyenv/versions/3.12.9/envs/skin_scan_env/lib/python3.12/site-packages (from python-dateutil>=2.8.2->pandas>=1.5.3->db-dtypes) (1.17.0)\n",
      "Requirement already satisfied: google-cloud-bigquery in /home/vedutla/.pyenv/versions/3.12.9/envs/skin_scan_env/lib/python3.12/site-packages (3.34.0)\n",
      "Requirement already satisfied: google-api-core<3.0.0,>=2.11.1 in /home/vedutla/.pyenv/versions/3.12.9/envs/skin_scan_env/lib/python3.12/site-packages (from google-api-core[grpc]<3.0.0,>=2.11.1->google-cloud-bigquery) (2.25.0)\n",
      "Requirement already satisfied: google-auth<3.0.0,>=2.14.1 in /home/vedutla/.pyenv/versions/3.12.9/envs/skin_scan_env/lib/python3.12/site-packages (from google-cloud-bigquery) (2.40.2)\n",
      "Requirement already satisfied: google-cloud-core<3.0.0,>=2.4.1 in /home/vedutla/.pyenv/versions/3.12.9/envs/skin_scan_env/lib/python3.12/site-packages (from google-cloud-bigquery) (2.4.3)\n",
      "Requirement already satisfied: google-resumable-media<3.0.0,>=2.0.0 in /home/vedutla/.pyenv/versions/3.12.9/envs/skin_scan_env/lib/python3.12/site-packages (from google-cloud-bigquery) (2.7.2)\n",
      "Requirement already satisfied: packaging>=24.2.0 in /home/vedutla/.pyenv/versions/3.12.9/envs/skin_scan_env/lib/python3.12/site-packages (from google-cloud-bigquery) (25.0)\n",
      "Requirement already satisfied: python-dateutil<3.0.0,>=2.8.2 in /home/vedutla/.pyenv/versions/3.12.9/envs/skin_scan_env/lib/python3.12/site-packages (from google-cloud-bigquery) (2.9.0.post0)\n",
      "Requirement already satisfied: requests<3.0.0,>=2.21.0 in /home/vedutla/.pyenv/versions/3.12.9/envs/skin_scan_env/lib/python3.12/site-packages (from google-cloud-bigquery) (2.32.3)\n",
      "Requirement already satisfied: googleapis-common-protos<2.0.0,>=1.56.2 in /home/vedutla/.pyenv/versions/3.12.9/envs/skin_scan_env/lib/python3.12/site-packages (from google-api-core<3.0.0,>=2.11.1->google-api-core[grpc]<3.0.0,>=2.11.1->google-cloud-bigquery) (1.70.0)\n",
      "Requirement already satisfied: protobuf!=3.20.0,!=3.20.1,!=4.21.0,!=4.21.1,!=4.21.2,!=4.21.3,!=4.21.4,!=4.21.5,<7.0.0,>=3.19.5 in /home/vedutla/.pyenv/versions/3.12.9/envs/skin_scan_env/lib/python3.12/site-packages (from google-api-core<3.0.0,>=2.11.1->google-api-core[grpc]<3.0.0,>=2.11.1->google-cloud-bigquery) (6.31.1)\n",
      "Requirement already satisfied: proto-plus<2.0.0,>=1.22.3 in /home/vedutla/.pyenv/versions/3.12.9/envs/skin_scan_env/lib/python3.12/site-packages (from google-api-core<3.0.0,>=2.11.1->google-api-core[grpc]<3.0.0,>=2.11.1->google-cloud-bigquery) (1.26.1)\n",
      "Requirement already satisfied: grpcio<2.0.0,>=1.33.2 in /home/vedutla/.pyenv/versions/3.12.9/envs/skin_scan_env/lib/python3.12/site-packages (from google-api-core[grpc]<3.0.0,>=2.11.1->google-cloud-bigquery) (1.72.1)\n",
      "Requirement already satisfied: grpcio-status<2.0.0,>=1.33.2 in /home/vedutla/.pyenv/versions/3.12.9/envs/skin_scan_env/lib/python3.12/site-packages (from google-api-core[grpc]<3.0.0,>=2.11.1->google-cloud-bigquery) (1.72.1)\n",
      "Requirement already satisfied: cachetools<6.0,>=2.0.0 in /home/vedutla/.pyenv/versions/3.12.9/envs/skin_scan_env/lib/python3.12/site-packages (from google-auth<3.0.0,>=2.14.1->google-cloud-bigquery) (5.5.2)\n",
      "Requirement already satisfied: pyasn1-modules>=0.2.1 in /home/vedutla/.pyenv/versions/3.12.9/envs/skin_scan_env/lib/python3.12/site-packages (from google-auth<3.0.0,>=2.14.1->google-cloud-bigquery) (0.4.2)\n",
      "Requirement already satisfied: rsa<5,>=3.1.4 in /home/vedutla/.pyenv/versions/3.12.9/envs/skin_scan_env/lib/python3.12/site-packages (from google-auth<3.0.0,>=2.14.1->google-cloud-bigquery) (4.9.1)\n",
      "Requirement already satisfied: google-crc32c<2.0dev,>=1.0 in /home/vedutla/.pyenv/versions/3.12.9/envs/skin_scan_env/lib/python3.12/site-packages (from google-resumable-media<3.0.0,>=2.0.0->google-cloud-bigquery) (1.7.1)\n",
      "Requirement already satisfied: six>=1.5 in /home/vedutla/.pyenv/versions/3.12.9/envs/skin_scan_env/lib/python3.12/site-packages (from python-dateutil<3.0.0,>=2.8.2->google-cloud-bigquery) (1.17.0)\n",
      "Requirement already satisfied: charset-normalizer<4,>=2 in /home/vedutla/.pyenv/versions/3.12.9/envs/skin_scan_env/lib/python3.12/site-packages (from requests<3.0.0,>=2.21.0->google-cloud-bigquery) (3.4.2)\n",
      "Requirement already satisfied: idna<4,>=2.5 in /home/vedutla/.pyenv/versions/3.12.9/envs/skin_scan_env/lib/python3.12/site-packages (from requests<3.0.0,>=2.21.0->google-cloud-bigquery) (3.10)\n",
      "Requirement already satisfied: urllib3<3,>=1.21.1 in /home/vedutla/.pyenv/versions/3.12.9/envs/skin_scan_env/lib/python3.12/site-packages (from requests<3.0.0,>=2.21.0->google-cloud-bigquery) (2.4.0)\n",
      "Requirement already satisfied: certifi>=2017.4.17 in /home/vedutla/.pyenv/versions/3.12.9/envs/skin_scan_env/lib/python3.12/site-packages (from requests<3.0.0,>=2.21.0->google-cloud-bigquery) (2025.4.26)\n",
      "Requirement already satisfied: pyasn1>=0.1.3 in /home/vedutla/.pyenv/versions/3.12.9/envs/skin_scan_env/lib/python3.12/site-packages (from rsa<5,>=3.1.4->google-auth<3.0.0,>=2.14.1->google-cloud-bigquery) (0.6.1)\n",
      "Requirement already satisfied: google-cloud-bigquery-storage in /home/vedutla/.pyenv/versions/3.12.9/envs/skin_scan_env/lib/python3.12/site-packages (2.32.0)\n",
      "Requirement already satisfied: google-api-core!=2.0.*,!=2.1.*,!=2.10.*,!=2.2.*,!=2.3.*,!=2.4.*,!=2.5.*,!=2.6.*,!=2.7.*,!=2.8.*,!=2.9.*,<3.0.0,>=1.34.0 in /home/vedutla/.pyenv/versions/3.12.9/envs/skin_scan_env/lib/python3.12/site-packages (from google-api-core[grpc]!=2.0.*,!=2.1.*,!=2.10.*,!=2.2.*,!=2.3.*,!=2.4.*,!=2.5.*,!=2.6.*,!=2.7.*,!=2.8.*,!=2.9.*,<3.0.0,>=1.34.0->google-cloud-bigquery-storage) (2.25.0)\n",
      "Requirement already satisfied: google-auth<3.0.0,>=2.14.1 in /home/vedutla/.pyenv/versions/3.12.9/envs/skin_scan_env/lib/python3.12/site-packages (from google-cloud-bigquery-storage) (2.40.2)\n",
      "Requirement already satisfied: proto-plus<2.0.0,>=1.22.0 in /home/vedutla/.pyenv/versions/3.12.9/envs/skin_scan_env/lib/python3.12/site-packages (from google-cloud-bigquery-storage) (1.26.1)\n",
      "Requirement already satisfied: protobuf!=3.20.0,!=3.20.1,!=4.21.0,!=4.21.1,!=4.21.2,!=4.21.3,!=4.21.4,!=4.21.5,<7.0.0,>=3.20.2 in /home/vedutla/.pyenv/versions/3.12.9/envs/skin_scan_env/lib/python3.12/site-packages (from google-cloud-bigquery-storage) (6.31.1)\n",
      "Requirement already satisfied: googleapis-common-protos<2.0.0,>=1.56.2 in /home/vedutla/.pyenv/versions/3.12.9/envs/skin_scan_env/lib/python3.12/site-packages (from google-api-core!=2.0.*,!=2.1.*,!=2.10.*,!=2.2.*,!=2.3.*,!=2.4.*,!=2.5.*,!=2.6.*,!=2.7.*,!=2.8.*,!=2.9.*,<3.0.0,>=1.34.0->google-api-core[grpc]!=2.0.*,!=2.1.*,!=2.10.*,!=2.2.*,!=2.3.*,!=2.4.*,!=2.5.*,!=2.6.*,!=2.7.*,!=2.8.*,!=2.9.*,<3.0.0,>=1.34.0->google-cloud-bigquery-storage) (1.70.0)\n",
      "Requirement already satisfied: requests<3.0.0,>=2.18.0 in /home/vedutla/.pyenv/versions/3.12.9/envs/skin_scan_env/lib/python3.12/site-packages (from google-api-core!=2.0.*,!=2.1.*,!=2.10.*,!=2.2.*,!=2.3.*,!=2.4.*,!=2.5.*,!=2.6.*,!=2.7.*,!=2.8.*,!=2.9.*,<3.0.0,>=1.34.0->google-api-core[grpc]!=2.0.*,!=2.1.*,!=2.10.*,!=2.2.*,!=2.3.*,!=2.4.*,!=2.5.*,!=2.6.*,!=2.7.*,!=2.8.*,!=2.9.*,<3.0.0,>=1.34.0->google-cloud-bigquery-storage) (2.32.3)\n",
      "Requirement already satisfied: grpcio<2.0.0,>=1.33.2 in /home/vedutla/.pyenv/versions/3.12.9/envs/skin_scan_env/lib/python3.12/site-packages (from google-api-core[grpc]!=2.0.*,!=2.1.*,!=2.10.*,!=2.2.*,!=2.3.*,!=2.4.*,!=2.5.*,!=2.6.*,!=2.7.*,!=2.8.*,!=2.9.*,<3.0.0,>=1.34.0->google-cloud-bigquery-storage) (1.72.1)\n",
      "Requirement already satisfied: grpcio-status<2.0.0,>=1.33.2 in /home/vedutla/.pyenv/versions/3.12.9/envs/skin_scan_env/lib/python3.12/site-packages (from google-api-core[grpc]!=2.0.*,!=2.1.*,!=2.10.*,!=2.2.*,!=2.3.*,!=2.4.*,!=2.5.*,!=2.6.*,!=2.7.*,!=2.8.*,!=2.9.*,<3.0.0,>=1.34.0->google-cloud-bigquery-storage) (1.72.1)\n",
      "Requirement already satisfied: cachetools<6.0,>=2.0.0 in /home/vedutla/.pyenv/versions/3.12.9/envs/skin_scan_env/lib/python3.12/site-packages (from google-auth<3.0.0,>=2.14.1->google-cloud-bigquery-storage) (5.5.2)\n",
      "Requirement already satisfied: pyasn1-modules>=0.2.1 in /home/vedutla/.pyenv/versions/3.12.9/envs/skin_scan_env/lib/python3.12/site-packages (from google-auth<3.0.0,>=2.14.1->google-cloud-bigquery-storage) (0.4.2)\n",
      "Requirement already satisfied: rsa<5,>=3.1.4 in /home/vedutla/.pyenv/versions/3.12.9/envs/skin_scan_env/lib/python3.12/site-packages (from google-auth<3.0.0,>=2.14.1->google-cloud-bigquery-storage) (4.9.1)\n",
      "Requirement already satisfied: charset-normalizer<4,>=2 in /home/vedutla/.pyenv/versions/3.12.9/envs/skin_scan_env/lib/python3.12/site-packages (from requests<3.0.0,>=2.18.0->google-api-core!=2.0.*,!=2.1.*,!=2.10.*,!=2.2.*,!=2.3.*,!=2.4.*,!=2.5.*,!=2.6.*,!=2.7.*,!=2.8.*,!=2.9.*,<3.0.0,>=1.34.0->google-api-core[grpc]!=2.0.*,!=2.1.*,!=2.10.*,!=2.2.*,!=2.3.*,!=2.4.*,!=2.5.*,!=2.6.*,!=2.7.*,!=2.8.*,!=2.9.*,<3.0.0,>=1.34.0->google-cloud-bigquery-storage) (3.4.2)\n",
      "Requirement already satisfied: idna<4,>=2.5 in /home/vedutla/.pyenv/versions/3.12.9/envs/skin_scan_env/lib/python3.12/site-packages (from requests<3.0.0,>=2.18.0->google-api-core!=2.0.*,!=2.1.*,!=2.10.*,!=2.2.*,!=2.3.*,!=2.4.*,!=2.5.*,!=2.6.*,!=2.7.*,!=2.8.*,!=2.9.*,<3.0.0,>=1.34.0->google-api-core[grpc]!=2.0.*,!=2.1.*,!=2.10.*,!=2.2.*,!=2.3.*,!=2.4.*,!=2.5.*,!=2.6.*,!=2.7.*,!=2.8.*,!=2.9.*,<3.0.0,>=1.34.0->google-cloud-bigquery-storage) (3.10)\n",
      "Requirement already satisfied: urllib3<3,>=1.21.1 in /home/vedutla/.pyenv/versions/3.12.9/envs/skin_scan_env/lib/python3.12/site-packages (from requests<3.0.0,>=2.18.0->google-api-core!=2.0.*,!=2.1.*,!=2.10.*,!=2.2.*,!=2.3.*,!=2.4.*,!=2.5.*,!=2.6.*,!=2.7.*,!=2.8.*,!=2.9.*,<3.0.0,>=1.34.0->google-api-core[grpc]!=2.0.*,!=2.1.*,!=2.10.*,!=2.2.*,!=2.3.*,!=2.4.*,!=2.5.*,!=2.6.*,!=2.7.*,!=2.8.*,!=2.9.*,<3.0.0,>=1.34.0->google-cloud-bigquery-storage) (2.4.0)\n",
      "Requirement already satisfied: certifi>=2017.4.17 in /home/vedutla/.pyenv/versions/3.12.9/envs/skin_scan_env/lib/python3.12/site-packages (from requests<3.0.0,>=2.18.0->google-api-core!=2.0.*,!=2.1.*,!=2.10.*,!=2.2.*,!=2.3.*,!=2.4.*,!=2.5.*,!=2.6.*,!=2.7.*,!=2.8.*,!=2.9.*,<3.0.0,>=1.34.0->google-api-core[grpc]!=2.0.*,!=2.1.*,!=2.10.*,!=2.2.*,!=2.3.*,!=2.4.*,!=2.5.*,!=2.6.*,!=2.7.*,!=2.8.*,!=2.9.*,<3.0.0,>=1.34.0->google-cloud-bigquery-storage) (2025.4.26)\n",
      "Requirement already satisfied: pyasn1>=0.1.3 in /home/vedutla/.pyenv/versions/3.12.9/envs/skin_scan_env/lib/python3.12/site-packages (from rsa<5,>=3.1.4->google-auth<3.0.0,>=2.14.1->google-cloud-bigquery-storage) (0.6.1)\n"
     ]
    }
   ],
   "source": [
    "import pandas as pd\n",
    "import numpy as np\n",
    "import os\n",
    "from PIL import Image\n",
    "from sklearn.model_selection import train_test_split\n",
    "from tensorflow.keras.models import Sequential\n",
    "from tensorflow.keras.layers import Conv2D, MaxPooling2D, Flatten, Dense, Dropout\n",
    "from tensorflow.keras.utils import to_categorical\n",
    "from tensorflow.keras.optimizers import Adam\n",
    "import matplotlib.pyplot as plt\n",
    "import pandas as pd\n",
    "from google.cloud import bigquery\n",
    "!pip install db-dtypes\n",
    "!pip install google-cloud-bigquery\n",
    "!pip install google-cloud-bigquery-storage\n",
    "from tensorflow.keras.utils import to_categorical"
   ]
  },
  {
   "cell_type": "code",
   "execution_count": 2,
   "id": "994f132b-0d06-487c-9ed6-96c619652fec",
   "metadata": {
    "execution": {
     "iopub.execute_input": "2025-06-03T14:11:43.570167Z",
     "iopub.status.busy": "2025-06-03T14:11:43.569448Z",
     "iopub.status.idle": "2025-06-03T14:11:53.512054Z",
     "shell.execute_reply": "2025-06-03T14:11:53.510874Z",
     "shell.execute_reply.started": "2025-06-03T14:11:43.570142Z"
    }
   },
   "outputs": [],
   "source": [
    "def get_data_from_bq(\n",
    "        gcp_project:str,\n",
    "        query:str,\n",
    "        data_has_header=True\n",
    "    ) -> pd.DataFrame:\n",
    "    \"\"\"\n",
    "    Retrieve `query` data from BigQuery\n",
    "    \"\"\"\n",
    "    client = bigquery.Client(project=gcp_project)\n",
    "    query_job = client.query(query)\n",
    "    result = query_job.result()\n",
    "    df = result.to_dataframe()\n",
    "    df = df.astype(\"float64\")\n",
    "    return df\n",
    "\n",
    "GCP_PROJECT = \"skin-scan-461716\"\n",
    "BQ_DATASET = \"skin_scan\"\n",
    "\n",
    "query = f\"\"\"\n",
    "        SELECT *\n",
    "        FROM `{GCP_PROJECT}`.{BQ_DATASET}.train_28x28\n",
    "    \"\"\"\n",
    "\n",
    "data = get_data_from_bq(f\"{GCP_PROJECT}\", query)"
   ]
  },
  {
   "cell_type": "code",
   "execution_count": 3,
   "id": "35d6c1c3-333e-484c-b0a5-be6edfd3a281",
   "metadata": {
    "execution": {
     "iopub.execute_input": "2025-06-03T14:11:53.513720Z",
     "iopub.status.busy": "2025-06-03T14:11:53.513551Z",
     "iopub.status.idle": "2025-06-03T14:11:53.566225Z",
     "shell.execute_reply": "2025-06-03T14:11:53.565355Z",
     "shell.execute_reply.started": "2025-06-03T14:11:53.513707Z"
    }
   },
   "outputs": [
    {
     "data": {
      "text/html": [
       "<div>\n",
       "<style scoped>\n",
       "    .dataframe tbody tr th:only-of-type {\n",
       "        vertical-align: middle;\n",
       "    }\n",
       "\n",
       "    .dataframe tbody tr th {\n",
       "        vertical-align: top;\n",
       "    }\n",
       "\n",
       "    .dataframe thead th {\n",
       "        text-align: right;\n",
       "    }\n",
       "</style>\n",
       "<table border=\"1\" class=\"dataframe\">\n",
       "  <thead>\n",
       "    <tr style=\"text-align: right;\">\n",
       "      <th></th>\n",
       "      <th>pixel0000</th>\n",
       "      <th>pixel0001</th>\n",
       "      <th>pixel0002</th>\n",
       "      <th>pixel0003</th>\n",
       "      <th>pixel0004</th>\n",
       "      <th>pixel0005</th>\n",
       "      <th>pixel0006</th>\n",
       "      <th>pixel0007</th>\n",
       "      <th>pixel0008</th>\n",
       "      <th>pixel0009</th>\n",
       "      <th>...</th>\n",
       "      <th>pixel2343</th>\n",
       "      <th>pixel2344</th>\n",
       "      <th>pixel2345</th>\n",
       "      <th>pixel2346</th>\n",
       "      <th>pixel2347</th>\n",
       "      <th>pixel2348</th>\n",
       "      <th>pixel2349</th>\n",
       "      <th>pixel2350</th>\n",
       "      <th>pixel2351</th>\n",
       "      <th>label</th>\n",
       "    </tr>\n",
       "  </thead>\n",
       "  <tbody>\n",
       "    <tr>\n",
       "      <th>0</th>\n",
       "      <td>179.0</td>\n",
       "      <td>138.0</td>\n",
       "      <td>169.0</td>\n",
       "      <td>180.0</td>\n",
       "      <td>137.0</td>\n",
       "      <td>169.0</td>\n",
       "      <td>182.0</td>\n",
       "      <td>139.0</td>\n",
       "      <td>169.0</td>\n",
       "      <td>186.0</td>\n",
       "      <td>...</td>\n",
       "      <td>189.0</td>\n",
       "      <td>161.0</td>\n",
       "      <td>192.0</td>\n",
       "      <td>189.0</td>\n",
       "      <td>161.0</td>\n",
       "      <td>189.0</td>\n",
       "      <td>187.0</td>\n",
       "      <td>157.0</td>\n",
       "      <td>183.0</td>\n",
       "      <td>4.0</td>\n",
       "    </tr>\n",
       "    <tr>\n",
       "      <th>1</th>\n",
       "      <td>139.0</td>\n",
       "      <td>74.0</td>\n",
       "      <td>78.0</td>\n",
       "      <td>148.0</td>\n",
       "      <td>80.0</td>\n",
       "      <td>85.0</td>\n",
       "      <td>160.0</td>\n",
       "      <td>91.0</td>\n",
       "      <td>99.0</td>\n",
       "      <td>170.0</td>\n",
       "      <td>...</td>\n",
       "      <td>9.0</td>\n",
       "      <td>8.0</td>\n",
       "      <td>8.0</td>\n",
       "      <td>15.0</td>\n",
       "      <td>14.0</td>\n",
       "      <td>16.0</td>\n",
       "      <td>21.0</td>\n",
       "      <td>18.0</td>\n",
       "      <td>22.0</td>\n",
       "      <td>4.0</td>\n",
       "    </tr>\n",
       "    <tr>\n",
       "      <th>2</th>\n",
       "      <td>65.0</td>\n",
       "      <td>41.0</td>\n",
       "      <td>57.0</td>\n",
       "      <td>130.0</td>\n",
       "      <td>95.0</td>\n",
       "      <td>115.0</td>\n",
       "      <td>173.0</td>\n",
       "      <td>136.0</td>\n",
       "      <td>161.0</td>\n",
       "      <td>187.0</td>\n",
       "      <td>...</td>\n",
       "      <td>20.0</td>\n",
       "      <td>9.0</td>\n",
       "      <td>18.0</td>\n",
       "      <td>19.0</td>\n",
       "      <td>10.0</td>\n",
       "      <td>19.0</td>\n",
       "      <td>17.0</td>\n",
       "      <td>10.0</td>\n",
       "      <td>17.0</td>\n",
       "      <td>4.0</td>\n",
       "    </tr>\n",
       "    <tr>\n",
       "      <th>3</th>\n",
       "      <td>201.0</td>\n",
       "      <td>159.0</td>\n",
       "      <td>176.0</td>\n",
       "      <td>207.0</td>\n",
       "      <td>155.0</td>\n",
       "      <td>174.0</td>\n",
       "      <td>207.0</td>\n",
       "      <td>150.0</td>\n",
       "      <td>163.0</td>\n",
       "      <td>207.0</td>\n",
       "      <td>...</td>\n",
       "      <td>83.0</td>\n",
       "      <td>86.0</td>\n",
       "      <td>138.0</td>\n",
       "      <td>104.0</td>\n",
       "      <td>101.0</td>\n",
       "      <td>161.0</td>\n",
       "      <td>117.0</td>\n",
       "      <td>102.0</td>\n",
       "      <td>156.0</td>\n",
       "      <td>6.0</td>\n",
       "    </tr>\n",
       "    <tr>\n",
       "      <th>4</th>\n",
       "      <td>229.0</td>\n",
       "      <td>188.0</td>\n",
       "      <td>208.0</td>\n",
       "      <td>237.0</td>\n",
       "      <td>191.0</td>\n",
       "      <td>216.0</td>\n",
       "      <td>235.0</td>\n",
       "      <td>179.0</td>\n",
       "      <td>195.0</td>\n",
       "      <td>233.0</td>\n",
       "      <td>...</td>\n",
       "      <td>106.0</td>\n",
       "      <td>105.0</td>\n",
       "      <td>168.0</td>\n",
       "      <td>131.0</td>\n",
       "      <td>122.0</td>\n",
       "      <td>193.0</td>\n",
       "      <td>142.0</td>\n",
       "      <td>121.0</td>\n",
       "      <td>184.0</td>\n",
       "      <td>6.0</td>\n",
       "    </tr>\n",
       "    <tr>\n",
       "      <th>...</th>\n",
       "      <td>...</td>\n",
       "      <td>...</td>\n",
       "      <td>...</td>\n",
       "      <td>...</td>\n",
       "      <td>...</td>\n",
       "      <td>...</td>\n",
       "      <td>...</td>\n",
       "      <td>...</td>\n",
       "      <td>...</td>\n",
       "      <td>...</td>\n",
       "      <td>...</td>\n",
       "      <td>...</td>\n",
       "      <td>...</td>\n",
       "      <td>...</td>\n",
       "      <td>...</td>\n",
       "      <td>...</td>\n",
       "      <td>...</td>\n",
       "      <td>...</td>\n",
       "      <td>...</td>\n",
       "      <td>...</td>\n",
       "      <td>...</td>\n",
       "    </tr>\n",
       "    <tr>\n",
       "      <th>10010</th>\n",
       "      <td>26.0</td>\n",
       "      <td>17.0</td>\n",
       "      <td>27.0</td>\n",
       "      <td>52.0</td>\n",
       "      <td>38.0</td>\n",
       "      <td>51.0</td>\n",
       "      <td>47.0</td>\n",
       "      <td>32.0</td>\n",
       "      <td>45.0</td>\n",
       "      <td>38.0</td>\n",
       "      <td>...</td>\n",
       "      <td>37.0</td>\n",
       "      <td>24.0</td>\n",
       "      <td>36.0</td>\n",
       "      <td>54.0</td>\n",
       "      <td>37.0</td>\n",
       "      <td>51.0</td>\n",
       "      <td>41.0</td>\n",
       "      <td>28.0</td>\n",
       "      <td>41.0</td>\n",
       "      <td>2.0</td>\n",
       "    </tr>\n",
       "    <tr>\n",
       "      <th>10011</th>\n",
       "      <td>183.0</td>\n",
       "      <td>119.0</td>\n",
       "      <td>145.0</td>\n",
       "      <td>213.0</td>\n",
       "      <td>146.0</td>\n",
       "      <td>177.0</td>\n",
       "      <td>222.0</td>\n",
       "      <td>146.0</td>\n",
       "      <td>181.0</td>\n",
       "      <td>224.0</td>\n",
       "      <td>...</td>\n",
       "      <td>227.0</td>\n",
       "      <td>126.0</td>\n",
       "      <td>173.0</td>\n",
       "      <td>228.0</td>\n",
       "      <td>122.0</td>\n",
       "      <td>160.0</td>\n",
       "      <td>224.0</td>\n",
       "      <td>96.0</td>\n",
       "      <td>118.0</td>\n",
       "      <td>1.0</td>\n",
       "    </tr>\n",
       "    <tr>\n",
       "      <th>10012</th>\n",
       "      <td>245.0</td>\n",
       "      <td>129.0</td>\n",
       "      <td>140.0</td>\n",
       "      <td>247.0</td>\n",
       "      <td>129.0</td>\n",
       "      <td>142.0</td>\n",
       "      <td>248.0</td>\n",
       "      <td>132.0</td>\n",
       "      <td>139.0</td>\n",
       "      <td>248.0</td>\n",
       "      <td>...</td>\n",
       "      <td>234.0</td>\n",
       "      <td>129.0</td>\n",
       "      <td>131.0</td>\n",
       "      <td>230.0</td>\n",
       "      <td>122.0</td>\n",
       "      <td>127.0</td>\n",
       "      <td>226.0</td>\n",
       "      <td>120.0</td>\n",
       "      <td>122.0</td>\n",
       "      <td>4.0</td>\n",
       "    </tr>\n",
       "    <tr>\n",
       "      <th>10013</th>\n",
       "      <td>253.0</td>\n",
       "      <td>168.0</td>\n",
       "      <td>182.0</td>\n",
       "      <td>254.0</td>\n",
       "      <td>171.0</td>\n",
       "      <td>185.0</td>\n",
       "      <td>254.0</td>\n",
       "      <td>164.0</td>\n",
       "      <td>180.0</td>\n",
       "      <td>254.0</td>\n",
       "      <td>...</td>\n",
       "      <td>247.0</td>\n",
       "      <td>175.0</td>\n",
       "      <td>167.0</td>\n",
       "      <td>244.0</td>\n",
       "      <td>171.0</td>\n",
       "      <td>163.0</td>\n",
       "      <td>243.0</td>\n",
       "      <td>172.0</td>\n",
       "      <td>163.0</td>\n",
       "      <td>4.0</td>\n",
       "    </tr>\n",
       "    <tr>\n",
       "      <th>10014</th>\n",
       "      <td>221.0</td>\n",
       "      <td>191.0</td>\n",
       "      <td>198.0</td>\n",
       "      <td>229.0</td>\n",
       "      <td>200.0</td>\n",
       "      <td>207.0</td>\n",
       "      <td>237.0</td>\n",
       "      <td>206.0</td>\n",
       "      <td>210.0</td>\n",
       "      <td>241.0</td>\n",
       "      <td>...</td>\n",
       "      <td>253.0</td>\n",
       "      <td>210.0</td>\n",
       "      <td>210.0</td>\n",
       "      <td>249.0</td>\n",
       "      <td>202.0</td>\n",
       "      <td>203.0</td>\n",
       "      <td>245.0</td>\n",
       "      <td>207.0</td>\n",
       "      <td>208.0</td>\n",
       "      <td>6.0</td>\n",
       "    </tr>\n",
       "  </tbody>\n",
       "</table>\n",
       "<p>10015 rows × 2353 columns</p>\n",
       "</div>"
      ],
      "text/plain": [
       "       pixel0000  pixel0001  pixel0002  pixel0003  pixel0004  pixel0005  \\\n",
       "0          179.0      138.0      169.0      180.0      137.0      169.0   \n",
       "1          139.0       74.0       78.0      148.0       80.0       85.0   \n",
       "2           65.0       41.0       57.0      130.0       95.0      115.0   \n",
       "3          201.0      159.0      176.0      207.0      155.0      174.0   \n",
       "4          229.0      188.0      208.0      237.0      191.0      216.0   \n",
       "...          ...        ...        ...        ...        ...        ...   \n",
       "10010       26.0       17.0       27.0       52.0       38.0       51.0   \n",
       "10011      183.0      119.0      145.0      213.0      146.0      177.0   \n",
       "10012      245.0      129.0      140.0      247.0      129.0      142.0   \n",
       "10013      253.0      168.0      182.0      254.0      171.0      185.0   \n",
       "10014      221.0      191.0      198.0      229.0      200.0      207.0   \n",
       "\n",
       "       pixel0006  pixel0007  pixel0008  pixel0009  ...  pixel2343  pixel2344  \\\n",
       "0          182.0      139.0      169.0      186.0  ...      189.0      161.0   \n",
       "1          160.0       91.0       99.0      170.0  ...        9.0        8.0   \n",
       "2          173.0      136.0      161.0      187.0  ...       20.0        9.0   \n",
       "3          207.0      150.0      163.0      207.0  ...       83.0       86.0   \n",
       "4          235.0      179.0      195.0      233.0  ...      106.0      105.0   \n",
       "...          ...        ...        ...        ...  ...        ...        ...   \n",
       "10010       47.0       32.0       45.0       38.0  ...       37.0       24.0   \n",
       "10011      222.0      146.0      181.0      224.0  ...      227.0      126.0   \n",
       "10012      248.0      132.0      139.0      248.0  ...      234.0      129.0   \n",
       "10013      254.0      164.0      180.0      254.0  ...      247.0      175.0   \n",
       "10014      237.0      206.0      210.0      241.0  ...      253.0      210.0   \n",
       "\n",
       "       pixel2345  pixel2346  pixel2347  pixel2348  pixel2349  pixel2350  \\\n",
       "0          192.0      189.0      161.0      189.0      187.0      157.0   \n",
       "1            8.0       15.0       14.0       16.0       21.0       18.0   \n",
       "2           18.0       19.0       10.0       19.0       17.0       10.0   \n",
       "3          138.0      104.0      101.0      161.0      117.0      102.0   \n",
       "4          168.0      131.0      122.0      193.0      142.0      121.0   \n",
       "...          ...        ...        ...        ...        ...        ...   \n",
       "10010       36.0       54.0       37.0       51.0       41.0       28.0   \n",
       "10011      173.0      228.0      122.0      160.0      224.0       96.0   \n",
       "10012      131.0      230.0      122.0      127.0      226.0      120.0   \n",
       "10013      167.0      244.0      171.0      163.0      243.0      172.0   \n",
       "10014      210.0      249.0      202.0      203.0      245.0      207.0   \n",
       "\n",
       "       pixel2351  label  \n",
       "0          183.0    4.0  \n",
       "1           22.0    4.0  \n",
       "2           17.0    4.0  \n",
       "3          156.0    6.0  \n",
       "4          184.0    6.0  \n",
       "...          ...    ...  \n",
       "10010       41.0    2.0  \n",
       "10011      118.0    1.0  \n",
       "10012      122.0    4.0  \n",
       "10013      163.0    4.0  \n",
       "10014      208.0    6.0  \n",
       "\n",
       "[10015 rows x 2353 columns]"
      ]
     },
     "execution_count": 3,
     "metadata": {},
     "output_type": "execute_result"
    }
   ],
   "source": [
    "data"
   ]
  },
  {
   "cell_type": "code",
   "execution_count": 9,
   "id": "3d59c080-a474-4201-9ba7-c4bb2e650547",
   "metadata": {
    "execution": {
     "iopub.execute_input": "2025-06-03T14:12:36.386582Z",
     "iopub.status.busy": "2025-06-03T14:12:36.384885Z",
     "iopub.status.idle": "2025-06-03T14:12:36.556033Z",
     "shell.execute_reply": "2025-06-03T14:12:36.554325Z",
     "shell.execute_reply.started": "2025-06-03T14:12:36.386529Z"
    }
   },
   "outputs": [],
   "source": [
    "X = data.drop('label', axis=1)"
   ]
  },
  {
   "cell_type": "code",
   "execution_count": 10,
   "id": "e806fd3b-4fb8-496e-beba-abd86637dbf3",
   "metadata": {
    "execution": {
     "iopub.execute_input": "2025-06-03T14:12:36.749720Z",
     "iopub.status.busy": "2025-06-03T14:12:36.747528Z",
     "iopub.status.idle": "2025-06-03T14:12:36.759246Z",
     "shell.execute_reply": "2025-06-03T14:12:36.757593Z",
     "shell.execute_reply.started": "2025-06-03T14:12:36.749662Z"
    }
   },
   "outputs": [],
   "source": [
    "y = data['label']"
   ]
  },
  {
   "cell_type": "code",
   "execution_count": 11,
   "id": "1afeeddb-5c65-473d-8992-41c6e99173b8",
   "metadata": {
    "execution": {
     "iopub.execute_input": "2025-06-03T14:12:37.020232Z",
     "iopub.status.busy": "2025-06-03T14:12:37.018594Z",
     "iopub.status.idle": "2025-06-03T14:12:37.271267Z",
     "shell.execute_reply": "2025-06-03T14:12:37.269328Z",
     "shell.execute_reply.started": "2025-06-03T14:12:37.020174Z"
    }
   },
   "outputs": [],
   "source": [
    "X = X.values / 255.0 \n",
    "X = X.reshape(-1, 28, 28, 3)  \n"
   ]
  },
  {
   "cell_type": "code",
   "execution_count": 12,
   "id": "3fda1d62-1b98-4982-b8ae-d724bbcc4bd3",
   "metadata": {
    "execution": {
     "iopub.execute_input": "2025-06-03T14:12:37.273708Z",
     "iopub.status.busy": "2025-06-03T14:12:37.273390Z",
     "iopub.status.idle": "2025-06-03T14:12:37.751005Z",
     "shell.execute_reply": "2025-06-03T14:12:37.749463Z",
     "shell.execute_reply.started": "2025-06-03T14:12:37.273685Z"
    }
   },
   "outputs": [],
   "source": [
    "X_train, X_val, y_train, y_val = train_test_split(X, y, test_size=0.2, random_state=42)\n",
    "\n",
    "\n",
    "\n"
   ]
  },
  {
   "cell_type": "code",
   "execution_count": 13,
   "id": "061f62ff-5532-4588-9452-86b8bb5c7216",
   "metadata": {
    "execution": {
     "iopub.execute_input": "2025-06-03T14:12:37.752390Z",
     "iopub.status.busy": "2025-06-03T14:12:37.752153Z",
     "iopub.status.idle": "2025-06-03T14:12:37.759306Z",
     "shell.execute_reply": "2025-06-03T14:12:37.758628Z",
     "shell.execute_reply.started": "2025-06-03T14:12:37.752374Z"
    }
   },
   "outputs": [],
   "source": [
    "from tensorflow.keras.utils import to_categorical\n",
    "\n",
    "y_train = to_categorical(y_train, num_classes=7)\n",
    "y_val = to_categorical(y_val, num_classes=7)"
   ]
  },
  {
   "cell_type": "code",
   "execution_count": 14,
   "id": "d62f2819-6191-4c3e-a6f1-3460cb1a144b",
   "metadata": {
    "execution": {
     "iopub.execute_input": "2025-06-03T14:12:38.041940Z",
     "iopub.status.busy": "2025-06-03T14:12:38.041376Z",
     "iopub.status.idle": "2025-06-03T14:12:38.208129Z",
     "shell.execute_reply": "2025-06-03T14:12:38.207453Z",
     "shell.execute_reply.started": "2025-06-03T14:12:38.041909Z"
    }
   },
   "outputs": [
    {
     "name": "stderr",
     "output_type": "stream",
     "text": [
      "/home/vedutla/.pyenv/versions/3.12.9/envs/skin_scan_env/lib/python3.12/site-packages/keras/src/layers/convolutional/base_conv.py:113: UserWarning: Do not pass an `input_shape`/`input_dim` argument to a layer. When using Sequential models, prefer using an `Input(shape)` object as the first layer in the model instead.\n",
      "  super().__init__(activity_regularizer=activity_regularizer, **kwargs)\n",
      "2025-06-03 15:12:38.087858: E external/local_xla/xla/stream_executor/cuda/cuda_platform.cc:51] failed call to cuInit: INTERNAL: CUDA error: Failed call to cuInit: UNKNOWN ERROR (303)\n"
     ]
    },
    {
     "data": {
      "text/html": [
       "<pre style=\"white-space:pre;overflow-x:auto;line-height:normal;font-family:Menlo,'DejaVu Sans Mono',consolas,'Courier New',monospace\"><span style=\"font-weight: bold\">Model: \"sequential\"</span>\n",
       "</pre>\n"
      ],
      "text/plain": [
       "\u001b[1mModel: \"sequential\"\u001b[0m\n"
      ]
     },
     "metadata": {},
     "output_type": "display_data"
    },
    {
     "data": {
      "text/html": [
       "<pre style=\"white-space:pre;overflow-x:auto;line-height:normal;font-family:Menlo,'DejaVu Sans Mono',consolas,'Courier New',monospace\">┏━━━━━━━━━━━━━━━━━━━━━━━━━━━━━━━━━┳━━━━━━━━━━━━━━━━━━━━━━━━┳━━━━━━━━━━━━━━━┓\n",
       "┃<span style=\"font-weight: bold\"> Layer (type)                    </span>┃<span style=\"font-weight: bold\"> Output Shape           </span>┃<span style=\"font-weight: bold\">       Param # </span>┃\n",
       "┡━━━━━━━━━━━━━━━━━━━━━━━━━━━━━━━━━╇━━━━━━━━━━━━━━━━━━━━━━━━╇━━━━━━━━━━━━━━━┩\n",
       "│ conv2d (<span style=\"color: #0087ff; text-decoration-color: #0087ff\">Conv2D</span>)                 │ (<span style=\"color: #00d7ff; text-decoration-color: #00d7ff\">None</span>, <span style=\"color: #00af00; text-decoration-color: #00af00\">26</span>, <span style=\"color: #00af00; text-decoration-color: #00af00\">26</span>, <span style=\"color: #00af00; text-decoration-color: #00af00\">32</span>)     │           <span style=\"color: #00af00; text-decoration-color: #00af00\">896</span> │\n",
       "├─────────────────────────────────┼────────────────────────┼───────────────┤\n",
       "│ max_pooling2d (<span style=\"color: #0087ff; text-decoration-color: #0087ff\">MaxPooling2D</span>)    │ (<span style=\"color: #00d7ff; text-decoration-color: #00d7ff\">None</span>, <span style=\"color: #00af00; text-decoration-color: #00af00\">13</span>, <span style=\"color: #00af00; text-decoration-color: #00af00\">13</span>, <span style=\"color: #00af00; text-decoration-color: #00af00\">32</span>)     │             <span style=\"color: #00af00; text-decoration-color: #00af00\">0</span> │\n",
       "├─────────────────────────────────┼────────────────────────┼───────────────┤\n",
       "│ conv2d_1 (<span style=\"color: #0087ff; text-decoration-color: #0087ff\">Conv2D</span>)               │ (<span style=\"color: #00d7ff; text-decoration-color: #00d7ff\">None</span>, <span style=\"color: #00af00; text-decoration-color: #00af00\">11</span>, <span style=\"color: #00af00; text-decoration-color: #00af00\">11</span>, <span style=\"color: #00af00; text-decoration-color: #00af00\">64</span>)     │        <span style=\"color: #00af00; text-decoration-color: #00af00\">18,496</span> │\n",
       "├─────────────────────────────────┼────────────────────────┼───────────────┤\n",
       "│ max_pooling2d_1 (<span style=\"color: #0087ff; text-decoration-color: #0087ff\">MaxPooling2D</span>)  │ (<span style=\"color: #00d7ff; text-decoration-color: #00d7ff\">None</span>, <span style=\"color: #00af00; text-decoration-color: #00af00\">5</span>, <span style=\"color: #00af00; text-decoration-color: #00af00\">5</span>, <span style=\"color: #00af00; text-decoration-color: #00af00\">64</span>)       │             <span style=\"color: #00af00; text-decoration-color: #00af00\">0</span> │\n",
       "├─────────────────────────────────┼────────────────────────┼───────────────┤\n",
       "│ flatten (<span style=\"color: #0087ff; text-decoration-color: #0087ff\">Flatten</span>)               │ (<span style=\"color: #00d7ff; text-decoration-color: #00d7ff\">None</span>, <span style=\"color: #00af00; text-decoration-color: #00af00\">1600</span>)           │             <span style=\"color: #00af00; text-decoration-color: #00af00\">0</span> │\n",
       "├─────────────────────────────────┼────────────────────────┼───────────────┤\n",
       "│ dense (<span style=\"color: #0087ff; text-decoration-color: #0087ff\">Dense</span>)                   │ (<span style=\"color: #00d7ff; text-decoration-color: #00d7ff\">None</span>, <span style=\"color: #00af00; text-decoration-color: #00af00\">128</span>)            │       <span style=\"color: #00af00; text-decoration-color: #00af00\">204,928</span> │\n",
       "├─────────────────────────────────┼────────────────────────┼───────────────┤\n",
       "│ dropout (<span style=\"color: #0087ff; text-decoration-color: #0087ff\">Dropout</span>)               │ (<span style=\"color: #00d7ff; text-decoration-color: #00d7ff\">None</span>, <span style=\"color: #00af00; text-decoration-color: #00af00\">128</span>)            │             <span style=\"color: #00af00; text-decoration-color: #00af00\">0</span> │\n",
       "├─────────────────────────────────┼────────────────────────┼───────────────┤\n",
       "│ dense_1 (<span style=\"color: #0087ff; text-decoration-color: #0087ff\">Dense</span>)                 │ (<span style=\"color: #00d7ff; text-decoration-color: #00d7ff\">None</span>, <span style=\"color: #00af00; text-decoration-color: #00af00\">7</span>)              │           <span style=\"color: #00af00; text-decoration-color: #00af00\">903</span> │\n",
       "└─────────────────────────────────┴────────────────────────┴───────────────┘\n",
       "</pre>\n"
      ],
      "text/plain": [
       "┏━━━━━━━━━━━━━━━━━━━━━━━━━━━━━━━━━┳━━━━━━━━━━━━━━━━━━━━━━━━┳━━━━━━━━━━━━━━━┓\n",
       "┃\u001b[1m \u001b[0m\u001b[1mLayer (type)                   \u001b[0m\u001b[1m \u001b[0m┃\u001b[1m \u001b[0m\u001b[1mOutput Shape          \u001b[0m\u001b[1m \u001b[0m┃\u001b[1m \u001b[0m\u001b[1m      Param #\u001b[0m\u001b[1m \u001b[0m┃\n",
       "┡━━━━━━━━━━━━━━━━━━━━━━━━━━━━━━━━━╇━━━━━━━━━━━━━━━━━━━━━━━━╇━━━━━━━━━━━━━━━┩\n",
       "│ conv2d (\u001b[38;5;33mConv2D\u001b[0m)                 │ (\u001b[38;5;45mNone\u001b[0m, \u001b[38;5;34m26\u001b[0m, \u001b[38;5;34m26\u001b[0m, \u001b[38;5;34m32\u001b[0m)     │           \u001b[38;5;34m896\u001b[0m │\n",
       "├─────────────────────────────────┼────────────────────────┼───────────────┤\n",
       "│ max_pooling2d (\u001b[38;5;33mMaxPooling2D\u001b[0m)    │ (\u001b[38;5;45mNone\u001b[0m, \u001b[38;5;34m13\u001b[0m, \u001b[38;5;34m13\u001b[0m, \u001b[38;5;34m32\u001b[0m)     │             \u001b[38;5;34m0\u001b[0m │\n",
       "├─────────────────────────────────┼────────────────────────┼───────────────┤\n",
       "│ conv2d_1 (\u001b[38;5;33mConv2D\u001b[0m)               │ (\u001b[38;5;45mNone\u001b[0m, \u001b[38;5;34m11\u001b[0m, \u001b[38;5;34m11\u001b[0m, \u001b[38;5;34m64\u001b[0m)     │        \u001b[38;5;34m18,496\u001b[0m │\n",
       "├─────────────────────────────────┼────────────────────────┼───────────────┤\n",
       "│ max_pooling2d_1 (\u001b[38;5;33mMaxPooling2D\u001b[0m)  │ (\u001b[38;5;45mNone\u001b[0m, \u001b[38;5;34m5\u001b[0m, \u001b[38;5;34m5\u001b[0m, \u001b[38;5;34m64\u001b[0m)       │             \u001b[38;5;34m0\u001b[0m │\n",
       "├─────────────────────────────────┼────────────────────────┼───────────────┤\n",
       "│ flatten (\u001b[38;5;33mFlatten\u001b[0m)               │ (\u001b[38;5;45mNone\u001b[0m, \u001b[38;5;34m1600\u001b[0m)           │             \u001b[38;5;34m0\u001b[0m │\n",
       "├─────────────────────────────────┼────────────────────────┼───────────────┤\n",
       "│ dense (\u001b[38;5;33mDense\u001b[0m)                   │ (\u001b[38;5;45mNone\u001b[0m, \u001b[38;5;34m128\u001b[0m)            │       \u001b[38;5;34m204,928\u001b[0m │\n",
       "├─────────────────────────────────┼────────────────────────┼───────────────┤\n",
       "│ dropout (\u001b[38;5;33mDropout\u001b[0m)               │ (\u001b[38;5;45mNone\u001b[0m, \u001b[38;5;34m128\u001b[0m)            │             \u001b[38;5;34m0\u001b[0m │\n",
       "├─────────────────────────────────┼────────────────────────┼───────────────┤\n",
       "│ dense_1 (\u001b[38;5;33mDense\u001b[0m)                 │ (\u001b[38;5;45mNone\u001b[0m, \u001b[38;5;34m7\u001b[0m)              │           \u001b[38;5;34m903\u001b[0m │\n",
       "└─────────────────────────────────┴────────────────────────┴───────────────┘\n"
      ]
     },
     "metadata": {},
     "output_type": "display_data"
    },
    {
     "data": {
      "text/html": [
       "<pre style=\"white-space:pre;overflow-x:auto;line-height:normal;font-family:Menlo,'DejaVu Sans Mono',consolas,'Courier New',monospace\"><span style=\"font-weight: bold\"> Total params: </span><span style=\"color: #00af00; text-decoration-color: #00af00\">225,223</span> (879.78 KB)\n",
       "</pre>\n"
      ],
      "text/plain": [
       "\u001b[1m Total params: \u001b[0m\u001b[38;5;34m225,223\u001b[0m (879.78 KB)\n"
      ]
     },
     "metadata": {},
     "output_type": "display_data"
    },
    {
     "data": {
      "text/html": [
       "<pre style=\"white-space:pre;overflow-x:auto;line-height:normal;font-family:Menlo,'DejaVu Sans Mono',consolas,'Courier New',monospace\"><span style=\"font-weight: bold\"> Trainable params: </span><span style=\"color: #00af00; text-decoration-color: #00af00\">225,223</span> (879.78 KB)\n",
       "</pre>\n"
      ],
      "text/plain": [
       "\u001b[1m Trainable params: \u001b[0m\u001b[38;5;34m225,223\u001b[0m (879.78 KB)\n"
      ]
     },
     "metadata": {},
     "output_type": "display_data"
    },
    {
     "data": {
      "text/html": [
       "<pre style=\"white-space:pre;overflow-x:auto;line-height:normal;font-family:Menlo,'DejaVu Sans Mono',consolas,'Courier New',monospace\"><span style=\"font-weight: bold\"> Non-trainable params: </span><span style=\"color: #00af00; text-decoration-color: #00af00\">0</span> (0.00 B)\n",
       "</pre>\n"
      ],
      "text/plain": [
       "\u001b[1m Non-trainable params: \u001b[0m\u001b[38;5;34m0\u001b[0m (0.00 B)\n"
      ]
     },
     "metadata": {},
     "output_type": "display_data"
    }
   ],
   "source": [
    "model = Sequential([\n",
    "    Conv2D(32, (3, 3), activation='relu', input_shape=(28, 28, 3)),\n",
    "    MaxPooling2D(pool_size=(2, 2)),\n",
    "    Conv2D(64, (3, 3), activation='relu'),\n",
    "    MaxPooling2D(pool_size=(2, 2)),\n",
    "    Flatten(),\n",
    "    Dense(128, activation='relu'),\n",
    "    Dropout(0.5),\n",
    "    Dense(7, activation='softmax') \n",
    "])\n",
    "\n",
    "model.compile(optimizer='adam',\n",
    "              loss='categorical_crossentropy',\n",
    "              metrics=['accuracy'])\n",
    "\n",
    "\n",
    "model.summary()\n",
    "\n"
   ]
  },
  {
   "cell_type": "code",
   "execution_count": 15,
   "id": "b97e871e-0d95-4f2d-9f3d-f35220db3d92",
   "metadata": {
    "execution": {
     "iopub.execute_input": "2025-06-03T14:12:38.756412Z",
     "iopub.status.busy": "2025-06-03T14:12:38.755760Z",
     "iopub.status.idle": "2025-06-03T14:13:23.652127Z",
     "shell.execute_reply": "2025-06-03T14:13:23.651439Z",
     "shell.execute_reply.started": "2025-06-03T14:12:38.756336Z"
    }
   },
   "outputs": [
    {
     "name": "stdout",
     "output_type": "stream",
     "text": [
      "Epoch 1/20\n",
      "\u001b[1m251/251\u001b[0m \u001b[32m━━━━━━━━━━━━━━━━━━━━\u001b[0m\u001b[37m\u001b[0m \u001b[1m4s\u001b[0m 9ms/step - accuracy: 0.6566 - loss: 1.1703 - val_accuracy: 0.6680 - val_loss: 0.9365\n",
      "Epoch 2/20\n",
      "\u001b[1m251/251\u001b[0m \u001b[32m━━━━━━━━━━━━━━━━━━━━\u001b[0m\u001b[37m\u001b[0m \u001b[1m2s\u001b[0m 9ms/step - accuracy: 0.6866 - loss: 0.9334 - val_accuracy: 0.6780 - val_loss: 0.8841\n",
      "Epoch 3/20\n",
      "\u001b[1m251/251\u001b[0m \u001b[32m━━━━━━━━━━━━━━━━━━━━\u001b[0m\u001b[37m\u001b[0m \u001b[1m2s\u001b[0m 9ms/step - accuracy: 0.6819 - loss: 0.9091 - val_accuracy: 0.6815 - val_loss: 0.8640\n",
      "Epoch 4/20\n",
      "\u001b[1m251/251\u001b[0m \u001b[32m━━━━━━━━━━━━━━━━━━━━\u001b[0m\u001b[37m\u001b[0m \u001b[1m2s\u001b[0m 8ms/step - accuracy: 0.6919 - loss: 0.8583 - val_accuracy: 0.6960 - val_loss: 0.8231\n",
      "Epoch 5/20\n",
      "\u001b[1m251/251\u001b[0m \u001b[32m━━━━━━━━━━━━━━━━━━━━\u001b[0m\u001b[37m\u001b[0m \u001b[1m2s\u001b[0m 9ms/step - accuracy: 0.6981 - loss: 0.8363 - val_accuracy: 0.7054 - val_loss: 0.7924\n",
      "Epoch 6/20\n",
      "\u001b[1m251/251\u001b[0m \u001b[32m━━━━━━━━━━━━━━━━━━━━\u001b[0m\u001b[37m\u001b[0m \u001b[1m2s\u001b[0m 9ms/step - accuracy: 0.7079 - loss: 0.7995 - val_accuracy: 0.7124 - val_loss: 0.7941\n",
      "Epoch 7/20\n",
      "\u001b[1m251/251\u001b[0m \u001b[32m━━━━━━━━━━━━━━━━━━━━\u001b[0m\u001b[37m\u001b[0m \u001b[1m2s\u001b[0m 7ms/step - accuracy: 0.7075 - loss: 0.7992 - val_accuracy: 0.7224 - val_loss: 0.7604\n",
      "Epoch 8/20\n",
      "\u001b[1m251/251\u001b[0m \u001b[32m━━━━━━━━━━━━━━━━━━━━\u001b[0m\u001b[37m\u001b[0m \u001b[1m2s\u001b[0m 8ms/step - accuracy: 0.7176 - loss: 0.7682 - val_accuracy: 0.7199 - val_loss: 0.7933\n",
      "Epoch 9/20\n",
      "\u001b[1m251/251\u001b[0m \u001b[32m━━━━━━━━━━━━━━━━━━━━\u001b[0m\u001b[37m\u001b[0m \u001b[1m2s\u001b[0m 8ms/step - accuracy: 0.7196 - loss: 0.7521 - val_accuracy: 0.7409 - val_loss: 0.7200\n",
      "Epoch 10/20\n",
      "\u001b[1m251/251\u001b[0m \u001b[32m━━━━━━━━━━━━━━━━━━━━\u001b[0m\u001b[37m\u001b[0m \u001b[1m2s\u001b[0m 9ms/step - accuracy: 0.7306 - loss: 0.7335 - val_accuracy: 0.7429 - val_loss: 0.7151\n",
      "Epoch 11/20\n",
      "\u001b[1m251/251\u001b[0m \u001b[32m━━━━━━━━━━━━━━━━━━━━\u001b[0m\u001b[37m\u001b[0m \u001b[1m2s\u001b[0m 9ms/step - accuracy: 0.7446 - loss: 0.6945 - val_accuracy: 0.7339 - val_loss: 0.7286\n",
      "Epoch 12/20\n",
      "\u001b[1m251/251\u001b[0m \u001b[32m━━━━━━━━━━━━━━━━━━━━\u001b[0m\u001b[37m\u001b[0m \u001b[1m2s\u001b[0m 9ms/step - accuracy: 0.7384 - loss: 0.7061 - val_accuracy: 0.7459 - val_loss: 0.7050\n",
      "Epoch 13/20\n",
      "\u001b[1m251/251\u001b[0m \u001b[32m━━━━━━━━━━━━━━━━━━━━\u001b[0m\u001b[37m\u001b[0m \u001b[1m2s\u001b[0m 9ms/step - accuracy: 0.7415 - loss: 0.6827 - val_accuracy: 0.7354 - val_loss: 0.7394\n",
      "Epoch 14/20\n",
      "\u001b[1m251/251\u001b[0m \u001b[32m━━━━━━━━━━━━━━━━━━━━\u001b[0m\u001b[37m\u001b[0m \u001b[1m2s\u001b[0m 9ms/step - accuracy: 0.7467 - loss: 0.6797 - val_accuracy: 0.7509 - val_loss: 0.6872\n",
      "Epoch 15/20\n",
      "\u001b[1m251/251\u001b[0m \u001b[32m━━━━━━━━━━━━━━━━━━━━\u001b[0m\u001b[37m\u001b[0m \u001b[1m2s\u001b[0m 9ms/step - accuracy: 0.7545 - loss: 0.6535 - val_accuracy: 0.7464 - val_loss: 0.6935\n",
      "Epoch 16/20\n",
      "\u001b[1m251/251\u001b[0m \u001b[32m━━━━━━━━━━━━━━━━━━━━\u001b[0m\u001b[37m\u001b[0m \u001b[1m2s\u001b[0m 9ms/step - accuracy: 0.7638 - loss: 0.6369 - val_accuracy: 0.7549 - val_loss: 0.6835\n",
      "Epoch 17/20\n",
      "\u001b[1m251/251\u001b[0m \u001b[32m━━━━━━━━━━━━━━━━━━━━\u001b[0m\u001b[37m\u001b[0m \u001b[1m2s\u001b[0m 8ms/step - accuracy: 0.7655 - loss: 0.6315 - val_accuracy: 0.7668 - val_loss: 0.6610\n",
      "Epoch 18/20\n",
      "\u001b[1m251/251\u001b[0m \u001b[32m━━━━━━━━━━━━━━━━━━━━\u001b[0m\u001b[37m\u001b[0m \u001b[1m2s\u001b[0m 8ms/step - accuracy: 0.7678 - loss: 0.6405 - val_accuracy: 0.7289 - val_loss: 0.7177\n",
      "Epoch 19/20\n",
      "\u001b[1m251/251\u001b[0m \u001b[32m━━━━━━━━━━━━━━━━━━━━\u001b[0m\u001b[37m\u001b[0m \u001b[1m2s\u001b[0m 8ms/step - accuracy: 0.7628 - loss: 0.6437 - val_accuracy: 0.7564 - val_loss: 0.6615\n",
      "Epoch 20/20\n",
      "\u001b[1m251/251\u001b[0m \u001b[32m━━━━━━━━━━━━━━━━━━━━\u001b[0m\u001b[37m\u001b[0m \u001b[1m2s\u001b[0m 8ms/step - accuracy: 0.7765 - loss: 0.6004 - val_accuracy: 0.7614 - val_loss: 0.6714\n"
     ]
    }
   ],
   "source": [
    "history = model.fit(X_train, y_train,\n",
    "                    validation_data=(X_val, y_val),\n",
    "                    epochs=20,\n",
    "                    batch_size=32)\n"
   ]
  },
  {
   "cell_type": "code",
   "execution_count": 16,
   "id": "e8c64969-2f8d-46ab-8e9a-c856313c317f",
   "metadata": {
    "execution": {
     "iopub.execute_input": "2025-06-03T14:13:28.674560Z",
     "iopub.status.busy": "2025-06-03T14:13:28.673789Z",
     "iopub.status.idle": "2025-06-03T14:13:28.923811Z",
     "shell.execute_reply": "2025-06-03T14:13:28.923028Z",
     "shell.execute_reply.started": "2025-06-03T14:13:28.674500Z"
    }
   },
   "outputs": [
    {
     "data": {
      "image/png": "[encoded data removed]",
      "text/plain": [
       "<Figure size 640x480 with 1 Axes>"
      ]
     },
     "metadata": {},
     "output_type": "display_data"
    }
   ],
   "source": [
    "plt.plot(history.history['accuracy'], label='Train Accuracy')\n",
    "plt.plot(history.history['val_accuracy'], label='Val Accuracy')\n",
    "plt.title('CNN Training')\n",
    "plt.xlabel('Epoch')\n",
    "plt.ylabel('Accuracy')\n",
    "plt.legend()\n",
    "plt.show()\n"
   ]
  },
  {
   "cell_type": "code",
   "execution_count": null,
   "id": "3d511f8c-e4e1-4bca-88fa-1e6d697b5fd9",
   "metadata": {},
   "outputs": [],
   "source": []
  },
  {
   "cell_type": "code",
   "execution_count": null,
   "id": "0f299f7c-5dba-4fce-9003-b8dd1d2f2f4a",
   "metadata": {},
   "outputs": [],
   "source": []
  },
  {
   "cell_type": "code",
   "execution_count": null,
   "id": "9c597200-eb69-44c3-b315-2c436287aecb",
   "metadata": {},
   "outputs": [],
   "source": []
  },
  {
   "cell_type": "code",
   "execution_count": null,
   "id": "f79df325-04be-4662-b57d-79ba728b6115",
   "metadata": {},
   "outputs": [],
   "source": []
  }
 ],
 "metadata": {
  "kernelspec": {
   "display_name": "Python 3 (ipykernel)",
   "language": "python",
   "name": "python3"
  },
  "language_info": {
   "codemirror_mode": {
    "name": "ipython",
    "version": 3
   },
   "file_extension": ".py",
   "mimetype": "text/x-python",
   "name": "python",
   "nbconvert_exporter": "python",
   "pygments_lexer": "ipython3",
   "version": "3.12.9"
  }
 },
 "nbformat": 4,
 "nbformat_minor": 5
}
